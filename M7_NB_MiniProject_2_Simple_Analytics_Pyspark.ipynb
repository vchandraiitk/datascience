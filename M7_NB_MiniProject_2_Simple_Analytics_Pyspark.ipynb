{
  "nbformat": 4,
  "nbformat_minor": 5,
  "metadata": {
    "colab": {
      "provenance": [],
      "include_colab_link": true
    },
    "kernelspec": {
      "display_name": "Python 3",
      "language": "python",
      "name": "python3"
    },
    "language_info": {
      "codemirror_mode": {
        "name": "ipython",
        "version": 3
      },
      "file_extension": ".py",
      "mimetype": "text/x-python",
      "name": "python",
      "nbconvert_exporter": "python",
      "pygments_lexer": "ipython3",
      "version": "3.9.2"
    }
  },
  "cells": [
    {
      "cell_type": "markdown",
      "metadata": {
        "id": "view-in-github",
        "colab_type": "text"
      },
      "source": [
        "<a href=\"https://colab.research.google.com/github/vchandraiitk/datascience/blob/main/M7_NB_MiniProject_2_Simple_Analytics_Pyspark.ipynb\" target=\"_parent\"><img src=\"https://colab.research.google.com/assets/colab-badge.svg\" alt=\"Open In Colab\"/></a>"
      ]
    },
    {
      "cell_type": "markdown",
      "metadata": {
        "id": "hired-advertising"
      },
      "source": [
        "# Advanced Certification Program in Computational Data Science\n",
        "## A program by IISc and TalentSprint\n",
        "### Mini-Project: Simple Analytics using Pyspark"
      ],
      "id": "hired-advertising"
    },
    {
      "cell_type": "markdown",
      "metadata": {
        "id": "welsh-arabic"
      },
      "source": [
        "## Problem Statement"
      ],
      "id": "welsh-arabic"
    },
    {
      "cell_type": "markdown",
      "metadata": {
        "id": "unknown-crash"
      },
      "source": [
        "Perform simple analytics with Pyspark on the real estate valuation dataset and predict the house price per unit area"
      ],
      "id": "unknown-crash"
    },
    {
      "cell_type": "markdown",
      "metadata": {
        "id": "multiple-poker"
      },
      "source": [
        "## Learning Objectives"
      ],
      "id": "multiple-poker"
    },
    {
      "cell_type": "markdown",
      "metadata": {
        "id": "congressional-statement"
      },
      "source": [
        "At the end of the mini-project, you will be able to :\n",
        "\n",
        "* analyze the data using pyspark\n",
        "* derive the insights and visualize the data\n",
        "* implement linear regression and evaluate using pyspark"
      ],
      "id": "congressional-statement"
    },
    {
      "cell_type": "markdown",
      "metadata": {
        "id": "pleasant-tuesday"
      },
      "source": [
        "### Dataset"
      ],
      "id": "pleasant-tuesday"
    },
    {
      "cell_type": "markdown",
      "metadata": {
        "id": "reverse-circumstances"
      },
      "source": [
        "The dataset chosen for this mini-project is **Real Estate Valuation dataset**. The data was collected from the historical market of real estate within Sindian District of New Taipei City, the timespan across 2012 August to 2013 July. In the dataset, the response variable (house price per unit area) is calculated in a local unit which is approximately $10000 New Taipei Dollar per 3.3 squared meters. For the collection of regressor data, the transaction dates are transformed into a format such that 2013.250 = 2013 March, 2013.500 = 2013 June etc. The house age was collected in years and the distance to MRT stations is measured in meters.\n",
        "\n",
        "**Reference:**\n",
        "The original owner of this Real Estate Valuation dataset is professor I-Cheng Yeh from TamKang University (Department of Civil Engineering). Prof. Yeh donated this dataset to UCI machine learning repository on 18th August 2018. The dataset can be accessed at https://archive.ics.uci.edu/ml/datasets/Real+estate+valuation+data+set#[1]."
      ],
      "id": "reverse-circumstances"
    },
    {
      "cell_type": "markdown",
      "metadata": {
        "id": "african-police"
      },
      "source": [
        "## Grading = 10 Points"
      ],
      "id": "african-police"
    },
    {
      "cell_type": "markdown",
      "metadata": {
        "id": "voluntary-puppy"
      },
      "source": [
        "#### Install Pyspark"
      ],
      "id": "voluntary-puppy"
    },
    {
      "cell_type": "code",
      "metadata": {
        "id": "-1bcrDxx3FHC",
        "cellView": "form",
        "outputId": "cb594c93-1780-4f87-d4b6-ea3624f99398",
        "colab": {
          "base_uri": "https://localhost:8080/",
          "height": 603
        }
      },
      "source": [
        "#@title Install pyspark and Download the data\n",
        "!pip -qq install pyspark\n",
        "!pip -qq install handyspark\n",
        "!pip install numpy==1.23.0\n",
        "!wget -qq https://cdn.iisc.talentsprint.com/CDS/MiniProjects/RealEstate.csv\n",
        "print(\"Packages installed and dataset downloaded successfully!\")"
      ],
      "id": "-1bcrDxx3FHC",
      "execution_count": 1,
      "outputs": [
        {
          "output_type": "stream",
          "name": "stdout",
          "text": [
            "Collecting numpy==1.23.0\n",
            "  Downloading numpy-1.23.0-cp310-cp310-manylinux_2_17_x86_64.manylinux2014_x86_64.whl.metadata (2.2 kB)\n",
            "Downloading numpy-1.23.0-cp310-cp310-manylinux_2_17_x86_64.manylinux2014_x86_64.whl (17.0 MB)\n",
            "\u001b[2K   \u001b[90m━━━━━━━━━━━━━━━━━━━━━━━━━━━━━━━━━━━━━━━━\u001b[0m \u001b[32m17.0/17.0 MB\u001b[0m \u001b[31m71.3 MB/s\u001b[0m eta \u001b[36m0:00:00\u001b[0m\n",
            "\u001b[?25hInstalling collected packages: numpy\n",
            "  Attempting uninstall: numpy\n",
            "    Found existing installation: numpy 1.26.4\n",
            "    Uninstalling numpy-1.26.4:\n",
            "      Successfully uninstalled numpy-1.26.4\n",
            "\u001b[31mERROR: pip's dependency resolver does not currently take into account all the packages that are installed. This behaviour is the source of the following dependency conflicts.\n",
            "albucore 0.0.19 requires numpy>=1.24.4, but you have numpy 1.23.0 which is incompatible.\n",
            "albumentations 1.4.20 requires numpy>=1.24.4, but you have numpy 1.23.0 which is incompatible.\n",
            "bigframes 1.30.0 requires numpy>=1.24.0, but you have numpy 1.23.0 which is incompatible.\n",
            "chex 0.1.88 requires numpy>=1.24.1, but you have numpy 1.23.0 which is incompatible.\n",
            "ibis-framework 9.2.0 requires numpy<3,>=1.23.2, but you have numpy 1.23.0 which is incompatible.\n",
            "imbalanced-learn 0.13.0 requires numpy<3,>=1.24.3, but you have numpy 1.23.0 which is incompatible.\n",
            "jax 0.4.33 requires numpy>=1.24, but you have numpy 1.23.0 which is incompatible.\n",
            "jaxlib 0.4.33 requires numpy>=1.24, but you have numpy 1.23.0 which is incompatible.\n",
            "mizani 0.13.1 requires numpy>=1.23.5, but you have numpy 1.23.0 which is incompatible.\n",
            "pandas-stubs 2.2.2.240909 requires numpy>=1.23.5, but you have numpy 1.23.0 which is incompatible.\n",
            "plotnine 0.14.5 requires numpy>=1.23.5, but you have numpy 1.23.0 which is incompatible.\n",
            "pymc 5.19.1 requires numpy>=1.25.0, but you have numpy 1.23.0 which is incompatible.\n",
            "scikit-image 0.25.0 requires numpy>=1.24, but you have numpy 1.23.0 which is incompatible.\n",
            "tensorflow 2.17.1 requires numpy<2.0.0,>=1.23.5; python_version <= \"3.11\", but you have numpy 1.23.0 which is incompatible.\n",
            "xarray 2025.1.0 requires numpy>=1.24, but you have numpy 1.23.0 which is incompatible.\u001b[0m\u001b[31m\n",
            "\u001b[0mSuccessfully installed numpy-1.23.0\n"
          ]
        },
        {
          "output_type": "display_data",
          "data": {
            "application/vnd.colab-display-data+json": {
              "pip_warning": {
                "packages": [
                  "numpy"
                ]
              },
              "id": "c534dd8cda184c749745bb726a02fd58"
            }
          },
          "metadata": {}
        },
        {
          "output_type": "stream",
          "name": "stdout",
          "text": [
            "Packages installed and dataset downloaded successfully!\n"
          ]
        }
      ]
    },
    {
      "cell_type": "markdown",
      "metadata": {
        "id": "protected-point"
      },
      "source": [
        "#### Import required packages"
      ],
      "id": "protected-point"
    },
    {
      "cell_type": "code",
      "metadata": {
        "id": "handy-decrease"
      },
      "source": [
        "from pyspark.sql import SparkSession\n",
        "from pyspark.sql.functions import *\n",
        "from pyspark.ml.feature import VectorAssembler\n",
        "from pyspark.ml.regression import LinearRegression\n",
        "from pyspark.ml.feature import MinMaxScaler\n",
        "from handyspark import *\n",
        "import seaborn as sns\n",
        "from matplotlib import pyplot as plt"
      ],
      "id": "handy-decrease",
      "execution_count": 1,
      "outputs": []
    },
    {
      "cell_type": "markdown",
      "metadata": {
        "id": "compatible-richardson"
      },
      "source": [
        "### Data Loading (1 point)"
      ],
      "id": "compatible-richardson"
    },
    {
      "cell_type": "markdown",
      "metadata": {
        "id": "1-JqQmojhbz0"
      },
      "source": [
        "#### Start a Spark Session\n",
        "\n",
        "Spark session is a combined entry point of a Spark application, which came into implementation from Spark 2.0. It provides a way to interact with various spark’s functionality with a lesser number of constructs."
      ],
      "id": "1-JqQmojhbz0"
    },
    {
      "cell_type": "code",
      "metadata": {
        "id": "focused-spring"
      },
      "source": [
        "spark = SparkSession.builder.appName('RealEstate').getOrCreate()"
      ],
      "id": "focused-spring",
      "execution_count": 2,
      "outputs": []
    },
    {
      "cell_type": "markdown",
      "metadata": {
        "id": "dZoSz4Dx4-S_"
      },
      "source": [
        "#### Load the data and infer the schema\n",
        "\n",
        "To load the dataset use the `read.csv` with `inferSchema` and `header` as parameters."
      ],
      "id": "dZoSz4Dx4-S_"
    },
    {
      "cell_type": "code",
      "metadata": {
        "id": "universal-minutes"
      },
      "source": [
        "csv_path = \"/content/RealEstate.csv\"\n",
        "# YOUR CODE HERE\n",
        "dataset = spark.read.csv(csv_path, inferSchema=True, header=True)"
      ],
      "id": "universal-minutes",
      "execution_count": 4,
      "outputs": []
    },
    {
      "cell_type": "markdown",
      "metadata": {
        "id": "described-boutique"
      },
      "source": [
        "#### Fetch the data using handyspark\n",
        "\n",
        "* Create a HandyFrame using handyspark `toHandy()` function\n",
        "\n",
        "* using an instance of `cols` from your HandyFrame, you can retrieve values for given columns in the top N rows\n",
        "\n",
        "Hint: [toHandy()](https://dvgodoy.github.io/handyspark/includeme.html)"
      ],
      "id": "described-boutique"
    },
    {
      "cell_type": "code",
      "metadata": {
        "id": "handmade-concrete",
        "outputId": "a8c84990-3094-4d09-e78d-2df6920d1452",
        "colab": {
          "base_uri": "https://localhost:8080/"
        }
      },
      "source": [
        "# YOUR CODE HERE\n",
        "handyFrame = dataset.toHandy()\n",
        "handyFrame.show(5)"
      ],
      "id": "handmade-concrete",
      "execution_count": 12,
      "outputs": [
        {
          "output_type": "stream",
          "name": "stdout",
          "text": [
            "+---+-------------------+------------+--------------------------------------+-------------------------------+-----------+------------+--------------------------+\n",
            "| No|X1 transaction date|X2 house age|X3 distance to the nearest MRT station|X4 number of convenience stores|X5 latitude|X6 longitude|Y house price of unit area|\n",
            "+---+-------------------+------------+--------------------------------------+-------------------------------+-----------+------------+--------------------------+\n",
            "|  1|           2012.917|        32.0|                              84.87882|                             10|   24.98298|   121.54024|                      37.9|\n",
            "|  2|           2012.917|        19.5|                              306.5947|                              9|   24.98034|   121.53951|                      42.2|\n",
            "|  3|           2013.583|        13.3|                              561.9845|                              5|   24.98746|   121.54391|                      47.3|\n",
            "|  4|             2013.5|        13.3|                              561.9845|                              5|   24.98746|   121.54391|                      54.8|\n",
            "|  5|           2012.833|         5.0|                              390.5684|                              5|   24.97937|   121.54245|                      43.1|\n",
            "+---+-------------------+------------+--------------------------------------+-------------------------------+-----------+------------+--------------------------+\n",
            "only showing top 5 rows\n",
            "\n"
          ]
        }
      ]
    },
    {
      "cell_type": "markdown",
      "metadata": {
        "id": "equivalent-anthropology"
      },
      "source": [
        "### Deriving the insights (2 points)"
      ],
      "id": "equivalent-anthropology"
    },
    {
      "cell_type": "markdown",
      "metadata": {
        "id": "spare-gather"
      },
      "source": [
        "#### show the no. of records per month\n",
        "\n",
        "Hint: Apply [groupby](https://spark.apache.org/docs/latest/api/python/reference/pyspark.sql/api/pyspark.sql.GroupedData.agg.html) on transaction date and count the records using aggregation `agg()`"
      ],
      "id": "spare-gather"
    },
    {
      "cell_type": "code",
      "metadata": {
        "id": "spoken-nickname",
        "outputId": "0a8731ae-9bc4-4073-e0e8-5e6cdc5b2540",
        "colab": {
          "base_uri": "https://localhost:8080/"
        }
      },
      "source": [
        "# YOUR CODE HERE\n",
        "dataset.groupBy(\"X1 transaction date\").agg(count(\"X1 transaction date\")).show()"
      ],
      "id": "spoken-nickname",
      "execution_count": 14,
      "outputs": [
        {
          "output_type": "stream",
          "name": "stdout",
          "text": [
            "+-------------------+--------------------------+\n",
            "|X1 transaction date|count(X1 transaction date)|\n",
            "+-------------------+--------------------------+\n",
            "|            2012.75|                        27|\n",
            "|           2013.333|                        29|\n",
            "|           2013.083|                        46|\n",
            "|           2012.833|                        31|\n",
            "|             2013.5|                        47|\n",
            "|           2013.583|                        23|\n",
            "|           2013.417|                        58|\n",
            "|           2013.167|                        25|\n",
            "|            2013.25|                        32|\n",
            "|             2013.0|                        28|\n",
            "|           2012.917|                        38|\n",
            "|           2012.667|                        30|\n",
            "+-------------------+--------------------------+\n",
            "\n"
          ]
        }
      ]
    },
    {
      "cell_type": "markdown",
      "metadata": {
        "id": "geological-trail"
      },
      "source": [
        "#### how much is the increase in the average house price in 2012 to 2013\n",
        "\n",
        "Hint: Apply [filter](https://spark.apache.org/docs/latest/api/python/reference/api/pyspark.sql.DataFrame.filter.html) on the transaction date and aggregate the house price using mean"
      ],
      "id": "geological-trail"
    },
    {
      "cell_type": "code",
      "source": [
        "dataset.printSchema()"
      ],
      "metadata": {
        "id": "d9Y110AJUCNM",
        "outputId": "cd25df89-331c-46cf-91b9-a53d19f42b3f",
        "colab": {
          "base_uri": "https://localhost:8080/"
        }
      },
      "id": "d9Y110AJUCNM",
      "execution_count": 22,
      "outputs": [
        {
          "output_type": "stream",
          "name": "stdout",
          "text": [
            "root\n",
            " |-- No: integer (nullable = true)\n",
            " |-- X1 transaction date: double (nullable = true)\n",
            " |-- X2 house age: double (nullable = true)\n",
            " |-- X3 distance to the nearest MRT station: double (nullable = true)\n",
            " |-- X4 number of convenience stores: integer (nullable = true)\n",
            " |-- X5 latitude: double (nullable = true)\n",
            " |-- X6 longitude: double (nullable = true)\n",
            " |-- Y house price of unit area: double (nullable = true)\n",
            "\n"
          ]
        }
      ]
    },
    {
      "cell_type": "code",
      "metadata": {
        "id": "educated-double",
        "outputId": "2c753150-2f94-45c8-fec7-5895346d66e5",
        "colab": {
          "base_uri": "https://localhost:8080/"
        }
      },
      "source": [
        "# YOUR CODE HERE\n",
        "from pyspark.sql.types import IntegerType # Import IntegerType\n",
        "\n",
        "avg_2012 = dataset.filter(dataset[\"X1 transaction date\"].cast(IntegerType()) == 2012).agg(avg(\"Y house price of unit area\")).collect()\n",
        "avg_2013 = dataset.filter(dataset[\"X1 transaction date\"].cast(IntegerType()) == 2013).agg(avg(\"Y house price of unit area\")).collect()\n",
        "avg_2013[0][0] - avg_2012[0][0]"
      ],
      "id": "educated-double",
      "execution_count": 31,
      "outputs": [
        {
          "output_type": "execute_result",
          "data": {
            "text/plain": [
              "2.4084325396825506"
            ]
          },
          "metadata": {},
          "execution_count": 31
        }
      ]
    },
    {
      "cell_type": "markdown",
      "metadata": {
        "id": "addressed-scratch"
      },
      "source": [
        "#### Find the count of houses with no convenience store and show the top 10 records"
      ],
      "id": "addressed-scratch"
    },
    {
      "cell_type": "code",
      "metadata": {
        "id": "strange-democracy",
        "outputId": "a6f9ed77-c261-4d53-9869-8f668dcaae77",
        "colab": {
          "base_uri": "https://localhost:8080/"
        }
      },
      "source": [
        "# YOUR CODE HERE\n",
        "dataset.filter(dataset[\"X4 number of convenience stores\"] == 0).count()"
      ],
      "id": "strange-democracy",
      "execution_count": 33,
      "outputs": [
        {
          "output_type": "execute_result",
          "data": {
            "text/plain": [
              "67"
            ]
          },
          "metadata": {},
          "execution_count": 33
        }
      ]
    },
    {
      "cell_type": "markdown",
      "metadata": {
        "id": "conditional-fraud"
      },
      "source": [
        "#### Compare the maximum price of houses *with convenient store* and *without convenience store*"
      ],
      "id": "conditional-fraud"
    },
    {
      "cell_type": "code",
      "metadata": {
        "id": "abstract-philadelphia",
        "outputId": "30f863dc-db75-4172-bc06-1042e0a8959f",
        "colab": {
          "base_uri": "https://localhost:8080/"
        }
      },
      "source": [
        "# YOUR CODE HERE\n",
        "max = dataset.groupBy(\"X4 number of convenience stores\").agg(max(\"Y house price of unit area\")).show()\n",
        "min = dataset.groupBy(\"X4 number of convenience stores\").agg(min(\"Y house price of unit area\")).show()\n",
        "min, max"
      ],
      "id": "abstract-philadelphia",
      "execution_count": 34,
      "outputs": [
        {
          "output_type": "stream",
          "name": "stdout",
          "text": [
            "+-------------------------------+-------------------------------+\n",
            "|X4 number of convenience stores|max(Y house price of unit area)|\n",
            "+-------------------------------+-------------------------------+\n",
            "|                              1|                          117.5|\n",
            "|                              6|                           73.6|\n",
            "|                              3|                           61.5|\n",
            "|                              5|                           60.7|\n",
            "|                              9|                           78.3|\n",
            "|                              4|                           62.9|\n",
            "|                              8|                           67.7|\n",
            "|                              7|                           62.1|\n",
            "|                             10|                           61.9|\n",
            "|                              2|                           50.5|\n",
            "|                              0|                           55.3|\n",
            "+-------------------------------+-------------------------------+\n",
            "\n",
            "+-------------------------------+-------------------------------+\n",
            "|X4 number of convenience stores|min(Y house price of unit area)|\n",
            "+-------------------------------+-------------------------------+\n",
            "|                              1|                           11.2|\n",
            "|                              6|                            7.6|\n",
            "|                              3|                           17.7|\n",
            "|                              5|                           22.8|\n",
            "|                              9|                           32.4|\n",
            "|                              4|                           21.8|\n",
            "|                              8|                           26.5|\n",
            "|                              7|                           25.0|\n",
            "|                             10|                           37.9|\n",
            "|                              2|                           20.9|\n",
            "|                              0|                           11.6|\n",
            "+-------------------------------+-------------------------------+\n",
            "\n"
          ]
        },
        {
          "output_type": "execute_result",
          "data": {
            "text/plain": [
              "(None, None)"
            ]
          },
          "metadata": {},
          "execution_count": 34
        }
      ]
    },
    {
      "cell_type": "markdown",
      "metadata": {
        "id": "jqrJnrxt-HKE"
      },
      "source": [
        "#### Decode the transaction date\n",
        "\n",
        "* create a year column separately by removing the decimal places from transaction date column\n",
        "\n",
        "    Hint: `withColumn()`\n",
        "\n",
        "* create a month column separately based on the decimal places from the transaction date column\n",
        "\n",
        " **Hints:** multiply decimal place number with 12 and apply round off, perform below steps\n",
        "     \n",
        "     - use `udf()` from pyspark\n",
        "     - subtracting `transaction date` from `int(transaction date)` will give the decimal place number\n",
        "     - multiply the result with 12 and roundoff\n",
        "\n",
        "To know more about udf(), click [here](https://spark.apache.org/docs/latest/api/python/reference/pyspark.sql/api/pyspark.sql.functions.udf.html)"
      ],
      "id": "jqrJnrxt-HKE"
    },
    {
      "cell_type": "code",
      "metadata": {
        "id": "dependent-restriction"
      },
      "source": [
        "# YOUR CODE HERE"
      ],
      "id": "dependent-restriction",
      "execution_count": null,
      "outputs": []
    },
    {
      "cell_type": "markdown",
      "metadata": {
        "id": "established-television"
      },
      "source": [
        "### Data Visualization (2 points)"
      ],
      "id": "established-television"
    },
    {
      "cell_type": "markdown",
      "metadata": {
        "id": "natural-hughes"
      },
      "source": [
        "#### Select the continuous variables from the data and visualize using histogram"
      ],
      "id": "natural-hughes"
    },
    {
      "cell_type": "code",
      "metadata": {
        "id": "present-challenge"
      },
      "source": [
        "# YOUR CODE HERE"
      ],
      "id": "present-challenge",
      "execution_count": null,
      "outputs": []
    },
    {
      "cell_type": "markdown",
      "metadata": {
        "id": "developed-remedy"
      },
      "source": [
        "#### Visualize the transaction date using the countplot"
      ],
      "id": "developed-remedy"
    },
    {
      "cell_type": "code",
      "metadata": {
        "id": "protected-science"
      },
      "source": [
        "# YOUR CODE HERE"
      ],
      "id": "protected-science",
      "execution_count": null,
      "outputs": []
    },
    {
      "cell_type": "markdown",
      "metadata": {
        "id": "normal-creek"
      },
      "source": [
        "#### visualize number of convenience stores with appropriate plot."
      ],
      "id": "normal-creek"
    },
    {
      "cell_type": "code",
      "metadata": {
        "id": "harmful-parameter"
      },
      "source": [
        "# YOUR CODE HERE"
      ],
      "id": "harmful-parameter",
      "execution_count": null,
      "outputs": []
    },
    {
      "cell_type": "markdown",
      "metadata": {
        "id": "geographic-praise"
      },
      "source": [
        "#### visualize the geographical distribution of the house prices of unit area\n",
        "\n",
        "With:\n",
        "\n",
        "* x-axis = X6 longitude\n",
        "* y-axis = X5 latitude\n",
        "* datapoints = Y house price of unit area\n",
        "* parameters including size `s` and color map `cmap`"
      ],
      "id": "geographic-praise"
    },
    {
      "cell_type": "code",
      "metadata": {
        "id": "varying-motel"
      },
      "source": [
        "# YOUR CODE HERE"
      ],
      "id": "varying-motel",
      "execution_count": null,
      "outputs": []
    },
    {
      "cell_type": "markdown",
      "metadata": {
        "id": "sharp-alert"
      },
      "source": [
        "### Feature Scaling (1 point)"
      ],
      "id": "sharp-alert"
    },
    {
      "cell_type": "markdown",
      "metadata": {
        "id": "right-anthropology"
      },
      "source": [
        "#### Identify the outliers\n",
        "\n",
        "Use the pairplot or boxplot to identify the outliers\n",
        "\n",
        "   **Hint:** `sns.pairplot`"
      ],
      "id": "right-anthropology"
    },
    {
      "cell_type": "code",
      "metadata": {
        "id": "exceptional-promotion"
      },
      "source": [
        "# YOUR CODE HERE"
      ],
      "id": "exceptional-promotion",
      "execution_count": null,
      "outputs": []
    },
    {
      "cell_type": "markdown",
      "metadata": {
        "id": "accessible-absolute"
      },
      "source": [
        "#### Correlation analysis\n",
        "\n",
        "create the correlation matrix of all the columns and visualize using the heatmap"
      ],
      "id": "accessible-absolute"
    },
    {
      "cell_type": "code",
      "metadata": {
        "id": "arbitrary-albania"
      },
      "source": [
        "# YOUR CODE HERE"
      ],
      "id": "arbitrary-albania",
      "execution_count": null,
      "outputs": []
    },
    {
      "cell_type": "markdown",
      "metadata": {
        "id": "experimental-breeding"
      },
      "source": [
        "#### Normalization or standardization\n",
        "\n",
        "select the applicable features using vector assembler and apply scaling using `MinMaxScaler` from pyspark\n",
        "\n",
        "Hint: [MinMaxScaler](https://spark.apache.org/docs/latest/ml-features#minmaxscaler)"
      ],
      "id": "experimental-breeding"
    },
    {
      "cell_type": "code",
      "metadata": {
        "id": "enabling-rwanda"
      },
      "source": [
        "# YOUR CODE HERE"
      ],
      "id": "enabling-rwanda",
      "execution_count": null,
      "outputs": []
    },
    {
      "cell_type": "markdown",
      "metadata": {
        "id": "looking-ordinance"
      },
      "source": [
        "### Feature Engineering (2 points)"
      ],
      "id": "looking-ordinance"
    },
    {
      "cell_type": "markdown",
      "metadata": {
        "id": "several-popularity"
      },
      "source": [
        "#### Assemble the features\n",
        "\n",
        "concatenate all the features into a single vector which can be further passed to the ML algorithm.\n",
        "\n",
        "**Hint:** `VectorAssembler()`"
      ],
      "id": "several-popularity"
    },
    {
      "cell_type": "code",
      "metadata": {
        "id": "shaped-transaction"
      },
      "source": [
        "# YOUR CODE HERE"
      ],
      "id": "shaped-transaction",
      "execution_count": null,
      "outputs": []
    },
    {
      "cell_type": "markdown",
      "metadata": {
        "id": "extra-negative"
      },
      "source": [
        "#### Feature selection and splitting the data"
      ],
      "id": "extra-negative"
    },
    {
      "cell_type": "code",
      "metadata": {
        "id": "occupied-depth"
      },
      "source": [
        "# YOUR CODE HERE"
      ],
      "id": "occupied-depth",
      "execution_count": null,
      "outputs": []
    },
    {
      "cell_type": "markdown",
      "metadata": {
        "id": "varied-progressive"
      },
      "source": [
        "### Train and Evaluate the model (2 points)"
      ],
      "id": "varied-progressive"
    },
    {
      "cell_type": "markdown",
      "metadata": {
        "id": "motivated-compiler"
      },
      "source": [
        "Using LinearRegression from `pyspark.ml` fit the data and find the coefficients and intercept"
      ],
      "id": "motivated-compiler"
    },
    {
      "cell_type": "code",
      "metadata": {
        "id": "close-compact"
      },
      "source": [
        "regressor = LinearRegression(featuresCol='features', labelCol='label')"
      ],
      "id": "close-compact",
      "execution_count": null,
      "outputs": []
    },
    {
      "cell_type": "code",
      "metadata": {
        "id": "advised-forth"
      },
      "source": [
        "# YOUR CODE HERE"
      ],
      "id": "advised-forth",
      "execution_count": null,
      "outputs": []
    },
    {
      "cell_type": "markdown",
      "metadata": {
        "id": "pressing-sitting"
      },
      "source": [
        "Get the predictions and show the table along with actual data and predicted data"
      ],
      "id": "pressing-sitting"
    },
    {
      "cell_type": "code",
      "metadata": {
        "id": "minute-encoding"
      },
      "source": [
        "# YOUR CODE HERE"
      ],
      "id": "minute-encoding",
      "execution_count": null,
      "outputs": []
    },
    {
      "cell_type": "markdown",
      "metadata": {
        "id": "living-mistake"
      },
      "source": [
        "Calculate the RMSE and $R^2$ of the model"
      ],
      "id": "living-mistake"
    },
    {
      "cell_type": "code",
      "metadata": {
        "id": "metric-bench"
      },
      "source": [
        "# YOUR CODE HERE"
      ],
      "id": "metric-bench",
      "execution_count": null,
      "outputs": []
    }
  ]
}