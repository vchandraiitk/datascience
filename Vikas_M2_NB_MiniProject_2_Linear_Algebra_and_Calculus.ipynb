{
  "nbformat": 4,
  "nbformat_minor": 0,
  "metadata": {
    "colab": {
      "provenance": [],
      "include_colab_link": true
    },
    "kernelspec": {
      "display_name": "Python 3",
      "language": "python",
      "name": "python3"
    },
    "language_info": {
      "codemirror_mode": {
        "name": "ipython",
        "version": 3
      },
      "file_extension": ".py",
      "mimetype": "text/x-python",
      "name": "python",
      "nbconvert_exporter": "python",
      "pygments_lexer": "ipython3",
      "version": "3.8.5"
    }
  },
  "cells": [
    {
      "cell_type": "markdown",
      "metadata": {
        "id": "view-in-github",
        "colab_type": "text"
      },
      "source": [
        "<a href=\"https://colab.research.google.com/github/vchandraiitk/datascience/blob/main/Vikas_M2_NB_MiniProject_2_Linear_Algebra_and_Calculus.ipynb\" target=\"_parent\"><img src=\"https://colab.research.google.com/assets/colab-badge.svg\" alt=\"Open In Colab\"/></a>"
      ]
    },
    {
      "cell_type": "markdown",
      "metadata": {
        "id": "Vf7UdufgUVRm"
      },
      "source": [
        "# Advanced Certification Program in Computational Data Science\n",
        "## A program by IISc and TalentSprint\n",
        "### Mini Project Notebook: Linear Algebra and Calculus"
      ]
    },
    {
      "cell_type": "markdown",
      "metadata": {
        "id": "TnGEuHJusOup"
      },
      "source": [
        "## Problem Statement"
      ]
    },
    {
      "cell_type": "markdown",
      "metadata": {
        "id": "xlkm2qM2sQ-T"
      },
      "source": [
        " The task is to advise a petroleum company on how to meet the demands of their customers for motor oil, diesel oil and gasoline."
      ]
    },
    {
      "cell_type": "markdown",
      "metadata": {
        "id": "cs0B3ScgUVRv"
      },
      "source": [
        "## Learning Objectives"
      ]
    },
    {
      "cell_type": "markdown",
      "metadata": {
        "id": "Sq5piVQRUVRw"
      },
      "source": [
        "At the end of the experiment, you will be able to\n",
        "\n",
        "* create arrays and matrices in python\n",
        "* understand the concepts of linear equations\n",
        "* solve the system of linear equations"
      ]
    },
    {
      "cell_type": "markdown",
      "metadata": {
        "id": "IvKa0MVttqXf"
      },
      "source": [
        "### Data"
      ]
    },
    {
      "cell_type": "markdown",
      "metadata": {
        "id": "dRrGFyZOtsAj"
      },
      "source": [
        "From a barrel of crude oil, in one day, factory $A$ can produce\n",
        "* 20 gallons of motor oil,\n",
        "* 10 gallons of diesel oil, and\n",
        "* 5 gallons of gasoline\n",
        "\n",
        "Similarly, factory $B$ can produce\n",
        "* 4 gallons of motor oil,\n",
        "* 14 gallons of diesel oil, and\n",
        "* 5 gallons of gasoline\n",
        "\n",
        "while factory $C$ can produce\n",
        "* 4 gallons of motor oil,\n",
        "* 5 gallons of diesel oil, and\n",
        "* 12 gallons of gasoline\n",
        "\n",
        "There is also waste in the form of paraffin, among other things. Factory $A$ has 3 gallons of paraffin to dispose of per barrel of crude, factory $B$ 5 gallons, and factory $C$ 2 gallons."
      ]
    },
    {
      "cell_type": "markdown",
      "metadata": {
        "id": "UK_englE4HnA"
      },
      "source": [
        "**Note:** Your conclusion should include a discussion of the nature of the terms *unique*, *no solution*, *overdetermined* and *underdetermined* as they apply in the context of the oil plants."
      ]
    },
    {
      "cell_type": "markdown",
      "metadata": {
        "id": "operating-latter"
      },
      "source": [
        "## Grading = 10 Points"
      ]
    },
    {
      "cell_type": "markdown",
      "metadata": {
        "id": "zAitCztdraex"
      },
      "source": [
        "### Create an array\n",
        "\n",
        "Create an array of size 2x3 with arbitrary values."
      ]
    },
    {
      "cell_type": "code",
      "metadata": {
        "id": "owKFXLLzrqVb",
        "colab": {
          "base_uri": "https://localhost:8080/"
        },
        "outputId": "05523503-964d-4907-8a5e-b303fe03936e"
      },
      "source": [
        "# YOUR CODE HERE\n",
        "import numpy as np\n",
        "##randint is for geneting integer numbers and not float\n",
        "#100 means it will geneate any number less than 100.\n",
        "np.random.randint(100, size=(2, 3))"
      ],
      "execution_count": 88,
      "outputs": [
        {
          "output_type": "execute_result",
          "data": {
            "text/plain": [
              "array([[86, 36,  4],\n",
              "       [ 6, 71, 59]])"
            ]
          },
          "metadata": {},
          "execution_count": 88
        }
      ]
    },
    {
      "cell_type": "markdown",
      "metadata": {
        "id": "K_7EztnGvzDK"
      },
      "source": [
        "### Create the system of Linear Equations"
      ]
    },
    {
      "cell_type": "markdown",
      "metadata": {
        "id": "zL9M9kmrv_ZA"
      },
      "source": [
        "Suppose the current daily demand from distributors is 6600 gallons of motor oil, 5100 gallons of diesel oil and 3100 of gasoline.\n",
        "\n",
        "Set up the system of equations which describes the above situation. Please include the units as well."
      ]
    },
    {
      "cell_type": "markdown",
      "metadata": {
        "id": "nbOcii0EZpUI"
      },
      "source": [
        "Let the number of barrels used by factory $A$, $B$ and $C$ are $x$, $y$ and $z$ respectively.\n",
        "\n",
        "Then the system of linear equations will be\n",
        "\n",
        "$$Motor\\ oil:\\ \\ \\ 20x + 4y + 4z = 6600$$\n",
        "\n",
        "$$Diesel\\ oil:\\ \\ \\ 10x + 14y + 5z = 5100$$\n",
        "\n",
        "$$Gasoline:\\ \\ \\ 5x + 5y + 12z = 3100$$"
      ]
    },
    {
      "cell_type": "markdown",
      "metadata": {
        "id": "1qLF2LvG2I8Y"
      },
      "source": [
        "### Solve the system of Linear Equation (2 points)"
      ]
    },
    {
      "cell_type": "markdown",
      "metadata": {
        "id": "FzjOkaq21_8L"
      },
      "source": [
        "How many barrels of crude oil each plant should get in order to meet the demand as a group. Remember that we can only provide each plant with an integral number of barrels."
      ]
    },
    {
      "cell_type": "code",
      "metadata": {
        "id": "Plx-kStlcGOW",
        "colab": {
          "base_uri": "https://localhost:8080/"
        },
        "outputId": "99ba8f28-b76e-4adb-f62f-fdc4fd96e2a3"
      },
      "source": [
        "# YOUR CODE HERE\n",
        "from sympy import symbols, Eq, solve\n",
        "import math\n",
        "x, y, z = symbols('x,y,z')\n",
        "motor_oil_eq = Eq((20*x+4*y+4*z), 6600)\n",
        "diesel_oil_eq = Eq((10*x+14*y+5*z), 5100)\n",
        "gasoline_oil_eq = Eq((5*x+5*y+12*z), 3100)\n",
        "dir = solve((motor_oil_eq, diesel_oil_eq, gasoline_oil_eq), (x,y,z))\n",
        "x = dir.get(x)\n",
        "y = dir.get(y)\n",
        "z = dir.get(z)\n",
        "production_a=round(math.ceil(float(20*x+10*x+5*x)/35))\n",
        "production_b=round(math.ceil(float(4*y+14*y+5*y)/23))\n",
        "production_c=round(math.ceil(float(4*z+5*z+12*z))/21)\n",
        "production_a, production_b, production_c"
      ],
      "execution_count": 14,
      "outputs": [
        {
          "output_type": "execute_result",
          "data": {
            "text/plain": [
              "(288, 129, 85)"
            ]
          },
          "metadata": {},
          "execution_count": 14
        }
      ]
    },
    {
      "cell_type": "markdown",
      "metadata": {
        "id": "nY-rFiKAbVl3"
      },
      "source": [
        "Suppose the total demand for all products **doubled**. What would the solution now be? How does it compare to the original solution? Why, mathematically, should this have been expected?"
      ]
    },
    {
      "cell_type": "code",
      "metadata": {
        "id": "OODSS2bFcjKV",
        "colab": {
          "base_uri": "https://localhost:8080/"
        },
        "outputId": "94198354-d4f2-4afd-de07-5a8b058b22bf"
      },
      "source": [
        "# YOUR CODE HERE\n",
        "x, y, z = symbols('x,y,z')\n",
        "motor_oil_eq = Eq((20*x+4*y+4*z), 13200)\n",
        "diesel_oil_eq = Eq((10*x+14*y+5*z), 10200)\n",
        "gasoline_oil_eq = Eq((5*x+5*y+12*z), 6200)\n",
        "dir = solve((motor_oil_eq, diesel_oil_eq, gasoline_oil_eq), (x,y,z))\n",
        "x = dir.get(x)\n",
        "y = dir.get(y)\n",
        "z = dir.get(z)\n",
        "production_a=round(math.ceil(float(20*x+10*x+5*x)/35))\n",
        "production_b=round(math.ceil(float(4*y+14*y+5*y)/23))\n",
        "production_c=round(math.ceil(float(4*z+5*z+12*z))/21)\n",
        "production_a, production_b, production_c"
      ],
      "execution_count": 15,
      "outputs": [
        {
          "output_type": "execute_result",
          "data": {
            "text/plain": [
              "(575, 258, 170)"
            ]
          },
          "metadata": {},
          "execution_count": 15
        }
      ]
    },
    {
      "cell_type": "markdown",
      "metadata": {
        "id": "p_1a-z0Gds6D"
      },
      "source": [
        "Suppose that the company acquires another group of distributors and that the daily demand of this group is 2000 gallons of motor oil, 4000 gallons of gasoline, and 4000 gallons of diesel oil. How would you set up production of just this supply? Are there any options (more than one way)?"
      ]
    },
    {
      "cell_type": "code",
      "metadata": {
        "id": "gWaeKh6eQe2W"
      },
      "source": [
        "# YOUR CODE HERE"
      ],
      "execution_count": 84,
      "outputs": []
    },
    {
      "cell_type": "markdown",
      "metadata": {
        "id": "H4sayZf1etbN"
      },
      "source": [
        "Next, calculate the needs of each factory (in barrels of crude, as usual) to meet the total demand of both groups of distributors. When you have done this, compare your answer to results already obtained. What mathematical conclusion can you draw?"
      ]
    },
    {
      "cell_type": "code",
      "metadata": {
        "id": "Hjm5kcawewgT"
      },
      "source": [
        "# YOUR CODE HERE"
      ],
      "execution_count": 85,
      "outputs": []
    },
    {
      "cell_type": "markdown",
      "metadata": {
        "id": "ov7RWVpSpzhw"
      },
      "source": [
        "### Sensitivity and Robustness (1 point)"
      ]
    },
    {
      "cell_type": "markdown",
      "metadata": {
        "id": "G1MVw0x_fQMC"
      },
      "source": [
        "In real life applications, constants are rarely ever exactly equal to their stated value; certain amounts of uncertainty are always present. This is part of the reason for the science of statistics. In the above model, the daily productions for the plants would be averages over a period of time. Explore what effect small changes in the parameters have on the output.\n",
        "\n",
        "To do this, pick any 3 coefficients, one at a time, and increase or decrease them by 3%. For each case , note what effect this has on the solution, as a percentage change. Can you draw any overall conclusion?"
      ]
    },
    {
      "cell_type": "code",
      "metadata": {
        "id": "ObBZDKvYfqie"
      },
      "source": [
        "# YOUR CODE HERE"
      ],
      "execution_count": 22,
      "outputs": []
    },
    {
      "cell_type": "markdown",
      "metadata": {
        "id": "JOj5wcxQpzhx"
      },
      "source": [
        "### A Plant Off-Line (1 point)"
      ]
    },
    {
      "cell_type": "markdown",
      "metadata": {
        "id": "Dbm0HcJ7frNz"
      },
      "source": [
        "Suppose factory $C$ is shut down by the EPA (Environmental Protection Agency) temporarily for excessive emissions into the atmosphere. If your demand is as it was originally (6600, 5100, 3100), what would you now say about the companies ability to meet it? What do you recommend they schedule for production now?"
      ]
    },
    {
      "cell_type": "code",
      "metadata": {
        "id": "gpbtzvrVAST3"
      },
      "source": [
        "# YOUR CODE HERE"
      ],
      "execution_count": 23,
      "outputs": []
    },
    {
      "cell_type": "markdown",
      "metadata": {
        "id": "tZpzEVmEpzhx"
      },
      "source": [
        "### Buying another plant"
      ]
    },
    {
      "cell_type": "markdown",
      "metadata": {
        "id": "X0ghbS-s3Mel"
      },
      "source": [
        "####(Note the following given information. You will see questions in continuation to this, in the subsequent sections)\n",
        "\n",
        "This situation has caused enough concern that the CEO is considering buying another plant, identical to the third, and using it permanently. Assuming that all 4 plants are on line, what production do you recommend to meet the current demand (5000, 8500, 10000)? In general, what can you say about any increased flexibility that the 4th plant might provide?"
      ]
    },
    {
      "cell_type": "markdown",
      "metadata": {
        "id": "IcbiTq8zpzhx"
      },
      "source": [
        "Let the number of barrels used by factory $A$, $B$, $C$ and $D$ are $x$, $y$, $z$ and $w$ respectively.\n",
        "\n",
        "Then the system of linear equations will be\n",
        "\n",
        "$$20x + 4y + 4z + 4w = 5000$$\n",
        "\n",
        "$$10x + 14y + 5z + 5w = 8500$$\n",
        "\n",
        "$$5x + 5y + 12z + 12w = 10000$$\n",
        "\n",
        "The above system of linear equation has fewer equations than variables, hence it is *underdetermined* and cannot have a unique solution. In this case, there are either infinitely many solutions or no exact solution. We can solve it by keeping $w$ as constant and using [rref](http://linear.ups.edu/html/section-RREF.html) form to solve the system of linear equation.\n",
        "\n",
        "To know about rref implementation in python refer [here](https://docs.sympy.org/latest/tutorial/matrices.html#rref)."
      ]
    },
    {
      "cell_type": "code",
      "metadata": {
        "id": "DnCYG65tB8gp",
        "colab": {
          "base_uri": "https://localhost:8080/"
        },
        "outputId": "142bc202-4b33-4ff4-aa73-043ba1def47c"
      },
      "source": [
        "import sympy as sy\n",
        "\n",
        "# create symbol 'w'\n",
        "w = sy.Symbol(\"w\")\n",
        "A_aug = sy.Matrix([[20, 4, 4, 5000-4*w],\n",
        "                   [10, 14, 5, 8500-5*w],\n",
        "                   [5, 5, 12, 10000-12*w]])\n",
        "# show rref form\n",
        "A_aug.rref()"
      ],
      "execution_count": 24,
      "outputs": [
        {
          "output_type": "execute_result",
          "data": {
            "text/plain": [
              "(Matrix([\n",
              " [1, 0, 0,   195/4],\n",
              " [0, 1, 0,  1325/4],\n",
              " [0, 0, 1, 675 - w]]),\n",
              " (0, 1, 2))"
            ]
          },
          "metadata": {},
          "execution_count": 24
        }
      ]
    },
    {
      "cell_type": "markdown",
      "metadata": {
        "id": "1lcEL3n5pzhz"
      },
      "source": [
        "From the above result, it can be seen that 4th plant will share the number of barrels required by the 3rd plant only, while the requirement of 1st and 2nd plant will remain unaffected."
      ]
    },
    {
      "cell_type": "markdown",
      "metadata": {
        "id": "yE9hCfAMpzhz"
      },
      "source": [
        "### Calculate the amount of Paraffin supplied (1 point)"
      ]
    },
    {
      "cell_type": "markdown",
      "metadata": {
        "id": "u9HSGUeZquXD"
      },
      "source": [
        "The company has just found a candle company that will buy its paraffin. Under the current conditions (i.e, after buying another plant) for demand (5000, 8500, 10000), how much can be supplied to them per day?"
      ]
    },
    {
      "cell_type": "markdown",
      "metadata": {
        "id": "ilEui1GHA3Oh"
      },
      "source": [
        "According to the problem statement, factory $A$ has 3 gallons of paraffin to dispose of per barrel of crude oil, factory $B$ 5 gallons, and factory $C$ 2 gallons."
      ]
    },
    {
      "cell_type": "code",
      "metadata": {
        "id": "gJnUalG2_r0i"
      },
      "source": [
        "# YOUR CODE HERE"
      ],
      "execution_count": 25,
      "outputs": []
    },
    {
      "cell_type": "markdown",
      "metadata": {
        "id": "sSpnIH4Ypzh0"
      },
      "source": [
        "### Selling the first plant (1 point)"
      ]
    },
    {
      "cell_type": "markdown",
      "metadata": {
        "id": "8l3c1GN14EDp"
      },
      "source": [
        "The management is also considering selling the first plant due to aging equipment and high workman's compensation costs for the state it is located in. They would like to know what this would do to their production capability. Specifically, they would like an example of a demand they could not meet with only plants 2 and 3, and also what effect having plant 4 has (recall it is identical to plant 3). They would also like an example of a demand that they could meet with just plants 2 and 3. Any general statements you could make here would be helpful."
      ]
    },
    {
      "cell_type": "markdown",
      "metadata": {
        "id": "qYz46wb2GTo7"
      },
      "source": [
        "Let the number of barrels used by factory $B$, $C$ and $D$ are $y$, $z$ and $w$ respectively.\n",
        "\n",
        "When considering only plants 2 and 3, and demand (5000, 8500, 10000) then we have\n",
        "\n",
        "$$4y + 4z = 5000$$\n",
        "\n",
        "$$14y + 5z = 8500$$\n",
        "\n",
        "$$5y + 12z = 10000$$"
      ]
    },
    {
      "cell_type": "code",
      "metadata": {
        "id": "Ru-prbsHGwH_"
      },
      "source": [
        "# YOUR CODE HERE"
      ],
      "execution_count": 26,
      "outputs": []
    },
    {
      "cell_type": "markdown",
      "metadata": {
        "id": "bLsK1-zNEP0T"
      },
      "source": [
        "Taking 4th plant into consideration.\n",
        "Let the number of barrels used by factory $B$, $C$ and $D$ are $y$, $z$ and $w$ respectively.\n",
        "\n",
        "Then for demand (5000, 8500, 10000) the system of linear equations will be\n",
        "\n",
        "$$4y + 4z + 4w = 5000$$\n",
        "\n",
        "$$14y + 5z + 5w = 8500$$\n",
        "\n",
        "$$5y + 12z + 12w = 10000$$\n",
        "\n",
        "Solve it using rref form."
      ]
    },
    {
      "cell_type": "code",
      "metadata": {
        "id": "5lqPcpJ9F9xx"
      },
      "source": [
        "# YOUR CODE HERE"
      ],
      "execution_count": 27,
      "outputs": []
    },
    {
      "cell_type": "markdown",
      "metadata": {
        "id": "u7SDjgFkP5fj"
      },
      "source": [
        "Now, changing demand to (6600, 5100, 3100) and solving the system of equation using rref form."
      ]
    },
    {
      "cell_type": "code",
      "metadata": {
        "id": "nwSpgbqAGlON"
      },
      "source": [
        "# YOUR CODE HERE"
      ],
      "execution_count": 28,
      "outputs": []
    },
    {
      "cell_type": "markdown",
      "metadata": {
        "id": "fngUPMK_pzh1"
      },
      "source": [
        "### Set rates for Products (1 point)"
      ]
    },
    {
      "cell_type": "markdown",
      "metadata": {
        "id": "8Go0tQYtpzh1"
      },
      "source": [
        "Company wants to set the rates of motor oil, diesel oil, and gasoline. For this purpose they have few suggestions given as follows:\n",
        "\n",
        "* 100, 66, 102 Rupees per gallon,\n",
        "\n",
        "* 104, 64, 100 Rupees per gallon,\n",
        "\n",
        "* 102, 68, 98 Rupees per gallon, and\n",
        "\n",
        "* 96, 68, 100 Rupees per gallon\n",
        "\n",
        "for motor oil, diesel oil, and gasoline respectively.\n",
        "\n",
        "Using matrix multiplication, find the rates which result in maximum total price."
      ]
    },
    {
      "cell_type": "markdown",
      "metadata": {
        "id": "9yRue5zIpzh1"
      },
      "source": [
        "Let $M$ denote the matrix such that rows represents different plants (A, B and C), columns represents different products (motor oil, diesel oil and gasoline) and each value represents production of that product from one barrel of crude oil for that plant.\n",
        "\n",
        "$$M = \\begin{bmatrix}\n",
        "20 & 10 & 5 \\\\\n",
        "4 & 14 & 5  \\\\\n",
        " 4 & 5 & 12  \n",
        "\\end{bmatrix}$$\n",
        "\n",
        "Also, $R$ is a matrix having different rates as its columns.\n",
        "\n",
        "$$R = \\begin{bmatrix}\n",
        "100 & 104 & 102 & 96 \\\\\n",
        "66 & 64 & 68 & 68  \\\\\n",
        "102 & 100 & 98 & 100  \n",
        "\\end{bmatrix}$$"
      ]
    },
    {
      "cell_type": "code",
      "metadata": {
        "id": "Sz5Bef3npzh1"
      },
      "source": [
        "# YOUR CODE HERE"
      ],
      "execution_count": 29,
      "outputs": []
    },
    {
      "cell_type": "markdown",
      "metadata": {
        "id": "cga8JrkApzh1"
      },
      "source": [
        "### Marginal Cost (1 point)"
      ]
    },
    {
      "cell_type": "markdown",
      "metadata": {
        "id": "8nN5V5NXpzh2"
      },
      "source": [
        "The total cost $C(x)$ in Rupees, associated with the production of $x$ gallons of gasoline is given by\n",
        "\n",
        "$$C(x) = 0.005 x^3 – 0.02 x^2 + 30x + 5000$$\n",
        "\n",
        "Find the marginal cost when $22$ gallons are produced, where, marginal cost means the instantaneous rate of change of total cost at any level of output."
      ]
    },
    {
      "cell_type": "code",
      "metadata": {
        "id": "rO-HMED3pzh2"
      },
      "source": [
        "# YOUR CODE HERE"
      ],
      "execution_count": 30,
      "outputs": []
    },
    {
      "cell_type": "markdown",
      "metadata": {
        "id": "qOMlrDEhpzh2"
      },
      "source": [
        "### Marginal Revenue (1 point)"
      ]
    },
    {
      "cell_type": "markdown",
      "metadata": {
        "id": "bfS88lmWpzh2"
      },
      "source": [
        "The total revenue in Rupees received from the sale of $x$ gallons of a motor oil is given by $$R(x) = 3x^2 + 36x + 5.$$\n",
        "\n",
        "Find the marginal revenue, when $x = 28$, where, marginal revenue means the rate of change of total revenue with respect to the number of items sold at an instant."
      ]
    },
    {
      "cell_type": "code",
      "metadata": {
        "id": "rb0h6p49pzh2"
      },
      "source": [
        "# YOUR CODE HERE"
      ],
      "execution_count": 31,
      "outputs": []
    },
    {
      "cell_type": "markdown",
      "metadata": {
        "id": "ZKb5VuM_pzh2"
      },
      "source": [
        "### Pouring crude oil in tank (1 point)"
      ]
    },
    {
      "cell_type": "markdown",
      "metadata": {
        "id": "TD9zv5jPpzh2"
      },
      "source": [
        "In a cylindrical tank of radius 10 meter, crude oil is being poured at the rate of 314 cubic meter per hour. Then find\n",
        "\n",
        "* the rate at which the height of crude oil is increasing in the tank, and\n",
        "* the height of crude oil in tank after 2 hours."
      ]
    },
    {
      "cell_type": "code",
      "metadata": {
        "id": "g6ntcdNypzh2"
      },
      "source": [
        "# YOUR CODE HERE"
      ],
      "execution_count": 32,
      "outputs": []
    }
  ]
}