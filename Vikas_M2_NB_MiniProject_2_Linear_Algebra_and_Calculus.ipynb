{
  "nbformat": 4,
  "nbformat_minor": 0,
  "metadata": {
    "colab": {
      "provenance": [],
      "include_colab_link": true
    },
    "kernelspec": {
      "display_name": "Python 3",
      "language": "python",
      "name": "python3"
    },
    "language_info": {
      "codemirror_mode": {
        "name": "ipython",
        "version": 3
      },
      "file_extension": ".py",
      "mimetype": "text/x-python",
      "name": "python",
      "nbconvert_exporter": "python",
      "pygments_lexer": "ipython3",
      "version": "3.8.5"
    }
  },
  "cells": [
    {
      "cell_type": "markdown",
      "metadata": {
        "id": "view-in-github",
        "colab_type": "text"
      },
      "source": [
        "<a href=\"https://colab.research.google.com/github/vchandraiitk/datascience/blob/main/Vikas_M2_NB_MiniProject_2_Linear_Algebra_and_Calculus.ipynb\" target=\"_parent\"><img src=\"https://colab.research.google.com/assets/colab-badge.svg\" alt=\"Open In Colab\"/></a>"
      ]
    },
    {
      "cell_type": "markdown",
      "metadata": {
        "id": "Vf7UdufgUVRm"
      },
      "source": [
        "# Advanced Certification Program in Computational Data Science\n",
        "## A program by IISc and TalentSprint\n",
        "### Mini Project Notebook: Linear Algebra and Calculus"
      ]
    },
    {
      "cell_type": "markdown",
      "metadata": {
        "id": "TnGEuHJusOup"
      },
      "source": [
        "## Problem Statement"
      ]
    },
    {
      "cell_type": "markdown",
      "metadata": {
        "id": "xlkm2qM2sQ-T"
      },
      "source": [
        " The task is to advise a petroleum company on how to meet the demands of their customers for motor oil, diesel oil and gasoline."
      ]
    },
    {
      "cell_type": "markdown",
      "metadata": {
        "id": "cs0B3ScgUVRv"
      },
      "source": [
        "## Learning Objectives"
      ]
    },
    {
      "cell_type": "markdown",
      "metadata": {
        "id": "Sq5piVQRUVRw"
      },
      "source": [
        "At the end of the experiment, you will be able to\n",
        "\n",
        "* create arrays and matrices in python\n",
        "* understand the concepts of linear equations\n",
        "* solve the system of linear equations"
      ]
    },
    {
      "cell_type": "markdown",
      "metadata": {
        "id": "IvKa0MVttqXf"
      },
      "source": [
        "### Data"
      ]
    },
    {
      "cell_type": "markdown",
      "metadata": {
        "id": "dRrGFyZOtsAj"
      },
      "source": [
        "From a barrel of crude oil, in one day, factory $A$ can produce\n",
        "* 20 gallons of motor oil,\n",
        "* 10 gallons of diesel oil, and\n",
        "* 5 gallons of gasoline\n",
        "\n",
        "Similarly, factory $B$ can produce\n",
        "* 4 gallons of motor oil,\n",
        "* 14 gallons of diesel oil, and\n",
        "* 5 gallons of gasoline\n",
        "\n",
        "while factory $C$ can produce\n",
        "* 4 gallons of motor oil,\n",
        "* 5 gallons of diesel oil, and\n",
        "* 12 gallons of gasoline\n",
        "\n",
        "There is also waste in the form of paraffin, among other things. Factory $A$ has 3 gallons of paraffin to dispose of per barrel of crude, factory $B$ 5 gallons, and factory $C$ 2 gallons."
      ]
    },
    {
      "cell_type": "markdown",
      "metadata": {
        "id": "UK_englE4HnA"
      },
      "source": [
        "**Note:** Your conclusion should include a discussion of the nature of the terms *unique*, *no solution*, *overdetermined* and *underdetermined* as they apply in the context of the oil plants."
      ]
    },
    {
      "cell_type": "markdown",
      "metadata": {
        "id": "operating-latter"
      },
      "source": [
        "## Grading = 10 Points"
      ]
    },
    {
      "cell_type": "markdown",
      "metadata": {
        "id": "zAitCztdraex"
      },
      "source": [
        "### Create an array\n",
        "\n",
        "Create an array of size 2x3 with arbitrary values."
      ]
    },
    {
      "cell_type": "code",
      "metadata": {
        "id": "owKFXLLzrqVb",
        "colab": {
          "base_uri": "https://localhost:8080/"
        },
        "outputId": "1466ab1a-6c0a-4f16-be50-502d7cadf205"
      },
      "source": [
        "#TASK-1 (With Array)\n",
        "# YOUR CODE HERE\n",
        "import numpy as np\n",
        "##randint is for geneting integer numbers and not float\n",
        "#100 means it will geneate any number less than 100.\n",
        "np.random.randint(100, size=(2, 3))"
      ],
      "execution_count": 31,
      "outputs": [
        {
          "output_type": "execute_result",
          "data": {
            "text/plain": [
              "array([[33, 28,  6],\n",
              "       [76, 80, 76]])"
            ]
          },
          "metadata": {},
          "execution_count": 31
        }
      ]
    },
    {
      "cell_type": "code",
      "source": [
        "##TASK-1 (With Matrix)\n",
        "matrix1 = np.matrix([[0, 4, 16],\n",
        "                     [16, 4, 0]])\n",
        "matrix1"
      ],
      "metadata": {
        "colab": {
          "base_uri": "https://localhost:8080/"
        },
        "id": "SR5DUEuzTpuz",
        "outputId": "4fdbd227-d8b0-406f-cb13-5b905b57be91"
      },
      "execution_count": 32,
      "outputs": [
        {
          "output_type": "execute_result",
          "data": {
            "text/plain": [
              "matrix([[ 0,  4, 16],\n",
              "        [16,  4,  0]])"
            ]
          },
          "metadata": {},
          "execution_count": 32
        }
      ]
    },
    {
      "cell_type": "markdown",
      "metadata": {
        "id": "K_7EztnGvzDK"
      },
      "source": [
        "### Create the system of Linear Equations"
      ]
    },
    {
      "cell_type": "markdown",
      "metadata": {
        "id": "zL9M9kmrv_ZA"
      },
      "source": [
        "Suppose the current daily demand from distributors is 6600 gallons of motor oil, 5100 gallons of diesel oil and 3100 of gasoline.\n",
        "\n",
        "Set up the system of equations which describes the above situation. Please include the units as well."
      ]
    },
    {
      "cell_type": "markdown",
      "metadata": {
        "id": "nbOcii0EZpUI"
      },
      "source": [
        "Let the number of barrels used by factory $A$, $B$ and $C$ are $x$, $y$ and $z$ respectively.\n",
        "\n",
        "Then the system of linear equations will be\n",
        "\n",
        "$$Motor\\ oil:\\ \\ \\ 20x + 4y + 4z = 6600$$\n",
        "\n",
        "$$Diesel\\ oil:\\ \\ \\ 10x + 14y + 5z = 5100$$\n",
        "\n",
        "$$Gasoline:\\ \\ \\ 5x + 5y + 12z = 3100$$"
      ]
    },
    {
      "cell_type": "markdown",
      "metadata": {
        "id": "1qLF2LvG2I8Y"
      },
      "source": [
        "### Solve the system of Linear Equation (2 points)"
      ]
    },
    {
      "cell_type": "markdown",
      "metadata": {
        "id": "FzjOkaq21_8L"
      },
      "source": [
        "How many barrels of crude oil each plant should get in order to meet the demand as a group. Remember that we can only provide each plant with an integral number of barrels."
      ]
    },
    {
      "cell_type": "code",
      "source": [
        "#TASK-2\n",
        "# YOUR CODE HERE\n",
        "from scipy import linalg\n",
        "import numpy as np\n",
        "\n",
        "A = np.array([[20,4,4],\n",
        "             [10,14,5],\n",
        "             [5,5,12]])\n",
        "b = np.array([6600,5100,3100])\n",
        "x = linalg.solve(A,b)\n",
        "round_x = np.round(x).astype(int)\n",
        "round_x\n",
        "print(\"Number of barrels of crude oil each plant should get are {} {} {} for A, B, C respectively\".format(math.ceil(float(x[0])), math.ceil(float(x[1])), math.ceil(float(x[2]))))"
      ],
      "metadata": {
        "colab": {
          "base_uri": "https://localhost:8080/"
        },
        "id": "T8m3zv5YwGys",
        "outputId": "578f34ba-f4be-478a-f134-75fe153ab2a9"
      },
      "execution_count": 64,
      "outputs": [
        {
          "output_type": "stream",
          "name": "stdout",
          "text": [
            "Number of barrels of crude oil each plant should get are 288 129 85 for A, B, C respectively\n"
          ]
        }
      ]
    },
    {
      "cell_type": "code",
      "source": [
        "#TASK-2\n",
        "# YOUR CODE HERE\n",
        "from sympy import symbols, Eq, solve\n",
        "import math\n",
        "x, y, z = symbols('x,y,z')\n",
        "motor_oil_eq = Eq((20*x+4*y+4*z), 6600)\n",
        "diesel_oil_eq = Eq((10*x+14*y+5*z), 5100)\n",
        "gasoline_oil_eq = Eq((5*x+5*y+12*z), 3100)\n",
        "dir = solve((motor_oil_eq, diesel_oil_eq, gasoline_oil_eq), (x,y,z))\n",
        "x = math.ceil(float(dir.get(x)))\n",
        "y = math.ceil(float(dir.get(y)))\n",
        "z = math.ceil(float(dir.get(z)))\n",
        "x,y,z"
      ],
      "metadata": {
        "colab": {
          "base_uri": "https://localhost:8080/"
        },
        "id": "rhqkJna3zt4s",
        "outputId": "fa15eb54-bcd8-48df-b57f-10ebab20ba7b"
      },
      "execution_count": 34,
      "outputs": [
        {
          "output_type": "execute_result",
          "data": {
            "text/plain": [
              "(288, 129, 85)"
            ]
          },
          "metadata": {},
          "execution_count": 34
        }
      ]
    },
    {
      "cell_type": "markdown",
      "metadata": {
        "id": "nY-rFiKAbVl3"
      },
      "source": [
        "Suppose the total demand for all products **doubled**. What would the solution now be? How does it compare to the original solution? Why, mathematically, should this have been expected?"
      ]
    },
    {
      "cell_type": "code",
      "source": [
        "#TASK-3\n",
        "# YOUR CODE HERE\n",
        "b_new = 2*b\n",
        "x_new = linalg.solve(A,b_new)\n",
        "round_x_new = np.round(x_new).astype(int)\n",
        "round_x_new\n",
        "print(\"Number of barrels of crude oil each plant should get are {} {} {} for A, B, C respectively\".format(math.ceil(float(x_new[0])), math.ceil(float(x_new[1])), math.ceil(float(x_new[2]))))"
      ],
      "metadata": {
        "colab": {
          "base_uri": "https://localhost:8080/"
        },
        "id": "1JawB_IjwZ0H",
        "outputId": "4fc286ac-a6fb-46bf-edee-d87f33d2d423"
      },
      "execution_count": 65,
      "outputs": [
        {
          "output_type": "stream",
          "name": "stdout",
          "text": [
            "Number of barrels of crude oil each plant should get are 575 258 170 for A, B, C respectively\n"
          ]
        }
      ]
    },
    {
      "cell_type": "code",
      "metadata": {
        "id": "OODSS2bFcjKV",
        "colab": {
          "base_uri": "https://localhost:8080/"
        },
        "outputId": "c03d365e-6491-4e27-e514-ff9f36929272"
      },
      "source": [
        "#TASK-3\n",
        "# YOUR CODE HERE\n",
        "from sympy import symbols, Eq, solve\n",
        "import math\n",
        "x, y, z = symbols('x,y,z')\n",
        "motor_oil_eq = Eq((20*x+4*y+4*z), 13200)\n",
        "diesel_oil_eq = Eq((10*x+14*y+5*z), 10200)\n",
        "gasoline_oil_eq = Eq((5*x+5*y+12*z), 6200)\n",
        "dir = solve((motor_oil_eq, diesel_oil_eq, gasoline_oil_eq), (x,y,z))\n",
        "x = math.ceil(float(dir.get(x)))\n",
        "y = math.ceil(float(dir.get(y)))\n",
        "z = math.ceil(float(dir.get(z)))\n",
        "x,y,z"
      ],
      "execution_count": 37,
      "outputs": [
        {
          "output_type": "execute_result",
          "data": {
            "text/plain": [
              "(575, 258, 170)"
            ]
          },
          "metadata": {},
          "execution_count": 37
        }
      ]
    },
    {
      "cell_type": "markdown",
      "metadata": {
        "id": "p_1a-z0Gds6D"
      },
      "source": [
        "Suppose that the company acquires another group of distributors and that the daily demand of this group is 2000 gallons of motor oil, 4000 gallons of gasoline, and 4000 gallons of diesel oil. How would you set up production of just this supply? Are there any options (more than one way)?"
      ]
    },
    {
      "cell_type": "code",
      "source": [
        "#TASK-4\n",
        "# YOUR CODE HERE\n",
        "b_new2 = np.array([2000,4000,4000])\n",
        "x_new2 = linalg.solve(A,b_new2)\n",
        "round_x_new2 = np.round(x_new2).astype(int)\n",
        "round_x_new2\n",
        "print(\"Number of barrels of crude oil each plant should get are {} {} {} for A, B, C respectively\".format(math.ceil(float(x_new2[0])), math.ceil(float(x_new2[1])), math.ceil(float(x_new2[2]))))"
      ],
      "metadata": {
        "colab": {
          "base_uri": "https://localhost:8080/"
        },
        "id": "RP5xZpuQwjP7",
        "outputId": "5c73b457-73ec-499d-eff7-48ad9dac0d2c"
      },
      "execution_count": 66,
      "outputs": [
        {
          "output_type": "stream",
          "name": "stdout",
          "text": [
            "Number of barrels of crude oil each plant should get are 13 188 250 for A, B, C respectively\n"
          ]
        }
      ]
    },
    {
      "cell_type": "code",
      "metadata": {
        "id": "gWaeKh6eQe2W",
        "colab": {
          "base_uri": "https://localhost:8080/"
        },
        "outputId": "7e12680d-fbf0-43ee-9f00-9e0f20e7356f"
      },
      "source": [
        "#TASK-4\n",
        "# YOUR CODE HERE\n",
        "x, y, z = symbols('x,y,z')\n",
        "motor_oil_eq = Eq((20*x+4*y+4*z), 2000)\n",
        "diesel_oil_eq = Eq((10*x+14*y+5*z), 4000)\n",
        "gasoline_oil_eq = Eq((5*x+5*y+12*z), 4000)\n",
        "dir = solve((motor_oil_eq, diesel_oil_eq, gasoline_oil_eq), (x,y,z))\n",
        "x = math.ceil(float(dir.get(x)))\n",
        "y = math.ceil(float(dir.get(y)))\n",
        "z = math.ceil(float(dir.get(z)))\n",
        "x,y,z"
      ],
      "execution_count": 40,
      "outputs": [
        {
          "output_type": "execute_result",
          "data": {
            "text/plain": [
              "(13, 188, 250)"
            ]
          },
          "metadata": {},
          "execution_count": 40
        }
      ]
    },
    {
      "cell_type": "code",
      "source": [
        "#TASK-4 (Alternate Solution)\n",
        "# Coefficient matrix A\n",
        "A = np.array([[20, 4, 4], [10, 14, 5], [5, 5, 12]])\n",
        "\n",
        "# Constant matrix B\n",
        "B = np.array([2000, 4000, 4000])\n",
        "\n",
        "X = np.linalg.solve(A, B)\n",
        "math.ceil(float(X[0])), math.ceil(float(X[1])), math.ceil(float(X[2]))"
      ],
      "metadata": {
        "colab": {
          "base_uri": "https://localhost:8080/"
        },
        "id": "tw8axlkGX1_G",
        "outputId": "02638f44-096d-438d-8be3-ffd15ff7f41a"
      },
      "execution_count": 41,
      "outputs": [
        {
          "output_type": "execute_result",
          "data": {
            "text/plain": [
              "(13, 188, 250)"
            ]
          },
          "metadata": {},
          "execution_count": 41
        }
      ]
    },
    {
      "cell_type": "markdown",
      "metadata": {
        "id": "H4sayZf1etbN"
      },
      "source": [
        "Next, calculate the needs of each factory (in barrels of crude, as usual) to meet the total demand of both groups of distributors. When you have done this, compare your answer to results already obtained. What mathematical conclusion can you draw?"
      ]
    },
    {
      "cell_type": "code",
      "source": [
        "#TASK-5\n",
        "# YOUR CODE HERE\n",
        "b_total = b+b_new2\n",
        "x_total = linalg.solve(A,b_total)\n",
        "round_x_total = np.round(x_total).astype(int)\n",
        "round_x_total\n",
        "print(\"Number of barrels of crude oil each plant should get are {} {} {} for A, B, C respectively\".format(math.ceil(float(x_total[0])), math.ceil(float(x_total[1])), math.ceil(float(x_total[2]))))"
      ],
      "metadata": {
        "colab": {
          "base_uri": "https://localhost:8080/"
        },
        "id": "6zsm541bxH94",
        "outputId": "cfa0d29a-401d-45d2-9f06-2526648677d2"
      },
      "execution_count": 67,
      "outputs": [
        {
          "output_type": "stream",
          "name": "stdout",
          "text": [
            "Number of barrels of crude oil each plant should get are 300 317 335 for A, B, C respectively\n"
          ]
        }
      ]
    },
    {
      "cell_type": "code",
      "metadata": {
        "id": "Hjm5kcawewgT",
        "colab": {
          "base_uri": "https://localhost:8080/"
        },
        "outputId": "7d793d4d-5d97-4c9d-c038-fa9345965fa9"
      },
      "source": [
        "#TASK-5\n",
        "# YOUR CODE HERE\n",
        "x, y, z = symbols('x,y,z')\n",
        "motor_oil_eq = Eq((20*x+4*y+4*z), 8600)\n",
        "diesel_oil_eq = Eq((10*x+14*y+5*z), 9100)\n",
        "gasoline_oil_eq = Eq((5*x+5*y+12*z), 7100)\n",
        "dir = solve((motor_oil_eq, diesel_oil_eq, gasoline_oil_eq), (x,y,z))\n",
        "x = math.ceil(float(dir.get(x)))\n",
        "y = math.ceil(float(dir.get(y)))\n",
        "z = math.ceil(float(dir.get(z)))\n",
        "x,y,z"
      ],
      "execution_count": 43,
      "outputs": [
        {
          "output_type": "execute_result",
          "data": {
            "text/plain": [
              "(300, 317, 335)"
            ]
          },
          "metadata": {},
          "execution_count": 43
        }
      ]
    },
    {
      "cell_type": "markdown",
      "metadata": {
        "id": "ov7RWVpSpzhw"
      },
      "source": [
        "### Sensitivity and Robustness (1 point)"
      ]
    },
    {
      "cell_type": "markdown",
      "metadata": {
        "id": "G1MVw0x_fQMC"
      },
      "source": [
        "In real life applications, constants are rarely ever exactly equal to their stated value; certain amounts of uncertainty are always present. This is part of the reason for the science of statistics. In the above model, the daily productions for the plants would be averages over a period of time. Explore what effect small changes in the parameters have on the output.\n",
        "\n",
        "To do this, pick any 3 coefficients, one at a time, and increase or decrease them by 3%. For each case , note what effect this has on the solution, as a percentage change. Can you draw any overall conclusion?"
      ]
    },
    {
      "cell_type": "code",
      "source": [
        "#TASK-6\n",
        "# YOUR CODE HERE\n",
        "# Increase co-effients of Factory A by 3%\n",
        "A_inc_3 = A.astype(float)\n",
        "A_inc_3[:, 0] = A_inc_3[:, 0] * 1.03\n",
        "x_inc_3 = linalg.solve(A_inc_3,b)\n",
        "round_x_inc_3 = np.round(x_inc_3).astype(int)\n",
        "print(\"****Case-1: Coefficients of Factory A is Increased by 3% ****\")\n",
        "print(\"Number of barrels of crude oil each plant should get are {} {} {} for A, B, C respectively\".format(round_x_inc_3[0],round_x_inc_3[1],round_x_inc_3[2]))\n",
        "\n",
        "print(\"\\n\\n\")\n",
        "\n",
        "# Decrease co-efficients of Factory B by 3%\n",
        "B_dec_3 = A.astype(float)\n",
        "B_dec_3[:, 1] = B_dec_3[:, 1] * 0.97\n",
        "x_dec_3 = linalg.solve(B_dec_3,b)\n",
        "round_x_dec_3 = np.round(x_dec_3).astype(int)\n",
        "print(\"****Case-2: Coefficients of Factory B is Decreased by 3% ****\")\n",
        "print(\"Number of barrels of crude oil each plant should get are {} {} {} for A, B, C respectively\".format(round_x_dec_3[0],round_x_dec_3[1],round_x_dec_3[2]))"
      ],
      "metadata": {
        "colab": {
          "base_uri": "https://localhost:8080/"
        },
        "id": "cMIdobXgyUCM",
        "outputId": "6e192618-a084-4191-e51a-0b6c05953a33"
      },
      "execution_count": 68,
      "outputs": [
        {
          "output_type": "stream",
          "name": "stdout",
          "text": [
            "****Case-1: Coefficients of Factory A is Increased by 3% ****\n",
            "Number of barrels of crude oil each plant should get are 279 129 85 for A, B, C respectively\n",
            "\n",
            "\n",
            "\n",
            "****Case-2: Coefficients of Factory B is Decreased by 3% ****\n",
            "Number of barrels of crude oil each plant should get are 287 133 85 for A, B, C respectively\n"
          ]
        }
      ]
    },
    {
      "cell_type": "code",
      "metadata": {
        "id": "ObBZDKvYfqie",
        "colab": {
          "base_uri": "https://localhost:8080/"
        },
        "outputId": "86c3395e-5a34-4aeb-b011-6ca306da8342"
      },
      "source": [
        "#TASK-6\n",
        "# YOUR CODE HERE\n",
        "# Coefficient matrix A\n",
        "A = np.array([[20, 4, 4], [10, 14, 5], [5, 5, 12]], dtype=float)\n",
        "arrayCopy=A.copy()\n",
        "print(\"-----For (+3%) Start---------\")\n",
        "coeff_arr = [0.03, -0.03]\n",
        "for coeff in coeff_arr:\n",
        "    print(f\"------------Starting for coefficient {coeff}------------\")\n",
        "    for i in range(len(A)):\n",
        "        for j in range(len(A[i])):\n",
        "            A[j][i] += A[j][i]*coeff\n",
        "            print(f\"Setting for row {j}, column{i} & coeff=({coeff})\")\n",
        "        B = np.array([15200, 14200, 10200])\n",
        "        X = np.linalg.solve(A, B)\n",
        "        print(\" \")\n",
        "        print(f\"{math.ceil(float(X[0]))} , {math.ceil(float(X[1]))}, {math.ceil(float(X[2]))}\")\n",
        "        print(\" \")\n",
        "        A=arrayCopy.copy()\n",
        "    print(f\"------------Finished for coefficient {coeff}------------\")"
      ],
      "execution_count": 46,
      "outputs": [
        {
          "output_type": "stream",
          "name": "stdout",
          "text": [
            "-----For (+3%) Start---------\n",
            "------------Starting for coefficient 0.03------------\n",
            "Setting for row 0, column0 & coeff=(0.03)\n",
            "Setting for row 1, column0 & coeff=(0.03)\n",
            "Setting for row 2, column0 & coeff=(0.03)\n",
            " \n",
            "570 , 445, 420\n",
            " \n",
            "Setting for row 0, column1 & coeff=(0.03)\n",
            "Setting for row 1, column1 & coeff=(0.03)\n",
            "Setting for row 2, column1 & coeff=(0.03)\n",
            " \n",
            "587 , 433, 420\n",
            " \n",
            "Setting for row 0, column2 & coeff=(0.03)\n",
            "Setting for row 1, column2 & coeff=(0.03)\n",
            "Setting for row 2, column2 & coeff=(0.03)\n",
            " \n",
            "587 , 445, 408\n",
            " \n",
            "------------Finished for coefficient 0.03------------\n",
            "------------Starting for coefficient -0.03------------\n",
            "Setting for row 0, column0 & coeff=(-0.03)\n",
            "Setting for row 1, column0 & coeff=(-0.03)\n",
            "Setting for row 2, column0 & coeff=(-0.03)\n",
            " \n",
            "606 , 445, 420\n",
            " \n",
            "Setting for row 0, column1 & coeff=(-0.03)\n",
            "Setting for row 1, column1 & coeff=(-0.03)\n",
            "Setting for row 2, column1 & coeff=(-0.03)\n",
            " \n",
            "587 , 459, 420\n",
            " \n",
            "Setting for row 0, column2 & coeff=(-0.03)\n",
            "Setting for row 1, column2 & coeff=(-0.03)\n",
            "Setting for row 2, column2 & coeff=(-0.03)\n",
            " \n",
            "587 , 445, 433\n",
            " \n",
            "------------Finished for coefficient -0.03------------\n"
          ]
        }
      ]
    },
    {
      "cell_type": "markdown",
      "metadata": {
        "id": "JOj5wcxQpzhx"
      },
      "source": [
        "### A Plant Off-Line (1 point)"
      ]
    },
    {
      "cell_type": "markdown",
      "metadata": {
        "id": "Dbm0HcJ7frNz"
      },
      "source": [
        "Suppose factory $C$ is shut down by the EPA (Environmental Protection Agency) temporarily for excessive emissions into the atmosphere. If your demand is as it was originally (6600, 5100, 3100), what would you now say about the companies ability to meet it? What do you recommend they schedule for production now?"
      ]
    },
    {
      "cell_type": "code",
      "source": [
        "#TASK-7\n",
        "# YOUR CODE HERE\n",
        "# Factory C shut\n",
        "from scipy.linalg import lstsq\n",
        "C_shut = A\n",
        "\n",
        "# Remove the column associated with Factory C\n",
        "C_shut = np.delete(C_shut,2,1)\n",
        "\n",
        "# Solve the system using lstsq\n",
        "solution, residuals, rank, singular_values = lstsq(C_shut,b)\n",
        "print(\"Number of barrels of crude oil each plant should get are {} {} for A, B\".format(solution[0],solution[1]))"
      ],
      "metadata": {
        "colab": {
          "base_uri": "https://localhost:8080/"
        },
        "id": "9gQoaudLym0h",
        "outputId": "50693504-5e99-4492-a538-ada910efd3b6"
      },
      "execution_count": 69,
      "outputs": [
        {
          "output_type": "stream",
          "name": "stdout",
          "text": [
            "Number of barrels of crude oil each plant should get are 299.4720496894411 168.4782608695653 for A, B\n"
          ]
        }
      ]
    },
    {
      "cell_type": "markdown",
      "metadata": {
        "id": "tZpzEVmEpzhx"
      },
      "source": [
        "### Buying another plant"
      ]
    },
    {
      "cell_type": "markdown",
      "metadata": {
        "id": "X0ghbS-s3Mel"
      },
      "source": [
        "####(Note the following given information. You will see questions in continuation to this, in the subsequent sections)\n",
        "\n",
        "This situation has caused enough concern that the CEO is considering buying another plant, identical to the third, and using it permanently. Assuming that all 4 plants are on line, what production do you recommend to meet the current demand (5000, 8500, 10000)? In general, what can you say about any increased flexibility that the 4th plant might provide?"
      ]
    },
    {
      "cell_type": "markdown",
      "metadata": {
        "id": "IcbiTq8zpzhx"
      },
      "source": [
        "Let the number of barrels used by factory $A$, $B$, $C$ and $D$ are $x$, $y$, $z$ and $w$ respectively.\n",
        "\n",
        "Then the system of linear equations will be\n",
        "\n",
        "$$20x + 4y + 4z + 4w = 5000$$\n",
        "\n",
        "$$10x + 14y + 5z + 5w = 8500$$\n",
        "\n",
        "$$5x + 5y + 12z + 12w = 10000$$\n",
        "\n",
        "The above system of linear equation has fewer equations than variables, hence it is *underdetermined* and cannot have a unique solution. In this case, there are either infinitely many solutions or no exact solution. We can solve it by keeping $w$ as constant and using [rref](http://linear.ups.edu/html/section-RREF.html) form to solve the system of linear equation.\n",
        "\n",
        "To know about rref implementation in python refer [here](https://docs.sympy.org/latest/tutorial/matrices.html#rref)."
      ]
    },
    {
      "cell_type": "code",
      "metadata": {
        "id": "DnCYG65tB8gp",
        "colab": {
          "base_uri": "https://localhost:8080/"
        },
        "outputId": "be099e98-f7b5-465b-a381-f9ad8435c3dd"
      },
      "source": [
        "import sympy as sy\n",
        "\n",
        "# create symbol 'w'\n",
        "w = sy.Symbol(\"w\")\n",
        "A_aug = sy.Matrix([[20, 4, 4, 5000-4*w],\n",
        "                   [10, 14, 5, 8500-5*w],\n",
        "                   [5, 5, 12, 10000-12*w]])\n",
        "# show rref form\n",
        "A_aug.rref()"
      ],
      "execution_count": 70,
      "outputs": [
        {
          "output_type": "execute_result",
          "data": {
            "text/plain": [
              "(Matrix([\n",
              " [1, 0, 0,   195/4],\n",
              " [0, 1, 0,  1325/4],\n",
              " [0, 0, 1, 675 - w]]),\n",
              " (0, 1, 2))"
            ]
          },
          "metadata": {},
          "execution_count": 70
        }
      ]
    },
    {
      "cell_type": "markdown",
      "metadata": {
        "id": "1lcEL3n5pzhz"
      },
      "source": [
        "From the above result, it can be seen that 4th plant will share the number of barrels required by the 3rd plant only, while the requirement of 1st and 2nd plant will remain unaffected."
      ]
    },
    {
      "cell_type": "markdown",
      "metadata": {
        "id": "yE9hCfAMpzhz"
      },
      "source": [
        "### Calculate the amount of Paraffin supplied (1 point)"
      ]
    },
    {
      "cell_type": "markdown",
      "metadata": {
        "id": "u9HSGUeZquXD"
      },
      "source": [
        "The company has just found a candle company that will buy its paraffin. Under the current conditions (i.e, after buying another plant) for demand (5000, 8500, 10000), how much can be supplied to them per day?"
      ]
    },
    {
      "cell_type": "markdown",
      "metadata": {
        "id": "ilEui1GHA3Oh"
      },
      "source": [
        "According to the problem statement, factory $A$ has 3 gallons of paraffin to dispose of per barrel of crude oil, factory $B$ 5 gallons, and factory $C$ 2 gallons."
      ]
    },
    {
      "cell_type": "code",
      "metadata": {
        "id": "gJnUalG2_r0i",
        "colab": {
          "base_uri": "https://localhost:8080/"
        },
        "outputId": "560aefa5-8790-4a21-d326-0a75a33a8cf7"
      },
      "source": [
        "#TASK-8\n",
        "# YOUR CODE HERE\n",
        "x=195/4\n",
        "y=1325/4\n",
        "z=675-w\n",
        "production=x*3+y*5+z*2\n",
        "print(production)\n",
        "#w is constant,\n",
        "#   if w value is high then total production will be negative and that's not possible\n",
        "#   if w is very small then overall production will be around 3152.5 gallons\n"
      ],
      "execution_count": 71,
      "outputs": [
        {
          "output_type": "stream",
          "name": "stdout",
          "text": [
            "3152.5 - 2*w\n"
          ]
        }
      ]
    },
    {
      "cell_type": "code",
      "source": [
        "#TASK-8 (With Assumption)\n",
        "# YOUR CODE HERE\n",
        "# Since A and B are unaffected and C&D share the barrel\n",
        "import numpy as np\n",
        "paraffin_per_barrel = np.array([3, 5, 2, 2])\n",
        "barrels_per_factory = np.append(round_x, round_x[2])\n",
        "print(barrels_per_factory)\n",
        "paraffin_total = np.sum(paraffin_per_barrel * barrels_per_factory)\n",
        "print(\"Total amount of paraffin generated: \", paraffin_total)"
      ],
      "metadata": {
        "colab": {
          "base_uri": "https://localhost:8080/"
        },
        "id": "X-gdmc3FTCGR",
        "outputId": "9723ca2e-1ab0-462d-aaf9-e6584d0517dc"
      },
      "execution_count": 72,
      "outputs": [
        {
          "output_type": "stream",
          "name": "stdout",
          "text": [
            "[287 129  85  85]\n",
            "Total amount of paraffin generated:  1846\n"
          ]
        }
      ]
    },
    {
      "cell_type": "markdown",
      "metadata": {
        "id": "sSpnIH4Ypzh0"
      },
      "source": [
        "### Selling the first plant (1 point)"
      ]
    },
    {
      "cell_type": "markdown",
      "metadata": {
        "id": "8l3c1GN14EDp"
      },
      "source": [
        "The management is also considering selling the first plant due to aging equipment and high workman's compensation costs for the state it is located in. They would like to know what this would do to their production capability. Specifically, they would like an example of a demand they could not meet with only plants 2 and 3, and also what effect having plant 4 has (recall it is identical to plant 3). They would also like an example of a demand that they could meet with just plants 2 and 3. Any general statements you could make here would be helpful."
      ]
    },
    {
      "cell_type": "markdown",
      "metadata": {
        "id": "qYz46wb2GTo7"
      },
      "source": [
        "Let the number of barrels used by factory $B$, $C$ and $D$ are $y$, $z$ and $w$ respectively.\n",
        "\n",
        "When considering only plants 2 and 3, and demand (5000, 8500, 10000) then we have\n",
        "\n",
        "$$4y + 4z = 5000$$\n",
        "\n",
        "$$14y + 5z = 8500$$\n",
        "\n",
        "$$5y + 12z = 10000$$"
      ]
    },
    {
      "cell_type": "code",
      "source": [
        "#TASK-9\n",
        "# YOUR CODE HERE\n",
        "# Factory A is sold\n",
        "from scipy.linalg import lstsq\n",
        "A_sell = A\n",
        "# Remove the column associated with Factory A\n",
        "A_shut = np.delete(A_sell,0,1)\n",
        "\n",
        "new_demand = np.array([5000,8500,10000])\n",
        "\n",
        "# Solve the system using lstsq\n",
        "solution, residuals, rank, singular_values = lstsq(A_sell,new_demand)\n",
        "\n",
        "print(\"Number of barrels of crude oil each plant should get are {} {} for B, C\".format(solution[0],solution[1]))"
      ],
      "metadata": {
        "colab": {
          "base_uri": "https://localhost:8080/"
        },
        "id": "TfZjPV-N0vpn",
        "outputId": "c67a97c8-2d4a-4380-89f1-10c446ce4a2b"
      },
      "execution_count": 51,
      "outputs": [
        {
          "output_type": "stream",
          "name": "stdout",
          "text": [
            "Number of barrels of crude oil each plant should get are 48.75000000000023 331.2500000000001 for B, C\n"
          ]
        }
      ]
    },
    {
      "cell_type": "markdown",
      "metadata": {
        "id": "bLsK1-zNEP0T"
      },
      "source": [
        "Taking 4th plant into consideration.\n",
        "Let the number of barrels used by factory $B$, $C$ and $D$ are $y$, $z$ and $w$ respectively.\n",
        "\n",
        "Then for demand (5000, 8500, 10000) the system of linear equations will be\n",
        "\n",
        "$$4y + 4z + 4w = 5000$$\n",
        "\n",
        "$$14y + 5z + 5w = 8500$$\n",
        "\n",
        "$$5y + 12z + 12w = 10000$$\n",
        "\n",
        "Solve it using rref form."
      ]
    },
    {
      "cell_type": "code",
      "metadata": {
        "id": "5lqPcpJ9F9xx",
        "colab": {
          "base_uri": "https://localhost:8080/"
        },
        "outputId": "2d95499f-5bc6-4ce8-f18a-aab8949477bf"
      },
      "source": [
        "#TASK-10\n",
        "# YOUR CODE HERE\n",
        "import sympy as sy\n",
        "\n",
        "B_aug = sy.Matrix([[4, 4, 4, 5000],\n",
        "                   [14, 5, 5, 8500],\n",
        "                   [5, 12, 12, 10000]])\n",
        "# show rref form\n",
        "B_aug.rref()"
      ],
      "execution_count": 53,
      "outputs": [
        {
          "output_type": "execute_result",
          "data": {
            "text/plain": [
              "(Matrix([\n",
              " [1, 0, 0, 0],\n",
              " [0, 1, 1, 0],\n",
              " [0, 0, 0, 1]]),\n",
              " (0, 1, 3))"
            ]
          },
          "metadata": {},
          "execution_count": 53
        }
      ]
    },
    {
      "cell_type": "markdown",
      "metadata": {
        "id": "u7SDjgFkP5fj"
      },
      "source": [
        "Now, changing demand to (6600, 5100, 3100) and solving the system of equation using rref form."
      ]
    },
    {
      "cell_type": "code",
      "metadata": {
        "id": "nwSpgbqAGlON",
        "colab": {
          "base_uri": "https://localhost:8080/"
        },
        "outputId": "73cf29a5-b545-4b41-bdfc-d5785b77f50d"
      },
      "source": [
        "#TASK-11\n",
        "# YOUR CODE HERE\n",
        "B_aug = sy.Matrix([[4, 4, 4, 6600],\n",
        "                   [14, 5, 5, 5100],\n",
        "                   [5, 12, 12, 3100]])\n",
        "# show rref form\n",
        "B_aug.rref()"
      ],
      "execution_count": 54,
      "outputs": [
        {
          "output_type": "execute_result",
          "data": {
            "text/plain": [
              "(Matrix([\n",
              " [1, 0, 0, 0],\n",
              " [0, 1, 1, 0],\n",
              " [0, 0, 0, 1]]),\n",
              " (0, 1, 3))"
            ]
          },
          "metadata": {},
          "execution_count": 54
        }
      ]
    },
    {
      "cell_type": "markdown",
      "metadata": {
        "id": "fngUPMK_pzh1"
      },
      "source": [
        "### Set rates for Products (1 point)"
      ]
    },
    {
      "cell_type": "markdown",
      "metadata": {
        "id": "8Go0tQYtpzh1"
      },
      "source": [
        "Company wants to set the rates of motor oil, diesel oil, and gasoline. For this purpose they have few suggestions given as follows:\n",
        "\n",
        "* 100, 66, 102 Rupees per gallon,\n",
        "\n",
        "* 104, 64, 100 Rupees per gallon,\n",
        "\n",
        "* 102, 68, 98 Rupees per gallon, and\n",
        "\n",
        "* 96, 68, 100 Rupees per gallon\n",
        "\n",
        "for motor oil, diesel oil, and gasoline respectively.\n",
        "\n",
        "Using matrix multiplication, find the rates which result in maximum total price."
      ]
    },
    {
      "cell_type": "markdown",
      "metadata": {
        "id": "9yRue5zIpzh1"
      },
      "source": [
        "Let $M$ denote the matrix such that rows represents different plants (A, B and C), columns represents different products (motor oil, diesel oil and gasoline) and each value represents production of that product from one barrel of crude oil for that plant.\n",
        "\n",
        "$$M = \\begin{bmatrix}\n",
        "20 & 10 & 5 \\\\\n",
        "4 & 14 & 5  \\\\\n",
        " 4 & 5 & 12  \n",
        "\\end{bmatrix}$$\n",
        "\n",
        "Also, $R$ is a matrix having different rates as its columns.\n",
        "\n",
        "$$R = \\begin{bmatrix}\n",
        "100 & 104 & 102 & 96 \\\\\n",
        "66 & 64 & 68 & 68  \\\\\n",
        "102 & 100 & 98 & 100  \n",
        "\\end{bmatrix}$$"
      ]
    },
    {
      "cell_type": "code",
      "metadata": {
        "id": "Sz5Bef3npzh1",
        "colab": {
          "base_uri": "https://localhost:8080/"
        },
        "outputId": "10dcf224-5a80-48e8-dc74-b4eafc289c36"
      },
      "source": [
        "#TASK-12\n",
        "# YOUR CODE HERE\n",
        "M = np.array(\n",
        "    [[20, 10,  5],\n",
        "     [4, 14, 5],\n",
        "      [4, 5, 12]])\n",
        "R = np.array(\n",
        "    [[100, 104, 102, 96],\n",
        "     [66, 64, 68, 68],\n",
        "     [102, 100, 98, 100]])\n",
        "revenues = np.dot(M, R)\n",
        "print(revenues)\n",
        "column_sums = np.sum(revenues, axis=0)\n",
        "print(column_sums)\n",
        "largestIndex =0\n",
        "max = 0\n",
        "for i in range(len(column_sums)):\n",
        "    if column_sums[i] > max:\n",
        "        max = column_sums[i]\n",
        "        largestIndex = i\n",
        "\n",
        "print(f\"It is concluded that maximum revenue is {max} and that is from {largestIndex+1} suggestion\")"
      ],
      "execution_count": 55,
      "outputs": [
        {
          "output_type": "stream",
          "name": "stdout",
          "text": [
            "[[3170 3220 3210 3100]\n",
            " [1834 1812 1850 1836]\n",
            " [1954 1936 1924 1924]]\n",
            "[6958 6968 6984 6860]\n",
            "It is concluded that maximum revenue is 6984 and that is from 3 suggestion\n"
          ]
        }
      ]
    },
    {
      "cell_type": "markdown",
      "metadata": {
        "id": "cga8JrkApzh1"
      },
      "source": [
        "### Marginal Cost (1 point)"
      ]
    },
    {
      "cell_type": "markdown",
      "metadata": {
        "id": "8nN5V5NXpzh2"
      },
      "source": [
        "The total cost $C(x)$ in Rupees, associated with the production of $x$ gallons of gasoline is given by\n",
        "\n",
        "$$C(x) = 0.005 x^3 – 0.02 x^2 + 30x + 5000$$\n",
        "\n",
        "Find the marginal cost when $22$ gallons are produced, where, marginal cost means the instantaneous rate of change of total cost at any level of output."
      ]
    },
    {
      "cell_type": "code",
      "metadata": {
        "id": "rO-HMED3pzh2",
        "colab": {
          "base_uri": "https://localhost:8080/"
        },
        "outputId": "d8255c2d-cfe1-465b-bb4b-9a827f32341b"
      },
      "source": [
        "#TASK-13\n",
        "# YOUR CODE HERE\n",
        "import sympy as sp\n",
        "\n",
        "# Define the symbol x\n",
        "x = sp.symbols('x')\n",
        "y = 0.005*(x**3) - .02*(x**2) + 30*x + 5000\n",
        "# Compute the derivative dy/dx\n",
        "dy_dx = sp.diff(y, x)\n",
        "final_val = dy_dx.subs(x, 22)\n",
        "\n",
        "# Print the result\n",
        "print(\"The derivative of y with respect to x is:\", dy_dx)\n",
        "print(\"Final Value is :\", final_val)"
      ],
      "execution_count": 56,
      "outputs": [
        {
          "output_type": "stream",
          "name": "stdout",
          "text": [
            "The derivative of y with respect to x is: 0.015*x**2 - 0.04*x + 30\n",
            "Final Value is : 36.3800000000000\n"
          ]
        }
      ]
    },
    {
      "cell_type": "markdown",
      "metadata": {
        "id": "qOMlrDEhpzh2"
      },
      "source": [
        "### Marginal Revenue (1 point)"
      ]
    },
    {
      "cell_type": "markdown",
      "metadata": {
        "id": "bfS88lmWpzh2"
      },
      "source": [
        "The total revenue in Rupees received from the sale of $x$ gallons of a motor oil is given by $$R(x) = 3x^2 + 36x + 5.$$\n",
        "\n",
        "Find the marginal revenue, when $x = 28$, where, marginal revenue means the rate of change of total revenue with respect to the number of items sold at an instant."
      ]
    },
    {
      "cell_type": "code",
      "metadata": {
        "id": "rb0h6p49pzh2",
        "colab": {
          "base_uri": "https://localhost:8080/"
        },
        "outputId": "e57ec6b6-5aec-4019-aa60-403715361f1e"
      },
      "source": [
        "#TASK-14\n",
        "# YOUR CODE HERE\n",
        "import sympy as sp\n",
        "\n",
        "# Define the symbol x\n",
        "x = sp.symbols('x')\n",
        "y = 3*(x**2) + 36*x + 5\n",
        "# Compute the derivative dy/dx\n",
        "dy_dx = sp.diff(y, x)\n",
        "final_val = dy_dx.subs(x, 28)\n",
        "\n",
        "# Print the result\n",
        "print(\"The derivative of y with respect to x is:\", dy_dx)\n",
        "print(\"Final Value is :\", final_val)"
      ],
      "execution_count": 57,
      "outputs": [
        {
          "output_type": "stream",
          "name": "stdout",
          "text": [
            "The derivative of y with respect to x is: 6*x + 36\n",
            "Final Value is : 204\n"
          ]
        }
      ]
    },
    {
      "cell_type": "markdown",
      "metadata": {
        "id": "ZKb5VuM_pzh2"
      },
      "source": [
        "### Pouring crude oil in tank (1 point)"
      ]
    },
    {
      "cell_type": "markdown",
      "metadata": {
        "id": "TD9zv5jPpzh2"
      },
      "source": [
        "In a cylindrical tank of radius 10 meter, crude oil is being poured at the rate of 314 cubic meter per hour. Then find\n",
        "\n",
        "* the rate at which the height of crude oil is increasing in the tank, and\n",
        "* the height of crude oil in tank after 2 hours."
      ]
    },
    {
      "cell_type": "code",
      "metadata": {
        "id": "g6ntcdNypzh2",
        "colab": {
          "base_uri": "https://localhost:8080/"
        },
        "outputId": "5f981248-a945-4e71-8ad8-2f1417a84ca5"
      },
      "source": [
        "#TASK-15\n",
        "# YOUR CODE HERE\n",
        "#Formular for cylinder volume πr2h\n",
        "import math\n",
        "heightRate=round(314/(math.pi*10**2))\n",
        "print(f\"heightRate = {heightRate}\")\n",
        "print(f\"After 2 hours = {heightRate*2}\")"
      ],
      "execution_count": 58,
      "outputs": [
        {
          "output_type": "stream",
          "name": "stdout",
          "text": [
            "heightRate = 1\n",
            "After 2 hours = 2\n"
          ]
        }
      ]
    }
  ]
}