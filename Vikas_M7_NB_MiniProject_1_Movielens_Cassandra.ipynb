{
  "nbformat": 4,
  "nbformat_minor": 5,
  "metadata": {
    "kernelspec": {
      "display_name": "Python 3",
      "language": "python",
      "name": "python3"
    },
    "language_info": {
      "codemirror_mode": {
        "name": "ipython",
        "version": 3
      },
      "file_extension": ".py",
      "mimetype": "text/x-python",
      "name": "python",
      "nbconvert_exporter": "python",
      "pygments_lexer": "ipython3",
      "version": "3.9.2"
    },
    "colab": {
      "provenance": [],
      "include_colab_link": true
    }
  },
  "cells": [
    {
      "cell_type": "markdown",
      "metadata": {
        "id": "view-in-github",
        "colab_type": "text"
      },
      "source": [
        "<a href=\"https://colab.research.google.com/github/vchandraiitk/datascience/blob/main/Vikas_M7_NB_MiniProject_1_Movielens_Cassandra.ipynb\" target=\"_parent\"><img src=\"https://colab.research.google.com/assets/colab-badge.svg\" alt=\"Open In Colab\"/></a>"
      ]
    },
    {
      "cell_type": "markdown",
      "metadata": {
        "id": "UGX-JCC0Kfj_"
      },
      "source": [
        "# Advanced Certification Program in Computational Data Science\n",
        "## A program by IISc and TalentSprint\n",
        "### Mini-Project: Movielens data querying and analysis using NoSQL Database"
      ],
      "id": "UGX-JCC0Kfj_"
    },
    {
      "cell_type": "markdown",
      "metadata": {
        "id": "nKwRLuRawuMm"
      },
      "source": [
        "## Problem Statement"
      ],
      "id": "nKwRLuRawuMm"
    },
    {
      "cell_type": "markdown",
      "metadata": {
        "id": "GcfsHAkQKicm"
      },
      "source": [
        "Using the Cassandra NoSQL database, explore the **Movielens** dataset and build a movie recommendation engine"
      ],
      "id": "GcfsHAkQKicm"
    },
    {
      "cell_type": "markdown",
      "metadata": {
        "id": "solid-northeast"
      },
      "source": [
        "## Learning Objectives"
      ],
      "id": "solid-northeast"
    },
    {
      "cell_type": "markdown",
      "metadata": {
        "id": "automated-grass"
      },
      "source": [
        "At the end of the mini-project, you will be able to :\n",
        "\n",
        "* understand the concepts of NoSQL platforms\n",
        "* implement the database connectivity using Cassandra\n",
        "* create and insert data to the database\n",
        "* perform querying, retrieving and analyzing the data from database"
      ],
      "id": "automated-grass"
    },
    {
      "cell_type": "markdown",
      "metadata": {
        "id": "danish-guard"
      },
      "source": [
        "### Dataset"
      ],
      "id": "danish-guard"
    },
    {
      "cell_type": "markdown",
      "metadata": {
        "id": "ei4RdaJXKrsQ"
      },
      "source": [
        "The dataset chosen for this mini-project is [Movielens Dataset](https://movielens.org/). The dataset describes movies and ratings from Movielens. It contains movies from year 1919 to 2000 of total 3883 movies. There are 6040 users who have rated one or more than one movie of total 1000209 ratings collected. Movielens is maintained by members of GroupLens Research at the University of Minnesota. There are 3 datasets given, and they are:\n",
        "\n",
        "1. `data_movie.csv` that contains movies information:\n",
        "\n",
        "* MovieId\n",
        "* Title\n",
        "* Genres\n",
        "\n",
        "2. `data_rating.csv` that contains ratings of movies by users:\n",
        "\n",
        "* UserId\n",
        "* MovieId\n",
        "* Rating\n",
        "\n",
        "3. `data_users.csv` that contains users information:\n",
        "\n",
        "* UserId\n",
        "* Age\n",
        "* Gender"
      ],
      "id": "ei4RdaJXKrsQ"
    },
    {
      "cell_type": "markdown",
      "metadata": {
        "id": "color-conference"
      },
      "source": [
        "## Information"
      ],
      "id": "color-conference"
    },
    {
      "cell_type": "markdown",
      "metadata": {
        "id": "included-advocate"
      },
      "source": [
        "#### NoSQL platforms\n",
        "\n",
        "A NoSQL database provides a mechanism for storage and retrieval of data that is modeled in a form other than the tabular relations used in relational databases.\n",
        "\n",
        "**Cassandra**\n",
        "\n",
        "Apache Cassandra is a free and open-source, distributed, wide-column store, NoSQL database management system designed to handle large amounts of data across many commodity servers, providing high availability with no single point of failure. It is a NOSQL database developed by Facebook. It is a great database that allows you to effectively run queries on large amount of structured and semi structured data.\n",
        "\n",
        "To know when you have to choose Cassandra as your database of choice, you need to have an understanding of CAP Theorem.\n",
        "\n",
        "CAP theorem states that it is impossible for a distributed system to satisfy all three of these guarantees together, you need to leave one out.\n",
        "\n",
        "- C is Consistency, means all nodes have the same data at the same time\n",
        "- P is partition tolerance, means that in case of failure the system continues to operate\n",
        "- A is availability , make sure every request receives a response\n",
        "\n",
        "![img](https://developer.ibm.com/developer/default/tutorials/ba-set-up-apache-cassandra-architecture/images/figure1.png)"
      ],
      "id": "included-advocate"
    },
    {
      "cell_type": "markdown",
      "metadata": {
        "id": "circular-ireland"
      },
      "source": [
        "### Components of Cassandra\n",
        "\n",
        "There are following components in the Cassandra\n",
        "\n",
        "![img](https://www.guru99.com/images/cassandra/021116_0524_CassandraAr1.png)\n",
        "\n",
        "**Node**\n",
        "Node is the place where data is stored. It is the basic component of Cassandra.\n",
        "\n",
        "**Data Center**\n",
        "A collection of nodes are called data center. Many nodes are categorized as a data center.\n",
        "\n",
        "**Cluster**\n",
        "The cluster is the collection of many data centers.\n",
        "\n",
        "**Commit Log**\n",
        "Every write operation is written to Commit Log. Commit log is used for crash recovery.\n",
        "\n",
        "**Mem-table**\n",
        "After data written in Commit log, data is written in Mem-table. Data is written in Mem-table temporarily.\n",
        "\n",
        "**SSTable**\n",
        "When Mem-table reaches a certain threshold, data is flushed to an SSTable disk file."
      ],
      "id": "circular-ireland"
    },
    {
      "cell_type": "markdown",
      "metadata": {
        "id": "emotional-michael"
      },
      "source": [
        "### Data Replication\n",
        "\n",
        "As hardware problem can occur or link can be down at any time during data process, a solution is required to provide a backup when the problem has occurred. So data is replicated for assuring no single point of failure.\n",
        "\n",
        "Cassandra places replicas of data on different nodes based on these two factors.\n",
        "- Where to place next replica is determined by the Replication Strategy.\n",
        "- While the total number of replicas placed on different nodes is determined by the Replication Factor.\n",
        "\n",
        "One Replication factor means that there is only a single copy of data while three replication factor means that there are three copies of the data on three different nodes."
      ],
      "id": "emotional-michael"
    },
    {
      "cell_type": "markdown",
      "metadata": {
        "id": "ndQNKsjS7c04"
      },
      "source": [
        "## Grading = 10 Points"
      ],
      "id": "ndQNKsjS7c04"
    },
    {
      "cell_type": "markdown",
      "metadata": {
        "id": "developed-value"
      },
      "source": [
        "**Install the cassandra-driver**"
      ],
      "id": "developed-value"
    },
    {
      "cell_type": "code",
      "metadata": {
        "id": "contrary-saturday",
        "outputId": "5cebd0c2-f841-4234-c9c4-30086332b3db",
        "colab": {
          "base_uri": "https://localhost:8080/"
        }
      },
      "source": [
        "!pip install cassandra-driver"
      ],
      "id": "contrary-saturday",
      "execution_count": 1,
      "outputs": [
        {
          "output_type": "stream",
          "name": "stdout",
          "text": [
            "Collecting cassandra-driver\n",
            "  Downloading cassandra_driver-3.29.2-cp310-cp310-manylinux_2_17_x86_64.manylinux2014_x86_64.whl.metadata (6.2 kB)\n",
            "Collecting geomet<0.3,>=0.1 (from cassandra-driver)\n",
            "  Downloading geomet-0.2.1.post1-py3-none-any.whl.metadata (1.0 kB)\n",
            "Requirement already satisfied: click in /usr/local/lib/python3.10/dist-packages (from geomet<0.3,>=0.1->cassandra-driver) (8.1.7)\n",
            "Requirement already satisfied: six in /usr/local/lib/python3.10/dist-packages (from geomet<0.3,>=0.1->cassandra-driver) (1.17.0)\n",
            "Downloading cassandra_driver-3.29.2-cp310-cp310-manylinux_2_17_x86_64.manylinux2014_x86_64.whl (3.9 MB)\n",
            "\u001b[2K   \u001b[90m━━━━━━━━━━━━━━━━━━━━━━━━━━━━━━━━━━━━━━━━\u001b[0m \u001b[32m3.9/3.9 MB\u001b[0m \u001b[31m8.8 MB/s\u001b[0m eta \u001b[36m0:00:00\u001b[0m\n",
            "\u001b[?25hDownloading geomet-0.2.1.post1-py3-none-any.whl (18 kB)\n",
            "Installing collected packages: geomet, cassandra-driver\n",
            "Successfully installed cassandra-driver-3.29.2 geomet-0.2.1.post1\n"
          ]
        }
      ]
    },
    {
      "cell_type": "markdown",
      "metadata": {
        "id": "recorded-feelings"
      },
      "source": [
        "#### Importing Necessary Packages"
      ],
      "id": "recorded-feelings"
    },
    {
      "cell_type": "code",
      "metadata": {
        "id": "million-maintenance"
      },
      "source": [
        "import pandas as pd\n",
        "import cassandra\n",
        "from cassandra.cluster import Cluster\n",
        "from cassandra.auth import PlainTextAuthProvider\n",
        "from matplotlib import pyplot as plt"
      ],
      "id": "million-maintenance",
      "execution_count": 2,
      "outputs": []
    },
    {
      "cell_type": "code",
      "metadata": {
        "id": "further-cowboy",
        "outputId": "d77309a7-e010-46fe-fd7e-884ffbac987c",
        "colab": {
          "base_uri": "https://localhost:8080/"
        }
      },
      "source": [
        "print(cassandra.__version__)"
      ],
      "id": "further-cowboy",
      "execution_count": 3,
      "outputs": [
        {
          "output_type": "stream",
          "name": "stdout",
          "text": [
            "3.29.2\n"
          ]
        }
      ]
    },
    {
      "cell_type": "markdown",
      "metadata": {
        "id": "governmental-front"
      },
      "source": [
        "### Database connection (2 points)\n",
        "\n",
        "**Astra Datastax login:** Please refer to this [document](https://cdn.iisc.talentsprint.com/CDS/DB_Connect_Docs/Datastax_Connect.pdf) for account creation on DataStax\n",
        "\n",
        "**Connect the database and create keyspace:**\n",
        "\n",
        "* Download Secure Connect Bundle zip file from Datastax [connect](https://docs.datastax.com/en/astra/docs/obtaining-database-credentials.html) section. Follow the instructions on the page\n",
        "* Upload the `Secure-connect-XXXX.zip` file, which is downloaded from datastax.\n",
        "* Generate the token and save the credentials from settings section.\n",
        "    - Hint: Select role as `admin-user` and generate token\n",
        "* Using the credentials generated in settings, specify the `client Id` and `Client Secret` to the variables below."
      ],
      "id": "governmental-front"
    },
    {
      "cell_type": "code",
      "source": [
        "#@title Download bundle zip\n",
        "!wget -qq https://cdn.exec.talentsprint.com/static/cds/content/secure_connect_cds_mov_database.zip\n",
        "!wget -qq https://cdn.exec.talentsprint.com/static/cds/content/data_movies.csv\n",
        "!wget -qq https://cdn.exec.talentsprint.com/static/cds/content/data_ratings.csv\n",
        "!wget -qq https://cdn.exec.talentsprint.com/static/cds/content/data_users.csv"
      ],
      "metadata": {
        "id": "Lx4EW5Azklp8"
      },
      "id": "Lx4EW5Azklp8",
      "execution_count": 4,
      "outputs": []
    },
    {
      "cell_type": "code",
      "metadata": {
        "id": "accompanied-husband",
        "outputId": "3ba29e7c-9c39-4907-8a5e-d5ff6797c831",
        "colab": {
          "base_uri": "https://localhost:8080/",
          "height": 1000
        }
      },
      "source": [
        "from google.colab import files\n",
        "files.upload()"
      ],
      "id": "accompanied-husband",
      "execution_count": 5,
      "outputs": [
        {
          "output_type": "display_data",
          "data": {
            "text/plain": [
              "<IPython.core.display.HTML object>"
            ],
            "text/html": [
              "\n",
              "     <input type=\"file\" id=\"files-8dcc0297-7990-4484-a190-fbf81aefb67e\" name=\"files[]\" multiple disabled\n",
              "        style=\"border:none\" />\n",
              "     <output id=\"result-8dcc0297-7990-4484-a190-fbf81aefb67e\">\n",
              "      Upload widget is only available when the cell has been executed in the\n",
              "      current browser session. Please rerun this cell to enable.\n",
              "      </output>\n",
              "      <script>// Copyright 2017 Google LLC\n",
              "//\n",
              "// Licensed under the Apache License, Version 2.0 (the \"License\");\n",
              "// you may not use this file except in compliance with the License.\n",
              "// You may obtain a copy of the License at\n",
              "//\n",
              "//      http://www.apache.org/licenses/LICENSE-2.0\n",
              "//\n",
              "// Unless required by applicable law or agreed to in writing, software\n",
              "// distributed under the License is distributed on an \"AS IS\" BASIS,\n",
              "// WITHOUT WARRANTIES OR CONDITIONS OF ANY KIND, either express or implied.\n",
              "// See the License for the specific language governing permissions and\n",
              "// limitations under the License.\n",
              "\n",
              "/**\n",
              " * @fileoverview Helpers for google.colab Python module.\n",
              " */\n",
              "(function(scope) {\n",
              "function span(text, styleAttributes = {}) {\n",
              "  const element = document.createElement('span');\n",
              "  element.textContent = text;\n",
              "  for (const key of Object.keys(styleAttributes)) {\n",
              "    element.style[key] = styleAttributes[key];\n",
              "  }\n",
              "  return element;\n",
              "}\n",
              "\n",
              "// Max number of bytes which will be uploaded at a time.\n",
              "const MAX_PAYLOAD_SIZE = 100 * 1024;\n",
              "\n",
              "function _uploadFiles(inputId, outputId) {\n",
              "  const steps = uploadFilesStep(inputId, outputId);\n",
              "  const outputElement = document.getElementById(outputId);\n",
              "  // Cache steps on the outputElement to make it available for the next call\n",
              "  // to uploadFilesContinue from Python.\n",
              "  outputElement.steps = steps;\n",
              "\n",
              "  return _uploadFilesContinue(outputId);\n",
              "}\n",
              "\n",
              "// This is roughly an async generator (not supported in the browser yet),\n",
              "// where there are multiple asynchronous steps and the Python side is going\n",
              "// to poll for completion of each step.\n",
              "// This uses a Promise to block the python side on completion of each step,\n",
              "// then passes the result of the previous step as the input to the next step.\n",
              "function _uploadFilesContinue(outputId) {\n",
              "  const outputElement = document.getElementById(outputId);\n",
              "  const steps = outputElement.steps;\n",
              "\n",
              "  const next = steps.next(outputElement.lastPromiseValue);\n",
              "  return Promise.resolve(next.value.promise).then((value) => {\n",
              "    // Cache the last promise value to make it available to the next\n",
              "    // step of the generator.\n",
              "    outputElement.lastPromiseValue = value;\n",
              "    return next.value.response;\n",
              "  });\n",
              "}\n",
              "\n",
              "/**\n",
              " * Generator function which is called between each async step of the upload\n",
              " * process.\n",
              " * @param {string} inputId Element ID of the input file picker element.\n",
              " * @param {string} outputId Element ID of the output display.\n",
              " * @return {!Iterable<!Object>} Iterable of next steps.\n",
              " */\n",
              "function* uploadFilesStep(inputId, outputId) {\n",
              "  const inputElement = document.getElementById(inputId);\n",
              "  inputElement.disabled = false;\n",
              "\n",
              "  const outputElement = document.getElementById(outputId);\n",
              "  outputElement.innerHTML = '';\n",
              "\n",
              "  const pickedPromise = new Promise((resolve) => {\n",
              "    inputElement.addEventListener('change', (e) => {\n",
              "      resolve(e.target.files);\n",
              "    });\n",
              "  });\n",
              "\n",
              "  const cancel = document.createElement('button');\n",
              "  inputElement.parentElement.appendChild(cancel);\n",
              "  cancel.textContent = 'Cancel upload';\n",
              "  const cancelPromise = new Promise((resolve) => {\n",
              "    cancel.onclick = () => {\n",
              "      resolve(null);\n",
              "    };\n",
              "  });\n",
              "\n",
              "  // Wait for the user to pick the files.\n",
              "  const files = yield {\n",
              "    promise: Promise.race([pickedPromise, cancelPromise]),\n",
              "    response: {\n",
              "      action: 'starting',\n",
              "    }\n",
              "  };\n",
              "\n",
              "  cancel.remove();\n",
              "\n",
              "  // Disable the input element since further picks are not allowed.\n",
              "  inputElement.disabled = true;\n",
              "\n",
              "  if (!files) {\n",
              "    return {\n",
              "      response: {\n",
              "        action: 'complete',\n",
              "      }\n",
              "    };\n",
              "  }\n",
              "\n",
              "  for (const file of files) {\n",
              "    const li = document.createElement('li');\n",
              "    li.append(span(file.name, {fontWeight: 'bold'}));\n",
              "    li.append(span(\n",
              "        `(${file.type || 'n/a'}) - ${file.size} bytes, ` +\n",
              "        `last modified: ${\n",
              "            file.lastModifiedDate ? file.lastModifiedDate.toLocaleDateString() :\n",
              "                                    'n/a'} - `));\n",
              "    const percent = span('0% done');\n",
              "    li.appendChild(percent);\n",
              "\n",
              "    outputElement.appendChild(li);\n",
              "\n",
              "    const fileDataPromise = new Promise((resolve) => {\n",
              "      const reader = new FileReader();\n",
              "      reader.onload = (e) => {\n",
              "        resolve(e.target.result);\n",
              "      };\n",
              "      reader.readAsArrayBuffer(file);\n",
              "    });\n",
              "    // Wait for the data to be ready.\n",
              "    let fileData = yield {\n",
              "      promise: fileDataPromise,\n",
              "      response: {\n",
              "        action: 'continue',\n",
              "      }\n",
              "    };\n",
              "\n",
              "    // Use a chunked sending to avoid message size limits. See b/62115660.\n",
              "    let position = 0;\n",
              "    do {\n",
              "      const length = Math.min(fileData.byteLength - position, MAX_PAYLOAD_SIZE);\n",
              "      const chunk = new Uint8Array(fileData, position, length);\n",
              "      position += length;\n",
              "\n",
              "      const base64 = btoa(String.fromCharCode.apply(null, chunk));\n",
              "      yield {\n",
              "        response: {\n",
              "          action: 'append',\n",
              "          file: file.name,\n",
              "          data: base64,\n",
              "        },\n",
              "      };\n",
              "\n",
              "      let percentDone = fileData.byteLength === 0 ?\n",
              "          100 :\n",
              "          Math.round((position / fileData.byteLength) * 100);\n",
              "      percent.textContent = `${percentDone}% done`;\n",
              "\n",
              "    } while (position < fileData.byteLength);\n",
              "  }\n",
              "\n",
              "  // All done.\n",
              "  yield {\n",
              "    response: {\n",
              "      action: 'complete',\n",
              "    }\n",
              "  };\n",
              "}\n",
              "\n",
              "scope.google = scope.google || {};\n",
              "scope.google.colab = scope.google.colab || {};\n",
              "scope.google.colab._files = {\n",
              "  _uploadFiles,\n",
              "  _uploadFilesContinue,\n",
              "};\n",
              "})(self);\n",
              "</script> "
            ]
          },
          "metadata": {}
        },
        {
          "output_type": "stream",
          "name": "stdout",
          "text": [
            "Saving secure-connect-cds1.zip to secure-connect-cds1.zip\n"
          ]
        },
        {
          "output_type": "execute_result",
          "data": {
            "text/plain": [
              "{'secure-connect-cds1.zip': b'PK\\x03\\x04\\x14\\x00\\x08\\x00\\x08\\x00\\xa6}\"Z\\x00\\x00\\x00\\x00\\x00\\x00\\x00\\x00\\x00\\x00\\x00\\x00\\x06\\x00\\t\\x00ca.crtUT\\x05\\x00\\x01\\x88\\xb4vgd\\x94\\xcd\\x92\\xba8\\x14\\xc5\\xf7<\\xc5\\xec\\xad)\\x01?\\x90\\xc5\\x7fq\\x03!\\x80\\x06\\r\\xf2\\x15w\\x82\\x1a\\xc4\\x06\\x15i\\x02>\\xfdT\\xdb\\x9b\\xa9\\x99,O\\xa5~\\xf7\\x9c\\xba\\xb7\\xce\\xdf?\\x0fa\\xe2\\x05\\x7fY8\\x8c<\\xc7\\xb3 \\xc2\\x1fU\\xa1\\x9egw\\xb6e\\xc1c\\x14 =\\x04\\xc2\\xb3P\\x13K\\x9bq\\x7f}?xe_\\x04\\xc0\\xf0\\x061\\x90\\xe77\\xdeP\\xb8\\x11\\xd0b\\x8cJj%\\t\\x1d\\x14\\xeb\\r>\\x12A\\x82@Dp\\x0b\\x10\\r\\x99\\xc4\\x82\\xdb\\tc.\\x96]\\xc4\\xd3\\x85\\xca\\xf7\\xc8\\xce\\x893\\xf2\\x08\\x87\\x14V\\x1f\\x80UR/$\\x8e\\xaa\\xf0$Py&\\x06\\xbb\\x02\\xfa\\x0bzE(\\x0e^\\xf9,\\xb9\\xd1=\\x97>|`6\\x1e\\xb4\\x8a\\xef\\x177~]\\x94\\xc5,\\x1c\\xf9^\\x93Em\\xde\\x94M\\x1d\\x96\\'\\xe2\\xbcO\\xc4\\x99o\\xea\\xa0\\xcf#8;R\\x1di\\x04\\x03\\xad`\\xa46\\xd6\\xa9\\xed\\x1f\\x1d\\xa9\\xbe\\xff\\xabQ\\xf7\\xf5\\xef\\x08<\\x82\\xaf$\\xa2\\xec%-\\xf6\\x99\\xeaa\\xe9\\xdb,\\xc21E\\xdeo\\xee\\x81nb\\xdd\\xf9>\\x11,\\x98>\\x94E\\x8d\\x07\\x05G\\xb0\\xfb\\x05\\xdc#\\x0b\\x7f\\xdcD?n(\\x9bK\\xfb\\xd7\\xfe\\x06\\xcb\\xc4\\xce\\x89\\xa9\\x1dl\\\\S\\x8b}`0\\xd0\\x13\\xd7\\xf1\\xb7r \\xde7\\xcf\\x02\\xb5\\xa8qW\\xb8~\\x7f\\xb0\\x167\\x9e\\x85?9\\xcb\\xb3\\xb5\\xa8r]\\x95B\\xe0+\\x05\\x95X\\xfb\\'\\xd9{\\xf9\\xccf\\x18\\x01\\x8b\\x01\\xe6\\x1eRl\\t?\\x1f\\xd6p\\xf7\\x100{\\xbdm\\x1e\\xb2\\xa0\\x86\\x0b\\xc7t\\xdb7\\x17t+0\\xdf\\x18R\\xa2\\xee\\xd1\\x9d\\x83b~,2\\xaa\\xd5Q{\\x17\\xfa\\xca\\\\\\x0fBy\\xc5\\x0c\\x8b\\xd36\\xd2\\xf1%\\xbc\\xeeg\\xcf\\xb2\\xdd\\xe5\\x87\\xc6\\x98\\x9c3\\x1e\\x81\\xd1Df\\x9c\\xcd\\x86\\xa6\\xd9\\xc9\\xab\\x88\\xa0\\xc6\\xec\\xc4\\xfa\\xcb\\x14\\xb2\\xa3\\xd1NH\\xf9@w\\xe5y\\x9fZ;\\xd5\\xcf\\xf0\\xa9k;X\\xad\\x13\\xfb\\x99\\x92A4\\xcd#\\n\\xd2\\xdc\\xa9\\x11\\xae\\xac\\x9a\\xe8\\xa69\\xcd\\x1d\\x91\\x92Z\\xf4\\xb0\\xa9J\\x99\\xba\\x10\\x8f\\xd1\\xec\\xe5*e\\xa8\\xa9\\x93\\xb8\\xed8YZ\\xa0\\xc2[[\\xb5r2\\xaa\\xdd\\xa5\\xf0J\\xb2v\\xfbj\\xdb\\x15\\xddE4\\x95\\xfdX\\\\\\xae\\xdf\\xee\\xb2\\xf7\\xf1\\xd9}m\\xd7\\xab^l\\xfd\\xf5R\\x19P\\x94\\x1f\\xd3\\xea\\x02\\xbb\\xa7\\x07\\xed\\xc3J\\x9do\\x81\\xdb\\xf8\\x1d55\\xaf\\r\\xa3\\x0eg\\xb4\\xaa.;\\x87Ndk\\xd1G\\xb6\\xdf\\x06Mm\\xe8z\\xff\\xb0\\xc6\\xea\\xad\\xe5\\x8a4\\xf3\\xe4\\xe4q\\x95\\xe0\\xae?\\xf9\\xef\\xb5\\xcb\\x19\\x9f\\xc2\\xe4\\xd5\\x05IM\\x0f\\x1a\\xd5\\x82w\\x08\\x82\"\\x00R\\xb1\\n\\x01\\x85\\xf9\\xcf\\x1aO\\xb6\\xc4h*\\x19V@zVi\\xc3\\xe9\\xe7\\x16\\xdc}\\x8c\\x9d\\nb$D\\x8b\\x04v\\x10+l\\x10\\xdc[K\\x8e\\x10\\x8b]\\x90X\\xda\\x92\\xdbI\\xa8F\\xc0\\xdc)\\x82X*\\xf0CzC\\x80\\xc4\\xedY\\xde\\xae\\xc4\\x94*\\x02\\xf6r\\x00\\xb6\\x160\\x0c\\x89/\\x97\\xa7$\\xf2c\\x97,\\xc74>\\xecdz\\xbaizx\\xfcv\\x06\\xd7\\x9cL\\x94\\x18i\\xcbK\\xaf\\xcaM0\\x1a+\\x14\\xf0\"\\x99&y\\xf0\\x9c\\xb2r\\xac\\xdff2=\\xeciW\\xb7\\xbe\\xd4\\xa7_\\xc9\\xfcjt\"\\xa1\\x89s;\\x06;|v:w\\xbbQ\\xd4\"\\xf5\\xebd9~;_iJ\\xaa\\xe3avw-\\xd8\\x98 \\xc5|X\\xa6\\xac\\xee\\xe8\\xbd=\\x9f\\x8aG\\xb8\\x87-i\\xcc2\\x9bx\\xf4\\xdc\\x84\\xce|\\x8b\\xbd\\xd5W\\xa7\\x10\\xcdx\\'\\xe4H\\xa3\\xf2`L\\xb7\\xee\\xdb\\xf1z\\x91-\\xc6\\xe6\\xf9e\\xbeB\\x94\\x11\\x15\\xaa\\xe0\\x85\\x88\\xce\\xae\\xbb\\x89\\x9a]\\x8f&\"}_\\xdd\\x9ep\\x19\\xe4c>\\xb7\\x94\\xf4X$\\xaf<O\\x9d\\xb6\\x98\\xb4g^o/\\xf5}\\\\\\xe5\\x9a\\xf3UOE\\x96\\xect;\\xaf(\\x97n\\xb6\\x08\\xd7\\xfd\\xae\\xd3\\xf7\\xcc\\xd8\\xe8\\xd7L\\x1c\\x8f\\xdaq>\\x11\\xa6r\\xf0\\x87i<\\x0b\\x1dw}vr\\xf9\\x087\\x8ek\\xa83\\x07\\xb4TW\\xb5\\x99I\\xafu\\xbb\\xbf\\\\\\x1b\\xf7\\xca\\xf6\\xe3$\\xc5\\xf6\\xcb\\xd8\\xcd5\\xf9\\xe7\\x8f\\xf2iD\\x1c\\xd8\\xffk\\xc9\\x7f\\x02\\x00\\x00\\xff\\xffPK\\x07\\x08\\xd2\\x87\\x16\\xe6\\xe8\\x03\\x00\\x00A\\x05\\x00\\x00PK\\x03\\x04\\x14\\x00\\x08\\x00\\x08\\x00\\xa6}\"Z\\x00\\x00\\x00\\x00\\x00\\x00\\x00\\x00\\x00\\x00\\x00\\x00\\x03\\x00\\t\\x00keyUT\\x05\\x00\\x01\\x88\\xb4vgl\\xd5\\'\\x12\\xa4\\x00\\x02\\x85a\\xcf)\\xc6S[4\\x19\\xc4\\x08R\\x93s\\xc6\\x91\\x9a\\x9c3\\xa7\\xdf\\xda\\xd1\\xfb\\xec3\\xbf\\xfb\\xfe\\xf3\\xbf\\xb1\\x82(\\x1b\\x7f\\x1c\\x97\\xf9c9r\\xc0x\\xc2\\x1fU\\x88\\xff=\\x80.\\xcb\\xc2\\xcc\\xc8,\\xc3\\xa8\\x1cc\\x0b\\xccaK\\xa2\\x128U\\x057\\xdaBdm\\xc0i\\xb8h\\xac5V\\x8cx\\x110\\x96\\xf9\\x1bsh]u\\xd9\\x1b\\x07\\xdd&\\x15\\xa0[\\xdePn\\xc5\\xa0\\x10\\xf33pK\\x0ff\\x0e\\xf2\\xe0LI]\\xe7lO\\\\\\x13%\\xa08\\xc8\\x15|=\\xf7\\x94\\x9d\\xdf\\xdb\\x83~\\xea\\xaf\\x87\\xc0\\x97\\xb7\\x82\\xe5yt \\xef\\xda\\x9f\\xf9\\xd4\\x17(\\x87j8\\x8dd\\xbd\\xe2N\\x06\\xd3\\xe4j8H\\xa4\\xf5\\x86\\xb1\\x9f?\\xf1\\xa3\\x90\\xdf\\x82\\xd7\\x9b\\x04q\\x99A\\xa6\\x1e\\x7fH\\xcb^c\\x05\\xf7\\xb8\\x80\\xab\\xe15\\x8f\\x86\\xb1\\x18\\x0c\\xb1\\xb7\\xe9Cm\\xf5\\xcb\\x1fXM\\xda=\\x94\\x89\\x84\\xbd}B\\r+g\\xa3\\x87W\\xafl\\x1d}\\x8a\\x0f\\xed&\\x94\\xf79\\xdf\\xa8Wm\"\\x05\\xcc!\\x16u=k\\xd9\\xa0\\x19\\xf6Ez\\x9cW\\xe7]\\x81*8\\x11\\x8egi\\x924\\xaa\\xd3\\xe3b\\xa6\\xaby\\xee\\xa7\\xab+^\\xb2\\x0eld\\xe1l\\xdd\\'t.q\\x80%\\x15\\xd6\\xd6(\\xe6\\xf9\\x02\\x1f.Ln0\\x87PN:e\\xb2\\xf9\\xb4\\x1d\\xc1+\\xe7\\x80\\xf0\\xba-\\xf3\\x8c\\xcd\\xb0\\xcc$\\xb3\\x8c\\xcd\\xbd\\xf1Ab\\xd2;\\xd3\\x98\\xbdS\\x00v\\xeb=I\\xed\\xfa\\xf1\\x05\\xefA5\\xdez\\xa1s\\xb2\\xb0\\xbe\\xcc\\x91[\\x8dL\\x04\\xd2~0\\xf83<e\\x1d\\xaa\\xcd\\xb6\\\\\\x99%B4\\xd1hvRR\\x99\\xb4t\\x80!\\x8e\\xf9\\xfc\\xac\\x1c\\xe9\\x08\\x02\\xcb1\\xdd\\x1a\\xba\\xc3\\x89\\x99\\xe6SKZ\\xb9\\xd0l\\xab\\x12\\tRj3D,\\xe9z\\x8b\\t\\xa4x\\x17\\t\\xf9n\\xbct\\xe6S^\\x1cp\\xc8\\xb2-\\x07\\xa8\\xd3o*bO\\xc2\\xad,\\x12xeI\\xcbO\\x81\\x00Z\\xa9\\x94\\xd6F\\xf1M]\\xe9P\\xa3@U\\xc6\\xde\\xear4\\x12\\xb5CR\\xac\\xa6R\\xeb\\x17\\xd0\\xb6\\x97\\xc4`\\xc8/\\xa4A$$\\xfc\\x1dQ\\x96\\xf0\\xe25Pp0\\x94m\\x9b4\\xa1W\\x16#\\xd8\\x88\\xba\\x8a\\xeb\\x14z\\xfd\\xdc\\x98\\x83\\x12+k\\x16\\x94\\x94\\x8e\\xf6\\x0c\\xb4\\xb5faK\\xdd\\xd3\\x84$\\xc4\\x14:R\\xb8Yg\\xd5\\x00\\x05Y\\xa6\\xc1\\xca\\xfe\\x0b\\xef_\\xd5\\x19\\xa6:]\\xd88{\\x8ej\\x94\\xee=X\\xae\\xcaW=(\\xab\\t\\x03\\xa8\\'J_\\x0763\\x93\\xc82\\xa6P\\x7f\\xa4{K\\xeb$\\x1e\\xbf\\xe9\\xd6\\xe1h\\xed\\xa4\\x9a\\xc4!kM\\xfb\\xdf\\rQ\\x19Dw\\xc7\\x18\\xf1$\\x8d\\xbd~\\xccv\\xaf\\x1ep\\xa0\\xfaQ\\xdf$\\xca\\xff@\\xfb\\xed\\x1a=d\\xf4\\xe8\\x95\\xaf-@\\xed\\xdfM\\xafRyw\\x99J\\x11\\x02\\xfcV\\xad\\x02\\x81|\\xa4e-r\\xc5\\x9b\\xf65\\x8dm!a\\xc0+\\xfd\\xd1\\x19\\xadbF\\xe26K\\x98\\xc4A\\xf7&\\xcf=\\'\\xc7\\x7fm\\xbd6l\\xb4\\xaeUc\\x10$\\x7f\\xc9\\xe7\\xddc|\\x80a\\x19\\xbc\\xb9\\xe8\\xbfbC\\xf9\\x01\\xed\\xb6\\xd8a\\xcc\\x87\\xeb\\xa6\\xc4J1\\x16\\xde\\xd7\\x11\\xca\\xb9[1u\\x13\\x91\\x14k\\x0c\\xfa\\xc5\\xbe\\n\\xd1Q\\xae\\xe9\\xc3\\xdf\\x0e\\xf1Cb\\xb2Z\\xb45\\x97\\xdbu@s\\x02\\xce\\x02\\xa4\\xb0\\xa9\\x11\\xdc\\xcc&7\\x12\\t\\x14U6\\x87\\x95\\x92\\xa2\\xfb$T\\xbe\\x1bj\\xa7\\xd9Gh\\xe7\\xc1\\x0fZr\\xdfJ\\xb6\\xe0\\x9b\\x91<\\x8b\\x8a\\'A4\\xc6\\xcc\\x04\\xecrg:\\xff+\\xc3\\x9aC\\x1a\\xa1\\x95I\\xa8\\xba\\x93\\x97\\x81\\x95\\x87VQ.w\\xbeW)\\xc3\\t\\x1d1\\x93\\xc8p\\\\\\x89\\xa6\\xc4<\\xef\\xa1(\\x84B\\xb1\\x89\\x11J\\x03m\\x1e}\\xf8\\xf2S\\x94/E\\xc9\\xa9\\xe8\\x13\\xbd?\\x0c\\xd6g\\xbc\\xab\\xa9\\xa4\\xb6\\xd3\\xdf\\xa4\\xfe\\x82\\xf0j\\xcc\\x89\\xe6\\xab\\x8b`\\xc0)\\xe5 \\xbe\\x91\\x04yY]IA\\x00\\xa4m0^{P\\xf3\\xa3(u\\x885=\\x05E\\xca%\\x93]\\xa7\\xee\\x08\\xd0\\xb7A\\xcfj\\xb5\\x9e\\x8d\\xf0\\x1f-I\\x9e\\xb7\\xb5 \\xf2!Y\\x87\\xb33V\\xb4\\xaf\\x87\\x02f\\xf2\\x0eKsc\\xaf\\xe6\\x11P;\\x83\\xe9s\\xfci\\x94\\xcfU13>\\x93\\xa1\\xed\\xde\\x88m\\xaa\\xda\\xd74\\xc9PK\\x8a\\x87\\xe9\"\\xde\\xbd\\x94\\xd7\\xb8\\xbe\\x11\\x9a\\xcd\\x00.y\\x11{\\xca\\x84\\xf7ny%D\\xbc\"V\\xaa\\x81\\xfbH\\x18^\\x1b)\\xf2-W\\x91\\xa6\\x8e\\xa3\\xed\\xc1\\xde\\x9b\\xb9\\xab\\x01\\xdf\\xfe.\\xcfdzo\\xf9kiU,\\x02\\x97\\xc5\\xd2K\\'7\\xd1\\xb7\\xfd\\xad9x\\x18\\x1f\\xc5|O\\xb9y\\xa3Xz63P\\xa8\\xc09A>\\xdb\\x06EE\\xcd\\x1dGb\\'\\xa2\\xc9hX \\xf8D\\x03\\xe1\\x07dd\\x12\\xbb\\xb6\\xcaV6oP\\xac\\x92\\xd2\\x95\\x18\\xf0\\x10\\x8f\\xe7\\xb0\\x15\\xd8h\\x11\\xb3\\xad\\x80n\\xda+#h:\\xd4I\\x86\\x11\\x1cI\\x9e\\xcf\"\\xc9\\xd6\\xa9=\\xad\\xa0\\x02\\x9ao\\xc1\\x0cX\\x108^x]d~>\\x87d{\\x82\\xef\\xe1=]\\xbd\\xb4\\x02\\xda\\xed\\xeb\\xf7\\x9d\\xfa\\xd6\\x83?\\xf8 \\x114\\xa8B\\xf3\\xd4\\xaew.\\x11\\xd5{\\xe8\\x01_JoU\\xa55O\\xd5r\\x16\\x92L\\xf3\\x88\\x92\\xa1\\x02\\x0e\\x9b\\xa3\\x9fK\\x0b<\\xe7\\xf2\\x85\\xf8\\x1c\\x94\\x0f\\xa7\\xf4\\xce\\x9bj;\\xc6\\x19~\\xd7\\xdf\\xbf\\xc0?V\\x04\\x83\\xff\\xff\\xdc\\xfc7\\x00\\x00\\xff\\xffPK\\x07\\x08.\\x0e\\x0c \\t\\x05\\x00\\x00\\x8f\\x06\\x00\\x00PK\\x03\\x04\\x14\\x00\\x08\\x00\\x08\\x00\\xa6}\"Z\\x00\\x00\\x00\\x00\\x00\\x00\\x00\\x00\\x00\\x00\\x00\\x00\\x04\\x00\\t\\x00certUT\\x05\\x00\\x01\\x88\\xb4vg\\x8c\\x94K\\xcf\\x828\\x1b\\x86\\xf7\\xfc\\x8aoo\\xbe\\x88g\\\\\\xf6\\x04V(Z\\x8e\\x96\\x9d\\x80\\x82\\x1c<\\xa0P\\xe0\\xd7O|\\xdf\\xcdd&\\x93\\x99\\xae\\x9e\\xdc\\x8b\\xabmr=\\xf7\\xff\\xbf\\x07\\x12\\x83\\xda\\xffC\\xc4\\xf1\\xa8N\\x11\\xf0\\xc8O\\xaa0J\\xc9\\xa1@\\x08\\x0cf\\x06$\\x85 \\xa3\\x08\\xde\\x1f\\x12s\\xb17\\x1f\\x11\\xcd\\xbb\\xc4\\x06\\x9cX\\x90\\x03y\\x19\\x89\\xc5@i\\x80\\x99O`\\xceP\\x10\\xb0^A#\\xd8\\xc3\\xcc\\x0e \\xc8<P\\xda\\x909\\\\\\x92L\\xe0\\x80\\xf3\\x1d\\x91\\x1fO\\x84+U\\xb8\\x10\\xc7\\x86>\\x08\\x8f8\\x0ch?\\x00\\x943\\xea\\x18\\xba\\xaa\\x88\\xc0V\\xc5)\\xebq\\x01\\xd8/\\xe8\\xedA\\xdf~\\xc7\\x8b\\xa0d\\xae\\x90{\\xf0\\x03\\xc3\\xa4\\x9f\\x15\\xc2]\\x95\\xe2\\xb6\\xca\\x93\\x853\\x08w&\\x93z[*V\\xed\\xe4\\xa9\\xa1\\x8f\\xa9\\xa1/\\xad\\xda\\xeeb\\x0f\\\\t\\xa9\\x0e\\xb6\\x07z\\x86io{\\\\e88\\xebR\\x1d\\xff\\x9a1j<\\x14\\xc6\\xdf\\x12\\xf1\\x9f[\\x0c\"\\xf7\\x81\\xff\\xa7\\x7f\"\\xc8\\x10WI\\xafc\\xe0\\xfe\\xbe.\\xf1\\xd0\\xcc\\xce\\xe3\\xbb\\x93Sb\\xbf\\xc5i\\x9f+\\xcc!\\x12\\xcb\\x1f\\x80IdN\\xc4\\xc9\\xc9\\xfd\\x85\\x93_090 \\x7fA=\\xd3\\xf9\\xbc\\xef\\xd2\\x90\\xf7\\xfe\\x08\\x9d_\\x18\\xf3\\xdc\\xda~+\\xe70hS\\xb4\\x1c\\xd8\\x98\\x16Q\\xedK{P\\xe7\\x07\\xacW\\x96\\xe7\\xdc\\x0e\\x18|\\x0e!\\x97\\x0c\\xa9}T\\x90\\x95\\x98G\\xb7\\xa8\\xc8F\\xe1\\xf1Ozb\\x9f(\\xd4G%\\xc5\\xa4\\x8d\\x0c\\xda\\x8a\\x93\\xad&\\xf5w\\xd6\\xd5\\xef,NY+\\xe6\\xdb\\x0f\\xa3\\x14\\xd2\\x02\\xd80+_yy3\\xb6R\\x85\\x80\\x13\\x1d\\x80\\x03\\x02\\\\\\x03_\\x0f \\xcaL\\x048\\x01-\\xdf\\x19\\xfb\\xc0\\xc9\\xb2\\xd9\\xcdz\\xad\\xe3\"@\\xd6\\xca\\xb0\\x9b|\\x99\\xdeWi\\x00\\x8e\\x87\\xeb=\\x996\\r\\xa3\\xde\\xbdf|\\xb3/_c\\xa8\\xd0\\xc2\\x08R#\\xe9\\x02\\xf7\\xe2\\xcd@\\xbbi\\xd1ag6\\xcf\\xf8\\x13\\xb9\\x87\\xc5z*\\x82d\\xbfj\\xba\\xcf\\x19>\\xc7\\xde\\x9b^\\xcdk5\\x9d\\x8c\\xf8\\x18\\xbc\\x86\\x81%eqU\\x0eC.\\'44\\xc3\\xc7}\\x937+\\'\\x9em7\\x8d\\xed\\xccOVe\\xdb\\x9f\\xeej\\xa8\\xfb\\x8d\\x9ebv\\x8b\\xe6.\\xa8\\xa96\\xf8\\xf5\\xf9RY\\x90\\xb8\\xad\\x947l)\\xdev\\xb6\\x14\\x93p9\\xde\\xaa\\xd0j\\xfc\\xcbu\\x92=\\xac\\xbe\\xbeD\\xbb\\xe5XEZ\\xdd \\xbeh\\xbd\\xbc\\x81\\xf9IM\\xd5\\xad\\x1bi\\x9e\\xda\\x8d\\xa7\\xca\\xe4\\xeb\\xf3\\xa1\\x16\\x86\\xc2X\\\\\\xc0\\xe0V\\x7f^\\xbb\\xc1\\x19\\x19v\\x89\\x96\"c&\\x9e\\xbb\\xc7\\xce\\xd2J&\\xd2\\xe76{>\\xab\\x87,\\xd3q\\x93\\x07|\\xfeB\\x9c\\xf9k\\x86\"\\xe7u&\\x8dR\\xd8\\xe9\\xf3)\\'\\x03\\n\\xa3~\\x92L\\x17h\\xd7\\xd1\\xcdM-\\xca5\\xdew\\xf5\\x1c3N1\\xe0\\x00>\\x96F\\xc4\\xa8\\x112\\xb0\\xfc\\xba\\x91bI\\xe0Tr\\xa2\\x00Iw\\x19\\x06\\xe9W\\x8e\\x9d\\xeb\\x13\\xbd\\x00>\\xcc\\xb2\\x06fD\\x87<\\xc1 \\x13\\xd4\\x94\\x02B\\xee\\xef\\x80$\\x12\\x7f\\x17\\xcdQ\\x0f\\x10$\\x04r\\x82\\x14 \\xb9\\xc1t\\xff\\x87J\\xb8s`d@_\\xc3\\xfe\\xab`\\xca?\\x19\\xf6\\xaf\\x82\\x01\\xd5@\\xee\\xcbP\\\\\\x1a/0\\'\\x10I\\x1f\\x80%\\x85\\x80C5v\\xa6\\x9eU\\x97W\\x9e=\\xea\\xb5\\rC1\\xdb\\xbcg\\x86\\n\\xde\\xf1E\\x83\\xe2\\x15\\xdf\\xab[~\\x86n\\xc3\\x17Y\\xa8h\\x91\\x99\\x05x}l\\xabs\\x96\\xa2\\xfc\\x9c\\xbe\\x13\\xed\\xca\\x9e\\xd7\\xcfU3\\x99-MW\\x7fPA\\xb2}\\x12\\xdd\\x8d\\xe3\\xa3\\xa9]8\\xdf\\x94o\\xcd\\xd1\\\\\\xa4\\xea]pT\\x16C\\xb1Yf\\xdb\\xb6\\xda\\xe5\\xf1\\x86\\x9e\\x1b\\xbf\\xb9w\\x17m3#\\x06]\\\\\\x85\\xde\\x97\\x8fp\\xbb\\xbd/\\x83 \\xf9\\x1cPy\\xeeO\\xd4\\x9b\\n\\xb8\\xa1\\xe4]\\xc7\\x1bk\\xcb\\x946nR\\t\\x99\\x08j\\x97v\\xfb\\x0e?\\xf4\\xea\\x19\\x06\\x8d\\x17\\xdeZ\\x96\\x9c/`\\x05\\x1f\\xc6\\xa0\\xc5\\xf3\\xebk\\x99\\x07\\xe2=\\xa6tv\\x8a\\xacnn^\\xe6{\\xbc\\xad<\\x85\\xc4^\\xbb\\xd7\\xc3\\xb8=\\xbd\\x1b\\x13\\n\\x10\\x14\\xb3vrr\\xca\\x8fu\\xbc\\xcc\\xca\\x80Y\\xfe-H\\xf0\\xfa>\\xbd\\xa6\\xb4[\\x99\\xd9\\xc9\\x14\\xdc\\x9b\\x9b\\xeb1\\xadJU+\\x80\\xa2\\xa6\\xfa\\xdd\\xfe\\xbc\\xb4|\\xbb;\\x16\\x13|Gh\\xa9\\xa97$s\\xb1\\xb3UR\\xf0>4\\x8e\\xfe\\xad\\xfa(?%Nl\\xfc\\xf7b\\xff#\\x00\\x00\\xff\\xffPK\\x07\\x08\\xe5\\xe0\\x94\\xd1.\\x04\\x00\\x00\\xf5\\x05\\x00\\x00PK\\x03\\x04\\x14\\x00\\x08\\x00\\x08\\x00\\xa6}\"Z\\x00\\x00\\x00\\x00\\x00\\x00\\x00\\x00\\x00\\x00\\x00\\x00\\x0c\\x00\\t\\x00identity.jksUT\\x05\\x00\\x01\\x88\\xb4vg\\x8c\\x94yt\\x13\\xd5\\x1e\\xc7\\xd3B\\xab\\x04(t\\x81Re\\xdf\\x04\\x03t\\x92\\xa6MR\\x10\\x99-\\x93I2\\x93N\\x96I&E$\\xebdO\\x9b&\\x99$(BYdUQ\\x8ae}\\n\\x94BQdGP\\xf6ED(\\x96E,\\x05[(\\x14T\\x10D\\x04\\x0b\\xd2\\xbe\\xd3\\xf2\\xcf;\\xef\\x9dw\\xde\\xbb\\xe7\\xdcs~\\xe7\\xfb\\xc7\\xe7\\xde{\\xce\\xe7~\\xdb\\xee\\xb6\\xdd\\xe5\\xf1x\\xc9<\\x1e/\\xa9s\\xa7\\xda|nG \\xcc\\xe3%-}e[>\\xc2\\xe3\\xa5\\xf0\\x80\\xf2\\xae\\x7f\\x03i\\xa9|AjR\\xd7\\xa4W\\x93\\xd3\\x93\\x92Rx]\\xcb\\xbb\\xde~\\xed\\xe8%\\xe7\\xba\\xe3WnR\\xd7\\x0e\\xde^\\xdd\\xd3t\\xe1\\xd1DEy\\xea\\xf9\\xa6~\\n^\\xd6\\x8a\\x1e\\xf53\\x1f\\x16\\xaek\\x97?<v3gKw\\xe1\\xc0m\\x96\\xf2Y\\x07\\xdb\\xd6\\xb5\\x8c\\xcb[0d\\xef\\xcd\\x1a\\xdf\\x19q\\xc3\\xf5-\\xef\\xc9\\x9e\\x9e\\x18\\xb5v\\xd3L\\xaaj\\xd8\\xe9\\x11\\x13[Z\\xb1$\\xed\\xc7\\xcb?\\x9e\\x19?\\xdd\"\\xc2\\xd7\\x0f?t\\xbfj6\\x1c\\xcd3\\x1d\\xce\\xb4\\xe9\\xdfT\\xfdzp\\xd7\\xe6\\xef7N\\xab\\xdc\\x9f\\xd9\\xf6m\\xce\\x95\\xfe\\xf4\\x1f\\xf3_\\x19\\xde\\xfb\\xf4\\xe2\\x9f\\xe6O\\xd88pv\\x90Z=\\xd2_?\\xfaBV\\xdf\\xaf\\xdb\\x12s\\xc8\\xe3\\x07\\x0b\\xaciS\\xb6M]j\\x174,K\\xda\\xbd\\xb3r\\xbdC\\xec\\xe1\\xbe\\xd9^\\x9e|\\x8d\\xce\\xef\\xd1\\xaf\\x11\\x19\\xba\\xa4p+\\xbf\\xf6\\x87FIV\\xdav\\xa2\\xea\\xee\\xe2\\x02\\xb1 \\xf5\\x97KL\\xaf\\xad\\xdb\\x83UG\\'\\xcf\\xc0\\xe5\\xa9\\xbbsV\\xc5\\x0b\\x8d\\xbf\\xb7\\xce]TX|4\\xad\\xe8\\x99\\xae\\xe7\\xf7?\\xef|\\xf3\\x98\\x7f4\\xf8X\\xea\\x99\\xdb\\xab\\xdc\\xf6\\xc7\\xe6\\x96%\\xccy\\xcd\\xb0\\xb7FT\\xd65&\\x9dlJ\\xf2\\xbfz\\x80y\\xb0W\\xea\\xcf\\xf4>h-\\xb8G\\x8fL_\\xb2\\xc0\\xd1\\xef\\xf2\\x8f\\xd5\\xcf\\xcc\\r\\x8db\\xd9\\x8c=\\x85\\xce\\x8f\\x9f\\x9c\\xf9\\x99\\x8cxR\\xcf\\x08ts\\x96\\x17f\\xb4Y\\xcaww1\\xef\\n\\x9d8\\xbb|qv\\xa2\\x85?7\\xd2\\xfb\\xc6\\x99\\xe4\\xb7\\x0f\\x07\\xdc\\xb3\\xebL\\xa1<c\\xaa\\xa25\\x07\\\\&\\xfe\\xe3j\\xf2\\xef\\x93\\x0f}\\xb2\\xe8\\x8d\\xa5\\xc5*o\\xdd\\xbd\\x99\\x1f6\\x8d\\x19\\xb9\\xe1\\xa6@4\\xce\\xe4\\xd0\\x8e\\xe2\\xb6gL\\xb6J\\xa6\\xae:\\xf4\\xc5\\xb2;;k`\\x83\\xea\\xe1\\x8d%\\xe7\\xdd\\xc5/\\x8fa\\xf1\\x81\\xc7\\x8f\\xb6\\x16:.\\xee\\xfbp\\xd7PX\\xb9\\xe0\\xe7y-\\xd9\\xe8\\xfd\\xfa1\\xc3o\\xdf?q\\xd2\\xd7t|\\xbed\\x031\\xaf=6 vqE\\xe9\\xa1\\xfe#~A$\\x95M\\xa9\\xc7z/t\\x0e\\xdb4\\xff\\xdd\\xcb\\xe3\\xe6\\xfe\\xfd\\xb8\\xefw=\\xce\\xbe#\\xd8\\xb8\\xf7d\\xf3\\x12\\x94\\xe8\\xf5ZF\\x8e\\xc4r\\x7f\\xa4\\xf5\\xdd\\xbe\\xec\\xac\\xea\\xda\\x8a~\\xc5\\x05\\xfb\\x9b\\x1a_[\\xf3\\xcb\\xda\\xeb\\xe7%\\xd9=\\x7f\\xbb3A>\\x10\\xf82\\xdbt\\xb3\\xcf;\\xf8_Qkj\\xfa\\xae\\xa1\\xec\\xf5I\\x13l\\xe3\\xc3{\\xd7/\\xea\\x9b5n\\xee\\xb9k\\x0f\\x9a\\xf5=v\\xcc\\x1e\\x7f\\xfe\\xa5\\'i\\xaei\\xf5\\xc3.\\x7fsGp\\'k\\xd6\\xb5\\x9a\\x8a\\xea\\xcch\\x16\\xb9[=\\xe2\\xdb\\xba\\x9f\\xb2g\\x04\\xe0\\x93\\xa3Rq\\xd9\\xac\\xaf\\xbbe\\x95\\xed|1\\xb6\\xe5\\xf5\\xc33\\x1f\\x16\\xfc\\x00\\t{\\xbd\\xed\\x9e\\x90\\x99\\xb5\\x7f\\xe5\\\\\\xf9\\x9e>\\x83&w]e\\x9f\\xb7\\xf5\\xd0\\xce\\xee\\xf7\\xff\\x9c\\xffe\\x1e\\xf9\\xb2$y\\xc9\\xa3\\x1e\\xd0\\xe8Mo\\xb7f\\xd6[\\x9e\\x9e=\\xa5\\xed\\xffI\\xf5\\xcaK\\xef\\xbbO\\x1d\\x1d2\\xfb\\xe5\\x17<W\\xc7$\\x17\\x8d\\xca\\x01\\x94\\xa7\\x8f}3\\xd1\\xd3:&-F\\xef\\x19q{)&\\xdf_\\xa1\\x1b\\xf4p\\xd3\\xf6\\xe6\\xe2\\xd2\\x9c\\xa3\\xcb\\xf0\\xf5x\\xbbtJ\\xc6\\xfe\"\"\\x93\\xce\\xaex\\xddQ\\xf3\\xdd\\x94\\'\\xc3?\\x9dn\\xd8\\xb8i\\xc6@[\\xfb\\xf4\\xab\\x9b\\x9f\\xfc\\xd5\\xb3\\x873\\xe3qj\\xb2\\xf0I\\xc9\\xe3\\xc1\\xfc\\x01\\xcd\\xed\\xb9\\xeb\\x9b\\xf8_=(\\x1b\\x16Vf\\xd6\\x9c\\xbb\\xb0*\\xafGj\\xdaI\\xd5\\xb4}^\\xd5\\x94\\xe3k\\xea\\x07t\\xbf0\\xa3\\xfd\\xfc\\xca\\x81\\xdf\\xd6\\xae\\xdf\\xb9\\xafd\\xfb\\x9a\\xc5~\\xba\\xab\\xbd\\xf9R\\x1f\\xc7h\\xc9c\\xd9\\xc4\\x11\\xf7.NZ\\xa7\\xba\\x9b\\xdaT\\xebj\\x98\\xf1w\\xbd\\xd2\\xd0\\xedB\\x9f\\x01\\xfdv\\xdc:V\\xcfJ\\xc0u\\xbd\\xef\\xae\\xba\\xd2M\\xb1\\xd3|\\xa5\\x97i^nn~\\xcf\\xf8\\xfd3\\xc5\\xb4`\\xd0\\x1b\\x9f}\\xc4W\\xd4\\xd6]\\x7f\\xfdHF\\xcb\\x86\\x17\\x9f}\\xfd\\xc1\\xb0~\\r\\x19Cz\\x9der\\x88\\xc3U\\xda\\xbf\\xb0}]\\xd2\\xbbL_\\xddX\\xf1\\xb4\\xf9\\xc3\\xcf\\xdb\\x94\\xee\\xec\\xe4\\x863\\xa7\\xa4\\x18fS({.\\xaf\\x9e\\xf4\\xab\\x7fZ\\xc8\\xdd\\xd0\\xed\\x8b!\\xa2{\\xddZ\\x9e(~]\\x9f2vw\\xdf\\xc3_N_\\xf4\\xe7\\xa0\\x03u@\\xd2\\xe0)\\x83\\x83\\x15\\x17R\\xb2\\xeb\\xa0\\xeaZ\\xe7\\xc5\\x89\\xd8\\x8f\\xd9\\xf3\\x16\\xac\\x9b\\xfa\\xf0\\xd6\\x95\\xfe\\x1b\\xc6\\xbet.x\\xf5\\x81Z /~\\xf7\\xd8\\x8a\\x8ds\\xfb\\xdc;(9\\x90\\xda.K\\xd3(G\\xa4\\xdf\\xbc>g\\xed\\xf8i\\xb7\\xc8\\x8cG\\xed\\x02y\\xda\\x0b\\x1f\\x8c\\\\\\xdd\\xba\\xa8|C\\xdb\\xd5.\\xc7\\xaf\\x9d\\xea\\xbd08g\\xf9\\x9a\\xba\\x8a\\x14K\\xceO+6\\xeeP\\xf7\\xdbpd\\xfc\\xb66o\\xcb\\x93\\x94\\xab\\xcb~h\\xdb|}\\xe5\\x83\\xe2\\xbeG\\xa6\\x8ez\\xeb^\\x8d\\xf1\\xc6%b\\xff\\xc4G\\xf9?V\\xfaVm\\xbe\\x11\\xd4\\xb44\\xd97n]\\xd8\\x9d\\xb3=k\\x047\\xc0\\x17\\xf7\\\\\\xbfQ\\xe8YFN*\\xe5\\xeb\\x8aV\\xcd\\xac\\xf9\\xe8a#\\xeb\\xde2d\\xfa\\x80)\\x85\\x81\\x9a\\xa3k\\xab\\x0b*\\xaa\\x0ccu\\xdf]t54\\x13\\x82\\xe9_\\xbd?\\x16\\xe8~\\xe9\\xdc\\xa6O\\xc5%\\x97OVV\\x0e\\xbf\\xf3\\x8f\\xa2xnm\\xfa\\nL\\xc2-_M\\xdcR_\\xb2\\x9e\\x80\\xdf\\xfcb\\xd9\\x1e^`P\\xb3\\xbbO\\xd1\\x82\\xf4\\xaa\\xdb\\x95e\\xe9\\xd5\\xc0\\xa6\\x0f>\\x9f\\xf6\\xd9\\'\\xfb\\x0em\\xf9\\xed\\xd6\\xd0\\xaa\\xf9)\\x19\\xeb\\x1a\\xdf\\xaa\\x1d\\xf3\\xf4\\xc0\\x1b_\\xed\\xe8\\xec\\xc5\\xae\\xa6|@\\xc6\\xe3\\xa5\\xfc9\\xb6cA(\\x86\\x93\\x83aT\\xab\\xc7\\xe58\\x0c\\xea\\xd1\\xce\\x94O\\xe08\\xaa\\xf1\\xc00\\x18W\\xb1 \\x87C \\x8b\\xc3P \\xc8!\\x14\\xa3T\\x05\\xcd\\xb8+j#A\\nUC\\x14\\xc89\\x12\\xa8\\x9a\\x00\\xbd\\x18(4\\xa0\\x90\\x8b\\x80i\\x9a\\x88\\xf1\\xe1\\x04\\xa8\\x84X\\x92\\x86@V\\x0fzI\\x88\\xd0R\\x1c\\xca2\\x08MQ\\n\\x94\\x0b\\xeb\\x19c>\\xc0\\xe8 \\xc4\\x8a\\xc9\\xe3\\x8c\\x1e\\xd5\\x12\\xa0\\xb4\\x13\\x00\\xbb\\x08\\\\\\x8b\\xc9\\x01>C\\x93\\x00cbc\\x88\\x07$\\x9e\\x83\\xca\\xf4\\x90\\x81,\\xb3\\xe6\\xd1^B\\xc7pJ\\xb0\\x13\\x86\\xa01\\xa1\\x87\\xd1\\xe5{\\x19w\\xbe\\xcb\\x96\\xa7\\x8d3:!g\\xf3\\xcb\\xbc|\\xb5_\\xeb\\xb2c\\xf2\\x84\\x1d\\x93\\x8b\\xd5~2j\\xd5\\x83\\x0e9\\x07\\xc4I=\\x18#\\x10<F\\xea)\\x80@h\\x8b\\x9c\\x03\\x12\\xff\\x9e\\x118\\x16\\xe4\\x13T\\x19\\x07S\\x9d\\xa7`(\\xa7\\xa4\\r\\xff\\xf2N\\x18\"`\\n@cr\\x04\\xd4=\\xbf\\x9dM\\x0f\\x0bI\\x975\\xa0u\\xe1(Y\\xc6\\x98\\x94.>\\xa1E9\\x84\\xeb\\x04\\xa8P\\xce\\x852&\\xad\\xcb\\x90\\xa7u9\\x10TC\\x80\\xdcsP\\x8c\\x90S\\xa2X\\xd4n\\xa4b\\x86\\x04\\xa4}\\x0e#\\xf4:?Y\\xc6\\xb7\\x18\\xe9\\x88\\x1d\\x16\\xc7\\x89\\x84\\xddc\\xf6\\x1b82\\x0e\\x884\\x88\\xdc\\xa7\\xd6k\\xdd\\x1a\\x04\\x0ck\\x8c\\x14G\\xc0@\\xcc\\xecA\\xf3\\x19\\x91\\xd9m\\xf6\\xb0\\tFO\\x85\\xed&\"l6\\xca\\x13|;\\x82F\\xcc\\x18\\x1eaL$`\\xf3w\\xccr\\xa0cfLl\\x84\\x11\\xc9\\xc2\\x04\\x8eC\\xb8\\x07$!\\xd6[\\xea\\xf2\\xba1\\x19\\x07@ \\x85\\xcaAP\\x03\\x83\\x94\\x14\\xec\\xf0\\x00\\x82Y\\x15\\x0cR(\\x18\\xa1\\x14\\x98\\x92\\xd6\\xb2\\xac\\xd0\\xad.-\\xb0zhX\\x9d\\x8f\\x91!\\x97\\xd8\\x1e\\xc8\\xb7\\xd3`\\x91\\xc6\\x19\\xb0\\xe5\\x86B\\x04\\xae\\x0f\\xf8\\tJ\\xa2\\xf4\\x96&\\x8c|\\xdc\\x83\\xd1v\\xcc\\x16\\xa5u\\x0e\\xbd\\x10\\x8cH\"\\xb0F\\xa1\\n\\x95X\\xc3f\\x9d&\\xaf \\x97\\xa1m\\xca\\xfcP4l\\x81J\\x121}\\xaeS\\xe5\\xf4\\xe5\\n\\x12H\\x11]\\x1a\\x8f\\x136\\xaf\\xc7\\xc9\\xd7\\xc4]\\x9c\\x007\\xaa\\x8c\\xc1\\x80\\xc4\\x15\\xca\\xd7Z\\x852I\\x88\\xd4\\x8aLj\\x1fI\\x86\\xa3N\\x0cPJ\\xe4v\\x84p\\x9bE:\\xd0\\x8fK\\xe3\\x06\\xbf\\xc5\\xe1SC\\xa8.\\xc2qnD\\xcd\\xd7\\xcb\\x84bF`\\x14\\'\\xdc>\\xa3:dp8\\x05lP\\x1d\\xf3;\\xcc\\nq\\xc2g\\x96\\xfaC0\\x95\\x17\\xd1\\xbbB\\x90\\xcb\\x04\\xd8\\x01\\x99\\xce,\\xd5\\x03\\xd1\\x84\\xc9\\xa7\\xa2\\n,\\x1a?\\x83\\xf1\\t\\xc2\\xea\\x81h\\xb7?\\\\\\xaa\\x88k\\x13\\x04\\xa2C\\xa5v\\x18\\x132%\\x8a\\xa0B-\\xf5\\x12\\x8c\\xbdD\\xc6\\x96\\x94\\xf8\\x82\\x9c\\xd7\\x9e\\x90\\xb8hJT\\nS\\x84\\xa1\\x80\\x80\\xcd\\xdaR\\x0b\\x1a\\xe2{H{I\\t\\'\\x88\\xc3FsL`\\xcb\\xcd\\x83\\x15Q\\\\\\xe2\\x06<\\xde\\x02D\\x19\\xf5\\x8b\\x10\\x82\\xc2\\x11\\x90\\x02\\xa1\\xa0\\x183\\x138f$@q\\x87\\x1bv\\x84C\\xa1\\\\\\x8eB\\xf9 \\x87+X\\x04\\xb4w\\xc8\\xa1\\xd0\\x19P\\xb9\\x074@,\\x1b\\x82XT\\x0eQ6\\x04d\\x19\\\\\\xc51\\x10D\\x19\\x14 \\x87rH\\xc7G\\xd3\\x02\\x1a\\x08\\xb4\\xa1\\x10\\x85\\xc2|\\x90\\xa30Bn\\xe8\\xa4\\xa2\\x94VC\\xa0q\\xb8\\xc3\\xb0\\xffW0\\xfe\\x7f3\\xec\\x7f\\n\\x06\\x02\\x18\\xac+\\xc5\\xf8:\\xdc\\x9a\\x87P(\\x04s\\x06\\x10\\x14\\xe3\\x10HA\\x80U\\x9b\\xabW\\xfb\\xbdN\\x8a\\r\\xfa\\x0bH\\xc8\\xc8\\x08%eB\\x0c\\x00\\xcb\\xac\\x0e)\\xc4\\x94Z\\x03>\\xb7\\xcb\\x02\\xe9BT\\x1ek\\xe4K\\xcd*\\x96F\\n\\x8a\">\\x0bk\\x87]\\x16{\\x99M\\xea$J\\x9ca\\xa7TE\\x90\\x9cJ\\'\\x0f\\xe2\\x0c\\xca*m\\xe6\\x00V\\x14\\x0c\\xf9u\\x90H\\xe2-\\x93j\\xa5:\\x18\\x90G\\xe9\"~^\\xdc#\\x11\\xb3\\xb2\\x88O\\xe1\\xb2JpK\\xc8\\x10\\nD\\x1dR\\x89\\x10\\xc5\\xf0<\\'#\\x8fy\\x83F\\x99, \\xa6i[X\\x03{-1\\x13\\xae\\xcfe \\t\\x8e\\x96\\xf9\\xad\\x12\\xb5\\x8c\\xe0G\\xac!;\\x07\\x11\\x0c\\xed\\xd7\\xe1Qe\\x14\\t\\xca}%F:\\xa47\\xba#\\x84\\xcd\\xe2\\x00\\xf3\\xa1 \\x16\\x97ZE\\xceR\\xb1\\x8bf\\xca\\x12v\\\\h2\\xab\\xa3\"\\x95C\\xa4Dd>=\\x1f\\xb5\\xea#J\\xb9\\xd1\\x1a1\\x95\\x85T\\x10\\x03\\xd2\\x1eaD`\\xd2z\\xc3\\xea\"\\x87\\xd0K\\x13j\\x83\\x9b\\xb6!\\x05\\x81\\\\\\xa7\\x1d\\x8f\\xe6\\xabX\\x93\\x8a\\xa1\\xf4\"UA\\xc2\\xee\\xf3\\x02R\\x0f\\xc8\\x07\\xec\\xf2\\x00\\x19.\\x95\\xbad\\x8a\"\\x8f\\x00\\t\\xc0\\xb0X\\n\\xb8a\\xce\\xc5(H\\x00\\xf5P1#Vdp\\xfb\\xc2\\xfc\\xce\\x12GI\\xe4?\\x8b}a\\xe1\\xd6\\x8a\\xca\\xf7\\x06\\x1fy\\\\\\xb1rA\\xcb\\x84\\x88a\\x8c\\xfc\\xb3A\\xff\\x0c\\x00\\x00\\xff\\xffPK\\x07\\x08\\x12P$\\x08S\\n\\x00\\x00;\\x0b\\x00\\x00PK\\x03\\x04\\x14\\x00\\x08\\x00\\x08\\x00\\xa6}\"Z\\x00\\x00\\x00\\x00\\x00\\x00\\x00\\x00\\x00\\x00\\x00\\x00\\x0e\\x00\\t\\x00trustStore.jksUT\\x05\\x00\\x01\\x88\\xb4vgd\\x94;\\xae\\xe3\\xc8\\x19\\x85\\xd5\\r\\xdb\\x01w\\xe0\\xaca\\xd8p \\x18\"\\xa9\\x07\\xc5\\xa0\\x83\\xbf\\xc8\\xe2K*JE\\xf1\\xa9L\\xa4\\xa4\\xa2\\xa8KJ\\xa2xY\\xa4\"G^\\x817\\xd2\\x99So`\\xb2\\xd9\\xc1D\\x034\\x06\\xb3\\x80i\\x0c\\xaen2\\x98\\xa9\\xa4\\x80\\x83\\xc2W\\xe7\\xe0\\xffq\\xbe}\\xfd\\xf6u0\\x18|\\x1c\\x0c\\x06\\x1f\\x9e\\xf7_\\xeaCyi\\x0e\\x83\\xc1\\x87\\xff\\xfe\\xf3\\xcbT\\x1f\\xfc)\\x9e\\x8a\\xea`\\xf0g\\xf8\\xd7\\xdbA\\xd8\\xb4\\xddO\\x1a\\xf6|\\xdb\\xb05\\xf0\\xf1S\\x15\\x88m\\xeb\\x8d\\xaeip\\xed\\x19p\\x1b\\x01\\xb35T\\x05\\\\\\xa7\\x89\\xb3\\xb8l\\xed\\xbc\\xcd\\\\\\xa0x\\x89(\\xf0\\xc3\\x03/\\t\\x9cM\\x90\\x02\\x8cr\\xa2\\x85!\\xe9\\x04\\xed\\x01\\x0ebn\\x88\\x80\\xf9pv\\x11\\xf1(\\xc7,\\xd1CJ-\\xcc\\x1b?\\x89\\xa6b\\xb2Azj\\x1a}\\xe2c\\x8f\\xc0\\xfc\\t\\xd0rb{\\xa6!\\nI\\xe8\\x8aI\\xcc:\\xbd\\x00\\xf2\\x0e\\xba\\xfb(p\\xef\\xe98<\\x93M\\xc2\\x1dx\\xc2t\\xdcIE\\xb2\\x99\\x9e\\x93\\xd34\\xcf\\xc6^\\x9fl$\\x9e\\x95\\xeaYX\\x96^\\xbe7\\x8d\\xc7\\xde4&\\xcb\\xd2mS\\x1f\\x0e\\x06\\x17{\\xe2CG\\n\\xe8\\x89\\x8ee\\xa2;;\\x83\\x8b\\x8f\\xdfk\\xc4\\xba\\xff6B\\xe2\\xc3K\\xe8\\x13z\\xe7\\x1a}\\xfejc\\xee\\xe8\\xd4\\xc7\\x01A\\xf6{\\xee\\x8e,\\x03\\xd9x\\xdd\\x9b\\x98Q\\xb9\\xcb\\xb3\\x12w\\x02\\xf6a\\xfd\\x0e\\xb8\\xf8\\x1a~\\xba\\xf1\\xdf\\xdc\\x10:\\xe1\\xfa\\xbb\\xfd%\\xe6\\xa1\\x9e\\x9a\\xaa\\xb4\\xd5qI4\\xfa\\x84AG\\xf6\\x89\\x8c_\\x85\\xadi\\xbf&\\xb1+f%n2\\xcbi\\xb7\\xda\\xf4\\x9c\\xc4\\xde[\\xce\\xfc\\xa0M\\x8bT\\x169c\\xf8D@4\\xb5\\xcd\\xcd\\xdc\\xd8\\xe9X\\xa7\\x18\\x01\\r\\x00&6\\x12t\\x0eo\\x0f\\x16p\\xb1\\x11P}\\xb1\\xaa\\xae<#\\x8a\\x05\\xbbh\\xd5VGt\\xcep\\xb2T8G\\xcd\\xb59\\xb8\\xd9d\\x97\\xc5D*\\xfd\\xfa\\xc2\\xe4\\xb9\\xba\\xe8\\x98p\\x0f(f\\xfb\\x95/\\xe3\\xa3w\\xda\\x8coy\\xbdN\\xb7\\x952<\\xc4\\x89\\x0fJ\\xe5\\xabA<\\xee\\xaaj\\xcdO\\xcc\\x87\\x12\\xd3=m\\x8f#\\x88wJ=4\\xf3+\\xba\\x08\\xb7\\xcbH[\\x8bN\\x8c\\xf7M\\xdd\\xc0|\\x11\\xea\\xb7\\xc8\\xecXU]}7J\\x8d\\x12\\xe1B+MYUG\\xa9\\xc1\"\\xb3d-,\\x8b\\x9cG\\x16\\x04\\xbd?\\xbe[B\\xeeI\\xe20\\xa8\\x9b\\xc4\\x9ci \\xc2C\\x9a\\xd7|\\xd8\\x8b\\xcd1\\xb3ssa\\xb5\\xc5\\xaa\\xc9\\x9a#\\xab\\n\\xfd:=\\x9e^\\xadY\\xeb\\xe0\\x83u_-\\xe6-[9\\x8b\\x99\\xd0!?\\xddE\\xc5\\x11\\xd67\\x1b\\xea\\xab\\x16\\x19\\xaf\\x0c\\xd7\\xc1\\xc3\\xaf\\xca\\xa4T\\x94\\xd2\\x1b\\x93\\xa28\\xae\\r2\\xe4\\xb5F\\xae\\xf1f\\xe5V\\xa5\"\\xcb\\xedU\\xeb\\x8b\\x87\\x94\\n\\\\M\\xc3\\xbd\\x9d\\x88&n\\xda\\xbd\\xf3XX\\tMF0\\xbc7nX\\x92\\xadD$\\xf7\\xe1\\x01#\\x08\\xc0,h\\x81\\x80\\xc0\\xe4m\\x8c{\\x9dc4\\xe2\\x14\\x0b\\xc0m-\\xd7a\\xff\\xb6\\x0b\\xd6&\\xc0F\\x01\\x01b\\xacF\\x0c\\x1b\\x88f:\\xb0\\xc4^\\xf0\\x04!\\x1aX\\xc01\\xd7y\\xa2\\x87\\x9e\\xe8\\x03\\xb5F\\x08\\x02.\\xc0\\x1b\\xe9\\x01.b\\xe7[~>\\x99*\\x17\\x11\\xd0\\xbb\\x01\\xb0\\xd2\\x80b\\x08\\x1d>\\xdb\\x87\\xbe\\x13X\\xe6\\xac\\x8f\\x82\\xed\\x9aG\\xfb\\xb3${\\xbbW\\xa3\\xb3\\xd4\\xe1P\\x08\\x904;\\xb6\"_\\xba\\xbd2Gn\\x92\\x85\\xa30uo#\\x9a\\xf7\\xe5C\\rG\\xdb\\ri\\xca\\xda\\xe1\\xf2\\xe8%\\x9c\\x9c\\x94\\x86\\x85$4\\xce;w\\x8d\\x0fFc\\xad\\x96\\x82\\x98EN\\x19\\xce\\xfaW\\xe3%\\x8a\\xccb\\xb7\\x1d_,\\r\\x96*p6\\xe9f\\x11-\\x1br\\xa9\\x0f\\xfb\\xec\\xeam`eVj\\x1e\\x0fmr\\xa8<c\\xb2\\xc2\\xf6\\xfc\\xa5\\x11LIy\\x84\\xe6\\x8e\\xf8\\xf9V\\x19\\xad\\xac\\x87a\\xb7,\\x9e\\xf6\\xd5\\xedE\\xbd{(6E(\\xdc;2ezZ\\x0f\\xc5\\xf8\\xb4S\\x91\\xd9\\xb6\\xc5\\xf9\\x06\\xc7\\x8e_\\'\\x13M\\x88vYxO\\xd3\\xc8\\xa8\\xb3a}H\\xca\\xd5\\xb1\\xbc\\xf4\\xf3T2^\\xca\\x11\\x8b\\xc3\\xb5\\xac\\xa7\\x05I\\xb8\\x15O\\xbdE\\xbbn\\xe4\\rU\\x96\\xf2)f\\xbb\\x9d\\xb4\\x9b\\x0c\\x99*l\\x9dn\\x14\\x8c=\\xc3Z\\x1c\\x8c\\x94_\\xbd\\xa5a)\\xe2\\xd8\\x00)\\x92Ei\\xac\\x92SYo\\x8e\\xa7\\xca:\\xd1M?\\x8c\\xb0~W\\xd6\\x13\\x89\\x7f\\xfe,<\\x1b\\x11\\xbb\\xfa\\x1fZ\\xf2\\xbb\\x7f\\xff\\xf5\\x87\\xbf\\xff\\xf8\\xe9\\xcbO\\xff\\xf9\\xfe\\xe7\\x7f\\xfc\\xef\\xff\\xeb\\x8f\\xbf\\xfc\\xad\\xfc5\\x00\\x00\\xff\\xffPK\\x07\\x08\\x97\\n\\xa1?K\\x04\\x00\\x00\\x7f\\x05\\x00\\x00PK\\x03\\x04\\x14\\x00\\x08\\x00\\x08\\x00\\xa6}\"Z\\x00\\x00\\x00\\x00\\x00\\x00\\x00\\x00\\x00\\x00\\x00\\x00\\x0b\\x00\\t\\x00config.jsonUT\\x05\\x00\\x01\\x88\\xb4vgl\\x90MO\\xc2@\\x10\\x86\\xef\\xfc\\n\\xd2\\xb3]\\xb7\\xa5\\xd2\\xd6\\x9b\\x01\\rQ\\x0c\\x12M\\xf4f\\x86\\xddi,-\\xbbug@\\x88\\xf1\\xbf\\x9b\\xe5#\\xa5\\xd1\\xeb\\xfb\\xf1L\\xe6\\xfd\\xee\\xf5\\xfb\\xc1\\x87%\\x0e\\xae\\xfbA<HU\\x812\\r\\x87Y\\x84a\\xb2\\xc8d\\x98k)\\xc3\\xa8\\x88rU,\\x8al\\x00I\\xb8\\xa6\\x10\\x818\\x12z!\\x80\\xd8\\x81\\xd0\\xc0@\\x0c[\\xa1\\xec*\\xb8\\xf0\\xc0\\xc6:\\x0f\\x8cs\\x99\\xc9\\xbd\\xa0>\\xeb\\xf7VL\\xe2\\xbdX\\xe1\\x8e\\x1aP\\xe8O\\xaf\\xec\\xa6\\xc4\\x1a\\r\\x1d\\x00\\xb5UP\\x8fG\\xde9\\xdd;\\x18\\nF\\xe8xj\\x15pi\\x8d\\xf7\\xc5\\xa5\\x02\\xa1\\x1c\\x07\\'f\\xd7\\xacpwl\\xfe\\xed\\xe1Y\\xeb\\x99\\xad\\xc3\\xae_j4\\\\\\xf2N,+\\xea\\xe6\\x9e\\x80\\xe8\\xcb:\\xedsoyln\\xe6\\x0f\\x9b\\xe4\\x91fQ\\xba\\x1c\\xbd\\x1c\\xa2\\xec\\xd6\\xc4\\xff@[\\xbd\\xc5\\xb6\\xda98\\xb3\\xf1\\xd4\\xdc5z5\\x988\\xbc\\xaddr\\xfc\\x836]\\xa2\\x9f\\xff8{\\xb1\\xf5\\xeb\\x9cC\\xe6\\xa5\\x19\\xa7\\xcb\\xd9\\xfdU\\xdcd\\x1a\\x86\\xaf\\x93\\xa0\\xf7\\xd3\\xfb\\r\\x00\\x00\\xff\\xffPK\\x07\\x08S\\xe7H\\xc4\\x14\\x01\\x00\\x00\\xf5\\x01\\x00\\x00PK\\x03\\x04\\x14\\x00\\x08\\x00\\x08\\x00\\xa6}\"Z\\x00\\x00\\x00\\x00\\x00\\x00\\x00\\x00\\x00\\x00\\x00\\x00\\x07\\x00\\t\\x00cqlshrcUT\\x05\\x00\\x01\\x88\\xb4vg4\\x8c1n\\xc30\\x0c\\x00w\\xbeB\\x1f\\x90*\\'Fc\\x0f\\xfeA\\xb7v\\x0b2\\xd0\\x14\\x85\\nQ\\xa4\\x82\\xa4\\x83\\xe6\\xf7\\x85Sd\\xbc\\xc3\\xe1\\xce\\xd4[c\\xb2\\xd2\\xdb\\x05\\xbe\\xbbZ\\xc3\\x1b\\xbb\\xc5\\x1d\\x8e\\'\\xca\\x1cO\\xfe}\\x1a\\xd8\\x8f\\xeb\\x14\\xfd\\x9cb\\xf4C\\x1ef\\xcak\\x9e\\x8e8\\xfaM=\\xa3\\xda\\x10\\xd2\\x1aPM0$4T\\xc3\\xdf@\\xfd\\x06?]l_\\xcdq<\\x80ju\\x8b3\\xd9\\x18\\xe0\\xacZ/p\\xc7Z\\x12\\x1a\\xbf4\\xb1X.u\\xe7\\xf0F\\x18H\\x0c6e\\xb9\\xf2\\xe3\\xa9\\xae\\xfcx\\xf2\\xde\\xfd7,\\x06w\\x16-\\xbd\\xb9\\xc5}}|\\xfe\\x05\\x00\\x00\\xff\\xffPK\\x07\\x08\\nX\\x11\\xa7\\xa5\\x00\\x00\\x00\\xce\\x00\\x00\\x00PK\\x03\\x04\\x14\\x00\\x08\\x00\\x08\\x00\\xa6}\"Z\\x00\\x00\\x00\\x00\\x00\\x00\\x00\\x00\\x00\\x00\\x00\\x00\\x08\\x00\\t\\x00cert.pfxUT\\x05\\x00\\x01\\x88\\xb4vg\\x00_\\x0e\\xa0\\xf10\\x82\\x0e[\\x02\\x01\\x030\\x82\\x0e\\'\\x06\\t*\\x86H\\x86\\xf7\\r\\x01\\x07\\x01\\xa0\\x82\\x0e\\x18\\x04\\x82\\x0e\\x140\\x82\\x0e\\x100\\x82\\x08\\xc7\\x06\\t*\\x86H\\x86\\xf7\\r\\x01\\x07\\x06\\xa0\\x82\\x08\\xb80\\x82\\x08\\xb4\\x02\\x01\\x000\\x82\\x08\\xad\\x06\\t*\\x86H\\x86\\xf7\\r\\x01\\x07\\x010\\x1c\\x06\\n*\\x86H\\x86\\xf7\\r\\x01\\x0c\\x01\\x060\\x0e\\x04\\x08\\xf1\\xd3MG\\xf2mv]\\x02\\x02\\x08\\x00\\x80\\x82\\x08\\x80\\xc7\\xa0T\\xfb_\\xe3\\xb7j\\x0e\\xfa\\xf9\\x8aGM\\xd1\\x96\\x03{I\\x1a\\xe1}5\\xfa\\xb8{\\xcb\\xfd\\xfdK\\xeb\\xf8\\xf8\\x7f^a5\\xa2h\\xb4\\\\I\\'\\xb4d\\xe9\\xb8\\x1d\\xc4\\x04j\\xa2\"\\xc5H\\xd7\\x12-z\\x8fCI.J\\xf5\\'\\x99.\\xcd7\\xcb7\\xff\\xbe\\x99h\\xc7K\\xff\\xadE\\xb6Gp^I\\xfc\\x97\\x02\\xda\\x80\\xd8L\\xa8f\\xcbS\\xbd\\x9ep\\xc3\\x1e\\x040e\\x86\\xcf\\x1eP\\x9cm=?\\x8f#JM\\xb9\\xb7\\xc3\\xddv\\xfe}\\x86\\xbe\\xeb\\x97\\xfa\\xe0\\x9be\\xf2\\xca\\xa1a\\x99\\xbb\\xb3\\xbcy\\xa0!a:\\xb0\\xf6\\xa6&4\\x89\\xb2\\x05\\xdc\\x06\\xea\\xce\\x9b\\x16\\xbb\\x7f\\'\\x13\\x9c\\x84|\\xc1\\\\\\xfe\\xd1\\x05EQyv\\xa7~\\x91c\\xe3\\xe0t\\xc2\\x0e\\xc9/\\xe6\\xae\\xde\\x05\\xaf\\xb1\\x05:\\xacQ\\xa2\\x1cv4\\\\l\\x1b\\xa9\\xdd\\x1cY,\\n\\x94\\xf1\\xf4\\xa1\\x03\\xdc\\xc1\\xeb\\x11^/\\xad\\xbe\\xb5\\xa3\\xa6\\xc3Ft\\x8d\\xeaYQ\\xb9]\\xcfH\\x1bW\\xa2T\\x92\\x9f\\xc57\\xd5[\\n\\xc9\\xe3^\\xfb4\\xb9R3\\xc0h\\xc0\\xa0I\\xfb\\xea\\x8c\\xe9\\x0c\\x82\\xa3}\\x8a@\\x94\\xb3\\xb8\\xea\\xa4\\xa3\\xd3\\x07\\x9c^\\x07Rs\\xeb\\\\\\xa6\\xd10@\\xeeW\\x1d\\x10\\xba=\\x84\\xb1\\xdc\\x08o~\\x1et\\xb4t<\\xf6P\\x7f}1B\\xa9\\xb9_\\x1aO\\x94\\xc8\\x92\\x87\\x94\\xf5\\x15/L\\xcb!Q\\x87HF\\x1d\\xcf-\\xe3p\\xbc\\xe2\\x11\\xfd~\\xf0\\xb8\\xd8Q<#KoZ\\xe5\\xb4\\xeb3S&\\xda\\xf5X\"\\x01\\x84N\\x80\\xdeM\\x18\\x80OZF\\x1f\\xe2(g{\\xcfB\\x05*4\\x9e\\x87\\xb7\\xa0 \\xc4L\\x99\\xff\\x82.ogw\\xa7\\xdc\\x00IEA\\xa9z=\\xe0\\xe9W\\xad\\xc85\\x87\\xb3\\'+\\xbe\\xdd\\xc95\\xac\\xf5\\xfcU\\x8b\\xab\\xf7cC`0\\x1dDi\\x95u\\xbf\\xd8<\\x0c\\x8b\\xa2R\\x04\\xeb\\xdak\\xac6Q\\x00\\xac\\x13\\x02\\xc59\\x18\\x1e\\x01\\xb7\\xa9\\x9e\\x89\\x98g^{\\x1bq\\x99\\x00\\x02+\\xf1\\x07\\x18\\x0f\\xa1$`I\\xb4Z\\x0f/\\xc1Z\\xb3\\x0c\\xe9\\x84L\\\\OR\\xc3\\xc2\\xae\\xd9\\x95\\x95/gf\\x1d\\xa1\\x07w\\xc4\\'\\xa1\\xa5o\\xa1\\xc0\\xc8{T\\xd4%\\xa0\\x9f\\x962)`;\\x80p\\xa7\\x82\\xef`bP?ne\\x8e\\x1e\\xcb\\xcb\\x98\\x9d\\x9c\\x7f\\x13\\xd6\\x9cGc\\xc3\\xba\\xad<\\xd8\\xa1\\x02\\xbe\\xed\\x88\\xaa\\t\\xfb7|=\\xfeR.\\xc5A\\t`u\\xa6\\xfe\\x19\\xe5\\xd8-\\x14\\xfd\\x9b3H\\xec\\xaf\\xc6\\xd9O\\x1d\\x9f\\xf7\\x13\\x19\\xa8\\x10\\xb3\\xc9\\xa2%y7\\x14\\xc5s\\xaa\\x00\\x84\\xcf&\\xef\\xd0\\x8e\\xf1k+\\x81<\\xe9v\\xb5\\xd1\\r\\xa5\\xcff\\xf4N\\x0c\\x0e\\x9f\\x81l\\xefL\\xe3\\xed\\x90QY>\\x17\\xb1\\x9d\\xfa\\xc7A\\x8d\\x1apE\\xf4p\\xe2\\xa0\\x1d`\\x7fX\\xd2\\xfa#\\xc8\\xcf/\\xb5@\\x14\\xb4\\xbd\\xee\\xedb#\\xf2Pu\\x04\\xd1\\xb9\\x94c\\xba\\xeeh\\xd6\\xd91V\\xda\\xec\\xd1g+L\\x02\\x14^!\\xb4\\xcb/\\xf5\\xf1\\x96\\xd4r\\xf2\\xb6<\\xe4\\x91\\x07Ga\\x0fp\\xab(\\xd7\\x867\\xe4h6\\xfbG\\xff\\x1ed\\xd9#d\\xd9\\x81\\xf9RqP\\xcf\\x90\\xd1\\xd8\\xe1\\x8e\\xf3qg\\x1a\\xd9\\x81mT\\xf2\\xf4\\xf4\\xcdY\\x925\\x12/~\\x99GS\\x1a\\xb8H\\x90\\xbc4\\xf6\\x98$#\\x12R\\x02\\xd3\\xef\\x11\\x020\\x83z\\xf6\\x9f\\xedRxCg{t\\n\\xf8lG\\xa3a\\xa9qdW\\x96\\xe3\\x03\\x08\\x07r\\t\\x17\\x83\\xf8\\x0b\\xbc\\xfc\\xd3O\\xe7\\x11\\x00lS\\xa9\\xafT\\x13\\xb4#\\xc5\\x82\\x88\\x95\\xb2\\xd8w\\xa4\\x9b\\xcbj\\xb4K0\\xee+s\\x98\\xa7)\\x92\\xa7!{\\xc8\\x92\\x86\\x96[2\\xdd\\xea\\x11\\x18\\xc6)w8\\x85lB\\xfe\\x0cl1\\x96nWGa\\x02S\\xa3n?\\xdc\\'\\xe4XC:9g,_2\\xba\\x87\\xa8\\xe5 \\x9cm\\x08<\\x05\\xa0s\\x92\\x07fSb\\xb9\\x1c?\\x1e\\xa1|\\xb0\\xf06\\xcf\\xce\\x03a~\\xf0\\x86B\\x80F\\xd0\\x08\\\\0\\xcc\\xfc\\xd9*\\x0c*WS\"C\\xf14\\x1fq\\x0f\\x1a\\xb7\\xb9\\x86\\xd3\\x9d\\x8c\\xba\\xa3Q\\xf8W<\\xec\\xcc\\xd0C\\x92s\\xe4\\x93P\\xf8\\xb0\\x1a |\\x10\\x80\\xa1\\xfd\\x0f\\xd4\\x84\\x13\\x89G\\x1e\\xec\\xcaVP\\xcc)\\xbd{%\\xdbs&ffP!\\xca\\xce\\xec\\xcf\\xf6C\\xfeU;q\\x92\\xc8\\x18\\xd7\\x1b\\xeaZ\\xbc\"R\\xfd\\xa7\\xd2\\xf2J\\x96p\\x03\\x0en\\xcf\\x8f\\xc9s\\x01*\\xd8\\x1e\\x9aa{\\x11\\x9d\\xe8i\\xbc\\xb9\\r:\\xf7*D\\xad3b\\x13I\\xcapI\\x10R\\xf1!w\\xb5s\\x11\\xa8\\x0f\\xb0\\x18x\\xa3\\x11k\\xb7\\xa3 \\xe1\\x8e\\x90\\xc3j\\x15\\x14\\xdb\\xb2\\x17\\xcabcm\\xe3]~Z\\x15@1\\x96\\xecDn\\xc1L\\xf9\\xe8b\\xa3\\xf5\\xeb\\x99\\xd4\\x9f(\\xc4\\x15\\x7f\\xbd\\xc8\\x8b\\xd4Zq6: v\\xdf\\xa1\\x08c]\\x82\\xbev\\xc7\\x115\\x1d&\\\\\\xdf\\'\\xceAk\\xd9\\x1c\\xa0\\x80\\xca\\xdduH\\xd7\\x8d\\xb1\\xb4\\xee\\x04\\xaazF\\xa6EM\\x17\\xa1j\\x0f\\x0e\\xd4(MiW\\x0b5\\x17\\x8dk\\x1f\\x02\\xf6\\x86O\\xc9\\x00_\\x9c\\xb4\\x92\\xffF\\x9d\\xf9\\xba\\xde\\xc8x\\x95~6\\xbdAe\\xbdK\\xdb\\x08\\x11\\x1e\\xb4\\x05sLAY\\x83!&\\xf4\\xcf\\x1fV\\xa2\\x11\\x8c\\x7f\\xa8\\xe7f\\xaa\\x0eVF\\xfek\\x02\\x16V\\x99j\\xbb\\xd9\\xc5\\xa84\\xad\\xf4T\\x13.\\xab?\\x17\\xbc\\x8b\\xd4LD\\x15\\x8d\\xb6\\x04@\\xb2j\\xd2b\\xe4\\x11\\xc5x\\x13\\xc9\\xd0[\\ns\\xd80\\xa4vD\\x1a\\xe8,\\x98\\xf1\\xf1\\xa9\\x9a\\xa4\\xc1\\xb2*\\xfe3\\x9b\\xeb\\xd8\\xef\\x9d\\xcd\\xaa(\\x82r\\x00\\xcf=\\x9eM\\x87\\xc50m$\\xcd6 \\xd0\\xcb\\x84\\xf7R\\xc1\\xbe\\x9bd+\\x0e[\\xa8V\\xf5M\\x1br\\xb3\\xd0\\xc7\\xe5\\xec\\x05J\\xde\\xbf\\t\\x9cy\\xe4\\xc4\\x18C\\xbcd\\x902Wp\\xf8\\x1e\\x88\\xd8\\xe4f\\xe9n\\x01\\x8c\\xdd1\\t\\x97\\x80B:7\\xda\\xe16\\x82BbWZ\\xe7\\xa1\\xb6\\x05/\\xdd\\x83\\xd6\\xac\\xbe#\\x16\\x81\\xfb\\xf0I\\xc8&\\xcd\\xb3Q\\xdc\\x99T\\\\\\xb9~\\xff\\xa1j%\\xc8sYdd\\x0f\\x92\\xa0\\x8a\\x8a\\x1a\\xb8\\xfa\\x12F\\xabh2\\xa9E>|\\xb5\\xea8\\n\\xcc&G^\\x88\\xbf\\x0e\\xb3\\x84\\x0ey1,\\xf7{\\x97M\\xba\\x1bv\\xc6\\xb5I\\xcfo\\x19v\\xcb\\xa1\\xf1\\xc1\\x8a\\x1c\\xa4%\\xf6\\x7f\\xcb\\xcbIN/\\x19\\x86\\xc3\\xcd\\xe8\\x06.{\\xe6\\r=\\x91=\\xd0\\x89\\xe8\\xc9\\x97U\"j\\x9aP\\xe0\\xd1\\x00\\x8f\\xd9\\xe86\\xb33\\xcc\\xe2\\xe1\\xa1\\xde\\xa8\\x1a~\\xa8\\x95\\x9fH\\x15\\xd3\\xb9\\xe4\\xa0\\xe3O\\x8d\\xec\\x80\\xc4xl\\x19\\xadS\\xa9\\x95_\\x9d\\xda,A\\xe4%#\\x07\\xad\\xe6\\x16\\xf1\\xfe\\xfelz\\x82\\xc6 \\xf4l>\\x06\\xff\\xc3\\x87\\xb6D\\x8bb\\x8c\\x8b\\xb4\\x81\\xde\\xc6\\xa3\\xee{T\\xd9j/\\x1f\\xb8\\xed\\x15\\x96\\x98\\x08\\xb9\\xdd\\xe5\\xd7\\xcd\\xde\\xa2\\xaca\\xa8L\\xd1|\\xafI\\x03~\\xf0\\x9b\\xed\\x9e\\xe2\\x98<\\xfa\\x07\\xb78\\x8c\\x96~\\r\\xf9a\\xa4z\\xa6e$\\xb8\\xdc\\x13\\xd4U\\xe8\\x1e\\x91\\x13\\x1f\\x8ag\\r\\xcb\\xa20\\xa5\\x0e\\xba\\x0f\\xf8\\xd8\\xb1O\\xd0]\\xa3/\\x8f\\\\\\x17\\xb1#B\\xd4\\x89\\xa2\\x00\\xabhE\\xc4\\xf5g\\xb8y\\x90\\x8e\\xb8\\xc8j\\xed\\xf1\\x82\\x1f\\xe3\\xf2\\x98\\xef\\xa3-\\xbc\\xbbE{\\x82\\x0et\\x88X\\xbb\\xdb\\xb0\\xfd=6\\xbd.\\x9a\\xe3\\x9f\\x84\\xb4v\\x8e\\xdb\\xb8\\xd0\\x96P\\xf6l\\xceakp~\\xf1\\x9c\\x14c\\x9c\\xc7\\x9dS\\x98E6K\\n\\'\\x86\\x19m\\xbb\\xe6\\x8a\\xa4\\xb1\\xa1V\\n\\x0b\\xcdYG\\x90\\xe71\\xb2C\\xff\\xe7\\xa0\\xf6\\x05\\xf1\\x16\\xaa\\x0b\\xe9\\xbb\\x1aVH!\\xf83\\xe0!vj\\xf6\\xd1h\\xbc)\\xac}\\x1d\\xbe\\x90QB\\x19A\\xcb\\x16f\\xa7)\\xaa \\x04|\\xae\\xa7a\\xa9j\\xe7 \\xb5\\xf8\\xa3,\\xbc\\xe0\\xf7\\x184b\\x7f\\xff\\x90?p?\\xce\\\\\\xbc[\\xe1\\xe7\\xe3\\xfc\\x82B\\xecqm1\\xdf\\x12d?\\xa1\\xc8D{L\\xda\\x9c\\xec\\x07\\xd8\\x11.>\\xeb,\\x94\\xc2\\x13F\\xce\\x88\\xf7\\xe6\\x7f\\xbc\\xdc\\xb0\\xb7\\x0f\\x87YW\\xa9\\xfe\"\\xf3\\xf8\\xbc\\x1f\\xa4\\xd2/{\\xf3\\xa3\\x91\\x92\\x06\\xc3\\xf6\\xd7\\xf6>!\\xcd\\xddUl\\xac\\xdd%\\xd5\\t\\xad3E\\xda9T\\x86\\xcb7\\xe3\\x9e\\x9cA\\xce\\xd0\\xa5\\xdb\\xae\\xbd\\x84\\x87mQ\\xc5\\xa8\\x01\\x9c\\xa3\\xf1\\\\\\xeb\\xd0\\xe7\\xcd5[O\\xf0\\xc6\\x94\\x1e\\xb1\\x1c\\xf4&\\x19\\xdf\\xc3k\\tJO\\xe5\\xd5\\xccW\\xce\\x0f+\\x16\\xc5U`\\xecw\\xac\\x83\\xad\\xf0N\\xccck\\xdf\\x9d\\x06c\\xf4\\x88K\\xba\\x0ep|O\\xb6$\\xb2\\xea\\xc6\\xab-]\\x91\\xceZ\\x90-\\xb6\\xd1-\\xc4U\\xf8>=\\xb3\\x7f\\xc9\\xb2\\xd7\\x8d\\xb6\\xf6\\xdb\\xb6(1j0\\x97\\x1c+s\\xcbW|`a\\x12s\\x93\\x8aLj(E\\xab\\xca|\\xcc\\xf1\\xdd\\x889\\xcem\\xae\\xe7\\xe24\\xce\\xb3\\x1f\\xef\\xb6\\xcc\\xbb\\x1dx\\xc9\\x05\\xcfq\\xbe\\xac\\xd4S\\xec\\xa5;kV\\xabN\\xb4d\\x82@{\\x0e\\xf2\\xe3[\\x131\\xbe\\xb0\\xe4Z#\\xdb\\xb6k\\xd4\\xe6q\\xad\\x1a\\xd8iFH\\x17(\\xd6\"\\xec\\x81\\x84\\xb0\\xda\\xa7\\x1a\\xac\\x86e-\\xad\\xe7\\x04\\xc8\\xa3\\xd00\\xb9\\x8fk\\x05:O\\xdd<V\\x13\\xb0\\x93c\\xe3bOKP\\xe2I\\x04\\xe9T_0\\x82\\x05A\\x06\\t*\\x86H\\x86\\xf7\\r\\x01\\x07\\x01\\xa0\\x82\\x052\\x04\\x82\\x05.0\\x82\\x05*0\\x82\\x05&\\x06\\x0b*\\x86H\\x86\\xf7\\r\\x01\\x0c\\n\\x01\\x02\\xa0\\x82\\x04\\xee0\\x82\\x04\\xea0\\x1c\\x06\\n*\\x86H\\x86\\xf7\\r\\x01\\x0c\\x01\\x030\\x0e\\x04\\x08<S\\xb9\\x83\\x11\\xf4\\xbf\\x86\\x02\\x02\\x08\\x00\\x04\\x82\\x04\\xc8.A\\xe2\\xa4\\xcf\\x10/\\xfa6\\xee~\\xc1\\xf8\\'%\\xe5\\xb7tH\\xf1\\xad\\xc6a\\xd9\\x8f\\xf8\\xc1M(\\xce\\xbd\\xfbb\\xfe\\xf3\\xbc\\xd3\\xfe*n&\\x81\\xc6\\xe9[WnO\\xf3@B\\xa3G\\xed2\\\\\\xa1ow\\xab9\\xd6\"\\xd5\\x03\\xa5\\x10\\xb6\\xff\\xa6\\xfbG\\xad{\\xbc@\\x88\\xd2.a\\x81\\x1b!>\\x1ez\\xd5$U^\\xbd\\x9au\\x9d\\xe9w%\\x17\\x05@\\xa4\\x86\\xac\\xc7\\x98\\x01X\\xa9\\xe2\\xae,<\\xb7\\x16\\xb4%\\x997\\xe5\\x93u\\xf9o\\xa1%\\x90:O:\\xbal\\xc1\\x11p\\x1d\\xed\\x7f$U\\xad\\xeaY\\xd8\\xd3\\x10\\xf0\\xb2\\xc0l1\\x81\\xbb7q\\x07\\x08\\xd6}\\x1dQ\\xcf\\xbf\\x99\\xbe\\x98\"\\x13\\xc5\\xb04\\xe7\"2\\x85\\xf7\\xf4\\xd5,{G\\xac\\x08\\x98\\xb9\\x01L\\x88\\x01\\\\\\xe8\\xd8\\xaa\\xb2\\xb1\\x80w\\xae\\xcdK\\xa4v\\xfc$\\x17NQ\\xcf\\xb7e\\xd0a\\xf1\\xf1uR\\x91\\xb8*\\x9d\\x9028=\\xed.\\t\\x8b1\\xc3\\xdb\\x85\\xdc\\x87\\nn\\x10\\x05\\xe3\\x99\\x06\\xe68a1\\xbdz\\xddj\\xb3\\xbbf\\xf5\\xba\\x9a\\xde\\xf7r\\xa5\\xc40\\x8a.\\x10\\xcc0-\\xa4WS\\x8e;L\\x84\\x05\\xfb\\x19\\xcc\\xe2\\xb6r\\xb5]\\xe1\\xdd\\x04\\xaf\\xcb\\xacD\\xed\\x8dC|\\xd8\\xfb\\x05 \\x18\\xf7\\xfb\\xcb\\xb2\\xb0\\xf4~\\x96\\xeab\\xfc\\xf2p\\xc1l\\xee1\\xca\\xcf\\x97M0\\x957\\xb4\\x87\\xd8Z\\xaaW\\xa0\\xd9\\xd1\\x12\\xc6\\x11\\x8d0k\\xfeK\\xa8\\x94\\x95+\\xc6!\\nTp\\xa0\\xc3\\x80\\xae\\xa2\\x12\\x93N\\x9f\\xe6mV\\x87\\xbb\\xc1J\\xad\\x9e\\x082\\x1aDh \\xe8<\\xb8\\x00ch\\xe77\\x0fW\\xb2\\xfb\\xba\\xc4\\xe97\\x1c\\xd8\\xfb\\xbcR\\x8d/\\xdf\\xd3\\x1b\\xc7\\xb0\\x900\\xb3\\x05\\x86\\xbd\\xd6\\xea\\xde2g\\xc1\\x04\\xfe\\xbd]jV\\xc83\\x84]QY\\xca{\\x05\\xbf\\xd9\\xf6\\xd9>\\xeb\\x9f(\\xfd\\x9d\\x9eP\\xc5\\x9d3\\x14\\x01lu\\xd2\\xf1\\xbe\\xfd\\xd9\\xaa;\\xa8\\x1b\\x0b]n\\x1f7r!F\\x9b\\xc6\\xbetrg\\xf3\\xba,\\xb9\\xc0Wt\\xa5@l\\x01\\x92\\xc2\\xe8\\xaa)>\\xfc\\x96\\x8d3\\x81HR\\xdf;bVC\\xba\\x88\\xfed\\xf6J<\\x06%\\x18,YA\\xd4\\xf0/\\x8a\\x19\\x06\\xf4\\xa5?L\\x8d\\x0boc\\x0e4;\\xba\\xdd\\x02\\xca&3\\\\\\xc8pw\\xb4C4=W\\xb7!\\xbax\\'\\x1f\\xf0\\xe8\\xea/\\x8a\\xfa\\xf4\\xc7JF\\xbf\\x18*\\x968\\xec;J\\xc3\\x88\\x1cy\\xa3\\x94Lb\\xba\\xfe\\xa8\\xf6\\xce\\xaa\\xe0\\x18~B\\x19\\xb9\\x19\\xb4\\x0cE\\xa3Q!Cqo.\\xef\\xcb|D\\x7fW\\xd4\\xe1;\\x1b\\xad\\xde\\x84i\\xc2\\xfe\\xfbi\\x99qB\\x13\\xc747T\\xd5\\xf9h\\xcc\\x9bk\\x1c\\x13\\x8a-\\x00?\\x13\\n\\xaf\\x96f\\xa0X[\\xf8\\x8d\\xad\\x92\\xf7\\xa2\\xb1\\xc2\\x1cCC\\xf2\\xbe\\xa7\\xfa\\xd8\\xd0\\xab!\\x16&\\xb08\\x99q\\xc8\\x01.\\xf1T\\x1e\\xeb<N^!\\xca)\\x82\\x93}\\xb1\\x9cM\\xfa\\xdeh`\\xfb\\x0b\\x03\\'\\x11\\xed\\xcbA:\\xb2\\xb6\\x97\\xc8,\\xca\\x18\\xb7LP\\xd1\\x7f\\xe44MXj\\xb3?\\xd2=\\x1c\\xfb\\xbeEa\\x92\\x1f$:\\xfcl\\xae\\n\\xc3\\x84QG\\x92WF\\x0eo\\xd0%2\\x81\\x87\\xf9\\xcfV\\x0f\\x11\\xc9|\\x850\\xab\\xde]h\\xf3^S\\x9d\\t\\xb5\\x07\\xb4\\x06K\\x8f\\x88qw\\xa1\\xaa`G\\xb9n.\\x8dFZ\\x93!g.G65\\xf4\\x9c\\xcdS[\\xaa\\xefSH7\\x0b\\x93\\xdeD8\\xdd\\xa5\\xd5\\x05\\r\\xa5\\xbb@\\xd1\\x02;\\xf9AnT]\\x97f\\x99\\x1d\\xa8\\\\2\\xdf\\x98\\x16\\xca\\xa3\\x91S\\xc6\\xb2\\xf5\\x81}\\x91\\x00\\xbdv\\xff\\xc4\\xbc\\x0eE\\xdet\\xc4\\xc7\\xd0_\\xa3a\\x1d\\xf7H\\xab\\xfe\\x0e\\xda\\x81\\x01\\xe0\\xa2\\xba\\xd6B(\\x8a\\xf9^\\n\\x9b\\x00\\x00^z\\xdd\\x00\\x03\\x95\\xba\\x01!\\x8c\\x84k\\xfe0\\x1c\\xc7\\'\\xc5\\xd0(r\\xc5\\x9e\\xbe\\x9f\\x04\\xe8zT\\x88?\\x96\\xb2\\xb8ih\\x08{\\x03\\xda+\\xd8B\\xb0b\\xe3\"\\xb1\\xb1#\\x9d7l\\x97\\xd9\\x19+\\xd7\\xa4\\xf3\\xe3\\xfb0\\xac\\xfc\\xd6\\xf8xq$r\\x7f\\x93\\xed\\xd2\\x88\\xc8u\\xfd\\xdd\\xe8\\x80\\xbb[0p\\xa4`\\xdf=\\xd2\\x91\\x00\\x8eM\\xa1\\xf9\\xb58\\xed\\xe2\\xb5bY\\x98\\xb1\\t\\xfa\\xc1\\xc2y7\\xf0\\xc3\\x9d6\\xb8\\xe1l\\xe8|e\\xeb\\x91\\xe7?\\xde\\xad\\xbb\\r$\\xa58\\x80\\xcc\\x0b\\xc8@\\x87\\r\\xc3\\x8d\\x1bc\\x90\\x1d\\x88\\x83\\x12%\\xfa(\\x8c\\xd0\\x92|R\\x1cX\\xf7\\xa5\\xe5j\\xa0\\xe1\\xbc\\xb3\\x94.\\x13\\xe6I\\x13\\x9e\\x1d\\xfcR\\x00@\\x93q\\xbf[\\xae\\x8e\\x1b\\x7f\\xf8\\xabhBb\\x8c\\xaa\\xec\\x03\\xceNv\\t\\x99\\x99\\x06d\\xf5\\'\\x19\\xe2\\x02\\x96\\x04\\x93IJ\\xd5\\xd3\\x14ZLX\\xdbn\\x87\\x9e\\x16\\xf5\\xb4m<G\\xa2\\xf19\\x11A\\x92\\xf8\\xc5f\\xbd0\\xcf\\xe6$\\xa8\\xf4\\x97\\x82|\\xf7\\xc26\\xbcdm\\x02;V\\xb7\\x07e9{\\xb6\\xe3\\xf7O\\x9fhG\\x16\\xe0\\xfc\\xd3\\xef \\xce\\x16\\x84\\xa8\\xa8#\\x12\\xed\\xf0\\xd4\\x19\\x15\\xbd\\x90\\xc2Y_W\\x10p-\\x91\\xd7xc\\xa1\\xb0\\xd7\\xb6\\x07t\\x89\\xdb23\\xbbcc\\x9c\\xe6\\xb4\\xe3\\xec\\xa0,K)\\xfcnoU\\x97*\\xd3)pZzAa\\x938m\\x85^P1%0#\\x06\\t*\\x86H\\x86\\xf7\\r\\x01\\t\\x151\\x16\\x04\\x14l\\xb2*\\xf2\\x9a\\x19\\xf8\\xd6`\\x8c~\\r\\x80\\xb8\\xd0g\\x01\\x07z\\x980+0\\x1f0\\x07\\x06\\x05+\\x0e\\x03\\x02\\x1a\\x04\\x14\\x7fr\\xbfID\\xd5\\x86\\x9c93\\xc7YE\\x00^\\xc9\\x87\\xc3\\n\\xb5\\x04\\x08\\x16\\x82q\\xca(\\xcd\\x11I\\x01\\x00\\x00\\xff\\xffPK\\x07\\x08\\\\U\\xe0\\xd5i\\x0e\\x00\\x00_\\x0e\\x00\\x00PK\\x01\\x02\\x14\\x03\\x14\\x00\\x08\\x00\\x08\\x00\\xa6}\"Z\\xd2\\x87\\x16\\xe6\\xe8\\x03\\x00\\x00A\\x05\\x00\\x00\\x06\\x00\\t\\x00\\x00\\x00\\x00\\x00\\x00\\x00\\x00\\x00\\x80\\x81\\x00\\x00\\x00\\x00ca.crtUT\\x05\\x00\\x01\\x88\\xb4vgPK\\x01\\x02\\x14\\x03\\x14\\x00\\x08\\x00\\x08\\x00\\xa6}\"Z.\\x0e\\x0c \\t\\x05\\x00\\x00\\x8f\\x06\\x00\\x00\\x03\\x00\\t\\x00\\x00\\x00\\x00\\x00\\x00\\x00\\x00\\x00\\x80\\x81%\\x04\\x00\\x00keyUT\\x05\\x00\\x01\\x88\\xb4vgPK\\x01\\x02\\x14\\x03\\x14\\x00\\x08\\x00\\x08\\x00\\xa6}\"Z\\xe5\\xe0\\x94\\xd1.\\x04\\x00\\x00\\xf5\\x05\\x00\\x00\\x04\\x00\\t\\x00\\x00\\x00\\x00\\x00\\x00\\x00\\x00\\x00\\x80\\x81h\\t\\x00\\x00certUT\\x05\\x00\\x01\\x88\\xb4vgPK\\x01\\x02\\x14\\x03\\x14\\x00\\x08\\x00\\x08\\x00\\xa6}\"Z\\x12P$\\x08S\\n\\x00\\x00;\\x0b\\x00\\x00\\x0c\\x00\\t\\x00\\x00\\x00\\x00\\x00\\x00\\x00\\x00\\x00\\xa4\\x81\\xd1\\r\\x00\\x00identity.jksUT\\x05\\x00\\x01\\x88\\xb4vgPK\\x01\\x02\\x14\\x03\\x14\\x00\\x08\\x00\\x08\\x00\\xa6}\"Z\\x97\\n\\xa1?K\\x04\\x00\\x00\\x7f\\x05\\x00\\x00\\x0e\\x00\\t\\x00\\x00\\x00\\x00\\x00\\x00\\x00\\x00\\x00\\xa4\\x81g\\x18\\x00\\x00trustStore.jksUT\\x05\\x00\\x01\\x88\\xb4vgPK\\x01\\x02\\x14\\x03\\x14\\x00\\x08\\x00\\x08\\x00\\xa6}\"ZS\\xe7H\\xc4\\x14\\x01\\x00\\x00\\xf5\\x01\\x00\\x00\\x0b\\x00\\t\\x00\\x00\\x00\\x00\\x00\\x00\\x00\\x00\\x00\\xa4\\x81\\xf7\\x1c\\x00\\x00config.jsonUT\\x05\\x00\\x01\\x88\\xb4vgPK\\x01\\x02\\x14\\x03\\x14\\x00\\x08\\x00\\x08\\x00\\xa6}\"Z\\nX\\x11\\xa7\\xa5\\x00\\x00\\x00\\xce\\x00\\x00\\x00\\x07\\x00\\t\\x00\\x00\\x00\\x00\\x00\\x00\\x00\\x00\\x00\\xa4\\x81M\\x1e\\x00\\x00cqlshrcUT\\x05\\x00\\x01\\x88\\xb4vgPK\\x01\\x02\\x14\\x03\\x14\\x00\\x08\\x00\\x08\\x00\\xa6}\"Z\\\\U\\xe0\\xd5i\\x0e\\x00\\x00_\\x0e\\x00\\x00\\x08\\x00\\t\\x00\\x00\\x00\\x00\\x00\\x00\\x00\\x00\\x00\\xa4\\x810\\x1f\\x00\\x00cert.pfxUT\\x05\\x00\\x01\\x88\\xb4vgPK\\x05\\x06\\x00\\x00\\x00\\x00\\x08\\x00\\x08\\x00\\xf9\\x01\\x00\\x00\\xd8-\\x00\\x00\\x00\\x00'}"
            ]
          },
          "metadata": {},
          "execution_count": 5
        }
      ]
    },
    {
      "cell_type": "markdown",
      "metadata": {
        "id": "bulgarian-michael"
      },
      "source": [
        "set the `Secure connect bundle zip file` path and specify the `clientID` and `Client_Secret`\n",
        "\n",
        "Note: Credentials used are from CDS account on Datastax\n",
        "\n",
        "**Database details:**\n",
        "\n",
        "Database name: cds_mov_database\n",
        "\n",
        "Namespace name: cds_mov\n",
        "\n",
        "Collection name: cds_mov_collection\n",
        "\n",
        "Collection name: cds_rating_collection\n",
        "\n",
        "Collection name: cds_user_collection\n",
        "\n",
        "zip_path = '/content/secure_connect_cds_mov_database.zip'\n",
        "\n",
        "Client_ID = 'vqmsXxzqtwwADIpqWKCGpJUG'\n",
        "\n",
        "Client_Secret = '8gdjC+_B059EBJxU0+ltvpOv,9,TW2bWpgBb3GAifjBOr6f7d,hRp9q75FNyqXgzH0ZMwhhdlx_EHLG,_IprE6pbSZSWQR9tAHOJWswii9qDndpgm95Q__9R+GimH+k0'"
      ],
      "id": "bulgarian-michael"
    },
    {
      "cell_type": "code",
      "metadata": {
        "id": "bearing-roads"
      },
      "source": [
        "# Enter the credentials below\n",
        "zip_path = '/content/secure-connect-cds1.zip'\n",
        "Client_ID = 'wWwWtmACvvEuAWkhWaMbmIaJ'\n",
        "Client_Secret = 'sO66tLsqsvwPFJrdwbk19bBB-vYPuyqPw57xMXL97osXf8tHxKHwXP-rYe7fq+J5DcMe5ecWbdmuhXpEqJuovIUqFh.K6pzJlW1TDIGdAZBw5HZshAiZ2HnpkqoK+BdL'"
      ],
      "id": "bearing-roads",
      "execution_count": 6,
      "outputs": []
    },
    {
      "cell_type": "markdown",
      "metadata": {
        "id": "u0GXrsCHK0H6"
      },
      "source": [
        "#### Create a Cluster instance to connect to your Astra database.\n",
        "\n",
        "You will typically have one instance of Cluster for each Cassandra cluster you want to interact with. Create a session object using the cluster.\n",
        "\n",
        "**Hint:** Refer Python documentation under Connect."
      ],
      "id": "u0GXrsCHK0H6"
    },
    {
      "cell_type": "code",
      "metadata": {
        "id": "personal-string",
        "outputId": "837f5525-f9c4-41c5-af0f-3614a290d7e9",
        "colab": {
          "base_uri": "https://localhost:8080/"
        }
      },
      "source": [
        "cloud_config= {\n",
        "        'secure_connect_bundle': zip_path\n",
        "}\n",
        "auth_provider = PlainTextAuthProvider(Client_ID,\n",
        "                                      Client_Secret)\n",
        "cluster = Cluster(cloud=cloud_config, auth_provider=auth_provider)\n",
        "session = cluster.connect()"
      ],
      "id": "personal-string",
      "execution_count": 7,
      "outputs": [
        {
          "output_type": "stream",
          "name": "stderr",
          "text": [
            "WARNING:cassandra.cluster:Downgrading core protocol version from 66 to 65 for 237cfe07-681e-4b80-9d00-1f19cfbf83a4-us-east1.db.astra.datastax.com:29042:b4f6d9ed-0f1d-3f7a-82f1-a4a7ea4f84d4. To avoid this, it is best practice to explicitly set Cluster(protocol_version) to the version supported by your cluster. http://datastax.github.io/python-driver/api/cassandra/cluster.html#cassandra.cluster.Cluster.protocol_version\n",
            "WARNING:cassandra.cluster:Downgrading core protocol version from 65 to 5 for 237cfe07-681e-4b80-9d00-1f19cfbf83a4-us-east1.db.astra.datastax.com:29042:b4f6d9ed-0f1d-3f7a-82f1-a4a7ea4f84d4. To avoid this, it is best practice to explicitly set Cluster(protocol_version) to the version supported by your cluster. http://datastax.github.io/python-driver/api/cassandra/cluster.html#cassandra.cluster.Cluster.protocol_version\n",
            "WARNING:cassandra.cluster:Downgrading core protocol version from 5 to 4 for 237cfe07-681e-4b80-9d00-1f19cfbf83a4-us-east1.db.astra.datastax.com:29042:b4f6d9ed-0f1d-3f7a-82f1-a4a7ea4f84d4. To avoid this, it is best practice to explicitly set Cluster(protocol_version) to the version supported by your cluster. http://datastax.github.io/python-driver/api/cassandra/cluster.html#cassandra.cluster.Cluster.protocol_version\n"
          ]
        }
      ]
    },
    {
      "cell_type": "markdown",
      "metadata": {
        "id": "sorted-modern"
      },
      "source": [
        "#### Verifying the database connection\n",
        "\n",
        "execute a simple query and verify the database connection"
      ],
      "id": "sorted-modern"
    },
    {
      "cell_type": "code",
      "metadata": {
        "id": "alike-alcohol",
        "outputId": "2fc91f64-792e-4283-fe27-2f5019be6969",
        "colab": {
          "base_uri": "https://localhost:8080/"
        }
      },
      "source": [
        "# YOUR CODE HERE\n",
        "\n",
        "# Assuming you have your cluster and session set up\n",
        "session = cluster.connect()\n",
        "\n",
        "# Set the keyspace\n",
        "session.set_keyspace('movielens')\n",
        "\n",
        "# Execute the query\n",
        "rows = session.execute(\"SELECT * FROM data_movies LIMIT 1\")\n",
        "\n",
        "# Print the results\n",
        "for row in rows:\n",
        "    print(row)\n",
        "\n",
        "rows = session.execute(\"SELECT * FROM data_ratings LIMIT 1\")\n",
        "\n",
        "# Print the results\n",
        "for row in rows:\n",
        "    print(row)\n",
        "\n",
        "rows = session.execute(\"SELECT * FROM data_users LIMIT 1\")\n",
        "\n",
        "# Print the results\n",
        "for row in rows:\n",
        "    print(row)"
      ],
      "id": "alike-alcohol",
      "execution_count": 8,
      "outputs": [
        {
          "output_type": "stream",
          "name": "stdout",
          "text": [
            "Row(movieid=3372, genres='Action|War', title='Bridge at Remagen, The (1969)')\n",
            "Row(movieid=3372, rating=2, userid=3589)\n",
            "Row(userid=4317, gender='F', age=35)\n"
          ]
        }
      ]
    },
    {
      "cell_type": "markdown",
      "metadata": {
        "id": "earlier-cedar"
      },
      "source": [
        "#### Setting the Key Space\n",
        "\n",
        "A keyspace is the top-level database object that controls the replication for the object it contains at each datacenter in the cluster. Keyspaces contain tables, materialized views and user-defined types, functions and aggregates. Typically, a cluster has one keyspace per application. Since replication is controlled on a per-keyspace basis, store data with different replication requirements (at the same datacenter) in different keyspaces.\n",
        "\n",
        "Before creating tables and inserting data let's create and set the keyspace\n",
        "\n",
        "* we can create keyspace manually on Datastax dashboard or also using the CQL command. (use lowercase to avoid errors)\n",
        "\n",
        "    * [Hint](https://docs.datastax.com/en/cql-oss/3.x/cql/cql_reference/cqlCreateKeyspace.html)\n",
        "\n",
        "* once the keyspace is created successfully, set the keyspace using the command `set_keyspace()`"
      ],
      "id": "earlier-cedar"
    },
    {
      "cell_type": "code",
      "metadata": {
        "id": "complicated-decision"
      },
      "source": [
        "# YOUR CODE HERE\n",
        "session1 = cluster.connect()\n",
        "\n",
        "# Set the keyspace\n",
        "session1.set_keyspace('movielensnew')"
      ],
      "id": "complicated-decision",
      "execution_count": 14,
      "outputs": []
    },
    {
      "cell_type": "markdown",
      "metadata": {
        "id": "MwAu-oEU3KWP"
      },
      "source": [
        "### Insert the data into Database (1 point)\n",
        "\n",
        "To insert the data into database, we can create a table in keyspace and insert the data by using CQL command or we can directly upload the data on the datstax dashboard using [Astra Dataloader](https://docs.datastax.com/en/astra/docs/develop/dev-upload-data.html)\n",
        "\n",
        "As there is huge amount of data, insertion of data using CQL commands may take time, preferable method is Astra Dataloader.\n",
        "\n",
        "* Download the below mentioned 3 datasets and upload to Datastax Astra dashboard using Astra Dataloader\n",
        "    * [data_movies](https://cdn.iisc.talentsprint.com/CDS/MiniProjects/data_movies.csv)\n",
        "    * [data_ratings](https://cdn.iisc.talentsprint.com/CDS/MiniProjects/data_ratings.csv)\n",
        "    * [data_users](https://cdn.iisc.talentsprint.com/CDS/MiniProjects/data_users.csv)\n",
        "    \n",
        "while uploading data using Datastax Astra dataloader you may encounter the below error message due to formatting issues or bulk data. In that case, click on upload button for second time for data upload.\n",
        "![img](https://cdn.iisc.talentsprint.com/CDS/MiniProjects/data_upload_error.JPG)\n",
        "\n",
        "Note: Cassandra also handles non-SQL data formats such as JSON (see [insert JSON data](https://docs.datastax.com/en/cql-oss/3.3/cql/cql_using/useInsertJSON.html)). However for the purpose of this Mini-project, we are using a tabular data format (.csv)."
      ],
      "id": "MwAu-oEU3KWP"
    },
    {
      "cell_type": "markdown",
      "source": [
        "### Loading the data\n"
      ],
      "metadata": {
        "id": "1AIb5tS84Im3"
      },
      "id": "1AIb5tS84Im3"
    },
    {
      "cell_type": "code",
      "source": [
        "# YOUR CODE HERE\n",
        "data_movies= pd.read_csv('data_movies.csv')"
      ],
      "metadata": {
        "id": "XbeyGSxl4Oie"
      },
      "id": "XbeyGSxl4Oie",
      "execution_count": 20,
      "outputs": []
    },
    {
      "cell_type": "code",
      "source": [
        "# YOUR CODE HERE\n",
        "data_ratings= pd.read_csv('data_ratings.csv')"
      ],
      "metadata": {
        "id": "qVd2Q2aE4PUq"
      },
      "id": "qVd2Q2aE4PUq",
      "execution_count": 21,
      "outputs": []
    },
    {
      "cell_type": "code",
      "source": [
        "# YOUR CODE HERE\n",
        "data_users= pd.read_csv('data_users.csv')"
      ],
      "metadata": {
        "id": "70cwiy3Z4WH7"
      },
      "id": "70cwiy3Z4WH7",
      "execution_count": 22,
      "outputs": []
    },
    {
      "cell_type": "markdown",
      "metadata": {
        "id": "relevant-vacuum"
      },
      "source": [
        "### Querying the database (2 points)"
      ],
      "id": "relevant-vacuum"
    },
    {
      "cell_type": "markdown",
      "metadata": {
        "id": "OHtkA5P8gHku"
      },
      "source": [
        "* Select First 10 rows of the data_movies table\n",
        "* How many Users have watched the movie  `'Contact (1997)'` with MovieId = 1584\n",
        "* Select the count of teenage male users\n",
        "\n",
        "**Note:** For syntax related issues, try the **CQLConsole** on Datastax dashboard\n",
        "\n",
        "**Hint:** [CQL command for select](https://docs.datastax.com/en/cql-oss/3.3/cql/cql_using/useQueryColumnsSort.html)"
      ],
      "id": "OHtkA5P8gHku"
    },
    {
      "cell_type": "markdown",
      "source": [
        "#### Creating the data_movies table"
      ],
      "metadata": {
        "id": "FiCYYrTr5HPY"
      },
      "id": "FiCYYrTr5HPY"
    },
    {
      "cell_type": "code",
      "metadata": {
        "id": "familiar-architecture",
        "colab": {
          "base_uri": "https://localhost:8080/"
        },
        "outputId": "00803310-ab22-4762-fb56-dca5de8dc536"
      },
      "source": [
        "# Use the following SQL query:\n",
        "query = \"\"\"CREATE TABLE  IF NOT EXISTS data_movies (movieid INT,\n",
        "                                                 title TEXT,\n",
        "                                                 genres TEXT,\n",
        "                                                 PRIMARY KEY (movieid)); \"\"\"\n",
        "\n",
        "# YOUR CODE HERE\n",
        "session1.execute(query)"
      ],
      "id": "familiar-architecture",
      "execution_count": 23,
      "outputs": [
        {
          "output_type": "execute_result",
          "data": {
            "text/plain": [
              "<cassandra.cluster.ResultSet at 0x7ceb954982e0>"
            ]
          },
          "metadata": {},
          "execution_count": 23
        }
      ]
    },
    {
      "cell_type": "code",
      "source": [
        "data_movies_cols = ','.join(data_movies.columns.values)\n",
        "for (i,row) in data_movies.iterrows():\n",
        "   query = 'INSERT INTO movielensnew.data_movies ({}) VALUES (%s, %s, %s)'.format(data_movies_cols)\n",
        "   session.execute(query, tuple(row))"
      ],
      "metadata": {
        "id": "-V5xO3Py5u-T"
      },
      "id": "-V5xO3Py5u-T",
      "execution_count": 25,
      "outputs": []
    },
    {
      "cell_type": "markdown",
      "source": [
        "**Please note that the above code cell will take around 6 mins 30 secs to complete execution on CPU**"
      ],
      "metadata": {
        "id": "_9bChZ8J6BFB"
      },
      "id": "_9bChZ8J6BFB"
    },
    {
      "cell_type": "markdown",
      "source": [
        "#### Creating the data_ratings table"
      ],
      "metadata": {
        "id": "XOxMFF6B51g9"
      },
      "id": "XOxMFF6B51g9"
    },
    {
      "cell_type": "code",
      "metadata": {
        "id": "younger-audit",
        "colab": {
          "base_uri": "https://localhost:8080/"
        },
        "outputId": "fff78641-cfe8-4073-e7cd-02e1d178e642"
      },
      "source": [
        "# Use the following SQL query:\n",
        "query = \"\"\"CREATE TABLE  IF NOT EXISTS data_ratings (movieid INT,\n",
        "                                                 rating INT,\n",
        "                                                 userid INT,\n",
        "                                                 PRIMARY KEY (movieid)); \"\"\"\n",
        "# YOUR CODE HERE\n",
        "session1.execute(query)"
      ],
      "id": "younger-audit",
      "execution_count": 27,
      "outputs": [
        {
          "output_type": "execute_result",
          "data": {
            "text/plain": [
              "<cassandra.cluster.ResultSet at 0x7ceb99b98970>"
            ]
          },
          "metadata": {},
          "execution_count": 27
        }
      ]
    },
    {
      "cell_type": "markdown",
      "source": [
        "**Limiting the DataFrame to the first 5000 rows**"
      ],
      "metadata": {
        "id": "hoBtcSaM6HYT"
      },
      "id": "hoBtcSaM6HYT"
    },
    {
      "cell_type": "code",
      "source": [
        "# Limiting the DataFrame to the first 5000 rows\n",
        "data_ratings = data_ratings.head(5000)  # Replace 'data_ratings' with your actual DataFrame"
      ],
      "metadata": {
        "id": "8OyNamr56MAu"
      },
      "id": "8OyNamr56MAu",
      "execution_count": 28,
      "outputs": []
    },
    {
      "cell_type": "code",
      "metadata": {
        "id": "charged-demographic"
      },
      "source": [
        "# Preparing to insert only the first 5000 rows\n",
        "data_ratings_cols  = ','.join(data_ratings.columns.values)\n",
        "# Use the following:\n",
        "insert_query = f\"INSERT INTO movielensnew.data_ratings ({data_ratings_cols}) VALUES (%s, %s, %s)\"\n",
        "\n",
        "# Insert the 5000 rows into Cassandra table 'data_ratings'\n",
        "# YOUR CODE HERE\n",
        "for (i,row) in data_ratings.iterrows():\n",
        "   query = insert_query.format(data_ratings_cols)\n",
        "   session1.execute(query, tuple(row))"
      ],
      "id": "charged-demographic",
      "execution_count": 30,
      "outputs": []
    },
    {
      "cell_type": "markdown",
      "source": [
        "**Please note that the above code cell will take around 8 mins 26 secs to complete execution on CPU**"
      ],
      "metadata": {
        "id": "7VUJHuyQ6PrK"
      },
      "id": "7VUJHuyQ6PrK"
    },
    {
      "cell_type": "markdown",
      "source": [
        "#### Creating the data_users table"
      ],
      "metadata": {
        "id": "V3_99qHE6y6r"
      },
      "id": "V3_99qHE6y6r"
    },
    {
      "cell_type": "code",
      "source": [
        "# Use the following SQL query:\n",
        "query = \"\"\"CREATE TABLE  IF NOT EXISTS data_users (userid INT,\n",
        "                                                 gender TEXT,\n",
        "                                                 age INT,\n",
        "                                                 PRIMARY KEY (userid)); \"\"\"\n",
        "session1.execute(query)"
      ],
      "metadata": {
        "id": "AXAjH-Zf67jN",
        "colab": {
          "base_uri": "https://localhost:8080/"
        },
        "outputId": "277ccabf-e3d4-4499-eadc-8ec8d4d27605"
      },
      "id": "AXAjH-Zf67jN",
      "execution_count": 31,
      "outputs": [
        {
          "output_type": "execute_result",
          "data": {
            "text/plain": [
              "<cassandra.cluster.ResultSet at 0x7ceb99bbdf00>"
            ]
          },
          "metadata": {},
          "execution_count": 31
        }
      ]
    },
    {
      "cell_type": "code",
      "source": [
        "data_users_cols = ','.join(data_users.columns.values)\n",
        "for (i,row) in data_users.iterrows():\n",
        "   query = 'INSERT INTO movielensnew.data_users ({}) VALUES (%s, %s, %s)'.format(data_users_cols)\n",
        "   session1.execute(query, tuple(row))"
      ],
      "metadata": {
        "id": "lB8RkIML7D_t"
      },
      "id": "lB8RkIML7D_t",
      "execution_count": 33,
      "outputs": []
    },
    {
      "cell_type": "markdown",
      "source": [
        "**Please note that the above code cell will take around 10 mins 11 secs to complete execution on CPU**"
      ],
      "metadata": {
        "id": "hC09OVjS6WbZ"
      },
      "id": "hC09OVjS6WbZ"
    },
    {
      "cell_type": "markdown",
      "source": [
        "* Select First 10 rows of the data_movies table"
      ],
      "metadata": {
        "id": "hnuEeQ8p7pE-"
      },
      "id": "hnuEeQ8p7pE-"
    },
    {
      "cell_type": "code",
      "source": [
        "# YOUR CODE HERE\n",
        "data_movies_rows = session.execute(\"SELECT * FROM data_movies LIMIT 10\")\n",
        "\n",
        "# Print the results\n",
        "for row in data_movies_rows:\n",
        "    print(row)"
      ],
      "metadata": {
        "id": "j1UOAD1q7rP7",
        "colab": {
          "base_uri": "https://localhost:8080/"
        },
        "outputId": "a5b0541e-4663-4b8b-938d-0d48ac2875e7"
      },
      "id": "j1UOAD1q7rP7",
      "execution_count": 9,
      "outputs": [
        {
          "output_type": "stream",
          "name": "stdout",
          "text": [
            "Row(movieid=3372, genres='Action|War', title='Bridge at Remagen, The (1969)')\n",
            "Row(movieid=1584, genres='Drama|Sci-Fi', title='Contact (1997)')\n",
            "Row(movieid=2731, genres='Drama', title='400 Blows, The (Les Quatre cents coups) (1959)')\n",
            "Row(movieid=2713, genres='Horror|Thriller', title='Lake Placid (1999)')\n",
            "Row(movieid=769, genres='Documentary', title='Marlene Dietrich: Shadow and Light (1996)')\n",
            "Row(movieid=1863, genres='Comedy', title='Major League: Back to the Minors (1998)')\n",
            "Row(movieid=2453, genres='Drama|Fantasy', title='Boy Who Could Fly, The (1986)')\n",
            "Row(movieid=2302, genres='Comedy', title='My Cousin Vinny (1992)')\n",
            "Row(movieid=3733, genres='Drama', title='Paper Chase, The (1973)')\n",
            "Row(movieid=1765, genres='Crime|Drama', title='Letter From Death Row, A (1998)')\n"
          ]
        }
      ]
    },
    {
      "cell_type": "markdown",
      "source": [
        "* How many Users have watched the movie 'Contact (1997)' with MovieId = 1584\n",
        "\n",
        "**Hint:** Use the following query command.\n",
        "\n",
        "\"SELECT count(*) FROM cds_mov.data_ratings WHERE movieid=1584 ALLOW FILTERING;\""
      ],
      "metadata": {
        "id": "2WajQZ5O7yZe"
      },
      "id": "2WajQZ5O7yZe"
    },
    {
      "cell_type": "code",
      "source": [
        "# YOUR CODE HERE\n",
        "data_ratings_rows = session.execute(\"SELECT count(*) FROM data_ratings WHERE movieid=1584 ALLOW FILTERING\")\n",
        "\n",
        "# Print the results\n",
        "print(data_ratings_rows.one().count)"
      ],
      "metadata": {
        "id": "yNTVuvk371e0",
        "colab": {
          "base_uri": "https://localhost:8080/"
        },
        "outputId": "3b18d504-0b38-4415-e9ba-23e08e4e3942"
      },
      "id": "yNTVuvk371e0",
      "execution_count": 10,
      "outputs": [
        {
          "output_type": "stream",
          "name": "stdout",
          "text": [
            "1382\n"
          ]
        }
      ]
    },
    {
      "cell_type": "markdown",
      "source": [
        "* Select the count of teenage male users\n",
        "\n",
        "**Hint:** Use the following query command.\n",
        "\n",
        "\"\"\"select count(*) from cds_mov.data_users where age<20 and gender='M' allow filtering;\"\"\""
      ],
      "metadata": {
        "id": "FVsyJZSb8STX"
      },
      "id": "FVsyJZSb8STX"
    },
    {
      "cell_type": "code",
      "source": [
        "# YOUR CODE HERE\n",
        "data_users_rows = session.execute(\"select count(*) from data_users where age<20 and gender='M' allow filtering\")\n",
        "\n",
        "# Print the results\n",
        "print(data_users_rows.one().count)"
      ],
      "metadata": {
        "id": "gfQvLg9d8j5X",
        "colab": {
          "base_uri": "https://localhost:8080/"
        },
        "outputId": "aa9a674a-ab44-40e5-b2ea-d281ac63e6d7"
      },
      "id": "gfQvLg9d8j5X",
      "execution_count": 11,
      "outputs": [
        {
          "output_type": "stream",
          "name": "stderr",
          "text": [
            "WARNING:cassandra.protocol:Server warning: Aggregation query used without partition key\n"
          ]
        },
        {
          "output_type": "stream",
          "name": "stdout",
          "text": [
            "949\n"
          ]
        }
      ]
    },
    {
      "cell_type": "markdown",
      "metadata": {
        "id": "sustainable-underwear"
      },
      "source": [
        "* Select the count of movies with Top rating from the entire ratings table"
      ],
      "id": "sustainable-underwear"
    },
    {
      "cell_type": "code",
      "metadata": {
        "id": "better-heath",
        "colab": {
          "base_uri": "https://localhost:8080/"
        },
        "outputId": "c3113616-5a69-4be4-d4e0-24ca1b084605"
      },
      "source": [
        "# YOUR CODE HERE\n",
        "\n",
        "movie_count_with_top_rating = session.execute(\"select count(*) from data_ratings  where rating = 5 allow filtering\")\n",
        "\n",
        "# Print the results\n",
        "print(movie_count_with_top_rating.one().count)"
      ],
      "id": "better-heath",
      "execution_count": 12,
      "outputs": [
        {
          "output_type": "stream",
          "name": "stderr",
          "text": [
            "WARNING:cassandra.protocol:Server warning: Aggregation query used without partition key\n"
          ]
        },
        {
          "output_type": "stream",
          "name": "stdout",
          "text": [
            "226310\n"
          ]
        }
      ]
    },
    {
      "cell_type": "markdown",
      "metadata": {
        "id": "alleged-notebook"
      },
      "source": [
        "* Select the count of movies, ONLY in Comedy genre from the entire data_movies table"
      ],
      "id": "alleged-notebook"
    },
    {
      "cell_type": "code",
      "source": [
        "#session1.execute(\"CREATE INDEX genres_index ON data_movies (genres)\")"
      ],
      "metadata": {
        "id": "kELhIIzDjODy"
      },
      "id": "kELhIIzDjODy",
      "execution_count": 18,
      "outputs": []
    },
    {
      "cell_type": "code",
      "metadata": {
        "id": "enabling-display",
        "colab": {
          "base_uri": "https://localhost:8080/"
        },
        "outputId": "846703ea-0d15-4d25-aa98-918c6228b947"
      },
      "source": [
        "# YOUR CODE HERE\n",
        "comedy_movies = session.execute(\"select count(*) from data_movies where genres = 'Comedy' allow filtering\")\n",
        "\n",
        "print(comedy_movies.one().count)"
      ],
      "id": "enabling-display",
      "execution_count": 13,
      "outputs": [
        {
          "output_type": "stream",
          "name": "stderr",
          "text": [
            "WARNING:cassandra.protocol:Server warning: Aggregation query used without partition key\n"
          ]
        },
        {
          "output_type": "stream",
          "name": "stdout",
          "text": [
            "521\n"
          ]
        }
      ]
    },
    {
      "cell_type": "code",
      "source": [
        "comedy_movies = session.execute(\"select * from data_movies\")\n",
        "counter=0\n",
        "for r in comedy_movies:\n",
        "    if 'Comedy' in r.genres:\n",
        "        counter += 1\n",
        "print(counter)"
      ],
      "metadata": {
        "colab": {
          "base_uri": "https://localhost:8080/"
        },
        "id": "m2cegDNdkiyi",
        "outputId": "14a6fe2e-aebf-4ff4-b443-e068eea14880"
      },
      "id": "m2cegDNdkiyi",
      "execution_count": 14,
      "outputs": [
        {
          "output_type": "stream",
          "name": "stdout",
          "text": [
            "1200\n"
          ]
        }
      ]
    },
    {
      "cell_type": "markdown",
      "metadata": {
        "id": "afraid-france"
      },
      "source": [
        "### Visualizing the Data (2 points)\n",
        "\n",
        "Retrieve the data using CQL queries and visualize using matplotlib"
      ],
      "id": "afraid-france"
    },
    {
      "cell_type": "markdown",
      "metadata": {
        "id": "damaged-laugh"
      },
      "source": [
        "* Visualize the frequencies of movie genres from the entire data\n",
        "\n",
        "**Hint:** Use the following query\n",
        "\n",
        "query = 'select genres from cds_mov.data_movies'"
      ],
      "id": "damaged-laugh"
    },
    {
      "cell_type": "code",
      "metadata": {
        "id": "acquired-solid",
        "colab": {
          "base_uri": "https://localhost:8080/",
          "height": 369
        },
        "outputId": "80e3af66-0fc3-4a05-a352-20b72c6c124e"
      },
      "source": [
        "# YOUR CODE HERE\n",
        "\n",
        "from collections import defaultdict\n",
        "\n",
        "# Execute the query to retrieve genres\n",
        "query = 'select genres from data_movies'\n",
        "rows = session.execute(query)\n",
        "\n",
        "# Create a dictionary to store genre frequencies\n",
        "genre_frequencies = defaultdict(int)\n",
        "\n",
        "# Process each row to count genre occurrences\n",
        "for row in rows:\n",
        "    genres = row.genres.split('|')  # Split genres based on '|' delimiter\n",
        "    for genre in genres:\n",
        "        genre_frequencies[genre] += 1\n",
        "\n",
        "# Prepare data for plotting\n",
        "genres = list(genre_frequencies.keys())\n",
        "frequencies = list(genre_frequencies.values())\n",
        "\n",
        "# Create the bar plot\n",
        "plt.figure(figsize=(12, 6))  # Adjust figure size as needed\n",
        "plt.bar(genres, frequencies)\n",
        "plt.xlabel(\"Genres\")\n",
        "plt.ylabel(\"Frequency\")\n",
        "plt.title(\"Movie Genre Frequencies\")\n",
        "plt.xticks(rotation=45, ha='right')  # Rotate x-axis labels for better readability\n",
        "plt.tight_layout()  # Adjust layout to prevent labels from overlapping\n",
        "plt.show()"
      ],
      "id": "acquired-solid",
      "execution_count": 15,
      "outputs": [
        {
          "output_type": "display_data",
          "data": {
            "text/plain": [
              "<Figure size 1200x600 with 1 Axes>"
            ],
            "image/png": "[encoded data removed]"
          },
          "metadata": {}
        }
      ]
    },
    {
      "cell_type": "markdown",
      "metadata": {
        "id": "instant-immigration"
      },
      "source": [
        "* Visualize the bar plot showing no.of movies released in a particular year"
      ],
      "id": "instant-immigration"
    },
    {
      "cell_type": "code",
      "source": [
        "import re\n",
        "def extract_year(movie_title):\n",
        "    # Regex to find a 4-digit number inside parentheses\n",
        "    match = re.search(r'\\((\\d{4})\\)', movie_title)\n",
        "    if match:\n",
        "        return match.group(1)  # Return the matched year\n",
        "    else:\n",
        "        return None  # Return None if no year found"
      ],
      "metadata": {
        "id": "qYNCdP6ZrKQ7"
      },
      "id": "qYNCdP6ZrKQ7",
      "execution_count": 16,
      "outputs": []
    },
    {
      "cell_type": "code",
      "metadata": {
        "id": "theoretical-carol",
        "colab": {
          "base_uri": "https://localhost:8080/",
          "height": 369
        },
        "outputId": "961da780-b93f-47b1-e969-8ca84b46a2d6"
      },
      "source": [
        "# YOUR CODE HERE\n",
        "# Execute the query to retrieve genres\n",
        "query = 'select title from data_movies'\n",
        "rows = session.execute(query)\n",
        "\n",
        "# Create a dictionary to store genre frequencies\n",
        "year_frequencies = defaultdict(int)\n",
        "\n",
        "# Process each row to count genre occurrences\n",
        "for row in rows:\n",
        "    year = extract_year(row.title)  # Split genres based on '|' delimiter\n",
        "    year_frequencies[year] += 1\n",
        "\n",
        "# Prepare data for plotting\n",
        "years = list(year_frequencies.keys())\n",
        "frequencies = list(year_frequencies.values())\n",
        "\n",
        "# Create the bar plot\n",
        "plt.figure(figsize=(12, 6))  # Adjust figure size as needed\n",
        "plt.bar(years, frequencies)\n",
        "plt.xlabel(\"Year\")\n",
        "plt.ylabel(\"Frequency\")\n",
        "plt.title(\"Movie Year Frequencies\")\n",
        "plt.xticks(rotation=45, ha='right')  # Rotate x-axis labels for better readability\n",
        "plt.tight_layout()  # Adjust layout to prevent labels from overlapping\n",
        "plt.show()"
      ],
      "id": "theoretical-carol",
      "execution_count": 17,
      "outputs": [
        {
          "output_type": "display_data",
          "data": {
            "text/plain": [
              "<Figure size 1200x600 with 1 Axes>"
            ],
            "image/png": "[encoded data removed]"
          },
          "metadata": {}
        }
      ]
    },
    {
      "cell_type": "markdown",
      "metadata": {
        "id": "pediatric-clothing"
      },
      "source": [
        "* Depict the plot of Age groups ratio who are active in watching movies\n",
        "\n",
        "**Hint:** Use the following query.\n",
        "\n",
        "query = 'select age from cds_mov.data_users;'"
      ],
      "id": "pediatric-clothing"
    },
    {
      "cell_type": "code",
      "metadata": {
        "id": "desirable-selection",
        "colab": {
          "base_uri": "https://localhost:8080/",
          "height": 369
        },
        "outputId": "226d247e-6e06-4e76-97f1-bfb23c5c155d"
      },
      "source": [
        "# YOUR CODE HERE\n",
        "query = 'select age from data_users'\n",
        "rows = session.execute(query)\n",
        "\n",
        "# Create a dictionary to store genre frequencies\n",
        "age_frequencies = defaultdict(int)\n",
        "\n",
        "# Process each row to count genre occurrences\n",
        "for row in rows:\n",
        "    age = row.age  # Split genres based on '|' delimiter\n",
        "    age_frequencies[age] += 1\n",
        "\n",
        "# Prepare data for plotting\n",
        "ages = list(age_frequencies.keys())\n",
        "frequencies = list(age_frequencies.values())\n",
        "\n",
        "# Create the bar plot\n",
        "plt.figure(figsize=(12, 6))  # Adjust figure size as needed\n",
        "plt.bar(ages, frequencies)\n",
        "plt.xlabel(\"Age\")\n",
        "plt.ylabel(\"Frequency\")\n",
        "plt.title(\"Movie Year Frequencies\")\n",
        "plt.xticks(rotation=45, ha='right')  # Rotate x-axis labels for better readability\n",
        "plt.tight_layout()  # Adjust layout to prevent labels from overlapping\n",
        "plt.show()"
      ],
      "id": "desirable-selection",
      "execution_count": 18,
      "outputs": [
        {
          "output_type": "display_data",
          "data": {
            "text/plain": [
              "<Figure size 1200x600 with 1 Axes>"
            ],
            "image/png": "[encoded data removed]"
          },
          "metadata": {}
        }
      ]
    },
    {
      "cell_type": "markdown",
      "metadata": {
        "id": "extensive-billy"
      },
      "source": [
        "### Analyzing the Data (3 points)\n",
        "\n",
        "Analyzing the correlation between the movies records, implement a function to recommend movies based on search term"
      ],
      "id": "extensive-billy"
    },
    {
      "cell_type": "markdown",
      "metadata": {
        "id": "southeast-buffalo"
      },
      "source": [
        "* Retrieve all the data from ratings table\n",
        "\n",
        "**Hint:** Use the following query.\n",
        "\n",
        "query = 'select * from cds_mov.data_ratings;'"
      ],
      "id": "southeast-buffalo"
    },
    {
      "cell_type": "code",
      "metadata": {
        "id": "related-google",
        "colab": {
          "base_uri": "https://localhost:8080/"
        },
        "outputId": "51e7a562-03af-476e-bc47-22a6887cdef5"
      },
      "source": [
        "# YOUR CODE HERE\n",
        "query = 'select * from data_ratings'\n",
        "rows = session.execute(query)\n",
        "print(rows.one())"
      ],
      "id": "related-google",
      "execution_count": 19,
      "outputs": [
        {
          "output_type": "stream",
          "name": "stdout",
          "text": [
            "Row(movieid=3372, rating=2, userid=3589)\n"
          ]
        }
      ]
    },
    {
      "cell_type": "markdown",
      "metadata": {
        "id": "continent-travel"
      },
      "source": [
        "* Create a movie matrix by applying pivot table with the above retrieved ratings data\n",
        "\n",
        "* use `pd.pivot_table` with index = `userid`, columns = `movieid` and Values = `rating`\n",
        "\n",
        " **Hint:** create a dataframe with above retrieved ratings data to apply pivot table"
      ],
      "id": "continent-travel"
    },
    {
      "cell_type": "code",
      "metadata": {
        "id": "prospective-polls",
        "colab": {
          "base_uri": "https://localhost:8080/"
        },
        "outputId": "ebd28dd7-7b50-4b33-fdf5-024a4932a5f4"
      },
      "source": [
        "# YOUR CODE HERE\n",
        "data = [dict(row._asdict()) for row in rows]\n",
        "\n",
        "# Create DataFrame\n",
        "df = pd.DataFrame(data)\n",
        "\n",
        "print(df.head())"
      ],
      "id": "prospective-polls",
      "execution_count": 20,
      "outputs": [
        {
          "output_type": "stream",
          "name": "stdout",
          "text": [
            "   movieid  rating  userid\n",
            "0     3372       2    3589\n",
            "1     3372       2    3836\n",
            "2     3372       2    4169\n",
            "3     3372       2    4510\n",
            "4     3372       2    4577\n"
          ]
        }
      ]
    },
    {
      "cell_type": "code",
      "source": [
        "movie_matrix = df.pivot_table(index='userid', columns='movieid', values='rating')"
      ],
      "metadata": {
        "id": "s2LpAgifiXVM"
      },
      "id": "s2LpAgifiXVM",
      "execution_count": 21,
      "outputs": []
    },
    {
      "cell_type": "markdown",
      "metadata": {
        "id": "surgical-level"
      },
      "source": [
        "* Define a function named `recommend_movies()` which will take a movieid as argument and return the top 5 similar movieid's\n",
        "\n",
        "    * Considering the argument (movieid) as search item collect the particular row data\n",
        "    \n",
        "    * Using movie matrix calculate correlation between movie search Item data and all the remaining data\n",
        "    \n",
        "        * Hint: [corr_with()](https://pandas.pydata.org/docs/reference/api/pandas.DataFrame.corrwith.html)\n",
        "        \n",
        "    * Sort the result by ascending order and return the top 5 items"
      ],
      "id": "surgical-level"
    },
    {
      "cell_type": "code",
      "metadata": {
        "id": "excellent-perth",
        "colab": {
          "base_uri": "https://localhost:8080/"
        },
        "outputId": "74244390-82e5-40d5-8191-94b08b2994a1"
      },
      "source": [
        "def recommend_movie(movie_matrix, movieId):\n",
        "    # YOUR CODE HERE\n",
        "        # Get the correlation of the specified movie with all other movies\n",
        "    movie_correlations = movie_matrix.corrwith(movie_matrix[movieId])\n",
        "\n",
        "    # Sort the correlations in descending order and return the top 5 (excluding the movie itself)\n",
        "    top_recommendations = movie_correlations.sort_values(ascending=False).index[1:6]\n",
        "\n",
        "    return top_recommendations\n",
        "\n",
        "#print(recommend_movie(df, 6040))\n",
        "print(recommend_movie(movie_matrix, 3372))\n",
        "#movie_matrix[3372]"
      ],
      "id": "excellent-perth",
      "execution_count": 30,
      "outputs": [
        {
          "output_type": "stream",
          "name": "stdout",
          "text": [
            "Index([3331, 2548, 3884, 714, 2188], dtype='int64', name='movieid')\n"
          ]
        }
      ]
    },
    {
      "cell_type": "markdown",
      "metadata": {
        "id": "afraid-ivory"
      },
      "source": [
        "* write a query to get MovieId of a Title (your choice) and the result MovieId as a search item by calling the above defined function"
      ],
      "id": "afraid-ivory"
    },
    {
      "cell_type": "code",
      "metadata": {
        "id": "damaged-starter",
        "colab": {
          "base_uri": "https://localhost:8080/"
        },
        "outputId": "2faa35cb-9388-484f-d8fc-c36258a94772"
      },
      "source": [
        "# YOUR CODE HERE\n",
        "query = \"select movieid from data_movies where title = 'Bridge at Remagen, The (1969)'  ALLOW FILTERING\"\n",
        "rows = session.execute(query)\n",
        "print(rows.one())\n",
        "recommendations = recommend_movie(movie_matrix, 3372)\n",
        "print(recommendations)"
      ],
      "id": "damaged-starter",
      "execution_count": 44,
      "outputs": [
        {
          "output_type": "stream",
          "name": "stdout",
          "text": [
            "Row(movieid=3372)\n"
          ]
        },
        {
          "output_type": "stream",
          "name": "stderr",
          "text": [
            "/usr/local/lib/python3.10/dist-packages/numpy/lib/function_base.py:2889: RuntimeWarning: Degrees of freedom <= 0 for slice\n",
            "  c = cov(x, y, rowvar, dtype=dtype)\n",
            "/usr/local/lib/python3.10/dist-packages/numpy/lib/function_base.py:2748: RuntimeWarning: divide by zero encountered in divide\n",
            "  c *= np.true_divide(1, fact)\n",
            "/usr/local/lib/python3.10/dist-packages/numpy/lib/function_base.py:2748: RuntimeWarning: invalid value encountered in multiply\n",
            "  c *= np.true_divide(1, fact)\n",
            "/usr/local/lib/python3.10/dist-packages/numpy/lib/function_base.py:2897: RuntimeWarning: invalid value encountered in divide\n",
            "  c /= stddev[:, None]\n",
            "/usr/local/lib/python3.10/dist-packages/numpy/lib/function_base.py:2898: RuntimeWarning: invalid value encountered in divide\n",
            "  c /= stddev[None, :]\n"
          ]
        },
        {
          "output_type": "stream",
          "name": "stdout",
          "text": [
            "Index([3331, 2548, 3884, 714, 2188], dtype='int64', name='movieid')\n"
          ]
        }
      ]
    },
    {
      "cell_type": "markdown",
      "metadata": {
        "id": "altered-testimony"
      },
      "source": [
        "* Now taking the result of top 5 items (MovieId's) write a query to retrieve the Movie title from movies table"
      ],
      "id": "altered-testimony"
    },
    {
      "cell_type": "code",
      "metadata": {
        "id": "knowing-keyboard",
        "colab": {
          "base_uri": "https://localhost:8080/"
        },
        "outputId": "54546046-4906-45b1-d475-ec85306e93d0"
      },
      "source": [
        "# YOUR CODE HERE\n",
        "for r in recommendations:\n",
        "    query = \"select title from data_movies where movieid = {}  ALLOW FILTERING\".format(r)\n",
        "    rows = session.execute(query)\n",
        "    print(rows.one())"
      ],
      "id": "knowing-keyboard",
      "execution_count": 45,
      "outputs": [
        {
          "output_type": "stream",
          "name": "stdout",
          "text": [
            "Row(title='My Tutor (1983)')\n",
            "Row(title='Rage: Carrie 2, The (1999)')\n",
            "Row(title='Crew, The (2000)')\n",
            "Row(title='Dead Man (1995)')\n",
            "Row(title='54 (1998)')\n"
          ]
        }
      ]
    },
    {
      "cell_type": "markdown",
      "source": [
        "**Close the session**"
      ],
      "metadata": {
        "id": "q6C9QNGklpfC"
      },
      "id": "q6C9QNGklpfC"
    },
    {
      "cell_type": "code",
      "source": [
        "# YOUR CODE HERE\n",
        "session.shutdown()"
      ],
      "metadata": {
        "id": "C3repgoilrd3"
      },
      "id": "C3repgoilrd3",
      "execution_count": 46,
      "outputs": []
    }
  ]
}