{
  "nbformat": 4,
  "nbformat_minor": 0,
  "metadata": {
    "colab": {
      "provenance": [],
      "gpuType": "T4",
      "include_colab_link": true
    },
    "kernelspec": {
      "name": "python3",
      "display_name": "Python 3"
    },
    "language_info": {
      "name": "python"
    },
    "accelerator": "GPU",
    "widgets": {
      "application/vnd.jupyter.widget-state+json": {
        "3573c08a2f594cc398f211c27af92087": {
          "model_module": "@jupyter-widgets/controls",
          "model_name": "HBoxModel",
          "model_module_version": "1.5.0",
          "state": {
            "_dom_classes": [],
            "_model_module": "@jupyter-widgets/controls",
            "_model_module_version": "1.5.0",
            "_model_name": "HBoxModel",
            "_view_count": null,
            "_view_module": "@jupyter-widgets/controls",
            "_view_module_version": "1.5.0",
            "_view_name": "HBoxView",
            "box_style": "",
            "children": [
              "IPY_MODEL_1911eea9b4494f3888c9198e0ca89fc4",
              "IPY_MODEL_0445c029330a4deeae2a70da14d1717f",
              "IPY_MODEL_07ce04ec7fbb410288da7631a9d11ebe"
            ],
            "layout": "IPY_MODEL_2ed5dd603adf4bbca229b6740654eaae"
          }
        },
        "1911eea9b4494f3888c9198e0ca89fc4": {
          "model_module": "@jupyter-widgets/controls",
          "model_name": "HTMLModel",
          "model_module_version": "1.5.0",
          "state": {
            "_dom_classes": [],
            "_model_module": "@jupyter-widgets/controls",
            "_model_module_version": "1.5.0",
            "_model_name": "HTMLModel",
            "_view_count": null,
            "_view_module": "@jupyter-widgets/controls",
            "_view_module_version": "1.5.0",
            "_view_name": "HTMLView",
            "description": "",
            "description_tooltip": null,
            "layout": "IPY_MODEL_e8cb3b34a98b4b45afee81d74c9e13f1",
            "placeholder": "​",
            "style": "IPY_MODEL_08aff3cd5a5c4448adad7be7c0aeeed6",
            "value": "tokenizer_config.json: 100%"
          }
        },
        "0445c029330a4deeae2a70da14d1717f": {
          "model_module": "@jupyter-widgets/controls",
          "model_name": "FloatProgressModel",
          "model_module_version": "1.5.0",
          "state": {
            "_dom_classes": [],
            "_model_module": "@jupyter-widgets/controls",
            "_model_module_version": "1.5.0",
            "_model_name": "FloatProgressModel",
            "_view_count": null,
            "_view_module": "@jupyter-widgets/controls",
            "_view_module_version": "1.5.0",
            "_view_name": "ProgressView",
            "bar_style": "success",
            "description": "",
            "description_tooltip": null,
            "layout": "IPY_MODEL_3801dd5c119c4d96a295615550ad08b8",
            "max": 26,
            "min": 0,
            "orientation": "horizontal",
            "style": "IPY_MODEL_6058a68ef13f4cc7aa36f2ddd0c5228d",
            "value": 26
          }
        },
        "07ce04ec7fbb410288da7631a9d11ebe": {
          "model_module": "@jupyter-widgets/controls",
          "model_name": "HTMLModel",
          "model_module_version": "1.5.0",
          "state": {
            "_dom_classes": [],
            "_model_module": "@jupyter-widgets/controls",
            "_model_module_version": "1.5.0",
            "_model_name": "HTMLModel",
            "_view_count": null,
            "_view_module": "@jupyter-widgets/controls",
            "_view_module_version": "1.5.0",
            "_view_name": "HTMLView",
            "description": "",
            "description_tooltip": null,
            "layout": "IPY_MODEL_f13770d86fb241139d0c2ce8369dedce",
            "placeholder": "​",
            "style": "IPY_MODEL_e63e07d099814e59ab1391c5376b3365",
            "value": " 26.0/26.0 [00:00&lt;00:00, 634B/s]"
          }
        },
        "2ed5dd603adf4bbca229b6740654eaae": {
          "model_module": "@jupyter-widgets/base",
          "model_name": "LayoutModel",
          "model_module_version": "1.2.0",
          "state": {
            "_model_module": "@jupyter-widgets/base",
            "_model_module_version": "1.2.0",
            "_model_name": "LayoutModel",
            "_view_count": null,
            "_view_module": "@jupyter-widgets/base",
            "_view_module_version": "1.2.0",
            "_view_name": "LayoutView",
            "align_content": null,
            "align_items": null,
            "align_self": null,
            "border": null,
            "bottom": null,
            "display": null,
            "flex": null,
            "flex_flow": null,
            "grid_area": null,
            "grid_auto_columns": null,
            "grid_auto_flow": null,
            "grid_auto_rows": null,
            "grid_column": null,
            "grid_gap": null,
            "grid_row": null,
            "grid_template_areas": null,
            "grid_template_columns": null,
            "grid_template_rows": null,
            "height": null,
            "justify_content": null,
            "justify_items": null,
            "left": null,
            "margin": null,
            "max_height": null,
            "max_width": null,
            "min_height": null,
            "min_width": null,
            "object_fit": null,
            "object_position": null,
            "order": null,
            "overflow": null,
            "overflow_x": null,
            "overflow_y": null,
            "padding": null,
            "right": null,
            "top": null,
            "visibility": null,
            "width": null
          }
        },
        "e8cb3b34a98b4b45afee81d74c9e13f1": {
          "model_module": "@jupyter-widgets/base",
          "model_name": "LayoutModel",
          "model_module_version": "1.2.0",
          "state": {
            "_model_module": "@jupyter-widgets/base",
            "_model_module_version": "1.2.0",
            "_model_name": "LayoutModel",
            "_view_count": null,
            "_view_module": "@jupyter-widgets/base",
            "_view_module_version": "1.2.0",
            "_view_name": "LayoutView",
            "align_content": null,
            "align_items": null,
            "align_self": null,
            "border": null,
            "bottom": null,
            "display": null,
            "flex": null,
            "flex_flow": null,
            "grid_area": null,
            "grid_auto_columns": null,
            "grid_auto_flow": null,
            "grid_auto_rows": null,
            "grid_column": null,
            "grid_gap": null,
            "grid_row": null,
            "grid_template_areas": null,
            "grid_template_columns": null,
            "grid_template_rows": null,
            "height": null,
            "justify_content": null,
            "justify_items": null,
            "left": null,
            "margin": null,
            "max_height": null,
            "max_width": null,
            "min_height": null,
            "min_width": null,
            "object_fit": null,
            "object_position": null,
            "order": null,
            "overflow": null,
            "overflow_x": null,
            "overflow_y": null,
            "padding": null,
            "right": null,
            "top": null,
            "visibility": null,
            "width": null
          }
        },
        "08aff3cd5a5c4448adad7be7c0aeeed6": {
          "model_module": "@jupyter-widgets/controls",
          "model_name": "DescriptionStyleModel",
          "model_module_version": "1.5.0",
          "state": {
            "_model_module": "@jupyter-widgets/controls",
            "_model_module_version": "1.5.0",
            "_model_name": "DescriptionStyleModel",
            "_view_count": null,
            "_view_module": "@jupyter-widgets/base",
            "_view_module_version": "1.2.0",
            "_view_name": "StyleView",
            "description_width": ""
          }
        },
        "3801dd5c119c4d96a295615550ad08b8": {
          "model_module": "@jupyter-widgets/base",
          "model_name": "LayoutModel",
          "model_module_version": "1.2.0",
          "state": {
            "_model_module": "@jupyter-widgets/base",
            "_model_module_version": "1.2.0",
            "_model_name": "LayoutModel",
            "_view_count": null,
            "_view_module": "@jupyter-widgets/base",
            "_view_module_version": "1.2.0",
            "_view_name": "LayoutView",
            "align_content": null,
            "align_items": null,
            "align_self": null,
            "border": null,
            "bottom": null,
            "display": null,
            "flex": null,
            "flex_flow": null,
            "grid_area": null,
            "grid_auto_columns": null,
            "grid_auto_flow": null,
            "grid_auto_rows": null,
            "grid_column": null,
            "grid_gap": null,
            "grid_row": null,
            "grid_template_areas": null,
            "grid_template_columns": null,
            "grid_template_rows": null,
            "height": null,
            "justify_content": null,
            "justify_items": null,
            "left": null,
            "margin": null,
            "max_height": null,
            "max_width": null,
            "min_height": null,
            "min_width": null,
            "object_fit": null,
            "object_position": null,
            "order": null,
            "overflow": null,
            "overflow_x": null,
            "overflow_y": null,
            "padding": null,
            "right": null,
            "top": null,
            "visibility": null,
            "width": null
          }
        },
        "6058a68ef13f4cc7aa36f2ddd0c5228d": {
          "model_module": "@jupyter-widgets/controls",
          "model_name": "ProgressStyleModel",
          "model_module_version": "1.5.0",
          "state": {
            "_model_module": "@jupyter-widgets/controls",
            "_model_module_version": "1.5.0",
            "_model_name": "ProgressStyleModel",
            "_view_count": null,
            "_view_module": "@jupyter-widgets/base",
            "_view_module_version": "1.2.0",
            "_view_name": "StyleView",
            "bar_color": null,
            "description_width": ""
          }
        },
        "f13770d86fb241139d0c2ce8369dedce": {
          "model_module": "@jupyter-widgets/base",
          "model_name": "LayoutModel",
          "model_module_version": "1.2.0",
          "state": {
            "_model_module": "@jupyter-widgets/base",
            "_model_module_version": "1.2.0",
            "_model_name": "LayoutModel",
            "_view_count": null,
            "_view_module": "@jupyter-widgets/base",
            "_view_module_version": "1.2.0",
            "_view_name": "LayoutView",
            "align_content": null,
            "align_items": null,
            "align_self": null,
            "border": null,
            "bottom": null,
            "display": null,
            "flex": null,
            "flex_flow": null,
            "grid_area": null,
            "grid_auto_columns": null,
            "grid_auto_flow": null,
            "grid_auto_rows": null,
            "grid_column": null,
            "grid_gap": null,
            "grid_row": null,
            "grid_template_areas": null,
            "grid_template_columns": null,
            "grid_template_rows": null,
            "height": null,
            "justify_content": null,
            "justify_items": null,
            "left": null,
            "margin": null,
            "max_height": null,
            "max_width": null,
            "min_height": null,
            "min_width": null,
            "object_fit": null,
            "object_position": null,
            "order": null,
            "overflow": null,
            "overflow_x": null,
            "overflow_y": null,
            "padding": null,
            "right": null,
            "top": null,
            "visibility": null,
            "width": null
          }
        },
        "e63e07d099814e59ab1391c5376b3365": {
          "model_module": "@jupyter-widgets/controls",
          "model_name": "DescriptionStyleModel",
          "model_module_version": "1.5.0",
          "state": {
            "_model_module": "@jupyter-widgets/controls",
            "_model_module_version": "1.5.0",
            "_model_name": "DescriptionStyleModel",
            "_view_count": null,
            "_view_module": "@jupyter-widgets/base",
            "_view_module_version": "1.2.0",
            "_view_name": "StyleView",
            "description_width": ""
          }
        },
        "f3eca4719aac442aa739a7b817e4205b": {
          "model_module": "@jupyter-widgets/controls",
          "model_name": "HBoxModel",
          "model_module_version": "1.5.0",
          "state": {
            "_dom_classes": [],
            "_model_module": "@jupyter-widgets/controls",
            "_model_module_version": "1.5.0",
            "_model_name": "HBoxModel",
            "_view_count": null,
            "_view_module": "@jupyter-widgets/controls",
            "_view_module_version": "1.5.0",
            "_view_name": "HBoxView",
            "box_style": "",
            "children": [
              "IPY_MODEL_a4951ae7bf984c928ef07d2573201796",
              "IPY_MODEL_df297ab21c1348f7b1ae5ad66bd52f4e",
              "IPY_MODEL_ebe277ef9a064fbf8cd89216ce7e2a58"
            ],
            "layout": "IPY_MODEL_05fce6b38aee4bf3abc257ff5046612f"
          }
        },
        "a4951ae7bf984c928ef07d2573201796": {
          "model_module": "@jupyter-widgets/controls",
          "model_name": "HTMLModel",
          "model_module_version": "1.5.0",
          "state": {
            "_dom_classes": [],
            "_model_module": "@jupyter-widgets/controls",
            "_model_module_version": "1.5.0",
            "_model_name": "HTMLModel",
            "_view_count": null,
            "_view_module": "@jupyter-widgets/controls",
            "_view_module_version": "1.5.0",
            "_view_name": "HTMLView",
            "description": "",
            "description_tooltip": null,
            "layout": "IPY_MODEL_d60195f9c71f49649410834bba74f381",
            "placeholder": "​",
            "style": "IPY_MODEL_6efae12a4f22438c8ff9e2020201ce2b",
            "value": "vocab.json: 100%"
          }
        },
        "df297ab21c1348f7b1ae5ad66bd52f4e": {
          "model_module": "@jupyter-widgets/controls",
          "model_name": "FloatProgressModel",
          "model_module_version": "1.5.0",
          "state": {
            "_dom_classes": [],
            "_model_module": "@jupyter-widgets/controls",
            "_model_module_version": "1.5.0",
            "_model_name": "FloatProgressModel",
            "_view_count": null,
            "_view_module": "@jupyter-widgets/controls",
            "_view_module_version": "1.5.0",
            "_view_name": "ProgressView",
            "bar_style": "success",
            "description": "",
            "description_tooltip": null,
            "layout": "IPY_MODEL_892baa976f35482c955482920d15a954",
            "max": 1042301,
            "min": 0,
            "orientation": "horizontal",
            "style": "IPY_MODEL_003a8ea4acc7449bb49a703440d1fce7",
            "value": 1042301
          }
        },
        "ebe277ef9a064fbf8cd89216ce7e2a58": {
          "model_module": "@jupyter-widgets/controls",
          "model_name": "HTMLModel",
          "model_module_version": "1.5.0",
          "state": {
            "_dom_classes": [],
            "_model_module": "@jupyter-widgets/controls",
            "_model_module_version": "1.5.0",
            "_model_name": "HTMLModel",
            "_view_count": null,
            "_view_module": "@jupyter-widgets/controls",
            "_view_module_version": "1.5.0",
            "_view_name": "HTMLView",
            "description": "",
            "description_tooltip": null,
            "layout": "IPY_MODEL_4a3b82b4d0c94bb5a6b86e2872793c46",
            "placeholder": "​",
            "style": "IPY_MODEL_63d902ee7f3f4721ae9d0d4d382d00c8",
            "value": " 1.04M/1.04M [00:00&lt;00:00, 1.41MB/s]"
          }
        },
        "05fce6b38aee4bf3abc257ff5046612f": {
          "model_module": "@jupyter-widgets/base",
          "model_name": "LayoutModel",
          "model_module_version": "1.2.0",
          "state": {
            "_model_module": "@jupyter-widgets/base",
            "_model_module_version": "1.2.0",
            "_model_name": "LayoutModel",
            "_view_count": null,
            "_view_module": "@jupyter-widgets/base",
            "_view_module_version": "1.2.0",
            "_view_name": "LayoutView",
            "align_content": null,
            "align_items": null,
            "align_self": null,
            "border": null,
            "bottom": null,
            "display": null,
            "flex": null,
            "flex_flow": null,
            "grid_area": null,
            "grid_auto_columns": null,
            "grid_auto_flow": null,
            "grid_auto_rows": null,
            "grid_column": null,
            "grid_gap": null,
            "grid_row": null,
            "grid_template_areas": null,
            "grid_template_columns": null,
            "grid_template_rows": null,
            "height": null,
            "justify_content": null,
            "justify_items": null,
            "left": null,
            "margin": null,
            "max_height": null,
            "max_width": null,
            "min_height": null,
            "min_width": null,
            "object_fit": null,
            "object_position": null,
            "order": null,
            "overflow": null,
            "overflow_x": null,
            "overflow_y": null,
            "padding": null,
            "right": null,
            "top": null,
            "visibility": null,
            "width": null
          }
        },
        "d60195f9c71f49649410834bba74f381": {
          "model_module": "@jupyter-widgets/base",
          "model_name": "LayoutModel",
          "model_module_version": "1.2.0",
          "state": {
            "_model_module": "@jupyter-widgets/base",
            "_model_module_version": "1.2.0",
            "_model_name": "LayoutModel",
            "_view_count": null,
            "_view_module": "@jupyter-widgets/base",
            "_view_module_version": "1.2.0",
            "_view_name": "LayoutView",
            "align_content": null,
            "align_items": null,
            "align_self": null,
            "border": null,
            "bottom": null,
            "display": null,
            "flex": null,
            "flex_flow": null,
            "grid_area": null,
            "grid_auto_columns": null,
            "grid_auto_flow": null,
            "grid_auto_rows": null,
            "grid_column": null,
            "grid_gap": null,
            "grid_row": null,
            "grid_template_areas": null,
            "grid_template_columns": null,
            "grid_template_rows": null,
            "height": null,
            "justify_content": null,
            "justify_items": null,
            "left": null,
            "margin": null,
            "max_height": null,
            "max_width": null,
            "min_height": null,
            "min_width": null,
            "object_fit": null,
            "object_position": null,
            "order": null,
            "overflow": null,
            "overflow_x": null,
            "overflow_y": null,
            "padding": null,
            "right": null,
            "top": null,
            "visibility": null,
            "width": null
          }
        },
        "6efae12a4f22438c8ff9e2020201ce2b": {
          "model_module": "@jupyter-widgets/controls",
          "model_name": "DescriptionStyleModel",
          "model_module_version": "1.5.0",
          "state": {
            "_model_module": "@jupyter-widgets/controls",
            "_model_module_version": "1.5.0",
            "_model_name": "DescriptionStyleModel",
            "_view_count": null,
            "_view_module": "@jupyter-widgets/base",
            "_view_module_version": "1.2.0",
            "_view_name": "StyleView",
            "description_width": ""
          }
        },
        "892baa976f35482c955482920d15a954": {
          "model_module": "@jupyter-widgets/base",
          "model_name": "LayoutModel",
          "model_module_version": "1.2.0",
          "state": {
            "_model_module": "@jupyter-widgets/base",
            "_model_module_version": "1.2.0",
            "_model_name": "LayoutModel",
            "_view_count": null,
            "_view_module": "@jupyter-widgets/base",
            "_view_module_version": "1.2.0",
            "_view_name": "LayoutView",
            "align_content": null,
            "align_items": null,
            "align_self": null,
            "border": null,
            "bottom": null,
            "display": null,
            "flex": null,
            "flex_flow": null,
            "grid_area": null,
            "grid_auto_columns": null,
            "grid_auto_flow": null,
            "grid_auto_rows": null,
            "grid_column": null,
            "grid_gap": null,
            "grid_row": null,
            "grid_template_areas": null,
            "grid_template_columns": null,
            "grid_template_rows": null,
            "height": null,
            "justify_content": null,
            "justify_items": null,
            "left": null,
            "margin": null,
            "max_height": null,
            "max_width": null,
            "min_height": null,
            "min_width": null,
            "object_fit": null,
            "object_position": null,
            "order": null,
            "overflow": null,
            "overflow_x": null,
            "overflow_y": null,
            "padding": null,
            "right": null,
            "top": null,
            "visibility": null,
            "width": null
          }
        },
        "003a8ea4acc7449bb49a703440d1fce7": {
          "model_module": "@jupyter-widgets/controls",
          "model_name": "ProgressStyleModel",
          "model_module_version": "1.5.0",
          "state": {
            "_model_module": "@jupyter-widgets/controls",
            "_model_module_version": "1.5.0",
            "_model_name": "ProgressStyleModel",
            "_view_count": null,
            "_view_module": "@jupyter-widgets/base",
            "_view_module_version": "1.2.0",
            "_view_name": "StyleView",
            "bar_color": null,
            "description_width": ""
          }
        },
        "4a3b82b4d0c94bb5a6b86e2872793c46": {
          "model_module": "@jupyter-widgets/base",
          "model_name": "LayoutModel",
          "model_module_version": "1.2.0",
          "state": {
            "_model_module": "@jupyter-widgets/base",
            "_model_module_version": "1.2.0",
            "_model_name": "LayoutModel",
            "_view_count": null,
            "_view_module": "@jupyter-widgets/base",
            "_view_module_version": "1.2.0",
            "_view_name": "LayoutView",
            "align_content": null,
            "align_items": null,
            "align_self": null,
            "border": null,
            "bottom": null,
            "display": null,
            "flex": null,
            "flex_flow": null,
            "grid_area": null,
            "grid_auto_columns": null,
            "grid_auto_flow": null,
            "grid_auto_rows": null,
            "grid_column": null,
            "grid_gap": null,
            "grid_row": null,
            "grid_template_areas": null,
            "grid_template_columns": null,
            "grid_template_rows": null,
            "height": null,
            "justify_content": null,
            "justify_items": null,
            "left": null,
            "margin": null,
            "max_height": null,
            "max_width": null,
            "min_height": null,
            "min_width": null,
            "object_fit": null,
            "object_position": null,
            "order": null,
            "overflow": null,
            "overflow_x": null,
            "overflow_y": null,
            "padding": null,
            "right": null,
            "top": null,
            "visibility": null,
            "width": null
          }
        },
        "63d902ee7f3f4721ae9d0d4d382d00c8": {
          "model_module": "@jupyter-widgets/controls",
          "model_name": "DescriptionStyleModel",
          "model_module_version": "1.5.0",
          "state": {
            "_model_module": "@jupyter-widgets/controls",
            "_model_module_version": "1.5.0",
            "_model_name": "DescriptionStyleModel",
            "_view_count": null,
            "_view_module": "@jupyter-widgets/base",
            "_view_module_version": "1.2.0",
            "_view_name": "StyleView",
            "description_width": ""
          }
        },
        "77ed3ba56bfd4c31bfbd642932e3cfb1": {
          "model_module": "@jupyter-widgets/controls",
          "model_name": "HBoxModel",
          "model_module_version": "1.5.0",
          "state": {
            "_dom_classes": [],
            "_model_module": "@jupyter-widgets/controls",
            "_model_module_version": "1.5.0",
            "_model_name": "HBoxModel",
            "_view_count": null,
            "_view_module": "@jupyter-widgets/controls",
            "_view_module_version": "1.5.0",
            "_view_name": "HBoxView",
            "box_style": "",
            "children": [
              "IPY_MODEL_d1e7045a70304160967a946caf715453",
              "IPY_MODEL_b3a5adc7b9444b01b22fe30a53c0b4a1",
              "IPY_MODEL_f60acb9e33ec4f28bf6ca8b1aab26e4a"
            ],
            "layout": "IPY_MODEL_3f819dd0e7b14270be18c92dc77ad64b"
          }
        },
        "d1e7045a70304160967a946caf715453": {
          "model_module": "@jupyter-widgets/controls",
          "model_name": "HTMLModel",
          "model_module_version": "1.5.0",
          "state": {
            "_dom_classes": [],
            "_model_module": "@jupyter-widgets/controls",
            "_model_module_version": "1.5.0",
            "_model_name": "HTMLModel",
            "_view_count": null,
            "_view_module": "@jupyter-widgets/controls",
            "_view_module_version": "1.5.0",
            "_view_name": "HTMLView",
            "description": "",
            "description_tooltip": null,
            "layout": "IPY_MODEL_fc98d1ef990b4f3fafb2b5703b01fe9a",
            "placeholder": "​",
            "style": "IPY_MODEL_36f9042d45ca47b195aa28605c99105d",
            "value": "merges.txt: 100%"
          }
        },
        "b3a5adc7b9444b01b22fe30a53c0b4a1": {
          "model_module": "@jupyter-widgets/controls",
          "model_name": "FloatProgressModel",
          "model_module_version": "1.5.0",
          "state": {
            "_dom_classes": [],
            "_model_module": "@jupyter-widgets/controls",
            "_model_module_version": "1.5.0",
            "_model_name": "FloatProgressModel",
            "_view_count": null,
            "_view_module": "@jupyter-widgets/controls",
            "_view_module_version": "1.5.0",
            "_view_name": "ProgressView",
            "bar_style": "success",
            "description": "",
            "description_tooltip": null,
            "layout": "IPY_MODEL_5f29d5eaaaeb4db59c8119a1b90eec0c",
            "max": 456318,
            "min": 0,
            "orientation": "horizontal",
            "style": "IPY_MODEL_9ea31cc23189440a86fdfa3c59f58a16",
            "value": 456318
          }
        },
        "f60acb9e33ec4f28bf6ca8b1aab26e4a": {
          "model_module": "@jupyter-widgets/controls",
          "model_name": "HTMLModel",
          "model_module_version": "1.5.0",
          "state": {
            "_dom_classes": [],
            "_model_module": "@jupyter-widgets/controls",
            "_model_module_version": "1.5.0",
            "_model_name": "HTMLModel",
            "_view_count": null,
            "_view_module": "@jupyter-widgets/controls",
            "_view_module_version": "1.5.0",
            "_view_name": "HTMLView",
            "description": "",
            "description_tooltip": null,
            "layout": "IPY_MODEL_200c9bf3872746ebb75e662c256a402a",
            "placeholder": "​",
            "style": "IPY_MODEL_293480b9191645fa8f08e289d1359f2f",
            "value": " 456k/456k [00:00&lt;00:00, 619kB/s]"
          }
        },
        "3f819dd0e7b14270be18c92dc77ad64b": {
          "model_module": "@jupyter-widgets/base",
          "model_name": "LayoutModel",
          "model_module_version": "1.2.0",
          "state": {
            "_model_module": "@jupyter-widgets/base",
            "_model_module_version": "1.2.0",
            "_model_name": "LayoutModel",
            "_view_count": null,
            "_view_module": "@jupyter-widgets/base",
            "_view_module_version": "1.2.0",
            "_view_name": "LayoutView",
            "align_content": null,
            "align_items": null,
            "align_self": null,
            "border": null,
            "bottom": null,
            "display": null,
            "flex": null,
            "flex_flow": null,
            "grid_area": null,
            "grid_auto_columns": null,
            "grid_auto_flow": null,
            "grid_auto_rows": null,
            "grid_column": null,
            "grid_gap": null,
            "grid_row": null,
            "grid_template_areas": null,
            "grid_template_columns": null,
            "grid_template_rows": null,
            "height": null,
            "justify_content": null,
            "justify_items": null,
            "left": null,
            "margin": null,
            "max_height": null,
            "max_width": null,
            "min_height": null,
            "min_width": null,
            "object_fit": null,
            "object_position": null,
            "order": null,
            "overflow": null,
            "overflow_x": null,
            "overflow_y": null,
            "padding": null,
            "right": null,
            "top": null,
            "visibility": null,
            "width": null
          }
        },
        "fc98d1ef990b4f3fafb2b5703b01fe9a": {
          "model_module": "@jupyter-widgets/base",
          "model_name": "LayoutModel",
          "model_module_version": "1.2.0",
          "state": {
            "_model_module": "@jupyter-widgets/base",
            "_model_module_version": "1.2.0",
            "_model_name": "LayoutModel",
            "_view_count": null,
            "_view_module": "@jupyter-widgets/base",
            "_view_module_version": "1.2.0",
            "_view_name": "LayoutView",
            "align_content": null,
            "align_items": null,
            "align_self": null,
            "border": null,
            "bottom": null,
            "display": null,
            "flex": null,
            "flex_flow": null,
            "grid_area": null,
            "grid_auto_columns": null,
            "grid_auto_flow": null,
            "grid_auto_rows": null,
            "grid_column": null,
            "grid_gap": null,
            "grid_row": null,
            "grid_template_areas": null,
            "grid_template_columns": null,
            "grid_template_rows": null,
            "height": null,
            "justify_content": null,
            "justify_items": null,
            "left": null,
            "margin": null,
            "max_height": null,
            "max_width": null,
            "min_height": null,
            "min_width": null,
            "object_fit": null,
            "object_position": null,
            "order": null,
            "overflow": null,
            "overflow_x": null,
            "overflow_y": null,
            "padding": null,
            "right": null,
            "top": null,
            "visibility": null,
            "width": null
          }
        },
        "36f9042d45ca47b195aa28605c99105d": {
          "model_module": "@jupyter-widgets/controls",
          "model_name": "DescriptionStyleModel",
          "model_module_version": "1.5.0",
          "state": {
            "_model_module": "@jupyter-widgets/controls",
            "_model_module_version": "1.5.0",
            "_model_name": "DescriptionStyleModel",
            "_view_count": null,
            "_view_module": "@jupyter-widgets/base",
            "_view_module_version": "1.2.0",
            "_view_name": "StyleView",
            "description_width": ""
          }
        },
        "5f29d5eaaaeb4db59c8119a1b90eec0c": {
          "model_module": "@jupyter-widgets/base",
          "model_name": "LayoutModel",
          "model_module_version": "1.2.0",
          "state": {
            "_model_module": "@jupyter-widgets/base",
            "_model_module_version": "1.2.0",
            "_model_name": "LayoutModel",
            "_view_count": null,
            "_view_module": "@jupyter-widgets/base",
            "_view_module_version": "1.2.0",
            "_view_name": "LayoutView",
            "align_content": null,
            "align_items": null,
            "align_self": null,
            "border": null,
            "bottom": null,
            "display": null,
            "flex": null,
            "flex_flow": null,
            "grid_area": null,
            "grid_auto_columns": null,
            "grid_auto_flow": null,
            "grid_auto_rows": null,
            "grid_column": null,
            "grid_gap": null,
            "grid_row": null,
            "grid_template_areas": null,
            "grid_template_columns": null,
            "grid_template_rows": null,
            "height": null,
            "justify_content": null,
            "justify_items": null,
            "left": null,
            "margin": null,
            "max_height": null,
            "max_width": null,
            "min_height": null,
            "min_width": null,
            "object_fit": null,
            "object_position": null,
            "order": null,
            "overflow": null,
            "overflow_x": null,
            "overflow_y": null,
            "padding": null,
            "right": null,
            "top": null,
            "visibility": null,
            "width": null
          }
        },
        "9ea31cc23189440a86fdfa3c59f58a16": {
          "model_module": "@jupyter-widgets/controls",
          "model_name": "ProgressStyleModel",
          "model_module_version": "1.5.0",
          "state": {
            "_model_module": "@jupyter-widgets/controls",
            "_model_module_version": "1.5.0",
            "_model_name": "ProgressStyleModel",
            "_view_count": null,
            "_view_module": "@jupyter-widgets/base",
            "_view_module_version": "1.2.0",
            "_view_name": "StyleView",
            "bar_color": null,
            "description_width": ""
          }
        },
        "200c9bf3872746ebb75e662c256a402a": {
          "model_module": "@jupyter-widgets/base",
          "model_name": "LayoutModel",
          "model_module_version": "1.2.0",
          "state": {
            "_model_module": "@jupyter-widgets/base",
            "_model_module_version": "1.2.0",
            "_model_name": "LayoutModel",
            "_view_count": null,
            "_view_module": "@jupyter-widgets/base",
            "_view_module_version": "1.2.0",
            "_view_name": "LayoutView",
            "align_content": null,
            "align_items": null,
            "align_self": null,
            "border": null,
            "bottom": null,
            "display": null,
            "flex": null,
            "flex_flow": null,
            "grid_area": null,
            "grid_auto_columns": null,
            "grid_auto_flow": null,
            "grid_auto_rows": null,
            "grid_column": null,
            "grid_gap": null,
            "grid_row": null,
            "grid_template_areas": null,
            "grid_template_columns": null,
            "grid_template_rows": null,
            "height": null,
            "justify_content": null,
            "justify_items": null,
            "left": null,
            "margin": null,
            "max_height": null,
            "max_width": null,
            "min_height": null,
            "min_width": null,
            "object_fit": null,
            "object_position": null,
            "order": null,
            "overflow": null,
            "overflow_x": null,
            "overflow_y": null,
            "padding": null,
            "right": null,
            "top": null,
            "visibility": null,
            "width": null
          }
        },
        "293480b9191645fa8f08e289d1359f2f": {
          "model_module": "@jupyter-widgets/controls",
          "model_name": "DescriptionStyleModel",
          "model_module_version": "1.5.0",
          "state": {
            "_model_module": "@jupyter-widgets/controls",
            "_model_module_version": "1.5.0",
            "_model_name": "DescriptionStyleModel",
            "_view_count": null,
            "_view_module": "@jupyter-widgets/base",
            "_view_module_version": "1.2.0",
            "_view_name": "StyleView",
            "description_width": ""
          }
        },
        "3625329b29e140b1942ff5ae9953600d": {
          "model_module": "@jupyter-widgets/controls",
          "model_name": "HBoxModel",
          "model_module_version": "1.5.0",
          "state": {
            "_dom_classes": [],
            "_model_module": "@jupyter-widgets/controls",
            "_model_module_version": "1.5.0",
            "_model_name": "HBoxModel",
            "_view_count": null,
            "_view_module": "@jupyter-widgets/controls",
            "_view_module_version": "1.5.0",
            "_view_name": "HBoxView",
            "box_style": "",
            "children": [
              "IPY_MODEL_5bb3066893e142e5a81205331a6cec5c",
              "IPY_MODEL_ac8d9112c4344c14961e740bacd3de05",
              "IPY_MODEL_cb6645fb4bc843a5a744c8e5d4a32709"
            ],
            "layout": "IPY_MODEL_5b1f940909e94f919e2be4c0c232e281"
          }
        },
        "5bb3066893e142e5a81205331a6cec5c": {
          "model_module": "@jupyter-widgets/controls",
          "model_name": "HTMLModel",
          "model_module_version": "1.5.0",
          "state": {
            "_dom_classes": [],
            "_model_module": "@jupyter-widgets/controls",
            "_model_module_version": "1.5.0",
            "_model_name": "HTMLModel",
            "_view_count": null,
            "_view_module": "@jupyter-widgets/controls",
            "_view_module_version": "1.5.0",
            "_view_name": "HTMLView",
            "description": "",
            "description_tooltip": null,
            "layout": "IPY_MODEL_9eada87ae25848619d26b9ad9064ea23",
            "placeholder": "​",
            "style": "IPY_MODEL_d19215668a2a4356a60bb3d7beb0aa16",
            "value": "tokenizer.json: 100%"
          }
        },
        "ac8d9112c4344c14961e740bacd3de05": {
          "model_module": "@jupyter-widgets/controls",
          "model_name": "FloatProgressModel",
          "model_module_version": "1.5.0",
          "state": {
            "_dom_classes": [],
            "_model_module": "@jupyter-widgets/controls",
            "_model_module_version": "1.5.0",
            "_model_name": "FloatProgressModel",
            "_view_count": null,
            "_view_module": "@jupyter-widgets/controls",
            "_view_module_version": "1.5.0",
            "_view_name": "ProgressView",
            "bar_style": "success",
            "description": "",
            "description_tooltip": null,
            "layout": "IPY_MODEL_55ab6af588904ab3a214f3cf0447d8bc",
            "max": 1355256,
            "min": 0,
            "orientation": "horizontal",
            "style": "IPY_MODEL_b7a644cc515540eab188ad83c17f87dd",
            "value": 1355256
          }
        },
        "cb6645fb4bc843a5a744c8e5d4a32709": {
          "model_module": "@jupyter-widgets/controls",
          "model_name": "HTMLModel",
          "model_module_version": "1.5.0",
          "state": {
            "_dom_classes": [],
            "_model_module": "@jupyter-widgets/controls",
            "_model_module_version": "1.5.0",
            "_model_name": "HTMLModel",
            "_view_count": null,
            "_view_module": "@jupyter-widgets/controls",
            "_view_module_version": "1.5.0",
            "_view_name": "HTMLView",
            "description": "",
            "description_tooltip": null,
            "layout": "IPY_MODEL_7bf77fbf3fc54d578aed69aa93ae4894",
            "placeholder": "​",
            "style": "IPY_MODEL_546b226ad2ae4f819b488aa0333f06da",
            "value": " 1.36M/1.36M [00:01&lt;00:00, 1.10MB/s]"
          }
        },
        "5b1f940909e94f919e2be4c0c232e281": {
          "model_module": "@jupyter-widgets/base",
          "model_name": "LayoutModel",
          "model_module_version": "1.2.0",
          "state": {
            "_model_module": "@jupyter-widgets/base",
            "_model_module_version": "1.2.0",
            "_model_name": "LayoutModel",
            "_view_count": null,
            "_view_module": "@jupyter-widgets/base",
            "_view_module_version": "1.2.0",
            "_view_name": "LayoutView",
            "align_content": null,
            "align_items": null,
            "align_self": null,
            "border": null,
            "bottom": null,
            "display": null,
            "flex": null,
            "flex_flow": null,
            "grid_area": null,
            "grid_auto_columns": null,
            "grid_auto_flow": null,
            "grid_auto_rows": null,
            "grid_column": null,
            "grid_gap": null,
            "grid_row": null,
            "grid_template_areas": null,
            "grid_template_columns": null,
            "grid_template_rows": null,
            "height": null,
            "justify_content": null,
            "justify_items": null,
            "left": null,
            "margin": null,
            "max_height": null,
            "max_width": null,
            "min_height": null,
            "min_width": null,
            "object_fit": null,
            "object_position": null,
            "order": null,
            "overflow": null,
            "overflow_x": null,
            "overflow_y": null,
            "padding": null,
            "right": null,
            "top": null,
            "visibility": null,
            "width": null
          }
        },
        "9eada87ae25848619d26b9ad9064ea23": {
          "model_module": "@jupyter-widgets/base",
          "model_name": "LayoutModel",
          "model_module_version": "1.2.0",
          "state": {
            "_model_module": "@jupyter-widgets/base",
            "_model_module_version": "1.2.0",
            "_model_name": "LayoutModel",
            "_view_count": null,
            "_view_module": "@jupyter-widgets/base",
            "_view_module_version": "1.2.0",
            "_view_name": "LayoutView",
            "align_content": null,
            "align_items": null,
            "align_self": null,
            "border": null,
            "bottom": null,
            "display": null,
            "flex": null,
            "flex_flow": null,
            "grid_area": null,
            "grid_auto_columns": null,
            "grid_auto_flow": null,
            "grid_auto_rows": null,
            "grid_column": null,
            "grid_gap": null,
            "grid_row": null,
            "grid_template_areas": null,
            "grid_template_columns": null,
            "grid_template_rows": null,
            "height": null,
            "justify_content": null,
            "justify_items": null,
            "left": null,
            "margin": null,
            "max_height": null,
            "max_width": null,
            "min_height": null,
            "min_width": null,
            "object_fit": null,
            "object_position": null,
            "order": null,
            "overflow": null,
            "overflow_x": null,
            "overflow_y": null,
            "padding": null,
            "right": null,
            "top": null,
            "visibility": null,
            "width": null
          }
        },
        "d19215668a2a4356a60bb3d7beb0aa16": {
          "model_module": "@jupyter-widgets/controls",
          "model_name": "DescriptionStyleModel",
          "model_module_version": "1.5.0",
          "state": {
            "_model_module": "@jupyter-widgets/controls",
            "_model_module_version": "1.5.0",
            "_model_name": "DescriptionStyleModel",
            "_view_count": null,
            "_view_module": "@jupyter-widgets/base",
            "_view_module_version": "1.2.0",
            "_view_name": "StyleView",
            "description_width": ""
          }
        },
        "55ab6af588904ab3a214f3cf0447d8bc": {
          "model_module": "@jupyter-widgets/base",
          "model_name": "LayoutModel",
          "model_module_version": "1.2.0",
          "state": {
            "_model_module": "@jupyter-widgets/base",
            "_model_module_version": "1.2.0",
            "_model_name": "LayoutModel",
            "_view_count": null,
            "_view_module": "@jupyter-widgets/base",
            "_view_module_version": "1.2.0",
            "_view_name": "LayoutView",
            "align_content": null,
            "align_items": null,
            "align_self": null,
            "border": null,
            "bottom": null,
            "display": null,
            "flex": null,
            "flex_flow": null,
            "grid_area": null,
            "grid_auto_columns": null,
            "grid_auto_flow": null,
            "grid_auto_rows": null,
            "grid_column": null,
            "grid_gap": null,
            "grid_row": null,
            "grid_template_areas": null,
            "grid_template_columns": null,
            "grid_template_rows": null,
            "height": null,
            "justify_content": null,
            "justify_items": null,
            "left": null,
            "margin": null,
            "max_height": null,
            "max_width": null,
            "min_height": null,
            "min_width": null,
            "object_fit": null,
            "object_position": null,
            "order": null,
            "overflow": null,
            "overflow_x": null,
            "overflow_y": null,
            "padding": null,
            "right": null,
            "top": null,
            "visibility": null,
            "width": null
          }
        },
        "b7a644cc515540eab188ad83c17f87dd": {
          "model_module": "@jupyter-widgets/controls",
          "model_name": "ProgressStyleModel",
          "model_module_version": "1.5.0",
          "state": {
            "_model_module": "@jupyter-widgets/controls",
            "_model_module_version": "1.5.0",
            "_model_name": "ProgressStyleModel",
            "_view_count": null,
            "_view_module": "@jupyter-widgets/base",
            "_view_module_version": "1.2.0",
            "_view_name": "StyleView",
            "bar_color": null,
            "description_width": ""
          }
        },
        "7bf77fbf3fc54d578aed69aa93ae4894": {
          "model_module": "@jupyter-widgets/base",
          "model_name": "LayoutModel",
          "model_module_version": "1.2.0",
          "state": {
            "_model_module": "@jupyter-widgets/base",
            "_model_module_version": "1.2.0",
            "_model_name": "LayoutModel",
            "_view_count": null,
            "_view_module": "@jupyter-widgets/base",
            "_view_module_version": "1.2.0",
            "_view_name": "LayoutView",
            "align_content": null,
            "align_items": null,
            "align_self": null,
            "border": null,
            "bottom": null,
            "display": null,
            "flex": null,
            "flex_flow": null,
            "grid_area": null,
            "grid_auto_columns": null,
            "grid_auto_flow": null,
            "grid_auto_rows": null,
            "grid_column": null,
            "grid_gap": null,
            "grid_row": null,
            "grid_template_areas": null,
            "grid_template_columns": null,
            "grid_template_rows": null,
            "height": null,
            "justify_content": null,
            "justify_items": null,
            "left": null,
            "margin": null,
            "max_height": null,
            "max_width": null,
            "min_height": null,
            "min_width": null,
            "object_fit": null,
            "object_position": null,
            "order": null,
            "overflow": null,
            "overflow_x": null,
            "overflow_y": null,
            "padding": null,
            "right": null,
            "top": null,
            "visibility": null,
            "width": null
          }
        },
        "546b226ad2ae4f819b488aa0333f06da": {
          "model_module": "@jupyter-widgets/controls",
          "model_name": "DescriptionStyleModel",
          "model_module_version": "1.5.0",
          "state": {
            "_model_module": "@jupyter-widgets/controls",
            "_model_module_version": "1.5.0",
            "_model_name": "DescriptionStyleModel",
            "_view_count": null,
            "_view_module": "@jupyter-widgets/base",
            "_view_module_version": "1.2.0",
            "_view_name": "StyleView",
            "description_width": ""
          }
        },
        "c47e651bcbc94b39ac425fd18e1d9b15": {
          "model_module": "@jupyter-widgets/controls",
          "model_name": "HBoxModel",
          "model_module_version": "1.5.0",
          "state": {
            "_dom_classes": [],
            "_model_module": "@jupyter-widgets/controls",
            "_model_module_version": "1.5.0",
            "_model_name": "HBoxModel",
            "_view_count": null,
            "_view_module": "@jupyter-widgets/controls",
            "_view_module_version": "1.5.0",
            "_view_name": "HBoxView",
            "box_style": "",
            "children": [
              "IPY_MODEL_4a940421537d421ca56199d6f74eda60",
              "IPY_MODEL_88ed1af1d4d643faac88cfd51d32aa46",
              "IPY_MODEL_f43a15a3359c4a9eb7819f97fec12449"
            ],
            "layout": "IPY_MODEL_9cb3f5d30dd34d6c989dd9972f9bed49"
          }
        },
        "4a940421537d421ca56199d6f74eda60": {
          "model_module": "@jupyter-widgets/controls",
          "model_name": "HTMLModel",
          "model_module_version": "1.5.0",
          "state": {
            "_dom_classes": [],
            "_model_module": "@jupyter-widgets/controls",
            "_model_module_version": "1.5.0",
            "_model_name": "HTMLModel",
            "_view_count": null,
            "_view_module": "@jupyter-widgets/controls",
            "_view_module_version": "1.5.0",
            "_view_name": "HTMLView",
            "description": "",
            "description_tooltip": null,
            "layout": "IPY_MODEL_c37f83bb728c4b2895d029f667eefc5b",
            "placeholder": "​",
            "style": "IPY_MODEL_a502cbd43638405cbd419ee7dd02e6fd",
            "value": "config.json: 100%"
          }
        },
        "88ed1af1d4d643faac88cfd51d32aa46": {
          "model_module": "@jupyter-widgets/controls",
          "model_name": "FloatProgressModel",
          "model_module_version": "1.5.0",
          "state": {
            "_dom_classes": [],
            "_model_module": "@jupyter-widgets/controls",
            "_model_module_version": "1.5.0",
            "_model_name": "FloatProgressModel",
            "_view_count": null,
            "_view_module": "@jupyter-widgets/controls",
            "_view_module_version": "1.5.0",
            "_view_name": "ProgressView",
            "bar_style": "success",
            "description": "",
            "description_tooltip": null,
            "layout": "IPY_MODEL_1f22a089f7704c0ebf125d8b277f85da",
            "max": 665,
            "min": 0,
            "orientation": "horizontal",
            "style": "IPY_MODEL_264e27d10f7a4c63b2975ca4cf7abcfd",
            "value": 665
          }
        },
        "f43a15a3359c4a9eb7819f97fec12449": {
          "model_module": "@jupyter-widgets/controls",
          "model_name": "HTMLModel",
          "model_module_version": "1.5.0",
          "state": {
            "_dom_classes": [],
            "_model_module": "@jupyter-widgets/controls",
            "_model_module_version": "1.5.0",
            "_model_name": "HTMLModel",
            "_view_count": null,
            "_view_module": "@jupyter-widgets/controls",
            "_view_module_version": "1.5.0",
            "_view_name": "HTMLView",
            "description": "",
            "description_tooltip": null,
            "layout": "IPY_MODEL_cf739a51966c446eaedf9ce338a5a768",
            "placeholder": "​",
            "style": "IPY_MODEL_046d58055fc2428ca195a97d9849ad4d",
            "value": " 665/665 [00:00&lt;00:00, 43.4kB/s]"
          }
        },
        "9cb3f5d30dd34d6c989dd9972f9bed49": {
          "model_module": "@jupyter-widgets/base",
          "model_name": "LayoutModel",
          "model_module_version": "1.2.0",
          "state": {
            "_model_module": "@jupyter-widgets/base",
            "_model_module_version": "1.2.0",
            "_model_name": "LayoutModel",
            "_view_count": null,
            "_view_module": "@jupyter-widgets/base",
            "_view_module_version": "1.2.0",
            "_view_name": "LayoutView",
            "align_content": null,
            "align_items": null,
            "align_self": null,
            "border": null,
            "bottom": null,
            "display": null,
            "flex": null,
            "flex_flow": null,
            "grid_area": null,
            "grid_auto_columns": null,
            "grid_auto_flow": null,
            "grid_auto_rows": null,
            "grid_column": null,
            "grid_gap": null,
            "grid_row": null,
            "grid_template_areas": null,
            "grid_template_columns": null,
            "grid_template_rows": null,
            "height": null,
            "justify_content": null,
            "justify_items": null,
            "left": null,
            "margin": null,
            "max_height": null,
            "max_width": null,
            "min_height": null,
            "min_width": null,
            "object_fit": null,
            "object_position": null,
            "order": null,
            "overflow": null,
            "overflow_x": null,
            "overflow_y": null,
            "padding": null,
            "right": null,
            "top": null,
            "visibility": null,
            "width": null
          }
        },
        "c37f83bb728c4b2895d029f667eefc5b": {
          "model_module": "@jupyter-widgets/base",
          "model_name": "LayoutModel",
          "model_module_version": "1.2.0",
          "state": {
            "_model_module": "@jupyter-widgets/base",
            "_model_module_version": "1.2.0",
            "_model_name": "LayoutModel",
            "_view_count": null,
            "_view_module": "@jupyter-widgets/base",
            "_view_module_version": "1.2.0",
            "_view_name": "LayoutView",
            "align_content": null,
            "align_items": null,
            "align_self": null,
            "border": null,
            "bottom": null,
            "display": null,
            "flex": null,
            "flex_flow": null,
            "grid_area": null,
            "grid_auto_columns": null,
            "grid_auto_flow": null,
            "grid_auto_rows": null,
            "grid_column": null,
            "grid_gap": null,
            "grid_row": null,
            "grid_template_areas": null,
            "grid_template_columns": null,
            "grid_template_rows": null,
            "height": null,
            "justify_content": null,
            "justify_items": null,
            "left": null,
            "margin": null,
            "max_height": null,
            "max_width": null,
            "min_height": null,
            "min_width": null,
            "object_fit": null,
            "object_position": null,
            "order": null,
            "overflow": null,
            "overflow_x": null,
            "overflow_y": null,
            "padding": null,
            "right": null,
            "top": null,
            "visibility": null,
            "width": null
          }
        },
        "a502cbd43638405cbd419ee7dd02e6fd": {
          "model_module": "@jupyter-widgets/controls",
          "model_name": "DescriptionStyleModel",
          "model_module_version": "1.5.0",
          "state": {
            "_model_module": "@jupyter-widgets/controls",
            "_model_module_version": "1.5.0",
            "_model_name": "DescriptionStyleModel",
            "_view_count": null,
            "_view_module": "@jupyter-widgets/base",
            "_view_module_version": "1.2.0",
            "_view_name": "StyleView",
            "description_width": ""
          }
        },
        "1f22a089f7704c0ebf125d8b277f85da": {
          "model_module": "@jupyter-widgets/base",
          "model_name": "LayoutModel",
          "model_module_version": "1.2.0",
          "state": {
            "_model_module": "@jupyter-widgets/base",
            "_model_module_version": "1.2.0",
            "_model_name": "LayoutModel",
            "_view_count": null,
            "_view_module": "@jupyter-widgets/base",
            "_view_module_version": "1.2.0",
            "_view_name": "LayoutView",
            "align_content": null,
            "align_items": null,
            "align_self": null,
            "border": null,
            "bottom": null,
            "display": null,
            "flex": null,
            "flex_flow": null,
            "grid_area": null,
            "grid_auto_columns": null,
            "grid_auto_flow": null,
            "grid_auto_rows": null,
            "grid_column": null,
            "grid_gap": null,
            "grid_row": null,
            "grid_template_areas": null,
            "grid_template_columns": null,
            "grid_template_rows": null,
            "height": null,
            "justify_content": null,
            "justify_items": null,
            "left": null,
            "margin": null,
            "max_height": null,
            "max_width": null,
            "min_height": null,
            "min_width": null,
            "object_fit": null,
            "object_position": null,
            "order": null,
            "overflow": null,
            "overflow_x": null,
            "overflow_y": null,
            "padding": null,
            "right": null,
            "top": null,
            "visibility": null,
            "width": null
          }
        },
        "264e27d10f7a4c63b2975ca4cf7abcfd": {
          "model_module": "@jupyter-widgets/controls",
          "model_name": "ProgressStyleModel",
          "model_module_version": "1.5.0",
          "state": {
            "_model_module": "@jupyter-widgets/controls",
            "_model_module_version": "1.5.0",
            "_model_name": "ProgressStyleModel",
            "_view_count": null,
            "_view_module": "@jupyter-widgets/base",
            "_view_module_version": "1.2.0",
            "_view_name": "StyleView",
            "bar_color": null,
            "description_width": ""
          }
        },
        "cf739a51966c446eaedf9ce338a5a768": {
          "model_module": "@jupyter-widgets/base",
          "model_name": "LayoutModel",
          "model_module_version": "1.2.0",
          "state": {
            "_model_module": "@jupyter-widgets/base",
            "_model_module_version": "1.2.0",
            "_model_name": "LayoutModel",
            "_view_count": null,
            "_view_module": "@jupyter-widgets/base",
            "_view_module_version": "1.2.0",
            "_view_name": "LayoutView",
            "align_content": null,
            "align_items": null,
            "align_self": null,
            "border": null,
            "bottom": null,
            "display": null,
            "flex": null,
            "flex_flow": null,
            "grid_area": null,
            "grid_auto_columns": null,
            "grid_auto_flow": null,
            "grid_auto_rows": null,
            "grid_column": null,
            "grid_gap": null,
            "grid_row": null,
            "grid_template_areas": null,
            "grid_template_columns": null,
            "grid_template_rows": null,
            "height": null,
            "justify_content": null,
            "justify_items": null,
            "left": null,
            "margin": null,
            "max_height": null,
            "max_width": null,
            "min_height": null,
            "min_width": null,
            "object_fit": null,
            "object_position": null,
            "order": null,
            "overflow": null,
            "overflow_x": null,
            "overflow_y": null,
            "padding": null,
            "right": null,
            "top": null,
            "visibility": null,
            "width": null
          }
        },
        "046d58055fc2428ca195a97d9849ad4d": {
          "model_module": "@jupyter-widgets/controls",
          "model_name": "DescriptionStyleModel",
          "model_module_version": "1.5.0",
          "state": {
            "_model_module": "@jupyter-widgets/controls",
            "_model_module_version": "1.5.0",
            "_model_name": "DescriptionStyleModel",
            "_view_count": null,
            "_view_module": "@jupyter-widgets/base",
            "_view_module_version": "1.2.0",
            "_view_name": "StyleView",
            "description_width": ""
          }
        },
        "8fb1b5dd681a4b25b840a8c9f26ed388": {
          "model_module": "@jupyter-widgets/controls",
          "model_name": "HBoxModel",
          "model_module_version": "1.5.0",
          "state": {
            "_dom_classes": [],
            "_model_module": "@jupyter-widgets/controls",
            "_model_module_version": "1.5.0",
            "_model_name": "HBoxModel",
            "_view_count": null,
            "_view_module": "@jupyter-widgets/controls",
            "_view_module_version": "1.5.0",
            "_view_name": "HBoxView",
            "box_style": "",
            "children": [
              "IPY_MODEL_41a6cab7c69d4eed962f258f0c8cc7f1",
              "IPY_MODEL_a196c490c1834c39a7e9ecead56bc25f",
              "IPY_MODEL_2b46478ddd4140479098e53358701c36"
            ],
            "layout": "IPY_MODEL_f296baf701524245bc0a74a00923b552"
          }
        },
        "41a6cab7c69d4eed962f258f0c8cc7f1": {
          "model_module": "@jupyter-widgets/controls",
          "model_name": "HTMLModel",
          "model_module_version": "1.5.0",
          "state": {
            "_dom_classes": [],
            "_model_module": "@jupyter-widgets/controls",
            "_model_module_version": "1.5.0",
            "_model_name": "HTMLModel",
            "_view_count": null,
            "_view_module": "@jupyter-widgets/controls",
            "_view_module_version": "1.5.0",
            "_view_name": "HTMLView",
            "description": "",
            "description_tooltip": null,
            "layout": "IPY_MODEL_0d07378b7dd54ff48065ba8b12742c40",
            "placeholder": "​",
            "style": "IPY_MODEL_8fa85f52102d44d4a6d1bffb2edbe660",
            "value": "model.safetensors: 100%"
          }
        },
        "a196c490c1834c39a7e9ecead56bc25f": {
          "model_module": "@jupyter-widgets/controls",
          "model_name": "FloatProgressModel",
          "model_module_version": "1.5.0",
          "state": {
            "_dom_classes": [],
            "_model_module": "@jupyter-widgets/controls",
            "_model_module_version": "1.5.0",
            "_model_name": "FloatProgressModel",
            "_view_count": null,
            "_view_module": "@jupyter-widgets/controls",
            "_view_module_version": "1.5.0",
            "_view_name": "ProgressView",
            "bar_style": "success",
            "description": "",
            "description_tooltip": null,
            "layout": "IPY_MODEL_961810da1aea43f2aa10944af540ec8d",
            "max": 548105171,
            "min": 0,
            "orientation": "horizontal",
            "style": "IPY_MODEL_b6f79e47be3d4077a7b5b0b659544a3f",
            "value": 548105171
          }
        },
        "2b46478ddd4140479098e53358701c36": {
          "model_module": "@jupyter-widgets/controls",
          "model_name": "HTMLModel",
          "model_module_version": "1.5.0",
          "state": {
            "_dom_classes": [],
            "_model_module": "@jupyter-widgets/controls",
            "_model_module_version": "1.5.0",
            "_model_name": "HTMLModel",
            "_view_count": null,
            "_view_module": "@jupyter-widgets/controls",
            "_view_module_version": "1.5.0",
            "_view_name": "HTMLView",
            "description": "",
            "description_tooltip": null,
            "layout": "IPY_MODEL_062f6feaa2d944fda17cfc12ccd9616f",
            "placeholder": "​",
            "style": "IPY_MODEL_09112d363ed74948be71928690918111",
            "value": " 548M/548M [00:06&lt;00:00, 138MB/s]"
          }
        },
        "f296baf701524245bc0a74a00923b552": {
          "model_module": "@jupyter-widgets/base",
          "model_name": "LayoutModel",
          "model_module_version": "1.2.0",
          "state": {
            "_model_module": "@jupyter-widgets/base",
            "_model_module_version": "1.2.0",
            "_model_name": "LayoutModel",
            "_view_count": null,
            "_view_module": "@jupyter-widgets/base",
            "_view_module_version": "1.2.0",
            "_view_name": "LayoutView",
            "align_content": null,
            "align_items": null,
            "align_self": null,
            "border": null,
            "bottom": null,
            "display": null,
            "flex": null,
            "flex_flow": null,
            "grid_area": null,
            "grid_auto_columns": null,
            "grid_auto_flow": null,
            "grid_auto_rows": null,
            "grid_column": null,
            "grid_gap": null,
            "grid_row": null,
            "grid_template_areas": null,
            "grid_template_columns": null,
            "grid_template_rows": null,
            "height": null,
            "justify_content": null,
            "justify_items": null,
            "left": null,
            "margin": null,
            "max_height": null,
            "max_width": null,
            "min_height": null,
            "min_width": null,
            "object_fit": null,
            "object_position": null,
            "order": null,
            "overflow": null,
            "overflow_x": null,
            "overflow_y": null,
            "padding": null,
            "right": null,
            "top": null,
            "visibility": null,
            "width": null
          }
        },
        "0d07378b7dd54ff48065ba8b12742c40": {
          "model_module": "@jupyter-widgets/base",
          "model_name": "LayoutModel",
          "model_module_version": "1.2.0",
          "state": {
            "_model_module": "@jupyter-widgets/base",
            "_model_module_version": "1.2.0",
            "_model_name": "LayoutModel",
            "_view_count": null,
            "_view_module": "@jupyter-widgets/base",
            "_view_module_version": "1.2.0",
            "_view_name": "LayoutView",
            "align_content": null,
            "align_items": null,
            "align_self": null,
            "border": null,
            "bottom": null,
            "display": null,
            "flex": null,
            "flex_flow": null,
            "grid_area": null,
            "grid_auto_columns": null,
            "grid_auto_flow": null,
            "grid_auto_rows": null,
            "grid_column": null,
            "grid_gap": null,
            "grid_row": null,
            "grid_template_areas": null,
            "grid_template_columns": null,
            "grid_template_rows": null,
            "height": null,
            "justify_content": null,
            "justify_items": null,
            "left": null,
            "margin": null,
            "max_height": null,
            "max_width": null,
            "min_height": null,
            "min_width": null,
            "object_fit": null,
            "object_position": null,
            "order": null,
            "overflow": null,
            "overflow_x": null,
            "overflow_y": null,
            "padding": null,
            "right": null,
            "top": null,
            "visibility": null,
            "width": null
          }
        },
        "8fa85f52102d44d4a6d1bffb2edbe660": {
          "model_module": "@jupyter-widgets/controls",
          "model_name": "DescriptionStyleModel",
          "model_module_version": "1.5.0",
          "state": {
            "_model_module": "@jupyter-widgets/controls",
            "_model_module_version": "1.5.0",
            "_model_name": "DescriptionStyleModel",
            "_view_count": null,
            "_view_module": "@jupyter-widgets/base",
            "_view_module_version": "1.2.0",
            "_view_name": "StyleView",
            "description_width": ""
          }
        },
        "961810da1aea43f2aa10944af540ec8d": {
          "model_module": "@jupyter-widgets/base",
          "model_name": "LayoutModel",
          "model_module_version": "1.2.0",
          "state": {
            "_model_module": "@jupyter-widgets/base",
            "_model_module_version": "1.2.0",
            "_model_name": "LayoutModel",
            "_view_count": null,
            "_view_module": "@jupyter-widgets/base",
            "_view_module_version": "1.2.0",
            "_view_name": "LayoutView",
            "align_content": null,
            "align_items": null,
            "align_self": null,
            "border": null,
            "bottom": null,
            "display": null,
            "flex": null,
            "flex_flow": null,
            "grid_area": null,
            "grid_auto_columns": null,
            "grid_auto_flow": null,
            "grid_auto_rows": null,
            "grid_column": null,
            "grid_gap": null,
            "grid_row": null,
            "grid_template_areas": null,
            "grid_template_columns": null,
            "grid_template_rows": null,
            "height": null,
            "justify_content": null,
            "justify_items": null,
            "left": null,
            "margin": null,
            "max_height": null,
            "max_width": null,
            "min_height": null,
            "min_width": null,
            "object_fit": null,
            "object_position": null,
            "order": null,
            "overflow": null,
            "overflow_x": null,
            "overflow_y": null,
            "padding": null,
            "right": null,
            "top": null,
            "visibility": null,
            "width": null
          }
        },
        "b6f79e47be3d4077a7b5b0b659544a3f": {
          "model_module": "@jupyter-widgets/controls",
          "model_name": "ProgressStyleModel",
          "model_module_version": "1.5.0",
          "state": {
            "_model_module": "@jupyter-widgets/controls",
            "_model_module_version": "1.5.0",
            "_model_name": "ProgressStyleModel",
            "_view_count": null,
            "_view_module": "@jupyter-widgets/base",
            "_view_module_version": "1.2.0",
            "_view_name": "StyleView",
            "bar_color": null,
            "description_width": ""
          }
        },
        "062f6feaa2d944fda17cfc12ccd9616f": {
          "model_module": "@jupyter-widgets/base",
          "model_name": "LayoutModel",
          "model_module_version": "1.2.0",
          "state": {
            "_model_module": "@jupyter-widgets/base",
            "_model_module_version": "1.2.0",
            "_model_name": "LayoutModel",
            "_view_count": null,
            "_view_module": "@jupyter-widgets/base",
            "_view_module_version": "1.2.0",
            "_view_name": "LayoutView",
            "align_content": null,
            "align_items": null,
            "align_self": null,
            "border": null,
            "bottom": null,
            "display": null,
            "flex": null,
            "flex_flow": null,
            "grid_area": null,
            "grid_auto_columns": null,
            "grid_auto_flow": null,
            "grid_auto_rows": null,
            "grid_column": null,
            "grid_gap": null,
            "grid_row": null,
            "grid_template_areas": null,
            "grid_template_columns": null,
            "grid_template_rows": null,
            "height": null,
            "justify_content": null,
            "justify_items": null,
            "left": null,
            "margin": null,
            "max_height": null,
            "max_width": null,
            "min_height": null,
            "min_width": null,
            "object_fit": null,
            "object_position": null,
            "order": null,
            "overflow": null,
            "overflow_x": null,
            "overflow_y": null,
            "padding": null,
            "right": null,
            "top": null,
            "visibility": null,
            "width": null
          }
        },
        "09112d363ed74948be71928690918111": {
          "model_module": "@jupyter-widgets/controls",
          "model_name": "DescriptionStyleModel",
          "model_module_version": "1.5.0",
          "state": {
            "_model_module": "@jupyter-widgets/controls",
            "_model_module_version": "1.5.0",
            "_model_name": "DescriptionStyleModel",
            "_view_count": null,
            "_view_module": "@jupyter-widgets/base",
            "_view_module_version": "1.2.0",
            "_view_name": "StyleView",
            "description_width": ""
          }
        },
        "9ade42d4c6f94f62824d55cb2a314faf": {
          "model_module": "@jupyter-widgets/controls",
          "model_name": "HBoxModel",
          "model_module_version": "1.5.0",
          "state": {
            "_dom_classes": [],
            "_model_module": "@jupyter-widgets/controls",
            "_model_module_version": "1.5.0",
            "_model_name": "HBoxModel",
            "_view_count": null,
            "_view_module": "@jupyter-widgets/controls",
            "_view_module_version": "1.5.0",
            "_view_name": "HBoxView",
            "box_style": "",
            "children": [
              "IPY_MODEL_65a98fa1611d4d28a57411d2e8ee0aa6",
              "IPY_MODEL_5cb5291cabb84c6790cd491c51abc6e6",
              "IPY_MODEL_2962216eb87344f2ac79acfb87b41ec0"
            ],
            "layout": "IPY_MODEL_c8237df498694a4a84a6bc00de234273"
          }
        },
        "65a98fa1611d4d28a57411d2e8ee0aa6": {
          "model_module": "@jupyter-widgets/controls",
          "model_name": "HTMLModel",
          "model_module_version": "1.5.0",
          "state": {
            "_dom_classes": [],
            "_model_module": "@jupyter-widgets/controls",
            "_model_module_version": "1.5.0",
            "_model_name": "HTMLModel",
            "_view_count": null,
            "_view_module": "@jupyter-widgets/controls",
            "_view_module_version": "1.5.0",
            "_view_name": "HTMLView",
            "description": "",
            "description_tooltip": null,
            "layout": "IPY_MODEL_ba161e2075af4c068d65ea63932f8a26",
            "placeholder": "​",
            "style": "IPY_MODEL_fc072a7a547440c6b62cc94cd7a4462a",
            "value": "generation_config.json: 100%"
          }
        },
        "5cb5291cabb84c6790cd491c51abc6e6": {
          "model_module": "@jupyter-widgets/controls",
          "model_name": "FloatProgressModel",
          "model_module_version": "1.5.0",
          "state": {
            "_dom_classes": [],
            "_model_module": "@jupyter-widgets/controls",
            "_model_module_version": "1.5.0",
            "_model_name": "FloatProgressModel",
            "_view_count": null,
            "_view_module": "@jupyter-widgets/controls",
            "_view_module_version": "1.5.0",
            "_view_name": "ProgressView",
            "bar_style": "success",
            "description": "",
            "description_tooltip": null,
            "layout": "IPY_MODEL_da2c7fc97fab49409d45af18ba864e94",
            "max": 124,
            "min": 0,
            "orientation": "horizontal",
            "style": "IPY_MODEL_80aee707300549d38919f46a7a494580",
            "value": 124
          }
        },
        "2962216eb87344f2ac79acfb87b41ec0": {
          "model_module": "@jupyter-widgets/controls",
          "model_name": "HTMLModel",
          "model_module_version": "1.5.0",
          "state": {
            "_dom_classes": [],
            "_model_module": "@jupyter-widgets/controls",
            "_model_module_version": "1.5.0",
            "_model_name": "HTMLModel",
            "_view_count": null,
            "_view_module": "@jupyter-widgets/controls",
            "_view_module_version": "1.5.0",
            "_view_name": "HTMLView",
            "description": "",
            "description_tooltip": null,
            "layout": "IPY_MODEL_7add1d6535e4426585b3cb2bf7fd8e1c",
            "placeholder": "​",
            "style": "IPY_MODEL_b9f6e9f03dd14fefab9f9eb55311f6cd",
            "value": " 124/124 [00:00&lt;00:00, 8.78kB/s]"
          }
        },
        "c8237df498694a4a84a6bc00de234273": {
          "model_module": "@jupyter-widgets/base",
          "model_name": "LayoutModel",
          "model_module_version": "1.2.0",
          "state": {
            "_model_module": "@jupyter-widgets/base",
            "_model_module_version": "1.2.0",
            "_model_name": "LayoutModel",
            "_view_count": null,
            "_view_module": "@jupyter-widgets/base",
            "_view_module_version": "1.2.0",
            "_view_name": "LayoutView",
            "align_content": null,
            "align_items": null,
            "align_self": null,
            "border": null,
            "bottom": null,
            "display": null,
            "flex": null,
            "flex_flow": null,
            "grid_area": null,
            "grid_auto_columns": null,
            "grid_auto_flow": null,
            "grid_auto_rows": null,
            "grid_column": null,
            "grid_gap": null,
            "grid_row": null,
            "grid_template_areas": null,
            "grid_template_columns": null,
            "grid_template_rows": null,
            "height": null,
            "justify_content": null,
            "justify_items": null,
            "left": null,
            "margin": null,
            "max_height": null,
            "max_width": null,
            "min_height": null,
            "min_width": null,
            "object_fit": null,
            "object_position": null,
            "order": null,
            "overflow": null,
            "overflow_x": null,
            "overflow_y": null,
            "padding": null,
            "right": null,
            "top": null,
            "visibility": null,
            "width": null
          }
        },
        "ba161e2075af4c068d65ea63932f8a26": {
          "model_module": "@jupyter-widgets/base",
          "model_name": "LayoutModel",
          "model_module_version": "1.2.0",
          "state": {
            "_model_module": "@jupyter-widgets/base",
            "_model_module_version": "1.2.0",
            "_model_name": "LayoutModel",
            "_view_count": null,
            "_view_module": "@jupyter-widgets/base",
            "_view_module_version": "1.2.0",
            "_view_name": "LayoutView",
            "align_content": null,
            "align_items": null,
            "align_self": null,
            "border": null,
            "bottom": null,
            "display": null,
            "flex": null,
            "flex_flow": null,
            "grid_area": null,
            "grid_auto_columns": null,
            "grid_auto_flow": null,
            "grid_auto_rows": null,
            "grid_column": null,
            "grid_gap": null,
            "grid_row": null,
            "grid_template_areas": null,
            "grid_template_columns": null,
            "grid_template_rows": null,
            "height": null,
            "justify_content": null,
            "justify_items": null,
            "left": null,
            "margin": null,
            "max_height": null,
            "max_width": null,
            "min_height": null,
            "min_width": null,
            "object_fit": null,
            "object_position": null,
            "order": null,
            "overflow": null,
            "overflow_x": null,
            "overflow_y": null,
            "padding": null,
            "right": null,
            "top": null,
            "visibility": null,
            "width": null
          }
        },
        "fc072a7a547440c6b62cc94cd7a4462a": {
          "model_module": "@jupyter-widgets/controls",
          "model_name": "DescriptionStyleModel",
          "model_module_version": "1.5.0",
          "state": {
            "_model_module": "@jupyter-widgets/controls",
            "_model_module_version": "1.5.0",
            "_model_name": "DescriptionStyleModel",
            "_view_count": null,
            "_view_module": "@jupyter-widgets/base",
            "_view_module_version": "1.2.0",
            "_view_name": "StyleView",
            "description_width": ""
          }
        },
        "da2c7fc97fab49409d45af18ba864e94": {
          "model_module": "@jupyter-widgets/base",
          "model_name": "LayoutModel",
          "model_module_version": "1.2.0",
          "state": {
            "_model_module": "@jupyter-widgets/base",
            "_model_module_version": "1.2.0",
            "_model_name": "LayoutModel",
            "_view_count": null,
            "_view_module": "@jupyter-widgets/base",
            "_view_module_version": "1.2.0",
            "_view_name": "LayoutView",
            "align_content": null,
            "align_items": null,
            "align_self": null,
            "border": null,
            "bottom": null,
            "display": null,
            "flex": null,
            "flex_flow": null,
            "grid_area": null,
            "grid_auto_columns": null,
            "grid_auto_flow": null,
            "grid_auto_rows": null,
            "grid_column": null,
            "grid_gap": null,
            "grid_row": null,
            "grid_template_areas": null,
            "grid_template_columns": null,
            "grid_template_rows": null,
            "height": null,
            "justify_content": null,
            "justify_items": null,
            "left": null,
            "margin": null,
            "max_height": null,
            "max_width": null,
            "min_height": null,
            "min_width": null,
            "object_fit": null,
            "object_position": null,
            "order": null,
            "overflow": null,
            "overflow_x": null,
            "overflow_y": null,
            "padding": null,
            "right": null,
            "top": null,
            "visibility": null,
            "width": null
          }
        },
        "80aee707300549d38919f46a7a494580": {
          "model_module": "@jupyter-widgets/controls",
          "model_name": "ProgressStyleModel",
          "model_module_version": "1.5.0",
          "state": {
            "_model_module": "@jupyter-widgets/controls",
            "_model_module_version": "1.5.0",
            "_model_name": "ProgressStyleModel",
            "_view_count": null,
            "_view_module": "@jupyter-widgets/base",
            "_view_module_version": "1.2.0",
            "_view_name": "StyleView",
            "bar_color": null,
            "description_width": ""
          }
        },
        "7add1d6535e4426585b3cb2bf7fd8e1c": {
          "model_module": "@jupyter-widgets/base",
          "model_name": "LayoutModel",
          "model_module_version": "1.2.0",
          "state": {
            "_model_module": "@jupyter-widgets/base",
            "_model_module_version": "1.2.0",
            "_model_name": "LayoutModel",
            "_view_count": null,
            "_view_module": "@jupyter-widgets/base",
            "_view_module_version": "1.2.0",
            "_view_name": "LayoutView",
            "align_content": null,
            "align_items": null,
            "align_self": null,
            "border": null,
            "bottom": null,
            "display": null,
            "flex": null,
            "flex_flow": null,
            "grid_area": null,
            "grid_auto_columns": null,
            "grid_auto_flow": null,
            "grid_auto_rows": null,
            "grid_column": null,
            "grid_gap": null,
            "grid_row": null,
            "grid_template_areas": null,
            "grid_template_columns": null,
            "grid_template_rows": null,
            "height": null,
            "justify_content": null,
            "justify_items": null,
            "left": null,
            "margin": null,
            "max_height": null,
            "max_width": null,
            "min_height": null,
            "min_width": null,
            "object_fit": null,
            "object_position": null,
            "order": null,
            "overflow": null,
            "overflow_x": null,
            "overflow_y": null,
            "padding": null,
            "right": null,
            "top": null,
            "visibility": null,
            "width": null
          }
        },
        "b9f6e9f03dd14fefab9f9eb55311f6cd": {
          "model_module": "@jupyter-widgets/controls",
          "model_name": "DescriptionStyleModel",
          "model_module_version": "1.5.0",
          "state": {
            "_model_module": "@jupyter-widgets/controls",
            "_model_module_version": "1.5.0",
            "_model_name": "DescriptionStyleModel",
            "_view_count": null,
            "_view_module": "@jupyter-widgets/base",
            "_view_module_version": "1.2.0",
            "_view_name": "StyleView",
            "description_width": ""
          }
        }
      }
    }
  },
  "cells": [
    {
      "cell_type": "markdown",
      "metadata": {
        "id": "view-in-github",
        "colab_type": "text"
      },
      "source": [
        "<a href=\"https://colab.research.google.com/github/vchandraiitk/datascience/blob/main/Vikas_M5_NB_MiniProject_1_Medical_Q%26A_GPT2.ipynb\" target=\"_parent\"><img src=\"https://colab.research.google.com/assets/colab-badge.svg\" alt=\"Open In Colab\"/></a>"
      ]
    },
    {
      "cell_type": "markdown",
      "metadata": {
        "id": "hNgLag1Euy3H"
      },
      "source": [
        "# Advanced Certification Program in Computational Data Science\n",
        "## A programme by IISc and TalentSprint\n",
        "### Mini-Project: Medical Q&A using GPT2"
      ]
    },
    {
      "cell_type": "markdown",
      "metadata": {
        "id": "-tdtrlAhvIHY"
      },
      "source": [
        "## Learning Objectives\n",
        "\n",
        "At the end of the experiment, you will be able to:\n",
        "\n",
        "* perform data preprocessing, EDA and feature extraction on the Medical Q&A dataset\n",
        "* load a pre-trained tokenizer\n",
        "* finetune a GPT-2 language model for medical question-answering"
      ]
    },
    {
      "cell_type": "markdown",
      "source": [
        "## Dataset Description\n",
        "\n",
        "The dataset used in this project is the *Medical Question Answering Dataset* ([MedQuAD](https://github.com/abachaa/MedQuAD/tree/master)). It includes medical question-answer pairs along with additional information, such as the question type, the question *focus*, its UMLS(Unified Medical Language System) details like - Concept Unique Identifier(*CUI*) and Semantic *Type* and *Group*.\n",
        "\n",
        "To know more about this data's collection, and construction method, refer to this [paper](https://bmcbioinformatics.biomedcentral.com/articles/10.1186/s12859-019-3119-4).\n",
        "\n",
        "The data is extracted and is in CSV format with below features:\n",
        "\n",
        "- **Focus**: the question focus\n",
        "- **CUI**: concept unique identifier\n",
        "- **SemanticType**\n",
        "- **SemanticGroup**\n",
        "- **Question**\n",
        "- **Answer**"
      ],
      "metadata": {
        "id": "2nmP8OaXuO--"
      }
    },
    {
      "cell_type": "markdown",
      "metadata": {
        "id": "R7ZV5ryMP07f"
      },
      "source": [
        "## Part-A: Grading = 10 Points"
      ]
    },
    {
      "cell_type": "markdown",
      "metadata": {
        "id": "4Pped-3NPaDV"
      },
      "source": [
        "## Information"
      ]
    },
    {
      "cell_type": "markdown",
      "source": [
        "Healthcare professionals often have to refer to medical literature and documents while seeking answers to medical queries. Medical databases or search engines are powerful resources of upto date medical knowledge. However, the existing documentation is large and makes it difficult for professionals to retrieve answers quickly in a clinical setting. The problem with search engines and informative retrieval engines is that these systems return a list of documents rather than answers. Instead, healthcare professionals can use question answering systems to retrieve short sentences or paragraphs in response to medical queries. Such systems have the biggest advantage of generating answers and providing hints in a few seconds."
      ],
      "metadata": {
        "id": "dW4w8T3jEPhi"
      }
    },
    {
      "cell_type": "markdown",
      "source": [
        "### Problem Statement"
      ],
      "metadata": {
        "id": "YN15WtbfwPkB"
      }
    },
    {
      "cell_type": "markdown",
      "source": [
        "Fine-tune gpt2 model on medical-question-answering-dataset for performing response generation for medical queries.\n",
        "\n",
        "Please refer to ***M6 Assignment-1 Fine-tune GPT2*** to get familiar with how to load pre-trained gpt2 tokenizer and model."
      ],
      "metadata": {
        "id": "R8_CoX7swR14"
      }
    },
    {
      "cell_type": "markdown",
      "metadata": {
        "id": "9RH8Ecq9sbYU"
      },
      "source": [
        "### Import required packages"
      ]
    },
    {
      "cell_type": "code",
      "source": [
        "!pip -q install -U accelerate\n",
        "!pip -q install -U transformers\n",
        "!pip -q install torch"
      ],
      "metadata": {
        "id": "74vfKQ0RtRkR"
      },
      "execution_count": 107,
      "outputs": []
    },
    {
      "cell_type": "code",
      "source": [
        "import os\n",
        "import re\n",
        "import numpy as np\n",
        "import pandas as pd\n",
        "import matplotlib.pyplot as plt\n",
        "from sklearn.model_selection import train_test_split\n",
        "import torch\n",
        "from transformers import GPT2Tokenizer, GPT2LMHeadModel, TextDataset, DataCollatorForLanguageModeling\n",
        "from transformers import Trainer, TrainingArguments\n",
        "\n",
        "import warnings\n",
        "warnings.filterwarnings('ignore')"
      ],
      "metadata": {
        "id": "JfqnHAnMYfWF"
      },
      "execution_count": 108,
      "outputs": []
    },
    {
      "cell_type": "code",
      "source": [
        "#@title Download the dataset\n",
        "!wget -q https://cdn.iisc.talentsprint.com/AIandMLOps/MiniProjects/Datasets/MedQuAD.csv\n",
        "!ls | grep \".csv\""
      ],
      "metadata": {
        "cellView": "form",
        "id": "G0_3Qr2nI7B6",
        "colab": {
          "base_uri": "https://localhost:8080/"
        },
        "outputId": "f5ec5e80-7d1d-4775-9a2b-0f0bab110645"
      },
      "execution_count": 109,
      "outputs": [
        {
          "output_type": "stream",
          "name": "stdout",
          "text": [
            "MedQuAD.csv\n"
          ]
        }
      ]
    },
    {
      "cell_type": "markdown",
      "metadata": {
        "id": "T3FkLI6wcaat"
      },
      "source": [
        "**Exercise 1: Read the MedQuAD.csv dataset**\n",
        "\n",
        "**Hint:** pd.read_csv()"
      ]
    },
    {
      "cell_type": "code",
      "source": [
        "df = pd.read_csv(\"MedQuAD.csv\")\n",
        "df.shape"
      ],
      "metadata": {
        "id": "m8Uwi8cYJ0Ia",
        "colab": {
          "base_uri": "https://localhost:8080/"
        },
        "outputId": "e97280da-bd74-4074-f484-e58357b5beaa"
      },
      "execution_count": 110,
      "outputs": [
        {
          "output_type": "execute_result",
          "data": {
            "text/plain": [
              "(16412, 6)"
            ]
          },
          "metadata": {},
          "execution_count": 110
        }
      ]
    },
    {
      "cell_type": "code",
      "source": [
        "df.head()"
      ],
      "metadata": {
        "id": "P-J6gSL_J9kQ",
        "colab": {
          "base_uri": "https://localhost:8080/",
          "height": 293
        },
        "outputId": "984521fd-9afc-418f-f449-72b5919b483c"
      },
      "execution_count": 111,
      "outputs": [
        {
          "output_type": "execute_result",
          "data": {
            "text/plain": [
              "                                Focus       CUI SemanticType SemanticGroup  \\\n",
              "0  Adult Acute Lymphoblastic Leukemia  C0751606         T191     Disorders   \n",
              "1  Adult Acute Lymphoblastic Leukemia  C0751606         T191     Disorders   \n",
              "2  Adult Acute Lymphoblastic Leukemia  C0751606         T191     Disorders   \n",
              "3  Adult Acute Lymphoblastic Leukemia  C0751606         T191     Disorders   \n",
              "4  Adult Acute Lymphoblastic Leukemia  C0751606         T191     Disorders   \n",
              "\n",
              "                                            Question  \\\n",
              "0  What is (are) Adult Acute Lymphoblastic Leukem...   \n",
              "1  What are the symptoms of Adult Acute Lymphobla...   \n",
              "2  How to diagnose Adult Acute Lymphoblastic Leuk...   \n",
              "3  What is the outlook for Adult Acute Lymphoblas...   \n",
              "4  Who is at risk for Adult Acute Lymphoblastic L...   \n",
              "\n",
              "                                              Answer  \n",
              "0  Key Points - Adult acute lymphoblastic leukemi...  \n",
              "1  Signs and symptoms of adult ALL include fever,...  \n",
              "2  Tests that examine the blood and bone marrow a...  \n",
              "3  Certain factors affect prognosis (chance of re...  \n",
              "4  Previous chemotherapy and exposure to radiatio...  "
            ],
            "text/html": [
              "\n",
              "  <div id=\"df-0c6ffbcc-7900-4146-b332-c42171cf9828\" class=\"colab-df-container\">\n",
              "    <div>\n",
              "<style scoped>\n",
              "    .dataframe tbody tr th:only-of-type {\n",
              "        vertical-align: middle;\n",
              "    }\n",
              "\n",
              "    .dataframe tbody tr th {\n",
              "        vertical-align: top;\n",
              "    }\n",
              "\n",
              "    .dataframe thead th {\n",
              "        text-align: right;\n",
              "    }\n",
              "</style>\n",
              "<table border=\"1\" class=\"dataframe\">\n",
              "  <thead>\n",
              "    <tr style=\"text-align: right;\">\n",
              "      <th></th>\n",
              "      <th>Focus</th>\n",
              "      <th>CUI</th>\n",
              "      <th>SemanticType</th>\n",
              "      <th>SemanticGroup</th>\n",
              "      <th>Question</th>\n",
              "      <th>Answer</th>\n",
              "    </tr>\n",
              "  </thead>\n",
              "  <tbody>\n",
              "    <tr>\n",
              "      <th>0</th>\n",
              "      <td>Adult Acute Lymphoblastic Leukemia</td>\n",
              "      <td>C0751606</td>\n",
              "      <td>T191</td>\n",
              "      <td>Disorders</td>\n",
              "      <td>What is (are) Adult Acute Lymphoblastic Leukem...</td>\n",
              "      <td>Key Points - Adult acute lymphoblastic leukemi...</td>\n",
              "    </tr>\n",
              "    <tr>\n",
              "      <th>1</th>\n",
              "      <td>Adult Acute Lymphoblastic Leukemia</td>\n",
              "      <td>C0751606</td>\n",
              "      <td>T191</td>\n",
              "      <td>Disorders</td>\n",
              "      <td>What are the symptoms of Adult Acute Lymphobla...</td>\n",
              "      <td>Signs and symptoms of adult ALL include fever,...</td>\n",
              "    </tr>\n",
              "    <tr>\n",
              "      <th>2</th>\n",
              "      <td>Adult Acute Lymphoblastic Leukemia</td>\n",
              "      <td>C0751606</td>\n",
              "      <td>T191</td>\n",
              "      <td>Disorders</td>\n",
              "      <td>How to diagnose Adult Acute Lymphoblastic Leuk...</td>\n",
              "      <td>Tests that examine the blood and bone marrow a...</td>\n",
              "    </tr>\n",
              "    <tr>\n",
              "      <th>3</th>\n",
              "      <td>Adult Acute Lymphoblastic Leukemia</td>\n",
              "      <td>C0751606</td>\n",
              "      <td>T191</td>\n",
              "      <td>Disorders</td>\n",
              "      <td>What is the outlook for Adult Acute Lymphoblas...</td>\n",
              "      <td>Certain factors affect prognosis (chance of re...</td>\n",
              "    </tr>\n",
              "    <tr>\n",
              "      <th>4</th>\n",
              "      <td>Adult Acute Lymphoblastic Leukemia</td>\n",
              "      <td>C0751606</td>\n",
              "      <td>T191</td>\n",
              "      <td>Disorders</td>\n",
              "      <td>Who is at risk for Adult Acute Lymphoblastic L...</td>\n",
              "      <td>Previous chemotherapy and exposure to radiatio...</td>\n",
              "    </tr>\n",
              "  </tbody>\n",
              "</table>\n",
              "</div>\n",
              "    <div class=\"colab-df-buttons\">\n",
              "\n",
              "  <div class=\"colab-df-container\">\n",
              "    <button class=\"colab-df-convert\" onclick=\"convertToInteractive('df-0c6ffbcc-7900-4146-b332-c42171cf9828')\"\n",
              "            title=\"Convert this dataframe to an interactive table.\"\n",
              "            style=\"display:none;\">\n",
              "\n",
              "  <svg xmlns=\"http://www.w3.org/2000/svg\" height=\"24px\" viewBox=\"0 -960 960 960\">\n",
              "    <path d=\"M120-120v-720h720v720H120Zm60-500h600v-160H180v160Zm220 220h160v-160H400v160Zm0 220h160v-160H400v160ZM180-400h160v-160H180v160Zm440 0h160v-160H620v160ZM180-180h160v-160H180v160Zm440 0h160v-160H620v160Z\"/>\n",
              "  </svg>\n",
              "    </button>\n",
              "\n",
              "  <style>\n",
              "    .colab-df-container {\n",
              "      display:flex;\n",
              "      gap: 12px;\n",
              "    }\n",
              "\n",
              "    .colab-df-convert {\n",
              "      background-color: #E8F0FE;\n",
              "      border: none;\n",
              "      border-radius: 50%;\n",
              "      cursor: pointer;\n",
              "      display: none;\n",
              "      fill: #1967D2;\n",
              "      height: 32px;\n",
              "      padding: 0 0 0 0;\n",
              "      width: 32px;\n",
              "    }\n",
              "\n",
              "    .colab-df-convert:hover {\n",
              "      background-color: #E2EBFA;\n",
              "      box-shadow: 0px 1px 2px rgba(60, 64, 67, 0.3), 0px 1px 3px 1px rgba(60, 64, 67, 0.15);\n",
              "      fill: #174EA6;\n",
              "    }\n",
              "\n",
              "    .colab-df-buttons div {\n",
              "      margin-bottom: 4px;\n",
              "    }\n",
              "\n",
              "    [theme=dark] .colab-df-convert {\n",
              "      background-color: #3B4455;\n",
              "      fill: #D2E3FC;\n",
              "    }\n",
              "\n",
              "    [theme=dark] .colab-df-convert:hover {\n",
              "      background-color: #434B5C;\n",
              "      box-shadow: 0px 1px 3px 1px rgba(0, 0, 0, 0.15);\n",
              "      filter: drop-shadow(0px 1px 2px rgba(0, 0, 0, 0.3));\n",
              "      fill: #FFFFFF;\n",
              "    }\n",
              "  </style>\n",
              "\n",
              "    <script>\n",
              "      const buttonEl =\n",
              "        document.querySelector('#df-0c6ffbcc-7900-4146-b332-c42171cf9828 button.colab-df-convert');\n",
              "      buttonEl.style.display =\n",
              "        google.colab.kernel.accessAllowed ? 'block' : 'none';\n",
              "\n",
              "      async function convertToInteractive(key) {\n",
              "        const element = document.querySelector('#df-0c6ffbcc-7900-4146-b332-c42171cf9828');\n",
              "        const dataTable =\n",
              "          await google.colab.kernel.invokeFunction('convertToInteractive',\n",
              "                                                    [key], {});\n",
              "        if (!dataTable) return;\n",
              "\n",
              "        const docLinkHtml = 'Like what you see? Visit the ' +\n",
              "          '<a target=\"_blank\" href=https://colab.research.google.com/notebooks/data_table.ipynb>data table notebook</a>'\n",
              "          + ' to learn more about interactive tables.';\n",
              "        element.innerHTML = '';\n",
              "        dataTable['output_type'] = 'display_data';\n",
              "        await google.colab.output.renderOutput(dataTable, element);\n",
              "        const docLink = document.createElement('div');\n",
              "        docLink.innerHTML = docLinkHtml;\n",
              "        element.appendChild(docLink);\n",
              "      }\n",
              "    </script>\n",
              "  </div>\n",
              "\n",
              "\n",
              "<div id=\"df-461e8d9f-a751-4024-bcc4-66e6cb538d64\">\n",
              "  <button class=\"colab-df-quickchart\" onclick=\"quickchart('df-461e8d9f-a751-4024-bcc4-66e6cb538d64')\"\n",
              "            title=\"Suggest charts\"\n",
              "            style=\"display:none;\">\n",
              "\n",
              "<svg xmlns=\"http://www.w3.org/2000/svg\" height=\"24px\"viewBox=\"0 0 24 24\"\n",
              "     width=\"24px\">\n",
              "    <g>\n",
              "        <path d=\"M19 3H5c-1.1 0-2 .9-2 2v14c0 1.1.9 2 2 2h14c1.1 0 2-.9 2-2V5c0-1.1-.9-2-2-2zM9 17H7v-7h2v7zm4 0h-2V7h2v10zm4 0h-2v-4h2v4z\"/>\n",
              "    </g>\n",
              "</svg>\n",
              "  </button>\n",
              "\n",
              "<style>\n",
              "  .colab-df-quickchart {\n",
              "      --bg-color: #E8F0FE;\n",
              "      --fill-color: #1967D2;\n",
              "      --hover-bg-color: #E2EBFA;\n",
              "      --hover-fill-color: #174EA6;\n",
              "      --disabled-fill-color: #AAA;\n",
              "      --disabled-bg-color: #DDD;\n",
              "  }\n",
              "\n",
              "  [theme=dark] .colab-df-quickchart {\n",
              "      --bg-color: #3B4455;\n",
              "      --fill-color: #D2E3FC;\n",
              "      --hover-bg-color: #434B5C;\n",
              "      --hover-fill-color: #FFFFFF;\n",
              "      --disabled-bg-color: #3B4455;\n",
              "      --disabled-fill-color: #666;\n",
              "  }\n",
              "\n",
              "  .colab-df-quickchart {\n",
              "    background-color: var(--bg-color);\n",
              "    border: none;\n",
              "    border-radius: 50%;\n",
              "    cursor: pointer;\n",
              "    display: none;\n",
              "    fill: var(--fill-color);\n",
              "    height: 32px;\n",
              "    padding: 0;\n",
              "    width: 32px;\n",
              "  }\n",
              "\n",
              "  .colab-df-quickchart:hover {\n",
              "    background-color: var(--hover-bg-color);\n",
              "    box-shadow: 0 1px 2px rgba(60, 64, 67, 0.3), 0 1px 3px 1px rgba(60, 64, 67, 0.15);\n",
              "    fill: var(--button-hover-fill-color);\n",
              "  }\n",
              "\n",
              "  .colab-df-quickchart-complete:disabled,\n",
              "  .colab-df-quickchart-complete:disabled:hover {\n",
              "    background-color: var(--disabled-bg-color);\n",
              "    fill: var(--disabled-fill-color);\n",
              "    box-shadow: none;\n",
              "  }\n",
              "\n",
              "  .colab-df-spinner {\n",
              "    border: 2px solid var(--fill-color);\n",
              "    border-color: transparent;\n",
              "    border-bottom-color: var(--fill-color);\n",
              "    animation:\n",
              "      spin 1s steps(1) infinite;\n",
              "  }\n",
              "\n",
              "  @keyframes spin {\n",
              "    0% {\n",
              "      border-color: transparent;\n",
              "      border-bottom-color: var(--fill-color);\n",
              "      border-left-color: var(--fill-color);\n",
              "    }\n",
              "    20% {\n",
              "      border-color: transparent;\n",
              "      border-left-color: var(--fill-color);\n",
              "      border-top-color: var(--fill-color);\n",
              "    }\n",
              "    30% {\n",
              "      border-color: transparent;\n",
              "      border-left-color: var(--fill-color);\n",
              "      border-top-color: var(--fill-color);\n",
              "      border-right-color: var(--fill-color);\n",
              "    }\n",
              "    40% {\n",
              "      border-color: transparent;\n",
              "      border-right-color: var(--fill-color);\n",
              "      border-top-color: var(--fill-color);\n",
              "    }\n",
              "    60% {\n",
              "      border-color: transparent;\n",
              "      border-right-color: var(--fill-color);\n",
              "    }\n",
              "    80% {\n",
              "      border-color: transparent;\n",
              "      border-right-color: var(--fill-color);\n",
              "      border-bottom-color: var(--fill-color);\n",
              "    }\n",
              "    90% {\n",
              "      border-color: transparent;\n",
              "      border-bottom-color: var(--fill-color);\n",
              "    }\n",
              "  }\n",
              "</style>\n",
              "\n",
              "  <script>\n",
              "    async function quickchart(key) {\n",
              "      const quickchartButtonEl =\n",
              "        document.querySelector('#' + key + ' button');\n",
              "      quickchartButtonEl.disabled = true;  // To prevent multiple clicks.\n",
              "      quickchartButtonEl.classList.add('colab-df-spinner');\n",
              "      try {\n",
              "        const charts = await google.colab.kernel.invokeFunction(\n",
              "            'suggestCharts', [key], {});\n",
              "      } catch (error) {\n",
              "        console.error('Error during call to suggestCharts:', error);\n",
              "      }\n",
              "      quickchartButtonEl.classList.remove('colab-df-spinner');\n",
              "      quickchartButtonEl.classList.add('colab-df-quickchart-complete');\n",
              "    }\n",
              "    (() => {\n",
              "      let quickchartButtonEl =\n",
              "        document.querySelector('#df-461e8d9f-a751-4024-bcc4-66e6cb538d64 button');\n",
              "      quickchartButtonEl.style.display =\n",
              "        google.colab.kernel.accessAllowed ? 'block' : 'none';\n",
              "    })();\n",
              "  </script>\n",
              "</div>\n",
              "\n",
              "    </div>\n",
              "  </div>\n"
            ],
            "application/vnd.google.colaboratory.intrinsic+json": {
              "type": "dataframe",
              "variable_name": "df",
              "summary": "{\n  \"name\": \"df\",\n  \"rows\": 16412,\n  \"fields\": [\n    {\n      \"column\": \"Focus\",\n      \"properties\": {\n        \"dtype\": \"category\",\n        \"num_unique_values\": 5126,\n        \"samples\": [\n          \"Sexual Problems in Women\",\n          \"Essential tremor\",\n          \"Low Vision\"\n        ],\n        \"semantic_type\": \"\",\n        \"description\": \"\"\n      }\n    },\n    {\n      \"column\": \"CUI\",\n      \"properties\": {\n        \"dtype\": \"category\",\n        \"num_unique_values\": 3329,\n        \"samples\": [\n          \"C1843173\",\n          \"C3536714\",\n          \"C0427480\"\n        ],\n        \"semantic_type\": \"\",\n        \"description\": \"\"\n      }\n    },\n    {\n      \"column\": \"SemanticType\",\n      \"properties\": {\n        \"dtype\": \"category\",\n        \"num_unique_values\": 14,\n        \"samples\": [\n          \"T037\",\n          \"T028\",\n          \"T191\"\n        ],\n        \"semantic_type\": \"\",\n        \"description\": \"\"\n      }\n    },\n    {\n      \"column\": \"SemanticGroup\",\n      \"properties\": {\n        \"dtype\": \"category\",\n        \"num_unique_values\": 1,\n        \"samples\": [\n          \"Disorders\"\n        ],\n        \"semantic_type\": \"\",\n        \"description\": \"\"\n      }\n    },\n    {\n      \"column\": \"Question\",\n      \"properties\": {\n        \"dtype\": \"string\",\n        \"num_unique_values\": 14984,\n        \"samples\": [\n          \"Is prostate cancer inherited ?\"\n        ],\n        \"semantic_type\": \"\",\n        \"description\": \"\"\n      }\n    },\n    {\n      \"column\": \"Answer\",\n      \"properties\": {\n        \"dtype\": \"string\",\n        \"num_unique_values\": 15809,\n        \"samples\": [\n          \"Some people may experience relief from symptoms of indigestion by - eating several small, low-fat meals throughout the day at a slow pace - refraining from smoking - abstaining from consuming coffee, carbonated beverages, and alcohol - stopping use of medications that may irritate the stomach liningsuch as aspirin or anti-inflammatory drugs - getting enough rest - finding ways to decrease emotional and physical stress, such as relaxation therapy or yoga The doctor may recommend over-the-counter antacids or medications that reduce acid production or help the stomach move food more quickly into the small intestine. Many of these medications can be purchased without a prescription. Nonprescription medications should only be used at the dose and for the length of time recommended on the label unless advised differently by a doctor. Informing the doctor when starting a new medication is important. Antacids, such as Alka-Seltzer, Maalox, Mylanta, Rolaids, and Riopan, are usually the first drugs recommended to relieve symptoms of indigestion. Many brands on the market use different combinations of three basic saltsmagnesium, calcium, and aluminumwith hydroxide or bicarbonate ions to neutralize the acid in the stomach. Antacids, however, can have side effects. Magnesium salt can lead to diarrhea, and aluminum salt may cause constipation. Aluminum and magnesium salts are often combined in a single product to balance these effects. Calcium carbonate antacids, such as Tums, Titralac, and Alka-2, can also be a supplemental source of calcium, though they may cause constipation. H2 receptor antagonists (H2RAs) include ranitidine (Zantac), cimetidine (Tagamet), famotidine (Pepcid), and nizatidine (Axid) and are available both by prescription and over-the-counter. H2RAs treat symptoms of indigestion by reducing stomach acid. They work longer than but not as quickly as antacids. Side effects of H2RAs may include headache, nausea, vomiting, constipation, diarrhea, and unusual bleeding or bruising. Proton pump inhibitors (PPIs) include omeprazole (Prilosec, Zegerid), lansoprazole (Prevacid), pantoprazole (Protonix), rabeprazole (Aciphex), and esomeprazole (Nexium) and are available by prescription. Prilosec is also available in over-the-counter strength. PPIs, which are stronger than H2RAs, also treat indigestion symptoms by reducing stomach acid. PPIs are most effective in treating symptoms of indigestion in people who also have GERD. Side effects of PPIs may include back pain, aching, cough, headache, dizziness, abdominal pain, gas, nausea, vomiting, constipation, and diarrhea. Prokinetics such as metoclopramide (Reglan) may be helpful for people who have a problem with the stomach emptying too slowly. Metoclopramide also improves muscle action in the digestive tract. Prokinetics have frequent side effects that limit their usefulness, including fatigue, sleepiness, depression, anxiety, and involuntary muscle spasms or movements. If testing shows the type of bacteria that causes peptic ulcer disease, the doctor may prescribe antibiotics to treat the condition.\"\n        ],\n        \"semantic_type\": \"\",\n        \"description\": \"\"\n      }\n    }\n  ]\n}"
            }
          },
          "metadata": {},
          "execution_count": 111
        }
      ]
    },
    {
      "cell_type": "markdown",
      "metadata": {
        "id": "QvddL7X69NiB"
      },
      "source": [
        "### Pre-processing and EDA"
      ]
    },
    {
      "cell_type": "markdown",
      "source": [
        "**Exercise 2: Perform below operations on the dataset [0.5 Mark]**\n",
        "\n",
        "- Handle missing values\n",
        "- Remove duplicates from data considering `Question` and `Answer` columns"
      ],
      "metadata": {
        "id": "xgB7KCn88Vmj"
      }
    },
    {
      "cell_type": "markdown",
      "source": [
        "- **Handle missing values**"
      ],
      "metadata": {
        "id": "TkabbxoGKFkm"
      }
    },
    {
      "cell_type": "code",
      "source": [
        "# YOUR CODE HERE\n",
        "df.isnull().sum()"
      ],
      "metadata": {
        "id": "H6mM7DM1KH_i",
        "colab": {
          "base_uri": "https://localhost:8080/",
          "height": 272
        },
        "outputId": "25e32b62-fb38-4642-eda6-22de09965ba5"
      },
      "execution_count": 112,
      "outputs": [
        {
          "output_type": "execute_result",
          "data": {
            "text/plain": [
              "Focus             14\n",
              "CUI              565\n",
              "SemanticType     597\n",
              "SemanticGroup    565\n",
              "Question           0\n",
              "Answer             5\n",
              "dtype: int64"
            ],
            "text/html": [
              "<div>\n",
              "<style scoped>\n",
              "    .dataframe tbody tr th:only-of-type {\n",
              "        vertical-align: middle;\n",
              "    }\n",
              "\n",
              "    .dataframe tbody tr th {\n",
              "        vertical-align: top;\n",
              "    }\n",
              "\n",
              "    .dataframe thead th {\n",
              "        text-align: right;\n",
              "    }\n",
              "</style>\n",
              "<table border=\"1\" class=\"dataframe\">\n",
              "  <thead>\n",
              "    <tr style=\"text-align: right;\">\n",
              "      <th></th>\n",
              "      <th>0</th>\n",
              "    </tr>\n",
              "  </thead>\n",
              "  <tbody>\n",
              "    <tr>\n",
              "      <th>Focus</th>\n",
              "      <td>14</td>\n",
              "    </tr>\n",
              "    <tr>\n",
              "      <th>CUI</th>\n",
              "      <td>565</td>\n",
              "    </tr>\n",
              "    <tr>\n",
              "      <th>SemanticType</th>\n",
              "      <td>597</td>\n",
              "    </tr>\n",
              "    <tr>\n",
              "      <th>SemanticGroup</th>\n",
              "      <td>565</td>\n",
              "    </tr>\n",
              "    <tr>\n",
              "      <th>Question</th>\n",
              "      <td>0</td>\n",
              "    </tr>\n",
              "    <tr>\n",
              "      <th>Answer</th>\n",
              "      <td>5</td>\n",
              "    </tr>\n",
              "  </tbody>\n",
              "</table>\n",
              "</div><br><label><b>dtype:</b> int64</label>"
            ]
          },
          "metadata": {},
          "execution_count": 112
        }
      ]
    },
    {
      "cell_type": "code",
      "source": [
        "# Drop missing values\n",
        "# YOUR CODE HERE\n",
        "df.dropna(inplace=True)\n",
        "df.shape"
      ],
      "metadata": {
        "id": "uNyjYvNu_48E",
        "colab": {
          "base_uri": "https://localhost:8080/"
        },
        "outputId": "6f17924c-40c3-490c-c146-67befb9b81de"
      },
      "execution_count": 113,
      "outputs": [
        {
          "output_type": "execute_result",
          "data": {
            "text/plain": [
              "(15810, 6)"
            ]
          },
          "metadata": {},
          "execution_count": 113
        }
      ]
    },
    {
      "cell_type": "code",
      "source": [
        "df.isna().sum()"
      ],
      "metadata": {
        "colab": {
          "base_uri": "https://localhost:8080/",
          "height": 272
        },
        "id": "CAsJd_6dunxq",
        "outputId": "0b4bd0f6-26ea-435c-ea08-a06855b3e49f"
      },
      "execution_count": 114,
      "outputs": [
        {
          "output_type": "execute_result",
          "data": {
            "text/plain": [
              "Focus            0\n",
              "CUI              0\n",
              "SemanticType     0\n",
              "SemanticGroup    0\n",
              "Question         0\n",
              "Answer           0\n",
              "dtype: int64"
            ],
            "text/html": [
              "<div>\n",
              "<style scoped>\n",
              "    .dataframe tbody tr th:only-of-type {\n",
              "        vertical-align: middle;\n",
              "    }\n",
              "\n",
              "    .dataframe tbody tr th {\n",
              "        vertical-align: top;\n",
              "    }\n",
              "\n",
              "    .dataframe thead th {\n",
              "        text-align: right;\n",
              "    }\n",
              "</style>\n",
              "<table border=\"1\" class=\"dataframe\">\n",
              "  <thead>\n",
              "    <tr style=\"text-align: right;\">\n",
              "      <th></th>\n",
              "      <th>0</th>\n",
              "    </tr>\n",
              "  </thead>\n",
              "  <tbody>\n",
              "    <tr>\n",
              "      <th>Focus</th>\n",
              "      <td>0</td>\n",
              "    </tr>\n",
              "    <tr>\n",
              "      <th>CUI</th>\n",
              "      <td>0</td>\n",
              "    </tr>\n",
              "    <tr>\n",
              "      <th>SemanticType</th>\n",
              "      <td>0</td>\n",
              "    </tr>\n",
              "    <tr>\n",
              "      <th>SemanticGroup</th>\n",
              "      <td>0</td>\n",
              "    </tr>\n",
              "    <tr>\n",
              "      <th>Question</th>\n",
              "      <td>0</td>\n",
              "    </tr>\n",
              "    <tr>\n",
              "      <th>Answer</th>\n",
              "      <td>0</td>\n",
              "    </tr>\n",
              "  </tbody>\n",
              "</table>\n",
              "</div><br><label><b>dtype:</b> int64</label>"
            ]
          },
          "metadata": {},
          "execution_count": 114
        }
      ]
    },
    {
      "cell_type": "markdown",
      "source": [
        "- **Remove duplicates from data considering `Question` and `Answer` columns**"
      ],
      "metadata": {
        "id": "0KpssAWUBiok"
      }
    },
    {
      "cell_type": "code",
      "source": [
        "# Check duplicates\n",
        "# YOUR CODE HERE\n",
        "df[df.duplicated(subset=['Question', 'Answer'])].shape"
      ],
      "metadata": {
        "id": "YEv2TMQPs-Ku",
        "colab": {
          "base_uri": "https://localhost:8080/"
        },
        "outputId": "99387f8f-d446-48e5-a4c7-06a0faf522fb"
      },
      "execution_count": 115,
      "outputs": [
        {
          "output_type": "execute_result",
          "data": {
            "text/plain": [
              "(48, 6)"
            ]
          },
          "metadata": {},
          "execution_count": 115
        }
      ]
    },
    {
      "cell_type": "code",
      "source": [],
      "metadata": {
        "id": "dM6S-Yl2vL5f"
      },
      "execution_count": 115,
      "outputs": []
    },
    {
      "cell_type": "code",
      "source": [
        "# Drop duplicates\n",
        "# YOUR CODE HERE\n",
        "df.drop_duplicates(subset=['Question', 'Answer'], inplace=True)"
      ],
      "metadata": {
        "id": "EYg8zF7itkf3"
      },
      "execution_count": 116,
      "outputs": []
    },
    {
      "cell_type": "code",
      "source": [
        "# Check duplicates\n",
        "# YOUR CODE HERE\n",
        "df[df.duplicated(subset=['Question', 'Answer'])].shape"
      ],
      "metadata": {
        "id": "5haFMucZtwiy",
        "colab": {
          "base_uri": "https://localhost:8080/"
        },
        "outputId": "d5c08451-b8b8-43d1-ea33-fe3d6332dd88"
      },
      "execution_count": 117,
      "outputs": [
        {
          "output_type": "execute_result",
          "data": {
            "text/plain": [
              "(0, 6)"
            ]
          },
          "metadata": {},
          "execution_count": 117
        }
      ]
    },
    {
      "cell_type": "markdown",
      "metadata": {
        "id": "EA1d25HrzTGW"
      },
      "source": [
        "**Exercise 3: Display the category name, and the number of records belonging to top 100 categories of `Focus` column [1 Mark]**"
      ]
    },
    {
      "cell_type": "code",
      "source": [
        "# YOUR CODE HERE\n",
        "df['Focus'].head()"
      ],
      "metadata": {
        "id": "kRxuMduGSWYB",
        "colab": {
          "base_uri": "https://localhost:8080/",
          "height": 241
        },
        "outputId": "0ebdef15-af86-4ab4-8667-445054fa039e"
      },
      "execution_count": 118,
      "outputs": [
        {
          "output_type": "execute_result",
          "data": {
            "text/plain": [
              "0    Adult Acute Lymphoblastic Leukemia\n",
              "1    Adult Acute Lymphoblastic Leukemia\n",
              "2    Adult Acute Lymphoblastic Leukemia\n",
              "3    Adult Acute Lymphoblastic Leukemia\n",
              "4    Adult Acute Lymphoblastic Leukemia\n",
              "Name: Focus, dtype: object"
            ],
            "text/html": [
              "<div>\n",
              "<style scoped>\n",
              "    .dataframe tbody tr th:only-of-type {\n",
              "        vertical-align: middle;\n",
              "    }\n",
              "\n",
              "    .dataframe tbody tr th {\n",
              "        vertical-align: top;\n",
              "    }\n",
              "\n",
              "    .dataframe thead th {\n",
              "        text-align: right;\n",
              "    }\n",
              "</style>\n",
              "<table border=\"1\" class=\"dataframe\">\n",
              "  <thead>\n",
              "    <tr style=\"text-align: right;\">\n",
              "      <th></th>\n",
              "      <th>Focus</th>\n",
              "    </tr>\n",
              "  </thead>\n",
              "  <tbody>\n",
              "    <tr>\n",
              "      <th>0</th>\n",
              "      <td>Adult Acute Lymphoblastic Leukemia</td>\n",
              "    </tr>\n",
              "    <tr>\n",
              "      <th>1</th>\n",
              "      <td>Adult Acute Lymphoblastic Leukemia</td>\n",
              "    </tr>\n",
              "    <tr>\n",
              "      <th>2</th>\n",
              "      <td>Adult Acute Lymphoblastic Leukemia</td>\n",
              "    </tr>\n",
              "    <tr>\n",
              "      <th>3</th>\n",
              "      <td>Adult Acute Lymphoblastic Leukemia</td>\n",
              "    </tr>\n",
              "    <tr>\n",
              "      <th>4</th>\n",
              "      <td>Adult Acute Lymphoblastic Leukemia</td>\n",
              "    </tr>\n",
              "  </tbody>\n",
              "</table>\n",
              "</div><br><label><b>dtype:</b> object</label>"
            ]
          },
          "metadata": {},
          "execution_count": 118
        }
      ]
    },
    {
      "cell_type": "code",
      "source": [
        "# Top 100 Focus categories names\n",
        "# YOUR CODE HERE\n",
        "output_list = df['Focus'].value_counts()[:100].index.tolist()\n",
        "output_list"
      ],
      "metadata": {
        "id": "_Xa8jp6AKVkC",
        "colab": {
          "base_uri": "https://localhost:8080/"
        },
        "outputId": "c7a92303-2122-4396-a148-c7e1aa1b110c"
      },
      "execution_count": 119,
      "outputs": [
        {
          "output_type": "execute_result",
          "data": {
            "text/plain": [
              "['Breast Cancer',\n",
              " 'Prostate Cancer',\n",
              " 'Stroke',\n",
              " 'Skin Cancer',\n",
              " \"Alzheimer's Disease\",\n",
              " 'Colorectal Cancer',\n",
              " 'Lung Cancer',\n",
              " 'Heart Failure',\n",
              " 'Heart Attack',\n",
              " 'High Blood Cholesterol',\n",
              " 'High Blood Pressure',\n",
              " \"Parkinson's Disease\",\n",
              " 'Leukemia',\n",
              " 'Osteoporosis',\n",
              " 'Shingles',\n",
              " 'Hemochromatosis',\n",
              " 'Age-related Macular Degeneration',\n",
              " 'Diabetes',\n",
              " 'Gum (Periodontal) Disease',\n",
              " 'Diabetic Retinopathy',\n",
              " 'Psoriasis',\n",
              " 'Kidney Disease',\n",
              " 'Dry Mouth',\n",
              " 'COPD',\n",
              " 'Cataract',\n",
              " 'Balance Problems',\n",
              " 'Gout',\n",
              " 'Wilson Disease',\n",
              " 'Medicare and Continuing Care',\n",
              " 'Prescription and Illicit Drug Abuse',\n",
              " 'Glaucoma',\n",
              " 'Rheumatoid Arthritis',\n",
              " 'Neuroblastoma',\n",
              " 'Short Bowel Syndrome',\n",
              " 'Problems with Taste',\n",
              " 'Narcolepsy',\n",
              " 'Endometrial Cancer',\n",
              " 'Osteoarthritis',\n",
              " 'Kidney Dysplasia',\n",
              " 'Problems with Smell',\n",
              " 'Dry Eye',\n",
              " 'Pituitary Tumors',\n",
              " 'Anxiety Disorders',\n",
              " 'Urinary Tract Infections in Children',\n",
              " 'Peripheral Arterial Disease (P.A.D.)',\n",
              " 'Surviving Cancer',\n",
              " 'Amyloidosis and Kidney Disease',\n",
              " 'Abdominal Adhesions',\n",
              " 'Cyclic Vomiting Syndrome',\n",
              " 'What I need to know about Kidney Failure and How Its Treated',\n",
              " \"Adrenal Insufficiency and Addison's Disease\",\n",
              " 'National Hormone and Pituitary Program (NHPP): Information for People Treated with Pituitary Human Growth Hormone (Comprehensive Report)',\n",
              " 'Polycystic Kidney Disease',\n",
              " 'Knee Replacement',\n",
              " 'Creating a Family Health History',\n",
              " 'Prostate Enlargement: Benign Prostatic Hyperplasia',\n",
              " 'Depression',\n",
              " 'Diabetic Neuropathies: The Nerve Damage of Diabetes',\n",
              " 'IgA Nephropathy',\n",
              " 'GM1 gangliosidosis',\n",
              " 'Greig cephalopolysyndactyly syndrome',\n",
              " 'Opitz G/BBB syndrome',\n",
              " 'Ehlers-Danlos syndrome',\n",
              " 'Vesicoureteral Reflux',\n",
              " 'Danon disease',\n",
              " 'Alagille Syndrome',\n",
              " 'Cornelia de Lange syndrome',\n",
              " 'Cowden syndrome',\n",
              " 'Huntington disease',\n",
              " 'Medullary Sponge Kidney',\n",
              " 'Nutrition for Advanced Chronic Kidney Disease in Adults',\n",
              " 'MECP2 duplication syndrome',\n",
              " 'Camurati-Engelmann disease',\n",
              " \"Paget's Disease of Bone\",\n",
              " 'Porphyria',\n",
              " \"Cushing's Syndrome\",\n",
              " 'Bartter syndrome',\n",
              " 'Gallstones',\n",
              " 'Liddle syndrome',\n",
              " '21-hydroxylase deficiency',\n",
              " 'Wolfram syndrome',\n",
              " 'Laron syndrome',\n",
              " 'Urinary Retention',\n",
              " 'Sarcoidosis',\n",
              " 'Sleep Apnea',\n",
              " 'Langerhans cell histiocytosis',\n",
              " 'Diverticular Disease',\n",
              " 'Klinefelter syndrome',\n",
              " 'Poland syndrome',\n",
              " 'Celiac Disease',\n",
              " 'Peters plus syndrome',\n",
              " 'Prader-Willi syndrome',\n",
              " 'Holt-Oram syndrome',\n",
              " 'Urinary Incontinence',\n",
              " 'Alcohol Use and Older Adults',\n",
              " \"Alzheimer's Caregiving\",\n",
              " 'Polycythemia Vera',\n",
              " 'Diabetes, Heart Disease, and Stroke',\n",
              " 'Pelizaeus-Merzbacher disease',\n",
              " 'Peutz-Jeghers syndrome']"
            ]
          },
          "metadata": {},
          "execution_count": 119
        }
      ]
    },
    {
      "cell_type": "markdown",
      "source": [
        "### Create Training and Validation set"
      ],
      "metadata": {
        "id": "clJZkJLzwDWR"
      }
    },
    {
      "cell_type": "markdown",
      "source": [
        "**Exercise 4: Create training and validation set [2 Marks]**\n",
        "\n",
        "- Consider 4 samples per `Focus` category, for each top 100 categories, from the dataset (It will give 400 samples for training)\n",
        "\n",
        "- Consider 1 sample per `Focus` category (different from training set), for each top 100 categories, from the dataset (It will give 100 samples for validation)"
      ],
      "metadata": {
        "id": "JDQOWgthKgGG"
      }
    },
    {
      "cell_type": "code",
      "source": [
        "df_train = pd.DataFrame(columns=['Focus', 'Question', 'Answer'])\n",
        "df_val = pd.DataFrame(columns=['Focus', 'Question', 'Answer'])"
      ],
      "metadata": {
        "id": "g7PeG9zZ2qu2"
      },
      "execution_count": 151,
      "outputs": []
    },
    {
      "cell_type": "code",
      "source": [
        "# YOUR CODE HERE\n",
        "df_copy = df[['Focus', 'Question', 'Answer']]\n",
        "df_train = pd.DataFrame(columns=['Focus', 'Question', 'Answer'])\n",
        "df_val = pd.DataFrame(columns=['Focus', 'Question', 'Answer'])\n",
        "for i in output_list:\n",
        "    #print(df_copy.query('Focus == @i').sample(n=4))\n",
        "    df_train = pd.concat([df_train, df_copy.query('Focus == @i').sample(n=4)])"
      ],
      "metadata": {
        "id": "CWoHsbibKtdo"
      },
      "execution_count": 143,
      "outputs": []
    },
    {
      "cell_type": "code",
      "source": [
        "df_train.head(), df_train.shape"
      ],
      "metadata": {
        "colab": {
          "base_uri": "https://localhost:8080/"
        },
        "id": "ytb2EbIvAReK",
        "outputId": "32bbc769-7a2e-4640-a057-b3eb7f8e4849"
      },
      "execution_count": 146,
      "outputs": [
        {
          "output_type": "execute_result",
          "data": {
            "text/plain": [
              "(                 Focus                             Question  \\\n",
              " 567      Breast Cancer       How to prevent Breast Cancer ?   \n",
              " 14911    Breast Cancer  Who is at risk for Breast Cancer? ?   \n",
              " 14921    Breast Cancer        What is (are) Breast Cancer ?   \n",
              " 14918    Breast Cancer        What is (are) Breast Cancer ?   \n",
              " 15435  Prostate Cancer      What is (are) Prostate Cancer ?   \n",
              " \n",
              "                                                   Answer  \n",
              " 567    Key Points - Avoiding risk factors and increas...  \n",
              " 14911  What Is Cancer Prevention? Cancer prevention i...  \n",
              " 14921  One definition of cure is being alive and free...  \n",
              " 14918  When cancer spreads from its original location...  \n",
              " 15435  The body is made up of many types of cells. No...  ,\n",
              " (400, 3))"
            ]
          },
          "metadata": {},
          "execution_count": 146
        }
      ]
    },
    {
      "cell_type": "code",
      "source": [],
      "metadata": {
        "id": "yV6d58LCBYF7"
      },
      "execution_count": null,
      "outputs": []
    },
    {
      "cell_type": "code",
      "source": [
        "for i in output_list:\n",
        "    df_val = pd.concat([df_val, df_copy.drop(df_train.index).query('Focus == @i').sample(n=1)])"
      ],
      "metadata": {
        "id": "BWKtpfCW98ct"
      },
      "execution_count": 153,
      "outputs": []
    },
    {
      "cell_type": "code",
      "source": [
        "df_val.head(), df_val.shape"
      ],
      "metadata": {
        "colab": {
          "base_uri": "https://localhost:8080/"
        },
        "id": "pIvQKbfd94t5",
        "outputId": "89e91f27-4a47-4dd9-f292-331cdba03e4a"
      },
      "execution_count": 154,
      "outputs": [
        {
          "output_type": "execute_result",
          "data": {
            "text/plain": [
              "(                     Focus                                           Question  \\\n",
              " 542          Breast Cancer                Who is at risk for Breast Cancer? ?   \n",
              " 15437      Prostate Cancer  How many people are affected by Prostate Cancer ?   \n",
              " 15528               Stroke                             What is (are) Stroke ?   \n",
              " 15518          Skin Cancer                        What is (are) Skin Cancer ?   \n",
              " 13789  Alzheimer's Disease  what research (or clinical trials) is being do...   \n",
              " \n",
              "                                                   Answer  \n",
              " 542    A family history of breast cancer and other fa...  \n",
              " 15437  Prostate cancer is one of the most common type...  \n",
              " 15528  Stroke -- A Serious Event A stroke is serious,...  \n",
              " 15518  Melanoma is the fastest growing and most invas...  \n",
              " 13789  The National Institute of Neurological Disorde...  ,\n",
              " (100, 3))"
            ]
          },
          "metadata": {},
          "execution_count": 154
        }
      ]
    },
    {
      "cell_type": "markdown",
      "source": [
        "### Pre-process `Question` and `Answer` text\n",
        "\n",
        "**Exercise 5: Perform below tasks: [1.5 Marks]**\n",
        "\n",
        "- Combine `Question` and `Answer` for train and validation data as shown below:\n",
        "    - sequence = *'\\<question\\>' + question-text + '\\<answer\\>' + answer-text*\n",
        "\n",
        "- Join the combined text using '\\n' into a single string for training and validation separately\n",
        "\n",
        "- Save the training and validation strings as separate text files"
      ],
      "metadata": {
        "id": "YxjnEkqScZEJ"
      }
    },
    {
      "cell_type": "markdown",
      "source": [
        "- **Combine Question and Answer for train and val data**"
      ],
      "metadata": {
        "id": "48ieeFrU0vmF"
      }
    },
    {
      "cell_type": "code",
      "source": [
        "# YOUR CODE HERE\n",
        "df_train['sequence'] = '<question>' + df_train['Question'] + '<answer>' + df_train['Answer']\n",
        "df_val['sequence'] = '<question>' + df_val['Question'] + '<answer>' + df_val['Answer']"
      ],
      "metadata": {
        "id": "nxT84SYwONaR"
      },
      "execution_count": 155,
      "outputs": []
    },
    {
      "cell_type": "code",
      "source": [
        "df_train"
      ],
      "metadata": {
        "colab": {
          "base_uri": "https://localhost:8080/",
          "height": 597
        },
        "id": "nrJr1Fcs8yUb",
        "outputId": "9c5b9904-721e-4a49-91a9-1e090acd9751"
      },
      "execution_count": 156,
      "outputs": [
        {
          "output_type": "execute_result",
          "data": {
            "text/plain": [
              "                              Focus  \\\n",
              "567                   Breast Cancer   \n",
              "14911                 Breast Cancer   \n",
              "14921                 Breast Cancer   \n",
              "14918                 Breast Cancer   \n",
              "15435               Prostate Cancer   \n",
              "...                             ...   \n",
              "4641   Pelizaeus-Merzbacher disease   \n",
              "4680         Peutz-Jeghers syndrome   \n",
              "10012        Peutz-Jeghers syndrome   \n",
              "4678         Peutz-Jeghers syndrome   \n",
              "4679         Peutz-Jeghers syndrome   \n",
              "\n",
              "                                                Question  \\\n",
              "567                       How to prevent Breast Cancer ?   \n",
              "14911                Who is at risk for Breast Cancer? ?   \n",
              "14921                      What is (are) Breast Cancer ?   \n",
              "14918                      What is (are) Breast Cancer ?   \n",
              "15435                    What is (are) Prostate Cancer ?   \n",
              "...                                                  ...   \n",
              "4641          What causes Pelizaeus-Merzbacher disease ?   \n",
              "4680            How to diagnose Peutz-Jeghers syndrome ?   \n",
              "10012  What are the treatments for Peutz-Jeghers synd...   \n",
              "4678                What causes Peutz-Jeghers syndrome ?   \n",
              "4679               Is Peutz-Jeghers syndrome inherited ?   \n",
              "\n",
              "                                                  Answer  \\\n",
              "567    Key Points - Avoiding risk factors and increas...   \n",
              "14911  What Is Cancer Prevention? Cancer prevention i...   \n",
              "14921  One definition of cure is being alive and free...   \n",
              "14918  When cancer spreads from its original location...   \n",
              "15435  The body is made up of many types of cells. No...   \n",
              "...                                                  ...   \n",
              "4641   What causes Pelizaeus-Merzbacher disease? Peli...   \n",
              "4680   Is genetic testing available for Peutz-Jeghers...   \n",
              "10012  These resources address the diagnosis or manag...   \n",
              "4678   What causes Peutz-Jeghers syndrome? Peutz-Jegh...   \n",
              "4679   Is Peutz-Jeghers syndrome inherited? Peutz-Jeg...   \n",
              "\n",
              "                                                sequence  \n",
              "567    <question>How to prevent Breast Cancer ?<answe...  \n",
              "14911  <question>Who is at risk for Breast Cancer? ?<...  \n",
              "14921  <question>What is (are) Breast Cancer ?<answer...  \n",
              "14918  <question>What is (are) Breast Cancer ?<answer...  \n",
              "15435  <question>What is (are) Prostate Cancer ?<answ...  \n",
              "...                                                  ...  \n",
              "4641   <question>What causes Pelizaeus-Merzbacher dis...  \n",
              "4680   <question>How to diagnose Peutz-Jeghers syndro...  \n",
              "10012  <question>What are the treatments for Peutz-Je...  \n",
              "4678   <question>What causes Peutz-Jeghers syndrome ?...  \n",
              "4679   <question>Is Peutz-Jeghers syndrome inherited ...  \n",
              "\n",
              "[400 rows x 4 columns]"
            ],
            "text/html": [
              "\n",
              "  <div id=\"df-d8740e68-70ba-48ce-81b7-3663b650b15e\" class=\"colab-df-container\">\n",
              "    <div>\n",
              "<style scoped>\n",
              "    .dataframe tbody tr th:only-of-type {\n",
              "        vertical-align: middle;\n",
              "    }\n",
              "\n",
              "    .dataframe tbody tr th {\n",
              "        vertical-align: top;\n",
              "    }\n",
              "\n",
              "    .dataframe thead th {\n",
              "        text-align: right;\n",
              "    }\n",
              "</style>\n",
              "<table border=\"1\" class=\"dataframe\">\n",
              "  <thead>\n",
              "    <tr style=\"text-align: right;\">\n",
              "      <th></th>\n",
              "      <th>Focus</th>\n",
              "      <th>Question</th>\n",
              "      <th>Answer</th>\n",
              "      <th>sequence</th>\n",
              "    </tr>\n",
              "  </thead>\n",
              "  <tbody>\n",
              "    <tr>\n",
              "      <th>567</th>\n",
              "      <td>Breast Cancer</td>\n",
              "      <td>How to prevent Breast Cancer ?</td>\n",
              "      <td>Key Points - Avoiding risk factors and increas...</td>\n",
              "      <td>&lt;question&gt;How to prevent Breast Cancer ?&lt;answe...</td>\n",
              "    </tr>\n",
              "    <tr>\n",
              "      <th>14911</th>\n",
              "      <td>Breast Cancer</td>\n",
              "      <td>Who is at risk for Breast Cancer? ?</td>\n",
              "      <td>What Is Cancer Prevention? Cancer prevention i...</td>\n",
              "      <td>&lt;question&gt;Who is at risk for Breast Cancer? ?&lt;...</td>\n",
              "    </tr>\n",
              "    <tr>\n",
              "      <th>14921</th>\n",
              "      <td>Breast Cancer</td>\n",
              "      <td>What is (are) Breast Cancer ?</td>\n",
              "      <td>One definition of cure is being alive and free...</td>\n",
              "      <td>&lt;question&gt;What is (are) Breast Cancer ?&lt;answer...</td>\n",
              "    </tr>\n",
              "    <tr>\n",
              "      <th>14918</th>\n",
              "      <td>Breast Cancer</td>\n",
              "      <td>What is (are) Breast Cancer ?</td>\n",
              "      <td>When cancer spreads from its original location...</td>\n",
              "      <td>&lt;question&gt;What is (are) Breast Cancer ?&lt;answer...</td>\n",
              "    </tr>\n",
              "    <tr>\n",
              "      <th>15435</th>\n",
              "      <td>Prostate Cancer</td>\n",
              "      <td>What is (are) Prostate Cancer ?</td>\n",
              "      <td>The body is made up of many types of cells. No...</td>\n",
              "      <td>&lt;question&gt;What is (are) Prostate Cancer ?&lt;answ...</td>\n",
              "    </tr>\n",
              "    <tr>\n",
              "      <th>...</th>\n",
              "      <td>...</td>\n",
              "      <td>...</td>\n",
              "      <td>...</td>\n",
              "      <td>...</td>\n",
              "    </tr>\n",
              "    <tr>\n",
              "      <th>4641</th>\n",
              "      <td>Pelizaeus-Merzbacher disease</td>\n",
              "      <td>What causes Pelizaeus-Merzbacher disease ?</td>\n",
              "      <td>What causes Pelizaeus-Merzbacher disease? Peli...</td>\n",
              "      <td>&lt;question&gt;What causes Pelizaeus-Merzbacher dis...</td>\n",
              "    </tr>\n",
              "    <tr>\n",
              "      <th>4680</th>\n",
              "      <td>Peutz-Jeghers syndrome</td>\n",
              "      <td>How to diagnose Peutz-Jeghers syndrome ?</td>\n",
              "      <td>Is genetic testing available for Peutz-Jeghers...</td>\n",
              "      <td>&lt;question&gt;How to diagnose Peutz-Jeghers syndro...</td>\n",
              "    </tr>\n",
              "    <tr>\n",
              "      <th>10012</th>\n",
              "      <td>Peutz-Jeghers syndrome</td>\n",
              "      <td>What are the treatments for Peutz-Jeghers synd...</td>\n",
              "      <td>These resources address the diagnosis or manag...</td>\n",
              "      <td>&lt;question&gt;What are the treatments for Peutz-Je...</td>\n",
              "    </tr>\n",
              "    <tr>\n",
              "      <th>4678</th>\n",
              "      <td>Peutz-Jeghers syndrome</td>\n",
              "      <td>What causes Peutz-Jeghers syndrome ?</td>\n",
              "      <td>What causes Peutz-Jeghers syndrome? Peutz-Jegh...</td>\n",
              "      <td>&lt;question&gt;What causes Peutz-Jeghers syndrome ?...</td>\n",
              "    </tr>\n",
              "    <tr>\n",
              "      <th>4679</th>\n",
              "      <td>Peutz-Jeghers syndrome</td>\n",
              "      <td>Is Peutz-Jeghers syndrome inherited ?</td>\n",
              "      <td>Is Peutz-Jeghers syndrome inherited? Peutz-Jeg...</td>\n",
              "      <td>&lt;question&gt;Is Peutz-Jeghers syndrome inherited ...</td>\n",
              "    </tr>\n",
              "  </tbody>\n",
              "</table>\n",
              "<p>400 rows × 4 columns</p>\n",
              "</div>\n",
              "    <div class=\"colab-df-buttons\">\n",
              "\n",
              "  <div class=\"colab-df-container\">\n",
              "    <button class=\"colab-df-convert\" onclick=\"convertToInteractive('df-d8740e68-70ba-48ce-81b7-3663b650b15e')\"\n",
              "            title=\"Convert this dataframe to an interactive table.\"\n",
              "            style=\"display:none;\">\n",
              "\n",
              "  <svg xmlns=\"http://www.w3.org/2000/svg\" height=\"24px\" viewBox=\"0 -960 960 960\">\n",
              "    <path d=\"M120-120v-720h720v720H120Zm60-500h600v-160H180v160Zm220 220h160v-160H400v160Zm0 220h160v-160H400v160ZM180-400h160v-160H180v160Zm440 0h160v-160H620v160ZM180-180h160v-160H180v160Zm440 0h160v-160H620v160Z\"/>\n",
              "  </svg>\n",
              "    </button>\n",
              "\n",
              "  <style>\n",
              "    .colab-df-container {\n",
              "      display:flex;\n",
              "      gap: 12px;\n",
              "    }\n",
              "\n",
              "    .colab-df-convert {\n",
              "      background-color: #E8F0FE;\n",
              "      border: none;\n",
              "      border-radius: 50%;\n",
              "      cursor: pointer;\n",
              "      display: none;\n",
              "      fill: #1967D2;\n",
              "      height: 32px;\n",
              "      padding: 0 0 0 0;\n",
              "      width: 32px;\n",
              "    }\n",
              "\n",
              "    .colab-df-convert:hover {\n",
              "      background-color: #E2EBFA;\n",
              "      box-shadow: 0px 1px 2px rgba(60, 64, 67, 0.3), 0px 1px 3px 1px rgba(60, 64, 67, 0.15);\n",
              "      fill: #174EA6;\n",
              "    }\n",
              "\n",
              "    .colab-df-buttons div {\n",
              "      margin-bottom: 4px;\n",
              "    }\n",
              "\n",
              "    [theme=dark] .colab-df-convert {\n",
              "      background-color: #3B4455;\n",
              "      fill: #D2E3FC;\n",
              "    }\n",
              "\n",
              "    [theme=dark] .colab-df-convert:hover {\n",
              "      background-color: #434B5C;\n",
              "      box-shadow: 0px 1px 3px 1px rgba(0, 0, 0, 0.15);\n",
              "      filter: drop-shadow(0px 1px 2px rgba(0, 0, 0, 0.3));\n",
              "      fill: #FFFFFF;\n",
              "    }\n",
              "  </style>\n",
              "\n",
              "    <script>\n",
              "      const buttonEl =\n",
              "        document.querySelector('#df-d8740e68-70ba-48ce-81b7-3663b650b15e button.colab-df-convert');\n",
              "      buttonEl.style.display =\n",
              "        google.colab.kernel.accessAllowed ? 'block' : 'none';\n",
              "\n",
              "      async function convertToInteractive(key) {\n",
              "        const element = document.querySelector('#df-d8740e68-70ba-48ce-81b7-3663b650b15e');\n",
              "        const dataTable =\n",
              "          await google.colab.kernel.invokeFunction('convertToInteractive',\n",
              "                                                    [key], {});\n",
              "        if (!dataTable) return;\n",
              "\n",
              "        const docLinkHtml = 'Like what you see? Visit the ' +\n",
              "          '<a target=\"_blank\" href=https://colab.research.google.com/notebooks/data_table.ipynb>data table notebook</a>'\n",
              "          + ' to learn more about interactive tables.';\n",
              "        element.innerHTML = '';\n",
              "        dataTable['output_type'] = 'display_data';\n",
              "        await google.colab.output.renderOutput(dataTable, element);\n",
              "        const docLink = document.createElement('div');\n",
              "        docLink.innerHTML = docLinkHtml;\n",
              "        element.appendChild(docLink);\n",
              "      }\n",
              "    </script>\n",
              "  </div>\n",
              "\n",
              "\n",
              "<div id=\"df-f7ffd8cb-8afa-4f10-87a5-365d8d6235b8\">\n",
              "  <button class=\"colab-df-quickchart\" onclick=\"quickchart('df-f7ffd8cb-8afa-4f10-87a5-365d8d6235b8')\"\n",
              "            title=\"Suggest charts\"\n",
              "            style=\"display:none;\">\n",
              "\n",
              "<svg xmlns=\"http://www.w3.org/2000/svg\" height=\"24px\"viewBox=\"0 0 24 24\"\n",
              "     width=\"24px\">\n",
              "    <g>\n",
              "        <path d=\"M19 3H5c-1.1 0-2 .9-2 2v14c0 1.1.9 2 2 2h14c1.1 0 2-.9 2-2V5c0-1.1-.9-2-2-2zM9 17H7v-7h2v7zm4 0h-2V7h2v10zm4 0h-2v-4h2v4z\"/>\n",
              "    </g>\n",
              "</svg>\n",
              "  </button>\n",
              "\n",
              "<style>\n",
              "  .colab-df-quickchart {\n",
              "      --bg-color: #E8F0FE;\n",
              "      --fill-color: #1967D2;\n",
              "      --hover-bg-color: #E2EBFA;\n",
              "      --hover-fill-color: #174EA6;\n",
              "      --disabled-fill-color: #AAA;\n",
              "      --disabled-bg-color: #DDD;\n",
              "  }\n",
              "\n",
              "  [theme=dark] .colab-df-quickchart {\n",
              "      --bg-color: #3B4455;\n",
              "      --fill-color: #D2E3FC;\n",
              "      --hover-bg-color: #434B5C;\n",
              "      --hover-fill-color: #FFFFFF;\n",
              "      --disabled-bg-color: #3B4455;\n",
              "      --disabled-fill-color: #666;\n",
              "  }\n",
              "\n",
              "  .colab-df-quickchart {\n",
              "    background-color: var(--bg-color);\n",
              "    border: none;\n",
              "    border-radius: 50%;\n",
              "    cursor: pointer;\n",
              "    display: none;\n",
              "    fill: var(--fill-color);\n",
              "    height: 32px;\n",
              "    padding: 0;\n",
              "    width: 32px;\n",
              "  }\n",
              "\n",
              "  .colab-df-quickchart:hover {\n",
              "    background-color: var(--hover-bg-color);\n",
              "    box-shadow: 0 1px 2px rgba(60, 64, 67, 0.3), 0 1px 3px 1px rgba(60, 64, 67, 0.15);\n",
              "    fill: var(--button-hover-fill-color);\n",
              "  }\n",
              "\n",
              "  .colab-df-quickchart-complete:disabled,\n",
              "  .colab-df-quickchart-complete:disabled:hover {\n",
              "    background-color: var(--disabled-bg-color);\n",
              "    fill: var(--disabled-fill-color);\n",
              "    box-shadow: none;\n",
              "  }\n",
              "\n",
              "  .colab-df-spinner {\n",
              "    border: 2px solid var(--fill-color);\n",
              "    border-color: transparent;\n",
              "    border-bottom-color: var(--fill-color);\n",
              "    animation:\n",
              "      spin 1s steps(1) infinite;\n",
              "  }\n",
              "\n",
              "  @keyframes spin {\n",
              "    0% {\n",
              "      border-color: transparent;\n",
              "      border-bottom-color: var(--fill-color);\n",
              "      border-left-color: var(--fill-color);\n",
              "    }\n",
              "    20% {\n",
              "      border-color: transparent;\n",
              "      border-left-color: var(--fill-color);\n",
              "      border-top-color: var(--fill-color);\n",
              "    }\n",
              "    30% {\n",
              "      border-color: transparent;\n",
              "      border-left-color: var(--fill-color);\n",
              "      border-top-color: var(--fill-color);\n",
              "      border-right-color: var(--fill-color);\n",
              "    }\n",
              "    40% {\n",
              "      border-color: transparent;\n",
              "      border-right-color: var(--fill-color);\n",
              "      border-top-color: var(--fill-color);\n",
              "    }\n",
              "    60% {\n",
              "      border-color: transparent;\n",
              "      border-right-color: var(--fill-color);\n",
              "    }\n",
              "    80% {\n",
              "      border-color: transparent;\n",
              "      border-right-color: var(--fill-color);\n",
              "      border-bottom-color: var(--fill-color);\n",
              "    }\n",
              "    90% {\n",
              "      border-color: transparent;\n",
              "      border-bottom-color: var(--fill-color);\n",
              "    }\n",
              "  }\n",
              "</style>\n",
              "\n",
              "  <script>\n",
              "    async function quickchart(key) {\n",
              "      const quickchartButtonEl =\n",
              "        document.querySelector('#' + key + ' button');\n",
              "      quickchartButtonEl.disabled = true;  // To prevent multiple clicks.\n",
              "      quickchartButtonEl.classList.add('colab-df-spinner');\n",
              "      try {\n",
              "        const charts = await google.colab.kernel.invokeFunction(\n",
              "            'suggestCharts', [key], {});\n",
              "      } catch (error) {\n",
              "        console.error('Error during call to suggestCharts:', error);\n",
              "      }\n",
              "      quickchartButtonEl.classList.remove('colab-df-spinner');\n",
              "      quickchartButtonEl.classList.add('colab-df-quickchart-complete');\n",
              "    }\n",
              "    (() => {\n",
              "      let quickchartButtonEl =\n",
              "        document.querySelector('#df-f7ffd8cb-8afa-4f10-87a5-365d8d6235b8 button');\n",
              "      quickchartButtonEl.style.display =\n",
              "        google.colab.kernel.accessAllowed ? 'block' : 'none';\n",
              "    })();\n",
              "  </script>\n",
              "</div>\n",
              "\n",
              "  <div id=\"id_b550a821-be84-4862-8c33-4e1bf3fbf49d\">\n",
              "    <style>\n",
              "      .colab-df-generate {\n",
              "        background-color: #E8F0FE;\n",
              "        border: none;\n",
              "        border-radius: 50%;\n",
              "        cursor: pointer;\n",
              "        display: none;\n",
              "        fill: #1967D2;\n",
              "        height: 32px;\n",
              "        padding: 0 0 0 0;\n",
              "        width: 32px;\n",
              "      }\n",
              "\n",
              "      .colab-df-generate:hover {\n",
              "        background-color: #E2EBFA;\n",
              "        box-shadow: 0px 1px 2px rgba(60, 64, 67, 0.3), 0px 1px 3px 1px rgba(60, 64, 67, 0.15);\n",
              "        fill: #174EA6;\n",
              "      }\n",
              "\n",
              "      [theme=dark] .colab-df-generate {\n",
              "        background-color: #3B4455;\n",
              "        fill: #D2E3FC;\n",
              "      }\n",
              "\n",
              "      [theme=dark] .colab-df-generate:hover {\n",
              "        background-color: #434B5C;\n",
              "        box-shadow: 0px 1px 3px 1px rgba(0, 0, 0, 0.15);\n",
              "        filter: drop-shadow(0px 1px 2px rgba(0, 0, 0, 0.3));\n",
              "        fill: #FFFFFF;\n",
              "      }\n",
              "    </style>\n",
              "    <button class=\"colab-df-generate\" onclick=\"generateWithVariable('df_train')\"\n",
              "            title=\"Generate code using this dataframe.\"\n",
              "            style=\"display:none;\">\n",
              "\n",
              "  <svg xmlns=\"http://www.w3.org/2000/svg\" height=\"24px\"viewBox=\"0 0 24 24\"\n",
              "       width=\"24px\">\n",
              "    <path d=\"M7,19H8.4L18.45,9,17,7.55,7,17.6ZM5,21V16.75L18.45,3.32a2,2,0,0,1,2.83,0l1.4,1.43a1.91,1.91,0,0,1,.58,1.4,1.91,1.91,0,0,1-.58,1.4L9.25,21ZM18.45,9,17,7.55Zm-12,3A5.31,5.31,0,0,0,4.9,8.1,5.31,5.31,0,0,0,1,6.5,5.31,5.31,0,0,0,4.9,4.9,5.31,5.31,0,0,0,6.5,1,5.31,5.31,0,0,0,8.1,4.9,5.31,5.31,0,0,0,12,6.5,5.46,5.46,0,0,0,6.5,12Z\"/>\n",
              "  </svg>\n",
              "    </button>\n",
              "    <script>\n",
              "      (() => {\n",
              "      const buttonEl =\n",
              "        document.querySelector('#id_b550a821-be84-4862-8c33-4e1bf3fbf49d button.colab-df-generate');\n",
              "      buttonEl.style.display =\n",
              "        google.colab.kernel.accessAllowed ? 'block' : 'none';\n",
              "\n",
              "      buttonEl.onclick = () => {\n",
              "        google.colab.notebook.generateWithVariable('df_train');\n",
              "      }\n",
              "      })();\n",
              "    </script>\n",
              "  </div>\n",
              "\n",
              "    </div>\n",
              "  </div>\n"
            ],
            "application/vnd.google.colaboratory.intrinsic+json": {
              "type": "dataframe",
              "variable_name": "df_train",
              "summary": "{\n  \"name\": \"df_train\",\n  \"rows\": 400,\n  \"fields\": [\n    {\n      \"column\": \"Focus\",\n      \"properties\": {\n        \"dtype\": \"category\",\n        \"num_unique_values\": 100,\n        \"samples\": [\n          \"Sarcoidosis\",\n          \"Knee Replacement\",\n          \"Nutrition for Advanced Chronic Kidney Disease in Adults\"\n        ],\n        \"semantic_type\": \"\",\n        \"description\": \"\"\n      }\n    },\n    {\n      \"column\": \"Question\",\n      \"properties\": {\n        \"dtype\": \"string\",\n        \"num_unique_values\": 332,\n        \"samples\": [\n          \"What causes Heart Failure ?\",\n          \"What is (are) Alzheimer's Caregiving ?\",\n          \"What are the symptoms of COPD ?\"\n        ],\n        \"semantic_type\": \"\",\n        \"description\": \"\"\n      }\n    },\n    {\n      \"column\": \"Answer\",\n      \"properties\": {\n        \"dtype\": \"string\",\n        \"num_unique_values\": 400,\n        \"samples\": [\n          \"Scientists have not yet found a way to prevent PKD. However, people with PKD may slow the progression of kidney damage caused by high blood pressure through lifestyle changes, diet, and blood pressure medications. People with PKD should be physically active 30 minutes a day most days of the week. See Eating, Diet, and Nutrition for diet advice on lowering blood pressure and slowing the progression of kidney disease in general. If lifestyle and diet changes do not control a persons blood pressure, a health care provider may prescribe one or more blood pressure medications, including ACE inhibitors or ARBs.\",\n          \"As CKD progresses, people often lose their appetites because they find that foods do not taste the same. As a result, they consume fewer caloriesimportant units of energy in foodand may lose too much weight. Renal dietitians can help people with advanced CKD find healthy ways to add calories to their diet if they are losing too much weight. Top\",\n          \"Heart attacks are a leading killer of both men and women in the United States. The good news is that excellent treatments are available for heart attacks. These treatments can save lives and prevent disabilities. Heart attack treatment works best when it's given right after symptoms occur. Act Fast The signs and symptoms of a heart attack can develop suddenly. However, they also can develop slowlysometimes within hours, days, or weeks of a heart attack. Know the warning signs of a heart attack so you can act fast to get treatment for yourself or someone else. The sooner you get emergency help, the less damage your heart will sustain. Call 911 for an ambulance right away if you think you or someone else may be having a heart attack. You also should call for help if your chest pain doesn't go away as it usually does when you take medicine prescribed for angina. Treatment May Start Right Away Treatment for a heart attack may begin in the ambulance or in the emergency department and continue in a special area of the hospital called a coronary care unit. Do not drive to the hospital or let someone else drive you. Call an ambulance so that medical personnel can begin life-saving treatment on the way to the emergency room. Restoring Blood Flow to the Heart The coronary care unit is specially equipped with monitors that continuously monitor your vital signs. These include - an EKG which detects any heart rhythm problems - a blood pressure monitor, and - pulse oximetry, which measures the amount of oxygen in the blood. an EKG which detects any heart rhythm problems a blood pressure monitor, and pulse oximetry, which measures the amount of oxygen in the blood. In the hospital, if you have had or are having a heart attack, doctors will work quickly to restore blood flow to your heart and continuously monitor your vital signs to detect and treat complications. Restoring blood flow to the heart can prevent or limit damage to the heart muscle and help prevent another heart attack. Doctors may use clot-busting drugs called thrombolytics and procedures such as angioplasty. - Clot-busters or thrombolytic drugs are used to dissolve blood clots that are blocking blood flow to the heart. When given soon after a heart attack begins, these drugs can limit or prevent permanent damage to the heart. To be most effective, these drugs must be given within one hour after the start of heart attack symptoms. - Angioplasty procedures are used to open blocked or narrowed coronary arteries. A stent, which is a tiny metal mesh tube, may be placed in the artery to help keep it open. Some stents are coated with medicines that help prevent the artery from becoming blocked again. - Coronary artery bypass surgery uses arteries or veins from other areas in your body to bypass your blocked coronary arteries. Clot-busters or thrombolytic drugs are used to dissolve blood clots that are blocking blood flow to the heart. When given soon after a heart attack begins, these drugs can limit or prevent permanent damage to the heart. To be most effective, these drugs must be given within one hour after the start of heart attack symptoms. Angioplasty procedures are used to open blocked or narrowed coronary arteries. A stent, which is a tiny metal mesh tube, may be placed in the artery to help keep it open. Some stents are coated with medicines that help prevent the artery from becoming blocked again. Coronary artery bypass surgery uses arteries or veins from other areas in your body to bypass your blocked coronary arteries. Drug Treatments Many medications are used to treat heart attacks. They include beta blockers, ACE inhibitors, nitrates, anticoagulants, antiplatelet medications, and medications to relieve pain and anxiety. - Beta blockers slow your heart rate and reduce your heart's need for blood and oxygen. As a result, your heart beats with less force, and your blood pressure falls. Beta blockers are also used to relieve angina and prevent second heart attacks and correct an irregular heartbeat. - Angiotensin-converting enzyme or ACE inhibitors lower your blood pressure and reduce the strain on your heart. They are used in some patients after a heart attack to help prevent further weakening of the heart and increase the chances of survival. - Nitrates, such as nitroglycerin, relax blood vessels and relieve chest pain. Anticoagulants, such as heparin and warfarin, thin the blood and prevent clots from forming in your arteries. - >Antiplatelet medications, such as aspirin and clopidogrel, stop platelets from clumping together to form clots. They are given to people who have had a heart attack, have angina, or have had an angioplasty. - Glycoprotein llb-llla inhibitors are potent antiplatelet medications given intravenously to prevent clots from forming in your arteries. Beta blockers slow your heart rate and reduce your heart's need for blood and oxygen. As a result, your heart beats with less force, and your blood pressure falls. Beta blockers are also used to relieve angina and prevent second heart attacks and correct an irregular heartbeat. Angiotensin-converting enzyme or ACE inhibitors lower your blood pressure and reduce the strain on your heart. They are used in some patients after a heart attack to help prevent further weakening of the heart and increase the chances of survival. Nitrates, such as nitroglycerin, relax blood vessels and relieve chest pain. Anticoagulants, such as heparin and warfarin, thin the blood and prevent clots from forming in your arteries. >Antiplatelet medications, such as aspirin and clopidogrel, stop platelets from clumping together to form clots. They are given to people who have had a heart attack, have angina, or have had an angioplasty. Glycoprotein llb-llla inhibitors are potent antiplatelet medications given intravenously to prevent clots from forming in your arteries. Doctors may also prescribe medications to relieve pain and anxiety, or to treat irregular heart rhythms which often occur during a heart attack. Echocardiogram and Stress Tests While you are still in the hospital or after you go home, your doctor may order other tests, such as an echocardiogram. An echocardiogram uses ultrasound to make an image of the heart which can be seen on a video monitor. It shows how well the heart is filling with blood and pumping it to the rest of the body. Your doctor may also order a stress test to see how well your heart works when it has a heavy workload. You run on a treadmill or pedal a bicycle or receive medicine through a vein in your arm to make your heart work harder. EKG and blood pressure readings are taken before, during, and after the test to see how your heart responds. Often, an echocardiogram or nuclear scan of the heart is performed before and after exercise or intravenous medication. The test is stopped if chest pain or a very sharp rise or fall in blood pressure occurs. Monitoring continues for 10 to 15 minutes after the test or until your heart rate returns to baseline.\"\n        ],\n        \"semantic_type\": \"\",\n        \"description\": \"\"\n      }\n    },\n    {\n      \"column\": \"sequence\",\n      \"properties\": {\n        \"dtype\": \"string\",\n        \"num_unique_values\": 400,\n        \"samples\": [\n          \"<question>How to prevent Polycystic Kidney Disease ?<answer>Scientists have not yet found a way to prevent PKD. However, people with PKD may slow the progression of kidney damage caused by high blood pressure through lifestyle changes, diet, and blood pressure medications. People with PKD should be physically active 30 minutes a day most days of the week. See Eating, Diet, and Nutrition for diet advice on lowering blood pressure and slowing the progression of kidney disease in general. If lifestyle and diet changes do not control a persons blood pressure, a health care provider may prescribe one or more blood pressure medications, including ACE inhibitors or ARBs.\",\n          \"<question>What is (are) Nutrition for Advanced Chronic Kidney Disease in Adults ?<answer>As CKD progresses, people often lose their appetites because they find that foods do not taste the same. As a result, they consume fewer caloriesimportant units of energy in foodand may lose too much weight. Renal dietitians can help people with advanced CKD find healthy ways to add calories to their diet if they are losing too much weight. Top\",\n          \"<question>What are the treatments for Heart Attack ?<answer>Heart attacks are a leading killer of both men and women in the United States. The good news is that excellent treatments are available for heart attacks. These treatments can save lives and prevent disabilities. Heart attack treatment works best when it's given right after symptoms occur. Act Fast The signs and symptoms of a heart attack can develop suddenly. However, they also can develop slowlysometimes within hours, days, or weeks of a heart attack. Know the warning signs of a heart attack so you can act fast to get treatment for yourself or someone else. The sooner you get emergency help, the less damage your heart will sustain. Call 911 for an ambulance right away if you think you or someone else may be having a heart attack. You also should call for help if your chest pain doesn't go away as it usually does when you take medicine prescribed for angina. Treatment May Start Right Away Treatment for a heart attack may begin in the ambulance or in the emergency department and continue in a special area of the hospital called a coronary care unit. Do not drive to the hospital or let someone else drive you. Call an ambulance so that medical personnel can begin life-saving treatment on the way to the emergency room. Restoring Blood Flow to the Heart The coronary care unit is specially equipped with monitors that continuously monitor your vital signs. These include - an EKG which detects any heart rhythm problems - a blood pressure monitor, and - pulse oximetry, which measures the amount of oxygen in the blood. an EKG which detects any heart rhythm problems a blood pressure monitor, and pulse oximetry, which measures the amount of oxygen in the blood. In the hospital, if you have had or are having a heart attack, doctors will work quickly to restore blood flow to your heart and continuously monitor your vital signs to detect and treat complications. Restoring blood flow to the heart can prevent or limit damage to the heart muscle and help prevent another heart attack. Doctors may use clot-busting drugs called thrombolytics and procedures such as angioplasty. - Clot-busters or thrombolytic drugs are used to dissolve blood clots that are blocking blood flow to the heart. When given soon after a heart attack begins, these drugs can limit or prevent permanent damage to the heart. To be most effective, these drugs must be given within one hour after the start of heart attack symptoms. - Angioplasty procedures are used to open blocked or narrowed coronary arteries. A stent, which is a tiny metal mesh tube, may be placed in the artery to help keep it open. Some stents are coated with medicines that help prevent the artery from becoming blocked again. - Coronary artery bypass surgery uses arteries or veins from other areas in your body to bypass your blocked coronary arteries. Clot-busters or thrombolytic drugs are used to dissolve blood clots that are blocking blood flow to the heart. When given soon after a heart attack begins, these drugs can limit or prevent permanent damage to the heart. To be most effective, these drugs must be given within one hour after the start of heart attack symptoms. Angioplasty procedures are used to open blocked or narrowed coronary arteries. A stent, which is a tiny metal mesh tube, may be placed in the artery to help keep it open. Some stents are coated with medicines that help prevent the artery from becoming blocked again. Coronary artery bypass surgery uses arteries or veins from other areas in your body to bypass your blocked coronary arteries. Drug Treatments Many medications are used to treat heart attacks. They include beta blockers, ACE inhibitors, nitrates, anticoagulants, antiplatelet medications, and medications to relieve pain and anxiety. - Beta blockers slow your heart rate and reduce your heart's need for blood and oxygen. As a result, your heart beats with less force, and your blood pressure falls. Beta blockers are also used to relieve angina and prevent second heart attacks and correct an irregular heartbeat. - Angiotensin-converting enzyme or ACE inhibitors lower your blood pressure and reduce the strain on your heart. They are used in some patients after a heart attack to help prevent further weakening of the heart and increase the chances of survival. - Nitrates, such as nitroglycerin, relax blood vessels and relieve chest pain. Anticoagulants, such as heparin and warfarin, thin the blood and prevent clots from forming in your arteries. - >Antiplatelet medications, such as aspirin and clopidogrel, stop platelets from clumping together to form clots. They are given to people who have had a heart attack, have angina, or have had an angioplasty. - Glycoprotein llb-llla inhibitors are potent antiplatelet medications given intravenously to prevent clots from forming in your arteries. Beta blockers slow your heart rate and reduce your heart's need for blood and oxygen. As a result, your heart beats with less force, and your blood pressure falls. Beta blockers are also used to relieve angina and prevent second heart attacks and correct an irregular heartbeat. Angiotensin-converting enzyme or ACE inhibitors lower your blood pressure and reduce the strain on your heart. They are used in some patients after a heart attack to help prevent further weakening of the heart and increase the chances of survival. Nitrates, such as nitroglycerin, relax blood vessels and relieve chest pain. Anticoagulants, such as heparin and warfarin, thin the blood and prevent clots from forming in your arteries. >Antiplatelet medications, such as aspirin and clopidogrel, stop platelets from clumping together to form clots. They are given to people who have had a heart attack, have angina, or have had an angioplasty. Glycoprotein llb-llla inhibitors are potent antiplatelet medications given intravenously to prevent clots from forming in your arteries. Doctors may also prescribe medications to relieve pain and anxiety, or to treat irregular heart rhythms which often occur during a heart attack. Echocardiogram and Stress Tests While you are still in the hospital or after you go home, your doctor may order other tests, such as an echocardiogram. An echocardiogram uses ultrasound to make an image of the heart which can be seen on a video monitor. It shows how well the heart is filling with blood and pumping it to the rest of the body. Your doctor may also order a stress test to see how well your heart works when it has a heavy workload. You run on a treadmill or pedal a bicycle or receive medicine through a vein in your arm to make your heart work harder. EKG and blood pressure readings are taken before, during, and after the test to see how your heart responds. Often, an echocardiogram or nuclear scan of the heart is performed before and after exercise or intravenous medication. The test is stopped if chest pain or a very sharp rise or fall in blood pressure occurs. Monitoring continues for 10 to 15 minutes after the test or until your heart rate returns to baseline.\"\n        ],\n        \"semantic_type\": \"\",\n        \"description\": \"\"\n      }\n    }\n  ]\n}"
            }
          },
          "metadata": {},
          "execution_count": 156
        }
      ]
    },
    {
      "cell_type": "markdown",
      "source": [
        "- **Join the combined text using '\\n' into a single string for training and validation separately**"
      ],
      "metadata": {
        "id": "Uzny8Cci1ZOw"
      }
    },
    {
      "cell_type": "code",
      "source": [
        "# YOUR CODE HERE\n",
        "train_text = '\\n'.join(df_train['sequence'])\n",
        "val_text = '\\n'.join(df_val['sequence'])"
      ],
      "metadata": {
        "id": "vwKbaMAfPCM_"
      },
      "execution_count": 157,
      "outputs": []
    },
    {
      "cell_type": "code",
      "source": [
        "train_text"
      ],
      "metadata": {
        "colab": {
          "base_uri": "https://localhost:8080/",
          "height": 178
        },
        "id": "Ev64FnpEBsSj",
        "outputId": "0dfab6b6-2d27-4cb1-dd02-7700a0897bfa"
      },
      "execution_count": 158,
      "outputs": [
        {
          "output_type": "execute_result",
          "data": {
            "text/plain": [
              "'<question>How to prevent Breast Cancer ?<answer>Key Points - Avoiding risk factors and increasing protective factors may help prevent cancer. - The following are risk factors for breast cancer: - Older age - A personal history of breast cancer or benign (noncancer) breast disease - Inherited risk of breast cancer - Dense breasts - Exposure of breast tissue to estrogen made in the body - Taking hormone therapy for symptoms of menopause - Radiation therapy to the breast or chest - Obesity - Drinking alcohol - The following are protective factors for breast cancer: - Less exposure of breast tissue to estrogen made by the body - Taking estrogen-only hormone therapy after hysterectomy, selective estrogen receptor modulators, or aromatase inhibitors and inactivators - Estrogen-only hormone therapy after hysterectomy - Selective estrogen receptor modulators - Aromatase inhibitors and inactivators - Risk-reducing mastectomy - Ovarian ablation - Getting enough exercise - It is not clear whether the following affect the risk of breast cancer: - Oral contraceptives - Environment - Studies have shown that some factors do not affect the risk of breast cancer. - Cancer prevention clinical trials are used to study ways to prevent cancer. - New ways to prevent breast cancer are being studied in clinical trials. Avoiding risk factors and increasing protective factors may help prevent cancer. Avoiding cancer risk factors may help prevent certain cancers. Risk factors include smoking, being overweight, and not getting enough exercise. Increasing protective factors such as quitting smoking and exercising may also help prevent some cancers. Talk to your doctor or other health care professional about how you might lower your risk of cancer. NCI\\'s Breast Cancer Risk Assessment Tool uses a woman\\'s risk factors to estimate her risk for breast cancer during the next five years and up to age 90. This online tool is meant to be used by a health care provider. For more information on breast cancer risk, call 1-800-4-CANCER. The following are risk factors for breast cancer: Older age Older age is the main risk factor for most cancers. The chance of getting cancer increases as you get older. A personal history of breast cancer or benign (noncancer) breast disease Women with any of the following have an increased risk of breast cancer: - A personal history of invasive breast cancer, ductal carcinoma in situ (DCIS), or lobular carcinoma in situ (LCIS). - A personal history of benign (noncancer) breast disease. Inherited risk of breast cancer Women with a family history of breast cancer in a first-degree relative (mother, sister, or daughter) have an increased risk of breast cancer. Women who have inherited changes in the BRCA1 and BRCA2 genes or in certain other genes have a higher risk of breast cancer. The risk of breast cancer caused by inherited gene changes depends on the type of gene mutation, family history of cancer, and other factors. Dense breasts Having breast tissue that is dense on a mammogram is a factor in breast cancer risk. The level of risk depends on how dense the breast tissue is. Women with very dense breasts have a higher risk of breast cancer than women with low breast density. Increased breast density is often an inherited trait, but it may also occur in women who have not had children, have a first pregnancy late in life, take postmenopausal hormones, or drink alcohol. Exposure of breast tissue to estrogen made in the body Estrogen is a hormone made by the body. It helps the body develop and maintain female sex characteristics. Being exposed to estrogen over a long time may increase the risk of breast cancer. Estrogen levels are highest during the years a woman is menstruating. A woman\\'s exposure to estrogen is increased in the following ways: - Early menstruation: Beginning to have menstrual periods at age 11 or younger increases the number of years the breast tissue is exposed to estrogen. - Starting menopause at a later age: The more years a woman menstruates, the longer her breast tissue is exposed to estrogen. - Older age at first birth or never having given birth: Because estrogen levels are lower during pregnancy, breast tissue is exposed to more estrogen in women who become pregnant for the first time after age 35 or who never become pregnant. Taking hormone therapy for symptoms of menopause Hormones, such as estrogen and progesterone, can be made into a pill form in a laboratory. Estrogen, progestin, or both may be given to replace the estrogen no longer made by the ovaries in postmenopausal women or women who have had their ovaries removed. This is called hormone replacement therapy (HRT) or hormone therapy (HT). Combination HRT/HT is estrogen combined with progestin. This type of HRT/HT increases the risk of breast cancer. Studies show that when women stop taking estrogen combined with progestin, the risk of breast cancer decreases. Radiation therapy to the breast or chest Radiation therapy to the chest for the treatment of cancer increases the risk of breast cancer, starting 10 years after treatment. The risk of breast cancer depends on the dose of radiation and the age at which it is given. The risk is highest if radiation treatment was used during puberty, when breasts are forming. Radiation therapy to treat cancer in one breast does not appear to increase the risk of cancer in the other breast. For women who have inherited changes in the BRCA1 and BRCA2 genes, exposure to radiation, such as that from chest x-rays, may further increase the risk of breast cancer, especially in women who were x-rayed before 20 years of age. Obesity Obesity increases the risk of breast cancer, especially in postmenopausal women who have not used hormone replacement therapy. Drinking alcohol Drinking alcohol increases the risk of breast cancer. The level of risk rises as the amount of alcohol consumed rises. The following are protective factors for breast cancer: Less exposure of breast tissue to estrogen made by the body Decreasing the length of time a woman\\'s breast tissue is exposed to estrogen may help prevent breast cancer. Exposure to estrogen is reduced in the following ways: - Early pregnancy: Estrogen levels are lower during pregnancy. Women who have a full-term pregnancy before age 20 have a lower risk of breast cancer than women who have not had children or who give birth to their first child after age 35. - Breast-feeding: Estrogen levels may remain lower while a woman is breast-feeding. Women who breastfed have a lower risk of breast cancer than women who have had children but did not breastfeed. Taking estrogen-only hormone therapy after hysterectomy, selective estrogen receptor modulators, or aromatase inhibitors and inactivators Estrogen-only hormone therapy after hysterectomy Hormone therapy with estrogen only may be given to women who have had a hysterectomy. In these women, estrogen-only therapy after menopause may decrease the risk of breast cancer. There is an increased risk of stroke and heart and blood vessel disease in postmenopausal women who take estrogen after a hysterectomy. Selective estrogen receptor modulators Tamoxifen and raloxifene belong to the family of drugs called selective estrogen receptor modulators (SERMs). SERMs act like estrogen on some tissues in the body, but block the effect of estrogen on other tissues. Treatment with tamoxifen lowers the risk of estrogen receptor-positive (ER-positive) breast cancer and ductal carcinoma in situ in premenopausal and postmenopausal women at high risk. Treatment with raloxifene also lowers the risk of breast cancer in postmenopausal women. With either drug, the reduced risk lasts for several years or longer after treatment is stopped. Lower rates of broken bones have been noted in patients taking raloxifene. Taking tamoxifen increases the risk of hot flashes, endometrial cancer, stroke, cataracts, and blood clots (especially in the lungs and legs). The risk of having these problems increases markedly in women older than 50 years compared with younger women. Women younger than 50 years who have a high risk of breast cancer may benefit the most from taking tamoxifen. The risk of having these problems decreases after tamoxifen is stopped. Talk with your doctor about the risks and benefits of taking this drug. Taking raloxifene increases the risk of blood clots in the lungs and legs, but does not appear to increase the risk of endometrial cancer. In postmenopausal women with osteoporosis (decreased bone density), raloxifene lowers the risk of breast cancer for women who have a high or low risk of breast cancer. It is not known if raloxifene would have the same effect in women who do not have osteoporosis. Talk with your doctor about the risks and benefits of taking this drug. Other SERMs are being studied in clinical trials. Aromatase inhibitors and inactivators Aromatase inhibitors (anastrozole, letrozole) and inactivators (exemestane) lower the risk of recurrence and of new breast cancers in women who have a history of breast cancer. Aromatase inhibitors also decrease the risk of breast cancer in women with the following conditions: - Postmenopausal women with a personal history of breast cancer. - Women with no personal history of breast cancer who are 60 years and older, have a history of ductal carcinoma in situ with mastectomy, or have a high risk of breast cancer based on the Gail model tool (a tool used to estimate the risk of breast cancer). In women with an increased risk of breast cancer, taking aromatase inhibitors decreases the amount of estrogen made by the body. Before menopause, estrogen is made by the ovaries and other tissues in a woman\\'s body, including the brain, fat tissue, and skin. After menopause, the ovaries stop making estrogen, but the other tissues do not. Aromatase inhibitors block the action of an enzyme called aromatase, which is used to make all of the body\\'s estrogen. Aromatase inactivators stop the enzyme from working. Possible harms from taking aromatase inhibitors include muscle and joint pain, osteoporosis, hot flashes, and feeling very tired. Risk-reducing mastectomy Some women who have a high risk of breast cancer may choose to have a risk-reducing mastectomy (the removal of both breasts when there are no signs of cancer). The risk of breast cancer is much lower in these women and most feel less anxious about their risk of breast cancer. However, it is very important to have a cancer risk assessment and counseling about the different ways to prevent breast cancer before making this decision. Ovarian ablation The ovaries make most of the estrogen that is made by the body. Treatments that stop or lower the amount of estrogen made by the ovaries include surgery to remove the ovaries, radiation therapy, or taking certain drugs. This is called ovarian ablation. Premenopausal women who have a high risk of breast cancer due to certain changes in the BRCA1 and BRCA2 genes may choose to have a risk-reducing oophorectomy (the removal of both ovaries when there are no signs of cancer). This decreases the amount of estrogen made by the body and lowers the risk of breast cancer. Risk-reducing oophorectomy also lowers the risk of breast cancer in normal premenopausal women and in women with an increased risk of breast cancer due to radiation to the chest. However, it is very important to have a cancer risk assessment and counseling before making this decision. The sudden drop in estrogen levels may cause the symptoms of menopause to begin. These include hot flashes, trouble sleeping, anxiety, and depression. Long-term effects include decreased sex drive, vaginal dryness, and decreased bone density. Getting enough exercise Women who exercise four or more hours a week have a lower risk of breast cancer. The effect of exercise on breast cancer risk may be greatest in premenopausal women who have normal or low body weight. It is not clear whether the following affect the risk of breast cancer: Oral contraceptives Certain oral contraceptives contain estrogen. Some studies have shown that taking oral contraceptives (\"the pill\") may slightly increase the risk of breast cancer in current users. This risk decreases over time. Other studies have not shown an increased risk of breast cancer in women who take oral contraceptives. Progestin -only contraceptives that are injected or implanted do not appear to increase the risk of breast cancer. More studies are needed to know whether progestin-only oral contraceptives increase the risk of breast cancer. Environment Studies have not proven that being exposed to certain substances in the environment, such as chemicals, increases the risk of breast cancer. Studies have shown that some factors do not affect the risk of breast cancer. The following do not affect the risk of breast cancer: - Having an abortion. - Making diet changes such as eating less fat or more fruits and vegetables. - Taking vitamins, including fenretinide (a type of vitamin A). - Cigarette smoking, both active and passive (inhaling secondhand smoke). - Using underarm deodorant or antiperspirant. - Taking statins (cholesterol -lowering drugs). - Taking bisphosphonates (drugs used to treat osteoporosis and hypercalcemia) by mouth or by intravenous infusion. Cancer prevention clinical trials are used to study ways to prevent cancer. Cancer prevention clinical trials are used to study ways to lower the risk of developing certain types of cancer. Some cancer prevention trials are conducted with healthy people who have not had cancer but who have an increased risk for cancer. Other prevention trials are conducted with people who have had cancer and are trying to prevent another cancer of the same type or to lower their chance of developing a new type of cancer. Other trials are done with healthy volunteers who are not known to have any risk factors for cancer. The purpose of some cancer prevention clinical trials is to find out whether actions people take can prevent cancer. These may include exercising more or quitting smoking or taking certain medicines, vitamins, minerals, or food supplements. New ways to prevent breast cancer are being studied in clinical trials.\\n<question>Who is at risk for Breast Cancer? ?<answer>What Is Cancer Prevention? Cancer prevention is action taken to lower the chance of getting cancer. By preventing cancer, the number of new cases of cancer in a group or population is lowered. Hopefully, this will lower the number of deaths caused by cancer. When studying ways to prevent cancer, scientists look at risk factors and protective factors. Anything that increases your chance of developing cancer is called a cancer risk factor. Anything that decreases your chance of developing cancer is called a cancer protective factor. Risk Factors Some risk factors for cancer can be avoided, but many cannot. For example, both smoking and inheriting certain genes are risk factors for some types of cancer, but only smoking can be avoided. Regular exercise and a healthy diet may be protective factors for some types of cancer. Avoiding risk factors and increasing protective factors may lower your risk but it does not mean that you will not get cancer. Different ways to prevent cancer are being studied, including - changing lifestyle or eating habits - avoiding things known to cause cancer - taking medicine to treat a precancerous condition or to keep cancer from starting. changing lifestyle or eating habits avoiding things known to cause cancer taking medicine to treat a precancerous condition or to keep cancer from starting. (For more on risk factors, see the chapter on \"Risk Factors.\") Here are protective factors for breast cancer. Less Exposure to Estrogen Decreasing the length of time a woman\\'s breast tissue is exposed to estrogen may help lower her risk of developing breast cancer. Exposure to estrogen is reduced in the following ways. - Early pregnancy. Estrogen levels are lower during pregnancy. Women who have a full-term pregnancy before age 20 have a lower risk of breast cancer than women who have not had children or who give birth to their first child after age 35. - Breast-feeding. Estrogen levels may remain lower while a woman is breast-feeding. Women who breastfed have a lower risk of breast cancer than women who have had children but did not breastfeed. - Surgical removal of the ovaries. The ovaries make estrogen. The amount of estrogen made by the body can be greatly reduced by removing one or both ovaries. Also, drugs may be taken to lower the amount of estrogen made by the ovaries. - Late menstruation. Menstrual periods that start at age 14 or older decreases the number of years the breast tissue is exposed to estrogen. - Early menopause. The fewer years a woman menstruates, the shorter the time her breast tissue is exposed to estrogen. Early pregnancy. Estrogen levels are lower during pregnancy. Women who have a full-term pregnancy before age 20 have a lower risk of breast cancer than women who have not had children or who give birth to their first child after age 35. Breast-feeding. Estrogen levels may remain lower while a woman is breast-feeding. Women who breastfed have a lower risk of breast cancer than women who have had children but did not breastfeed. Surgical removal of the ovaries. The ovaries make estrogen. The amount of estrogen made by the body can be greatly reduced by removing one or both ovaries. Also, drugs may be taken to lower the amount of estrogen made by the ovaries. Late menstruation. Menstrual periods that start at age 14 or older decreases the number of years the breast tissue is exposed to estrogen. Early menopause. The fewer years a woman menstruates, the shorter the time her breast tissue is exposed to estrogen. Exercise Women who exercise four or more hours a week have a lower risk of breast cancer. The effect of exercise on breast cancer risk may be greatest in premenopausal women who have normal or low body weight. Learn more about the benefits of exercise for older adults. For exercises tailored to older adults, visit Go4Life, the exercise and physical activity campaign from the National Institute on Aging (NIA) at NIH. Estrogen-only Hormone Therapy After Hysterectomy Hormone therapy with estrogen only may be given to women who have had a hysterectomy. In these women, estrogen-only therapy after menopause may decrease the risk of breast cancer. There is an increased risk of stroke and heart and blood vessel disease in postmenopausal women who take estrogen after a hysterectomy. Learn about menopausal hormone therapy and cancer. Selective Estrogen Receptor Modulators (SERMs) Tamoxifen and raloxifene belong to the family of drugs called selective estrogen receptor modulators (SERMs). SERMs act like estrogen on some tissues in the body, but block the effect of estrogen on other tissues. Treatment with tamoxifen or raloxifene lowers the risk of breast cancer in postmenopausal women. Tamoxifen also lowers the risk of breast cancer in high-risk premenopausal women. With either drug, the reduced risk lasts for several years after treatment is stopped. Lower rates of broken bones have been noted in patients taking raloxifene. Prophylactic Mastectomy Some women who have a high risk of breast cancer may choose to have a prophylactic mastectomy (the removal of both breasts when there are no signs of cancer). The risk of breast cancer is much lower in these women and most feel less anxious about their risk of breast cancer. However, it is very important to have cancer risk assessment and counseling about the different ways to prevent breast cancer before making this decision. Learn more about surgery to reduce the risk of breast cancer. Prophylactic Oophorectomy Premenopausal women who have a high risk of breast cancer due to certain changes in the BRCA1 and BRCA2 genes may choose to have a prophylactic oophorectomy (the removal of both ovaries when there are no signs of cancer). This decreases the amount of estrogen made by the body and lowers the risk of breast cancer. Prophylactic oophorectomy also lowers the risk of breast cancer in normal premenopausal women and in women with an increased risk of breast cancer due to radiation to the chest. However, it is very important to have cancer risk assessment and counseling before making this decision. The sudden drop in estrogen levels may cause the symptoms of menopause to begin. These include hot flashes, trouble sleeping, anxiety, and depression. Long-term effects include decreased sex drive, vaginal dryness, and decreased bone density. Unclear As Risk Factors It is not clear whether the following affect the risk of breast cancer. - Oral contraceptives. Taking oral contraceptives (\"the pill\") may slightly increase the risk of breast cancer in current users. This risk decreases over time. Some oral contraceptives contain estrogen. Progestin-only contraceptives that are injected or implanted do not appear to increase the risk of breast cancer. - Environment. Studies have not proven that being exposed to certain substances in the environment, such as chemicals, increases the risk of breast cancer. Oral contraceptives. Taking oral contraceptives (\"the pill\") may slightly increase the risk of breast cancer in current users. This risk decreases over time. Some oral contraceptives contain estrogen. Progestin-only contraceptives that are injected or implanted do not appear to increase the risk of breast cancer. Environment. Studies have not proven that being exposed to certain substances in the environment, such as chemicals, increases the risk of breast cancer. For More Information Clinical trials are taking place in many parts of the country. Information about clinical trials can be found at http://www.cancer.gov/clinicaltrials on the website of the National Cancer Institute (NCI). Check NCI\\'s list of cancer clinical trials for breast cancer prevention trials that are now accepting patients.\\n<question>What is (are) Breast Cancer ?<answer>One definition of cure is being alive and free of breast cancer for 5 years. If the cancer is found early, a woman\\'s chances of survival are better. In fact, nearly 98 percent of women who discover their breast cancer when it is near the site of origin and still small in size are alive 5 years later. However, women whose cancer is diagnosed at a late stage, after it has spread to other parts of the body, have only a 23.3 percent chance of surviving 5 years. To learn more about what happens after treatment, see Surviving Cancer.\\n<question>What is (are) Breast Cancer ?<answer>When cancer spreads from its original location in the breast to another part of the body such as the brain, it is called metastatic breast cancer, not brain cancer. Doctors sometimes call this \"distant\" disease.\\n<question>What is (are) Prostate Cancer ?<answer>The body is made up of many types of cells. Normally, cells grow, divide, and produce more cells as needed to keep the body healthy. Sometimes, however, the process goes wrong -- cells become abnormal and form more cells in an uncontrolled way. These extra cells form a mass of tissue, called a growth or tumor. Tumors can be benign, which means not cancerous, or malignant, which means cancerous.\\n<question>what research (or clinical trials) is being done for Prostate Cancer ?<answer>New types of treatment are being tested in clinical trials. This summary section describes treatments that are being studied in clinical trials. It may not mention every new treatment being studied. Information about clinical trials is available from the NCI website. Cryosurgery Cryosurgery is a treatment that uses an instrument to freeze and destroy prostate cancer cells. Ultrasound is used to find the area that will be treated. This type of treatment is also called cryotherapy. Cryosurgery can cause impotence and leakage of urine from the bladder or stool from the rectum. High-intensityfocused ultrasound therapy High-intensityfocused ultrasound therapy is a treatment that uses ultrasound (high-energy sound waves) to destroy cancer cells. To treat prostate cancer, an endorectal probe is used to make the sound waves. Proton beam radiation therapy Proton beam radiation therapy is a type of high-energy, external radiation therapy that targets tumors with streams of protons (small, positively charged particles). This type of radiation therapy is being studied in the treatment of prostate cancer. Patients may want to think about taking part in a clinical trial. For some patients, taking part in a clinical trial may be the best treatment choice. Clinical trials are part of the cancer research process. Clinical trials are done to find out if new cancer treatments are safe and effective or better than the standard treatment. Many of today\\'s standard treatments for cancer are based on earlier clinical trials. Patients who take part in a clinical trial may receive the standard treatment or be among the first to receive a new treatment. Patients who take part in clinical trials also help improve the way cancer will be treated in the future. Even when clinical trials do not lead to effective new treatments, they often answer important questions and help move research forward. Patients can enter clinical trials before, during, or after starting their cancer treatment. Some clinical trials only include patients who have not yet received treatment. Other trials test treatments for patients whose cancer has not gotten better. There are also clinical trials that test new ways to stop cancer from recurring (coming back) or reduce the side effects of cancer treatment. Clinical trials are taking place in many parts of the country. See the Treatment Options section that follows for links to current treatment clinical trials. These have been retrieved from NCI\\'s listing of clinical trials.\\n<question>What are the treatments for Prostate Cancer ?<answer>With watchful waiting, a man\\'s condition is closely monitored, but treatment does not begin until symptoms appear or change. The doctor may suggest watchful waiting for some men who have prostate cancer that is found at an early stage and appears to be growing slowly. Also, watchful waiting may be advised for older men or men with other serious medical problems. For these men, the risks and possible side effects of surgery, radiation therapy, or hormonal therapy may outweigh the possible benefits. Doctors monitor these patients with regular check-ups. If symptoms appear or get worse, the doctor may recommend active treatment.\\n<question>What is (are) Prostate Cancer ?<answer>Key Points - Prostate cancer is a disease in which malignant (cancer) cells form in the tissues of the prostate. - Signs of prostate cancer include a weak flow of urine or frequent urination. - Tests that examine the prostate and blood are used to detect (find) and diagnose prostate cancer. - Certain factors affect prognosis (chance of recovery) and treatment options. Prostate cancer is a disease in which malignant (cancer) cells form in the tissues of the prostate. The prostate is a gland in the male reproductive system. It lies just below the bladder (the organ that collects and empties urine) and in front of the rectum (the lower part of the intestine). It is about the size of a walnut and surrounds part of the urethra (the tube that empties urine from the bladder). The prostate gland makes fluid that is part of the semen. Prostate cancer is most common in older men. In the U.S., about 1 out of 5 men will be diagnosed with prostate cancer.\\n<question>How to prevent Stroke ?<answer>Taking action to control your risk factors can help prevent or delay a stroke. If youve already had a stroke, these actions can help prevent another one. Be physically active. Physical activity can improve your fitness level and health. Talk with your doctor about what types and amounts of activity are safe for you. Dont smoke, or if you smoke or use tobacco, quit. Smoking can damage and tighten blood vessels and raise your risk of stroke. Talk with your doctor about programs and products that can help you quit. Also, secondhand smoke can damage the bloodvessels. Maintain a healthy weight. If youre overweight or obese, work with your doctor to create a reasonable weight loss plan. Controlling your weight helps you control risk factors for stroke. Make heart-healthy eating choices. Heart-healthy eating can help lower your risk or prevent a stroke. Manage stress. Use techniques to lower your stress levels. If you or someone in your family has had a stroke, be sure to tell your doctor. By knowing your family history of stroke, you may be able to lower your risk factors and prevent or delay a stroke. If youve had a transient ischemic attack (TIA), dont ignore it. TIAs are warnings, and its important for your doctor to find the cause of the TIA so you can take steps to prevent a stroke.\\n<question>What causes Stroke ?<answer>Ischemic Stroke and Transient Ischemic Attack An ischemic stroke or transient ischemic attack (TIA) occurs if an artery that supplies oxygen-rich blood to the brain becomes blocked. Many medical conditions can increase the risk of ischemic stroke or TIA. For example, atherosclerosis (ath-er-o-skler-O-sis) is a disease in which a fatty substance called plaque builds up on the inner walls of the arteries. Plaque hardens and narrows the arteries, which limits the flow of blood to tissues and organs (such as the heart and brain). Plaque in an artery can crack or rupture (break open). Blood platelets (PLATE-lets), which are disc-shaped cell fragments, stick to the site of the plaque injury and clump together to form blood clots. These clots can partly or fully block an artery. Plaque can build up in any artery in the body, including arteries in the heart, brain, and neck. The two main arteries on each side of the neck are called the carotid (ka-ROT-id) arteries. These arteries supply oxygen-rich blood to the brain, face, scalp, and neck. When plaque builds up in the carotid arteries, the condition is called carotid artery disease. Carotid artery disease causes many of the ischemic strokes and TIAs that occur in the United States. An embolic stroke (a type of ischemic stroke) or TIA also can occur if a blood clot or piece of plaque breaks away from the wall of an artery. The clot or plaque can travel through the bloodstream and get stuck in one of the brains arteries. This stops blood flow through the artery and damages brain cells. Heart conditions and blood disorders also can cause blood clots that can lead to a stroke or TIA. For example, atrial fibrillation (A-tre-al fi-bri-LA-shun), or AF, is a common cause of embolic stroke. In AF, the upper chambers of the heart contract in a very fast and irregular way. As a result, some blood pools in the heart. The pooling increases the risk of blood clots forming in the heart chambers. An ischemic stroke or TIA also can occur because of lesions caused by atherosclerosis. These lesions may form in the small arteries of the brain, and they can block blood flow to the brain. Hemorrhagic Stroke Sudden bleeding in the brain can cause a hemorrhagic stroke. The bleeding causes swelling of the brain and increased pressure in the skull. The swelling and pressure damage brain cells and tissues. Examples of conditions that can cause a hemorrhagic stroke include high blood pressure, aneurysms, and arteriovenous (ar-TEER-e-o-VE-nus) malformations (AVMs). \"Blood pressure\" is the force of blood pushing against the walls of the arteries as the heart pumps blood. If blood pressure rises and stays high over time, it can damage the body in many ways. Aneurysms are balloon-like bulges in an artery that can stretch and burst. AVMs are tangles of faulty arteries and veins that can rupture within the brain. High blood pressure can increase the risk of hemorrhagic stroke in people who have aneurysms or AVMs.\\n<question>What are the treatments for Stroke ?<answer>Treatment for a stroke depends on whether it is ischemic or hemorrhagic. Treatment for a transient ischemic attack (TIA) depends on its cause, how much time has passed since symptoms began, and whether you have other medical conditions. Strokes and TIAs are medical emergencies. If you have stroke symptoms, call 911 right away. Do not drive to the hospital or let someone else drive you. Call an ambulance so that medical personnel can begin lifesaving treatment on the way to the emergency room. During a stroke, every minute counts. Once you receive immediate treatment, your doctor will try to treat your stroke risk factors and prevent complications by recommending heart-healthy lifestyle changes. Treating an Ischemic Stroke or Transient Ischemic Attack An ischemic stroke or TIA occurs if an artery that supplies oxygen-rich blood to the brain becomes blocked. Often, blood clots cause the blockages that lead to ischemic strokes and TIAs. Treatment for an ischemic stroke or TIA may include medicines and medical procedures. Medicines If you have a stroke caused by a blood clot, you may be given a clot-dissolving, or clot-busting, medication called tissue plasminogen activator (tPA). A doctor will inject tPA into a vein in your arm. This type of medication must be given within 4hours of symptom onset. Ideally, it should be given as soon as possible. The sooner treatment begins, the better your chances of recovery. Thus, its important to know the signs and symptoms of a stroke and to call 911 right away for emergency care. If you cant have tPA for medical reasons, your doctor may give you antiplatelet medicine that helps stop platelets from clumping together to form blood clots or anticoagulant medicine (blood thinner) that keeps existing blood clots from getting larger. Two common medicines are aspirin and clopidogrel. Medical Procedures If you have carotid artery disease, your doctor may recommend a carotid endarterectomy or carotid arteryangioplasty. Both procedures open blocked carotid arteries. Researchers are testing other treatments for ischemic stroke, such as intra-arterial thrombolysis and mechanical clot removal in cerebral ischemia (MERCI). In intra-arterial thrombolysis, a long flexible tube called a catheter is put into your groin (upper thigh) and threaded to the tiny arteries of the brain. Your doctor can deliver medicine through this catheter to break up a blood clot in the brain. MERCI is a device that can remove blood clots from an artery. During the procedure, a catheter is threaded through a carotid artery to the affected artery in the brain. The device is then used to pull the blood clot out through the catheter. Treating a Hemorrhagic Stroke A hemorrhagic stroke occurs if an artery in the brain leaks blood or ruptures. The first steps in treating a hemorrhagic stroke are to find the cause of bleeding in the brain and then control it. Unlike ischemic strokes, hemorrhagic strokes arent treated with antiplatelet medicines and blood thinners because these medicines can make bleeding worse. If youre taking antiplatelet medicines or blood thinners and have a hemorrhagic stroke, youll be taken off the medicine. If high blood pressure is the cause of bleeding in the brain, your doctor may prescribe medicines to lower your blood pressure. This can help prevent further bleeding. Surgery also may be needed to treat a hemorrhagic stroke. The types of surgery used include aneurysm clipping, coil embolization, and arteriovenous malformation (AVM) repair. Aneurysm Clipping and Coil Embolization If an aneurysm (a balloon-like bulge in an artery) is the cause of a stroke, your doctor may recommend aneurysm clipping or coil embolization. Aneurysm clipping is done to block off the aneurysm from the blood vessels in the brain. This surgery helps prevent further leaking of blood from the aneurysm. It also can help prevent the aneurysm from bursting again.During the procedure, a surgeon will make an incision (cut) in the brain and place a tiny clamp at the base of the aneurysm. Youll be given medicine to make you sleep during the surgery. After the surgery, youll need to stay in the hospitals intensive care unit for a few days. Coil embolization is a less complex procedure for treating an aneurysm. The surgeon will insert a tube called a catheter into an artery in the groin. He or she will thread the tube to the site of the aneurysm.Then, a tiny coil will be pushed through the tube and into the aneurysm. The coil will cause a blood clot to form, which will block blood flow through the aneurysm and prevent it from burstingagain.Coil embolization is done in a hospital. Youll be given medicine to make you sleep during thesurgery. Arteriovenous Malformation Repair If an AVM is the cause of a stroke, your doctor may recommend an AVM repair. (An AVM is a tangle of faulty arteries and veins that can rupture within the brain.) AVM repair helps prevent further bleeding in the brain. Doctors use several methods to repair AVMs. These methods include: Injecting a substance into the blood vessels of the AVM to block blood flow Surgery to remove the AVM Using radiation to shrink the blood vessels of the AVM Treating Stroke Risk Factors After initial treatment for a stroke or TIA, your doctor will treat your risk factors. He or she may recommend heart-healthy lifestyle changes to help control your risk factors. Heart-healthy lifestyle changes may include: heart-healthy eating maintaining a healthy weight managing stress physical activity quitting smoking If lifestyle changes arent enough, you may need medicine to control your risk factors. Heart-Healthy Eating Your doctor may recommend heart-healthy eating, which should include: Fat-free or low-fat dairy products, such as skim milk Fish high in omega-3 fatty acids, such as salmon, tuna, and trout, about twice a week Fruits, such as apples, bananas, oranges, pears, and prunes Legumes, such as kidney beans, lentils, chickpeas, black-eyed peas, and lima beans Vegetables, such as broccoli, cabbage, and carrots Whole grains, such as oatmeal, brown rice, and corn tortillas When following a heart-healthy diet, you should avoid eating: A lot of red meat Palm and coconut oils Sugary foods and beverages Two nutrients in your diet make blood cholesterol levels rise: Saturated fatfound mostly in foods that come from animals Trans fat (trans fatty acids)found in foods made with hydrogenated oils and fats, such as stick margarine; baked goods, such as cookies, cakes, and pies; crackers; frostings; and coffee creamers. Some trans fats also occur naturally in animal fats and meats. Saturated fat raises your blood cholesterol more than anything else in your diet. When you follow a heart-healthy eating plan, only 5percent to 6percent of your daily calories should come from saturated fat. Food labels list the amounts of saturated fat. To help you stay on track, here are some examples: 1,200 calories a day 8 grams of saturated fat a day 1,500 calories a day 10 grams of saturated fat a day 1,800 calories a day 12 grams of saturated fat a day 2,000 calories a day 13 grams of saturated fat a day 2,500 calories a day 17 grams of saturated fat a day Not all fats are bad. Monounsaturated and polyunsaturated fats actually help lower blood cholesterol levels. Some sources of monounsaturated and polyunsaturated fats are: Avocados Corn, sunflower, and soybean oils Nuts and seeds, such as walnuts Olive, canola, peanut, safflower, and sesame oils Peanut butter Salmon and trout Tofu Sodium Try to limit the amount of sodium that you eat. This means choosing and preparing foods that are lower in salt and sodium. Try to use low-sodium and no added salt foods and seasonings at the table or while cooking. Food labels tell you what you need to know about choosing foods that are lower in sodium. Try to eat no more than 2,300 milligrams of sodium a day. If you have high blood pressure, you may need to restrict your sodium intake even more. Dietary Approaches to Stop Hypertension Your doctor may recommend the Dietary Approaches to Stop Hypertension (DASH) eating plan if you have high blood pressure. The DASH eating plan focuses on fruits, vegetables, whole grains, and other foods that are heart healthy and low in fat, cholesterol, and sodium and salt. The DASH eating plan is a good heart-healthy eating plan, even for those who dont have high blood pressure. Read more about DASH. Alcohol Try to limit alcohol intake. Too much alcohol can raise your blood pressure and triglyceride levels, a type of fat found in the blood. Alcohol also adds extra calories, which may cause weight gain. Men should have no more than two drinks containing alcohol a day. Women should have no more than one drink containing alcohol a day. One drink is: 12 ounces of beer 5 ounces of wine 1 ounces of liquor Maintaining a Healthy Weight Maintaining a healthy weight is important for overall health and can lower your risk for stroke. Aim for a Healthy Weight by following a heart-healthy eating plan and keeping physically active. Knowing your body mass index (BMI) helps you find out if youre a healthy weight in relation to your height and gives an estimate of your total body fat. To figure out your BMI, check out the National Heart, Lung, and Blood Institutes (NHLBI) online BMI calculator or talk to your doctor. A BMI: Below 18.5 is a sign that you are underweight. Between 18.5 and 24.9 is in the normal range. Between 25.0 and 29.9 is considered overweight. Of 30.0 or higher is considered obese. A general goal to aim for is a BMI of less than 25. Your doctor or health care provider can help you set an appropriate BMI goal. Measuring waist circumference helps screen for possible health risks. If most of your fat is around your waist rather than at your hips, youre at a higher risk for heart disease and type2 diabetes. This risk may be high with a waist size that is greater than 35 inches for women or greater than 40 inches for men. To learn how to measure your waist, visit Assessing Your Weight and Health Risk. If youre overweight or obese, try to lose weight. A loss of just 3 percent to 5 percent of your current weight can lower your triglycerides, blood glucose, and the risk of developing type 2 diabetes. Greater amounts of weight loss can improve blood pressure readings, lower LDL cholesterol, and increase HDL cholesterol. Managing Stress Learning how to manage stress, relax, and cope with problems can improve your emotional and physical health. Consider healthy stress-reducing activities, such as: A stress management program Meditation Physical activity Relaxation therapy Talking things out with friends or family Physical Activity Regular physical activity can lower many risk factors for stroke. Everyone should try to participate in moderate-intensity aerobic exercise at least 2hours and 30minutes per week or vigorous aerobic exercise for 1hour and 15minutes per week. Aerobic exercise, such as brisk walking, is any exercise in which your heart beats faster and you use more oxygen than usual. The more active you are, the more you will benefit. Participate in aerobic exercise for at least 10minutes at a time spread throughout the week. Talk with your doctor before you start a new exercise plan. Ask your doctor how much and what kinds of physical activity are safe for you. Read more about physical activity at: Physical Activity and Your Heart U.S. Department of Health and Human Services, 2008 Physical Activity Guidelines for Americans Quitting Smoking If you smoke or use tobacco, quit. Smoking can damage and tighten blood vessels and raise your risk for stroke. Talk with your doctor about programs and products that can help you quit. Also, try to avoid secondhand smoke. If you have trouble quitting smoking on your own, consider joining a support group. Many hospitals, workplaces, and community groups offer classes to help people quit smoking. For more information about how to quit smoking, visit Smoking and Your Heart.\\n<question>what research (or clinical trials) is being done for Stroke ?<answer>The National Institute of Neurological Disorders and Stroke (NINDS) conducts stroke research and clinical trials at its laboratories and clinics at the National Institutes of Health (NIH), and through grants to major medical institutions across the country. Currently, NINDS researchers are studying the mechanisms of stroke risk factors and the process of brain damage that results from stroke. Basic research has also focused on the genetics of stroke and stroke risk factors. Scientists are working to develop new and better ways to help the brain repair itself to restore important functions. New advances in imaging and rehabilitation have shown that the brain can compensate for function lost as a result of stroke.\\n<question>Who is at risk for Skin Cancer? ?<answer>Skin color and being exposed to sunlight can increase the risk of nonmelanoma skin cancer and actinic keratosis. Anything that increases your chance of getting a disease is called a risk factor. Having a risk factor does not mean that you will get cancer; not having risk factors doesnt mean that you will not get cancer. Talk with your doctor if you think you may be at risk. Risk factors for basal cell carcinoma and squamous cell carcinoma include the following: - Being exposed to natural sunlight or artificial sunlight (such as from tanning beds) over long periods of time. - Having a fair complexion, which includes the following: - Fair skin that freckles and burns easily, does not tan, or tans poorly. - Blue or green or other light-colored eyes. - Red or blond hair. - Having actinic keratosis. - Past treatment with radiation. - Having a weakened immune system. - Having certain changes in the genes that are linked to skin cancer. - Being exposed to arsenic.\\n<question>What is the outlook for Skin Cancer ?<answer>Certain factors affect prognosis (chance of recovery) and treatment options. The prognosis (chance of recovery) depends mostly on the stage of the cancer and the type of treatment used to remove the cancer. Treatment options depend on the following: - The stage of the cancer (whether it has spread deeper into the skin or to other places in the body). - The type of cancer. - The size of the tumor and what part of the body it affects. - The patients general health.\\n<question>what research (or clinical trials) is being done for Skin Cancer ?<answer>New types of treatment are being tested in clinical trials. Information about clinical trials is available from the NCI website. Treatment for skin cancer may cause side effects. For information about side effects caused by treatment for cancer, see our Side Effects page. Patients may want to think about taking part in a clinical trial. For some patients, taking part in a clinical trial may be the best treatment choice. Clinical trials are part of the cancer research process. Clinical trials are done to find out if new cancer treatments are safe and effective or better than the standard treatment. Many of today\\'s standard treatments for cancer are based on earlier clinical trials. Patients who take part in a clinical trial may receive the standard treatment or be among the first to receive a new treatment. Patients who take part in clinical trials also help improve the way cancer will be treated in the future. Even when clinical trials do not lead to effective new treatments, they often answer important questions and help move research forward. Patients can enter clinical trials before, during, or after starting their cancer treatment. Some clinical trials only include patients who have not yet received treatment. Other trials test treatments for patients whose cancer has not gotten better. There are also clinical trials that test new ways to stop cancer from recurring (coming back) or reduce the side effects of cancer treatment. Clinical trials are taking place in many parts of the country. See the Treatment Options section that follows for links to current treatment clinical trials. These have been retrieved from NCI\\'s listing of clinical trials.\\n<question>What is (are) Skin Cancer ?<answer>SPF is a sun protection rating. The SPF of a sunscreen is a measure of the time it takes to produce a sunburn in a person wearing sunscreen compared to the time it takes to produce a sunburn in a person not wearing sunscreen. This varies from person to person, so be sure to reapply sunscreen every 2-3 hours.\\n<question>What is (are) Alzheimer\\'s Disease ?<answer>Alzheimers disease is a brain disease that slowly destroys memory and thinking skills and, eventually, the ability to carry out the simplest tasks. It begins slowly and gets worse over time. Currently, it has no cure. A Common Cause of Dementia Alzheimers disease is the most common cause of dementia among older people. Dementia is a loss of thinking, remembering, and reasoning skills that interferes with a persons daily life and activities. Dementia ranges in severity from the mild stage, when it is just beginning to affect a persons functioning, to the severe stage, when the person must depend completely on others for basic care. Estimates vary, but experts suggest that more than 5 million Americans may have Alzheimer\\'s disease. Alzheimers is currently ranked as the sixth leading cause of death in the United States, but recent estimates indicate that the disorder may rank third, just behind heart disease and cancer, as a cause of death for older people Risk Increases With Age In most people with Alzheimers, symptoms first appear in their mid-60s, and the risk of developing the disease increases with age. While younger people -- in their 30s, 40s, and 50s -- may get Alzheimer\\'s disease, it is much less common. It is important to note that Alzheimer\\'s disease is not a normal part of aging. The course of Alzheimers diseasewhich symptoms appear and how quickly changes occurvaries from person to person. The time from diagnosis to death varies, too. It can be as little as 3 or 4 years if the person is over 80 years old when diagnosed or as long as 10 years or more if the person is younger. Memory Problems: One of the First Signs Memory problems are typically one of the first signs of Alzheimers disease, though initial symptoms may vary from person to person. A decline in other aspects of thinking, such as finding the right words, vision/spatial issues, and impaired reasoning or judgment, may also signal the very early stages of Alzheimers disease. People with Alzheimers have trouble doing everyday things like driving a car, cooking a meal, or paying bills. They may ask the same questions over and over, get lost easily, lose things or put them in odd places, and find even simple things confusing. Some people become worried, angry, or violent. Other Reasons for Memory Issues Not all people with memory problems have Alzheimers disease. Mild forgetfulness can be a normal part of aging. Some people may notice that it takes longer to learn new things, remember certain words, or find their glasses. Thats different from a serious memory problem, which makes it hard to do everyday things. Sometimes memory problems are related to health issues that are treatable. For example, medication side effects, vitamin B12 deficiency, head injuries, or liver or kidney disorders can lead to memory loss or possibly dementia. Emotional problems, such as stress, anxiety, or depression, can also make a person more forgetful and may be mistaken for dementia. Read more about causes of memory loss and how to keep your memory sharp. Mild Cognitive Impairment Some older people with memory or other thinking problems have a condition called mild cognitive impairment, or MCI. MCI can be an early sign of Alzheimers, but not everyone with MCI will develop Alzheimers disease. People with MCI have more memory problems than other people their age, but they can still take care of themselves and do their normal activities. Signs of MCI may include - losing things often - forgetting to go to events and appointments - having more trouble coming up with words than other people the same age. losing things often forgetting to go to events and appointments having more trouble coming up with words than other people the same age. If you or someone in your family thinks your forgetfulness is getting in the way of your normal routine, its time to see your doctor. Seeing the doctor when you first start having memory problems can help you find out whats causing your forgetfulness. Learn more about mild cognitive impairment (MCI). What Happens to the Brain in Alzheimers? Alzheimer\\'s disease is named after Dr. Alois Alzheimer, a German doctor. In 1906, Dr. Alzheimer noticed changes in the brain tissue of a woman who had died of an unusual mental illness. After she died, he examined her brain and found many abnormal clumps (now called amyloid plaques) and tangled bundles of fibers (now called neurofibrillary, or tau, tangles). Plaques and tangles in the brain are two of the main features of Alzheimer\\'s disease. Another is the loss of connections between nerve cells (neurons) in the brain. Neurons send messages between different parts of the brain, and from the brain to muscles and organs in the body. It seems likely that damage to the brain starts 10 years or more before memory or other thinking problems become obvious. During the earliest stage of Alzheimers, people are free of symptoms, but harmful changes are taking place in the brain. The damage at first appears to take place in cells of the hippocampus, the part of the brain essential in forming memories. Abnormal protein deposits form plaques and tangles in the brain. Once-healthy nerve cells stop functioning, lose connections with each other, and die. As more nerve cells die, other parts of the brain begin to shrink. By the final stage of Alzheimers, damage is widespread, and brain tissue has shrunk significantly. Get more details about Alzheimers disease.\\n<question>How to diagnose Alzheimer\\'s Disease ?<answer>The time from diagnosis of Alzheimers disease to death varies. It can be as little as 3 or 4 years if the person is over 80 years old when diagnosed or as long as 10 years or more if the person is younger.\\n<question>What are the symptoms of Alzheimer\\'s Disease ?<answer>Alzheimer\\'s disease varies from person to person so not everyone will have the same symptoms. Also, the disease progresses faster in some people than in others. In general, though, Alzheimers takes many years to develop and becomes increasingly severe over time. Memory Problems -- A Common Early Sign Memory problems are typically one of the first signs of Alzheimers disease. However, not all memory problems are caused by Alzheimers. If you or someone in your family thinks your forgetfulness is getting in the way of your normal routine, its time to see your doctor. He or she can find out whats causing these problems. A person in the early (mild) stage of Alzheimers disease may - find it hard to remember things - ask the same questions over and over - get lost in familiar places - lose things or put them in odd places - have trouble handling money and paying bills - take longer than normal to finish daily tasks - have some mood and personality changes. find it hard to remember things ask the same questions over and over get lost in familiar places lose things or put them in odd places have trouble handling money and paying bills take longer than normal to finish daily tasks have some mood and personality changes. Other thinking problems besides memory loss may be the first sign of Alzheimers disease. A person may have - trouble finding the right words - vision and spatial issues - impaired reasoning or judgment. trouble finding the right words vision and spatial issues impaired reasoning or judgment. See a chart that compares signs of Alzheimers disease with signs of normal aging. Later Signs of Alzheimers As Alzheimers disease progresses to the moderate stage, memory loss and confusion grow worse, and people may have problems recognizing family and friends. Other symptoms at this stage may include - difficulty learning new things and coping with new situations - trouble carrying out tasks that involve multiple steps, like getting dressed - impulsive behavior - forgetting the names of common things - hallucinations, delusions, or paranoia - wandering away from home. difficulty learning new things and coping with new situations trouble carrying out tasks that involve multiple steps, like getting dressed impulsive behavior forgetting the names of common things hallucinations, delusions, or paranoia wandering away from home. Symptoms of Severe Alzheimers As Alzheimers disease becomes more severe, people lose the ability to communicate. They may sleep more, lose weight, and have trouble swallowing. Often they are incontinentthey cannot control their bladder and/or bowels. Eventually, they need total care. Benefits of Early Diagnosis An early, accurate diagnosis of Alzheimer\\'s disease helps people and their families plan for the future. It gives them time to discuss care options, find support, and make legal and financial arrangements while the person with Alzheimers can still take part in making decisions. Also, even though no medicine or other treatment can stop or slow the disease, early diagnosis offers the best chance to treat the symptoms. How Alzheimers Is Diagnosed The only definitive way to diagnose Alzheimer\\'s disease is to find out whether plaques and tangles exist in brain tissue. To look at brain tissue, doctors perform a brain autopsy, an examination of the brain done after a person dies. Doctors can only make a diagnosis of \"possible\" or probable Alzheimers disease while a person is alive. Doctors with special training can diagnose Alzheimer\\'s disease correctly up to 90 percent of the time. Doctors who can diagnose Alzheimers include geriatricians, geriatric psychiatrists, and neurologists. A geriatrician specializes in the treatment of older adults. A geriatric psychiatrist specializes in mental problems in older adults. A neurologist specializes in brain and nervous system disorders. To diagnose Alzheimers disease, doctors may - ask questions about overall health, past medical problems, ability to carry out daily activities, and changes in behavior and personality - conduct tests to measure memory, problem solving, attention, counting, and language skills - carry out standard medical tests, such as blood and urine tests - perform brain scans to look for anything in the brain that does not look normal. ask questions about overall health, past medical problems, ability to carry out daily activities, and changes in behavior and personality conduct tests to measure memory, problem solving, attention, counting, and language skills carry out standard medical tests, such as blood and urine tests perform brain scans to look for anything in the brain that does not look normal. Test results can help doctors know if there are other possible causes of the person\\'s symptoms. For example, thyroid problems, drug reactions, depression, brain tumors, head injury, and blood-vessel disease in the brain can cause symptoms similar to those of Alzheimer\\'s. Many of these other conditions can be treated successfully. New Diagnostic Methods Being Studied Researchers are exploring new ways to help doctors diagnose Alzheimers disease earlier and more accurately. Some studies focus on changes in a persons memory, language, and other mental functions. Others look at changes in blood, spinal fluid, and brain-scan results that may detect Alzheimers years before symptoms appear. Watch a video that explains changes in diagnostic guidelines for Alzheimers.\\n<question>What is the outlook for Alzheimer\\'s Disease ?<answer>In very few families, people develop AD in their 30s, 40s, and 50s. This is known as \"early onset\" AD. These individuals have a mutation in one of three different inherited genes that causes the disease to begin at an earlier age. More than 90 percent of AD develops in people older than 65. This form of AD is called \"late-onset\" AD, and its development and pattern of damage in the brain is similar to that of early-onset AD. The course of this disease varies from person to person, as does the rate of decline. In most people with AD, symptoms first appear after age 65. We don\\'t yet completely understand the causes of late-onset AD, but they probably include genetic, environmental, and lifestyle factors. Although the risk of developing AD increases with age, AD and dementia symptoms are not a part of normal aging. There are also some forms of dementia that aren\\'t related to brain diseases such as AD, but are caused by systemic abnormalities such as metabolic syndrome, in which the combination of high blood pressure, high cholesterol, and diabetes causes confusion and memory loss.\\n<question>Who is at risk for Colorectal Cancer? ?<answer>Studies show that the following risk factors may increase a person\\'s chances of developing colorectal cancer: age, polyps, personal history, family history, and ulcerative colitis.\\n<question>What is (are) Colorectal Cancer ?<answer>Here are some of the tools used to detect colorectal cancer. - A fecal occult blood test, or FOBT, is a test used to check for hidden blood in the stool. Sometimes cancers or polyps can bleed, and FOBT can detect small amounts of bleeding. Newer, genetically-based stool tests are proving to be more accurate than older tests. A fecal occult blood test, or FOBT, is a test used to check for hidden blood in the stool. Sometimes cancers or polyps can bleed, and FOBT can detect small amounts of bleeding. Newer, genetically-based stool tests are proving to be more accurate than older tests. - A sigmoidoscopy is an examination of the rectum and lower colon -- or sigmoid colon -- using a lighted instrument called a sigmoidoscope. A sigmoidoscopy is an examination of the rectum and lower colon -- or sigmoid colon -- using a lighted instrument called a sigmoidoscope. - A colonoscopy is an examination of the rectum and the large intestine (but not the small intestine) using a lighted instrument called a colonoscope. A colonoscopy is an examination of the rectum and the large intestine (but not the small intestine) using a lighted instrument called a colonoscope. - A virtual colonoscopy, which requires the same preparation as a standard colonoscopy, is done with an external scanning machine as opposed to a device inserted into the colon. The colon does need to be inflated with gas for proper scanning. A virtual colonoscopy, which requires the same preparation as a standard colonoscopy, is done with an external scanning machine as opposed to a device inserted into the colon. The colon does need to be inflated with gas for proper scanning.\\n<question>What is (are) Colorectal Cancer ?<answer>Key Points - Colorectal cancer is a disease in which malignant (cancer) cells form in the tissues of the colon or the rectum. - Colorectal cancer is the second leading cause of death from cancer in the United States. Colorectal cancer is a disease in which malignant (cancer) cells form in the tissues of the colon or the rectum. The colon is part of the body\\'s digestive system. The digestive system removes and processes nutrients (vitamins, minerals, carbohydrates, fats, proteins, and water) from foods and helps pass waste material out of the body. The digestive system is made up of the mouth, throat, esophagus, stomach, and the small and large intestines. The colon (large bowel) is the first part of the large intestine and is about 5 feet long. Together, the rectum and anal canal make up the last part of the large intestine and are 6 to 8 inches long. The anal canal ends at the anus (the opening of the large intestine to the outside of the body). Cancer that begins in the colon is called colon cancer, and cancer that begins in the rectum is called rectal cancer. Cancer that affects either of these organs may also be called colorectal cancer. See the following PDQ summaries for more information about colorectal cancer: - Colorectal Cancer Screening - Colon Cancer Treatment - Rectal Cancer Treatment - Genetics of Colorectal Cancer Colorectal cancer is the second leading cause of death from cancer in the United States. The number of new colorectal cancer cases and the number of deaths from colorectal cancer are both decreasing a little bit each year. However, in adults younger than 50 years, the number of new colorectal cancer cases has slowly increased since 1998. The number of new colorectal cancers and deaths from colorectal cancer are higher in African Americans than in other races. Finding and treating colorectal cancer early may prevent death from colorectal cancer. Screening tests may be used to help find colorectal cancer.\\n<question>How many people are affected by Colorectal Cancer ?<answer>Colorectal cancer accounts for almost ten percent of all cancer deaths in the United States. The risk of developing colorectal cancer rises after age 50. It is common in both men and women.\\n<question>What is (are) Lung Cancer ?<answer>A person who has had lung cancer once is more likely to develop a second lung cancer compared to a person who has never had lung cancer. Second cancers arise in a different site than the original cancer. If the original cancer returns after treatment, it is considered recurrent, not a second cancer. Quitting smoking after lung cancer is diagnosed may prevent the development of a second lung cancer.\\n<question>Who is at risk for Lung Cancer? ?<answer>If you smoke cigarettes, you are at much higher risk for lung cancer than a person who has never smoked. The risk of dying from lung cancer is 23 times higher for men who smoke and 13 times higher for women who smoke than for people who have never smoked. Stopping smoking greatly reduces your risk for developing lung cancer. But after you stop, the risk goes down slowly. Ten years after the last cigarette, the risk of dying from lung cancer drops by 50 percent. Each U.S. state and territory has a free quitline to provide you with information and resources to help you quit smoking. To reach the quitline in your area, dial toll-free, 1-800-QUIT-NOW. (Watch the video to learn about the effect smoking can have on an older adult\\'s health. To enlarge the video, click the brackets in the lower right-hand corner. To reduce the video, press the Escape (Esc) button on your keyboard.)\\n<question>What is (are) Lung Cancer ?<answer>The body is made up of many types of cells. Normally, cells grow, divide, and produce more cells as needed to keep the body healthy and functioning properly. Sometimes, however, the process goes wrong -- cells become abnormal and form more cells in an uncontrolled way. These extra cells form a mass of tissue, called a growth or tumor. Tumors can be benign, meaning not cancerous, or malignant, meaning cancerous.\\n<question>How to prevent Lung Cancer ?<answer>Key Points - Avoiding risk factors and increasing protective factors may help prevent lung cancer. - The following are risk factors for lung cancer: - Cigarette, cigar, and pipe smoking - Secondhand smoke - Family history - HIV infection - Environmental risk factors - Beta carotene supplements in heavy smokers - The following are protective factors for lung cancer: - Not smoking - Quitting smoking - Lower exposure to workplace risk factors - Lower exposure to radon - It is not clear if the following decrease the risk of lung cancer: - Diet - Physical activity - The following do not decrease the risk of lung cancer: - Beta carotene supplements in nonsmokers - Vitamin E supplements - Cancer prevention clinical trials are used to study ways to prevent cancer. - New ways to prevent lung cancer are being studied in clinical trials. Avoiding risk factors and increasing protective factors may help prevent lung cancer. Avoiding cancer risk factors may help prevent certain cancers. Risk factors include smoking, being overweight, and not getting enough exercise. Increasing protective factors such as quitting smoking and exercising may also help prevent some cancers. Talk to your doctor or other health care professional about how you might lower your risk of cancer. The following are risk factors for lung cancer: Cigarette, cigar, and pipe smoking Tobacco smoking is the most important risk factor for lung cancer. Cigarette, cigar, and pipe smoking all increase the risk of lung cancer. Tobacco smoking causes about 9 out of 10 cases of lung cancer in men and about 8 out of 10 cases of lung cancer in women. Studies have shown that smoking low tar or low nicotine cigarettes does not lower the risk of lung cancer. Studies also show that the risk of lung cancer from smoking cigarettes increases with the number of cigarettes smoked per day and the number of years smoked. People who smoke have about 20 times the risk of lung cancer compared to those who do not smoke. Secondhand smoke Being exposed to secondhand tobacco smoke is also a risk factor for lung cancer. Secondhand smoke is the smoke that comes from a burning cigarette or other tobacco product, or that is exhaled by smokers. People who inhale secondhand smoke are exposed to the same cancer -causing agents as smokers, although in smaller amounts. Inhaling secondhand smoke is called involuntary or passive smoking. Family history Having a family history of lung cancer is a risk factor for lung cancer. People with a relative who has had lung cancer may be twice as likely to have lung cancer as people who do not have a relative who has had lung cancer. Because cigarette smoking tends to run in families and family members are exposed to secondhand smoke, it is hard to know whether the increased risk of lung cancer is from the family history of lung cancer or from being exposed to cigarette smoke. HIV infection Being infected with the human immunodeficiency virus (HIV), the cause of acquired immunodeficiency syndrome (AIDS), is linked with a higher risk of lung cancer. People infected with HIV may have more than twice the risk of lung cancer than those who are not infected. Since smoking rates are higher in those infected with HIV than in those not infected, it is not clear whether the increased risk of lung cancer is from HIV infection or from being exposed to cigarette smoke. Environmental risk factors - Radiation exposure: Being exposed to radiation is a risk factor for lung cancer. Atomic bomb radiation, radiation therapy, imaging tests, and radon are sources of radiation exposure: - Atomic bomb radiation: Being exposed to radiation after an atomic bomb explosion increases the risk of lung cancer. - Radiation therapy: Radiation therapy to the chest may be used to treat certain cancers, including breast cancer and Hodgkin lymphoma. Radiation therapy uses x-rays, gamma rays, or other types of radiation that may increase the risk of lung cancer. The higher the dose of radiation received, the higher the risk. The risk of lung cancer following radiation therapy is higher in patients who smoke than in nonsmokers. - Imaging tests: Imaging tests, such as CT scans, expose patients to radiation. Low-dose spiral CT scans expose patients to less radiation than higher dose CT scans. In lung cancer screening, the use of low-dose spiral CT scans can lessen the harmful effects of radiation. - Radon: Radon is a radioactive gas that comes from the breakdown of uranium in rocks and soil. It seeps up through the ground, and leaks into the air or water supply. Radon can enter homes through cracks in floors, walls, or the foundation, and levels of radon can build up over time. Studies show that high levels of radon gas inside the home or workplace increase the number of new cases of lung cancer and the number of deaths caused by lung cancer. The risk of lung cancer is higher in smokers exposed to radon than in nonsmokers who are exposed to it. In people who have never smoked, about 30% of deaths caused by lung cancer have been linked to being exposed to radon. - Workplace exposure: Studies show that being exposed to the following substances increases the risk of lung cancer: - Asbestos. - Arsenic. - Chromium. - Nickel. - Beryllium. - Cadmium. - Tar and soot. These substances can cause lung cancer in people who are exposed to them in the workplace and have never smoked. As the level of exposure to these substances increases, the risk of lung cancer also increases. The risk of lung cancer is even higher in people who are exposed and also smoke. - Air pollution: Studies show that living in areas with higher levels of air pollution increases the risk of lung cancer. Beta carotene supplements in heavy smokers Taking beta carotene supplements (pills) increases the risk of lung cancer, especially in smokers who smoke one or more packs a day. The risk is higher in smokers who have at least one alcoholic drink every day. The following are protective factors for lung cancer: Not smoking The best way to prevent lung cancer is to not smoke. Quitting smoking Smokers can decrease their risk of lung cancer by quitting. In smokers who have been treated for lung cancer, quitting smoking lowers the risk of new lung cancers. Counseling, the use of nicotine replacement products, and antidepressant therapy have helped smokers quit for good. In a person who has quit smoking, the chance of preventing lung cancer depends on how many years and how much the person smoked and the length of time since quitting. After a person has quit smoking for 10 years, the risk of lung cancer decreases 30% to 50%. See the following for more information on quitting smoking: - Tobacco (includes help with quitting) - Cigarette Smoking: Health Risks and How to Quit Lower exposure to workplace risk factors Laws that protect workers from being exposed to cancer-causing substances, such as asbestos, arsenic, nickel, and chromium, may help lower their risk of developing lung cancer. Laws that prevent smoking in the workplace help lower the risk of lung cancer caused by secondhand smoke. Lower exposure to radon Lowering radon levels may lower the risk of lung cancer, especially among cigarette smokers. High levels of radon in homes may be reduced by taking steps to prevent radon leakage, such as sealing basements. It is not clear if the following decrease the risk of lung cancer: Diet Some studies show that people who eat high amounts of fruits or vegetables have a lower risk of lung cancer than those who eat low amounts. However, since smokers tend to have less healthy diets than nonsmokers, it is hard to know whether the decreased risk is from having a healthy diet or from not smoking. Physical activity Some studies show that people who are physically active have a lower risk of lung cancer than people who are not. However, since smokers tend to have different levels of physical activity than nonsmokers, it is hard to know if physical activity affects the risk of lung cancer. The following do not decrease the risk of lung cancer: Beta carotene supplements in nonsmokers Studies of nonsmokers show that taking beta carotene supplements does not lower their risk of lung cancer. Vitamin E supplements Studies show that taking vitamin E supplements does not affect the risk of lung cancer. Cancer prevention clinical trials are used to study ways to prevent cancer. Cancer prevention clinical trials are used to study ways to lower the risk of developing certain types of cancer. Some cancer prevention trials are conducted with healthy people who have not had cancer but who have an increased risk for cancer. Other prevention trials are conducted with people who have had cancer and are trying to prevent another cancer of the same type or to lower their chance of developing a new type of cancer. Other trials are done with healthy volunteers who are not known to have any risk factors for cancer. The purpose of some cancer prevention clinical trials is to find out whether actions people take can prevent cancer. These may include eating fruits and vegetables, exercising, quitting smoking, or taking certain medicines, vitamins, minerals, or food supplements. New ways to prevent lung cancer are being studied in clinical trials. Clinical trials are taking place in many parts of the country. Information about clinical trials can be found in the Clinical Trials section of the NCI website. Check the list of NCI-supported cancer clinical trials for prevention trials for non-small cell lung cancer and small cell lung cancer that are now accepting patients. These include trials for quitting smoking.\\n<question>Who is at risk for Heart Failure? ?<answer>About 5.7 million people in the United States have heart failure. The number of people who have this condition is growing. Heart failure is more common in: People who are age 65 or older. Aging can weaken the heart muscle. Older people also may have had diseases for many years that led to heart failure. Heart failure is a leading cause of hospital stays among people on Medicare. Blacks are more likely to have heart failure than people of other races. Theyre also more likely to have symptoms at a younger age, have more hospital visits due to heart failure, and die from heart failure. People who areoverweight. Excess weight puts strain on the heart. Being overweight also increases your risk of heart disease and type 2diabetes. These diseases can lead to heart failure. People who have had a heart attack. Damage to the heart muscle from a heart attack and can weaken the heart muscle. Children who havecongenital heart defectsalso can develop heart failure. These defects occur if the heart, heart valves, or blood vessels near the heart dont form correctly while a baby is in the womb. Congenital heart defects can make the heart work harder. This weakens the heart muscle, which can lead to heart failure. Children dont have the same symptoms of heart failure or get the same treatments as adults. This Health Topic focuses on heart failure in adults.\\n<question>What causes Heart Failure ?<answer>Heart failure is caused by other diseases or conditions that damage the heart muscle such as coronary artery disease (including heart attacks), diabetes, and high blood pressure. Treating these problems can prevent or improve heart failure. Coronary Artery Disease Coronary artery disease is a leading cause of death in men and women. It happens when the arteries that supply blood to the heart become hardened and narrowed. High Blood Pressure High blood pressure is the force of blood pushing against the walls of the arteries. If this pressure rises and stays high over time, it can weaken your heart and lead to plaque buildup, which can then lead to heart failure. Diabetes Diabetes is characterized by having too much glucose, or sugar, in the blood for a long time. This can cause heart problems because high blood glucose can damage parts of the body such as the heart and blood vessels. This damage weakens the heart, often leading to heart failure. Other Diseases Other diseases and conditions also can lead to heart failure, such as - Cardiomyopathy (KAR-de-o-mi-OP-ah-thee), or heart muscle disease. Cardiomyopathy may be present at birth or caused by injury or infection. - Heart valve disease. Problems with the heart valves may be present at birth or caused by infection, heart attack, or damage from heart disease. - Arrhythmias (ah-RITH-me-ahs), or irregular heartbeats. These heart problems may be present at birth or caused by heart disease or heart defects. - Congenital (kon-JEN-ih-tal) heart defects. These problems with the heart\\'s structure are present at birth. Cardiomyopathy (KAR-de-o-mi-OP-ah-thee), or heart muscle disease. Cardiomyopathy may be present at birth or caused by injury or infection. Heart valve disease. Problems with the heart valves may be present at birth or caused by infection, heart attack, or damage from heart disease. Arrhythmias (ah-RITH-me-ahs), or irregular heartbeats. These heart problems may be present at birth or caused by heart disease or heart defects. Congenital (kon-JEN-ih-tal) heart defects. These problems with the heart\\'s structure are present at birth. Other Factors Other factors also can injure the heart muscle and lead to heart failure. Examples include - treatments for cancer, such as radiation and chemotherapy - thyroid disorders (having either too much or too little thyroid hormone in the body) - alcohol abuse or cocaine and other illegal drug use - HIV/AIDS - too much vitamin E. treatments for cancer, such as radiation and chemotherapy thyroid disorders (having either too much or too little thyroid hormone in the body) alcohol abuse or cocaine and other illegal drug use HIV/AIDS too much vitamin E. Sleep Apnea Heart damage from obstructive sleep apnea may worsen heart failure. Sleep apnea is a common disorder in which you have one or more pauses in breathing or shallow breaths while you sleep. Sleep apnea can deprive your heart of oxygen and increase its workload. Treating this sleep disorder might improve heart failure. Who Is at Risk? Heart failure can happen to almost anyone. It is the number one reason for hospitalization for people over age 65. Heart failure is more common in - people who are 65 years old or older - African-Americans - people who are overweight - people who have had a heart attack - men. people who are 65 years old or older African-Americans people who are overweight people who have had a heart attack men. Aging can weaken the heart muscle. Older people also may have had diseases for many years that led to heart failure. African Americans are more likely to have heart failure than people of other races. They\\'re also more likely to have symptoms at a younger age, have more hospital visits due to heart failure, and die from heart failure. Excess weight puts strain on the heart. Being overweight also increases your risk of heart disease and type 2 diabetes. These diseases can lead to heart failure. A history of a heart attack puts people at greater risk for heart failure. Men have a higher rate of heart failure than women.\\n<question>What causes Heart Failure ?<answer>Conditions that damage or overwork the heart muscle can cause heart failure. Over time, the heart weakens. It isnt able to fill with and/or pump blood as well as it should. As the heart weakens, certain proteins and substances might be released into the blood. These substances have a toxic effect on the heart and blood flow, and they worsen heart failure. Causes of heart failure include: Coronary heart disease Diabetes High blood pressure Other heart conditions or diseases Other factors Coronary Heart Disease Coronary heart disease is a condition in which a waxy substance called plaque builds up inside the coronary arteries. These arteries supply oxygen-rich blood to your heart muscle. Plaque narrows the arteries and reduces blood flow to your heart muscle. The buildup of plaque also makes it more likely that blood clots will form in your arteries. Blood clots can partially or completely block blood flow. Coronary heart disease can lead to chest pain or discomfort calledangina, aheart attack, and heart damage. Diabetes Diabetes is a disease in which the bodys blood glucose (sugar) level is too high. The body normally breaks down food into glucose and then carries it to cells throughout the body. The cells use a hormone called insulin to turn the glucose into energy. In diabetes, the body doesnt make enough insulin or doesnt use its insulin properly. Over time, high blood sugar levels can damage and weaken the heart muscle and the blood vessels around the heart, leading to heart failure. High Blood Pressure Blood pressure is the force of blood pushing against the walls of the arteries. If this pressure rises and stays high over time, it can weaken your heart and lead to plaque buildup. Blood pressure is considered high if it stays at or above 140/90 mmHg over time. (The mmHg is millimeters of mercurythe units used to measure blood pressure.) If you have diabetes or chronic kidney disease, high blood pressure is defined as 130/80 mmHg or higher. Other Heart Conditions or Diseases Other conditions and diseases also can lead to heart failure, such as: Arrhythmia. Happens when a problem occurs with the rate or rhythm of the heartbeat. Cardiomyopathy.Happens when the heart muscle becomes enlarged, thick, or rigid. Congenital heart defects. Problems with the hearts structure are present at birth. Heart valve disease. Occurs if one or more of your heart valves doesnt work properly, which can be present at birth or caused by infection, other heart conditions, and age. Other Factors Other factors also can injure the heart muscle and lead to heart failure. Examples include: Alcohol abuse or cocaine and other illegal drug use HIV/AIDS Thyroid disorders (having either too much or too little thyroid hormone in the body) Too much vitamin E Treatments for cancer, such as radiation and chemotherapy\\n<question>Who is at risk for Heart Failure? ?<answer>Heart failure is more common in - people who are 65 years old or older - African-Americans - people who are overweight - people who have had a heart attack - men. people who are 65 years old or older African-Americans people who are overweight people who have had a heart attack men. Aging can weaken the heart muscle. Older people also may have had diseases for many years that led to heart failure. African Americans are more likely to have heart failure than people of other races. They\\'re also more likely to have symptoms at a younger age, have more hospital visits due to heart failure, and die from heart failure. Excess weight puts strain on the heart. Being overweight also increases your risk of heart disease and type 2 diabetes. These diseases can lead to heart failure. A history of a heart attack puts people at greater risk for heart failure. Men have a higher rate of heart failure than women.\\n<question>How to diagnose Heart Attack ?<answer>Your doctor will diagnose a heart attack based on your signs and symptoms, your medical and family histories, and test results. Diagnostic Tests EKG (Electrocardiogram) An EKG is a simple, painless test that detects and records the heart\\'s electrical activity. The test shows how fast the heart is beating and its rhythm (steady or irregular). An EKG also records the strength and timing of electrical signals as they pass through each part of the heart. An EKG can show signs of heart damage due to coronary heart disease (CHD) and signs of a previous or current heart attack. Blood Tests During a heart attack, heart muscle cells die and release proteins into the bloodstream. Blood tests can measure the amount of these proteins in the bloodstream. Higher than normal levels of these proteins suggest a heart attack. Commonly used blood tests include troponin tests, CK or CKMB tests, and serum myoglobin tests. Blood tests often are repeated to check for changes over time. Coronary Angiography Coronary angiography (an-jee-OG-ra-fee) is a test that uses dye and special x rays to show the insides of your coronary arteries. This test often is done during a heart attack to help find blockages in the coronary arteries. To get the dye into your coronary arteries, your doctor will use a procedure called cardiac catheterization (KATH-e-ter-ih-ZA-shun). A thin, flexible tube called a catheter is put into a blood vessel in your arm, groin (upper thigh), or neck. The tube is threaded into your coronary arteries, and the dye is released into your bloodstream. Special x rays are taken while the dye is flowing through the coronary arteries. The dye lets your doctor study the flow of blood through the heart and blood vessels. If your doctor finds a blockage, he or she may recommend a procedure calledpercutaneous (per-ku-TA-ne-us) coronary intervention (PCI), sometimes referred to ascoronary angioplasty(AN-jee-oh-plas-tee). This procedure can help restore blood flow through a blocked artery. Sometimes a small mesh tube called a stent is placed in the artery to help prevent blockages after the procedure.\\n<question>What are the treatments for Heart Attack ?<answer>Heart attacks are a leading killer of both men and women in the United States. The good news is that excellent treatments are available for heart attacks. These treatments can save lives and prevent disabilities. Heart attack treatment works best when it\\'s given right after symptoms occur. Act Fast The signs and symptoms of a heart attack can develop suddenly. However, they also can develop slowlysometimes within hours, days, or weeks of a heart attack. Know the warning signs of a heart attack so you can act fast to get treatment for yourself or someone else. The sooner you get emergency help, the less damage your heart will sustain. Call 911 for an ambulance right away if you think you or someone else may be having a heart attack. You also should call for help if your chest pain doesn\\'t go away as it usually does when you take medicine prescribed for angina. Treatment May Start Right Away Treatment for a heart attack may begin in the ambulance or in the emergency department and continue in a special area of the hospital called a coronary care unit. Do not drive to the hospital or let someone else drive you. Call an ambulance so that medical personnel can begin life-saving treatment on the way to the emergency room. Restoring Blood Flow to the Heart The coronary care unit is specially equipped with monitors that continuously monitor your vital signs. These include - an EKG which detects any heart rhythm problems - a blood pressure monitor, and - pulse oximetry, which measures the amount of oxygen in the blood. an EKG which detects any heart rhythm problems a blood pressure monitor, and pulse oximetry, which measures the amount of oxygen in the blood. In the hospital, if you have had or are having a heart attack, doctors will work quickly to restore blood flow to your heart and continuously monitor your vital signs to detect and treat complications. Restoring blood flow to the heart can prevent or limit damage to the heart muscle and help prevent another heart attack. Doctors may use clot-busting drugs called thrombolytics and procedures such as angioplasty. - Clot-busters or thrombolytic drugs are used to dissolve blood clots that are blocking blood flow to the heart. When given soon after a heart attack begins, these drugs can limit or prevent permanent damage to the heart. To be most effective, these drugs must be given within one hour after the start of heart attack symptoms. - Angioplasty procedures are used to open blocked or narrowed coronary arteries. A stent, which is a tiny metal mesh tube, may be placed in the artery to help keep it open. Some stents are coated with medicines that help prevent the artery from becoming blocked again. - Coronary artery bypass surgery uses arteries or veins from other areas in your body to bypass your blocked coronary arteries. Clot-busters or thrombolytic drugs are used to dissolve blood clots that are blocking blood flow to the heart. When given soon after a heart attack begins, these drugs can limit or prevent permanent damage to the heart. To be most effective, these drugs must be given within one hour after the start of heart attack symptoms. Angioplasty procedures are used to open blocked or narrowed coronary arteries. A stent, which is a tiny metal mesh tube, may be placed in the artery to help keep it open. Some stents are coated with medicines that help prevent the artery from becoming blocked again. Coronary artery bypass surgery uses arteries or veins from other areas in your body to bypass your blocked coronary arteries. Drug Treatments Many medications are used to treat heart attacks. They include beta blockers, ACE inhibitors, nitrates, anticoagulants, antiplatelet medications, and medications to relieve pain and anxiety. - Beta blockers slow your heart rate and reduce your heart\\'s need for blood and oxygen. As a result, your heart beats with less force, and your blood pressure falls. Beta blockers are also used to relieve angina and prevent second heart attacks and correct an irregular heartbeat. - Angiotensin-converting enzyme or ACE inhibitors lower your blood pressure and reduce the strain on your heart. They are used in some patients after a heart attack to help prevent further weakening of the heart and increase the chances of survival. - Nitrates, such as nitroglycerin, relax blood vessels and relieve chest pain. Anticoagulants, such as heparin and warfarin, thin the blood and prevent clots from forming in your arteries. - >Antiplatelet medications, such as aspirin and clopidogrel, stop platelets from clumping together to form clots. They are given to people who have had a heart attack, have angina, or have had an angioplasty. - Glycoprotein llb-llla inhibitors are potent antiplatelet medications given intravenously to prevent clots from forming in your arteries. Beta blockers slow your heart rate and reduce your heart\\'s need for blood and oxygen. As a result, your heart beats with less force, and your blood pressure falls. Beta blockers are also used to relieve angina and prevent second heart attacks and correct an irregular heartbeat. Angiotensin-converting enzyme or ACE inhibitors lower your blood pressure and reduce the strain on your heart. They are used in some patients after a heart attack to help prevent further weakening of the heart and increase the chances of survival. Nitrates, such as nitroglycerin, relax blood vessels and relieve chest pain. Anticoagulants, such as heparin and warfarin, thin the blood and prevent clots from forming in your arteries. >Antiplatelet medications, such as aspirin and clopidogrel, stop platelets from clumping together to form clots. They are given to people who have had a heart attack, have angina, or have had an angioplasty. Glycoprotein llb-llla inhibitors are potent antiplatelet medications given intravenously to prevent clots from forming in your arteries. Doctors may also prescribe medications to relieve pain and anxiety, or to treat irregular heart rhythms which often occur during a heart attack. Echocardiogram and Stress Tests While you are still in the hospital or after you go home, your doctor may order other tests, such as an echocardiogram. An echocardiogram uses ultrasound to make an image of the heart which can be seen on a video monitor. It shows how well the heart is filling with blood and pumping it to the rest of the body. Your doctor may also order a stress test to see how well your heart works when it has a heavy workload. You run on a treadmill or pedal a bicycle or receive medicine through a vein in your arm to make your heart work harder. EKG and blood pressure readings are taken before, during, and after the test to see how your heart responds. Often, an echocardiogram or nuclear scan of the heart is performed before and after exercise or intravenous medication. The test is stopped if chest pain or a very sharp rise or fall in blood pressure occurs. Monitoring continues for 10 to 15 minutes after the test or until your heart rate returns to baseline.\\n<question>What are the symptoms of Heart Attack ?<answer>Most heart attacks involve discomfort in the center of the chest that lasts more than a few minutes or goes away and comes back. The discomfort can feel like uncomfortable pressure, squeezing, fullness, or pain. It can include pain or numbness in one or both arms, the back, neck, jaw, or stomach. Heart attack pain can sometimes feel like indigestion or heartburn. Shortness of breath often happens along with, or before chest discomfort. Other symptoms may include breaking out in a cold sweat, having nausea and vomiting, or feeling light-headed or dizzy. Symptoms vary, and some people have no symptoms. Know the symptoms of a heart attack so you can act fast to get treatment.\\n<question>What are the treatments for Heart Attack ?<answer>There are many medicines that are used to treat a heart attack. - Clot-busters or thrombolytic drugs dissolve blood clots that are blocking blood flow to the heart. - Beta blockers decrease the workload on your heart by slowing your heart rate. - Angiotensin-converting enzyme (ACE) inhibitors lower your blood pressure and reduce the strain on your heart. - Nitrates, such as nitroglycerin relax blood vessels and relieve chest pain. - Anticoagulants thin the blood and prevent clots from forming in your arteries. - Antiplatelet medications, such as aspirin and clopidogrel, stop platelets from clumping together to form clots. These medications are given to people who have had a heart attack, have angina, or have had angioplasty. Clot-busters or thrombolytic drugs dissolve blood clots that are blocking blood flow to the heart. Beta blockers decrease the workload on your heart by slowing your heart rate. Angiotensin-converting enzyme (ACE) inhibitors lower your blood pressure and reduce the strain on your heart. Nitrates, such as nitroglycerin relax blood vessels and relieve chest pain. Anticoagulants thin the blood and prevent clots from forming in your arteries. Antiplatelet medications, such as aspirin and clopidogrel, stop platelets from clumping together to form clots. These medications are given to people who have had a heart attack, have angina, or have had angioplasty. Doctors may also prescribe medicines to relieve pain and anxiety, or to treat irregular heart rhythms which often occur during a heart attack.\\n<question>What is (are) High Blood Cholesterol ?<answer>Cholesterol can build up in the walls of your arteries. This buildup of cholesterol is called plaque. Over time, the plaque can build up so much that the arteries become narrower. This is called atherosclerosis, or hardening of the arteries. It can slow down or block the flow of blood to your heart.\\n<question>What are the symptoms of High Blood Cholesterol ?<answer>High blood cholesterol usually has no signs or symptoms. Thus, many people don\\'t know that their cholesterol levels are too high. If you\\'re 20 years old or older, have your cholesterol levels checked at least once every 5 years. Talk with your doctor about how often you should be tested.\\n<question>What is (are) High Blood Cholesterol ?<answer>LDL stands for low-density lipoproteins. (Lipoproteins are molecules that carry cholesterol through your bloodstream.) LDL cholesterol is sometimes called bad cholesterol because it can build up in the walls of your arteries and make them narrower. This buildup of cholesterol is called plaque. Over time, plaque can build up so much that it narrows your arteries. This is called atherosclerosis or hardening of the arteries. The higher the level of LDL cholesterol in your blood, the greater your chances of getting heart disease.\\n<question>What is (are) High Blood Cholesterol ?<answer>You cannot control - heredity. High blood cholesterol can run in families. - age. As we get older, our cholesterol levels rise. - sex. Before menopause, women tend to have lower total cholesterol levels than men of the same age. After menopause, women\\'s LDL (bad) cholesterol levels tend to increase. heredity. High blood cholesterol can run in families. age. As we get older, our cholesterol levels rise. sex. Before menopause, women tend to have lower total cholesterol levels than men of the same age. After menopause, women\\'s LDL (bad) cholesterol levels tend to increase.\\n<question>How to diagnose High Blood Pressure ?<answer>For most patients, health care providers diagnose high blood pressure when blood pressure readings areconsistently 140/90 mmHg or above. Confirming High Blood Pressure A blood pressure test is easy and painless and can be done in a health care providers office or clinic. To prepare for the test: Dont drink coffee or smoke cigarettes for 30 minutes prior to the test. Go to the bathroom before the test. Sit for 5 minutes before the test. To track blood pressure readings over a period of time, the health care provider may ask you to come into the office on different days and at different times to take your blood pressure. The health care provider also may ask you to check readings at home or at other locations that have blood pressure equipment and to keep a written log of all your results. Whenever you have an appointment with the health care provider, be sure to bring your log of blood pressure readings. Every time you visit the health care provider, he or she should tell you what your blood pressure numbers are; if he or she does not, you should ask for your readings. Blood Pressure Severity and Type Your health care provider usually takes 23 readings at several medical appointments to diagnose high blood pressure. Using the results of your blood pressure test, your health care provider will diagnose prehypertension or high blood pressure if: Your systolic or diastolic readings are consistently higher than 120/80 mmHg. Your childs blood pressure numbers are outside average numbers for children of the same age, gender, and height. Once your health care provider determines the severity of your blood pressure, he or she can order additional tests to determine if your blood pressure is due to other conditions or medicines or if you have primary high blood pressure. Health care providers can use this information to develop your treatment plan. Some people have white coat hypertension. This happens when blood pressure readings are only high when taken in a health care providers office compared with readings taken in any other location. Health care providers diagnose this type of high blood pressure by reviewing readings in the office and readings taken anywhere else. Researchers believe stress, which can occur during the medical appointment, causes white coat hypertension.\\n<question>Who is at risk for High Blood Pressure? ?<answer>Not a Normal Part of Aging Nearly 1 in 3 American adults have high blood pressure. Many people get high blood pressure as they get older. However, getting high blood pressure is not a normal part of aging. There are things you can do to help keep your blood pressure normal, such as eating a healthy diet and getting more exercise. Risk Factors Anyone can develop high blood pressure. However, these factors can increase your risk for developing high blood pressure. - age - race or ethnicity - being overweight - gender - lifestyle habits - a family history of high blood pressure. age race or ethnicity being overweight gender lifestyle habits a family history of high blood pressure. Age Blood pressure tends to rise with age. In fact, about 65 percent of Americans age 60 or older have high blood pressure. Race/Ethnicity High blood pressure is more common in African American adults than in Caucasian or Hispanic American adults. Compared with these ethnic groups, African Americans - tend to get high blood pressure earlier in life - often have higher blood pressure numbers - are less likely to achieve target blood pressure goals with treatment. tend to get high blood pressure earlier in life often have higher blood pressure numbers are less likely to achieve target blood pressure goals with treatment. Overweight You are more likely to develop prehypertension or high blood pressure if youre overweight or obese. The terms overweight and obese refer to body weight thats greater than what is considered healthy for a certain height. Gender Before age 55, men are more likely than women to develop high blood pressure. After age 55, women are more likely than men to develop high blood pressure. Lifestyle Habits Unhealthy lifestyle habits can raise your risk for high blood pressure, and they include - eating too much sodium or too little potassium - lack of physical activity - drinking too much alcohol - smoking - stress. eating too much sodium or too little potassium lack of physical activity drinking too much alcohol smoking stress. Family History A family history of high blood pressure raises the risk of developing prehypertension or high blood pressure. Some people have a high sensitivity to sodium and salt, which may increase their risk for high blood pressure and may run in families. Genetic causes of this condition are why family history is a risk factor for this condition.\\n<question>What is (are) High Blood Pressure ?<answer>Blood pressure is the force of blood pushing against the walls of the blood vessels as the heart pumps blood. If your blood pressure rises and stays high over time, its called high blood pressure. High blood pressure is dangerous because it makes the heart work too hard, and the high force of the blood flow can harm arteries and organs such as the heart, kidneys, brain, and eyes.\\n<question>What is (are) High Blood Pressure ?<answer>Older adults should limit their sodium (salt) intake to 1,500 mg a day. That\\'s about 2/3 of a teaspoon of salt. Here are tips to reduce salt in your diet. - Buy fresh, plain frozen, or canned with no salt added vegetables. Choose foods packed in water instead of broth or salt. - Use fresh poultry, fish, and lean meat, rather than canned or processed types. - Use herbs, spices, and salt-free seasoning blends in cooking and at the table. - Cook rice, pasta, and hot cereal without salt. Cut back on instant or flavored rice, pasta, and cereal mixes, which usually have added salt. - Choose convenience foods that are low in sodium. Cut back on frozen dinners, pizza, packaged mixes, canned soups or broths, and salad dressingsthese often have a lot of sodium. - Rinse canned foods, such as tuna, to remove some sodium. - When available, buy low- or reduced-sodium or no-salt-added versions of foods. - Choose ready-to-eat breakfast cereals that are low in sodium. Buy fresh, plain frozen, or canned with no salt added vegetables. Choose foods packed in water instead of broth or salt. Use fresh poultry, fish, and lean meat, rather than canned or processed types. Use herbs, spices, and salt-free seasoning blends in cooking and at the table. Cook rice, pasta, and hot cereal without salt. Cut back on instant or flavored rice, pasta, and cereal mixes, which usually have added salt. Choose convenience foods that are low in sodium. Cut back on frozen dinners, pizza, packaged mixes, canned soups or broths, and salad dressingsthese often have a lot of sodium. Rinse canned foods, such as tuna, to remove some sodium. When available, buy low- or reduced-sodium or no-salt-added versions of foods. Choose ready-to-eat breakfast cereals that are low in sodium.\\n<question>What are the treatments for Parkinson\\'s Disease ?<answer>Deep Brain Stimulation Deep brain stimulation, or DBS, is a surgical procedure used to treat a variety of disabling disorders. It is most commonly used to treat the debilitating symptoms of Parkinsons disease. Deep brain stimulation uses an electrode surgically implanted into part of the brain. The electrodes are connected by a wire under the skin to a small electrical device called a pulse generator that is implanted in the chest. The pulse generator and electrodes painlessly stimulate the brain in a way that helps to stop many of the symptoms of Parkinson\\'s such as tremor, bradykinesia, and rigidity. DBS is primarily used to stimulate one of three brain regions: the subthalamic nucleus, the globus pallidus, or the thalamus. Researchers are exploring optimal generator settings for DBS, whether DBS of other brain regions will also improve symptoms of Parkinsons disease, and also whether DBS may slow disease progression. Deep brain stimulation usually reduces the need for levodopa and related drugs, which in turn decreases dyskinesias and other side effects. It also helps to relieve on-off fluctuation of symptoms. People who respond well to treatment with levodopa tend to respond well to DBS. Unfortunately, older people who have only a partial response to levodopa may not improve with DBS. Complementary and Supportive Therapies A wide variety of complementary and supportive therapies may be used for Parkinson\\'s disease. Among these therapies are standard physical, occupational, and speech therapies, which help with gait and voice disorders, tremors and rigidity, and decline in mental functions. Other supportive therapies include diet and exercise. Diet At this time there are no specific vitamins, minerals, or other nutrients that have any proven therapeutic value in Parkinson\\'s disease. Some early reports have suggested that dietary supplements might protect against Parkinson\\'s. Also, a preliminary clinical study of a supplement called coenzyme Q10 suggested that large doses of this substance might slow disease progression in people with early-stage Parkinson\\'s. This supplement is now being tested in a large clinical trial. Other studies are being conducted to find out if caffeine, antioxidants, nicotine, and other dietary factors may help prevent or treat the disease. While there is currently no proof that any specific dietary factor is beneficial, a normal, healthy diet can promote overall well-being for people with Parkinson\\'s disease, just as it would for anyone else. A high protein meal, however, may limit levodopa\\'s effectiveness because for a time afterwards less levodopa passes through the blood-brain barrier. Exercise Exercise can help people with Parkinson\\'s improve their mobility and flexibility. It can also improve their emotional well-being. Exercise may improve the brain\\'s dopamine production or increase levels of beneficial compounds called neurotrophic factors in the brain. Other Therapies Other complementary therapies include massage therapy, yoga, tai chi, hypnosis, acupuncture, and the Alexander technique, which improves posture and muscle activity. There have been limited studies suggesting mild benefits from some of these therapies, but they do not slow Parkinson\\'s disease and to date there is no convincing evidence that they help. However, this remains an active area of investigation.\\n<question>what research (or clinical trials) is being done for Parkinson\\'s Disease ?<answer>In recent years, research on Parkinson\\'s has advanced to the point that halting the progression of the disease, restoring lost function, and even preventing the disease are all considered realistic goals. While the goal of preventing Parkinson\\'s disease may take years to achieve, researchers are making great progress in understanding and treating it. Genetics Research One of the most exciting areas of Parkinson\\'s research is genetics. Studying the genes responsible for inherited cases can help researchers understand both inherited and sporadic cases of the disease. Identifying gene defects can also help researchers - understand how Parkinson\\'s occurs - develop animal models that accurately mimic the death of nerve cells in humans - identify new approaches to drug therapy - improve diagnosis. understand how Parkinson\\'s occurs develop animal models that accurately mimic the death of nerve cells in humans identify new approaches to drug therapy improve diagnosis. Researchers funded by the National Institute of Neurological Disorders and Stroke are gathering information and DNA samples from hundreds of families with members who have Parkinson\\'s and are conducting large-scale studies to identify gene variants that are associated with increased risk of developing the disease. They are also comparing gene activity in Parkinson\\'s with gene activity in similar diseases such as progressive supranuclear palsy. In addition to identifying new genes for Parkinson\\'s disease, researchers are trying to learn about the function of genes known to be associated with the disease, and about how gene mutations cause disease. Effects of Environmental Toxins Scientists continue to study environmental toxins such as pesticides and herbicides that can cause Parkinson\\'s symptoms in animals. They have found that exposing rodents to the pesticide rotenone and several other agricultural chemicals can cause cellular and behavioral changes that mimic those seen in Parkinson\\'s. Role of Lewy Bodies Other studies focus on how Lewy bodies form and what role they play in Parkinson\\'s disease. Some studies suggest that Lewy bodies are a byproduct of a breakdown that occurs within nerve cells, while others indicate that Lewy bodies are protective, helping neurons \"lock away\" abnormal molecules that might otherwise be harmful. Identifying Biomarkers Biomarkers for Parkinson\\'s -- measurable characteristics that can reveal whether the disease is developing or progressing -- are another focus of research. Such biomarkers could help doctors detect the disease before symptoms appear and improve diagnosis of the disease. They also would show if medications and other types of therapy have a positive or negative effect on the course of the disease. The National Disorders of Neurological Disorders and Stroke has developed an initiative, the Parkinsons Disease Biomarkers Identification Network (PD-BIN), designed specifically to address these questions and to discover and validate biomarkers for Parkinsons disease. Transcranial Therapies Researchers are conducting many studies of new or improved therapies for Parkinson\\'s disease. Studies are testing whether transcranial electrical polarization (TEP) or transcranial magnetic stimulation (TMS) can reduce the symptoms of the disease. In TEP, electrodes placed on the scalp are used to generate an electrical current that modifies signals in the brain\\'s cortex. In TMS, an insulated coil of wire on the scalp is used to generate a brief electrical current. Drug Discovery A variety of new drug treatments for Parkinson\\'s disease are in clinical trials. Several MAO-B inhibitors including selegiline, lazabemide, and rasagiline, are being tested to determine if they have neuroprotective effects in people with Parkinsons disease. The National Institute of Neurological Disorders and Stroke has launched a broad effort to find drugs to slow the progression of Parkinson\\'s disease, called NET-PD or NIH Exploratory Trials in Parkinson\\'s Disease. The first studies tested several compounds; one of these, creatine, is now being evaluated in a larger clinical trial. The NET-PD investigators are testing a highly purified form of creatine, a nutritional supplement, to find out if it slows the decline seen in people with Parkinson\\'s. Creatine is a widely used dietary supplement thought to improve exercise performance. Cellular energy is stored in a chemical bond between creatine and a phosphate. More recently, NET-PD has initiated pilot studies to test pioglitazone, a drug that has been shown to stimulate mitochondrial function. Because mitochondrial function may be less active in Parkinsons disease, this drug may protect vulnerable dopamine neurons by boosting mitochondrial function. Cell Implantation Another potential approach to treating Parkinson\\'s disease is to implant cells to replace those lost in the disease. Starting in the 1990s, researchers conducting a controlled clinical trial of fetal tissue implants tried to replace lost dopamine-producing nerve cells with healthy ones from fetal tissue in order to improve movement and the response to medications. While many of the implanted cells survived in the brain and produced dopamine, this therapy was associated with only modest functional improvements, mostly in patients under the age of 60. Some of the people who received the transplants developed disabling dyskinesias that could not be relieved by reducing anti-parkinsonian medications. Stem Cells Another type of cell therapy involves stem cells. Some stem cells derived from embryos can develop into any kind of cell in the body, while others, called progenitor cells, are less flexible. Researchers are developing methods to improve the number of dopamine-producing cells that can be grown from embryonic stem cells in culture. Other researchers are also exploring whether stem cells from adult brains might be useful in treating Parkinson\\'s disease. Recent studies suggest that some adult cells from skin can be reprogrammed to an embryonic-like state, resulting in induced pluripotent stem cells (iPSC) that may someday be used for treatment of Parkinsons. In addition, development and characterization of cells from people with sporadic or inherited Parkinsons may reveal information about cellular mechanisms of disease and identify targets for drug development. Gene Therapy A number of early clinical trials are now underway to test whether gene therapy can improve Parkinson\\'s disease. Genes which are found to improve cellular function in models of Parkinson\\'s are inserted into modified viruses. The genetically engineered viruses are then injected into the brains of people with Parkinson\\'s disease. Clinical studies have focused on the therapeutic potential of neurotrophic factors, including GDNF and neurturin, and enzymes that produce dopamine. These trials will test whether the viruses, by lending to the production of the protective gene product, improve symptoms of Parkinson\\'s over time. The National Institute of Neurological Disorders and Stroke also supports the Morris K. Udall Centers of Excellence for Parkinson\\'s Disease Research program . These Centers, located across the USA, study cellular mechanisms underlying Parkinsons disease, identify and characterize disease-associated genes, and discover and develop potential therapeutic targets. The Centers\\' multidisciplinary research environment allows scientists to take advantage of new discoveries in the basic, translational and clinical sciences that could lead to clinical advances for Parkinsons disease.\\n<question>What is (are) Parkinson\\'s Disease ?<answer>Parkinson\\'s disease is a brain disorder that leads to shaking, stiffness, and difficulty with walking, balance, and coordination. It currently affects about half a million people in the United States, although the numbers may be much higher. Parkinson\\'s disease is both chronic, meaning it lasts for a long time, and progressive, meaning its symptoms grow worse over time. It is not contagious.\\n<question>What is (are) Parkinson\\'s Disease ?<answer>Parkinson\\'s disease (PD) belongs to a group of conditions called motor system disorders, which are the result of the loss of dopamine-producing brain cells. The four primary symptoms of PD are tremor, or trembling in hands, arms, legs, jaw, and face; rigidity, or stiffness of the limbs and trunk; bradykinesia, or slowness of movement; and postural instability, or impaired balance and coordination. As these symptoms become more pronounced, patients may have difficulty walking, talking, or completing other simple tasks. PD usually affects people over the age of 60. Early symptoms of PD are subtle and occur gradually. In some people the disease progresses more quickly than in others. As the disease progresses, the shaking, or tremor, which affects the majority of people with PD may begin to interfere with daily activities. Other symptoms may include depression and other emotional changes; difficulty in swallowing, chewing, and speaking; urinary problems or constipation; skin problems; and sleep disruptions. There are currently no blood or laboratory tests that have been proven to help in diagnosing sporadic PD. Therefore the diagnosis is based on medical history and a neurological examination. The disease can be difficult to diagnose accurately. Doctors may sometimes request brain scans or laboratory tests in order to rule out other diseases.\\n<question>What is (are) Leukemia ?<answer>Acute leukemia gets worse quickly. In chronic leukemia, symptoms develop gradually and are generally not as severe as in acute leukemia.\\n<question>What are the treatments for Leukemia ?<answer>Standard treatments for leukemia include chemotherapy, biological therapy, radiation therapy, and immunotherapy. Some patients receive a combination of treatments. Learn more about treatments for acute myeloid leukemia. Learn more about treatments for chronic lymphocytic leukemia.\\n<question>What are the treatments for Leukemia ?<answer>Researchers are studying various drugs, immunotherapies, and other types of treatments. Because leukemia is a complicated disease, researchers are also studying the effectiveness of using combinations of treatments. Following are a few examples of some areas of current research. The drug imatinib (Gleevec) is important in the treatment of chronic myeloid leukemia. However, imatinib stops working in some people with leukemia because the cells become resistant. Fortunately, two drugs, dasatinib (Sprycel) and nilotinib (Tasigna), are being used to treat people who stop responding to imatinib. Both are approved by the FDA for use in patients. These drugs work against the same abnormal protein targeted by imatinib, but in different ways. Gene therapy -- replacing, manipulating, or supplementing nonfunctional genes with healthy genes -- is being explored for treatment of leukemia. It is being studied as a way to stimulate a patient\\'s immune system to kill leukemia cells and also to interfere with the production of proteins that cause cells to become cancerous. Learn more about ongoing leukemia research.\\n<question>Who is at risk for Leukemia? ?<answer>For the most part, no one knows why some people develop leukemia and others do not. Most people who have known risk factors do not get leukemia, while many who get the disease do not have any risk factors. Studies have identified the following risk factors for leukemia. - older age - male - white - working with certain chemicals - smoking - exposure to very high levels of radiation - certain health conditions - past treatment with chemotherapy or radiation therapy. older age male white working with certain chemicals smoking exposure to very high levels of radiation certain health conditions past treatment with chemotherapy or radiation therapy.\\n<question>Who is at risk for Osteoporosis? ?<answer>Women have smaller bones, and they lose bone more rapidly than men because of hormone changes that occur after menopause. Therefore, women are at higher risk for osteoporosis.\\n<question>What is (are) Osteoporosis ?<answer>Consider talking to your doctor about being evaluated for osteoporosis if - you are a man or woman over age 50 or a postmenopausal woman and you break a bone - you are a woman age 65 or older - you are a woman younger than 65 and at high risk for fractures - you have lost height, developed a stooped or hunched posture, or experienced sudden back pain with no apparent cause - you have been taking glucocorticoid medications such as prednisone, cortisone, or dexamethasone for 2 months or longer or are taking other medications known to cause bone loss - you have a chronic illness or are taking a medication that is known to cause bone loss - you have anorexia nervosa or a history of this eating disorder. - you are a premenopausal woman, not pregnant, and your menstrual periods have stopped, are irregular, or never started when you reached puberty. you are a man or woman over age 50 or a postmenopausal woman and you break a bone you are a woman age 65 or older you are a woman younger than 65 and at high risk for fractures you have lost height, developed a stooped or hunched posture, or experienced sudden back pain with no apparent cause you have been taking glucocorticoid medications such as prednisone, cortisone, or dexamethasone for 2 months or longer or are taking other medications known to cause bone loss you have a chronic illness or are taking a medication that is known to cause bone loss you have anorexia nervosa or a history of this eating disorder. you are a premenopausal woman, not pregnant, and your menstrual periods have stopped, are irregular, or never started when you reached puberty. Here is how to find an appropriate health care professional to treat osteoporosis.\\n<question>Who is at risk for Osteoporosis? ?<answer>Risk Factors You Can\\'t Change Some risk factors for osteoporosis cannot be changed. These include - Gender. Women are at higher risk for osteoporosis than men. They have smaller bones and lose bone more rapidly than men do because of hormone changes that occur after menopause. Therefore, if you are a woman, you are at higher risk for osteoporosis. - Age. Because bones become thinner with age, the older you are, the greater your risk of osteoporosis. - Ethnicity. Caucasian and Asian women are at the highest risk for osteoporosis. This is mainly due to differences in bone mass and density compared with other ethnic groups. African-American and Hispanic women are also at risk, but less so. - Family History. Osteoporosis tends to run in families. If a family member has osteoporosis or breaks a bone, there is a greater chance that you will too. - History of Previous Fracture. People who have had a fracture after the age of 50 are at high risk of having another. Gender. Women are at higher risk for osteoporosis than men. They have smaller bones and lose bone more rapidly than men do because of hormone changes that occur after menopause. Therefore, if you are a woman, you are at higher risk for osteoporosis. Age. Because bones become thinner with age, the older you are, the greater your risk of osteoporosis. Ethnicity. Caucasian and Asian women are at the highest risk for osteoporosis. This is mainly due to differences in bone mass and density compared with other ethnic groups. African-American and Hispanic women are also at risk, but less so. Family History. Osteoporosis tends to run in families. If a family member has osteoporosis or breaks a bone, there is a greater chance that you will too. History of Previous Fracture. People who have had a fracture after the age of 50 are at high risk of having another. Risk Factors You Can Change There are other risk factors for osteoporosis that can be changed. - Poor diet. Getting too little calcium over your lifetime can increase your risk for osteoporosis. Not getting enough vitamin D -- either from your diet, supplements, or sunlight -- can also increase your risk for osteoporosis. Vitamin D is important because it helps the body absorb calcium. An overall diet adequate in protein and other vitamins and minerals is also essential for bone health. - Physical inactivity. Not exercising and being inactive or staying in bed for long periods can increase your risk of developing osteoporosis. Like muscles, bones become stronger with exercise. - Smoking. Cigarette smokers may absorb less calcium from their diets. In addition, women who smoke have lower levels of estrogen in their bodies. Learn more about smoking and bone health. Poor diet. Getting too little calcium over your lifetime can increase your risk for osteoporosis. Not getting enough vitamin D -- either from your diet, supplements, or sunlight -- can also increase your risk for osteoporosis. Vitamin D is important because it helps the body absorb calcium. An overall diet adequate in protein and other vitamins and minerals is also essential for bone health. Physical inactivity. Not exercising and being inactive or staying in bed for long periods can increase your risk of developing osteoporosis. Like muscles, bones become stronger with exercise. Smoking. Cigarette smokers may absorb less calcium from their diets. In addition, women who smoke have lower levels of estrogen in their bodies. Learn more about smoking and bone health. - Medications. Some commonly used medicines can cause loss of bone mass. These include a type of steroid called glucocorticoids, which are used to control diseases such as arthritis and asthma; some antiseizure drugs; some medicines that treat endometriosis; and some cancer drugs. Using too much thyroid hormone for an underactive thyroid can also be a problem. Talk to your doctor about the medications you are taking and what you can do to protect your bones. - Low body weight. Women who are thin -- and small-boned -- are at greater risk for osteoporosis. Medications. Some commonly used medicines can cause loss of bone mass. These include a type of steroid called glucocorticoids, which are used to control diseases such as arthritis and asthma; some antiseizure drugs; some medicines that treat endometriosis; and some cancer drugs. Using too much thyroid hormone for an underactive thyroid can also be a problem. Talk to your doctor about the medications you are taking and what you can do to protect your bones. Low body weight. Women who are thin -- and small-boned -- are at greater risk for osteoporosis. Use this checklist to find out if you are at risk for weak bones. Many of these risk factors, both ones you can change and ones you cannot change, affect peak bone mass, which is when your bones achieve maximum strength and density. Because high peak bone density can reduce osteoporosis risk later in life, it makes sense to pay more attention to those factors that affect peak bone mass. Learn more about peak bone mass.\\n<question>What are the symptoms of Osteoporosis ?<answer>Osteoporosis does not have any symptoms until a fracture occurs. Some people may be unaware that they have already experienced one or more spine fractures. Height loss of one inch or more may be the first sign that someone has experienced spinal fractures due to osteoporosis. People who have experienced a fracture are at high risk of having another one. A fracture over the age of 50 or several fractures before that age may be a warning sign that a person has already developed osteoporosis. Any fracture in an older person should be followed up for suspicion of osteoporosis.\\n<question>What are the symptoms of Shingles ?<answer>Burning, Itching, Tingling, Then a Rash An outbreak of shingles usually begins with a burning, itching, or tingling sensation on the back, chest, or around the rib cage or waist. It is also common for the face or eye area to be affected. (Watch the video to learn more about one woman\\'s experience with shingles. To enlarge the video, click the brackets in the lower right-hand corner. To reduce the video, press the Escape (Esc) button on your keyboard.) Some people report feeling feverish and weak during the early stages. Usually within 48 to 72 hours, a red, blotchy rash develops on the affected area. The rash erupts into small blisters that look like chickenpox. The blisters seem to arrive in waves over a period of three to five days. Blisters The blisters tend to be clustered in one specific area, rather than being scattered all over the body like chickenpox. The torso or face are the parts most likely to be affected, but on occasion, shingles breaks out in the lower body. The burning sensation in the rash area is often accompanied by shooting pains. After the blisters erupt, the open sores take a week or two to crust over. The sores are usually gone within another two weeks. The pain may diminish somewhat, but it often continues for months -- and can go on for years. Pain Shingles can be quite painful. Many shingles patients say that it was the intense pain that ultimately sent them to their healthcare provider. They often report that the sensation of anything brushing across the inflamed nerve endings on the skin is almost unbearable. Diagnosis is Usually Easy for Healthcare Providers A typical shingles case is easy to diagnose. A healthcare provider might suspect shingles if - the rash is only on one side of the body - the rash erupts along one of the many nerve paths, called dermatomes, that stem from the spine. the rash is only on one side of the body the rash erupts along one of the many nerve paths, called dermatomes, that stem from the spine. A healthcare provider usually confirms a diagnosis of shingles if the person also - reports a sharp, burning pain - has had chickenpox - has blisters that look like chickenpox - is elderly. reports a sharp, burning pain has had chickenpox has blisters that look like chickenpox is elderly. If the Diagnosis Is Unclear Some people go to their healthcare provider because of burning, painful, itchy sensations on one area of skin, but they don\\'t get a rash. If there is no rash, the symptoms can be difficult to diagnose because they can be mistaken for numerous other diseases. In cases where there is no rash or the diagnosis is questionable, healthcare providers can do a blood test. If there is a rash, but it does not resemble the usual shingles outbreak, a healthcare provider can examine skin scrapings from the sores.\\n<question>What causes Shingles ?<answer>Caused By A Virus Shingles is caused by a virus called varicella-zoster virus -- the one that gave you chickenpox when you were a child. As you recovered from chickenpox, the sores healed and the other symptoms went away, but the virus remained. It is with you for life. The virus hides out in nerve cells, usually in the spine. But it can become active again. Somehow, the virus gets a signal that your immunity has become weakened. This triggers the reactivation. When the virus becomes active again, it follows a nerve path called a dermatome. The nerve path begins at specific points in the spine, continues around one side of the body, and surfaces at the nerve endings in the skin. The pattern of the rash reflects the location of that nerve path. Risk Factors The leading risk factor for shingles is a history of having had chickenpox. One out of every five people who have had chickenpox is likely to get shingles. Another risk factor is aging. As we age, our natural immunity gradually loses its ability to protect against infection. The shingles virus can take advantage of this and become active again. Conditions that weaken the immune system can also put people at risk for shingles. Shingles is especially dangerous for anyone who has had cancer, radiation treatments for cancer, HIV/AIDS, or a transplant operation. Stress is another factor that may contribute to outbreaks. While stress alone does not cause the outbreaks, shingles often occurs in people who have recently had a stressful event in their lives. Most cases of shingles occur in adults. Only about 5 percent of cases occur in children. With children, immune deficiency is the primary risk factor, but children who had chickenpox before they were one year old may also get shingles before they become adults. There have been studies of adults who had chickenpox as children and were later exposed to children who had chickenpox. Interestingly, that exposure apparently boosted the adult\\'s immunity, which actually helped them avoid getting shingles later in life.\\n<question>What is the outlook for Shingles ?<answer>For most healthy people who receive treatment soon after the outbreak of blisters, the lesions heal, the pain subsides within 3 to 5 weeks, and the blisters often leave no scars. However, shingles is a serious threat in immunosuppressed individuals for example, those with HIV infection or who are receiving cancer treatments that can weaken their immune systems. People who receive organ transplants are also vulnerable to shingles because they are given drugs that suppress the immune system. A person with a shingles rash can pass the virus to someone, usually a child, who has never had chickenpox, but the child will develop chickenpox, not shingles. A person with chickenpox cannot give shingles to someone else. Shingles comes from the virus hiding inside the person\\'s body, not from an outside source.\\n<question>Who is at risk for Shingles? ?<answer>The leading risk factor for shingles is a history of having had chickenpox. One out of every five people who have had chickenpox is likely to get shingles. Another risk factor is aging. As we age, our natural immunity gradually loses its ability to protect against infection. The shingles virus can take advantage of this and become active again. Conditions that weaken the immune system can also put people at risk for shingles. Shingles is especially dangerous for anyone who has had cancer, radiation treatments for cancer, HIV/AIDS, or a transplant operation. Our immune system gradually loses strength as we mature. After people reach 50, the body is not able to fight off infections as easily as it once did.\\n<question>What are the symptoms of Hemochromatosis ?<answer>Hemochromatosis can affect many parts of the body and cause various signs and symptoms. Many of the signs and symptoms are similar to those of other diseases. Signs and symptoms of hemochromatosis usually don\\'t occur until middle age. Women are more likely to have general symptoms first, such as fatigue (tiredness). In men, complications such as diabetes or cirrhosis (scarring of the liver) often are the first signs of the disease. Signs and symptoms also vary based on the severity of the disease. Common signs and symptoms of hemochromatosis include joint pain, fatigue, general weakness, weight loss, and stomach pain. Not everyone who has hemochromatosis has signs or symptoms of the disease. Estimates of how many people develop signs and symptoms vary greatly. Some estimates suggest that as many as half of all people who have the disease don\\'t have signs or symptoms. Hemochromatosis Complications If hemochromatosis isn\\'t found and treated early, iron builds up in your body and can lead to: Liver disease, including an enlarged liver, liver failure, liver cancer, or cirrhosis (scarring of the liver) Heart problems, including arrhythmias (irregular heartbeats) and heart failure Diabetes, especially in people who have a family history of diabetes Joint damage and pain, including arthritis Reproductive organ failure, such as erectile dysfunction (impotence), shrinkage of the testicles, and loss of sex drive in men, and absence of the menstrual cycle and early menopause in women Changes in skin color that make the skin look gray or bronze Underactive pituitary and thyroid glands Damage to the adrenal glands\\n<question>How to diagnose Hemochromatosis ?<answer>Your doctor will diagnose hemochromatosis based on your medical and family histories, a physical exam, and the results from tests and procedures. The disease sometimes is detected while checking for other diseases or conditions, such as arthritis, liver disease, diabetes, heart disease, or erectile dysfunction (impotence). Specialists Involved Family doctors and internal medicine specialists may diagnose and treat hemochromatosis. Other doctors also may be involved in diagnosing and treating the disease, including: Hematologists (blood disease specialists) Cardiologists (heart specialists) Endocrinologists (gland system specialists) Hepatologists (liver specialists) Gastroenterologists (digestive tract specialists) Rheumatologists (specialists in diseases of the joints and tissues) Medical and Family Histories To learn about your medical and family histories, your doctor may ask: About your signs and symptoms, including when they started and their severity. Whether you take iron (pills or injections) with or without vitamin C supplements (vitamin C helps your body absorb iron from food). If so, your doctor may ask how much iron you take. This information can help him or her diagnose secondary hemochromatosis. Whether other members of your family have hemochromatosis. Whether other members of your family have a history of medical problems or diseases related to hemochromatosis. Physical Exam Your doctor will do a physical exam to check for signs and symptoms of hemochromatosis. He or she will listen to your heart for irregular heartbeats and check for arthritis, abnormal skin color, and an enlarged liver. Diagnostic Tests and Procedures Your doctor may recommend one or more tests or procedures to diagnose hemochromatosis. Blood Tests In hemochromatosis, the amount of iron in your body may be too high, even though the level of iron in your blood is normal. Certain blood tests can help your doctor find out how much iron is in your body. During these tests, a sample of blood is taken from your body. It\\'s usually drawn from a vein in your arm using a needle. The procedure usually is quick and easy, although it may cause some short-term discomfort. The blood tests you have may include transferrin saturation (TS), serum ferritin level, and liver function tests. Transferrin is a protein that carries iron in the blood. The TS test shows how much iron the transferrin is carrying. This helps your doctor find out how much iron is in your body. Your doctor may test your serum ferritin level if your TS level is high. A serum ferritin level test shows how much iron is stored in your body\\'s organs. A buildup of iron may suggest hemochromatosis. You may have liver function tests to check for damage to your liver. Liver damage may be a sign of hemochromatosis. If you have hemochromatosis, liver function tests may show the severity of the disease. Blood tests alone can\\'t diagnose hemochromatosis. Thus, your doctor may recommend other tests as well. Liver Biopsy During a liver biopsy, your doctor numbs an area near your liver and then removes a small sample of liver tissue using a needle. The tissue is then looked at under a microscope. A liver biopsy can show how much iron is in your liver. This procedure also can help your doctor diagnose liver damage (for example, scarring and cancer). Liver biopsies are less common now than in the past. Magnetic Resonance Imaging Magnetic resonance imaging (MRI) is a safe test that uses radio waves, magnets, and a computer to create pictures of your organs. An MRI may be done to show the amount of iron in your liver. Superconducting Quantum Interference Device A superconducting quantum interference device (SQuID) is a machine that uses very sensitive magnets to measure the amount of iron in your liver. This machine is available at only a few medical centers. Genetic Testing Genetic testing can show whether you have a faulty HFE gene or genes. However, even if you do have two faulty HFE genes, the genetic test can\\'t predict whether you\\'ll develop signs and symptoms of hemochromatosis. Also, genetic testing may not detect other, less common faulty genes that also can cause hemochromatosis. There are two ways to do genetic testing. Cells can be collected from inside your mouth using a cotton swab, or a sample of blood can be drawn from a vein in your arm. People who have hemochromatosis (or a family history of it) and are planning to have children may want to consider genetic testing and counseling. Testing will help show whether one or both parents have faulty HFE genes. A genetic counselor also can help figure out the likelihood of the parents passing the faulty genes on to their children.\\n<question>What to do for Hemochromatosis ?<answer>Iron is an essential nutrient found in many foods. Healthy people usually absorb less than 10 percent of iron in the food they eat.6 People with hemochromatosis absorb up to 30 percent of that iron.6 People with hemochromatosis can help prevent iron overload by - eating only moderate amounts of iron-rich foods, such as red meat and organ meat - avoiding supplements that contain iron - avoiding supplements that contain vitamin C, which increases iron absorption People with hemochromatosis can take steps to help prevent liver damage, including - limiting the amount of alcoholic beverages they drink because alcohol increases their chance of cirrhosis and liver cancer - avoiding alcoholic beverages entirely if they already have cirrhosis\\n<question>What causes Hemochromatosis ?<answer>Primary Hemochromatosis Inherited genetic defects cause primary hemochromatosis, and mutations in the HFE gene are associated with up to 90 percent of cases.1 The HFE gene helps regulate the amount of iron absorbed from food. The two known mutations of HFE are C282Y and H63D. C282Y defects are the most common cause of primary hemochromatosis. People inherit two copies of the HFE geneone copy from each parent. Most people who inherit two copies of the HFE gene with the C282Y defect will have higher-than-average iron absorption. However, not all of these people will develop health problems associated with hemochromatosis. One recent study found that 31 percent of people with two copies of the C282Y defect developed health problems by their early fifties.2 Men who develop health problems from HFE defects typically develop them after age 40.1 Women who develop health problems from HFE defects typically develop them after menopause.1 People who inherit two H63D defects or one C282Y and one H63D defect may have higher-than-average iron absorption.3 However, they are unlikely to develop iron overload and organ damage. Rare defects in other genes may also cause primary hemochromatosis. Mutations in the hemojuvelin or hepcidin genes cause juvenile hemochromatosis, a type of primary hemochromatosis. People with juvenile hemochromatosis typically develop severe iron overload and liver and heart damage between ages 15 and 30. Secondary Hemochromatosis Hemochromatosis that is not inherited is called secondary hemochromatosis. The most common cause of secondary hemochromatosis is frequent blood transfusions in people with severe anemia. Anemia is a condition in which red blood cells are fewer or smaller than normal, which means they carry less oxygen to the bodys cells. Types of anemia that may require frequent blood transfusions include - congenital, or inherited, anemias such as sickle cell disease, thalassemia, and Fanconis syndrome - severe acquired anemias, which are not inherited, such as aplastic anemia and autoimmune hemolytic anemia Liver diseasessuch as alcoholic liver disease, nonalcoholic steatohepatitis, and chronic hepatitis C infectionmay cause mild iron overload. However, this iron overload causes much less liver damage than the underlying liver disease causes. Neonatal Hemochromatosis Neonatal hemochromatosis is a rare disease characterized by liver failure and death in fetuses and newborns. Researchers are studying the causes of neonatal hemochromatosis and believe more than one factor may lead to the disease. Experts previously considered neonatal hemochromatosis a type of primary hemochromatosis. However, recent studies suggest genetic defects that increase iron absorption do not cause this disease. Instead, the mothers immune system may produce antibodiesproteins made by the immune system to protect the body from foreign substances such as bacteria or virusesthat damage the liver of the fetus. Women who have had one child with neonatal hemochromatosis are at risk for having more children with the disease.4 Treating these women during pregnancy with intravenous (IV) immunoglobulina solution of antibodies from healthy peoplecan prevent fetal liver damage.4 Researchers supported by the National Institute of Diabetes and Digestive and Kidney Diseases (NIDDK) recently found that a combination of exchange transfusionremoving blood and replacing it with donor bloodand IV immunoglobulin is an effective treatment for babies born with neonatal hemochromatosis.5\\n<question>what research (or clinical trials) is being done for Age-related Macular Degeneration ?<answer>The National Eye Institute scientists are - studying the possibility of transplanting healthy cells into a diseased retina - evaluating families with a history of AMD to understand genetic and hereditary factors that may cause the disease - looking at certain anti-inflammatory treatments for the wet form of AMD. studying the possibility of transplanting healthy cells into a diseased retina evaluating families with a history of AMD to understand genetic and hereditary factors that may cause the disease looking at certain anti-inflammatory treatments for the wet form of AMD. This research should provide better ways to detect, treat, and prevent vision loss in people with AMD.\\n<question>Who is at risk for Age-related Macular Degeneration? ?<answer>Risk Increases With Age AMD is most common in older people, but it can occur during middle age. The risk increases with age. Other Risk Factors Other risk factors include - Smoking - Obesity - Race. Whites are much more likely to lose vision from AMD than African-Americans. - Family history. People with a family history of AMD are at higher risk of getting the disease. - Gender. Women appear to be at greater risk than men. Smoking Obesity Race. Whites are much more likely to lose vision from AMD than African-Americans. Family history. People with a family history of AMD are at higher risk of getting the disease. Gender. Women appear to be at greater risk than men.\\n<question>What is (are) Age-related Macular Degeneration ?<answer>Dry AMD has three stages -- early AMD, intermediate AMD, and advanced dry AMD. All of these may occur in one or both eyes. People with early dry AMD have either several small drusen or a few medium-sized drusen. Drusen are yellow deposits under the retina which often are found in people over age 50. People with early AMD have no symptoms and no vision loss. People with intermediate dry AMD have either many medium-sized drusen or one or more large drusen. Some people see a blurred spot in the center of their vision. More light may be needed for reading and other tasks. In addition to drusen, people with advanced dry AMD have a breakdown of light-sensitive cells and supporting tissue in the macula. This breakdown can cause a blurred spot in the center of your vision. Over time, the blurred spot may get bigger and darker, taking more of your central vision. You may have difficulty reading or recognizing faces until they are very close to you.\\n<question>How to prevent Age-related Macular Degeneration ?<answer>There is no reason for those diagnosed with early stage AMD to take the AREDS formulation. The study did not find that the formulation helped those with early stage AMD. If you have early stage AMD, a comprehensive dilated eye exam every year can help determine if the disease is progressing. If early stage AMD progresses to the intermediate stage, discuss taking the formulation with your doctor.\\n<question>What are the treatments for Diabetes ?<answer>Diabetes cannot be cured, but it can be managed. Managing blood glucose (blood sugar) as well as blood pressure and cholesterol is the best defense against the serious complications of diabetes. Know What To Do Every Day To manage your diabetes, here are things to do every day. - Take your medicines. - Keep track of your blood glucose (blood sugar). - Check your blood pressure if your doctor advises. - Check your feet. - Brush your teeth and floss. - Stop smoking. - Eat well. - Be active. Take your medicines. Keep track of your blood glucose (blood sugar). Check your blood pressure if your doctor advises. Check your feet. Brush your teeth and floss. Stop smoking. Eat well. Be active. (Watch the video to learn more about what one woman does to manage her diabetes every day. To enlarge the video, click the brackets in the lower right-hand corner. To reduce the video, press the Escape (Esc) button on your keyboard.) Take Your Diabetes Medicines People with type 1 diabetes control their blood sugar with insulin -- delivered either by injection or with a pump. Many people with type 2 diabetes can control blood glucose levels with diet and exercise alone. Others require oral medications or insulin, and some may need both, as well as lifestyle modification. Ask your doctor if you need to take aspirin every day to prevent a heart attack or stroke. Keep Track of Your Blood Glucose One of the best ways to find out how well you are taking care of your diabetes is to check your blood to see how much glucose is in it. If your blood has too much or too little glucose, you may need a change in your meal plan, exercise plan, or medication. Ask your doctor how often you should check your blood glucose. Some people check their blood glucose once a day. Others do it three a day or even more. You may be told to check before eating, before bed, and sometimes in the middle of the night. Your doctor or diabetes educator will show you how to check your blood using a blood glucose meter. Your health insurance or Medicare may pay for some of the supplies and equipment you need to check your glucose levels. See what diabetes supplies and services Medicare covers. Check Your Blood Pressure Check your blood pressure if your doctor advises and keep a record of it. You can check your pressure at home with a home blood pressure measurement device or monitor. Blood pressure monitors can be bought at discount chain stores and drug stores. When you are taking your blood pressure at home, sit with your back supported and your feet flat on the floor. Rest your arm on a table at the level of your heart. Check with your health care provider to make sure you are using the monitor correctly. Check Your Feet Foot care is very important for people with diabetes. High blood glucose levels and a reduced blood supply to the limbs cause nerve damage that reduces feeling in the feet. Someone with nerve damage may not feel a pebble inside his or her sock that is causing a sore. Or a blister caused by poorly fitting shoes may go unnoticed. Foot injuries such as these can cause ulcers, which may, if not cared for, ultimately lead to the need for amputation. If you have diabetes, - check your feet every day and watch for any cuts, sores, red spots, swelling, and infected toenails. - report sores, blisters, breaks in the skin, infections, or buildup of calluses to a podiatrist or a family doctor. - never walk barefoot. - have your feet checked at every doctor visit. - take your shoes and socks off when you go into the examining room. This will remind the doctor to check your feet. check your feet every day and watch for any cuts, sores, red spots, swelling, and infected toenails. report sores, blisters, breaks in the skin, infections, or buildup of calluses to a podiatrist or a family doctor. never walk barefoot. have your feet checked at every doctor visit. take your shoes and socks off when you go into the examining room. This will remind the doctor to check your feet. Learn more about taking care of your feet. Brush Your Teeth and Floss People with diabetes can have tooth and gum problems more often if their blood glucose stays high. High blood glucose also can make tooth and gum problems worse. You can even lose your teeth. Here are ways to protect your teeth and gums. - Keep your blood glucose as close to normal as possible. - Use dental floss at least once a day. Flossing helps prevent the buildup of plaque on your teeth. Plaque can harden and grow under your gums and cause problems. Using a sawing motion, gently bring the floss between the teeth, scraping from bottom to top several times. - Brush your teeth after each meal and snack. Use a soft toothbrush. Turn the bristles against the gum line and brush gently. Use small, circular motions. Brush the front, back, and top of each tooth. - If you wear false teeth, keep them clean. - Call your dentist right away if you have problems with your teeth and gums. Keep your blood glucose as close to normal as possible. Use dental floss at least once a day. Flossing helps prevent the buildup of plaque on your teeth. Plaque can harden and grow under your gums and cause problems. Using a sawing motion, gently bring the floss between the teeth, scraping from bottom to top several times. Brush your teeth after each meal and snack. Use a soft toothbrush. Turn the bristles against the gum line and brush gently. Use small, circular motions. Brush the front, back, and top of each tooth. If you wear false teeth, keep them clean. Call your dentist right away if you have problems with your teeth and gums. Learn more about how diabetes can affect your mouth and teeth. Stop Smoking If you smoke, stop. Smoking raises your risk for many diabetes problems, including heart attack and stroke. Ask for help to quit. Call 1-800 QUITNOW (1-800-784-8669). For more information on smoking and older adults, see Quitting Smoking for Older Adults. Eat Well People with diabetes don\\'t need to buy or prepare special foods. The foods that are best for someone with diabetes are excellent choices for everyone: foods that are low in fat, salt, and sugar, and high in fiber, such as beans, fruits, vegetables, and whole grains. These foods help you reach and stay at a weight that\\'s good for your body, keep your blood pressure, glucose and cholesterol in a desirable range, and prevent or delay heart and blood vessel disease. For more on healthy eating, see Small Steps for Eating Healthy Foods. Be Active Try to exercise almost every day for a total of about 30 to 60 minutes. If you haven\\'t exercised lately, begin slowly. Start with 5 to 10 minutes, and then add more time. Or exercise for 10 minutes, three times a day. (Tip: you dont need to get your exercise in all at one time.) For more information on exercise and older adults, see Exercise: How to Get Started or visit Go4Life, the exercise and physical activity campaign for older adults from the National Institute on Aging. Be sure to check with your doctor before starting an exercise program. Other Areas To Manage Here are other areas to manage if you have diabetes. - Take care of your eyes. - Protect your kidneys. - Protect your skin. - Learn how to cope with stress. Take care of your eyes. Protect your kidneys. Protect your skin. Learn how to cope with stress. Take Care of Your Eyes High blood glucose and high blood pressure from diabetes can hurt your eyes. It can even cause blindness, or other painful eye problems. Here are ways to prevent diabetes eye problems. - Keep your blood glucose and blood pressure as close to normal as you can. - Have an eye care professional examine your eyes once a year. Have this exam even if your vision is okay. Keep your blood glucose and blood pressure as close to normal as you can. Have an eye care professional examine your eyes once a year. Have this exam even if your vision is okay. Learn more about eye disease and diabetes. Protect Your Kidneys High blood glucose and high blood pressure may damage the kidneys. Damaged kidneys do not do a good job of filtering out wastes and extra fluid. Here are ways to prevent diabetes kidney problems. - Keep your blood glucose and blood pressure as close to your target goal as you can. - Get tested at least once a year for kidney disease. Ask your doctor if you should be tested. - Follow the healthy eating plan you work out with your doctor or dietitian. If you already have kidney problems, your dietitian may suggest you cut back on protein. Keep your blood glucose and blood pressure as close to your target goal as you can. Get tested at least once a year for kidney disease. Ask your doctor if you should be tested. Follow the healthy eating plan you work out with your doctor or dietitian. If you already have kidney problems, your dietitian may suggest you cut back on protein. Learn more about keeping your kidneys healthy. Protect Your Skin Skin care is very important, too. Because people with diabetes may have more injuries and infections, they should protect their skin by keeping it clean and taking care of minor cuts and bruises. Learn How To Cope With Stress Stress can raise your blood glucose (blood sugar). While it is hard to remove stress from your life, you can learn to handle it. Try deep breathing, gardening, taking a walk, meditating, working on your hobby, or listening to your favorite music.\\n<question>How to prevent Diabetes ?<answer>The two most common forms of diabetes are type 1 and type 2. Currently, there is no way to delay or prevent type 1 diabetes. However, research has shown that making modest lifestyle changes can prevent or delay type 2 diabetes in people at risk for the disease. In the Diabetes Prevention Program (DPP), a landmark study by the National Institute of Diabetes and Digestive and Kidney Diseases, researchers found that adults at high risk for type 2 diabetes were able to cut their risk in half by losing a modest amount of weight and being active almost every day. This means losing 5 to 7 percent of body weight (that\\'s 10 pounds if you weigh 200 pounds) and getting 150 minutes of physical activity a week. The DPP study also showed that modest weight loss (achieved by following a low calorie, low-fat diet) and moderate physical activity were especially effective in preventing or delaying the development of diabetes in older people. In fact, people over the age of 60 were able to reduce their risk for developing type 2 diabetes by 71 percent. (Watch the video to learn more about preventing type 2 diabetes. To enlarge the video, click the brackets in the lower right-hand corner. To reduce the video, press the Escape (Esc) button on your keyboard.)\\n<question>What is (are) Diabetes ?<answer>Prediabetes means your blood glucose levels are higher than normal but not high enough for a diagnosis of diabetes. In 2012, about 86 million people in the U.S. had prediabetes, and 51% of those 65 or older had prediabetes. People with prediabetes are at an increased risk for developing type 2 diabetes and for heart disease and stroke. The good news is that if you have prediabetes, you can reduce your risk of getting type 2 diabetes. With modest weight loss and moderate physical activity, you can delay or prevent type 2 diabetes. Learn more about prediabetes here.\\n<question>How to prevent Diabetes ?<answer>Your weight affects your health in many ways. Being overweight can keep your body from making and using insulin properly. It can also cause high blood pressure. If you are overweight or obese, choose sensible ways to reach and maintain a reasonable body weight. - Make healthy food choices. What you eat has a big impact on your weight and overall health. By developing healthy eating habits you can help control your body weight, blood pressure, and cholesterol. Reducing portion size, increasing the amount of fiber you consume (by eating more fruits and vegetables) and limiting fatty and salty foods are key to a healthy diet. Make healthy food choices. What you eat has a big impact on your weight and overall health. By developing healthy eating habits you can help control your body weight, blood pressure, and cholesterol. Reducing portion size, increasing the amount of fiber you consume (by eating more fruits and vegetables) and limiting fatty and salty foods are key to a healthy diet. - Get at least 30 minutes of exercise at least five days a week. Regular exercise reduces diabetes risk in several ways: it helps you lose weight, controls your cholesterol and blood pressure, and improves your body\\'s use of insulin. Many people make walking part of their daily routine because it\\'s easy, fun and convenient. But you can choose any activity that gets you moving. It\\'s fine to break up your 30 minutes of exercise into smaller increments, such as three 10-minute periods. Check with your doctor before beginning any exercise program. Get at least 30 minutes of exercise at least five days a week. Regular exercise reduces diabetes risk in several ways: it helps you lose weight, controls your cholesterol and blood pressure, and improves your body\\'s use of insulin. Many people make walking part of their daily routine because it\\'s easy, fun and convenient. But you can choose any activity that gets you moving. It\\'s fine to break up your 30 minutes of exercise into smaller increments, such as three 10-minute periods. Check with your doctor before beginning any exercise program.\\n<question>How to diagnose Gum (Periodontal) Disease ?<answer>The dentist will ask about your medical history to identify any conditions or risk factors such as smoking that may contribute to gum disease. The dentist or hygienist will also - examine your gums and note any signs of inflammation. - use a tiny ruler called a \\'probe\\' to check for and measure any periodontal pockets. In a healthy mouth, the depth of these pockets is usually between 1 and 3 millimeters. - take an x-ray to see whether there is any bone loss. examine your gums and note any signs of inflammation. use a tiny ruler called a \\'probe\\' to check for and measure any periodontal pockets. In a healthy mouth, the depth of these pockets is usually between 1 and 3 millimeters. take an x-ray to see whether there is any bone loss. The dentist or hygienist may also - take an x-ray to see whether there is any bone loss and to examine the condition of the teeth and supporting tissues. - refer you to a periodontist. Periodontists are experts in the diagnosis and treatment of gum disease and may provide you with treatment options that are not offered by your dentist. take an x-ray to see whether there is any bone loss and to examine the condition of the teeth and supporting tissues. refer you to a periodontist. Periodontists are experts in the diagnosis and treatment of gum disease and may provide you with treatment options that are not offered by your dentist.\\n<question>What causes Gum (Periodontal) Disease ?<answer>In some studies, researchers have observed that people with periodontal disease (when compared to people without periodontal disease) were more likely to develop heart disease or have difficulty controlling their blood sugar. But so far, it has not been determined whether periodontal disease is the cause of these conditions. There may be other reasons people with periodontal disease sometimes develop additional health problems. For example, something else may be causing both the gum disease and the other condition, or it could be a coincidence that gum disease and other health problems are present together. More research is needed to clarify whether gum disease actually causes health problems beyond the mouth, and whether treating gum disease can keep other health conditions from developing. In the meantime, it\\'s a fact that controlling periodontal disease can save your teeth -- a very good reason to take care of your teeth and gums.\\n<question>What causes Gum (Periodontal) Disease ?<answer>Gum disease is caused by dental plaque -- a sticky film of bacteria that builds up on teeth. Regular brushing and flossing help get rid of plaque. But plaque that is not removed can harden and form tartar that brushing doesn\\'t clean. Only a professional cleaning by a dentist or dental hygienist can remove tartar.\\n<question>What are the symptoms of Gum (Periodontal) Disease ?<answer>Symptoms Symptoms of gum disease may include: - bad breath that won\\'t go away - red or swollen gums - tender or bleeding gums - painful chewing - loose teeth - sensitive teeth - receding gums or longer appearing teeth bad breath that won\\'t go away red or swollen gums tender or bleeding gums painful chewing loose teeth sensitive teeth receding gums or longer appearing teeth If You Have Symptoms Any of these symptoms may be a sign of a serious problem that should be checked by a dentist. Sometimes gum disease has no clear symptoms. At your dental visit, the dentist or hygienist should - ask about your medical history to identify any conditions or risk factors (such as smoking) that may contribute to gum disease. - examine your gums and note any signs of inflammation. - use a tiny ruler called a \\'probe\\' to check for and measure any pockets. In a healthy mouth, the depth of these pockets is usually between 1 and 3 millimeters. This test for pocket depth is usually painless. ask about your medical history to identify any conditions or risk factors (such as smoking) that may contribute to gum disease. examine your gums and note any signs of inflammation. use a tiny ruler called a \\'probe\\' to check for and measure any pockets. In a healthy mouth, the depth of these pockets is usually between 1 and 3 millimeters. This test for pocket depth is usually painless. The dentist or hygienist may also - take an x-ray to see whether there is any bone loss and to examine the condition of the teeth and supporting tissues. - refer you to a periodontist. Periodontists are experts in the diagnosis and treatment of gum disease and may provide you with treatment options that are not offered by your dentist. take an x-ray to see whether there is any bone loss and to examine the condition of the teeth and supporting tissues. refer you to a periodontist. Periodontists are experts in the diagnosis and treatment of gum disease and may provide you with treatment options that are not offered by your dentist.\\n<question>What is (are) Diabetic Retinopathy ?<answer>In this test, a special dye is injected into your arm. Pictures are taken as the dye passes through the blood vessels in your retina. The test allows your eye care professional to identify any leaking blood vessels and recommend treatment.\\n<question>What causes Diabetic Retinopathy ?<answer>Who Is at Risk? All people with diabetes -- both type 1 and type 2 -- are at risk for diabetic retinopathy. People with diabetes are also at increased risk for cataract and glaucoma. That\\'s why everyone with diabetes should get a comprehensive dilated eye exam at least once a year. Between 40 to 45 percent of Americans diagnosed with diabetes have some stage of diabetic retinopathy. If you have diabetic retinopathy, your doctor can recommend treatment to help prevent its progression. How Vision Loss Occurs Blood vessels damaged from diabetic retinopathy can cause vision loss in two ways. Fragile, abnormal blood vessels can develop and leak blood into the center of the eye, blurring vision. This is proliferative retinopathy and is the fourth and most advanced stage of the disease. Fluid can leak into the center of the macula, the part of the eye where sharp, straight-ahead vision occurs. The fluid makes the macula swell, blurring vision. This condition is called macular edema. Macular edema can occur at any stage of diabetic retinopathy, although it is more likely to occur as the disease progresses. About half of the people with proliferative retinopathy also have macular edema. Macular edema can occur at any stage of diabetic retinopathy, although it is more likely to occur as the disease progresses. About half of the people with proliferative retinopathy also have macular edema. Have Dilated Eye Exams The National Eye Institute (NEI) urges everyone with diabetes to have a comprehensive dilated eye exam at least once a year. If you have diabetic retinopathy, you may need an eye exam more often. People with proliferative retinopathy can reduce their risk of blindness by 95 percent with timely treatment and appropriate follow-up care. Watch an animation to see what a comprehensive dilated eye exam includes.\\n<question>What is (are) Diabetic Retinopathy ?<answer>If you have a lot of blood in the center of the eye, or vitreous gel, you may need a vitrectomy to restore your sight. If you need vitrectomies in both eyes, they are usually done several weeks apart. A vitrectomy is performed under either local or general anesthesia. Your doctor makes a tiny incision in your eye. Next, a small instrument is used to remove the vitreous gel that is clouded with blood. The vitreous gel is replaced with a salt solution. Because the vitreous gel is mostly water, you will notice no change between the salt solution and the original vitreous gel.\\n<question>What are the treatments for Diabetic Retinopathy ?<answer>Research found that that prompt treatment of macular edema with anti-VEGF drugs, with or without laser treatment, resulted in better vision than laser treatment alone or steroid injections. When injected into the eye, these drugs reduce fluid leakage and interfere with the growth of new blood vessels in the retina. In some cases, focal laser treatment is used along with the eye injections. Your doctor places up to several hundred small laser burns in the areas of the retina around the macula that are leaking. These burns slow the leakage of fluid and reduce the amount of fluid in the retina. The surgery is usually completed in one session. Further treatment may be needed.\\n<question>What is (are) Psoriasis ?<answer>Psoriasis (sow RYE uh sis) is a chronic skin disease. Chronic means that it lasts a long time, often a lifetime. Psoriasis affects more than 5 million adults in the United States. It appears about equally in males and females. Psoriasis occurs when the skin cells grow too quickly. The body does not shed these excess cells and they build up on the surface of the skin, forming thick, scaly patches. Types of Psoriasis Psoriasis occurs in five different forms that affect both men and women. Most people have only one type of psoriasis at a time. Sometimes, one type of psoriasis will disappear and another will appear. Here is a brief overview of the different forms of psoriasis. - Is the most common form - appears as raised red patches covered in silvery white scales - usually shows up on the scalp, knees, elbows and lower back - patches may itch or be painful and can also crack and bleed. Is the most common form appears as raised red patches covered in silvery white scales usually shows up on the scalp, knees, elbows and lower back patches may itch or be painful and can also crack and bleed. - is the second most common form of psoriasis - usually begins in childhood or early adulthood - appears as small red spots on the skin. is the second most common form of psoriasis usually begins in childhood or early adulthood appears as small red spots on the skin. - appears as red sores in body folds, such as the groin and under the breasts - is more common in people who are overweight - often occurs along with another form of psoriasis. appears as red sores in body folds, such as the groin and under the breasts is more common in people who are overweight often occurs along with another form of psoriasis. - features white blisters surrounded by red skin - mainly affects adults - may occur all over the body, but usually affects one area. features white blisters surrounded by red skin mainly affects adults may occur all over the body, but usually affects one area. - is the rarest and most dangerous form of psoriasis - is characterized by inflammation - usually affects most of the body. is the rarest and most dangerous form of psoriasis is characterized by inflammation usually affects most of the body.\\n<question>what research (or clinical trials) is being done for Psoriasis ?<answer>Scientists who are working to better understand and treat psoriasis are making headway in several different areas. The Role of T Cells Scientists believe that psoriasis occurs when white blood cells called T cells, which normally help fight infections, attack the bodys skin cells by mistake. Scientists are working to understand what causes these cells to go awry in people with psoriasis. Their hope is that by better understanding why T cells attack the bodys healthy skin tissue, they can develop better treatments to stop or prevent that damaging process. New Treatments Since discovering that T cells attack skin cells in psoriasis, researchers have been studying new treatments that quiet immune system reactions in the skin. Among these are treatments that block the activity of T cells or block cytokines (proteins that promote inflammation). If researchers find a way to target only the disease-causing immune reactions while leaving the rest of the immune system alone, resulting treatments could benefit psoriasis patients as well as those with other autoimmune diseases (when the immune system attacks the bodys own tissues). Currently there are a number of potential psoriasis treatments in clinical trials, including injections, pills, and topical ointments. Clinical trials are research studies with volunteers in which drugs are tested for the effectiveness and safety. All drugs must complete and pass this process before they can be approved by the FDA. Psoriasis Genes Because psoriasis is more common among people who have one or more family members with the disease, scientists have long suspected that genes are involved. A number of genetic loci specific locations on the genes have been associated with the development of psoriasis or the severity or progression of the disease. In 2012, scientists discovered the first gene to be directly linked to development of plaque psoriasis. Researchers continue to study the genetic aspects of psoriasis, and some studies are looking at the nervous system to determine the genes responsible for the circuitry that causes itching. Psoriasis-related Conditions Research in recent years has shown that people with psoriasis are more likely to develop other health problems, including problems with the heart and blood vessels. Research is continuing to examine links between psoriasis and other health problems. Scientists are working to understand how and why these diseases occur in people with psoriasis, with the hope that this understanding will lead to better treatments for both psoriasis and the related diseases. Stress Reduction Treatment For many people with psoriasis, life stresses cause the disease to worsen or become more active. Research suggests that stress is associated with the increased production of chemicals by the immune system that promote inflammation. The same chemicals may play a role in the anxiety and depression that is common in people with psoriasis. Researchers are studying the use of stress reduction techniques, along with medical treatment, in the hope that reducing stress will both lower anxiety and improve the skin lesions of psoriasis. Where to Find More Information More information on research is available from the following websites. - NIH Clinical Research Trials and You helps people learn more about clinical trials, why they matter, and how to participate. Visitors to the website will find information about the basics of participating in a clinical trial, first-hand stories from actual clinical trial volunteers, explanations from researchers, and links to help you search for a trial or enroll in a research-matching program. - ClinicalTrials.gov offers up-to-date information for locating federally and privately supported clinical trials for a wide range of diseases and conditions. - NIH RePORTER is an electronic tool that allows users to search a repository of both intramural and extramural NIH-funded research projects from the past 25 years and access publications (since 1985) and patents resulting from NIH funding. - PubMed is a free service of the U.S. National Library of Medicine that lets you search millions of journal citations and abstracts in the fields of medicine, nursing, dentistry, veterinary medicine, the health care system, and preclinical sciences. NIH Clinical Research Trials and You helps people learn more about clinical trials, why they matter, and how to participate. Visitors to the website will find information about the basics of participating in a clinical trial, first-hand stories from actual clinical trial volunteers, explanations from researchers, and links to help you search for a trial or enroll in a research-matching program. ClinicalTrials.gov offers up-to-date information for locating federally and privately supported clinical trials for a wide range of diseases and conditions. NIH RePORTER is an electronic tool that allows users to search a repository of both intramural and extramural NIH-funded research projects from the past 25 years and access publications (since 1985) and patents resulting from NIH funding. PubMed is a free service of the U.S. National Library of Medicine that lets you search millions of journal citations and abstracts in the fields of medicine, nursing, dentistry, veterinary medicine, the health care system, and preclinical sciences.\\n<question>What is (are) Psoriasis ?<answer>Psoriasis is a skin disease that causes itchy or sore patches of thick, red skin with silvery scales. You usually get the patches on your elbows, knees, scalp, back, face, palms and feet, but they can show up on other parts of your body. Some people who have psoriasis also get a form of arthritis called psoriatic arthritis. A problem with your immune system causes psoriasis. In a process called cell turnover, skin cells that grow deep in your skin rise to the surface. Normally, this takes a month. In psoriasis, it happens in just days because your cells rise too fast. Psoriasis can be hard to diagnose because it can look like other skin diseases. Your doctor might need to look at a small skin sample under a microscope. Psoriasis can last a long time, even a lifetime. Symptoms come and go. Things that make them worse include - Infections - Stress - Dry skin - Certain medicines Psoriasis usually occurs in adults. It sometimes runs in families. Treatments include creams, medicines, and light therapy. NIH: National Institute of Arthritis and Musculoskeletal and Skin Diseases\\n<question>What is (are) Psoriasis ?<answer>Having psoriasis may cause you to feel self-conscious, particularly if it affects a part of the body that others can see. Some people plan their clothing such as long skirts vs. knee-length or long-sleeve instead of short-sleeve shirts to hide affected skin. Others withdraw from sports and other activities where affected skin would show. Pain, itching, and other symptoms can lead to frustration. Uncertainty over the course of the disease or the need for ongoing treatment may cause you to feel anxious or depressed. In some cases psoriasis symptoms make it difficult or impossible for people keep up with their jobs, household chores, or favorite activities. Having to give up a job or favorite hobby can further increase the risk of emotional problems.\\n<question>How to prevent Kidney Disease ?<answer>Risk Factors Diabetes and high blood pressure are the two leading causes of kidney disease. Both diabetes and high blood pressure damage the small blood vessels in your kidneys and can cause kidney disease -- without you feeling it. Other risk factors for kidney disease include: - cardiovascular (heart) disease - family history -- if you have a mother, father, sister, or brother who has had kidney failure, then you are at increased risk. cardiovascular (heart) disease family history -- if you have a mother, father, sister, or brother who has had kidney failure, then you are at increased risk. Additionally, African Americans, Hispanics, and Native Americans are at high risk for developing kidney failure. This is in part due to high rates of diabetes and high blood pressure in these communities. If you have ANY of these risk factors, talk to your health care provider about getting tested for kidney disease. If you have kidney disease, you may not feel any different. It is very important to get tested if you are at risk. (Watch the video to learn more about reducing your risk for kidney disease. To enlarge the video, click the brackets in the lower right-hand corner. To reduce the video, press the Escape (Esc) button on your keyboard.) Prevention If you are at risk for kidney disease, the most important steps you can take to keep your kidneys healthy are to - get your blood and urine checked for kidney disease. - manage your diabetes, high blood pressure, and heart disease. get your blood and urine checked for kidney disease. manage your diabetes, high blood pressure, and heart disease. Manage your diabetes and high blood pressure, and keep your kidneys healthy by - eating healthy foods: fresh fruits, fresh or frozen vegetables, whole grains, and low-fat dairy foods - cutting back on salt - limiting your alcohol intake - being more physically active - losing weight if you are overweight - taking your medicines the way your provider tells you to - keeping your cholesterol levels in the target range - taking steps to quit, if you smoke - seeing your doctor regularly. eating healthy foods: fresh fruits, fresh or frozen vegetables, whole grains, and low-fat dairy foods cutting back on salt limiting your alcohol intake being more physically active losing weight if you are overweight taking your medicines the way your provider tells you to keeping your cholesterol levels in the target range taking steps to quit, if you smoke seeing your doctor regularly. By following these steps and keeping risk factors under control -- especially your blood pressure -- you may be able to delay or even prevent kidney failure. Talk to your health care provider to find out the steps that are right for you. Learn about preventing high blood pressure. Learn about preventing type 2 diabetes.\\n<question>What are the symptoms of Kidney Disease ?<answer>Kidney Disease Kidney disease is often called a \"silent\" disease, because most people have no symptoms with early kidney disease. In fact, you might feel just fine until your kidneys have almost stopped working. Do NOT wait for symptoms! If you are at risk for kidney disease, talk to your health care provider about getting tested. (Watch the video to learn more about the symptoms of kidney disease. To enlarge the videos on this page, click the brackets in the lower right-hand corner of the video screen. To reduce the videos, press the Escape (Esc) button on your keyboard.) Symptoms of Kidney Failure Kidney failure means that damaged kidneys are filtering less than 15% of the amount of blood filtered by healthy kidneys. If kidney disease progresses to kidney failure, a number of symptoms may occur. Some people experience fatigue, some lose their appetite, and some have leg cramps. These problems are caused by waste products that build up in the blood, a condition known as uremia. Healthy kidneys remove waste products from the blood. When the kidneys stop working, uremia occurs. The kidneys also make hormones and balance the minerals in the blood. When the kidneys stop working, most people develop conditions that affect the blood, bones, nerves, and skin. These problems may include itching, sleep problems, restless legs, weak bones, joint problems, and depression. How Kidney Disease Is Diagnosed Blood and urine tests are the only way to check for kidney damage or measure kidney function. It is important for you to get checked for kidney disease if you have the key risk factors, which are - diabetes - high blood pressure - heart disease - a family history of kidney failure. diabetes high blood pressure heart disease a family history of kidney failure. If you are at risk, ask about your kidneys at your next medical appointment. The sooner you know you have kidney disease, the sooner you can get treatment to help delay or prevent kidney failure. If you have diabetes, high blood pressure, heart disease, or a family history of kidney failure, you should get a blood and urine test to check your kidneys. Talk to your provider about how often you should be tested. (Watch the video to learn more about tests for kidney disease.) Blood Test The blood test checks your GFR. GFR stands for glomerular (glow-MAIR-you-lure) filtration rate. GFR is a measure of how much blood your kidneys filter each minute. This shows how well your kidneys are working. GFR is reported as a number. - A GFR of 60 or higher is in the normal range. - A GFR below 60 may mean you have kidney disease. However, because GFR decreases as people age, other information may be needed to determine if you actually have kidney disease. - A GFR of 15 or lower may mean kidney failure. A GFR of 60 or higher is in the normal range. A GFR below 60 may mean you have kidney disease. However, because GFR decreases as people age, other information may be needed to determine if you actually have kidney disease. A GFR of 15 or lower may mean kidney failure. You can\\'t raise your GFR, but you can try to keep it from going lower. Ask your healthcare provider what you can do to keep your kidneys healthy. Learn more about the GFR test. Urine Test The urine test looks for albumin (al-BYOO-min), a type of protein, in your urine. A healthy kidney does not let albumin pass into the urine. A damaged kidney lets some albumin pass into the urine. This test has several different names. You could be told that you are being screened for \"proteinuria\" or \"albuminuria\" or \"microalbuminuria.\" Or you could be told that your \"urine albumin-to-creatinine ratio\" (UACR) is being measured. If you have albumin or protein in your urine, it could mean you have kidney disease. - A urine albumin result below 30 is normal. - A urine albumin result above 30 is not normal and may mean kidney disease. A urine albumin result below 30 is normal. A urine albumin result above 30 is not normal and may mean kidney disease. Learn more about the urine albumin test. Your healthcare provider might do additional tests to be sure.\\n<question>what research (or clinical trials) is being done for Kidney Disease ?<answer>There are many researchers who are working on kidney disease. They are looking for ways to improve diagnosis, make treatments more effective, and make dialysis and transplantation work better. Several areas of research supported by the National Institute of Diabetes and Digestive and Kidney Diseases (NIDDK) hold great potential. Emphasis is being placed on research related to prevention and early intervention in kidney disease. Another focus is on the interaction between diabetes, kidney disease, and cardiovascular disease. Advances in treatments for diabetes and high blood pressure may help reduce the damage these conditions do to the kidneys in the first place. Research into how to predict who will develop kidney disease may improve prevention.\\n<question>What are the treatments for Kidney Disease ?<answer>During your next health care visit, talk to your provider about your test results and how to manage your kidney disease. Below is a list of questions you may want to ask. Add any questions you think are missing, and mark those that are most important to you. Bring your list with you. About your tests - Did you check my kidney health with blood and urine tests? - What was my GFR? What does that mean? - Has my GFR changed since last time? - What is my urine albumin level? What does that mean? - Has my urine albumin changed since the last time it was checked? - Is my kidney disease getting worse? - Is my blood pressure where it needs to be? - Will I need dialysis? - When should I talk to my family about dialysis or a kidney transplant? Did you check my kidney health with blood and urine tests? What was my GFR? What does that mean? Has my GFR changed since last time? What is my urine albumin level? What does that mean? Has my urine albumin changed since the last time it was checked? Is my kidney disease getting worse? Is my blood pressure where it needs to be? Will I need dialysis? When should I talk to my family about dialysis or a kidney transplant? (Watch the video to learn more about dialysis decisions. To enlarge the videos on this page, click the brackets in the lower right-hand corner of the video screen. To reduce the videos, press the Escape (Esc) button on your keyboard.) About treatment and self-care - What can I do to keep my disease from getting worse? - Do any of my medicines or doses need to be changed? - Do I need to change what I eat? Am I eating the right amount of protein, salt (sodium), potassium, and phosphorus? - Will you refer me to a dietitian for diet counseling? - When will I need to see a nephrologist (kidney specialist)? - What do I need to do to protect my veins? What can I do to keep my disease from getting worse? Do any of my medicines or doses need to be changed? Do I need to change what I eat? Am I eating the right amount of protein, salt (sodium), potassium, and phosphorus? Will you refer me to a dietitian for diet counseling? When will I need to see a nephrologist (kidney specialist)? What do I need to do to protect my veins? (Watch the video to learn more about lifestyle and diet changes to make with kidney disease.) About complications - What other health problems may I face because of my kidney disease? - Should I be looking for any symptoms? If so, what are they? What other health problems may I face because of my kidney disease? Should I be looking for any symptoms? If so, what are they? If you\\'re told that you need renal replacement therapy (dialysis or a transplant) - How do I decide which treatment is right for me? - How do I prepare for dialysis? - What is an AV fistula? - How soon do I begin preparing? - How can my family help me? How do I decide which treatment is right for me? How do I prepare for dialysis? What is an AV fistula? How soon do I begin preparing? How can my family help me?\\n<question>What causes Dry Mouth ?<answer>People get dry mouth when the glands in the mouth that make saliva are not working properly. Because of this, there might not be enough saliva to keep your mouth healthy. There are several reasons why these glands, called salivary glands, might not work right. Medicines and Dry Mouth More than 400 medicines, including some over-the-counter medications, can cause the salivary glands to make less saliva, or to change the composition of the saliva so that it can\\'t perform the functions it should. As an example, medicines for urinary incontinence, allergies, high blood pressure, and depression often cause dry mouth. Diseases That Can Cause Dry Mouth Some diseases can affect the salivary glands. Dry mouth can occur in patients with diabetes. Dry mouth is also the hallmark symptom of the fairly common autoimmune disease Sjgren\\'s syndrome. Sjgren\\'s syndrome can occur either by itself or with another autoimmune disease like rheumatoid arthritis or lupus. Salivary and tear glands are the major targets of the syndrome and the result is a decrease in production of saliva and tears. The disorder can occur at any age, but the average person with the disorder at the Sjgren\\'s Syndrome Clinic of the National Institute of Dental and Craniofacial Research (NIDCR) is in his or her late 50s. Women with the disorder outnumber men 9 to 1. Cancer Treatments and Dry Mouth Certain cancer treatments can affect the salivary glands. Head and neck radiation therapy can cause the glands to produce little or no saliva. Chemotherapy may cause the salivary glands to produce thicker saliva, which makes the mouth feel dry and sticky. Injury to the head or neck can damage the nerves that tell salivary glands to make saliva.\\n<question>What is (are) Dry Mouth ?<answer>Dry mouth is the feeling that there is not enough saliva in the mouth. Everyone has dry mouth once in a while -- if they are nervous, upset, under stress, or taking certain medications. But if you have dry mouth all or most of the time, see a dentist or physician. Many older adults have dry mouth, but it is not a normal part of aging. (Watch the video to learn more about dry mouth. To enlarge the video, click the brackets in the lower right-hand corner. To reduce the video, press the Escape (Esc) button on your keyboard.) Why Saliva is Important Saliva does more than keep your mouth wet. It protects teeth from decay, helps heal sores in your mouth, and prevents infection by controlling bacteria, viruses, and fungi in the mouth. Saliva helps digest food and helps us chew and swallow. Saliva is involved in taste perception as well. Each of these functions of saliva is hampered when a person has dry mouth. How Dry Mouth Feels Dry mouth can be uncomfortable. Some people notice a sticky, dry feeling in the mouth. Others notice a burning feeling or difficulty while eating. The throat may feel dry, too, making swallowing difficult and choking common. Also, people with dry mouth may get mouth sores, cracked lips, and a dry, rough tongue.\\n<question>What is (are) Dry Mouth ?<answer>Dry mouth is the feeling that there is not enough saliva in your mouth. Everyone has a dry mouth once in a while - if they are nervous, upset or under stress. But if you have a dry mouth all or most of the time, it can be uncomfortable and can lead to serious health problems. Symptoms of dry mouth include - A sticky, dry feeling in the mouth - Trouble chewing, swallowing, tasting, or speaking - A burning feeling in the mouth - A dry feeling in the throat - Cracked lips - A dry, rough tongue - Mouth sores - An infection in the mouth Dry mouth is not a normal part of aging. Causes include some medicines, radiation therapy, chemotherapy, and nerve damage. Salivary gland diseases, Sjogren\\'s syndrome, HIV/AIDS, and diabetes can also cause dry mouth. Treatment depends on the cause. Things you can do include sipping water, avoiding drinks with caffeine, tobacco, and alcohol, and chewing sugarless gum or sucking on sugarless hard candy. NIH: National Institute of Dental and Craniofacial Research\\n<question>What is (are) Dry Mouth ?<answer>National Institute of Dental and Craniofacial Research 1 NOHIC Way Bethesda, MD 20892-3500 (301) 402-7364 http://www.nidcr.nih.gov\\n<question>What is (are) COPD ?<answer>Chronic obstructive pulmonary disease, or COPD, is a progressive lung disease in which the airways of the lungs become damaged, making it hard to breathe. You may also have heard COPD called other names, like emphysema or chronic bronchitis. In people who have COPD, the airways that carry air in and out of the lungs are partially blocked, making it difficult to get air in and out. COPD is a major cause of death and illness throughout the world. It kills more than 120,000 Americans each year. That\\'s one death every 4 minutes. How COPD Affects Airways The \"airways\" are the tubes that carry air in and out of the lungs through the nose and mouth. The airways of the lungs branch out like an upside-down tree. At the end of each branch are many small, balloon-like air sacs. In healthy people, the airways and air sacs are elastic (stretchy). When you breathe in, each air sac fills up with air, like a small balloon, and when you breathe out, the balloon deflates and the air goes out. In people with COPD, the airways and air sacs lose their shape and become floppy. Less air gets in and less air goes out of the airways because - The airways and air sacs lose their elasticity like an old rubber band. - The walls between many of the air sacs are destroyed. - The walls of the airways become thick and inflamed or swollen. - Cells in the airways make more mucus or sputum than usual, which tends to clog the airways. The airways and air sacs lose their elasticity like an old rubber band. The walls between many of the air sacs are destroyed. The walls of the airways become thick and inflamed or swollen. Cells in the airways make more mucus or sputum than usual, which tends to clog the airways. COPD Develops Slowly, Has No Cure When COPD is severe, shortness of breath and other symptoms of COPD can get in the way of even the most basic tasks, such as doing light housework, taking a walk, even washing and dressing. COPD develops slowly, and it may be many years before you notice symptoms like feeling short of breath. Most of the time, COPD is diagnosed in middle-aged or older people. There is no cure for COPD. The damage to your airways and lungs cannot be reversed, but there are things you can do to control the disabling effects of the disease. COPD is not contagious. You cannot catch it from someone else.\\n<question>What are the symptoms of COPD ?<answer>The most common symptoms of COPD are a cough that does not go away and coughing up a lot of sputum (mucus). These symptoms may occur years before lung damage has reduced the flow of air in and out of the lungs. Other symptoms of COPD include shortness of breath, especially with exercise; wheezing (a whistling sound when you breathe); and tightness in the chest.\\n<question>What are the treatments for COPD ?<answer>Treatment for COPD can be different for each person and is based on whether symptoms are mild, moderate or severe. Treatments include medication, pulmonary or lung rehabilitation, oxygen treatment, and surgery. There are also treatments to manage complications or a sudden onset of symptoms.\\n<question>How to prevent COPD ?<answer>If you smoke, the most important thing you can do to prevent more lung damage is to stop smoking. It is also important to stay away from people who smoke and places where you know there will be smokers. Avoid exposure to pollutants like dust, fumes, and poor air quality, and take precautions to prevent flu and pneumonia. Following your doctor\\'s instructions with medications and rehabilitative treatment can help alleviate COPD symptoms and control the disabling effects of the disease.\\n<question>Who is at risk for Cataract? ?<answer>Age-related cataracts develop in two ways. - Clumps of protein reduce the sharpness of the image reaching the retina. - The clear lens slowly changes to a yellowish/brownish color, adding a brownish tint to vision. Clumps of protein reduce the sharpness of the image reaching the retina. The clear lens slowly changes to a yellowish/brownish color, adding a brownish tint to vision. Protein Clumpings Cloud the Lens The lens consists mostly of water and protein. When the protein clumps up, it clouds the lens and reduces the light that reaches the retina. The clouding may become severe enough to cause blurred vision. Most age-related cataracts develop from protein clumpings. When a cataract is small, the cloudiness affects only a small part of the lens. You may not notice any changes in your vision. Cataracts tend to grow slowly, so vision gets worse gradually. Over time, the cloudy area in the lens may get larger, and the cataract may increase in size. Seeing may become more difficult. Your vision may get duller or blurrier. Discoloration of the Lens Cataracts cause the lens to change to a yellowish/brownish color. As the clear lens slowly colors with age, your vision gradually may acquire a brownish shade. At first, the amount of tinting may be small and may not cause a vision problem. Over time, increased tinting may make it more difficult to read and perform other routine activities. This gradual change in the amount of tinting does not affect the sharpness of the image transmitted to the retina. If you have advanced lens discoloration, you may not be able to identify blues and purples. You may be wearing what you believe to be a pair of black socks, only to find out from friends that you are wearing purple socks. Risk Factors The risk of cataract increases as you get older. Other risk factors for cataract include - certain diseases like diabetes - personal behavior like smoking or alcohol use - environmental factors such as prolonged exposure to ultraviolet sunlight. certain diseases like diabetes personal behavior like smoking or alcohol use environmental factors such as prolonged exposure to ultraviolet sunlight.\\n<question>What is (are) Cataract ?<answer>National Eye Institute National Institutes of Health 2020 Vision Place Bethesda, MD 20892-3655 301-496-5248 E-mail: 2020@nei.nih.gov www.nei.nih.gov For more information about intraocular lenses, or IOLs, contact: U.S. Food and Drug Administration 10903 New Hampshire Avenue Silver Spring, MD 20993-0002 1-888-463-6332 E-mail: webmail@oc.fda.gov\\n<question>What is (are) Cataract ?<answer>A Clouding of the Lens in the Eye A cataract is a clouding of the lens in the eye that affects vision. The lens is a clear part of the eye that helps to focus light, or an image, on the retina. The retina is the light-sensitive tissue at the back of the eye. In a normal eye, light passes through the transparent lens to the retina. Once it reaches the retina, light is changed into nerve signals that are sent to the brain. In a normal eye, light passes through the transparent lens to the retina. Once it reaches the retina, light is changed into nerve signals that are sent to the brain. A cataract can occur in either or both eyes. It cannot spread from one eye to the other. Cataracts and Aging Most cataracts are related to aging. Cataracts are very common in older people. By age 80, more than half of all Americans either have a cataract or have had cataract surgery.\\n<question>What is (are) Cataract ?<answer>Yes. There are two types of cataract surgery, phacoemulsification and extracapsular surgery. Your doctor can explain the differences and help determine which is better for you. With phacoemulsification, or phaco, a small incision is made on the side of the cornea, the clear, dome-shaped surface that covers the front of the eye. Your doctor inserts a tiny probe into the eye. This device emits ultrasound waves that soften and break up the lens so that it can be removed by suction. Most cataract surgery today is done by phacoemulsification, also called \"small incision cataract surgery.\" With extracapsular surgery, your doctor makes a longer incision on the side of the cornea and removes the cloudy core of the lens in one piece. The rest of the lens is removed by suction.\\n<question>What are the treatments for Balance Problems ?<answer>Mnire\\'s disease is caused by changes in fluid volumes in the inner ear. People with Mnire\\'s disease can help reduce its dizzying effects by lowering the amount of salt (sodium) in their diets. Limiting alcohol or caffeine also may be helpful. Some medications, such as corticosteroids or the antibiotic gentamicin, also are used to treat Mnire\\'s disease. Although gentamicin can help reduce the dizziness that occurs with Mnire\\'s disease, it occasionally destroys sensory cells in the inner ear, which can result in permanent hearing loss. Corticosteroids don\\'t cause hearing loss; however, research is underway to determine if they are as effective as gentamicin Learn more about the treatments for Mnire\\'s disease.\\n<question>What are the treatments for Balance Problems ?<answer>In BPPV (benign paroxysmal positional vertigo), small calcium particles in the inner ear become displaced, causing dizziness. A doctor, otolaryngologist, audiologist, or physical therapist can treat BPPV by carefully moving the head and torso to move the displaced calcium particles back to their original position Learn more about causes and treatments for BPPV. An NIDCD-supported clinical trial in BPPV showed that repositioning maneuvers work well, and offered clinicians a range of choices in selecting the treatment best suited to each individuals unique needs.\\n<question>What are the treatments for Balance Problems ?<answer>Your doctor can recommend strategies to help reduce the effects of a balance disorder. Scientists are studying ways to develop new, more effective methods to treat and prevent balance disorders. Balance disorders can be signs of other health problems, such as an ear infection, stroke, or multiple sclerosis. In some cases, you can help treat a balance disorder by seeking medical treatment for the illness that is causing the disorder. Exercises for Balance Disorders Some exercises help make up for a balance disorder by moving the head and body in certain ways. The exercises are developed especially for a patient by a professional (often a physical therapist) who understands the balance system and its relationship with other systems in the body. In benign paroxysmal positional vertigo, or BPPV, small calcium particles in the inner ear become displaced, causing dizziness. BPPV can often be effectively treated by carefully moving the head and torso to move the displaced calcium particles back to their original position. For some people, one session will be all that is needed. Others might need to repeat the procedure several times at home to relieve their dizziness. Treating Mnire\\'s Disease Mnire\\'s disease is caused by changes in fluid volumes in the inner ear. People with Mnire\\'s disease can help reduce its dizzying effects by lowering the amount of sodium, or salt (sodium) in their diets. Limiting alcohol or caffeine also may be helpful. See suggestions for limiting salt (sodium) in your diet. Medications such as corticosteroids and the antibiotic gentamicin are used to treat Mnire\\'s disease. Gentamicin can help reduce the dizziness that occurs with Mnire\\'s disease, but in some cases it can also destroy sensory cells in the inner ear, resulting in permanent hearing loss. Corticosteroids don\\'t cause hearing loss, but research is underway to determine if they are as effective as gentamicin. Learn more about ways to treat Mnire\\'s disease. In some cases, surgery may be necessary to relieve a balance disorder. Treating Problems Due to High or Low Blood Pressure Balance problems due to high blood pressure can be managed by eating less salt (sodium), maintaining a healthy weight, and exercising. Balance problems due to low blood pressure may be managed by drinking plenty of fluids, such as water, avoiding alcohol, and being cautious regarding your body\\'s posture and movement, such as standing up slowly and avoiding crossing your legs when youre seated. Learn more about managing high blood pressure (hypertension). Learn more about managing low blood pressure (hypotension). Coping with a Balance Disorder Some people with a balance disorder may not be able to fully relieve their dizziness and will need to find ways to cope with it. A vestibular rehabilitation therapist can help you develop an individualized treatment plan. Talk to your doctor about whether its safe to drive, as well as ways to lower your risk of falling and getting hurt during daily activities, such as when you walk up or down stairs, use the bathroom, or exercise. To reduce your risk of injury from dizziness, avoid walking in the dark. You should also wear low-heeled shoes or walking shoes outdoors. If necessary, use a cane or walker and modify conditions at your home and workplace, such as by adding handrails. Current Research Scientists are working to understand the complex interactions between the brain and the part of the inner ear responsible for balance. They are also studying the effectiveness of certain exercises as a treatment option for balance disorders. In a study funded by the National Institute on Deafness and Other Communication Disorders (NIDCD), researchers created a virtual reality grocery store. This virtual store is a computer-simulated environment that seems to be a physical place in the real world, designed so people with balance disorders can safely walk on a treadmill as they practice looking for items on store shelves. The goal is to help reduce a person\\'s dizziness in confusing environments. NIDCD-supported scientists are also studying the use of a vestibular implant to stop a Mnires attack by restoring normal electrical activity in the vestibular nerve. This nerve conveys balance information to the brain. The device uses the same technology found in a cochlear implant, a medical device that currently provides a sense of sound to people who are deaf or hard-of-hearing. An NIDCD-supported clinical trial in benign paroxysmal positioning vertigo (BPPV) showed that repositioning maneuvers work well, and offered clinicians a range of choices in selecting the treatment best suited to each individuals unique needs. See more information about research on balance problems.\\n<question>How to prevent Balance Problems ?<answer>Scientists are working to understand the complex interactions between the brain and the part of the inner ear responsible for balance. They are also studying the effectiveness of certain exercises as a treatment option for balance disorders. An NIDCD-supported clinical trial in benign paroxysmal positioning vertigo (BPPV) showed that repositioning maneuvers work well, and offered clinicians a range of choices in selecting the treatment best suited to each individuals unique needs. NIDCD-funded researchers have created a virtual reality grocery store. This virtual store is a computer-simulated environment that seems to be a physical place in the real world. It is designed so people with balance disorders can safely walk on a treadmill as they practice looking for items on store shelves. The goal is to help reduce a person\\'s dizziness in confusing environments. NIDCD-supported scientists are also studying the use of a vestibular implant to stop a Mnires attack by restoring normal electrical activity in the vestibular nerve. This nerve conveys balance information to the brain. The device uses the same technology found in a cochlear implant, a medical device that currently provides a sense of sound to people who are deaf or hard-of-hearing.\\n<question>What causes Gout ?<answer>Most people with gout have too much uric acid in their blood, a condition called hyperuricemia. Uric acid is a substance that results from the breakdown of purines, which are part of all human tissue and are found in many foods, especially those high in protein. Needle-like crystals of uric acid can build up in the connective tissue, in the joint space between two bones, or both. If too many uric acid crystals form as a result of hyperuricemia, gout can develop.\\n<question>What are the treatments for Gout ?<answer>Symptoms Can Be Controlled With proper treatment, most people with gout are able to control their symptoms and live productive lives. The goals for treatment are to ease the pain that comes from sudden attacks, prevent future attacks, stop uric acid buildup in the tissues and joint space between two bones, and prevent kidney stones from forming. Common Treatments The most common treatments for an attack of gout are high doses of non-steroidal anti-inflammatory drugs (NSAIDs) which are taken by mouth, or corticosteroids, which are taken by mouth or injected into the affected joint. Patients often begin to improve within a few hours of treatment. The attack usually goes away completely within a week or so. Several NSAIDs are available over the counter. It is important to check with your doctor concerning the safety of using these drugs and to verify the proper dosage. When NSAIDs or corticosteroids fail to control pain and swelling, the doctor may use another drug, colchicine. This drug is most effective when taken within the first 12 hours of an acute attack. For patients who have repeated gout attacks, the doctor may prescribe medicine such as allupurinol, febuxostat, or probenecid to lower uric acid levels. In severe cases of gout that do not respond to other treatments, pegloticase, a medicine administered by intravenous infusion, may be prescribed to reduce levels of uric acid.\\n<question>What is (are) Gout ?<answer>The National Institute of Arthritis and Musculoskeletal and Skin Diseases (NIAMS) at NIH has more information about gout. Check out the information here. Also, see \"Key Words\" related to gout.\\n<question>Who is at risk for Gout? ?<answer>Renal insufficiency, or the inability of the kidneys to eliminate waste products, is a common cause of gout in older people. Here are other medical problems that contribute to high blood levels of uric acid and can put people at risk for gout. - high blood pressure - hypothyroidism (underactive thyroid gland) - conditions that cause an excessively rapid turnover of cells, such as psoriasis, hemolytic anemia, or some cancers - Kelley-Seegmiller syndrome or Lesch-Nyhan syndrome, two rare conditions in which the enzyme that helps control uric acid levels either is not present or is found in insufficient quantities. high blood pressure hypothyroidism (underactive thyroid gland) conditions that cause an excessively rapid turnover of cells, such as psoriasis, hemolytic anemia, or some cancers Kelley-Seegmiller syndrome or Lesch-Nyhan syndrome, two rare conditions in which the enzyme that helps control uric acid levels either is not present or is found in insufficient quantities.\\n<question>What are the complications of Wilson Disease ?<answer>People who have Wilson disease that is not treated or diagnosed early can have serious complications, such as - cirrhosisscarring of the liver - kidney damageas liver function decreases, the kidneys may be damaged - persistent nervous system problems when nervous system symptoms do not resolve - liver cancerhepatocellular carcinoma is a type of liver cancer that can occur in people with cirrhosis - liver failurea condition in which the liver stops working properly - death, if left untreated\\n<question>What are the treatments for Wilson Disease ?<answer>WD requires lifelong treatment, generally using drugs that remove excess copper from the body and prevent it from re-accumulating. Zinc, which blocks the absorption of copper in the stomach and causes no serious side effects, is often considered the treatment of choice. Penicillamine and trientine are copper chelators that increase urinary excretion of copper; however, both drugs have some side effects. Tetrathiomolybdate is an investigational copper chelating drug with a lower toxicity profile, but it has not been approved by the Food and Drug Administration for the treatment of WD and its long-term safety and effectiveness arent known. A low-copper diet is also recommended, which involves avoiding mushrooms, nuts, chocolate, dried fruit, liver, and shellfish. In rare cases where there is severe liver disease, a liver transplant may be needed. Symptomatic treatment for symptoms of muscle spasm, stiffness, and tremor may include anticholinergics, tizanidine, baclofen, levodopa, or clonazepam.\\n<question>What is the outlook for Wilson Disease ?<answer>Early onset of the disease may foretell a worse prognosis than later onset. If the disorder is detected early and treated appropriately, an individual with WD can usually enjoy normal health and a normal lifespan. If not treated, however, WD can cause brain damage, liver failure, and death. The disease requires lifelong treatment.\\n<question>What to do for Wilson Disease ?<answer>People with Wilson disease should reduce their dietary copper intake by avoiding foods that are high in copper, such as - shellfish - liver - mushrooms - nuts - chocolate People should not eat these foods during the initial treatment and talk with the health care provider to discuss if they are safe to eat in moderation during maintenance treatment. People with Wilson disease whose tap water runs through copper pipes or comes from a well should check the copper levels in the tap water. Water that sits in copper pipes may pick up copper residue, but running water lowers the level to within acceptable limits. People with Wilson disease should not use copper containers or cookware to store or prepare food or drinks. To help ensure coordinated and safe care, people should discuss their use of complementary and alternative medical practices, including their use of vitamins and dietary supplements, with their health care provider. Read more at www.nccam. nih.gov/health. If the health care provider recommends taking any type of supplement or vitamin, a pharmacist can recommend types that do not contain copper. People should talk with a health care provider about diet changes to reduce copper intake. Liver Transplant A liver transplant may be necessary in people when - cirrhosis leads to liver failure - acute liver failure happens suddenly - treatment is not effective A liver transplant is an operation to remove a diseased or an injured liver and replace it with a healthy one from another person, called a donor. A successful transplant is a life-saving treatment for people with liver failure. Most liver transplants are successful. About 85 percent of transplanted livers are functioning after 1 year.2 Liver transplant surgery provides a cure for Wilson disease in most cases. More information is provided in the NIDDK health topic, Liver Transplantation.\\n<question>What is (are) Medicare and Continuing Care ?<answer>Here are some questions to ask when considering choosing a nursing home. You may want to make surprise visits at different times of the day to verify conditions. - Is the nursing home Medicare- or Medicaid-certified? - Does the nursing home have the level of care needed (such as skilled or custodial care) and is a bed available? - Does the nursing home have special services if needed in a separate unit (such as a ventilator or rehabilitation) and is a bed available? - Are residents clean, well groomed, and appropriately dressed for the season or time of day? - Is the nursing home free from strong, unpleasant odors? - Does the nursing home appear to be clean and well kept? - Does the nursing home conduct staff background checks? - Does the nursing home staff interact warmly and respectfully with home residents? - Does the nursing home meet cultural, religious, and language needs? - Are the nursing home and the current administrator licensed? Is the nursing home Medicare- or Medicaid-certified? Does the nursing home have the level of care needed (such as skilled or custodial care) and is a bed available? Does the nursing home have special services if needed in a separate unit (such as a ventilator or rehabilitation) and is a bed available? Are residents clean, well groomed, and appropriately dressed for the season or time of day? Is the nursing home free from strong, unpleasant odors? Does the nursing home appear to be clean and well kept? Does the nursing home conduct staff background checks? Does the nursing home staff interact warmly and respectfully with home residents? Does the nursing home meet cultural, religious, and language needs? Are the nursing home and the current administrator licensed?\\n<question>What is (are) Medicare and Continuing Care ?<answer>Medicare Advantage Plans, sometimes known as Medicare Part C, are plans people can join to get their Medicare benefits. Medicare Advantage Plans are available in many areas of the country, and a person who joins one of these plans will get all Medicare-covered benefits. These plans cover hospital costs (Part A), medical costs (Part B), and sometimes prescription drug costs (Part D). Medicare Advantage Plans may also offer extra coverage, such as vision, hearing, dental, and/or health and wellness programs. Medicare Advantage Plans are managed by private insurance companies approved by Medicare. To join a Medicare Advantage Plan, a person must have Medicare Part A and Part B and must pay the monthly Medicare Part B premium to Medicare. In addition, it might be necessary to pay a monthly premium to the Medicare Advantage Plan for the extra benefits that they offer. In most of these plans, there are generally extra benefits and lower co-payments than in Original Medicare. (See Question #6 for information about Original Medicare.) However, a person may have to see doctors that belong to the plan or go to certain hospitals to get services. A person can switch plans each year in the fall if desired. To find out what Medicare Advantage Plans are available in your area, visit http://www.medicare.gov and choose the link Compare Health Plans and Medigap Policies in Your Area to use the Medicare Options Compare tool, or call 1-800-MEDICARE (1-800-633-4227).\\n<question>What is (are) Medicare and Continuing Care ?<answer>Medicare is a federal health insurance program for people - age 65 and older - under age 65 with certain disabilities who have been receiving Social Security disability benefits for a certain amount of time (24 months in most cases) - of any age who have End-Stage Renal Disease (ESRD), which is permanent kidney failure requiring dialysis or a transplant. age 65 and older under age 65 with certain disabilities who have been receiving Social Security disability benefits for a certain amount of time (24 months in most cases) of any age who have End-Stage Renal Disease (ESRD), which is permanent kidney failure requiring dialysis or a transplant. Medicare helps with the cost of health care, but it does not cover all medical expenses.\\n<question>What is (are) Medicare and Continuing Care ?<answer>Hospice care is a special way of caring for people who are terminally ill (dying) and helping their families cope. Hospice care includes treatment to relieve symptoms and keep the individual comfortable. The goal is to provide end-of-life care, not to cure the illness. Medical care, nursing care, social services, drugs for the terminal and related conditions, durable medical equipment, and other types of items and services can be a part of hospice care.\\n<question>What is (are) Prescription and Illicit Drug Abuse ?<answer>The prescription medications most commonly abused by people of any age are opioids (painkillers), depressants, and stimulants. Doctors prescribe opioids to relieve pain and, sometimes, to treat severe coughs and diarrhea. Common opioid prescription medications include the following: - morphine (MS Contin, Kadian, Avinza), which is used before and after surgical procedures to treat severe pain - codeine (Tylenol with Codeine, Robitussin AC), which is prescribed for mild pain - hydrocodone (Vicodin, Lortab, Zydone), which is prescribed to relieve moderate to severe pain - oxycodone (OxyContin, Percodan, Percocet, Tylox, Roxicet), which is used to relieve moderate to severe pain - fentanyl (Duragesic), which is a strong pain medication typically delivered through a pain patch and prescribed for severe ongoing pain morphine (MS Contin, Kadian, Avinza), which is used before and after surgical procedures to treat severe pain codeine (Tylenol with Codeine, Robitussin AC), which is prescribed for mild pain hydrocodone (Vicodin, Lortab, Zydone), which is prescribed to relieve moderate to severe pain oxycodone (OxyContin, Percodan, Percocet, Tylox, Roxicet), which is used to relieve moderate to severe pain fentanyl (Duragesic), which is a strong pain medication typically delivered through a pain patch and prescribed for severe ongoing pain For more on opioids, see What Are the Possible Consequences of Opioid Use and Abuse?\" Depressants are used to treat anxiety and sleep disorders. The types of depressants that are most commonly abused are barbiturates (Secobarbital ,Mebaral and Nembutal) and benzodiazepines (Valium, Librium, and Xanax). For more on depressants, see What Are the Possible Consequences of CNS Depressant Use and Abuse?\" Stimulants are used to treat narcolepsy (a sleep disorder), attention deficit hyperactivity disorder (ADHD), and depression that has not responded to other treatments. These medications increase alertness, attention, and energy. Stimulants include methylphenidate (Ritalin and Concerta), and amphetamines (Adderall). For more on stimulants, see What Are the Possible Consequences of Stimulant Use and Abuse?\"\\n<question>What is (are) Prescription and Illicit Drug Abuse ?<answer>Marijuana is the most abused illicit drug among people 50 and older.\\n<question>What are the treatments for Prescription and Illicit Drug Abuse ?<answer>Different types of medications may be useful at different stages of treatment to help a person stop abusing a substance, stay in treatment, focus on learning new behavioral skills, and avoid relapse. Currently, medications are available to treat addiction to opiates, nicotine, and alcohol, but none are yet approved for treating addiction to stimulants, marijuana, or depressants. Medications for substance abuse treatment help the brain adjust to the absence of the abused substance. These medications act slowly to stave off drug cravings and prevent relapse. For example, buprenorphine, marketed as Subutex or Suboxone, is prescribed by approved physicians to treat people who are addicted to opiate drugs, such as painkillers or heroin. Buprenorphine is useful in the short-term detoxification process by helping ease withdrawal symptoms and in the long-term by staving off cravings and helping prevent relapse. For more on treating opioid addiction, seeTreating Addiction to Prescription Opioids.\" For information on treating addiction to depressants, see \"Treating Addiction to CNS Depressants.\" For information on treating addiction to stimulants, see Treating Addiction to Prescription Stimulants.\"\\n<question>What causes Prescription and Illicit Drug Abuse ?<answer>Medications affect older people differently than younger people because aging changes how the body and brain handle these substances. As we age, our bodies change and cannot break down and get rid of substances as easily as before. This means that even a small amount of a medicine or a drug can have a strong effect. If you take medications the wrong way or abuse illicit drugs, this can have a serious effect on your health and make existing health problems worse. As people age, they may also become more sensitive to alcohols effects. For more information on the dangers of mixing alcohol and medicines, see Alcohol Use and Older Adults.\"\\n<question>What is (are) Glaucoma ?<answer>Glaucoma is a group of diseases that can damage the eye\\'s optic nerve. It is a leading cause of blindness in the United States. It usually happens when the fluid pressure inside the eyes slowly rises, damaging the optic nerve. Often there are no symptoms at first. Without treatment, people with glaucoma will slowly lose their peripheral, or side vision. They seem to be looking through a tunnel. Over time, straight-ahead vision may decrease until no vision remains. A comprehensive eye exam can tell if you have glaucoma. People at risk should get eye exams at least every two years. They include - African Americans over age 40 - People over age 60, especially Mexican Americans - People with a family history of glaucoma There is no cure, but glaucoma can usually be controlled. Early treatment can help protect your eyes against vision loss. Treatments usually include prescription eyedrops and/or surgery. NIH: National Eye Institute\\n<question>What is (are) Glaucoma ?<answer>Open-angle glaucoma is the most common form of glaucoma. In the normal eye, the clear fluid leaves the anterior chamber at the open angle where the cornea and iris meet. When the fluid reaches the angle, it flows through a spongy meshwork, like a drain, and leaves the eye. Sometimes, when the fluid reaches the angle, it passes too slowly through the meshwork drain, causing the pressure inside the eye to build. If the pressure damages the optic nerve, open-angle glaucoma -- and vision loss -- may result.\\n<question>What is (are) Glaucoma ?<answer>National Eye Institute National Institutes of Health 2020 Vision Place Bethesda, MD 20892-3655 301-496-5248 E-mail: 2020@nei.nih.gov www.nei.nih.gov The Glaucoma Foundation 80 Maiden Lane, Suite 700 New York, NY 10038 212-285-0080 Glaucoma Research Foundation 251 Post Street, Suite 600 San Francisco, CA 94108 1-800-826-6693\\n<question>What are the treatments for Glaucoma ?<answer>Although open-angle glaucoma cannot be cured, it can usually be controlled. While treatments may save remaining vision, they do not improve sight already lost from glaucoma. The most common treatments for glaucoma are medication and surgery. Medications Medications for glaucoma may be either in the form of eye drops or pills. Some drugs reduce pressure by slowing the flow of fluid into the eye. Others help to improve fluid drainage. (Watch the video to learn more about coping with glaucoma. To enlarge the video, click the brackets in the lower right-hand corner. To reduce the video, press the Escape (Esc) button on your keyboard.) For most people with glaucoma, regular use of medications will control the increased fluid pressure. But, these drugs may stop working over time. Or, they may cause side effects. If a problem occurs, the eye care professional may select other drugs, change the dose, or suggest other ways to deal with the problem. Read or listen to ways some patients are coping with glaucoma. Surgery Laser surgery is another treatment for glaucoma. During laser surgery, a strong beam of light is focused on the part of the anterior chamber where the fluid leaves the eye. This results in a series of small changes that makes it easier for fluid to exit the eye. Over time, the effect of laser surgery may wear off. Patients who have this form of surgery may need to keep taking glaucoma drugs. Researching Causes and Treatments Through studies in the laboratory and with patients, NEI is seeking better ways to detect, treat, and prevent vision loss in people with glaucoma. For example, researchers have discovered genes that could help explain how glaucoma damages the eye. NEI also is supporting studies to learn more about who is likely to get glaucoma, when to treat people who have increased eye pressure, and which treatment to use first.\\n<question>What is (are) Rheumatoid Arthritis ?<answer>Rest. People with rheumatoid arthritis need a good balance between rest and exercise; they should rest more when the disease is active and exercise more when it is not. Rest helps to reduce active joint inflammation and pain and to fight fatigue. The length of time for rest will vary from person to person, but in general, shorter rest breaks every now and then are more helpful than long times spent in bed. Exercise. Exercise is important for maintaining healthy and strong muscles, preserving joint mobility, and maintaining flexibility. Exercise can help people sleep well, reduce pain, maintain a positive attitude, and manage weight. Exercise programs should take into account the persons physical abilities, limitations, and changing needs. For more information on exercise classes, you may want to contact the Arthritis Foundation at 1-800-283-7800. Learn more about the health benefits of exercise for older adults. More information about exercise and physical activity for older adults can be found at Go4Life, the exercise and and physical activity campaign from the National Institute on Aging. Diet. Special diets, vitamin supplements, and other alternative approaches have been suggested for treating rheumatoid arthritis. Although such approaches may not be harmful, scientific studies have not yet shown any benefits. An overall nutritious diet with the right amount of calories, protein, and calcium is important. Some people need to be careful about drinking alcoholic beverages because of the medications they take for rheumatoid arthritis. See Eating Well as You Get Older to learn more about healthy eating. Joint Care. Some people find that using a splint for a short time around a painful joint reduces pain and swelling by supporting the joint and letting it rest. Assistive devices may help reduce stress and lessen pain in the joints. Examples include zipper pullers and aids to help with moving in and out of chairs and beds. Stress Reduction. Finding ways to reduce stress is important. Regular rest periods can help and so can relaxation, distraction, or visualization exercises. Exercise programs, participation in support groups, and good communication with the health care team are other ways to reduce stress. Learn about relaxation techniques that may relieve tension.\\n<question>What causes Rheumatoid Arthritis ?<answer>Scientists believe that rheumatoid arthritis may result from the interaction of many factors such as genetics, hormones, and the environment. Although rheumatoid arthritis sometimes runs in families, the actual cause of rheumatoid arthritis is still unknown. Research suggests that a person\\'s genetic makeup is an important part of the picture, but not the whole story. Some evidence shows that infectious agents, such as viruses and bacteria, may trigger rheumatoid arthritis in people with an inherited tendency to develop the disease. The exact agent or agents, however, are not yet known. It is important to note that rheumatoid arthritis is not contagious. A person cannot catch it from someone else. Learn more about the causes of rheumatoid arthritis.\\n<question>What are the treatments for Rheumatoid Arthritis ?<answer>Most Symptoms Are Treatable Doctors use a variety of approaches to treat rheumatoid arthritis. The goals of treatment are to help relieve pain, reduce swelling, slow down or help prevent joint damage, increase the ability to function, and improve the sense of well-being. Current treatment approaches include - lifestyle modification - medications - surgery - routine monitoring and ongoing care. lifestyle modification medications surgery routine monitoring and ongoing care. Balance Rest and Exercise People with rheumatoid arthritis need a good balance between rest and exercise; they should rest more when the disease is active and exercise more when it is not. Rest helps to reduce active joint inflammation and pain and to fight fatigue. The length of time for rest will vary from person to person, but in general, shorter rest breaks every now and then are more helpful than long times spent in bed. Exercise is important for maintaining healthy and strong muscles, preserving joint mobility, and maintaining flexibility. Exercise can also help people sleep well, reduce pain, maintain a positive attitude, and manage weight. Exercise programs should take into account the persons physical abilities, limitations, and changing needs. Learn more about the health benefits of exercise for older adults. More information about exercise and physical activity for older adults can be found at Go4Life, the exercise and physical activity campaign from the National Institute on Aging. Reduce Stress People with rheumatoid arthritis face emotional challenges as well as physical ones. The emotions they feel because of the diseasefear, anger, and frustrationcombined with any pain and physical limitations can increase their stress level. Finding ways to reduce stress is important. Regular rest periods can help and so can relaxation, distraction, or visualization exercises. Exercise programs, participation in support groups, and good communication with the health care team are other ways to reduce stress. For more information on exercise classes, you may want to contact the Arthritis Foundation at 1-800-283-7800. Learn about relaxation techniques that may relieve tension. Eat a Healthful Diet Special diets, vitamin supplements, and other alternative approaches have been suggested for treating rheumatoid arthritis. Although such approaches may not be harmful, scientific studies have not yet shown any benefits. Special diets, vitamin supplements, and other alternative approaches have been suggested for treating rheumatoid arthritis. Although such approaches may not be harmful, scientific studies have not yet shown any benefits. See Eating Well as You Get Older for more about healthy eating. Reduce Stress on Joints Some people find using a splint for a short time around a painful joint reduces pain and swelling by supporting the joint and letting it rest. Splints are used mostly on wrists and hands, but also on ankles and feet. A doctor or a physical or occupational therapist can help a person choose a splint and make sure it fits properly. Other ways to reduce stress on joints include - self-help devices (for example, zipper pullers, long-handled shoe horns) - devices to help with getting on and off chairs, toilet seats, and beds - changes in the ways that a person carries out daily activities. self-help devices (for example, zipper pullers, long-handled shoe horns) devices to help with getting on and off chairs, toilet seats, and beds changes in the ways that a person carries out daily activities. Medications Most people who have rheumatoid arthritis take medications. Some drugs only provide relief for pain; others reduce inflammation. Still others, called disease-modifying anti-rheumatic drugs or DMARDs, can often slow the course of the disease. - DMARDs include methotrexate, leflunomide, sulfasalazine, and cyclosporine. DMARDs include methotrexate, leflunomide, sulfasalazine, and cyclosporine. - Steroids, which are also called corticosteroids, are another type of drug used to reduce inflammation for people with rheumatoid arthritis. Cortisone, hydrocortisone, and prednisone are some commonly used steroids. Steroids, which are also called corticosteroids, are another type of drug used to reduce inflammation for people with rheumatoid arthritis. Cortisone, hydrocortisone, and prednisone are some commonly used steroids. - DMARDS called biologic response modifiers also can help reduce joint damage. These drugs include etanercept, infliximab, anakinra, golimumab, adalimumab, rituximab, and abatacept. DMARDS called biologic response modifiers also can help reduce joint damage. These drugs include etanercept, infliximab, anakinra, golimumab, adalimumab, rituximab, and abatacept. - Another DMARD, tofacitinib, from a new class of drugs called jak kinase (JAK) inhibitors is also available. Another DMARD, tofacitinib, from a new class of drugs called jak kinase (JAK) inhibitors is also available. Early treatment with powerful drugs and drug combinations -- including biologic response modifiers and DMARDs -- instead of single drugs may help prevent the disease from progressing and greatly reduce joint damage. Surgery In some cases, a doctor will recommend surgery to restore function or relieve pain in a damaged joint. Surgery may also improve a person\\'s ability to perform daily activities. Joint replacement and tendon reconstruction are two types of surgery available to patients with severe joint damage. Routine Monitoring and Ongoing Care Regular medical care is important to monitor the course of the disease, determine the effectiveness and any negative effects of medications, and change therapies as needed. Monitoring typically includes regular visits to the doctor. It also may include blood, urine, and other laboratory tests and x rays. Monitor Osteoporosis Risk People with rheumatoid arthritis may want to discuss preventing osteoporosis with their doctors as part of their long-term, ongoing care. Osteoporosis is a condition in which bones become weakened and fragile. Having rheumatoid arthritis increases the risk of developing osteoporosis for both men and women, particularly if a person takes corticosteroids. Such patients may want to discuss with their doctors the potential benefits of calcium and vitamin D supplements or other treatments for osteoporosis. See What is Osteoporosis? to learn more about this disease.\\n<question>What are the symptoms of Rheumatoid Arthritis ?<answer>Rheumatoid arthritis is characterized by inflammation of the joint lining. This inflammation causes warmth, redness, swelling, and pain around the joints. The pain of rheumatoid arthritis varies greatly from person to person, for reasons that doctors do not yet understand completely. Factors that contribute to the pain include swelling within the joint, the amount of heat or redness present, or damage that has occurred within the joint.\\n<question>What are the stages of Neuroblastoma ?<answer>Key Points - After neuroblastoma has been diagnosed, tests are done to find out if cancer has spread from where it started to other parts of the body. - There are three ways that cancer spreads in the body. - Cancer may spread from where it began to other parts of the body. - The following stages are used for neuroblastoma: - Stage 1 - Stage 2 - Stage 3 - Stage 4 - Treatment of neuroblastoma is based on risk groups. After neuroblastoma has been diagnosed, tests are done to find out if cancer has spread from where it started to other parts of the body. The process used to find out the extent or spread of cancer is called staging. The information gathered from the staging process helps determine the stage of the disease. For neuroblastoma, the stage of disease affects whether the cancer is low risk, intermediate risk, or high risk. It also affects the treatment plan. The results of some tests and procedures used to diagnose neuroblastoma may be used for staging. See the General Information section for a description of these tests and procedures. The following tests and procedures also may be used to determine the stage: - Lymph node biopsy : The removal of all or part of a lymph node. A pathologist views the tissue under a microscope to look for cancer cells. One of the following types of biopsies may be done: - Excisional biopsy : The removal of an entire lymph node. - Incisional biopsy : The removal of part of a lymph node. - Core biopsy : The removal of tissue from a lymph node using a wide needle. - Fine-needle aspiration (FNA) biopsy : The removal of tissue or fluid from a lymph node using a thin needle. - X-ray of the bone: An x-ray is a type of energy beam that can go through the body and onto film, making a picture of areas inside the body. - Bone scan : A procedure to check if there are rapidly dividing cells, such as cancer cells, in the bone. A very small amount of radioactive material is injected into a vein and travels through the bloodstream. The radioactive material collects in the bones with cancer and is detected by a scanner. - PET scan (positron emission tomography scan): A procedure to find malignant tumor cells in the body. A small amount of radioactive glucose (sugar) is injected into a vein. The PET scanner rotates around the body and makes a picture of where glucose is being used in the body. Malignant tumor cells show up brighter in the picture because they are more active and take up more glucose than normal cells do. There are three ways that cancer spreads in the body. Cancer can spread through tissue, the lymph system, and the blood: - Tissue. The cancer spreads from where it began by growing into nearby areas. - Lymph system. The cancer spreads from where it began by getting into the lymph system. The cancer travels through the lymph vessels to other parts of the body. - Blood. The cancer spreads from where it began by getting into the blood. The cancer travels through the blood vessels to other parts of the body. Cancer may spread from where it began to other parts of the body. When cancer spreads to another part of the body, it is called metastasis. Cancer cells break away from where they began (the primary tumor) and travel through the lymph system or blood. - Lymph system. The cancer gets into the lymph system, travels through the lymph vessels, and forms a tumor (metastatic tumor) in another part of the body. - Blood. The cancer gets into the blood, travels through the blood vessels, and forms a tumor (metastatic tumor) in another part of the body. The metastatic tumor is the same type of cancer as the primary tumor. For example, if neuroblastoma spreads to the liver, the cancer cells in the liver are actually neuroblastoma cells. The disease is metastatic neuroblastoma, not liver cancer. The following stages are used for neuroblastoma: Stage 1 In stage 1, the tumor is in only one area and all of the tumor that can be seen is completely removed during surgery. Stage 2 Stage 2 is divided into stages 2A and 2B. - Stage 2A: The tumor is in only one area and all of the tumor that can be seen cannot be completely removed during surgery. - Stage 2B: The tumor is in only one area and all of the tumor that can be seen may be completely removed during surgery. Cancer cells are found in the lymph nodes near the tumor. Stage 3 In stage 3, one of the following is true: - the tumor cannot be completely removed during surgery and has spread from one side of the body to the other side and may also have spread to nearby lymph nodes; or - the tumor is in only one area, on one side of the body, but has spread to lymph nodes on the other side of the body; or - the tumor is in the middle of the body and has spread to tissues or lymph nodes on both sides of the body, and the tumor cannot be removed by surgery. Stage 4 Stage 4 is divided into stages 4 and 4S. - In stage 4, the tumor has spread to distant lymph nodes or other parts of the body. - In stage 4S: - the child is younger than 12 months; and - the cancer has spread to the skin, liver, and/or bone marrow; and - the tumor is in only one area and all of the tumor that can be seen may be completely removed during surgery; and/or - cancer cells may be found in the lymph nodes near the tumor. Treatment of neuroblastoma is based on risk groups. For many types of cancer, stages are used to plan treatment. For neuroblastoma, treatment depends on risk groups. The stage of neuroblastoma is one factor used to determine risk group. Other factors are the age of the child, tumor histology, and tumor biology. There are three risk groups: low risk, intermediate risk, and high risk. - Low-risk and intermediate-risk neuroblastoma have a good chance of being cured. - High-risk neuroblastoma may be hard to cure.\\n<question>What are the symptoms of Neuroblastoma ?<answer>Signs and symptoms of neuroblastoma include bone pain and a lump in the abdomen, neck, or chest.The most common signs and symptoms of neuroblastoma are caused by the tumor pressing on nearby tissues as it grows or by cancer spreading to the bone. These and other signs and symptoms may be caused by neuroblastoma or by other conditions. Check with your childs doctor if your child has any of the following: - Lump in the abdomen, neck, or chest. - Bulging eyes. - Dark circles around the eyes (\"black eyes\"). - Bone pain. - Swollen stomach and trouble breathing (in infants). - Painless, bluish lumps under the skin (in infants). - Weakness or paralysis (loss of ability to move a body part). Less common signs and symptoms of neuroblastoma include the following: - Fever. - Shortness of breath. - Feeling tired. - Easy bruising or bleeding. - Petechiae (flat, pinpoint spots under the skin caused by bleeding). - High blood pressure. - Severe watery diarrhea. - Horner syndrome (droopy eyelid, smaller pupil, and less sweating on one side of the face). - Jerky muscle movements. - Uncontrolled eye movements.\\n<question>What is (are) Neuroblastoma ?<answer>Key Points - Neuroblastoma is a disease in which malignant (cancer) cells form in neuroblasts (immature nerve tissue) in the adrenal gland, neck, chest, or spinal cord. - Neuroblastoma is sometimes caused by a gene mutation (change) passed from the parent to the child. - Signs and symptoms of neuroblastoma include bone pain and a lump in the abdomen, neck, or chest. - Tests that examine many different body tissues and fluids are used to detect (find) and diagnose neuroblastoma. - A biopsy is done to diagnose neuroblastoma. - Certain factors affect prognosis (chance of recovery) and treatment options. Neuroblastoma is a disease in which malignant (cancer) cells form in neuroblasts (immature nerve tissue) in the adrenal gland, neck, chest, or spinal cord. Neuroblastoma often begins in the nerve tissue of the adrenal glands. There are two adrenal glands, one on top of each kidney in the back of the upper abdomen. The adrenal glands make important hormones that help control heart rate, blood pressure, blood sugar, and the way the body reacts to stress. Neuroblastoma may also begin in nerve tissue in the neck, chest, abdomen or pelvis. Neuroblastoma most often begins in infancy and may be diagnosed in the first month of life. It is found when the tumor begins to grow and cause signs or symptoms. Sometimes it forms before birth and is found during a fetal ultrasound. By the time neuroblastoma is diagnosed, the cancer has usually metastasized (spread). Neuroblastoma spreads most often to the lymph nodes, bones, bone marrow, and liver. In infants, it also spreads to the skin.\\n<question>Is Neuroblastoma inherited ?<answer>Neuroblastoma is sometimes caused by a gene mutation (change) passed from the parent to the child. Gene mutations that increase the risk of neuroblastoma are sometimes inherited (passed from the parent to the child). In children with a gene mutation, neuroblastoma usually occurs at a younger age and more than one tumor may form in the adrenal glands.\\n<question>What to do for Short Bowel Syndrome ?<answer>- Short bowel syndrome is a group of problems related to poor absorption of nutrients. - People with short bowel syndrome cannot absorb enough water, vitamins, minerals, protein, fat, calories, and other nutrients from food. - The main symptom of short bowel syndrome is diarrhealoose, watery stools. Diarrhea can lead to dehydration, malnutrition, and weight loss. - A health care provider will recommend treatment for short bowel syndrome based on a patient\\'s nutritional needs. Treatment may include - nutritional support - medications - surgery - intestinal transplant\\n<question>What to do for Short Bowel Syndrome ?<answer>Researchers have not found that eating, diet, and nutrition play a role in causing or preventing short bowel syndrome.\\n<question>What are the complications of Short Bowel Syndrome ?<answer>The complications of short bowel syndrome may include - malnutrition - peptic ulcerssores on the lining of the stomach or duodenum caused by too much gastric acid - kidney stonessolid pieces of material that form in the kidneys - small intestinal bacterial overgrowtha condition in which abnormally large numbers of bacteria grow in the small intestine Seek Help for Signs or Symptoms of Severe Dehydration People who have any signs or symptoms of severe dehydration should call or see a health care provider right away: - excessive thirst - dark-colored urine - infrequent urination - lethargy, dizziness, or faintness - dry skin Infants and children are most likely to become dehydrated. Parents or caretakers should watch for the following signs and symptoms of dehydration: - dry mouth and tongue - lack of tears when crying - infants with no wet diapers for 3 hours or more - infants with a sunken soft spot - unusually cranky or drowsy behavior - sunken eyes or cheeks - fever If left untreated, severe dehydration can cause serious health problems: - organ damage - shockwhen low blood pressure prevents blood and oxygen from getting to organs - comaa sleeplike state in which a person is not conscious\\n<question>How to diagnose Short Bowel Syndrome ?<answer>A health care provider diagnoses short bowel syndrome based on - a medical and family history - a physical exam - blood tests - fecal fat tests - an x-ray of the small and large intestines - upper gastrointestinal (GI) series - computerized tomography (CT) scan Medical and Family History Taking a medical and family history may help a health care provider diagnose short bowel syndrome. He or she will ask the patient about symptoms and may request a history of past operations. Physical Exam A physical exam may help diagnose short bowel syndrome. During a physical exam, a health care provider usually - examines a patient\\'s body, looking for muscle wasting or weight loss and signs of vitamin and mineral deficiencies - uses a stethoscope to listen to sounds in the abdomen - taps on specific areas of the patient\\'s body Blood Tests A blood test involves drawing a patient\\'s blood at a health care provider\\'s office or a commercial facility and sending the sample to a lab for analysis. Blood tests can show mineral and vitamin levels and measure complete blood count. Fecal Fat Tests A fecal fat test measures the body\\'s ability to break down and absorb fat. For this test, a patient provides a stool sample at a health care provider\\'s office. The patient may also use a take-home test kit. The patient collects stool in plastic wrap that he or she lays over the toilet seat and places a sample into a container. A patient can also use a special tissue provided by the health care provider\\'s office to collect the sample and place the tissue into the container. For children wearing diapers, the parent or caretaker can line the diaper with plastic to collect the stool. The health care provider will send the sample to a lab for analysis. A fecal fat test can show how well the small intestine is working. X-ray An x-ray is a picture created by using radiation and recorded on film or on a computer. The amount of radiation used is small. An x-ray technician performs the x-ray at a hospital or an outpatient center, and a radiologista doctor who specializes in medical imaginginterprets the images. An x-ray of the small intestine can show that the last segment of the large intestine is narrower than normal. Blocked stool causes the part of the intestine just before this narrow segment to stretch and bulge. Upper Gastrointestinal Series Upper GI series, also called a barium swallow, uses x rays and fluoroscopy to help diagnose problems of the upper GI tract. Fluoroscopy is a form of x ray that makes it possible to see the internal organs and their motion on a video monitor. An x-ray technician performs this test at a hospital or an outpatient center, and a radiologist interprets the images. During the procedure, the patient will stand or sit in front of an x-ray machine and drink barium, a chalky liquid. Barium coats the esophagus, stomach, and small intestine so the radiologist and a health care provider can see the shape of these organs more clearly on x-rays. A patient may experience bloating and nausea for a short time after the test. For several days afterward, barium liquid in the GI tract causes white or light-colored stools. A health care provider will give the patient specific instructions about eating and drinking after the test. Upper GI series can show narrowing and widening of the small and large intestines. More information is provided in the NIDDK health topic, Upper GI Series. Computerized Tomography Scan Computerized tomography scans use a combination of x-rays and computer technology to create images. For a CT scan, a health care provider may give the patient a solution to drink and an injection of a special dye, called a contrast medium. CT scans require the patient to lie on a table that slides into a tunnel-shaped device that takes x-rays. An x-ray technician performs the procedure in an outpatient center or a hospital, and a radiologist interprets the images. The patient does not need anesthesia. CT scans can show bowel obstruction and changes in the intestines.\\n<question>What causes Problems with Taste ?<answer>Yes. Certain medicines can cause a change in our ability to taste. The medicines that most frequently do this are certain antibiotics and some antihistamines, although other medications can affect our sense of taste as well. If your medicine is causing a problem with your sense of taste, your doctor may be able to adjust or change your medicine. If not, he or she may suggest ways to manage your problem. Do not stop taking your medications unless directed by your doctor. Your doctor will work with you to get the medicine you need while trying to reduce unwanted side effects.\\n<question>How many people are affected by Problems with Taste ?<answer>Roughly 200,000 people each year visit a doctor for a chemosensory problem such as a taste disorder. Many more taste disorders go unreported.\\n<question>what research (or clinical trials) is being done for Problems with Taste ?<answer>The National Institute on Deafness and Other Communication Disorders (NIDCD) supports basic and clinical investigations of smell and taste disorders at its laboratories in Bethesda, Md. and at universities and chemosensory research centers across the country. These chemosensory scientists are exploring how to - prevent the effects of aging on taste and smell - develop new diagnostic tests - understand associations between taste disorders and changes in diet and food preferences in the elderly or among people with chronic illnesses - improve treatment methods and rehabilitation strategies. prevent the effects of aging on taste and smell develop new diagnostic tests understand associations between taste disorders and changes in diet and food preferences in the elderly or among people with chronic illnesses improve treatment methods and rehabilitation strategies. Studies on Aging and Taste A recent NIDCD-funded study has shown that small variations in our genetic code can raise or lower our sensitivity to sweet tastes, which might influence a persons desire for sweets. Scientists have also made progress in understanding how our sense of taste changes as we age. Older adults often decide what to eat based on how much they like or dislike certain tastes. Scientists are looking at how and why this happens in order to develop more effective ways to help older people cope better with taste problems. Studies on Taste Receptors Some of the most recent chemosensory research focuses on identifying the key receptors expressed by our taste cells and understanding how those receptors send signals to the brain. Researchers are also working to develop a better understanding of how sweet and bitter substances attach to their targeted receptors. This research holds promise for the development of sugar or salt substitutes that could help combat obesity or hypertension, as well as the development of bitter blockers that could make life-saving medicines more acceptable to children. Taste cellsas well as sensory cells that help us smellare the only sensory cells in the human body that are regularly replaced throughout life. Researchers are exploring how and why this happens so that they might find ways to replace other damaged sensory cells. Gut and Sweet Receptors Scientists are gaining a better understanding of why the same receptor that helps our tongue detect sweet taste can also be found in the human gut. Recent research has shown that the sweet receptor helps the intestine to sense and absorb sugar and turn up the production of blood sugar-regulation hormones, including the hormone that regulates insulin release. Further research may help scientists develop drugs targeting the gut taste receptors to treat obesity and diabetes. Effects of Medications on Taste Scientists are also working to find out why some medications and medical procedures can have a harmful effect on our senses of taste and smell. They hope to develop treatments to help restore the sense of taste to people who have lost it.\\n<question>What are the treatments for Problems with Taste ?<answer>Depending on the cause of your taste disorder, your doctor may be able to treat your problem or suggest ways to cope with it. If a certain medication is the cause of the problem, your doctor may be able to adjust or change your medicine. Your doctor will work with you to get the medicine you need while trying to reduce unwanted side effects. Some patients with respiratory infections regain their sense of taste when the illness is over. Often, correcting a general medical problem can restore the sense of taste. Occasionally, the sense of taste returns to normal on its own without any treatment.\\n<question>What are the treatments for Narcolepsy ?<answer>How might narcolepsy be treated? There is currently no cure for narcolepsy, but some of the symptoms can be managed with medications and lifestyle changes. Most affected people improve if they maintain a regular sleep schedule, usually 7.5 to 8 hours of sleep per night. Scheduled naps during the day also may help. Other measures that may help include participating in an exercise program; receiving emotional support and career or vocational counseling; and avoiding high-risk behaviors such as alcohol and drug use, which may make symptoms worse. Common-sense measures should be taken to enhance sleep quality (such as avoiding heavy meals before bed time). Treatment with medications involves the use of central nervous system (CNS) stimulants. These medications help reduce daytime sleepiness and improve this symptom in 65-85% of affected people. Two types of antidepressant drugs (tricyclics, and selective serotonin and noradrenergic reuptake inhibitors) are effective in controlling cataplexy in many people. Sodium oxybate (a strong sedative taken during the night) may also be used to treat narcolepsy. You can view detailed information about the treatment of narcolepsy on Medscape\\'s Web site.\\n<question>What causes Narcolepsy ?<answer>Most people who have narcolepsy have low levels of hypocretin. This is a chemical in the brain that helps promote wakefulness. What causes low hypocretin levels isn\\'t well understood. Researchers think that certain factors may work together to cause a lack of hypocretin. These factors may include: Heredity. Some people may inherit a gene that affects hypocretin. Up to 10 percent of people who have narcolepsy report having a relative who has the same symptoms. Infections. Brain injuries caused by conditions such as brain tumors, strokes, or trauma (for example, car accidents or military-related wounds). Autoimmune disorders. With these disorders, the body\\'s immune system mistakenly attacks the body\\'s cells and tissues. An example of an autoimmune disorder is rheumatoid arthritis. Low levels of histamine, a substance in the blood that promotes wakefulness. Some research suggests that environmental toxins may play a role in triggering narcolepsy. Toxins may include heavy metals, pesticides and weed killers, and secondhand smoke. Heredity alone doesn\\'t cause narcolepsy. You also must have at least one other factor, such as one of those listed above, to develop narcolepsy.\\n<question>What is the outlook for Narcolepsy ?<answer>None of the currently available medications enables people with narcolepsy to consistently maintain a fully normal state of alertness. But EDS and cataplexy, the most disabling symptoms of the disorder, can be controlled in most patients with drug treatment. Often the treatment regimen is modified as symptoms change. Whatever the age of onset, patients find that the symptoms tend to get worse over the two to three decades after the first symptoms appear. Many older patients find that some daytime symptoms decrease in severity after age 60.\\n<question>How to diagnose Narcolepsy ?<answer>How is narcolepsy diagnosed? Narcolepsy is often diagnosed in adolescence and young adulthood, when falling asleep suddenly in school brings the problem to attention. However, for many people with narcolepsy, the disorder is not diagnosed for up to 10-15 years after symptoms first begin. The disorder may be misdiagnosed as various other conditions or psychological problems. While it is most easily recognized if all the major symptoms are reported, making the diagnosis based solely on symptoms is difficult. People often seek medical help for single symptoms that could be associated with other disorders, particularly epilepsy. In come cases, symptoms are not dramatically apparent for years. Sleep studies are an essential part of the evaluation of people with possible narcolepsy. The combination of an overnight polysomnogram (PSG) followed by a multiple sleep latency test (MSLT) can provide strongly suggestive evidence of narcolepsy, while excluding other sleep disorders. Measurement of hypocretin levels in the cerebrospinal fluid (CSF) may further help to establish the diagnosis. People with narcolepsy often have extremely low levels of hypocretin in their CSF. In some cases, human leukocyte antigen (HLA) typing may be helpful.\\n<question>What are the treatments for Endometrial Cancer ?<answer>Key Points - There are different types of treatment for patients with endometrial cancer. - Five types of standard treatment are used: - Surgery - Radiation therapy - Chemotherapy - Hormone therapy - Targeted therapy - New types of treatment are being tested in clinical trials. - Patients may want to think about taking part in a clinical trial. - Patients can enter clinical trials before, during, or after starting their cancer treatment. - Follow-up tests may be needed. There are different types of treatment for patients with endometrial cancer. Different types of treatment are available for patients with endometrial cancer. Some treatments are standard (the currently used treatment), and some are being tested in clinical trials. A treatment clinical trial is a research study meant to help improve current treatments or obtain information on new treatments for patients with cancer. When clinical trials show that a new treatment is better than the standard treatment, the new treatment may become the standard treatment. Patients may want to think about taking part in a clinical trial. Some clinical trials are open only to patients who have not started treatment. Five types of standard treatment are used: Surgery Surgery (removing the cancer in an operation) is the most common treatment for endometrial cancer. The following surgical procedures may be used: - Total hysterectomy: Surgery to remove the uterus, including the cervix. If the uterus and cervix are taken out through the vagina, the operation is called a vaginal hysterectomy. If the uterus and cervix are taken out through a large incision (cut) in the abdomen, the operation is called a total abdominal hysterectomy. If the uterus and cervix are taken out through a small incision (cut) in the abdomen using a laparoscope, the operation is called a total laparoscopic hysterectomy. - Bilateral salpingo-oophorectomy: Surgery to remove both ovaries and both fallopian tubes. - Radical hysterectomy: Surgery to remove the uterus, cervix, and part of the vagina. The ovaries, fallopian tubes, or nearby lymph nodes may also be removed. - Lymph node dissection: A surgical procedure in which the lymph nodes are removed from the pelvic area and a sample of tissue is checked under a microscope for signs of cancer. This procedure is also called lymphadenectomy. Even if the doctor removes all the cancer that can be seen at the time of the surgery, some patients may be given radiation therapy or hormone treatment after surgery to kill any cancer cells that are left. Treatment given after the surgery, to lower the risk that the cancer will come back, is called adjuvant therapy. Radiation therapy Radiation therapy is a cancer treatment that uses high-energy x-rays or other types of radiation to kill cancer cells or keep them from growing. There are two types of radiation therapy: - External radiation therapy uses a machine outside the body to send radiation toward the cancer. - Internal radiation therapy uses a radioactive substance sealed in needles, seeds, wires, or catheters that are placed directly into or near the cancer. The way the radiation therapy is given depends on the type and stage of the cancer being treated. External and internal radiation therapy are used to treat endometrial cancer, and may also be used as palliative therapy to relieve symptoms and improve quality of life. Chemotherapy Chemotherapy is a cancer treatment that uses drugs to stop the growth of cancer cells, either by killing the cells or by stopping the cells from dividing. When chemotherapy is taken by mouth or injected into a vein or muscle, the drugs enter the bloodstream and can reach cancer cells throughout the body (systemic chemotherapy). When chemotherapy is placed directly into the cerebrospinal fluid, an organ, or a body cavity such as the abdomen, the drugs mainly affect cancer cells in those areas (regional chemotherapy). The way the chemotherapy is given depends on the type and stage of the cancer being treated. Hormone therapy Hormone therapy is a cancer treatment that removes hormones or blocks their action and stops cancer cells from growing. Hormones are substances made by glands in the body and circulated in the bloodstream. Some hormones can cause certain cancers to grow. If tests show that the cancer cells have places where hormones can attach (receptors), drugs, surgery, or radiation therapy is used to reduce the production of hormones or block them from working. Targeted therapy Targeted therapy is a type of treatment that uses drugs or other substances to identify and attack specific cancer cells without harming normal cells. Monoclonal antibodies, mTOR inhibitors, and signal transduction inhibitors are three types of targeted therapy used to treat endometrial cancer. - Monoclonal antibody therapy is a cancer treatment that uses antibodies made in the laboratory from a single type of immune system cell. These antibodies can identify substances on cancer cells or normal substances that may help cancer cells grow. The antibodies attach to the substances and kill the cancer cells, block their growth, or keep them from spreading. Monoclonal antibodies are given by infusion. They may be used alone or to carry drugs, toxins, or radioactive material directly to cancer cells. Bevacizumab is used to treat stage III, stage IV, and recurrent endometrial cancer. - mTOR inhibitors block a protein called mTOR, which helps control cell division. mTOR inhibitors may keep cancer cells from growing and prevent the growth of new blood vessels that tumors need to grow. Everolimus and ridaforalimus are used to treat stage III, stage IV, and recurrent endometrial cancer. - Signal transduction inhibitors block signals that are passed from one molecule to another inside a cell. Blocking these signals may kill cancer cells. Metformin is being studied to treat stage III, stage IV, and recurrent endometrial cancer. New types of treatment are being tested in clinical trials. Information about clinical trials is available from the NCI website. Patients may want to think about taking part in a clinical trial. For some patients, taking part in a clinical trial may be the best treatment choice. Clinical trials are part of the cancer research process. Clinical trials are done to find out if new cancer treatments are safe and effective or better than the standard treatment. Many of today\\'s standard treatments for cancer are based on earlier clinical trials. Patients who take part in a clinical trial may receive the standard treatment or be among the first to receive a new treatment. Patients who take part in clinical trials also help improve the way cancer will be treated in the future. Even when clinical trials do not lead to effective new treatments, they often answer important questions and help move research forward. Patients can enter clinical trials before, during, or after starting their cancer treatment. Some clinical trials only include patients who have not yet received treatment. Other trials test treatments for patients whose cancer has not gotten better. There are also clinical trials that test new ways to stop cancer from recurring (coming back) or reduce the side effects of cancer treatment. Clinical trials are taking place in many parts of the country. See the Treatment Options section that follows for links to current treatment clinical trials. These have been retrieved from NCI\\'s listing of clinical trials. Follow-up tests may be needed. Some of the tests that were done to diagnose the cancer or to find out the stage of the cancer may be repeated. Some tests will be repeated in order to see how well the treatment is working. Decisions about whether to continue, change, or stop treatment may be based on the results of these tests. Some of the tests will continue to be done from time to time after treatment has ended. The results of these tests can show if your condition has changed or if the cancer has recurred (come back). These tests are sometimes called follow-up tests or check-ups. Treatment Options by Stage Stage I and Stage II Endometrial Cancer Low-risk endometrial cancer (grade 1 or grade 2) Treatment of low-risk stage I endometrial cancer and stage II endometrial cancer may include the following: - Surgery (total hysterectomy and bilateral salpingo-oophorectomy). Lymph nodes in the pelvis and abdomen may also be removed and viewed under a microscope to check for cancer cells. - Surgery (total hysterectomy and bilateral salpingo-oophorectomy, with or without removal of lymph nodes in the pelvis and abdomen) followed by internal radiation therapy. In certain cases, external radiation therapy to the pelvis may be used in place of internal radiation therapy. - Radiation therapy alone for patients who cannot have surgery. - A clinical trial of a new chemotherapy regimen. If cancer has spread to the cervix, a radical hysterectomy with bilateral salpingo-oophorectomy may be done. High-risk endometrial cancer (grade 3) Treatment of high-risk stage I endometrial cancer and stage II endometrial cancer may include the following: - Surgery (radical hysterectomy and bilateral salpingo-oophorectomy). Lymph nodes in the pelvis and abdomen may also be removed and viewed under a microscope to check for cancer cells. - Surgery (radical hysterectomy and bilateral salpingo-oophorectomy) followed by chemotherapy and sometimes radiation therapy. - A clinical trial of a new chemotherapy regimen. Check the list of NCI-supported cancer clinical trials that are now accepting patients with stage I endometrial carcinoma and stage II endometrial carcinoma. For more specific results, refine the search by using other search features, such as the location of the trial, the type of treatment, or the name of the drug. Talk with your doctor about clinical trials that may be right for you. General information about clinical trials is available from the NCI website. Stage III, Stage IV, and Recurrent Endometrial Cancer Treatment of stage III endometrial cancer, stage IV endometrial cancer, and recurrent endometrial cancer may include the following: - Surgery (radical hysterectomy and removal of lymph nodes in the pelvis so they can be viewed under a microscope to check for cancer cells) followed by adjuvant chemotherapy and/or radiation therapy. - Chemotherapy and internal and external radiation therapy for patients who cannot have surgery. - Hormone therapy for patients who cannot have surgery or radiation therapy. - Targeted therapy with mTOR inhibitors (everolimus or ridaforolimus) or a monoclonal antibody (bevacizumab). - A clinical trial of a new treatment regimen that may include combination chemotherapy, targeted therapy, such as an mTOR inhibitor (everolimus) or signal transduction inhibitor (metformin), and/or hormone therapy, for patients with advanced or recurrent endometrial cancer. Check the list of NCI-supported cancer clinical trials that are now accepting patients with stage III endometrial carcinoma, stage IV endometrial carcinoma and recurrent endometrial carcinoma. For more specific results, refine the search by using other search features, such as the location of the trial, the type of treatment, or the name of the drug. Talk with your doctor about clinical trials that may be right for you. General information about clinical trials is available from the NCI website.\\n<question>what research (or clinical trials) is being done for Endometrial Cancer ?<answer>New types of treatment are being tested in clinical trials. Information about clinical trials is available from the NCI website. Patients may want to think about taking part in a clinical trial. For some patients, taking part in a clinical trial may be the best treatment choice. Clinical trials are part of the cancer research process. Clinical trials are done to find out if new cancer treatments are safe and effective or better than the standard treatment. Many of today\\'s standard treatments for cancer are based on earlier clinical trials. Patients who take part in a clinical trial may receive the standard treatment or be among the first to receive a new treatment. Patients who take part in clinical trials also help improve the way cancer will be treated in the future. Even when clinical trials do not lead to effective new treatments, they often answer important questions and help move research forward. Patients can enter clinical trials before, during, or after starting their cancer treatment. Some clinical trials only include patients who have not yet received treatment. Other trials test treatments for patients whose cancer has not gotten better. There are also clinical trials that test new ways to stop cancer from recurring (coming back) or reduce the side effects of cancer treatment. Clinical trials are taking place in many parts of the country. See the Treatment Options section that follows for links to current treatment clinical trials. These have been retrieved from NCI\\'s listing of clinical trials.\\n<question>What is (are) Endometrial Cancer ?<answer>Key Points - Endometrial cancer is a disease in which malignant (cancer) cells form in the tissues of the endometrium. - In the United States, endometrial cancer is the most common invasive cancer of the female reproductive system. - Health history and certain medicines can affect the risk of developing endometrial cancer. Endometrial cancer is a disease in which malignant (cancer) cells form in the tissues of the endometrium. The endometrium is the innermost lining of the uterus. The uterus is a hollow, muscular organ in a woman\\'s pelvis. The uterus is where a fetus grows. In most nonpregnant women, the uterus is about 3 inches long. Cancer of the endometrium is different from cancer of the muscle of the uterus, which is called uterine sarcoma. See the PDQ summary on Uterine Sarcoma Treatment for more information. See the following PDQ summaries for more information about endometrial cancer: - Endometrial Cancer Treatment - Endometrial Cancer Prevention In the United States, endometrial cancer is the most common invasive cancer of the female reproductive system. Endometrial cancer is diagnosed most often in postmenopausal women at an average age of 60 years. From 2004 to 2013, the number of new cases of endometrial cancer increased slightly in white and black women. From 2005 to 2014, the number of deaths from endometrial cancer increased slightly in white and black women. When endometrial cancer is diagnosed in black women, it is usually more advanced and less likely to be cured.\\n<question>Who is at risk for Endometrial Cancer? ?<answer>Health history and certain medicines can affect the risk of developing endometrial cancer. Anything that increases your chance of getting a disease is called a risk factor. Having a risk factor does not mean that you will get cancer; not having risk factors doesnt mean that you will not get cancer. People who think they may be at risk should discuss this with their doctor. Risk factors for endometrial cancer include the following: - Taking tamoxifen for treatment or prevention of breast cancer. - Taking estrogen alone. (Taking estrogen in combination with progestin does not appear to increase the risk of endometrial cancer.) - Being overweight. - Eating a high-fat diet. - Never giving birth. - Beginning menstruation at an early age. - Reaching menopause at an older age. - Having the gene for hereditary non-polyposis colon cancer (HNPCC). - Being white.\\n<question>What are the treatments for Osteoarthritis ?<answer>People with osteoarthritis may find many non-drug ways to relieve pain. Below are some examples. Heat and cold. Heat or cold (or a combination of the two) can be useful for joint pain. Heat can be applied in a number of different ways -- with warm towels, hot packs, or a warm bath or shower -- to increase blood flow and ease pain and stiffness. In some cases, cold packs (bags of ice or frozen vegetables wrapped in a towel), which reduce inflammation, can relieve pain or numb the sore area. (Check with a doctor or physical therapist to find out if heat or cold is the best treatment.) Transcutaneous electrical nerve stimulation (TENS). TENS is a technique that uses a small electronic device to direct mild electric pulses to nerve endings that lie beneath the skin in the painful area. TENS may relieve some arthritis pain. It seems to work by blocking pain messages to the brain and by modifying pain perception. Massage. In this pain-relief approach, a massage therapist will lightly stroke and/or knead the painful muscles. This may increase blood flow and bring warmth to a stressed area. However, arthritis-stressed joints are sensitive, so the therapist must be familiar with the problems of the disease. Acupuncture. Some people have found pain relief using acupuncture, a practice in which fine needles are inserted by a licensed acupuncture therapist at specific points on the skin. Scientists think the needles stimulate the release of natural, pain-relieving chemicals produced by the nervous system. A large study supported by the National Institute of Arthritis and Musculoskeletal and Skin Diseases (NIAMS) and the National Center for Complementary and Alternative Medicine (NCCAM) revealed that acupuncture relieves pain and improves function in knee osteoarthritis, and it serves as an effective complement to standard care. Nutritional supplements, such as glucosamine and chondroitin sulfate, have been reported to improve the symptoms of people with osteoarthritis, as have certain vitamins. Additional studies have been carried out to further evaluate these claims. It is unknown whether they might change the course of disease. Folk remedies include the wearing of copper bracelets, following special diets, and rubbing WD-40 on joints to lubricate them. Although these practices may or may not be harmful, no scientific research to date shows that they are helpful in treating osteoarthritis. They can also be expensive, and using them may cause people to delay or even abandon useful medical treatment. For general information about alternative therapies, see the Complementary Health Approaches topic.\\n<question>What are the treatments for Osteoarthritis ?<answer>For many people, surgery helps relieve the pain and disability of osteoarthritis. Surgery may be performed to achieve one or more of the following. - Removal of loose pieces of bone and cartilage from the joint if they are causing symptoms of buckling or locking (arthroscopic debridement). - Repositioning of bones (osteotomy). - Resurfacing (smoothing out) bones (joint resurfacing). Removal of loose pieces of bone and cartilage from the joint if they are causing symptoms of buckling or locking (arthroscopic debridement). Repositioning of bones (osteotomy). Resurfacing (smoothing out) bones (joint resurfacing). The decision to use surgery depends on several factors, including the patients age, occupation, level of disability, pain intensity, and the degree to which arthritis interferes with his or her lifestyle. After surgery and rehabilitation, the patient usually feels less pain and swelling and can move more easily.\\n<question>How to diagnose Osteoarthritis ?<answer>No single test can diagnose osteoarthritis. When a person feels pain in his or her joints, it may or may not be osteoarthritis. The doctor will use a combination of tests to try to determine if osteoarthritis is causing the symptoms. These may include a medical history, a physical examination, x-rays, and laboratory tests. A patient\\'s attitudes, daily activities, and levels of anxiety or depression have a lot to do with how much the symptoms of osteoarthritis affect day-to-day living.\\n<question>What is (are) Osteoarthritis ?<answer>Osteoarthritis is the most common form of arthritis. It causes pain, swelling, and reduced motion in your joints. It can occur in any joint, but usually it affects your hands, knees, hips or spine. Osteoarthritis breaks down the cartilage in your joints. Cartilage is the slippery tissue that covers the ends of bones in a joint. Healthy cartilage absorbs the shock of movement. When you lose cartilage, your bones rub together. Over time, this rubbing can permanently damage the joint. Risk factors for osteoarthritis include - Being overweight - Getting older - Injuring a joint No single test can diagnose osteoarthritis. Most doctors use several methods, including medical history, a physical exam, x-rays, or lab tests. Treatments include exercise, medicines, and sometimes surgery. NIH: National Institute of Arthritis and Musculoskeletal and Skin Diseases\\n<question>What are the complications of Kidney Dysplasia ?<answer>The complications of kidney dysplasia can include - hydronephrosis of the working kidney. A baby with kidney dysplasia in only one kidney might have other urinary tract defects. When other defects in the urinary tract block the flow of urine, the urine backs up and causes the kidneys and ureters to swell, a condition called hydronephrosis. If left untreated, hydronephrosis can damage the working kidney and reduce its ability to filter blood. Kidney damage may lead to chronic kidney disease (CKD) and kidney failure. - a urinary tract infection (UTI). A urine blockage may increase a babys chance of developing a UTI. Recurring UTIs can also lead to kidney damage. - high blood pressure. - a slightly increased chance of developing kidney cancer. More information is provided in the NIDDK health topics, urine blockage in newbornsand UTIs in children.\\n<question>How to diagnose Kidney Dysplasia ?<answer>Health care providers may be able to diagnose kidney dysplasia during a womans pregnancy using a fetal ultrasound, also called a fetal sonogram. Ultrasound uses a device, called a transducer, that bounces safe, painless sound waves off organs to create an image of their structure. Fetal ultrasound is a test done during pregnancy to create images of the fetus in the womb. A specially trained technician performs the procedure in a health care providers office, an outpatient center, or a hospital, and an obstetrician or a radiologist interprets the images. An obstetrician is a doctor who specializes in pregnancy and childbirth. A radiologist is a doctor who specializes in medical imaging. The patientin this case, the fetus motherdoes not need anesthesia for this procedure. The images can show defects in the fetus kidneys and other parts of the urinary tract. Health care providers do not always diagnose kidney dysplasia before a baby is born. After birth, health care providers often diagnose kidney dysplasia during an evaluation of the child for a UTI or another medical condition. A health care provider uses ultrasound to diagnose kidney dysplasia after the baby is born.\\n<question>What is the outlook for Kidney Dysplasia ?<answer>The long-term outlook for a child with kidney dysplasia in only one kidney is generally good. A person with one working kidney, a condition called solitary kidney, can grow normally and may have few, if any, health problems. The affected kidney may shrink as the child grows. By age 10,3 the affected kidney may no longer be visible on x-ray or ultrasound. Children and adults with only one working kidney should have regular checkups to test for high blood pressure and kidney damage. A child with urinary tract problems that lead to failure of the working kidney may eventually need dialysis or a kidney transplant. More information is provided in the NIDDK health topics, solitary kidney, dialysis, and kidney transplants.\\n<question>What causes Kidney Dysplasia ?<answer>Genetic factors can cause kidney dysplasia. Genes pass information from both parents to the child and determine the childs traits. Sometimes, parents may pass a gene that has changed, or mutated, causing kidney dysplasia. Genetic syndromes that affect multiple body systems can also cause kidney dysplasia. A syndrome is a group of symptoms or conditions that may seem unrelated yet are thought to have the same genetic cause. A baby with kidney dysplasia due to a genetic syndrome might also have problems of the digestive tract, nervous system, heart and blood vessels, muscles and skeleton, or other parts of the urinary tract. A baby may also develop kidney dysplasia if his or her mother takes certain prescription medications during pregnancy, such as some used to treat seizures and high blood pressure. A mothers use of illegal drugs, such as cocaine, during pregnancy may also cause kidney dysplasia in her unborn child.\\n<question>What is (are) Problems with Smell ?<answer>Our sense of smell helps us enjoy life. We delight in the aromas of our favorite foods or the fragrance of flowers. Our sense of smell also is a warning system, alerting us to danger signals such as a gas leak, spoiled food, or a fire. Any loss in our sense of smell can have a negative effect on our quality of life. It also can be a sign of more serious health problems. Aging and Smell Loss Problems with smell increase as people get older, and they are more common in men than women. In one study, nearly one-quarter of men ages 6069 had a smell disorder, while about 11 percent of women in that age range reported a problem. Many older people are not even aware that they have a problem with their sense of smell because the changes occur gradually over several years. They may not even notice that they are experiencing a loss of smell until there is an incident in which they don\\'t detect food that has spoiled or the presence of dangerous smoke. How Our Sense of Smell Works The sense of smell, or olfaction, is part of our chemical sensing system, along with the sense of taste. Normal smell occurs when odors around us, like the fragrance of flowers or the smell of baking bread, stimulate the specialized sensory cells, called olfactory sensory cells. Olfactory sensory cells are located in a small patch of tissue high inside the nose. Odors reach the olfactory sensory cells in two pathways. The first pathway is by inhaling, or sniffing, through your nose. When people think about smell, they generally think of this pathway. The second pathway is less familiar. It is a channel that connects the roof of the throat region to the nose. When we chew our food, aromas are released that access olfactory sensory cells through this channel. If you are congested due to a head cold or sinus infection, this channel is blocked, which temporarily affects your ability to appreciate the flavors of food. Types of Smell Disorders People who experience smell disorders either have a decrease in their ability to smell or changes in the way they perceive odors. Total smell loss is relatively rare, but a decrease in the sense of smell occurs more often, especially in older adults. A decreased sense of smell may be temporary and treatable with medication. There are several types of smell disorders depending on how the sense of smell is affected. - Some people have hyposmia, which occurs when their ability to detect certain odors is reduced. - Other people can\\'t detect odor at all, which is called anosmia. - Sometimes a loss of smell can be accompanied by a change in the perception of odors. This type of smell disorder is called dysosmia. Familiar odors may become distorted, or an odor that usually smells pleasant instead smells foul. - Still others may perceive a smell that isn\\'t present at all, which is called phantosmia. - Smell loss due to aging is called presbyosmia. Some people have hyposmia, which occurs when their ability to detect certain odors is reduced. Other people can\\'t detect odor at all, which is called anosmia. Sometimes a loss of smell can be accompanied by a change in the perception of odors. This type of smell disorder is called dysosmia. Familiar odors may become distorted, or an odor that usually smells pleasant instead smells foul. Still others may perceive a smell that isn\\'t present at all, which is called phantosmia. Smell loss due to aging is called presbyosmia. Smell Loss May Signal Other Conditions Problems with our chemical senses may be a sign of other serious health conditions. A smell disorder can be an early sign of Parkinsons disease, Alzheimers disease, or multiple sclerosis. It can also be related to other medical conditions, such as obesity, diabetes, hypertension, and malnutrition. Getting a diagnosis early will help an individual deal better with the underlying condition or disease. Smell and Taste Smell and taste are closely linked in the brain, but are actually distinct sensory systems. True tastes are detected by taste buds on the tongue and the roof of the mouth, as well as in the throat region, and are limited to sweet, salty, sour, bitter, savory and perhaps a few other sensations. The loss of smell is much more common than the loss of taste, and many people mistakenly believe they have a problem with taste, when they are really experiencing a problem with their sense of smell. A loss in taste or smell is diagnosed by your doctor using special taste and smell tests. Smell Loss and Eating Habits When smell is impaired, people usually have problems appreciating the subtle flavors of food, and say that food is less enjoyable. Some people change their eating habits. Some may eat too little and lose weight while others may eat too much and gain weight. Either way, there may be a long-term impact on one\\'s overall health. Loss of smell may also cause us to eat too much sugar or salt to make our food taste better. This can be a problem for people with certain medical conditions, such as diabetes or high blood pressure. In severe cases, loss of smell can lead to depression. Hazards of Smell Loss Research shows that people with a total or partial loss of smell are almost twice as likely as people with normal smell to have certain kinds of accidents. The most common types of accidents in order of frequency involve - cooking - eating or drinking spoiled foods or toxic substances - failing to detect gas leaks or fires cooking eating or drinking spoiled foods or toxic substances failing to detect gas leaks or fires If you think you have a problem with your sense of smell, see your doctor.\\n<question>what research (or clinical trials) is being done for Problems with Smell ?<answer>The National Institute on Deafness and Other Communication Disorders (NIDCD) supports basic and clinical investigations of smell and taste disorders at its laboratories in Bethesda, Md. and at universities and chemosensory research centers across the country. These chemosensory scientists are exploring how to - promote the regeneration of sensory nerve cells - understand the effects of the environment (such as gasoline fumes, chemicals, and extremes of humidity and temperature) on smell and taste - prevent the effects of aging on smell and taste - develop new diagnostic tests for taste and smell disorders - understand associations between smell disorders and changes in diet and food preferences in the elderly or among people with chronic illnesses. promote the regeneration of sensory nerve cells understand the effects of the environment (such as gasoline fumes, chemicals, and extremes of humidity and temperature) on smell and taste prevent the effects of aging on smell and taste develop new diagnostic tests for taste and smell disorders understand associations between smell disorders and changes in diet and food preferences in the elderly or among people with chronic illnesses.\\n<question>What are the symptoms of Problems with Smell ?<answer>A Reduced Sense of Smell There are several types of smell disorders depending on how the sense of smell is affected. People who have smell disorders experience either a loss in their ability to smell or changes in the way they perceive odors. Some people have hyposmia, which occurs when their ability to detect certain odors is reduced. This smell disorder is common in people who have upper respiratory infections or nasal congestion. This is usually temporary and goes away when the infection clears up. If You Can\\'t Detect Odor at All Other people can\\'t detect odor at all, which is called anosmia. This type of smell disorder is sometimes the result of head trauma in the nose region, usually from an automobile accident or chronic nasal or sinus infections. It can sometimes be caused by aging. In rare cases, anosmia is inherited. If Your Sense of Smell Is Distorted Sometimes a loss of smell can be accompanied by a change in the perception of odors. This type of smell disorder is called dysosmia. Familiar odors may become distorted, or an odor that usually smells pleasant instead smells foul. Sometimes people with this type of smell disorder also experience headaches, dizziness, shortness of breath, or anxiety. Still others may perceive a smell that isn\\'t present at all, which is called phantosmia. Questions To Ask Yourself If you think you have a problem with your sense of smell, try to identify and record the circumstances at the time you first noticed the problem. Ask yourself the following questions: - When did I first become aware of it? - Did I have a cold or the flu? - Did I have a head injury? - Was I exposed to air pollutants, pollens, pet dander, or dust to which I might be allergic? - Is this a recurring problem? - Does it come at any special time, like during the hay fever season? When did I first become aware of it? Did I have a cold or the flu? Did I have a head injury? Was I exposed to air pollutants, pollens, pet dander, or dust to which I might be allergic? Is this a recurring problem? Does it come at any special time, like during the hay fever season? Bring this information with you when you visit your physician. Also, be prepared to tell him or her about your general health and any medications you are taking. Talking With Your Doctor Diagnosis by a doctor is important to identify and treat the underlying cause of a potential smell disorder. Your doctor may refer you to an otolaryngologist, a specialist in diseases of the ear, nose, and throat. An accurate assessment of a smell disorder will include, among other things, - a physical examination of the ears, nose, and throat - a review of your health history, such as exposure to toxic chemicals or injury, and - a smell test supervised by a health care professional. a physical examination of the ears, nose, and throat a review of your health history, such as exposure to toxic chemicals or injury, and a smell test supervised by a health care professional. Tests for Smell Disorders Some tests measure the smallest amount of odor you can detect. You also may receive a \"scratch and sniff\" test to determine how well you can identify various odors from a list of possibilities. In this test, the odor is embedded in a circular pad on a piece of paper and released when scratched. In this way, doctors can determine whether a person has a decreased ability to smell (hyposmia), the inability to detect any odors (anosmia), or another kind of smell disorder. In some cases, your doctor may need to perform a nasal examination with a nasal endoscope, an instrument that illuminates and magnifies the areas of the nose where the problem may exist. This test can help identify the area and extent of the problem and help your doctor select the right treatment. If your doctor suspects that upper regions of the nose and nasal sinuses that can\\'t be seen by an endoscope are involved, he or she may order a specialized X-ray procedure, usually a CT scan, to look further into the nose and sinuses. When to See the Doctor If you think you have a smell disorder, see your doctor. Diagnosis of a smell disorder is important because once the cause is found, your doctor may be able to treat your smell disorder. Many types of smell problems are reversible, but if they are not, counseling and self-help techniques may help you cope.\\n<question>What are the treatments for Problems with Smell ?<answer>Depending on the cause of your smell disorder, your doctor may be able to treat your problem or suggest ways to cope with it. If a certain medication is the cause of the disorder, ask your doctor if you could substitute other medications or reduce the dose. Your doctor will work with you to get the medicine you need while trying to reduce unwanted side effects. Some patients with respiratory infections or allergies regain their sense of smell when the illness or condition is over. Often, correcting a general medical problem also can restore the sense of smell. For patients with nasal obstructions, such as polyps, or other inflammatory conditions of the nose or sinuses, medical treatments or surgery can restore the sense of smell. Occasionally, the sense of smell returns to normal on its own, without any treatment. Your doctor may suggest oral steroid medications such as prednisone, which is usually used for a short period of time, or topical steroid sprays, which can be used for longer periods of time. Antibiotics are also used to treat nasal infections. The effectiveness of both steroids and antibiotics depends greatly on the severity and duration of the nasal swelling or infection. Often relief is temporary.\\n<question>What is (are) Dry Eye ?<answer>There are two types of dry eye: aqueous tear-deficient dry eye and evaporative dry eye. Aqueous tear-deficient dry eye is a disorder in which the tear glands do not produce enough of the watery component of tears to maintain a healthy eye surface, called the cornea. Evaporative dry eye may result from inflammation of the meibomian glands, located in the eyelids. These glands make the oily part of tears that slows evaporation and keeps the tears stable. Dry eye can be associated with - inflammation of the surface of the eye (cornea), the lacrimal gland, or the conjunctiva (the surface layer of tissue that lines the eyelids and covers the front part of the eye) - any disease process that alters the components of the tears - an increase in the surface of the eye, as in thyroid disease when the eye bulges forward - cosmetic surgery, if the eyelids are opened too widely. inflammation of the surface of the eye (cornea), the lacrimal gland, or the conjunctiva (the surface layer of tissue that lines the eyelids and covers the front part of the eye) any disease process that alters the components of the tears an increase in the surface of the eye, as in thyroid disease when the eye bulges forward cosmetic surgery, if the eyelids are opened too widely.\\n<question>What causes Dry Eye ?<answer>If your eyes dont make enough tears it can cause dry eye. Anything that changes the components of tears can cause dry eye. Many factors can lead to dry eye, including aging, medications, problems with eyelid function, disease, some types of eye surgery, environmental factors, and allergies.\\n<question>What is (are) Dry Eye ?<answer>The cornea is the clear, dome-shaped outer surface that covers the eye in front of the iris, which is the colored part of the eye. The cornea helps protect the rest of the eye from germs, dust, and other harmful matter. The cornea is a highly organized, clear structure made up of a group of cells and proteins precisely arranged in layers, but it has no blood vessels to nourish or protect it against infection. Instead, it gets its nourishment from the tears and the watery fluid (aqueous humor) that fill the chamber behind it.\\n<question>What are the treatments for Dry Eye ?<answer>Dry eye can be a temporary or ongoing condition, so treatments can be short term or may extend over long periods of time. The goal of treatment is to keep the eyes moist and relieve symptoms. Talk to your doctor to rule out other conditions that can cause dry eye, such as Sjgren\\'s syndrome. You may need to treat these conditions. If dry eye results from taking a medication, your doctor may recommend switching to a medication that does not cause dry eye as a side effect. Here are treatments for dry eye. Medication. Cyclosporine, an anti-inflammatory medication, is a prescription eye drop available to treat certain kinds of dry eye. In people with certain kinds of dry eye, it may decrease damage to the cornea, increase basic tear production, and reduce symptoms of dry eye. It may take three to six months of twice-a-day dosages for the medication to work. Some patients with severe dry eye may need to use corticosteroid eye drops that decrease inflammation under close observation by an eye care professional. Nutritional Supplements. In some patients with dry eye, supplements of omega-3 fatty acids (especially DHA and EPA) may decrease symptoms of irritation. Talk with your eye care professional or your primary medical doctor about whether this is an option for you. Lenses. If dry eye is a result of wearing contact lens for too long, your eye care practitioner may recommend another type of lens or reducing the number of hours you wear your lenses. In the case of severe dry eye, your eye care professional may advise you not to wear contact lenses at all. Punctal plugs. Another option to increase the available tears on the eye surface is to plug the drainage holes, small circular openings at the inner corners of the eyelids where tears drain from the eye into the nose. Lacrimal plugs, also called punctal plugs, can be inserted painlessly by an eye care professional. These plugs are made of silicone or collagen. These plugs can be temporary or permanent. Punctal cautery. In some cases, a simple surgery called punctal cautery is recommended to permanently close the drainage holes. The procedure works similarly to installing punctal plugs, but cannot be reversed.\\n<question>What is (are) Pituitary Tumors ?<answer>The pituitary is a small, bean-sized gland that is below the hypothalamus, a structure at the base of the brain, by a thread-like stalk that contains both blood vessels and nerves. It controls a system of hormones in the body that regulate growth, metabolism, the stress response, and functions of the sex organs via the thyroid gland, adrenal gland, ovaries, and testes. A pituitary tumor is an abnormal growth of cells within the pituitary gland. Most pituitary tumors are benign, which means they are non-cancerous, grow slowly and do not spread to other parts of the body; however they can make the pituitary gland produce either too many or too few hormones, which can cause problems in the body. Tumors that make hormones are called functioning tumors, and they can cause a wide array of symptoms depending upon the hormone affected. Tumors that dont make hormones are called non-functioning tumors. Their symptoms are directly related to their growth in size and include headaches, vision problems, nausea, and vomiting. Diseases related to hormone abnormalities include Cushings disease, in which fat builds up in the face, back and chest, and the arms and legs become very thin; and acromegaly, a condition in which the hands, feet, and face are larger than normal. Pituitary hormones that impact the sex hormones, such as estrogen and testosterone, can make a woman produce breast milk even though she is not pregnant or nursing, or cause a man to lose his sex drive or lower his sperm count. Pituitary tumors often go undiagnosed because their symptoms resemble those of so many other more common diseases.\\n<question>What are the symptoms of Pituitary Tumors ?<answer>Signs of a pituitary tumor include problems with vision and certain physical changes. Signs and symptoms can be caused by the growth of the tumor and/or by hormones the tumor makes or by other conditions. Some tumors may not cause signs or symptoms. Check with your doctor if you have any of these problems. Signs and symptoms of a non-functioning pituitary tumor Sometimes, a pituitary tumor may press on or damage parts of the pituitary gland, causing it to stop making one or more hormones. Too little of a certain hormone will affect the work of the gland or organ that the hormone controls. The following signs and symptoms may occur: - Headache. - Some loss of vision. - Loss of body hair. - In women, less frequent or no menstrual periods or no milk from the breasts. - In men, loss of facial hair, growth of breast tissue, and impotence. - In women and men, lower sex drive. - In children, slowed growth and sexual development. Most of the tumors that make LH and FSH do not make enough extra hormone to cause signs and symptoms. These tumors are considered to be non-functioning tumors. Signs and symptoms of a functioning pituitary tumor When a functioning pituitary tumor makes extra hormones, the signs and symptoms will depend on the type of hormone being made. Too much prolactin may cause: - Headache. - Some loss of vision. - Less frequent or no menstrual periods or menstrual periods with a very light flow. - Trouble becoming pregnant or an inability to become pregnant. - Impotence in men. - Lower sex drive. - Flow of breast milk in a woman who is not pregnant or breast-feeding. Too much ACTH may cause: - Headache. - Some loss of vision. - Weight gain in the face, neck, and trunk of the body, and thin arms and legs. - A lump of fat on the back of the neck. - Thin skin that may have purple or pink stretch marks on the chest or abdomen. - Easy bruising. - Growth of fine hair on the face, upper back, or arms. - Bones that break easily. - Anxiety, irritability, and depression. Too much growth hormone may cause: - Headache. - Some loss of vision. - In adults, acromegaly (growth of the bones in the face, hands, and feet). In children, the whole body may grow much taller and larger than normal. - Tingling or numbness in the hands and fingers. - Snoring or pauses in breathing during sleep. - Joint pain. - Sweating more than usual. - Dysmorphophobia (extreme dislike of or concern about one or more parts of the body). Too much thyroid-stimulating hormone may cause: - Irregular heartbeat. - Shakiness. - Weight loss. - Trouble sleeping. - Frequent bowel movements. - Sweating. Other general signs and symptoms of pituitary tumors: - Nausea and vomiting. - Confusion. - Dizziness. - Seizures. - Runny or \"drippy\" nose (cerebrospinal fluid that surrounds the brain and spinal cord leaks into the nose).\\n<question>What are the treatments for Pituitary Tumors ?<answer>Generally, treatment depends on the type of tumor, the size of the tumor, whether the tumor has invaded or pressed on surrounding structures, such as the brain and visual pathways, and the individuals age and overall health. Three types of treatment are used: surgical removal of the tumor; radiation therapy, in which high-dose x-rays are used to kill the tumor cells; and drug therapy to shrink or destroy the tumor. Medications are also sometimes used to block the tumor from overproducing hormones. For some people, removing the tumor will also stop the pituitarys ability to produce a specific hormone. These individuals will have to take synthetic hormones to replace the ones their pituitary gland no longer produces.\\n<question>What are the treatments for Pituitary Tumors ?<answer>Key Points - There are different types of treatment for patients with pituitary tumors. - Four types of standard treatment are used: - Surgery - Radiation therapy - Drug therapy - Chemotherapy - New types of treatment are being tested in clinical trials. - Patients may want to think about taking part in a clinical trial. - Patients can enter clinical trials before, during, or after starting their cancer treatment. - Follow-up tests may be needed. There are different types of treatment for patients with pituitary tumors. Different types of treatments are available for patients with pituitary tumors. Some treatments are standard (the currently used treatment), and some are being tested in clinical trials. A treatment clinical trial is a research study meant to help improve current treatments or obtain information on new treatments for patients with cancer. When clinical trials show that a new treatment is better than the standard treatment, the new treatment may become the standard treatment. Patients may want to think about taking part in a clinical trial. Some clinical trials are open only to patients who have not started treatment. Four types of standard treatment are used: Surgery Many pituitary tumors can be removed by surgery using one of the following operations: - Transsphenoidal surgery: A type of surgery in which the instruments are inserted into part of the brain by going through an incision (cut) made under the upper lip or at the bottom of the nose between the nostrils and then through the sphenoid bone (a butterfly-shaped bone at the base of the skull) to reach the pituitary gland. The pituitary gland lies just above the sphenoid bone. - Endoscopic transsphenoidal surgery: A type of surgery in which an endoscope is inserted through an incision (cut) made at the back of the inside of the nose and then through the sphenoid bone to reach the pituitary gland. An endoscope is a thin, tube-like instrument with a light, a lens for viewing, and a tool for removing tumor tissue. - Craniotomy: Surgery to remove the tumor through an opening made in the skull. Even if the doctor removes all the cancer that can be seen at the time of the surgery, some patients may be given chemotherapy or radiation therapy after surgery to kill any cancer cells that are left. Treatment given after the surgery, to lower the risk that the cancer will come back, is called adjuvant therapy. Radiation therapy Radiation therapy is a cancer treatment that uses high-energy x-rays or other types of radiation to kill cancer cells or keep them from growing. There are two types of radiation therapy: - External radiation therapy uses a machine outside the body to send radiation toward the cancer. Certain ways of giving radiation therapy can help keep radiation from damaging nearby healthy tissue. This type of radiation therapy may include the following: - Stereotactic radiosurgery: A rigid head frame is attached to the skull to keep the head still during the radiation treatment. A machine aims a single large dose of radiation directly at the tumor. This procedure does not involve surgery. It is also called stereotaxic radiosurgery, radiosurgery, and radiation surgery. - Internal radiation therapy uses a radioactive substance sealed in needles, seeds, wires, or catheters that are placed directly into or near the cancer. The way the radiation therapy is given depends on the type of the cancer being treated. External radiation therapy is used to treat pituitary tumors. Drug therapy Drugs may be given to stop a functioning pituitary tumor from making too many hormones. Chemotherapy Chemotherapy may be used as palliative treatment for pituitary carcinomas, to relieve symptoms and improve the patient\\'s quality of life. Chemotherapy uses drugs to stop the growth of cancer cells, either by killing the cells or by stopping them from dividing. When chemotherapy is taken by mouth or injected into a vein or muscle, the drugs enter the bloodstream and can reach cancer cells throughout the body (systemic chemotherapy). When chemotherapy is placed directly into the cerebrospinal fluid, an organ, or a body cavity such as the abdomen, the drugs mainly affect cancer cells in those areas (regional chemotherapy). The way the chemotherapy is given depends on the type of the cancer being treated. New types of treatment are being tested in clinical trials. Information about clinical trials is available from the NCI website. Patients may want to think about taking part in a clinical trial. For some patients, taking part in a clinical trial may be the best treatment choice. Clinical trials are part of the cancer research process. Clinical trials are done to find out if new cancer treatments are safe and effective or better than the standard treatment. Many of today\\'s standard treatments for cancer are based on earlier clinical trials. Patients who take part in a clinical trial may receive the standard treatment or be among the first to receive a new treatment. Patients who take part in clinical trials also help improve the way cancer will be treated in the future. Even when clinical trials do not lead to effective new treatments, they often answer important questions and help move research forward. Patients can enter clinical trials before, during, or after starting their cancer treatment. Some clinical trials only include patients who have not yet received treatment. Other trials test treatments for patients whose cancer has not gotten better. There are also clinical trials that test new ways to stop cancer from recurring (coming back) or reduce the side effects of cancer treatment. Clinical trials are taking place in many parts of the country. See the Treatment Options section that follows for links to current treatment clinical trials. These have been retrieved from NCI\\'s listing of clinical trials. Follow-up tests may be needed. Some of the tests that were done to diagnose the cancer or to find out the stage of the cancer may be repeated. Some tests will be repeated in order to see how well the treatment is working. Decisions about whether to continue, change, or stop treatment may be based on the results of these tests. Some of the tests will continue to be done from time to time after treatment has ended. The results of these tests can show if your condition has changed or if the cancer has recurred (come back). These tests are sometimes called follow-up tests or check-ups. Treatment Options for Pituitary Tumors Non-functioning Pituitary Tumors Treatment may include the following: - Surgery (transsphenoidal surgery, if possible) to remove the tumor, followed by watchful waiting (closely monitoring a patients condition without giving any treatment until signs or symptoms appear or change). Radiation therapy is given if the tumor comes back. - Radiation therapy alone. Treatment for luteinizing hormone -producing and follicle-stimulating hormone -producing tumors is usually transsphenoidal surgery to remove the tumor. Prolactin-Producing Pituitary Tumors Treatment may include the following: - Drug therapy to stop the tumor from making prolactin and to stop the tumor from growing. - Surgery to remove the tumor (transsphenoidal surgery or craniotomy) when the tumor does not respond to drug therapy or when the patient cannot take the drug. - Radiation therapy. - Surgery followed by radiation therapy. ACTH-Producing Pituitary Tumors Treatment may include the following: - Surgery (usually transsphenoidal surgery) to remove the tumor, with or without radiation therapy. - Radiation therapy alone. - Drug therapy to stop the tumor from making ACTH. - A clinical trial of stereotactic radiation surgery. Growth HormoneProducing Pituitary Tumors Treatment may include the following: - Surgery (usually transsphenoidal or endoscopic transsphenoidal surgery) to remove the tumor, with or without radiation therapy. - Drug therapy to stop the tumor from making growth hormone. Thyroid-Stimulating HormoneProducing Tumors Treatment may include the following: - Surgery (usually transsphenoidal surgery) to remove the tumor, with or without radiation therapy. - Drug therapy to stop the tumor from making hormones. Pituitary Carcinomas Treatment of pituitary carcinomas is palliative, to relieve symptoms and improve the quality of life. Treatment may include the following: - Surgery (transsphenoidal surgery or craniotomy) to remove the cancer, with or without radiation therapy. - Drug therapy to stop the tumor from making hormones. - Chemotherapy. Recurrent Pituitary Tumors Treatment may include the following: - Radiation therapy. - A clinical trial of stereotactic radiation surgery.\\n<question>what research (or clinical trials) is being done for Anxiety Disorders ?<answer>Clinical trials are part of clinical research and at the heart of all treatment advances. Clinical trials look at new ways to prevent, detect, or treat disease. The National Institute of Mental Health at NIH supports research studies on mental health and disorders. To learn how clinical trials work, see Participating in Clinical Trials. To see NIH-funded studies currently recruiting participants in anxiety disorders, visit www.ClinicalTrials.gov and type in \"anxiety disorders.\" Clinical Trials.gov is the NIH/National Library of Medicine\\'s registry of federally and privately funded clinical trials for all disease. To see personal stories of people who have volunteered for clinical trials, visit NIH Clinical Trials Research and You.\\n<question>How to diagnose Anxiety Disorders ?<answer>Anxiety disorders sometimes run in families, but no one knows for sure why some people have them while others don\\'t. Anxiety disorders are more common among younger adults than older adults, and they typically start in early life. However, anyone can develop an anxiety disorder at any time. Below are risk factors for these anxiety disorders. - Generalized Anxiety Disorder (GAD) - Social Anxiety Disorder (Social Phobia) - Panic Disorder Generalized Anxiety Disorder (GAD) Social Anxiety Disorder (Social Phobia) Panic Disorder Generalized Anxiety Disorder - Risk Factors Generalized anxiety disorder (GAD) affects about 6.8 million American adults, including twice as many women as men. The disorder develops gradually and can begin at any point in the life cycle, although the years of highest risk are between childhood and middle age. The average age of onset is 31 years old. Social Phobia - Risk Factors Social phobia affects about 15 million American adults. Women and men are equally likely to develop the disorder, which usually begins in childhood or early adolescence. There is some evidence that genetic factors are involved. Panic Disorder - Risk Factors Panic disorder affects about 6 million American adults and is twice as common in women as men. Panic attacks often begin in late adolescence or early adulthood, but not everyone who experiences panic attacks will develop panic disorder. Many people have just one attack and never have another. The tendency to develop panic attacks appears to be inherited. Diagnosis Can Be Difficult There are a number of reasons why it can be difficult to accurately diagnose an anxiety disorder in older adults. - Anxiety disorders among older adults frequently occur at the same time as other illnesses such as depression, diabetes, heart disease, or a number of other medical illnesses. Problems with cognition (thinking) and changes in life circumstances can also complicate matters. Sometimes the physical signs of these illnesses can get mixed up with the symptoms of anxiety, making it difficult to determine if a person has a true anxiety disorder. For instance, a person with heart disease sometimes has chest pain, which can also be a symptom of a panic disorder. Anxiety disorders among older adults frequently occur at the same time as other illnesses such as depression, diabetes, heart disease, or a number of other medical illnesses. Problems with cognition (thinking) and changes in life circumstances can also complicate matters. Sometimes the physical signs of these illnesses can get mixed up with the symptoms of anxiety, making it difficult to determine if a person has a true anxiety disorder. For instance, a person with heart disease sometimes has chest pain, which can also be a symptom of a panic disorder. - Doctors can have difficulty distinguishing between anxiety caused by adapting to difficult life changes, and a true anxiety disorder. For example, if you fell and broke a hip, you may be justifiably fearful of going out for a while. But that would not mean you have developed an anxiety disorder. Doctors can have difficulty distinguishing between anxiety caused by adapting to difficult life changes, and a true anxiety disorder. For example, if you fell and broke a hip, you may be justifiably fearful of going out for a while. But that would not mean you have developed an anxiety disorder. - Sometimes the worrying symptoms of a medical illness can lead to an anxiety disorder. Or, sometimes the side effects of medication can cause anxiety. Also, a disability or a change in lifestyle caused by a medical illness may lead to an anxiety disorder. Muscle tightness, feeling very tense all the time, and difficulty sleeping can also be symptoms of a physical illness or an anxiety disorder, complicating diagnosis. Sometimes the worrying symptoms of a medical illness can lead to an anxiety disorder. Or, sometimes the side effects of medication can cause anxiety. Also, a disability or a change in lifestyle caused by a medical illness may lead to an anxiety disorder. Muscle tightness, feeling very tense all the time, and difficulty sleeping can also be symptoms of a physical illness or an anxiety disorder, complicating diagnosis. Diagnosis Here is how these anxiety disorders are diagnosed. - Generalized Anxiety Disorder (GAD) - Panic Disorder - Social Anxiety Disorder (Social Phobia) Generalized Anxiety Disorder (GAD) Panic Disorder Social Anxiety Disorder (Social Phobia) Generalized Anxiety Disorder (GAD) - Diagnosis GAD can be diagnosed once a person worries excessively about a variety of everyday problems for at least 6 months. People with GAD may visit a doctor many times before they find out they have this disorder. They ask their doctors to help them with headaches or trouble falling asleep, which can be symptoms of GAD, but they don\\'t always get the help they need right away. It may take doctors some time to be sure that a person has GAD instead of something else. Social Phobia - Diagnosis A doctor can tell that a person has social phobia if the person has had symptoms for at least 6 months. Social phobia usually starts during youth. Without treatment, it can last for many years or a lifetime. Panic Disorder - Diagnosis People with panic disorder may sometimes go from doctor to doctor for years and visit the emergency room repeatedly before someone correctly diagnoses their condition. This is unfortunate, because panic disorder is one of the most treatable of all the anxiety disorders, responding in most cases to certain kinds of medication or certain kinds of cognitive psychotherapy, which help change thinking patterns that lead to fear and anxiety. If You Have Symptoms Anxiety disorders are treatable. If you think you have an anxiety disorder, talk to your family doctor. Your doctor should do an exam to make sure that another physical problem isn\\'t causing the symptoms. The doctor may refer you to a mental health specialist. You should feel comfortable talking with the mental health specialist you choose. If you do not, seek help elsewhere. Once you find a mental health specialist you are comfortable with, you should work as a team and make a plan to treat your anxiety disorder together. Talk About About Past Treatment People with anxiety disorders who have already received treatment for an anxiety disorder should tell their doctor about that treatment in detail. If they received medication, they should tell their doctor what medication was used, what the dosage was at the beginning of treatment, whether the dosage was increased or decreased while they were under treatment, what side effects may have occurred, and whether the treatment helped them become less anxious. If they received psychotherapy, they should describe the type of therapy, how often they attended sessions, and whether the therapy was useful.\\n<question>What is (are) Anxiety Disorders ?<answer>Occasional anxiety is a normal part of life. You might feel anxious when faced with a problem at work, before taking a test, or making an important decision. However, anxiety disorders involve more than temporary worry or fear. For a person with an anxiety disorder, the anxiety does not go away and can get worse over time. These feelings can interfere with daily activities such as job performance, school work, and relationships. (Watch the video to learn about the types of anxiety disorders. To enlarge the video, click the brackets in the lower right-hand corner. To reduce the video, press the Escape (Esc) button on your keyboard.) Anxiety Disorders in Older Adults Studies estimate that anxiety disorders affect up to 15 percent of older adults in a given year. More women than men experience anxiety disorders. They tend to be less common among older adults than younger adults. But developing an anxiety disorder late in life is not a normal part of aging. Anxiety disorders commonly occur along with other mental or physical illnesses, including alcohol or substance abuse, which may mask anxiety symptoms or make them worse. In older adults, anxiety disorders often occur at the same time as depression, heart disease, diabetes, and other medical problems. In some cases, these other problems need to be treated before a person can respond well to treatment for anxiety. There are three types of anxiety disorders discussed here. - generalized anxiety disorder - social phobia - panic disorder generalized anxiety disorder social phobia panic disorder Generalized Anxiety Disorder (GAD) All of us worry about things like health, money, or family problems. But people with generalized anxiety disorder (GAD) are extremely worried about these and many other things, even when there is little or no reason to worry about them. They are very anxious about just getting through the day. They think things will always go badly. At times, worrying keeps people with GAD from doing everyday tasks. Learn more about generalized anxiety disorder (GAD). Social Phobia In social phobia, a person fears being judged by others or of being embarrassed. This fear can get in the way of doing everyday things such as going to work, running errands, or meeting with friends. People who have social phobia often know that they shouldn\\'t be so afraid, but they can\\'t control their fear. Learn more about social phobia. Panic Disorder In panic disorder, a person has sudden, unexplained attacks of terror, and often feels his or her heart pounding. During a panic attack, a person feels a sense of unreality, a fear of impending doom, or a fear of losing control. Panic attacks can occur at any time. Learn more about panic disorder. Anxiety Disorders Are Treatable In general, anxiety disorders are treated with medication, specific types of psychotherapy, or both. Treatment choices depend on the type of disorder, the persons preference, and the expertise of the doctor. If you think you have an anxiety disorder, talk to your doctor.\\n<question>What are the treatments for Anxiety Disorders ?<answer>Exposure-based treatment has been used for many years to treat specific phobias. The person gradually encounters the object or situation that is feared, perhaps at first only through pictures or tapes, then later face-to-face. Sometimes the therapist will accompany the person to a feared situation to provide support and guidance. Exposure exercises are undertaken once the patient decides he is ready for it and with his cooperation. To be effective, therapy must be directed at the persons specific anxieties and must be tailored to his or her needs. A typical side effect is temporary discomfort involved with thinking about confronting feared situations.\\n<question>Who is at risk for Urinary Tract Infections in Children? ?<answer>Throughout childhood, the risk of having a UTI is 2 percent for boys and 8 percent for girls. Having an anomaly of the urinary tract, such as urine reflux from the bladder back into the ureters, increases the risk of a UTI. Boys who are younger than 6 months old who are not circumcised are at greater risk for a UTI than circumcised boys the same age.1\\n<question>What are the symptoms of Urinary Tract Infections in Children ?<answer>Symptoms of a UTI range from slight burning with urination or unusual-smelling urine to severe pain and high fever. A child with a UTI may also have no symptoms. A UTI causes irritation of the lining of the bladder, urethra, ureters, and kidneys, just as the inside of the nose or the throat becomes irritated with a cold. In infants or children who are only a few years old, the signs of a UTI may not be clear because children that young cannot express exactly how they feel. Children may have a high fever, be irritable, or not eat. On the other hand, children may have only a low-grade fever; experience nausea, vomiting, and diarrhea; or just not seem healthy. Children who have a high fever and appear sick for more than a day without signs of a runny nose or other obvious cause for discomfort should be checked for a UTI. Older children with UTIs may complain of pain in the middle and lower abdomen. They may urinate often. Crying or complaining that it hurts to urinate and producing only a few drops of urine at a time are other signs of a UTI. Children may leak urine into clothing or bedsheets. The urine may look cloudy or bloody. If a kidney is infected, children may complain of pain in the back or side below the ribs. Parents should talk with their health care provider if they suspect their child has a UTI.\\n<question>What to do for Urinary Tract Infections in Children ?<answer>- Urinary tract infections (UTIs) usually occur when the body fails to remove bacteria rapidly from the urinary tract. - UTIs affect about 3 percent of children in the United States every year. - Most UTIs are not serious, but chronic kidney infections can cause permanent damage. - A UTI in a young child may be a sign of an abnormality in the urinary tract that could lead to repeated problems. - Symptoms of a UTI range from slight burning with urination or unusual-smelling urine to severe pain and high fever. A child with a UTI may also have no symptoms. - Parents should talk with their health care provider if they suspect their child has a UTI.\\n<question>What to do for Urinary Tract Infections in Children ?<answer>Children with a UTI should drink as much as they wish and not be forced to drink large amounts of fluid. The health care provider needs to know if a child is not interested in drinking or is unable to drink.\\n<question>What are the symptoms of Peripheral Arterial Disease (P.A.D.) ?<answer>Common Symptoms Some people with P.A.D. do not have any symptoms. Others may have a number of signs and symptoms. People who have P.A.D. may notice symptoms when walking or climbing stairs. These symptoms may include pain, aching, or heaviness in the leg muscles. Symptoms may also include - pain - aching, or heaviness in the leg muscles - cramping in the affected leg(s) and in the buttocks, thighs, calves, and feet. pain aching, or heaviness in the leg muscles cramping in the affected leg(s) and in the buttocks, thighs, calves, and feet. They may go away after resting. These symptoms are called intermittent claudication (klaw-dih-KA-shen). If You Have Leg Pain If you have leg pain when you walk or climb stairs, talk to your doctor. Sometimes older people think that leg pain is part of aging when it could be P.A.D. Tell your doctor if you\\'re feeling pain in your legs, and discuss whether you should be tested for P.A.D. Other Possible Signs Possible signs of P.A.D. include - weak or absent pulses in the legs or feet - sores or wounds on the toes, feet, or legs that heal slowly, poorly, or not at all - a pale or bluish color to the skin - a lower temperature in one leg compared to the other leg - poor toenail growth and decreased leg hair growth - erectile dysfunction, especially in men who have diabetes. weak or absent pulses in the legs or feet sores or wounds on the toes, feet, or legs that heal slowly, poorly, or not at all a pale or bluish color to the skin a lower temperature in one leg compared to the other leg poor toenail growth and decreased leg hair growth erectile dysfunction, especially in men who have diabetes. Should I be Checked for P.A.D.? Even if you don\\'t have symptoms or signs of P.A.D., you could still have the disease. Ask your doctor whether you should get checked for P.A.D. if you are - age 70 or older - age 50 or older and have a history of smoking or diabetes - younger than 50 years old and have diabetes and one or more risk factors for atherosclerosis. These risk factors include high cholesterol levels, high blood pressure, smoking, and being overweight. age 70 or older age 50 or older and have a history of smoking or diabetes younger than 50 years old and have diabetes and one or more risk factors for atherosclerosis. These risk factors include high cholesterol levels, high blood pressure, smoking, and being overweight.\\n<question>How to prevent Peripheral Arterial Disease (P.A.D.) ?<answer>What Causes P.A.D.? The most common cause of P.A.D. is atherosclerosis, a buildup of plaque in the arteries. The exact cause of atherosclerosis isn\\'t known. Certain people are at higher risk for developing atherosclerosis. The disease may start if certain factors damage the inner layers of the arteries. These factors include - smoking - high amounts of certain fats and cholesterol in the blood - high blood pressure - high amounts of sugar in the blood due to insulin resistance or diabetes. smoking high amounts of certain fats and cholesterol in the blood high blood pressure high amounts of sugar in the blood due to insulin resistance or diabetes. The major risk factors for P.A.D. are smoking, older age, and having certain diseases or conditions. The Effects of Smoking Smoking is the main risk factor for P.A.D. Your risk of P.A.D. increases four times if you smoke or have a history of smoking. On average, people who smoke and develop P.A.D. have symptoms 10 years earlier than people who don\\'t smoke and develop P.A.D. Quitting smoking slows the progress of P.A.D. Smoking even one or two cigarettes a day can interfere with P.A.D. treatments. People who smoke and people who have diabetes are at highest risk for P.A.D. complications such as gangrene (tissue death) in the leg from decreased blood flow. Older Age Older age also is a risk factor for P.A.D. Plaque builds up in your arteries as you age. About 1 in every 20 Americans over the age of 50 has P.A.D. The risk continues to rise as you get older. Older age combined with other factors, such as smoking or diabetes, also puts you at higher risk for P.A.D. Diseases That Put You at Risk Many diseases and conditions can raise your risk of P.A.D., including - diabetes. About 1 in 3 people older than 50 who has diabetes also has P.A.D. - high blood pressure - high blood cholesterol - coronary heart disease (CHD) - stroke - metabolic syndrome (a group of risk factors that raise your risk of CHD and other health problems, such as P.A.D., stroke, and diabetes). diabetes. About 1 in 3 people older than 50 who has diabetes also has P.A.D. high blood pressure high blood cholesterol coronary heart disease (CHD) stroke metabolic syndrome (a group of risk factors that raise your risk of CHD and other health problems, such as P.A.D., stroke, and diabetes). A family history of these conditions makes P.A.D. more likely. Reducing Your Risk for P.A.D. Taking action to control your risk factors can help prevent or delay P.A.D. There are several helpful lifestyle changes you can make. - Quit smoking. Smoking is the biggest risk factor for P.A.D. - Eat a healthy diet. Look for foods that are low in total fat, saturated fat, trans fat, cholesterol, and sodium (salt). - Get regular exercise and physical activity. Quit smoking. Smoking is the biggest risk factor for P.A.D. Eat a healthy diet. Look for foods that are low in total fat, saturated fat, trans fat, cholesterol, and sodium (salt). Get regular exercise and physical activity. These lifestyle changes can reduce your risk for P.A.D. and its complications. They can also help prevent and control conditions such as diabetes and high blood pressure that can lead to P.A.D.\\n<question>What are the symptoms of Peripheral Arterial Disease (P.A.D.) ?<answer>People who have P.A.D. may have symptoms when walking or climbing stairs. These may include pain, numbness, aching, or heaviness in the leg muscles. Symptoms may also include cramping in the affected leg(s) and in the buttocks, thighs, calves, and feet. Some possible signs of P.A.D. include - weak or absent pulses in the legs or feet - sores or wounds on the toes, feet, or legs that heal slowly - a pale or bluish color to the skin - poor nail growth on the toes and decreased hair growth on the legs - erectile dysfunction, especially among men who have diabetes. weak or absent pulses in the legs or feet sores or wounds on the toes, feet, or legs that heal slowly a pale or bluish color to the skin poor nail growth on the toes and decreased hair growth on the legs erectile dysfunction, especially among men who have diabetes.\\n<question>How to diagnose Peripheral Arterial Disease (P.A.D.) ?<answer>Your Family and Medical History P.A.D. is diagnosed based on a person\\'s medical and family histories, a physical exam, and results from medical tests. To learn about your medical and family histories, your doctor may ask about - your risk factors for P.A.D. For example, he or she may ask whether you smoke or have diabetes. - your symptoms, including any symptoms that occur when walking, exercising, sitting, standing, or climbing - your diet - any medicines you take, including prescription and over-the-counter medicines - family members with a history of heart or blood vessel diseases. your risk factors for P.A.D. For example, he or she may ask whether you smoke or have diabetes. your symptoms, including any symptoms that occur when walking, exercising, sitting, standing, or climbing your diet any medicines you take, including prescription and over-the-counter medicines family members with a history of heart or blood vessel diseases. The Physical Exam During the physical exam, your doctor will look for signs of P.A.D. He or she may check the blood flow in your legs or feet to see whether you have weak or absent pulses. Your doctor also may check the pulses in your leg arteries for an abnormal whooshing sound called a bruit (broo-E). He or she can hear this sound with a stethoscope. A bruit may be a warning sign of a narrowed or blocked artery. Your doctor may compare blood pressure between your limbs to see whether the pressure is lower in the affected limb. He or she may also check for poor wound healing or any changes in your hair, skin, or nails that might be signs of P.A.D. Diagnostic Tests Tests are used to diagnose P.A.D. These tests include - an ankle-brachial index (ABI). This test compares blood pressure in your ankle to blood pressure in your arm and shows how well blood is flowing in your limbs. ABI can show whether P.A.D. is affecting your limbs, but it wont show which blood vessels are narrowed or blocked. A normal ABI result is 1.0 or greater (with a range of 0.90 to 1.30). The test takes about 10 to 15 minutes to measure both arms and both ankles. This test may be done yearly to see whether P.A.D. is getting worse. an ankle-brachial index (ABI). This test compares blood pressure in your ankle to blood pressure in your arm and shows how well blood is flowing in your limbs. ABI can show whether P.A.D. is affecting your limbs, but it wont show which blood vessels are narrowed or blocked. A normal ABI result is 1.0 or greater (with a range of 0.90 to 1.30). The test takes about 10 to 15 minutes to measure both arms and both ankles. This test may be done yearly to see whether P.A.D. is getting worse. - a Doppler ultrasound. This test looks at blood flow in the major arteries and veins in the limbs. During this test, a handheld device is placed on your body and passed back and forth over the affected area. A computer converts sound waves into a picture of blood flow in the arteries and veins. The results of this test can show whether a blood vessel is blocked. The results also can help show the severity of P.A.D. a Doppler ultrasound. This test looks at blood flow in the major arteries and veins in the limbs. During this test, a handheld device is placed on your body and passed back and forth over the affected area. A computer converts sound waves into a picture of blood flow in the arteries and veins. The results of this test can show whether a blood vessel is blocked. The results also can help show the severity of P.A.D. - a treadmill test. This test shows if you have any problems during normal walking, how severe your symptoms are, and what level of exercise brings on your symptoms. You may have an ABI test before and after the treadmill test. This will help compare blood flow in your arms and legs before and after exercise. a treadmill test. This test shows if you have any problems during normal walking, how severe your symptoms are, and what level of exercise brings on your symptoms. You may have an ABI test before and after the treadmill test. This will help compare blood flow in your arms and legs before and after exercise. - a magnetic resonance angiogram (MRA). This test uses magnetic and radio waves to take pictures of your blood vessels. This test is a type of magnetic resonance imaging (MRI). An MRA can show the location and severity of a blocked blood vessel. If you have a pacemaker, man-made joint, stent, surgical clips, mechanical heart valve, or other metallic devices in your body, you might not be able to have an MRA. Ask your doctor whether an MRA is an option for you. a magnetic resonance angiogram (MRA). This test uses magnetic and radio waves to take pictures of your blood vessels. This test is a type of magnetic resonance imaging (MRI). An MRA can show the location and severity of a blocked blood vessel. If you have a pacemaker, man-made joint, stent, surgical clips, mechanical heart valve, or other metallic devices in your body, you might not be able to have an MRA. Ask your doctor whether an MRA is an option for you. - an arteriogram. This test is used to find the exact location of a blocked artery. Dye is injected through a needle or catheter (thin tube) into one of your arteries, then an X-ray is taken. The X-ray can show the location, type, and extent of the blockage in the artery. Some doctors use a newer method of arteriogram that uses tiny ultrasound cameras. These cameras take pictures of the insides of the blood vessels. This method is called intravascular ultrasound. an arteriogram. This test is used to find the exact location of a blocked artery. Dye is injected through a needle or catheter (thin tube) into one of your arteries, then an X-ray is taken. The X-ray can show the location, type, and extent of the blockage in the artery. Some doctors use a newer method of arteriogram that uses tiny ultrasound cameras. These cameras take pictures of the insides of the blood vessels. This method is called intravascular ultrasound. - blood tests. These tests check for P.A.D. risk factors such as diabetes and high blood cholesterol levels. blood tests. These tests check for P.A.D. risk factors such as diabetes and high blood cholesterol levels.\\n<question>What are the treatments for Surviving Cancer ?<answer>Most people first notice symptoms, such as tingling or numbness, in their hands or feet. Other common symptoms include sudden or sharp pain sensations, loss of sensation of touch, loss of balance or difficulty walking, trouble picking up objects or buttoning clothes, and being more -- or less -- sensitive to heat and cold.\\n<question>What are the treatments for Surviving Cancer ?<answer>Many cancer survivors develop problems with their mouth or teeth. Radiation or surgery to the head and neck can cause problems with your teeth and gums, the lining of your mouth, and the glands that make saliva. Certain types of chemotherapy can cause the same problems as well as dry mouth, cavities, and a change in the sense of taste.\\n<question>What are the treatments for Surviving Cancer ?<answer>Talk to your doctor when you first notice symptoms of neuropathy. Certain medications and other approaches, such as physical therapy, may help alleviate symptoms. There are some steps you can take yourself. Pay careful attention to your hands and feet, and check them for wounds. Pay attention when you walk and avoid falls. Avoid extreme heat or cold.\\n<question>What is (are) Surviving Cancer ?<answer>The National Cancer Institute\\'s Cancer Information Service (CIS) provides personalized answers to questions about many aspects of cancer, including symptoms, diagnosis, treatment, and survivorship issues. Contact CIS by calling 1-800-4-CANCER (1-800-422-6237) or for TTY users, 1-800-332-8615. You can also contact CIS over the Internet at http://cis.nci.nih.gov or by sending an email to cancergovstaff@mail.nih.gov.\\n<question>What is (are) Amyloidosis and Kidney Disease ?<answer>You and your doctor will work together to choose a treatment that\\'s best for you. The publications of the NIDDK Kidney Failure Series can help you learn about the specific issues you will face. Booklets - What I need to know about Kidney Failure and How its Treated - Treatment Methods for Kidney Failure: Hemodialysis - Treatment Methods for Kidney Failure: Peritoneal Dialysis - Treatment Methods for Kidney Failure: Kidney Transplantation - Kidney Failure: Eat Right to Feel Right on Hemodialysis Fact Sheets - Kidney Failure: What to Expect - Vascular Access for Hemodialysis - Hemodialysis Dose and Adequacy - Peritoneal Dialysis Dose and Adequacy - Amyloidosis and Kidney Disease - Anemia in Chronic Kidney Disease - Chronic Kidney Disease-Mineral and Bone Disorder - Financial Help for Treatment of Kidney Failure Learning as much as you can about your treatment will help make you an important member of your health care team. This content is provided as a service of the National Institute of Diabetes and Digestive and Kidney Diseases (NIDDK), part of the National Institutes of Health. The NIDDK translates and disseminates research findings through its clearinghouses and education programs to increase knowledge and understanding about health and disease among patients, health professionals, and the public. Content produced by the NIDDK is carefully reviewed by NIDDK scientists and other experts. The NIDDK would like to thank: Glenn Chertow, M.D., University of California at San Francisco; William J. Stone, M.D., Vanderbilt University; Morie A. Gertz, M.D., Mayo Clinic This information is not copyrighted. The NIDDK encourages people to share this content freely. September 2014\\n<question>How to diagnose Amyloidosis and Kidney Disease ?<answer>A health care provider diagnoses primary amyloidosis of the kidneys with - a medical and family history - a physical exam - urinalysis - blood tests - a kidney biopsy Medical and Family History Taking a medical and family history may help a health care provider diagnose amyloidosis of the kidneys. He or she will ask the patient to provide a medical and family history. Physical Exam A physical exam may help diagnose primary amyloidosis of the kidneys. During a physical exam, a health care provider usually - examines a patients body to check for swelling - uses a stethoscope to listen to the lungs - taps on specific areas of the patients body Urinalysis A health care provider may use urinalysisthe testing of a urine sampleto check for albumin and amyloid proteins in urine. The patient provides a urine sample in a special container at a health care providers office or a commercial facility. A nurse or technician can test the sample in the same location or send it to a lab for analysis. More-than-normal amounts of albumin in urine may indicate kidney damage due to primary amyloidosis. Amyloid proteins in urine may indicate amyloidosis. Blood Tests The health care provider may use blood tests to see how well the kidneys are working and to check for amyloid proteins and hyperlipidemia. A blood test involves drawing a patients blood at a health care providers office or a commercial facility and sending the sample to a lab for analysis. Blood tests for kidney function measure the waste products in the blood that healthy kidneys normally filter out. Hyperlipidemia may indicate nephrotic syndrome. Amyloid proteins in blood may indicate amyloidosis. Kidney Biopsy Only a biopsy can show the amyloid protein deposits in the kidneys. A health care provider may recommend a kidney biopsy if other tests show kidney damage. A kidney biopsy is a procedure that involves taking a piece of kidney tissue for examination with a microscope. A health care provider performs a kidney biopsy in a hospital with light sedation and local anesthetic. The health care provider uses imaging techniques such as ultrasound or a computerized tomography (CT) scan to guide the biopsy needle into the kidney and take the tissue sample. A pathologista doctor who specializes in diagnosing diseasesexamines the tissue in a lab for amyloid proteins and kidney damage. The biopsy results can help the health care provider determine the best course of treatment. More information is provided in the NIDDK health topic, Kidney Biopsy.\\n<question>What to do for Amyloidosis and Kidney Disease ?<answer>- Amyloidosis is a rare disease that occurs when amyloid proteins are deposited in tissues and organs. - Primary amyloidosis and dialysis-related amyloidosis are the types of amyloidosis that can affect the kidneys. - The most common sign of primary amyloidosis of the kidneys is nephrotic syndrome. - The signs of nephrotic syndrome include - albuminuriaan elevated amount of albumin in the urine. A person with nephrotic syndrome excretes more than half a teaspoon of albumin per day. - hyperlipidemiaa condition in which a persons blood has more-than-normal amounts of fats and cholesterol. - edemaswelling, typically in a persons legs, feet, or ankles and less often in the hands or face. - hypoalbuminemiaa condition in which a persons blood has less-than-normal amounts of albumin. - Other signs and symptoms of primary amyloidosis may include - fatigue, or feeling tired - shortness of breath - low blood pressure - numbness, tingling, or a burning sensation in the hands or feet - weight loss - The symptoms of dialysis-related amyloidosis may include - pain, stiffness, and fluid in the joints. - abnormal, fluid-containing sacs, called cysts, in some bones. - carpal tunnel syndrome, caused by unusual buildup of amyloid proteins in the wrists. The symptoms of carpal tunnel syndrome include numbness or tingling, sometimes associated with muscle weakness, in the fingers and hands. - A health care provider diagnoses primary amyloidosis of the kidneys with - a medical and family history - a physical exam - urinalysis - blood tests - a kidney biopsy - A health care provider diagnoses dialysis-related amyloidosis with - urinalysis - blood tests - imaging tests - A health care provider treats primary amyloidosis of the kidneys with the following: - medication therapy, including chemotherapy - a stem cell transplant - treating other conditions - A health care provider treats dialysis-related amyloidosis with - medication therapy - newer, more effective hemodialysis filters - surgery - a kidney transplant\\n<question>What is (are) Amyloidosis and Kidney Disease ?<answer>Amyloidosis is a rare disease that occurs when amyloid proteins are deposited in tissues and organs. Amyloid proteins are abnormal proteins that the body cannot break down and recycle, as it does with normal proteins. When amyloid proteins clump together, they form amyloid deposits. The buildup of these deposits damages a persons organs and tissues. Amyloidosis can affect different organs and tissues in different people and can affect more than one organ at the same time. Amyloidosis most frequently affects the kidneys, heart, nervous system, liver, and digestive tract. The symptoms and severity of amyloidosis depend on the organs and tissues affected.\\n<question>What are the symptoms of Abdominal Adhesions ?<answer>In most cases, abdominal adhesions do not cause symptoms. When symptoms are present, chronic abdominal pain is the most common.\\n<question>What are the complications of Abdominal Adhesions ?<answer>Abdominal adhesions can cause intestinal obstruction and female infertilitythe inability to become pregnant after a year of trying. Abdominal adhesions can lead to female infertility by preventing fertilized eggs from reaching the uterus, where fetal development takes place. Women with abdominal adhesions in or around their fallopian tubes have an increased chance of ectopic pregnancya fertilized egg growing outside the uterus. Abdominal adhesions inside the uterus may result in repeated miscarriagesa pregnancy failure before 20 weeks. Seek Help for Emergency Symptoms A complete intestinal obstruction is life threatening and requires immediate medical attention and often surgery. Symptoms of an intestinal obstruction include - severe abdominal pain or cramping - nausea - vomiting - bloating - loud bowel sounds - abdominal swelling - the inability to have a bowel movement or pass gas - constipationa condition in which a person has fewer than three bowel movements a week; the bowel movements may be painful A person with these symptoms should seek medical attention immediately.\\n<question>What are the treatments for Abdominal Adhesions ?<answer>Abdominal adhesions that do not cause symptoms generally do not require treatment. Surgery is the only way to treat abdominal adhesions that cause pain, intestinal obstruction, or fertility problems. More surgery, however, carries the risk of additional abdominal adhesions. People should speak with their health care provider about the best way to treat their abdominal adhesions. Complete intestinal obstructions usually require immediate surgery to clear the blockage. Most partial intestinal obstructions can be managed without surgery.\\n<question>What are the symptoms of Abdominal Adhesions ?<answer>A complete intestinal obstruction is life threatening and requires immediate medical attention and often surgery. Symptoms of an intestinal obstruction include - severe abdominal pain or cramping - nausea - vomiting - bloating - loud bowel sounds - abdominal swelling - the inability to have a bowel movement or pass gas - constipationa condition in which a person has fewer than three bowel movements a week; the bowel movements may be painful A person with these symptoms should seek medical attention immediately.\\n<question>What is (are) Cyclic Vomiting Syndrome ?<answer>Cyclic vomiting syndrome, sometimes referred to as CVS, is an increasingly recognized disorder with sudden, repeated attacksalso called episodesof severe nausea, vomiting, and physical exhaustion that occur with no apparent cause. The episodes can last from a few hours to several days. Episodes can be so severe that a person has to stay in bed for days, unable to go to school or work. A person may need treatment at an emergency room or a hospital during episodes. After an episode, a person usually experiences symptom-free periods lasting a few weeks to several months. To people who have the disorder, as well as their family members and friends, cyclic vomiting syndrome can be disruptive and frightening. The disorder can affect a person for months, years, or decades. Each episode of cyclic vomiting syndrome is usually similar to previous ones, meaning that episodes tend to start at the same time of day, last the same length of time, and occur with the same symptoms and level of intensity.\\n<question>How to diagnose Cyclic Vomiting Syndrome ?<answer>A specific test to diagnose cyclic vomiting syndrome does not exist; instead, a health care provider will rule out other conditions and diagnose the syndrome based upon - a medical and family history - a physical exam - a pattern or cycle of symptoms - blood tests - urine tests - imaging tests - upper GI endoscopy - a gastric emptying test Often, it is suspected that one of the following is causing their symptoms: - gastroparesisa disorder that slows or stops the movement of food from the stomach to the small intestine - gastroenteritisinflammation of the lining of the stomach, small intestine, and large intestine A diagnosis of cyclic vomiting syndrome may be difficult to make until the person sees a health care provider. A health care provider will suspect cyclic vomiting syndrome if the person suffers from repeat episodes of vomiting. Medical and Family History Taking a medical and family history is one of the first things a health care provider may do to help diagnose cyclic vomiting syndrome. He or she will ask the patient to provide a medical and family history. Physical Exam A physical exam may help diagnose other conditions besides cyclic vomiting syndrome. During a physical exam, a health care provider usually - examines a patients body - taps on specific areas of the patients body Pattern or Cycle of Symptoms in Children3 A health care provider will often suspect cyclic vomiting syndrome in a child when the child - has at least five separate episodes, or at least three separate episodes over 6 months - has episodes of intense nausea and vomiting lasting 1 hour to 10 days and occurring at least 1 week apart - has episodes that are similar to previous onesthey tend to start at the same time of day, last the same length of time, and occur with the same symptoms and level of intensity - vomits during episodes at least four times per hour for at least 1 hour - vomits and it is not attributed to another disorder - has absence of nausea and vomiting between episodes Pattern or Cycle of Symptoms in Adults4,5 A health care provider will often suspect cyclic vomiting syndrome in adults when the following is present for at least 3 months and the symptoms started more than 6 months ago: - Each episode of cyclic vomiting syndrome is usually similar to previous ones, meaning that episodes tend to start at the same time of day and last the same length of timeless than 1 week. - Three or more separate episodes in the past year. - Absence of nausea or vomiting between episodes. Blood Tests A nurse or technician will draw blood samples at a health care providers office or a commercial facility and send the samples to a lab for analysis. The blood test can tell the health care provider if the patient has any signs of dehydration or other problems. Urine Tests Urinalysis involves testing a urine sample. The patient collects a urine sample in a special container in a health care providers office or a commercial facility. A health care provider tests the sample in the same location or sends the sample to a lab for analysis. A urinalysis can rule out kidney problems or an infection. Imaging Tests The health care provider decides which test to order based on the symptoms, medical history, and physical exam. Upper GI series. A health care provider may order an upper GI series to look at the upper GI tract. A radiologista doctor who specializes in medical imagingperforms this test at a hospital or an outpatient center. This test does not require anesthesia. The patient should not eat or drink for 8 hours before the procedure, if possible. During the procedure, the patient will stand or sit in front of an x-ray machine and drink barium, a chalky liquid. Infants lie on a table and a health care provider gives them barium through a tiny tube placed in the nose that runs into the stomach. Barium coats the GI tract, making signs of obstruction or other problems that can cause vomiting show up more clearly on x rays. A patient may experience bloating and nausea for a short time after the test. The upper GI series can show other problems that may be causing symptoms, such as an ulcer or obstruction. Abdominal ultrasound. A health care provider may order an ultrasound to look at the organs in the abdomen. A technician uses a device, called a transducer, that bounces safe, painless sound waves off organs to create an image of their structure. The technician performs the procedure in a health care providers office, an outpatient center, or a hospital. A radiologist interprets the images. A patient does not need anesthesia. The abdominal ultrasound can show other problems that may be causing symptoms, such as gallstones. Upper Gastrointestinal Endoscopy This procedure involves using an endoscopea small, flexible tube with a lightto see the upper GI tract. A gastroenterologista doctor who specializes in digestive diseasesperforms the test at a hospital or an outpatient center. A health care provider may give a patient a liquid anesthetic to gargle or may spray anesthetic on the back of the patients throat. A nurse or technician will place an IV needle in a vein in the arm to administer sedation or anesthesia. Sedatives or anesthesia help a patient stay relaxed and comfortable. The gastroenterologist carefully inserts the endoscope into the mouth and feeds the endoscope down the esophagus and into the stomach and duodenum. A small camera mounted on the endoscope transmits a video image to a monitor, allowing close examination of the intestinal lining. The upper GI endoscopy can show other problems that may be causing symptoms, such as an ulcer. A gastroenterologist may obtain a biopsya procedure that involves taking a small piece of tissue for examination with a microscopeof the small-intestinal lining during an upper GI endoscopy. The patient will not feel the biopsy. Gastric Emptying Test Also called gastric emptying scintigraphy, this test involves eating a bland mealsuch as eggs or an egg substitutethat contains a small amount of radioactive material. A specially trained technician performs the test in a radiology center or hospital, and a radiologist interprets the results; the patient does not need anesthesia. An external camera scans the abdomen to show where the radioactive material is located. The radiologist is then able to measure the rate of gastric emptying at 1, 2, 3, and 4 hours after the meal.\\n<question>What are the symptoms of Cyclic Vomiting Syndrome ?<answer>People who have any signs or symptoms of severe dehydration should call or see a health care provider right away: - excessive thirst - dark-colored urine - infrequent urination - lethargy, dizziness, or faintness - dry skin Infants, children, older adults, and people with weak immune systems have the greatest chance of becoming dehydrated. People should watch for the following signs and symptoms of dehydration in infants, young children, and people who are unable to communicate their symptoms: - dry mouth and tongue - lack of tears when crying - infants with no wet diapers for 3 hours or more - infants with a sunken soft spot - unusually cranky or drowsy behavior - sunken eyes or cheeks - fever If left untreated, severe dehydration can cause serious health problems, such as organ damage, shock, or comaa sleeplike state in which a person is not conscious.\\n<question>What are the complications of Cyclic Vomiting Syndrome ?<answer>The severe vomiting and retching that define cyclic vomiting syndrome increase the chance of developing several complications, including dehydration, esophagitis, a Mallory-Weiss tear, and tooth decay. - Dehydration may occur when a person does not replace fluids that were lost because of vomiting and diarrhea. When dehydrated, the body lacks enough fluid and electrolytesminerals in salts, including sodium, potassium, and chlorideto function properly. Severe dehydration may require intravenous (IV) fluids and hospitalization. - Esophagitisinflammation or irritation of the esophaguscan result from the stomach acid that exits through the esophagus during vomiting. - A Mallory-Weiss teara tear in the lower end of the esophagusis caused by severe vomiting. A person with bloody vomit and stool should see a health care provider right away. - Tooth decay or corroding tooth enamel is damage caused by stomach acid. Seek Help for Signs or Symptoms of Severe Dehydration People who have any signs or symptoms of severe dehydration should call or see a health care provider right away: - excessive thirst - dark-colored urine - infrequent urination - lethargy, dizziness, or faintness - dry skin Infants, children, older adults, and people with weak immune systems have the greatest chance of becoming dehydrated. People should watch for the following signs and symptoms of dehydration in infants, young children, and people who are unable to communicate their symptoms: - dry mouth and tongue - lack of tears when crying - infants with no wet diapers for 3 hours or more - infants with a sunken soft spot - unusually cranky or drowsy behavior - sunken eyes or cheeks - fever If left untreated, severe dehydration can cause serious health problems, such as organ damage, shock, or comaa sleeplike state in which a person is not conscious.\\n<question>What is (are) What I need to know about Kidney Failure and How Its Treated ?<answer>You and your doctor will work together to choose a treatment that\\'s best for you. The publications of the NIDDK Kidney Failure Series can help you learn about the specific issues you will face. Booklets - What I need to know about Kidney Failure and How its Treated - Treatment Methods for Kidney Failure: Hemodialysis - Treatment Methods for Kidney Failure: Peritoneal Dialysis - Treatment Methods for Kidney Failure: Kidney Transplantation - Kidney Failure: Eat Right to Feel Right on Hemodialysis Fact Sheets - Kidney Failure: What to Expect - Vascular Access for Hemodialysis - Hemodialysis Dose and Adequacy - Peritoneal Dialysis Dose and Adequacy - Amyloidosis and Kidney Disease - Anemia in Chronic Kidney Disease - Chronic Kidney Disease-Mineral and Bone Disorder - Financial Help for Treatment of Kidney Failure Learning as much as you can about your treatment will help make you an important member of your health care team. This content is provided as a service of the National Institute of Diabetes and Digestive and Kidney Diseases (NIDDK), part of the National Institutes of Health. The NIDDK translates and disseminates research findings through its clearinghouses and education programs to increase knowledge and understanding about health and disease among patients, health professionals, and the public. Content produced by the NIDDK is carefully reviewed by NIDDK scientists and other experts. The NIDDK would like to thank: Neil R. Powe, M.D., M.P.H., M.B.A., University of California, San Francisco; Delphine Tuot, M.D.C.M., M.A.S., University of California, San Francisco; Vicki McClelland and Brian Testerman, both of the Free Medical Clinic of Northern Shenandoah Valley in Winchester, VA This information is not copyrighted. The NIDDK encourages people to share this content freely. September 2014\\n<question>What is (are) What I need to know about Kidney Failure and How Its Treated ?<answer>You have two kidneys. The kidneys are shaped like beans. Each kidney is about the size of a fist. They are located just below your ribcage, one on each side of your spine. Your kidneys filter your blood. Each kidney is made of 1 million little filters. During every minute of every day, these filters take out waste materials that can hurt you. They also take out extra fluid from your blood. The wastes and extra fluid make urine. The urine flows from your kidneys to your bladder through tubes called ureters.The bladder stores urine until you urinate. Then, urine leaves the body through a tube called the urethra. *See the Pronunciation Guide for tips on how to say the the words in bold type.\\n<question>What are the treatments for What I need to know about Kidney Failure and How Its Treated ?<answer>If you have kidney failure, learn about the treatments and think about which one best fits you. Talk with people who are on hemodialysis or peritoneal dialysis. Ask what is good and bad about each treatment. If you make a choice and find you dont like it, talk with your doctor about trying something else. Ask your doctor about the transplant waiting list and the medicines needed after a transplant. Talk with people who have had kidney transplants and ask how it has changed their lives. If you plan to keep working, think about which treatment choice would make working easier. If spending time with family and friends means a lot to you, ask which treatment gives you the most free time. Find out which treatment will give you the best chance to be healthy and live longer. If you are thinking about conservative management, you may wish to speak with your family, friends, doctor, or mental health counselor as you decide. You can take control of your care by talking with your doctor. You may need time to get used to your new treatment. Kidney failure can make your life harder. Treatments can help improve your life.\\n<question>What is (are) What I need to know about Kidney Failure and How Its Treated ?<answer>Hemodialysis is a treatment for kidney failure that is done in a center several times per week. Some people learn to do hemodialysis in their homes. Hemodialysis uses a machine to filter your blood when your kidneys are too sick to filter any more. With hemodialysis, your blood is filtered outside of your body. Unfiltered blood is removed from the body and flows to the dialyzer to be cleaned. Filtered blood flows back to the body. First, a dialysis nurse places two needles into your arm. A pump on the hemodialysis machine draws your blood through one of the needles into a tube. The tube takes the blood to a filter, called a dialyzer. Inside the dialyzer, your blood flows through thin fibers that are like straws. The wastes and extra fluid leave the blood through tiny holes in the fibers. Then, a different tube carries the filtered blood back to your body through the second needle. The hemodialysis machine throws out the wastes and extra fluid, just like how your body makes urine. Hemodialysis does not make the kidneys better. However, it may help you feel better by filtering your blood when your kidneys fail.\\n<question>What is (are) Adrenal Insufficiency and Addison\\'s Disease ?<answer>Adrenal insufficiency is an endocrine, or hormonal, disorder that occurs when the adrenal glands do not produce enough of certain hormones. The adrenal glands are located just above the kidneys. Adrenal insufficiency can be primary or secondary. Addisons disease, the common term for primary adrenal insufficiency, occurs when the adrenal glands are damaged and cannot produce enough of the adrenal hormone cortisol. The adrenal hormone aldosterone may also be lacking. Addisons disease affects 110 to 144 of every 1 million people in developed countries.1 Secondary adrenal insufficiency occurs when the pituitary glanda pea-sized gland at the base of the brainfails to produce enough adrenocorticotropin (ACTH), a hormone that stimulates the adrenal glands to produce the hormone cortisol. If ACTH output is too low, cortisol production drops. Eventually, the adrenal glands can shrink due to lack of ACTH stimulation. Secondary adrenal insufficiency is much more common than Addisons disease. 1\\n<question>What causes Adrenal Insufficiency and Addison\\'s Disease ?<answer>Autoimmune disorders cause most cases of Addisons disease. Infections and medications may also cause the disease. Autoimmune Disorders Up to 80 percent of Addisons disease cases are caused by an autoimmune disorder, which is when the bodys immune system attacks the bodys own cells and organs.2 In autoimmune Addisons, which mainly occurs in middle-aged females, the immune system gradually destroys the adrenal cortexthe outer layer of the adrenal glands.2 Primary adrenal insufficiency occurs when at least 90 percent of the adrenal cortex has been destroyed.1 As a result, both cortisol and aldosterone are often lacking. Sometimes only the adrenal glands are affected. Sometimes other endocrine glands are affected as well, as in polyendocrine deficiency syndrome. Polyendocrine deficiency syndrome is classified into type 1 and type 2. Type 1 is inherited and occurs in children. In addition to adrenal insufficiency, these children may have - underactive parathyroid glands, which are four pea-sized glands located on or near the thyroid gland in the neck; they produce a hormone that helps maintain the correct balance of calcium in the body. - slow sexual development. - pernicious anemia, a severe type of anemia; anemia is a condition in which red blood cells are fewer than normal, which means less oxygen is carried to the bodys cells. With most types of anemia, red blood cells are smaller than normal; however, in pernicious anemia, the cells are bigger than normal. - chronic fungal infections. - chronic hepatitis, a liver disease. Researchers think type 2, which is sometimes called Schmidts syndrome, is also inherited. Type 2 usually affects young adults and may include - an underactive thyroid gland, which produces hormones that regulate metabolism - slow sexual development - diabetes, in which a person has high blood glucose, also called high blood sugar or hyperglycemia - vitiligo, a loss of pigment on areas of the skin Infections Tuberculosis (TB), an infection that can destroy the adrenal glands, accounts for 10 to 15 percent of Addisons disease cases in developed countries.1 When primary adrenal insufficiency was first identified by Dr. Thomas Addison in 1849, TB was the most common cause of the disease. As TB treatment improved, the incidence of Addisons disease due to TB of the adrenal glands greatly decreased. However, recent reports show an increase in Addisons disease from infections such as TB and cytomegalovirus. Cytomegalovirus is a common virus that does not cause symptoms in healthy people; however, it does affect babies in the womb and people who have a weakened immune systemmostly due to HIV/AIDS.2 Other bacterial infections, such as Neisseria meningitidis, which is a cause of meningitis, and fungal infections can also lead to Addisons disease. Other Causes Less common causes of Addisons disease are - cancer cells in the adrenal glands - amyloidosis, a serious, though rare, group of diseases that occurs when abnormal proteins, called amyloids, build up in the blood and are deposited in tissues and organs - surgical removal of the adrenal glands - bleeding into the adrenal glands - genetic defects including abnormal adrenal gland development, an inability of the adrenal glands to respond to ACTH, or a defect in adrenal hormone production - medication-related causes, such as from anti-fungal medications and the anesthetic etomidate, which may be used when a person undergoes an emergency intubationthe placement of a flexible, plastic tube through the mouth and into the trachea, or windpipe, to assist with breathing 2\\n<question>What are the treatments for Adrenal Insufficiency and Addison\\'s Disease ?<answer>People with adrenal insufficiency who have weakness, nausea, or vomiting need immediate emergency treatment to prevent an adrenal crisis and possible death. An injection with a synthetic glucocorticoid hormone called a corticosteroid can save a persons life. People should make sure to have a corticosteroid injection with them at all times, and make sure their friends and family know how and when to give the injection. Read more under How is adrenal insufficiency treated?\\n<question>How to diagnose Adrenal Insufficiency and Addison\\'s Disease ?<answer>In its early stages, adrenal insufficiency can be difficult to diagnose. A health care provider may suspect it after reviewing a persons medical history and symptoms. A diagnosis of adrenal insufficiency is confirmed through hormonal blood and urine tests. A health care provider uses these tests first to determine whether cortisol levels are too low and then to establish the cause. Imaging studies of the adrenal and pituitary glands can be useful in helping to establish the cause. A lab technician performs the following tests in a health care providers office, a commercial facility, or a hospital. Hormonal Blood and Urine Tests - ACTH stimulation test. The ACTH stimulation test is the most commonly used test for diagnosing adrenal insufficiency. In this test, the patient is given an intravenous (IV) injection of synthetic ACTH, and samples of blood, urine, or both are taken before and after the injection. The cortisol levels in the blood and urine samples are measured in a lab. The normal response after an ACTH injection is a rise in blood and urine cortisol levels. People with Addisons disease or longstanding secondary adrenal insufficiency have little or no increase in cortisol levels. Both low- and high-dose ACTH stimulation tests may be used depending on the suspected cause of adrenal insufficiency. For example, if secondary adrenal insufficiency is mild or has only recently occurred, the adrenal glands may still respond to ACTH because they have not yet shut down their own production of hormone. Some studies have suggested a low dose1 microgram (mcg)may be more effective in detecting secondary adrenal insufficiency because the low dose is still enough to raise cortisol levels in healthy people, yet not in people with mild or recent secondary adrenal insufficiency. However, recent research has shown that a significant proportion of healthy children and adults can fail the low-dose test, which may lead to unnecessary treatment. Therefore, some health care providers favor using a 250 mcg ACTH test for more accurate results. - CRH stimulation test. When the response to the ACTH test is abnormal, a CRH stimulation test can help determine the cause of adrenal insufficiency. In this test, the patient is given an IV injection of synthetic CRH, and blood is taken before and 30, 60, 90, and 120 minutes after the injection. The cortisol levels in the blood samples are measured in a lab. People with Addisons disease respond by producing high levels of ACTH, yet no cortisol. People with secondary adrenal insufficiency do not produce ACTH or have a delayed response. CRH will not stimulate ACTH secretion if the pituitary is damaged, so no ACTH response points to the pituitary as the cause. A delayed ACTH response points to the hypothalamus as the cause. Diagnosis during Adrenal Crisis Although a reliable diagnosis is not possible during adrenal crisis, measurement of blood ACTH and cortisol during the crisisbefore treatment with corticosteroids is givenis often enough to make a preliminary diagnosis. Low blood sodium, low blood glucose, and high blood potassium are also sometimes present at the time of adrenal crisis. Once the crisis is controlled, an ACTH stimulation test can be performed to help make a specific diagnosis. More complex lab tests are sometimes used if the diagnosis remains unclear.\\n<question>What are the treatments for National Hormone and Pituitary Program (NHPP): Information for People Treated with Pituitary Human Growth Hormone (Comprehensive Report) ?<answer>Most people were treated with pituitary hGH because their pituitary glands did not make enough of their own GH. Some of these people also had problems making other pituitary hormones. One of these hormones tells the adrenal glands to make cortisol, a hormone needed for life. People lacking this hormone are at risk of death from adrenal crisis, but adrenal crisis can be prevented. More pituitary hGH recipients have died from adrenal crisis than from CJD. Pituitary hGH did not cause adrenal problems, but some people who received hGH have a pituitary problem that puts them at risk for adrenal crisis. Please read the health alert and discuss this information with your doctor. Besides CJD, no other serious or fatal health risks from pituitary hGH treatment have been found. Mad Cow Disease Starting in 1996, reports of a new form of CJD in young people who lived in the United Kingdom have raised concerns worldwide. Since at least 1985, some cattle in the United Kingdom have developed a disease called bovine spongiform encephalopathy (BSE), or \"mad cow\" disease. \"Mad cow\" disease is a sickness in cattle that is caused by an agent that is similar, but not identical, to the agents that cause the most common forms of CJD in people. Individuals who consume products made from cattle infected with the agent that causes \"mad cow\" disease can become infected with the agent themselves and develop the human form of \"mad cow\" disease, called variant CJD (vCJD). In humans, vCJD and the more common forms of CJD (those without the word \"variant\") are separate diseases. As of November 2012, 227 cases of vCJD were confirmed worldwide, mostly from the United Kingdom. Researchers believe all but three of these 227 individuals got vCJD by eating beef from animals with \"mad cow\" disease. The three exceptions were persons who are believed to have developed vCJD because they received infected blood from a donor who had acquired the agent by eating beef from animals with \"mad cow\" disease. In the United States, three cases of vCJD have been found. According to the Centers for Disease Control and Prevention (CDC), the investigation of these three cases indicated that they most likely acquired their infection in the United Kingdom (two cases) and Saudi Arabia (one case). People who received pituitary hGH are not at higher risk for vCJD. AIDS HIV, also known as the human immunodeficiency virus, causes AIDS. Pituitary hGH does not cause AIDS. HIV is destroyed by the methods used to make pituitary hGH. People who have been treated with pituitary hGH do not have a higher risk for AIDS. Low Levels of GH in Adults Some people who received pituitary hGH as children may have low levels of GH as adults and might therefore benefit from bGH as adults. People with low levels of growth hormone as adults may have symptoms or changes like these: - more body fat - less muscle - less bone mass - less strength - less energy If you lacked GH as a child and have these problems as an adult, ask your doctor whether they might be due to low GH. Because these conditions are common in many people, they are not always due to low GH. Studies have shown that GH treatment in adults with low GH reduces fat and increases muscle mass. Effects on strength, energy, and bone fractures in GH-deficient adults receiving GH replacement are not as clear. Today, GH is completely synthetic. It is not made from human pituitaries. It poses no threat of contamination. The Human Growth Foundation (HGF) is one source of information about growth-related disorders. The Foundation can be reached at 18004516434. Cancer HHS studies of people treated with pituitary hGH supplied by the NHPP show no increased risk of cancer in those who did not have tumors before pituitary hGH treatment. Many people who received NHPP pituitary hGH had brain tumors that caused their lack of GH. People who have had one tumor have an increased risk for getting other tumors. In previous updates, we reported that in 1988, Japanese doctors reported an increased risk of leukemia in people treated with GH. Subsequent studies of individuals who were given pituitary hGH in the United States, Japan, and the United Kingdom found no higher rate of leukemia among those who did not have tumors and/or radiation before treatment with pituitary hGH. Emotional Problems No studies have shown that pituitary hGH causes changes in personality, emotional problems, or suicide.\\n<question>What are the treatments for National Hormone and Pituitary Program (NHPP): Information for People Treated with Pituitary Human Growth Hormone (Comprehensive Report) ?<answer>The HHS has identified 29 cases of CJD among the nearly 7,700 people in the United States who received NHPP pituitary hGH. None of the 29 people who got CJD began treatment with pituitary hGH after 1977, the year that the NHPP began producing pituitary hGH in a laboratory (headed by Dr. Albert Parlow) using a new purification step. Today, the growth hormone used to treat patients is made biosynthetically and not from human pituitary glands. Biosynthetic growth hormone (bGH), also known as recombinant human growth hormone (rhGH), poses no threat of infection with CJD. Based on NHPP records, the HHS estimated 7,700 people were treated with pituitary hGH from the NHPP. Of these, the HHS got the names and addresses of 6,272 from their doctors and treatment centers so that their health could be monitored. Another 1,400 people are believed to have been treated with pituitary hGH; however, the HHS does not have their names and addresses. The HHS hoped to learn about CJD and other health problems in the unmonitored group of 1,400 and notified many doctors about the problem of CJD, asking them to report CJD among people treated with pituitary hGH. The HHS has learned that five of the 29 people with confirmed CJD were among the 1,400 people the HHS was not able to identify and study. Some U.S. laboratories that made pituitary hGH for the NHPP also made hGH for use in other countries. The HHS learned that six people in New Zealand and two people in Brazil who received U.S.-made pituitary hGH may also have gotten CJD. A total of 37 people who were treated with pituitary hGH made in the United States may have gotten CJD. Before bGH was available, several pharmaceutical companies made pituitary hGH. Some children treated in the U.S. received hormone produced by these companies when NHPP hGH was not available to them. Some of the 29 people with confirmed CJD received hGH from both the NHPP and a pharmaceutical company. Recently, the HHS has learned of an individual treated in the U.S. who developed CJD and received only commercial pituitary hGH. That person was not eligible for NHPP hGH and received pituitary hGH made by two pharmaceutical companies.\\n<question>How to diagnose National Hormone and Pituitary Program (NHPP): Information for People Treated with Pituitary Human Growth Hormone (Comprehensive Report) ?<answer>CJD is usually diagnosed based on signs and symptoms of the illness, how severe they are, and how quickly they become worse. However, doctors must study brain tissue from a biopsy or autopsy in order to make a definite diagnosis of CJD. Other tests can suggest CJD. In 1996, researchers developed a test that helps doctors diagnose CJD in patients with symptoms. This test detects an abnormal protein in a sample of spinal fluid. When this protein is found, it helps make a diagnosis of CJD. It is much easier and safer to take a sample of spinal fluid than to do a brain biopsy. Unfortunately, this test cannot identify CJD in patients who do not have symptoms. The test cannot predict who may develop CJD in the future. Researchers from many countries, including the United States, have reported success using MRI to diagnose CJD and vCJD in people with symptoms of the disease. MRI is a safe and painless tool that allows doctors to look at images of the brain and does not involve the collection of brain or spinal fluid samples.\\n<question>What causes National Hormone and Pituitary Program (NHPP): Information for People Treated with Pituitary Human Growth Hormone (Comprehensive Report) ?<answer>We have not found any particular preparation of pituitary hGH that is especially likely to carry CJD. We believe that CJD did not come from a single infected pituitary gland or preparation. Prior to 1977, in an effort to extract as much hormone as possible from the pituitary glands, the glands were often processed repeatedly. Hormone extracted from the same pituitaries was often included in many hormone preparations. Also, patients who got CJD were treated on average for 8.4 years and received many different hormone preparations. This makes it very difficult to identify any preparation associated with transmitting CJD. Doctors wanted to see if a specific preparation of pituitary hGH could transmit CJD. To try to find the pituitary hGH that could have caused CJD, HHS researchers did two things: 1. They set up a test in animals, injecting samples of all available preparations of pituitary hGH directly into the brains of monkeys. CJD develops more rapidly if injected into the brain than under the skin, as hGH was used in people. The animals were watched for 10 years. The brains of all animals were examined for signs of CJD. If an animal got sick with CJD, it would help researchers to understand which vials of pituitary hGH were contaminated with the agent that causes CJD. 2. They studied people treated with pituitary hGH to see who got CJD and which hormone preparation they might have received based on which preparations were sent to their doctor. Results: - The animal tests did not help find the pituitary hGH that might have caused CJD. One animal developed the disease 5 years after injection of pituitary hGH. Two other animals that received injections from different vials of the same pituitary hGH preparation did not develop CJD. - None of the people who developed CJD are known to have received the hormone preparation that made the animal sick. At most, two patients (whose records are incomplete) may have received this pituitary hGH preparation. Because of this, we do not believe that the patients who received the hormone preparation that transmitted CJD to the animal have a greater risk of developing CJD than others treated with pituitary hGH. Because each preparation of pituitary hGH was used to fill multiple vials, it is not known if CJD contamination was spread evenly among all vials of pituitary hGH that came from a particular preparation. It\\'s possible that one vial got more contamination and another got little or none from the same preparation of pituitary hGH. It is believed that multiple preparations of pituitary hGH probably had very low levels of the CJD infectious agent. With such low levels of contamination, some vials of a preparation might carry CJD while other vials would not. Further, most of the people who got CJD received pituitary hGH for long periods of time and received many different preparations.\\n<question>How many people are affected by Polycystic Kidney Disease ?<answer>Estimates of PKDs prevalence range from one in 400 to one in 1,000 people.1 According to the United States Renal Data System, PKD accounts for 2.2 percent of new cases of kidney failure each year in the United States. Annually, eight people per 1 million have kidney failure as a result of PKD.2 Polycystic kidney disease exists around the world and in all races. The disorder occurs equally in women and men, although men are more likely to develop kidney failure from PKD. Women with PKD and high blood pressure who have had more than three pregnancies also have an increased chance of developing kidney failure.\\n<question>How to prevent Polycystic Kidney Disease ?<answer>Scientists have not yet found a way to prevent PKD. However, people with PKD may slow the progression of kidney damage caused by high blood pressure through lifestyle changes, diet, and blood pressure medications. People with PKD should be physically active 30 minutes a day most days of the week. See Eating, Diet, and Nutrition for diet advice on lowering blood pressure and slowing the progression of kidney disease in general. If lifestyle and diet changes do not control a persons blood pressure, a health care provider may prescribe one or more blood pressure medications, including ACE inhibitors or ARBs.\\n<question>What causes Polycystic Kidney Disease ?<answer>A gene mutation, or defect, causes polycystic kidney disease. Genes provide instructions for making proteins in the body. A gene mutation is a permanent change in the deoxyribonucleic acid (DNA) sequence that makes up a gene. In most cases of PKD, a person inherits the gene mutation, meaning a parent passes it on in his or her genes. In the remaining cases, the gene mutation develops spontaneously. In spontaneous cases, neither parent carries a copy of the mutated gene. Researchers have found three different gene mutations associated with PKD. Two of the genes are associated with autosomal dominant PKD. The third gene is associated with autosomal recessive PKD. Gene mutations that cause PKD affect proteins that play a role in kidney development. Genetic Disorders Each cell contains thousands of genes that provide the instructions for making proteins for growth and repair of the body. If a gene has a mutation, the protein made by that gene may not function properly, which sometimes creates a genetic disorder. Not all gene mutations cause a disorder. People inherit two copies of most genes; one copy from each parent. A genetic disorder occurs when one or both parents pass a mutated gene to a child at conception. A genetic disorder can also occur through a spontaneous gene mutation, meaning neither parent carries a copy of the mutated gene. Once a spontaneous gene mutation has occurred, a person can pass it to his or her children. Read more about genes and genetic conditions in the U.S. National Library of Medicines (NLMs) Genetics Home Reference.\\n<question>What to do for Polycystic Kidney Disease ?<answer>- Polycystic kidney disease (PKD) is a genetic disorder that causes numerous cysts to grow in the kidneys. - A gene mutation, or defect, causes polycystic kidney disease. - Autosomal dominant PKD is the most common form of PKD and the most common inherited disorder of the kidneys. - Health care providers identify most cases of autosomal dominant PKD between the ages of 30 and 50. - The most common symptoms of PKD are pain in the back and sidesbetween the ribs and hipsand headaches. The pain can be temporary or persistent, mild or severe. Hematuriablood in the urinemay also be a sign of autosomal dominant PKD. - The complications of autosomal dominant PKD include the following: - pain - high blood pressure - kidney failure - urinary tract infections (UTIs) - kidney stones - liver cysts - pancreatic cysts - abnormal heart valves - diverticula - brain aneurysms - A health care provider diagnoses autosomal dominant PKD using imaging tests and genetic testing. - A radiologista doctor who specializes in medical imagingwill interpret the images produced by the following imaging tests: - ultrasound - computerized tomography scans - magnetic resonance imaging - Genetic testing can show whether a persons cells carry a gene mutation that causes autosomal dominant PKD. A health care provider may also use genetic testing results to determine whether someone with a family history of PKD is likely to develop the disorder in the future. Prenatal testing can diagnose autosomal recessive PKD in unborn children. - Although a cure for autosomal dominant PKD is not currently available, treatment can ease symptoms and prolong life. - Autosomal recessive PKD is a rare genetic disorder that affects the liver as well as the kidneys. - The complications of autosomal recessive PKD include the following: - death due to breathing problems - kidney failure - liver scarring - high blood pressure - UTIs - A health care provider diagnoses autosomal recessive PKD with ultrasound imaging, even in a fetus or newborn. - Treatments for autosomal recessive PKD focus on the symptoms and complications. - Scientists have not yet found a way to prevent PKD. However, people with PKD may slow the progression of kidney damage caused by high blood pressure through lifestyle changes, diet, and blood pressure medications. - People with any kind of kidney disease, including PKD, should talk with a dietitian about foods they should add to their diet and foods that might be harmful.\\n<question>What are the complications of Knee Replacement ?<answer>While new technology and advances in surgical techniques have greatly reduced the risks involved with knee replacements, there are still some risks you should be aware of. Two of the most common possible problems are blood clots and infection. Preventing Blood Clots Blood clots can occur in the veins of your legs after knee replacement surgery. To reduce the risk of clots, your doctor may have you elevate your leg periodically and prescribe special exercises, support hose, or blood thinners. Preventing Infections Infection can occur when bacteria enter the bloodstream from skin or urinary tract infections. To reduce the risk of infection, your doctors may prescribe antibiotics for you to take prior to your surgery and for a short time afterward. Other Complications Other complications, such as new or ongoing pain, stiffness, fracture, bleeding, or injury to the blood vessels can occur. Serious medical complications, such as heart attack or stroke, are very rare. Warning Signs To Watch For To minimize the risk of complications, it is important to recognize signs of potential problems early and contact your doctor. For example, tenderness, redness, and swelling of your calf or swelling of your thigh, ankle, calf, or foot could be warning signs of a possible blood clot. Warning signs of infection include fever or chills, tenderness and swelling of the wound, and drainage from the wound. You should call your doctor if you experience any of these symptoms. It is important to get instructions from your doctor before leaving the hospital and follow them carefully once you get home. Doing so will give you the greatest chance of a successful surgery.\\n<question>What is the outlook for Knee Replacement ?<answer>Recovery from knee replacement extends long after you leave the hospital. Preparing for recovery requires learning what to expect in the days and weeks following surgery. It requires understanding what you will and wont be able to do and when. It also means arranging for social support and arranging your house to make everyday tasks easier and to help speed your recovery. Find Someone To Stay with You Because you will not be able to drive for several weeks after surgery, you will need someone to take you home from the hospital and be on hand to run errands or take you to appointments until you can drive yourself. If you live with someone, you should have them plan to stay home with you or at least stay close by, in case you need help. If you dont live with a family member or have one close by, a friend or neighbor may be able to help. Other options include staying in an extended-care facility during your recovery or hiring someone to come to your home and help you. Your hospital social worker should be able to help you make arrangements. Prepare Your Home for Your Recovery To prepare your home for your recovery, stock up on needed items before you leave for the hospital. Make sure you have plenty of non-perishable foods on hand. Prepare meals and freeze them to put in the microwave when you need an easy meal. In the first weeks after surgery, you should avoid going up and down stairs. If your bedroom is on the second floor of your home, consider moving to a downstairs bedroom temporarily or sleeping on the sofa. Set Up a Recovery Station Set up a recovery station at home. Place a sturdy chair where you plan to spend most of your time sitting during the first weeks after surgery. The chair should be 18 to 20 inches high and should have two arms and a firm seat and back. Place a foot stool in front of the chair so you can elevate your legs, and place items you will need such as the television remote control, telephone, medicine, and tissues where you can reach them easily from the chair. Place items you use every day at arms level to avoid reaching up or bending down. Ask your doctor or physical therapist about devices and tips that may make daily activities easier once you get home. Devices you may find helpful include long-handled reachers to retrieve items placed on high shelves or dropped on the floor, aprons with pockets that allow you to carry items while leaving your hands free for crutches, shower benches that let you sit while you shower, and dressing sticks to help you get dressed without bending your new knee excessively. Safeguard Against Falls Because a fall can damage your new knee, making your home a safe place is crucial. Before your surgery, look for and correct hazards, including cluttered floors, loose electrical cords, unsecured rugs, and dark hallways. Bathrooms are likely places to fall, so particular attention is needed there. A raised toilet seat can make it easier to get up and down. Grab bars in the tub can keep you steady. Textured shapes on the shower floor can minimize slipping. Gradually Increase Activity It is also important to exercise to get stronger while avoiding any activities that can damage or dislocate your new joint. Activity should include a graduated walking program (where you slowly increase the time, distance, and pace that you walk) and specific exercises several times a day to prevent scarring, restore movement, and stabilize and strengthen your new knee. Remember Follow-ups Your surgeon will let you know about follow-up visits. Even after you have healed from surgery, you will need to see your surgeon periodically for examinations and x-rays to detect any potential problems with your knee. By preparing for surgery and recovery and following your doctor\\'s advice, you can get the greatest benefits from your new knee with the least risk of complications for many years to come.\\n<question>Who is at risk for Knee Replacement? ?<answer>Because a fall can damage your new knee, making your home a safe place is crucial. Before your surgery, look for and correct hazards, including cluttered floors, loose electrical cords, unsecured rugs, and dark hallways. A raised toilet seat can make it easier to get up and down. Grab bars in the tub can keep you steady.\\n<question>What is (are) Knee Replacement ?<answer>The main reason to have knee replacement surgery is to ease pain and disability caused by arthritis or other joint problems, while preserving movement. Less commonly, it is used to correct some kinds of knee deformity.\\n<question>What is (are) Creating a Family Health History ?<answer>Talk to other family members. You can also obtain a death certificate from a state or county vital statistics office to confirm a late relative\\'s cause of death. Funeral homes and online obituaries may also have this information.\\n<question>What is (are) Creating a Family Health History ?<answer>In a genetic test, a small sample of blood, saliva, or tissue is taken to examine a person\\'s genes. Sometimes, genetic testing can detect diseases that may be preventable or treatable. This type of testing is available for thousands of conditions.\\n<question>How to diagnose Creating a Family Health History ?<answer>Finding out your test results can affect you emotionally. Learning that you are someone in your family has or is at risk for a disease can be scary. Some people can also feel guilty, angry, anxious, or depressed when they find out their results. Covering the costs of testing can also be a challenge. Genetic testing can cost anywhere from less than $100 to more than $2,000. Health insurance companies may cover part or all of the cost of testing. Genetic testing cannot tell you everything about inherited diseases. For example, a positive result does not always mean you will develop a disease, and it is hard to predict how severe symptoms may be. Geneticists and genetic counselors can talk more specifically about what a particular test will or will not tell you, and can help you decide whether to undergo testing. Many people are worried about discrimination based on their genetic test results. In 2008, Congress enacted the Genetic Information Nondiscrimination Act (GINA) to protect people from discrimination by their health insurance provider or employer. GINA does not apply to long-term care, disability, or life insurance providers. (For more information about genetic discrimination and GINA, see The Genetic Information Nondiscrimination Act of 2008.\\n<question>What is (are) Creating a Family Health History ?<answer>Here are important questions to ask your blood relatives. - What is your age or date of birth? - Do you have any chronic conditions, such as heart disease, diabetes, asthma, or high blood pressure? - Have you had any other serious illnesses, such as cancer or stroke? (If you know of any specific diseases or illnesses in your family, ask about them, too.) - How old were you when you developed these illnesses? - Have you or your partner had any problems with pregnancies or childbirth? What is your age or date of birth? Do you have any chronic conditions, such as heart disease, diabetes, asthma, or high blood pressure? Have you had any other serious illnesses, such as cancer or stroke? (If you know of any specific diseases or illnesses in your family, ask about them, too.) How old were you when you developed these illnesses? Have you or your partner had any problems with pregnancies or childbirth? Other questions to ask your blood relatives include - What countries did our family come from? (Knowing this can help because some heritable diseases occur more often in certain population groups. Also, different diets and living environments can influence the risks of developing certain diseases.) - Has anyone in the family had birth defects, learning problems, or developmental disabilities, such as Down\\'s syndrome? - What illnesses did our late parents or grandparents have? How old were they when they died? What caused their deaths? What countries did our family come from? (Knowing this can help because some heritable diseases occur more often in certain population groups. Also, different diets and living environments can influence the risks of developing certain diseases.) Has anyone in the family had birth defects, learning problems, or developmental disabilities, such as Down\\'s syndrome? What illnesses did our late parents or grandparents have? How old were they when they died? What caused their deaths?\\n<question>What to do for Prostate Enlargement: Benign Prostatic Hyperplasia ?<answer>Researchers have not found that eating, diet, and nutrition play a role in causing or preventing benign prostatic hyperplasia. However, a health care provider can give information about how changes in eating, diet, or nutrition could help with treatment. Men should talk with a health care provider or dietitian about what diet is right for them.\\n<question>What is (are) Prostate Enlargement: Benign Prostatic Hyperplasia ?<answer>The prostate is a walnut-shaped gland that is part of the male reproductive system. The main function of the prostate is to make a fluid that goes into semen. Prostate fluid is essential for a mans fertility. The gland surrounds the urethra at the neck of the bladder. The bladder neck is the area where the urethra joins the bladder. The bladder and urethra are parts of the lower urinary tract. The prostate has two or more lobes, or sections, enclosed by an outer layer of tissue, and it is in front of the rectum, just below the bladder. The urethra is the tube that carries urine from the bladder to the outside of the body. In men, the urethra also carries semen out through the penis.\\n<question>What are the treatments for Prostate Enlargement: Benign Prostatic Hyperplasia ?<answer>The complications of benign prostatic hyperplasia treatment depend on the type of treatment. Medications Medications used to treat benign prostatic hyperplasia may have side effects that sometimes can be serious. Men who are prescribed medications to treat benign prostatic hyperplasia should discuss possible side effects with a health care provider before taking the medications. Men who experience the following side effects should contact a health care provider right away or get emergency medical care: - hives - rash - itching - shortness of breath - rapid, pounding, or irregular heartbeat - painful erection of the penis that lasts for hours - swelling of the eyes, face, tongue, lips, throat, arms, hands, feet, ankles, or lower legs - difficulty breathing or swallowing - chest pain - dizziness or fainting when standing up suddenly - sudden decrease or loss of vision - blurred vision - sudden decrease or loss of hearing - chest pain, dizziness, or nausea during sexual activity These side effects are mostly related to phosphodiesterase-5 inhibitors. Side effects related to alpha blockers include - dizziness or fainting when standing up suddenly - decreased sexual drive - problems with ejaculation Minimally Invasive Procedures Complications after minimally invasive procedures may include - UTIs - painful urination - difficulty urinating - an urgent or a frequent need to urinate - urinary incontinence - blood in the urine for several days after the procedure - sexual dysfunction - chronic prostatitislong-lasting inflammation of the prostate - recurring problems such as urinary retention and UTIs Most of the complications of minimally invasive procedures go away within a few days or weeks. Minimally invasive procedures are less likely to have complications than surgery. Surgery Complications after surgery may include - problems urinating - urinary incontinence - bleeding and blood clots - infection - scar tissue - sexual dysfunction - recurring problems such as urinary retention and UTIs Problems urinating. Men may initially have painful urination or difficulty urinating. They may experience urinary frequency, urgency, or retention. These problems will gradually lessen and, after a couple of months, urination will be easier and less frequent. Urinary incontinence. As the bladder returns to normal, men may have some temporary problems controlling urination. However, long-term urinary incontinence rarely occurs. The longer urinary problems existed before surgery, the longer it takes for the bladder to regain its full function after surgery. Bleeding and blood clots. After benign prostatic hyperplasia surgery, the prostate or tissues around it may bleed. Blood or blood clots may appear in urine. Some bleeding is normal and should clear up within several days. However, men should contact a health care provider right away if - they experience pain or discomfort - their urine contains large clots - their urine is so red it is difficult to see through Blood clots from benign prostatic hyperplasia surgery can pass into the bloodstream and lodge in other parts of the bodymost often the legs. Men should contact a health care provider right away if they experience swelling or discomfort in their legs. Infection. Use of a Foley catheter after benign prostatic hyperplasia surgery may increase the risk of a UTI. Anesthesia during surgery may cause urinary retention and also increase the risk of a UTI. In addition, the incision site of an open prostatectomy may become infected. A health care provider will prescribe antibiotics to treat infections. Scar tissue. In the year after the original surgery, scar tissue sometimes forms and requires surgical treatment. Scar tissue may form in the urethra and cause it to narrow. A urologist can solve this problem during an office visit by stretching the urethra. Rarely, the opening of the bladder becomes scarred and shrinks, causing blockage. This problem may require a surgical procedure similar to TUIP. Sexual dysfunction. Some men may experience temporary problems with sexual function after benign prostatic hyperplasia surgery. The length of time for restored sexual function depends on the type of benign prostatic hyperplasia surgery performed and how long symptoms were present before surgery. Many men have found that concerns about sexual function can interfere with sex as much as the benign prostatic hyperplasia surgery itself. Understanding the surgical procedure and talking about concerns with a health care provider before surgery often help men regain sexual function earlier. Many men find it helpful to talk with a counselor during the adjustment period after surgery. Even though it can take a while for sexual function to fully return, with time, most men can enjoy sex again. Most health care providers agree that if men with benign prostatic hyperplasia were able to maintain an erection before surgery, they will probably be able to have erections afterward. Surgery rarely causes a loss of erectile function. However, benign prostatic hyperplasia surgery most often cannot restore function that was lost before the procedure. Some men find a slight difference in the quality of orgasm after surgery. However, most report no difference. Prostate surgery may make men sterile, or unable to father children, by causing retrograde ejaculationthe backward flow of semen into the bladder. Men flush the semen out of the bladder when they urinate. In some cases, medications such as pseudoephedrine, found in many cold medications, or imipramine can treat retrograde ejaculation. These medications improve muscle tone at the bladder neck and keep semen from entering the bladder. Recurring problems. Men may require further treatment if prostate problems, including benign prostatic hyperplasia, return. Problems may arise when treatments for benign prostatic hyperplasia leave a good part of the prostate intact. About 10 percent of men treated with TURP or TUIP require additional surgery within 5 years. About 2 percent of men who have an open prostatectomy require additional surgery within 5 years.2 In the years after benign prostatic hyperplasia surgery or treatment, men should continue having a digital rectal exam once a year and have any symptoms checked by a health care provider. In some cases, the health care provider may recommend a digital rectal exam and checkup more than once a year.\\n<question>How to prevent Prostate Enlargement: Benign Prostatic Hyperplasia ?<answer>Researchers have not found a way to prevent benign prostatic hyperplasia. Men with risk factors for benign prostatic hyperplasia should talk with a health care provider about any lower urinary tract symptoms and the need for regular prostate exams. Men can get early treatment and minimize benign prostatic hyperplasia effects by recognizing lower urinary tract symptoms and identifying an enlarged prostate.\\n<question>What are the treatments for Depression ?<answer>A bushy, wild-growing plant with yellow flowers, St John\\'s wort has been used for centuries in many folk and herbal remedies. It is commonly used in Europe to treat mild depression, and it is a top-seller in the United States as well. In a study funded by the National Institutes of Health, the herb was found to be no more effective than a placebo (sugar pill) in treating adults suffering from major depression. Other research has shown that St. John\\'s wort can interact unfavorably with other drugs. The herb interferes with certain drugs used to treat heart disease, depression, seizures, certain cancers, and organ transplant rejection. Because of these potential interactions, older adults should always consult with their doctors before taking any herbal supplement. Another product sold as a dietary supplement, S-adenosyl methionine (SAMe), has shown promise in controlled trials as helpful when added to an SSRI antidepressant that is only partially effective.\\n<question>What are the symptoms of Depression ?<answer>Symptoms of depression often vary depending upon the person. Common symptoms include - feeling nervous or emotionally empty - tiredness or a \"slowed down\" feeling - feeling guilty or worthless - restlessness and irritability - feeling like life is not worth living - sleep problems such as insomnia, oversleeping or wakefulness in the middle of the night - eating more or less than usual, usually with unplanned weight gain or loss - having persistent headaches, stomach-aches or other chronic pain that does not go away when treated - loss of interest in once pleasurable activities - frequent crying - difficulty focusing, remembering or making decisions - thoughts of death or suicide. feeling nervous or emotionally empty tiredness or a \"slowed down\" feeling feeling guilty or worthless restlessness and irritability feeling like life is not worth living sleep problems such as insomnia, oversleeping or wakefulness in the middle of the night eating more or less than usual, usually with unplanned weight gain or loss having persistent headaches, stomach-aches or other chronic pain that does not go away when treated loss of interest in once pleasurable activities frequent crying difficulty focusing, remembering or making decisions thoughts of death or suicide.\\n<question>What are the treatments for Depression ?<answer>Several studies are looking at ways to help older adults get better access to depression treatment. One is developing and testing an education and intervention program to help primary care clinics and providers identify and treat late-life depression. Another study found that depressed older adults who had a \"care manager\" monitor their symptoms, side effects, and progress got better more quickly -- and stayed better longer -- than those who did not have case-managed care. Still other projects are investigating ways of improving older adults engagement in and ability to follow treatment plans for depression. Researchers are also looking at ways to - better understand the relationship between other medical illnesses and depression - integrate treatment for depression with treatments for other medical conditions a person may have - produce a quicker response to treatment - develop new methods for delivering treatment to those who are homebound, unable to move around without assistance, or who live in rural areas. (e.g., via use of telephonic or internet-assisted therapies) - help prevent depression by keeping it from developing or recurring in those at risk or by preventing those with milder symptoms from progressing to more severe episodes of depression. better understand the relationship between other medical illnesses and depression integrate treatment for depression with treatments for other medical conditions a person may have produce a quicker response to treatment develop new methods for delivering treatment to those who are homebound, unable to move around without assistance, or who live in rural areas. (e.g., via use of telephonic or internet-assisted therapies) help prevent depression by keeping it from developing or recurring in those at risk or by preventing those with milder symptoms from progressing to more severe episodes of depression.\\n<question>What are the treatments for Depression ?<answer>Medications called antidepressants work to normalize brain chemicals called neurotransmitters, notably serotonin, norepinephrine, and dopamine. Scientists studying depression have found that these chemicals, and possibly others, are involved in regulating mood, but they are unsure of exactly how they work. Newer Antidepressants. The newest and most popular types of antidepressant medications are called selective serotonin reuptake inhibitors (SSRIs). They include fluoxetine (Prozac), citalopram (Celexa) and several others. Similar to SSRIs are serotonin and norepinephrine reuptake inhibitors (SNRIs) and include venlafaxine (Effexor) and duloxetine (Cymbalta). Another newer antidepressant bupropion (Wellbutrin) is neither an SSRI nor an SNRI but is popular as well. Older Antidepressants. Older antidepressants, called tricyclics and monoamine oxidase inhibitors (MAOIs), are still used sometimes, too. However, these older antidepressants are not as popular as the newer ones because they tend to have more side effects. However, medications affect everyone differently so talk with your doctor to decide which type is best for you. Practical Considerations. People taking MAOIs must follow strict food and medicine restrictions to avoid potentially serious interactions. If you take an MAOI, your doctor should give you a complete list of foods, medicines, and substances to avoid. MAOIs can also react with SSRIs to produce a serious condition called \"serotonin syndrome,\" which can cause confusion, hallucinations, increased sweating, muscle stiffness, seizures, changes in blood pressure or heart rhythm, and other potentially life threatening conditions. MAOIs should not be taken with SSRIs. Caution is required when combining any serotonergic medication (not just MAOIs) with SSRIs. For example, in 2006 the FDA issued specific warnings against using triptans that are commonly-prescribed to treat migraine headaches together with SSRIs or SNRIs. Using these medications together can cause serotonin syndrome.\\n<question>What causes Diabetic Neuropathies: The Nerve Damage of Diabetes ?<answer>The causes are probably different for different types of diabetic neuropathy. Researchers are studying how prolonged exposure to high blood glucose causes nerve damage. Nerve damage is likely due to a combination of factors: - metabolic factors, such as high blood glucose, long duration of diabetes, abnormal blood fat levels, and possibly low levels of insulin - neurovascular factors, leading to damage to the blood vessels that carry oxygen and nutrients to nerves - autoimmune factors that cause inflammation in nerves - mechanical injury to nerves, such as carpal tunnel syndrome - inherited traits that increase susceptibility to nerve disease - lifestyle factors, such as smoking or alcohol use\\n<question>How to diagnose Diabetic Neuropathies: The Nerve Damage of Diabetes ?<answer>Doctors diagnose neuropathy on the basis of symptoms and a physical exam. During the exam, the doctor may check blood pressure, heart rate, muscle strength, reflexes, and sensitivity to position changes, vibration, temperature, or light touch. Foot Exams Experts recommend that people with diabetes have a comprehensive foot exam each year to check for peripheral neuropathy. People diagnosed with peripheral neuropathy need more frequent foot exams. A comprehensive foot exam assesses the skin, muscles, bones, circulation, and sensation of the feet. The doctor may assess protective sensation or feeling in the feet by touching them with a nylon monofilamentsimilar to a bristle on a hairbrushattached to a wand or by pricking them with a pin. People who cannot sense pressure from a pinprick or monofilament have lost protective sensation and are at risk for developing foot sores that may not heal properly. The doctor may also check temperature perception or use a tuning fork, which is more sensitive than touch pressure, to assess vibration perception. Other Tests The doctor may perform other tests as part of the diagnosis. - Nerve conduction studies or electromyography are sometimes used to help determine the type and extent of nerve damage. Nerve conduction studies check the transmission of electrical current through a nerve. Electromyography shows how well muscles respond to electrical signals transmitted by nearby nerves. These tests are rarely needed to diagnose neuropathy. - A check of heart rate variability shows how the heart responds to deep breathing and to changes in blood pressure and posture. - Ultrasound uses sound waves to produce an image of internal organs. An ultrasound of the bladder and other parts of the urinary tract, for example, can be used to assess the structure of these organs and show whether the bladder empties completely after urination.\\n<question>What is (are) Diabetic Neuropathies: The Nerve Damage of Diabetes ?<answer>Diabetic neuropathy can be classified as peripheral, autonomic, proximal, or focal. Each affects different parts of the body in various ways. - Peripheral neuropathy, the most common type of diabetic neuropathy, causes pain or loss of feeling in the toes, feet, legs, hands, and arms. - Autonomic neuropathy causes changes in digestion, bowel and bladder function, sexual response, and perspiration. It can also affect the nerves that serve the heart and control blood pressure, as well as nerves in the lungs and eyes. Autonomic neuropathy can also cause hypoglycemia unawareness, a condition in which people no longer experience the warning symptoms of low blood glucose levels. - Proximal neuropathy causes pain in the thighs, hips, or buttocks and leads to weakness in the legs. - Focal neuropathy results in the sudden weakness of one nerve or a group of nerves, causing muscle weakness or pain. Any nerve in the body can be affected. Neuropathy Affects Nerves Throughout the Body Peripheral neuropathy affects - toes - feet - legs - hands - arms Autonomic neuropathy affects - heart and blood vessels - digestive system - urinary tract - sex organs - sweat glands - eyes - lungs Proximal neuropathy affects - thighs - hips - buttocks - legs Focal neuropathy affects - eyes - facial muscles - ears - pelvis and lower back - chest - abdomen - thighs - legs - feet\\n<question>What are the symptoms of Diabetic Neuropathies: The Nerve Damage of Diabetes ?<answer>Symptoms depend on the type of neuropathy and which nerves are affected. Some people with nerve damage have no symptoms at all. For others, the first symptom is often numbness, tingling, or pain in the feet. Symptoms are often minor at first, and because most nerve damage occurs over several years, mild cases may go unnoticed for a long time. Symptoms can involve the sensory, motor, and autonomicor involuntarynervous systems. In some people, mainly those with focal neuropathy, the onset of pain may be sudden and severe. Symptoms of nerve damage may include - numbness, tingling, or pain in the toes, feet, legs, hands, arms, and fingers - wasting of the muscles of the feet or hands - indigestion, nausea, or vomiting - diarrhea or constipation - dizziness or faintness due to a drop in blood pressure after standing or sitting up - problems with urination - erectile dysfunction in men or vaginal dryness in women - weakness Symptoms that are not due to neuropathy, but often accompany it, include weight loss and depression.\\n<question>How many people are affected by IgA Nephropathy ?<answer>IgA nephropathy is one of the most common kidney diseases, other than those caused by diabetes or high blood pressure.1 IgA nephropathy can occur at any age, although the first evidence of kidney disease most frequently appears when people are in their teens to late 30s.2 IgA nephropathy in the United States is twice as likely to appear in men than in women.3 While found in people all over the world, IgA nephropathy is more common among Asians and Caucasians.4 A person may be more likely to develop IgA nephropathy if - he or she has a family history of IgA nephropathy or Henoch-Schnlein purpuraa disease that causes small blood vessels in the body to become inflamed and leak - he is a male in his teens to late 30s - he or she is Asian or Caucasian\\n<question>What to do for IgA Nephropathy ?<answer>- Immunoglobulin A (IgA) nephropathy, also known as Bergers disease, is a kidney disease that occurs when IgA deposits build up in the kidneys, causing inflammation that damages kidney tissues. - Scientists think that IgA nephropathy is an autoimmune kidney disease, meaning that the disease is due to the bodys immune system attacking tissues in the kidney. - IgA nephropathy is one of the most common kidney diseases, other than those caused by diabetes or high blood pressure. - In its early stages, IgA nephropathy may have no symptoms; it can be silent for years or even decades. - Once symptoms appear, the most common one is hematuria, or blood in the urine. - Another symptom of IgA nephropathy is albuminuriawhen a persons urine contains an increased amount of albumin, a protein typically found in the blood, or large amounts of protein in the urine. - Currently, health care providers do not use blood or urine tests as reliable ways to diagnose IgA nephropathy; therefore, the diagnosis of IgA nephropathy requires a kidney biopsy. - Researchers have not yet found a specific cure for IgA nephropathy.\\n<question>What to do for IgA Nephropathy ?<answer>Researchers have not found that eating, diet, and nutrition play a role in causing or preventing IgA nephropathy. Health care providers may recommend that people with kidney disease, such as IgA nephropathy, make dietary changes such as - limiting dietary sodium, often from salt, to help reduce edema and lower blood pressure - decreasing liquid intake to help reduce edema and lower blood pressure - eating a diet low in saturated fat and cholesterol to help control high levels of lipids, or fats, in the blood Health care providers may also recommend that people with kidney disease eat moderate or reduced amounts of protein, although the benefit of reducing protein in a persons diet is still being researched. Proteins break down into waste products the kidneys must filter from the blood. Eating more protein than the body needs may burden the kidneys and cause kidney function to decline faster. However, protein intake that is too low may lead to malnutrition, a condition that occurs when the body does not get enough nutrients. People with kidney disease on a restricted protein diet should receive blood tests that can show nutrient levels. Some researchers have shown that fish oil supplements containing omega-3 fatty acids may slow kidney damage in some people with kidney disease by lowering blood pressure. Omega-3 fatty acids may help reduce inflammation and slow kidney damage due to IgA nephropathy. To help ensure coordinated and safe care, people should discuss their use of complementary and alternative medical practices, including their use of dietary supplements and probiotics, with their health care provider. Read more at www.nccam.nih.gov/health/supplements. People with IgA nephropathy should talk with a health care provider about dietary changes to best manage their individual needs.\\n<question>What causes IgA Nephropathy ?<answer>Scientists think that IgA nephropathy is an autoimmune kidney disease, meaning that the disease is due to the bodys immune system harming the kidneys. People with IgA nephropathy have an increased blood level of IgA that contains less of a special sugar, galactose, than normal. This galactose-deficient IgA is considered foreign by other antibodies circulating in the blood. As a result, these other antibodies attach to the galactose-deficient IgA and form a clump. This clump is also called an immune complex. Some of the clumps become stuck in the glomerulus of the nephron and cause inflammation and damage. For some people, IgA nephropathy runs in families. Scientists have recently found several genetic markers that may play a role in the development of the disease. IgA nephropathy may also be related to respiratory or intestinal infections and the immune systems response to these infections.\\n<question>How to diagnose GM1 gangliosidosis ?<answer>Is genetic testing available for GM1 gangliosidosis? Yes. A diagnosis of GM1 gangliosidosis (GM1), can be made by either enzyme analysis of the beta-galactosidase enzyme, or by molecular genetic testing of the GLB1 gene. Despite the availability of molecular genetic testing, the mainstay of diagnosis will likely continue to be enzyme activity because of cost and difficulty in interpreting unclear results. However, enzyme activity may not be predictive of carrier status in relatives of affected people. Carrier testing for at-risk family members is done with molecular genetic testing, and is possible if the disease-causing mutations in the family are already known. The Genetic Testing Registry (GTR) provides information about the labs that offer genetic testing for this condition. The intended audience for the GTR is health care providers and researchers. Therefore, patients and consumers with specific questions about a genetic test should contact a health care provider or a genetics professional.\\n<question>What causes GM1 gangliosidosis ?<answer>What causes GM1 gangliosidosis? All three types of GM1 gangliosidosis are caused by mutations (changes) in the GLB1 gene. This gene gives the body instructions to make an enzyme called beta-galactosidase (-galactosidase), which plays an important role in the brain. The enzyme resides in compartments within cells called lysosomes, where it helps break down certain molecules, including a substance called GM1 ganglioside. GM1 ganglioside is important for nerve cell function in the brain. Mutations in the GLB1 gene may lower or eliminate the activity of the -galactosidase enzyme, keeping GM1 ganglioside from being broken down. As a result, it accumulates to toxic levels in tissues and organs, particularly in the brain. This accumulation leads to the destruction of nerve cells, causing the features of the condition. In general, people with higher enzyme activity levels usually have milder features than those with lower activity levels.\\n<question>What are the treatments for GM1 gangliosidosis ?<answer>How might GM1 gangliosidosis be treated? There is currently no effective medical treatment for GM1 gangliosidosis. Symptomatic treatment for some of the neurologic signs and symptoms is available, but does not significantly alter the progression of the condition. For example, anticonvulsants may initially control seizures. Supportive treatments may include proper nutrition and hydration, and keeping the affected individual\\'s airway open. Bone marrow transplantation was reportedly successful in an individual with infantile/juvenile GM1 gangliosidosis; however, no long-term benefit was reported. Presymptomatic cord-blood hematopoietic stem-cell transplantation has been advocated by some as a possible treatment due to its success in other lysosomal storage disorders. Active research in the areas of enzyme replacement and gene therapy for the condition is ongoing but has not yet advanced to human trials. Neurologic and orthopedic sequelae may prevent adequate physical activity, but affected individuals may benefit from physical and occupational therapy.\\n<question>What are the treatments for GM1 gangliosidosis ?<answer>These resources address the diagnosis or management of GM1 gangliosidosis: - Genetic Testing Registry: Gangliosidosis GM1 type 3 - Genetic Testing Registry: Gangliosidosis generalized GM1 type 1 - Genetic Testing Registry: Infantile GM1 gangliosidosis - Genetic Testing Registry: Juvenile GM>1< gangliosidosis These resources from MedlinePlus offer information about the diagnosis and management of various health conditions: - Diagnostic Tests - Drug Therapy - Surgery and Rehabilitation - Genetic Counseling - Palliative Care\\n<question>What are the treatments for Greig cephalopolysyndactyly syndrome ?<answer>How might Greig cephalopolysyndactyly syndrome be treated? Treatment for Greig cephalopolysyndactyly syndrome (GCPS) is symptomatic. Treatment might include elective surgical repair of polydactyly. Evaluation and treatment of hydrocephalus might additionally occur if hydrocephalus is present. Hydrocephalus is a condition characterized by excessive accumulation of fluid in the brain. This fluid is cerebrospinal fluid (CSF) - a clear fluid that surrounds the brain and spinal cord. Excess CSF builds up when it cannot drain from the brain due to a blockage in a passage through which the fluid normally flows. This excess fluid causes an abnormal widening of spaces in the brain called ventricles; this can create harmful pressure on brain tissue. Treatment of hydrocephalus often includes surgical insertion of a shunt system-in which a catheters (tubes) are surgically placed behind both ears. A valve (fluid pump) is placed underneath the skin behind the ear and is connected to both catheters. When extra pressure builds up around the brain, the valve opens, and excess fluid drains through the catheter. This helps lower pressure within the skull (intracranial pressure).\\n<question>What are the genetic changes related to Greig cephalopolysyndactyly syndrome ?<answer>Mutations in the GLI3 gene cause Greig cephalopolysyndactyly syndrome. The GLI3 gene provides instructions for making a protein that controls gene expression, which is a process that regulates whether genes are turned on or off in particular cells. By interacting with certain genes at specific times during development, the GLI3 protein plays a role in the normal shaping (patterning) of many organs and tissues before birth. Different genetic changes involving the GLI3 gene can cause Greig cephalopolysyndactyly syndrome. In some cases, the condition results from a chromosomal abnormalitysuch as a large deletion or rearrangement of genetic materialin the region of chromosome 7 that contains the GLI3 gene. In other cases, a mutation in the GLI3 gene itself is responsible for the disorder. Each of these genetic changes prevents one copy of the gene in each cell from producing any functional protein. It remains unclear how a reduced amount of this protein disrupts early development and causes the characteristic features of Greig cephalopolysyndactyly syndrome.\\n<question>How to diagnose Greig cephalopolysyndactyly syndrome ?<answer>Is genetic testing available for Greig cephalopolysyndactyly syndrome? Yes. GLI3 is the only gene known to be associated with Greig cephalopolysyndactyly syndrome (GCPS). Genetic testing is available to analyze the GLI3 gene for mutations. Mutations involving GLI3 can be identified in greater than 75% of people with GCPS. How is Greig cephalopolysyndactyly syndrome diagnosed? Greig cephalopolysyndactyly syndrome (GCPS) is diagnosed based on clinical findings and family history. Major findings of GCPS include: an abnormally large head size (macrocephaly) greater than the 97th percentile widely spaced eyes (ocular hypertelorism) limb anomalies including extra fingers or toes (polydactyly) fused skin between the fingers and toes (cutaneous syndactyly) A diagnosis is established in a first degree relative of a known affected individual if that person has polydactyly with or without syndactyly or craniofacial features (macrocephaly, widely spaced eyes). A diagnosis is additionally established in a person who has features of GCPS and a mutation in the GLI3 gene.\\n<question>How many people are affected by Greig cephalopolysyndactyly syndrome ?<answer>This condition is very rare; its prevalence is unknown.\\n<question>What are the treatments for Opitz G/BBB syndrome ?<answer>These resources address the diagnosis or management of Opitz G/BBB syndrome: - Gene Review: Gene Review: 22q11.2 Deletion Syndrome - Gene Review: Gene Review: X-Linked Opitz G/BBB Syndrome - Genetic Testing Registry: Opitz G/BBB syndrome - Genetic Testing Registry: Opitz-Frias syndrome - MedlinePlus Encyclopedia: Hypospadias - MedlinePlus Encyclopedia: Imperforate Anus These resources from MedlinePlus offer information about the diagnosis and management of various health conditions: - Diagnostic Tests - Drug Therapy - Surgery and Rehabilitation - Genetic Counseling - Palliative Care\\n<question>What is (are) Opitz G/BBB syndrome ?<answer>Opitz G/BBB syndrome is a genetic condition that causes several abnormalities along the midline of the body. \"G/BBB\" represents the first letters of the last names of the families first diagnosed with this disorder and \"Opitz\" is the last name of the doctor who first described the signs and symptoms. There are two forms of Opitz G/BBB syndrome, X-linked Opitz G/BBB syndrome and autosomal dominant Opitz G/BBB syndrome. The two forms are distinguished by their genetic causes and patterns of inheritance. The signs and symptoms of the two forms are generally the same. Nearly everyone with Opitz G/BBB syndrome has wide-spaced eyes (ocular hypertelorism). Affected individuals commonly have defects of the voice box (larynx), windpipe (trachea), or esophagus. These throat abnormalities can cause difficulty swallowing or breathing, in some cases resulting in recurrent pneumonia or life-threatening breathing problems. A common defect is a gap between the trachea and esophagus (laryngeal cleft) that allows food or fluids to enter the airway. The cleft can vary in size, and infants may struggle to breathe when feeding. Most males with Opitz G/BBB syndrome have genital abnormalities such as the urethra opening on the underside of the penis (hypospadias), undescended testes (cryptorchidism), an underdeveloped scrotum, or a scrotum divided into two lobes (bifid scrotum). These genital abnormalities can lead to problems in the urinary tract. Mild intellectual disability and developmental delay occur in about 50 percent of people with Opitz G/BBB syndrome. Affected individuals have delayed motor skills, such as walking, speech delay, and learning difficulties. Some people with Opitz G/BBB syndrome have features of autistic spectrum disorders, which are characterized by impaired communication and socialization skills. About half of affected individuals also have an opening in the lip (cleft lip) with or without an opening in the roof of the mouth (cleft palate). Some have cleft palate without cleft lip. Less common features of Opitz G/BBB syndrome, affecting less than half of people with this disorder, include minor heart defects, an obstruction of the anal opening (imperforate anus), and brain defects such as a small or absent connection between the left and right halves of the brain (corpus callosum). Distinct facial features that may be seen in this disorder include a prominent forehead, widow\\'s peak hairline, flat nasal bridge, thin upper lip, and low-set ears. These features vary among affected individuals, even within the same family.\\n<question>What are the treatments for Opitz G/BBB syndrome ?<answer>How might Opitz G/BBB syndrome be treated? Because of the wide range of signs and symptoms that may be present in affected individuals, management of Opitz G/BBB syndrome typically incorporates a multidisciplinary team consisting of various specialists. Treatment for the condition may include surgery for significant abnormalities involving the larynx, trachea and/or esophagus; surgical intervention as needed for hypospadias, cleft lip and/or cleft palate, and imperforate anus; therapy for speech problems; surgical repair as needed for heart defects; neuropsychological support; and special education services.\\n<question>What are the genetic changes related to Opitz G/BBB syndrome ?<answer>X-linked Opitz G/BBB syndrome is caused by mutations in the MID1 gene. The MID1 gene provides instructions for making a protein called midline-1. This protein attaches (binds) to microtubules, which are rigid, hollow fibers that make up the cell\\'s structural framework (the cytoskeleton). Microtubules help cells maintain their shape, assist in the process of cell division, and are essential for the movement of cells (cell migration). Midline-1 assists in recycling certain proteins that need to be reused instead of broken down. MID1 gene mutations lead to a decrease in midline-1 function, which prevents protein recycling. The resulting accumulation of proteins impairs microtubule function, leading to problems with cell division and migration. It is unclear how these changes disrupt normal development and cause the signs and symptoms of Opitz G/BBB syndrome. Autosomal dominant Opitz G/BBB syndrome is caused by changes in chromosome 22. Some affected individuals have a deletion of a small piece of chromosome 22, specifically at an area of the chromosome designated 22q11.2. Because this same region is deleted in another condition called 22q11.2 deletion syndrome, researchers often consider Opitz/GBBB syndrome caused by this genetic change to be a form of 22q11.2 deletion syndrome. It is not known which of the deleted genes contribute to the signs and symptoms of Opitz G/BBB syndrome. In other people, autosomal dominant Opitz/GBBB syndrome is caused by a mutation in the SPECC1L gene, which is near the 22q11.2 region but is not in the area that is typically deleted in other individuals with autosomal dominant Opitz G/BBB syndrome or 22q11.2 deletion syndrome. The SPECC1L gene provides instructions for making a protein called cytospin-A. This protein interacts with components of the cytoskeleton and stabilizes microtubules, which is necessary for these fibers to regulate various cell processes including the movement of cells to their proper location (cell migration). Cytospin-A is particularly involved in the migration of cells that will form the facial features. Mutations in the SPECC1L gene result in the production of a protein with a decreased ability to interact with components of the cytoskeleton. As a result, microtubules are disorganized and cells have trouble migrating to their proper location. Because the SPECC1L gene plays a role in facial development, mutations in this gene likely account for the cleft lip and palate seen in some individuals with Opitz G/BBB syndrome, but it is unclear how SPECC1L gene mutations cause the other features of this disorder. Some people with Opitz G/BBB syndrome do not have any of the genetic changes described above. The cause of the condition in these individuals is unknown.\\n<question>Is Ehlers-Danlos syndrome inherited ?<answer>The inheritance pattern of Ehlers-Danlos syndrome varies by type. The arthrochalasia, classical, hypermobility, and vascular forms of the disorder have an autosomal dominant pattern of inheritance. Autosomal dominant inheritance means that one copy of the altered gene in each cell is sufficient to cause the disorder. In some cases, an affected person inherits the mutation from one affected parent. Other cases result from new (sporadic) gene mutations and occur in people with no history of the disorder in their family. The dermatosparaxis and kyphoscoliosis types of Ehlers-Danlos syndrome, as well as some of the rare, less well-characterized types of the disorder, are inherited in an autosomal recessive pattern. In autosomal recessive inheritance, two copies of the gene in each cell are altered. Most often, the parents of an individual with an autosomal recessive disorder are carriers of one copy of the altered gene but do not show signs and symptoms of the disorder.\\n<question>What is (are) Ehlers-Danlos syndrome ?<answer>Ehlers-Danlos syndrome (EDS) is a group of inherited connective tissue disorders that is caused by abnormalities in the structure, production, and/or processing of collagen. There are 6 major forms of EDS: hypermobility type, classic type, vascular type, kyphoscoliosis type, arthrochalasia type, and dermatosparaxis type. Although other forms of the condition exist, they are extremely rare and are not well-characterized. The signs and symptoms of EDS vary by type and range from mildly loose joints to life-threatening complications. Features shared by many types include joint hypermobility and soft, velvety skin that is highly elastic (stretchy) and bruises easily. Changes (mutations) in a variety of genes may lead to EDS; however, the underlying genetic cause in some families is unknown. Depending on the subtype, EDS may be inherited in an autosomal dominant or an autosomal recessive manner. There is no specific cure for EDS. The treatment and management is focused on preventing serious complications and relieving associated signs and symptoms.\\n<question>How many people are affected by Ehlers-Danlos syndrome ?<answer>Although it is difficult to estimate the overall frequency of Ehlers-Danlos syndrome, the combined prevalence of all types of this condition may be about 1 in 5,000 individuals worldwide. The hypermobility and classical forms are most common; the hypermobility type may affect as many as 1 in 10,000 to 15,000 people, while the classical type probably occurs in 1 in 20,000 to 40,000 people. Other forms of Ehlers-Danlos syndrome are very rare. About 30 cases of the arthrochalasia type and about 60 cases of the kyphoscoliosis type have been reported worldwide. About a dozen infants and children with the dermatosparaxis type have been described. The vascular type is also rare; estimates vary widely, but the condition may affect about 1 in 250,000 people.\\n<question>What are the genetic changes related to Ehlers-Danlos syndrome ?<answer>Mutations in more than a dozen genes have been found to cause Ehlers-Danlos syndrome. The classical type results most often from mutations in either the COL5A1 gene or the COL5A2 gene. Mutations in the TNXB gene have been found in a very small percentage of cases of the hypermobility type (although in most cases, the cause of this type is unknown). The vascular type results from mutations in the COL3A1 gene. PLOD1 gene mutations cause the kyphoscoliosis type. Mutations in the COL1A1 gene or the COL1A2 gene result in the arthrochalasia type. The dermatosparaxis type is caused by mutations in the ADAMTS2 gene. The other, less well-characterized forms of Ehlers-Danlos syndrome result from mutations in other genes, some of which have not been identified. Some of the genes associated with Ehlers-Danlos syndrome, including COL1A1, COL1A2, COL3A1, COL5A1, and COL5A2, provide instructions for making pieces of several different types of collagen. These pieces assemble to form mature collagen molecules that give structure and strength to connective tissues throughout the body. Other genes, including ADAMTS2, PLOD1, and TNXB, provide instructions for making proteins that process or interact with collagen. Mutations that cause the different forms of Ehlers-Danlos syndrome disrupt the production or processing of collagen, preventing these molecules from being assembled properly. These defects weaken connective tissues in the skin, bones, and other parts of the body, resulting in the characteristic features of this condition.\\n<question>Who is at risk for Vesicoureteral Reflux? ?<answer>Vesicoureteral reflux is more common in infants and young children, but older children and even adults can be affected. About 10 percent of children have VUR.1 Studies estimate that VUR occurs in about 32 percent of siblings of an affected child. This rate may be as low as 7 percent in older siblings and as high as 100 percent in identical twins. These findings indicate that VUR is an inherited condition.2\\n<question>What are the complications of Vesicoureteral Reflux ?<answer>When a child with VUR gets a UTI, bacteria can move into the kidney and lead to scarring. Scarring of the kidney can be associated with high blood pressure and kidney failure. However, most children with VUR who get a UTI recover without long-term complications.\\n<question>What to do for Vesicoureteral Reflux ?<answer>Eating, diet, and nutrition have not been shown to play a role in causing or preventing VUR.\\n<question>What is (are) Vesicoureteral Reflux ?<answer>Vesicoureteral reflux is the abnormal flow of urine from the bladder to the upper urinary tract. The urinary tract is the bodys drainage system for removing wastes and extra water. The urinary tract includes two kidneys, two ureters, a bladder, and a urethra. Blood flows through the kidneys, and the kidneys filter out wastes and extra water, making urine. The urine travels down two narrow tubes called the ureters. The urine is then stored in a balloonlike organ called the bladder. When the bladder empties, urine flows out of the body through a tube called the urethra at the bottom of the bladder. In VUR, urine may flow backrefluxinto one or both ureters and, in some cases, to one or both kidneys. VUR that affects only one ureter and kidney is called unilateral reflux, and VUR that affects both ureters and kidneys is called bilateral reflux.\\n<question>How many people are affected by Danon disease ?<answer>Danon disease is a rare condition, but the exact prevalence is unknown.\\n<question>Is Danon disease inherited ?<answer>How is Danon disease inherited? Dannon disease is inherited in an X-linked fashion. Click here to visit the Centre for Genetics Education Web site to learn more about X linked inheritance.\\n<question>What is (are) Danon disease ?<answer>Danon disease is a type of lysosomal storage disorder. Lysosomes are compartments within the cell that use enzymes to break down large molecules into smaller ones that the cell can use. In Danon disease there is a defect in the wall (membrane) of the lysosome. The defect is caused by mutations in the LAMP2 gene. Danon disease is chiefly characterized by cardiomyopathy (heart disease), although other signs and symptoms may occur as well. Danon disease is inherited in an X-linked fashion, as a result males tend to be more severely affected than females. Females who carry the LAMP2 gene mutation may or may not develop signs and symptoms.\\n<question>What are the genetic changes related to Danon disease ?<answer>Danon disease is caused by mutations in the LAMP2 gene. The LAMP2 gene provides instructions for making a protein called lysosomal associated membrane protein-2 (LAMP-2), which, as its name suggests, is found in the membrane of cellular structures called lysosomes. Lysosomes are compartments in the cell that digest and recycle materials. The role the LAMP-2 protein plays in the lysosome is unclear. Some researchers think the LAMP-2 protein may help transport cellular materials or digestive enzymes into the lysosome. The transport of cellular materials into lysosomes requires the formation of cellular structures called autophagic vacuoles (or autophagosomes), which then attach (fuse) to lysosomes. The LAMP-2 protein may be involved in the fusion between autophagic vacuoles and lysosomes. Mutations in the LAMP2 gene lead to the production of very little or no LAMP-2 protein, which may impair the process of transporting cellular material into the lysosome. Some studies have shown that in cells without the LAMP-2 protein, fusion between autophagic vacuoles and lysosomes occurs more slowly, which may lead to the accumulation of autophagic vacuoles. People with Danon disease have an abnormally large number of autophagic vacuoles in their muscle cells. It is possible that this accumulation leads to breakdown of the muscle cells, causing the muscle weakness seen in Danon disease.\\n<question>What causes Alagille Syndrome ?<answer>Alagille syndrome is caused by a gene mutation, or defect. Genes provide instructions for making proteins in the body. A gene mutation is a permanent change in the DNA sequence that makes up a gene. DNA, or deoxyribonucleic acid, is the material inside cells that carries genetic information and passes genes from parent to child. Approximately 30 to 50 percent of people with Alagille syndrome have an inherited gene mutation, meaning it has been passed on by a parent. In the remaining cases, the gene mutation develops spontaneously.1 In spontaneous cases, neither parent carries a copy of the mutated gene. Most cases of Alagille syndrome are caused by a mutation in the JAGGED1 (JAG1) gene. In less than 1 percent of cases, a mutation in the NOTCH2 gene is the cause.2 Genetic Disorders Each cell contains thousands of genes that provide the instructions for making proteins for growth and repair of the body. If a gene has a mutation, the protein made by that gene may not function properly, which sometimes creates a genetic disorder. Not all gene mutations cause a disorder. People have two copies of most genes; one copy is inherited from each parent. A genetic disorder occurs when one or both parents pass a mutated gene to a child at conception. A genetic disorder can also occur through a spontaneous gene mutation, meaning neither parent carries a copy of the mutated gene. Once a spontaneous gene mutation has occurred in a person, it can be passed to the person\\'s children. Read more about genes and genetic conditions at the U.S. National Library of Medicine\\'s (NLM\\'s) Genetics Home Reference at www.ghr.nlm.nih.gov.\\n<question>What is (are) Alagille Syndrome ?<answer>Alagille syndrome is a genetic condition that results in various symptoms in different parts of the body, including the liver. A person with Alagille syndrome has fewer than the normal number of small bile ducts inside the liver. The liver is the organ in the abdomenthe area between the chest and hipsthat makes blood proteins and bile, stores energy and nutrients, fights infection, and removes harmful chemicals from the blood. Bile ducts are tubes that carry bile from the liver cells to the gallbladder for storage and to the small intestine for use in digestion. Bile is fluid made by the liver that carries toxins and waste products out of the body and helps the body digest fats and the fat-soluble vitamins A, D, E, and K. In people with Alagille syndrome, the decreased number of bile ducts causes bile to build up in the liver, a condition also called cholestasis, leading to liver damage and liver disease.\\n<question>What is (are) Alagille Syndrome ?<answer>The digestive system is made up of the gastrointestinal (GI) tractalso called the digestive tractand the liver, pancreas, and gallbladder. The GI tract is a series of hollow organs joined in a long, twisting tube from the mouth to the anus. The hollow organs that make up the GI tract are the mouth, esophagus, stomach, small intestine, large intestinewhich includes the colon and rectumand anus. Food enters the mouth and passes to the anus through the hollow organs of the digestive system. The liver, pancreas, and gallbladder are the solid organs of the digestive system. The digestive system helps the body digest food.\\n<question>How many people are affected by Alagille Syndrome ?<answer>Alagille syndrome occurs in about one of every 30,000 live births.3 The disorder affects both sexes equally and shows no geographical, racial, or ethnic preferences. JAG1 and NOTCH2 gene mutations are inherited in an autosomal dominant way, which means a child can get Alagille syndrome by inheriting either of the gene mutations from only one parent. Each child of a parent with an autosomal dominant mutation has a 50 percent chance of inheriting the mutated gene. The following chart shows the chance of inheriting an autosomal dominant gene mutation: The gene mutations that cause Alagille syndrome may cause mild or subtle symptoms. Some people may not know they are affected, while others with the gene mutation may develop more serious characteristics of Alagille syndrome. A person with a gene mutation, whether showing serious symptoms or not, has Alagille syndrome and can pass the gene mutation to a child. Read more about how genetic conditions are inherited at the NLM\\'s Genetics Home Reference website at www.ghr.nlm.nih.gov.\\n<question>Is Cornelia de Lange syndrome inherited ?<answer>Is Cornelia de Lange syndrome inherited? Cornelia de Lange syndrome (CdLS) can be inherited in an autosomal dominant (NIPBL, SMC2, or RAD21) or X-linked (SMC1A or HDAC8) manner depending on the underlying genetic cause. However, most cases (more than 99%) result from new (de novo) mutations and occur in people with no family history of the condition.\\n<question>How to diagnose Cornelia de Lange syndrome ?<answer>How is Cornelia de Lange syndrome diagnosed? A diagnosis of Cornelia de Lange syndrome (CdLS) is generally based on the presence of characteristic signs and symptoms during a thorough medical evaluation. In some cases, genetic testing can be ordered to confirm the diagnosis; however, it may not be informative in all people affected by CdLS as the underlying genetic cause is unknown in approximately 30% of cases. GeneReviews\\' Web site offers more specific information about the treatment and management of CdLS. Please click on the link to access this resource.\\n<question>What is (are) Cornelia de Lange syndrome ?<answer>Cornelia de Lange syndrome (CdLS) is a developmental disorder that affects many parts of the body. The severity of the condition and the associated signs and symptoms can vary widely, but may include distinctive facial characteristics, growth delays, intellectual disability and limb defects. Approximately 65% of people affected by CdLS have a change (mutation) in the NIPBL gene. Another 5% of cases are caused by mutations in one of four known genes: SMC1A, SMC3, HDAC8 and RAD21. In the remaining 30% of cases, the underlying genetic cause of the condition is unknown. CdLS can be inherited in an autosomal dominant (NIPBL, SMC2, or RAD21) or X-linked (SMC1A or HDAC8) manner. However, most cases result from new (de novo) mutations and occur in people with no family history of the condition. Treatment is based on the signs and symptoms present in each person.\\n<question>What are the genetic changes related to Cornelia de Lange syndrome ?<answer>Cornelia de Lange syndrome can result from mutations in at least five genes: NIPBL, SMC1A, HDAC8, RAD21, and SMC3. Mutations in the NIPBL gene have been identified in more than half of all people with this condition; mutations in the other genes are much less common. The proteins produced from all five genes contribute to the structure or function of the cohesin complex, a group of proteins with an important role in directing development before birth. Within cells, the cohesin complex helps regulate the structure and organization of chromosomes, stabilize cells\\' genetic information, and repair damaged DNA. The cohesin complex also regulates the activity of certain genes that guide the development of limbs, face, and other parts of the body. Mutations in the NIPBL, SMC1A, HDAC8, RAD21, and SMC3 genes cause Cornelia de Lange syndrome by impairing the function of the cohesin complex, which disrupts gene regulation during critical stages of early development. The features of Cornelia de Lange syndrome vary widely, and the severity of the disorder can differ even in individuals with the same gene mutation. Researchers suspect that additional genetic or environmental factors may be important for determining the specific signs and symptoms in each individual. In general, SMC1A, RAD21, and SMC3 gene mutations cause milder signs and symptoms than NIPBL gene mutations. Mutations in the HDAC8 gene cause a somewhat different set of features, including delayed closure of the \"soft spot\" on the head (the anterior fontanelle) in infancy, widely spaced eyes, and dental abnormalities. Like affected individuals with NIPBL gene mutations, those with HDAC8 gene mutations may have significant intellectual disability. In about 30 percent of cases, the cause of Cornelia de Lange syndrome is unknown. Researchers are looking for additional changes in the five known genes, as well as mutations in other genes, that may cause this condition.\\n<question>What are the treatments for Cowden syndrome ?<answer>How might Cowden syndrome be treated? Because Cowden syndrome is associated with an increased risk for certain types of cancer, management is typically focused on high-risk cancer screening. According to the National Comprehensive Cancer Network 2014, the recommended screening protocol for Cowden syndrome includes: Cancer Screening for Women Breast self exams beginning at age 18 Clinical breast exams every 6-12 months beginning at age 25** Annual mammogram and breast MRI beginning at age 30-35** Annual screening for endometrial cancer with ultrasound and/or random biopsy may be considered beginning at age 30-35 Prophylactic surgeries may be considered as a preventative option for some forms of cancer Cancer Screening for Men and Women Annual physical examination beginning at age 18** Annual thyroid ultrasound beginning at age 18** Baseline colonoscopy at age 35 with follow-up every 5 years (more frequent if polyps identified) Consider renal (kidney) ultrasound every 1-2 years beginning at age 40 **or individualized based on the earliest diagnosis of cancer in the family GeneReviews offers more specific information on the treatment and management of Cowden syndrome. To access this resource, please click here.\\n<question>What causes Cowden syndrome ?<answer>What causes Cowden syndrome? Most cases of Cowden syndrome are caused by changes (mutations) in the PTEN gene. PTEN is a tumor suppressor gene which means that it encodes a protein that helps keep cells from growing and dividing too rapidly or in an uncontrolled way. Mutations in PTEN result in a defective protein that is unable to carry out its normal role. This leads to the development of the various tumors and cancers associated with Cowden syndrome. Rarely, Cowden syndrome is caused by mutations in KLLN, SDHB, SDHC, SDHD, PIK3CA or AKT1. Some affected families have no identifiable mutation in any of the genes associated with Cowden syndrome; in these families, the exact underlying cause is unknown.\\n<question>Is Cowden syndrome inherited ?<answer>How is Cowden syndrome inherited? Cowden syndrome is inherited in an autosomal dominant manner. This means that to be affected, a person only needs a change (mutation) in one copy of the responsible gene in each cell. In some cases, an affected person inherits the mutation from an affected parent. Other cases may result from new (de novo) mutations in the gene. These cases occur in people with no history of the disorder in their family. A person with Cowden syndrome has a 50% chance with each pregnancy of passing along the altered gene to his or her child.\\n<question>What are the genetic changes related to Cowden syndrome ?<answer>Changes involving at least four genes, PTEN, SDHB, SDHD, and KLLN, have been identified in people with Cowden syndrome or Cowden-like syndrome. Most cases of Cowden syndrome and a small percentage of cases of Cowden-like syndrome result from mutations in the PTEN gene. The protein produced from the PTEN gene is a tumor suppressor, which means that it normally prevents cells from growing and dividing (proliferating) too rapidly or in an uncontrolled way. Mutations in the PTEN gene prevent the protein from regulating cell proliferation effectively, leading to uncontrolled cell division and the formation of hamartomas and cancerous tumors. The PTEN gene likely has other important functions within cells; however, it is unclear how mutations in this gene cause the other features of Cowden syndrome, such as macrocephaly and intellectual disability. Other cases of Cowden syndrome and Cowden-like syndrome result from changes involving the KLLN gene. This gene provides instructions for making a protein called killin. Like the protein produced from the PTEN gene, killin probably acts as a tumor suppressor. The genetic change that causes Cowden syndrome and Cowden-like syndrome is known as promoter hypermethylation. The promoter is a region of DNA near the gene that controls gene activity (expression). Hypermethylation occurs when too many small molecules called methyl groups are attached to the promoter region. The extra methyl groups reduce the expression of the KLLN gene, which means that less killin is produced. A reduced amount of killin may allow abnormal cells to survive and proliferate inappropriately, which can lead to the formation of tumors. A small percentage of people with Cowden syndrome or Cowden-like syndrome have variations in the SDHB or SDHD gene. These genes provide instructions for making parts of an enzyme called succinate dehydrogenase (SDH), which is important for energy production in the cell. This enzyme also plays a role in signaling pathways that regulate cell survival and proliferation. Variations in the SDHB or SDHD gene alter the function of the SDH enzyme. Studies suggest that the defective enzyme may allow cells to grow and divide unchecked, leading to the formation of hamartomas and cancerous tumors. However, researchers are uncertain whether the identified SDHB and SDHD gene variants are directly associated with Cowden syndrome and Cowden-like syndrome. Some of the variants described above have also been identified in people without the features of these conditions. When Cowden syndrome and Cowden-like syndrome are not related to changes in the PTEN, SDHB, SDHD, or KLLN genes, the cause of the conditions is unknown.\\n<question>What is (are) Huntington disease ?<answer>Huntington disease is a progressive brain disorder that causes uncontrolled movements, emotional problems, and loss of thinking ability (cognition). Adult-onset Huntington disease, the most common form of this disorder, usually appears in a person\\'s thirties or forties. Early signs and symptoms can include irritability, depression, small involuntary movements, poor coordination, and trouble learning new information or making decisions. Many people with Huntington disease develop involuntary jerking or twitching movements known as chorea. As the disease progresses, these movements become more pronounced. Affected individuals may have trouble walking, speaking, and swallowing. People with this disorder also experience changes in personality and a decline in thinking and reasoning abilities. Individuals with the adult-onset form of Huntington disease usually live about 15 to 20 years after signs and symptoms begin. A less common form of Huntington disease known as the juvenile form begins in childhood or adolescence. It also involves movement problems and mental and emotional changes. Additional signs of the juvenile form include slow movements, clumsiness, frequent falling, rigidity, slurred speech, and drooling. School performance declines as thinking and reasoning abilities become impaired. Seizures occur in 30 percent to 50 percent of children with this condition. Juvenile Huntington disease tends to progress more quickly than the adult-onset form; affected individuals usually live 10 to 15 years after signs and symptoms appear.\\n<question>What are the treatments for Huntington disease ?<answer>These resources address the diagnosis or management of Huntington disease: - Gene Review: Gene Review: Huntington Disease - Genetic Testing Registry: Huntington\\'s chorea - Huntington\\'s Disease Society of America: HD Care - MedlinePlus Encyclopedia: Huntington Disease - University of Washington Medical Center: Testing for Huntington Disease: Making an Informed Choice These resources from MedlinePlus offer information about the diagnosis and management of various health conditions: - Diagnostic Tests - Drug Therapy - Surgery and Rehabilitation - Genetic Counseling - Palliative Care\\n<question>What are the symptoms of Huntington disease ?<answer>What are the signs and symptoms of Huntington disease? Huntington disease (HD) is a progressive disorder that causes motor, cognitive, and psychiatric signs and symptoms. On average, most people begin developing features of HD between ages 35 and 44. Signs and symptoms vary by stage and may include: Early stage: Behavioral disturbances Clumsiness Moodiness Irritability Paranoia Apathy Anxiety Hallucinations Abnormal eye movements Depression Impaired ability to detect odors Middle stage: Dystonia Involuntary movements Trouble with balance and walking Chorea with twisting and writhing motions Unsteady gait (style of walking) Slow reaction time General weakness Weight loss Speech difficulties Stubbornness Late stage: Rigidity (continual tension of the muscles) Bradykinesia (difficulty initiating and continuing movements) Severe chorea Serious weight loss Inability to speak Inability to walk Swallowing problems Inability to care for oneself There is also a less common, early-onset form of HD which begins in childhood or adolescence. For more information on this form, please visit GARD\\'s juvenile Huntington disease Web page. The Human Phenotype Ontology provides the following list of signs and symptoms for Huntington disease. If the information is available, the table below includes how often the symptom is seen in people with this condition. You can use the MedlinePlus Medical Dictionary to look up the definitions for these medical terms. Signs and Symptoms Approximate number of patients (when available) Abnormality of movement 50% Abnormality of the voice 50% Behavioral abnormality 50% Cerebral cortical atrophy 50% Developmental regression 50% EEG abnormality 50% Hypertonia 50% Rigidity 7.5% Abnormality of eye movement - Autosomal dominant inheritance - Bradykinesia - Chorea - Dementia - Depression - Gliosis - Hyperreflexia - Neuronal loss in central nervous system - Personality changes - The Human Phenotype Ontology (HPO) has collected information on how often a sign or symptom occurs in a condition. Much of this information comes from Orphanet, a European rare disease database. The frequency of a sign or symptom is usually listed as a rough estimate of the percentage of patients who have that feature. The frequency may also be listed as a fraction. The first number of the fraction is how many people had the symptom, and the second number is the total number of people who were examined in one study. For example, a frequency of 25/25 means that in a study of 25 people all patients were found to have that symptom. Because these frequencies are based on a specific study, the fractions may be different if another group of patients are examined. Sometimes, no information on frequency is available. In these cases, the sign or symptom may be rare or common.\\n<question>Is Huntington disease inherited ?<answer>This condition is inherited in an autosomal dominant pattern, which means one copy of the altered gene in each cell is sufficient to cause the disorder. An affected person usually inherits the altered gene from one affected parent. In rare cases, an individual with Huntington disease does not have a parent with the disorder. As the altered HTT gene is passed from one generation to the next, the size of the CAG trinucleotide repeat often increases in size. A larger number of repeats is usually associated with an earlier onset of signs and symptoms. This phenomenon is called anticipation. People with the adult-onset form of Huntington disease typically have 40 to 50 CAG repeats in the HTT gene, while people with the juvenile form of the disorder tend to have more than 60 CAG repeats. Individuals who have 27 to 35 CAG repeats in the HTT gene do not develop Huntington disease, but they are at risk of having children who will develop the disorder. As the gene is passed from parent to child, the size of the CAG trinucleotide repeat may lengthen into the range associated with Huntington disease (36 repeats or more).\\n<question>How to prevent Medullary Sponge Kidney ?<answer>Health care providers may prescribe certain medications to prevent UTIs and kidney stones: - A person with medullary sponge kidney may need to continue taking a low-dose antibiotic to prevent recurrent infections. - Medications that reduce calcium in the urine may help prevent calcium kidney stones. These medications may include - potassium citrate - thiazide\\n<question>What are the complications of Medullary Sponge Kidney ?<answer>Complications of medullary sponge kidney include - hematuria, or blood in the urine - kidney stones - urinary tract infections (UTIs) Medullary sponge kidney rarely leads to more serious problems, such as chronic kidney disease or kidney failure.\\n<question>What are the treatments for Medullary Sponge Kidney ?<answer>Scientists have not discovered a way to reverse medullary sponge kidney. Once a health care provider is sure a person has medullary sponge kidney, treatment focuses on - curing an existing UTI - removing any kidney stones Curing an Existing Urinary Tract Infection To treat a UTI, the health care provider may prescribe a medication called an antibiotic that kills bacteria. The choice of medication and length of treatment depend on the persons medical history and the type of bacteria causing the infection. More information is provided in the NIDDK health topic, Urinary Tract Infections in Adults. Removing Kidney Stones Treatment for kidney stones usually depends on their size and what they are made of, as well as whether they are causing pain or obstructing the urinary tract. Kidney stones may be treated by a general practitioner or by a urologista doctor who specializes in the urinary tract. Small stones usually pass through the urinary tract without treatment. Still, the person may need pain medication and should drink lots of liquids to help move the stone along. Pain control may consist of oral or intravenous (IV) medication, depending on the duration and severity of the pain. People may need IV fluids if they become dehydrated from vomiting or an inability to drink. A person with a larger stone, or one that blocks urine flow and causes great pain, may need more urgent treatment, such as - shock wave lithotripsy. A machine called a lithotripter is used to break up the kidney stone into smaller pieces to pass more easily through the urinary tract. The patient may need local or general anesthesia. - ureteroscopy. A ureteroscopea long, tubelike instrument with an eyepieceis used to find and retrieve the stone with a small basket or to break the stone up with laser energy. Local or general anesthesia may be required. - percutaneous nephrolithotomy. In this procedure, a wire-thin viewing instrument, called a nephroscope, is used to locate and remove the stones. During the procedure, which requires general anesthesia, a tube is inserted directly into the kidney through a small incision in the patients back. More information is provided in the NIDDK health topic, Kidney Stones in Adults.\\n<question>What are the symptoms of Medullary Sponge Kidney ?<answer>Many people with medullary sponge kidney have no symptoms. The first sign that a person has medullary sponge kidney is usually a UTI or a kidney stone. UTIs and kidney stones share many of the same signs and symptoms: - burning or painful urination - pain in the back, lower abdomen, or groin - cloudy, dark, or bloody urine - foul-smelling urine - fever and chills - vomiting People who experience these symptoms should see or call a health care provider as soon as possible.\\n<question>What is (are) Nutrition for Advanced Chronic Kidney Disease in Adults ?<answer>As CKD progresses, people often lose their appetites because they find that foods do not taste the same. As a result, they consume fewer caloriesimportant units of energy in foodand may lose too much weight. Renal dietitians can help people with advanced CKD find healthy ways to add calories to their diet if they are losing too much weight. Top\\n<question>What is (are) Nutrition for Advanced Chronic Kidney Disease in Adults ?<answer>Everyone should know about fat sources because eating the wrong kinds of fat and too much fat increases the risk of clogged blood vessels and heart problems. Fat provides energy, helps produce hormonelike substances that regulate blood pressure and other heart functions, and carries fat-soluble vitamins. Everyone needs dietary fat, but some fats are healthier than others. People with CKD are at higher risk of having a heart attack or stroke. Therefore, people with CKD should be especially careful about how dietary fat affects their heart health. People with advanced CKD should talk with a dietitian about healthy and unhealthy sources of fat. Saturated fats and trans-fatty acids can raise blood cholesterol levels and clog blood vessels. Saturated fats are found in animal products such as red meat, poultry, whole milk, and butter. These fats are usually solid at room temperature. Trans-fatty acids are often found in commercially baked goods such as cookies and cakes and in fried foods like doughnuts and french fries. A dietitian can suggest healthy ways to include fat in the diet, especially if more calories are needed. Vegetable oils such as corn or safflower oil are healthier than animal fats such as butter or lard. Hydrogenated vegetable oils should be avoided because they are high in trans-fatty acids. Monounsaturated fatsolive, peanut, and canola oilsare healthy alternatives to animal fats. The table below shows the sources of fats, broken down into three types of fats that should be eaten less often and good fats that can be eaten more often. Sources of Fats Eat Less Often Eat More Often Saturated fats - red meat - poultry - whole milk - butter - lard Monounsaturated fats - corn oil - safflower oil - olive oil - peanut oil - canola oil Trans-fatty acids - commercial baked goods - french fries - doughnuts Hydrogenated vegetable oils - margarine - shortening\\n<question>What is (are) Nutrition for Advanced Chronic Kidney Disease in Adults ?<answer>Keeping the proper level of potassium in the blood is essential. Potassium keeps the heart beating regularly and muscles working right. Problems can occur when blood potassium levels are either too low or too high. Damaged kidneys allow potassium to build up in the blood, causing serious heart problems. Potassium is found in many fruits and vegetables, such as bananas, potatoes, avocados, and melons. People with advanced CKD may need to avoid some fruits and vegetables. Blood tests can indicate when potassium levels have climbed above normal range. A renal dietitian can help people with advanced CKD find ways to limit the amount of potassium they eat. The potassium content of potatoes and other vegetables can be reduced by boiling them in water. The following table gives examples of some high-potassium foods and suggestions for low-potassium alternatives for people with advanced CKD. High- and Low-potassium Foods High-potassium Foods Low-potassium Alternatives Oranges and orange juice Melons Apricots Bananas Potatoes Tomatoes Sweet potatoes Cooked spinach Cooked broccoli Beans (baked, kidney, lima, pinto) Apples and apple juice Cranberries and cranberry juice Canned pears Strawberries, blueberries, raspberries Plums Pineapple Cabbage Boiled Cauliflower\\n<question>What to do for Nutrition for Advanced Chronic Kidney Disease in Adults ?<answer>- A person may prevent or delay some health problems from chronic kidney disease (CKD) by eating the right foods and avoiding foods high in sodium, potassium, and phosphorus. - The kidneys remove wastes and extra water from the blood and make urine. - Medical nutrition therapy (MNT) is the use of counseling by a registered dietitian to help promote a medical or health goal. - Dietitians who specialize in helping people with CKD are called renal dietitians. - People with advanced CKD often lose their appetites and consume fewer caloriesimportant units of energy in foodand may lose too much weight. - Eating more protein than the body needs may put an extra burden on the kidneys and cause kidney function to decline faster. Most peoplewith or without CKDcan get the daily protein they need by eating two 3-ounce servings of meat or meat substitute. - People with CKD are at higher risk of having a heart attack or stroke. - Everyone needs dietary fat, but some fats are healthier than others. - Too much sodium in a persons diet can be harmful because it causes blood to hold fluid. People with CKD need to be careful not to let too much fluid build up in their bodies. - People with advanced CKD should avoid salt substitutes that use potassium because CKD limits the bodys ability to eliminate potassium from the blood. - Damaged kidneys allow potassium to build up in the blood, causing serious heart problems. Potassium is found in many fruits and vegetables, such as bananas, potatoes, avocados, and melons. - Too much phosphorus in the blood pulls calcium from the bones, making the bones weak and likely to break. - People with advanced CKD may need to limit how much they drink because damaged kidneys can\\'t remove extra fluid. - Many patients find that keeping track of their test results helps them see how their treatment is working. Patients can ask their health care provider for copies of their lab reports and ask to have them explained, noting any results out of the normal range.\\n<question>What causes MECP2 duplication syndrome ?<answer>What causes MECP2 duplication syndrome? MECP2 duplication syndrome occurs when there is an extra copy (duplication) of the MECP2 gene in each cell. This is generally caused by a duplication of genetic material located on the long (q) arm of the X chromosome. The size of the duplication can vary; however, this does not appear to affect the severity of the condition. People with larger duplications have signs and symptoms that are similar to people with smaller duplications. The MECP2 gene encodes a protein that is important for normal brain functioning. Although it plays many roles, one of its most important functions is to regulate other genes in the brain by switching them on and off. A duplication of the MECP2 gene leads to the production of excess protein, which is unable to properly regulate the expression of other genes. This results in irregular brain activity, leading to the signs and symptoms of MECP2 duplication syndrome.\\n<question>What is (are) MECP2 duplication syndrome ?<answer>MECP2 duplication syndrome is a genetic condition that occurs almost exclusively in males and is characterized by moderate to severe intellectual disability. Other signs and symptoms include infantile hypotonia; delayed motor milestones (i.e. sitting up, crawling); recurrent infections; poor or absent speech; seizures; and/or spasticity. MECP2 duplication syndrome occurs when there is an extra copy (duplication) of the MECP2 gene in each cell. This is generally caused by a duplication of genetic material located on the long (q) arm of the X chromosome. The condition is inherited in an X-linked manner. Treatment is based on the signs and symptoms present in each person.\\n<question>How to diagnose MECP2 duplication syndrome ?<answer>How is MECP2 duplication syndrome diagnosed? A diagnosis of MECP2 duplication syndrome is often suspected based on the presence of characteristic signs and symptoms. Genetic testing can then be ordered to confirm the diagnosis.\\n<question>What are the treatments for MECP2 duplication syndrome ?<answer>How might MECP2 duplication syndrome be treated? Because MECP2 duplication syndrome affects many different systems of the body, medical management is often provided by a team of doctors and other healthcare professionals. Treatment for this condition varies based on the signs and symptoms present in each person. For example, infants with trouble swallowing and/or other feeding difficulties may require a feeding tube. Early developmental interventions may be recommended to help affected children reach their potential. This may include physical therapy, speech therapy and/or occupational therapy. Medications may be prescribed to treat seizures or spasticity. Recurrent infections are usually treated aggressively with appropriate antibiotics. Please speak with a healthcare provider if you have any questions about your personal medical management plan or that of a family member.\\n<question>What are the treatments for Camurati-Engelmann disease ?<answer>How might Camurati-Engelmann disease (CED) be treated? Several medical therapies including corticosteroids, biphosphonates, and non-steroidal anti-inflammatory drugs (NSAIDs) have been used to manage the symptoms of Camurati-Engelmann disease (CED). NSAIDs and bisphosphonates have not been proven to be effective for most people with CED. Corticosteroids may relieve some of the symptoms such as pain and weakness and can also improve gait and exercise tolerance, however corticosteroids have serious side effects with long term use. More recently, losartan, an angiotensin II type 1 receptor antagonist, has been reported to reduce limb pain and increase muscle strength in multiple case reports. However, the effectiveness of losartan needs more study to determine if it is effective for those with CED and without major side effects. Exercise programs when they are tolerated have also been found to be beneficial. Please note, case reports report the clinical findings associated with individual cases. It is important to keep in mind that the clinical findings documented in these case reports are based on specific individuals and may differ from one affected person to another.\\n<question>What is (are) Camurati-Engelmann disease ?<answer>Camurati-Engelmann disease is a genetic condition that mainly affects the bones. People with this disease have increased bone density, particularly affecting the long bones of the arms and legs. In some cases, the skull and hip bones are also affected. The thickened bones can lead to pain in the arms and legs, a waddling walk, muscle weakness, and extreme tiredness. The age at which affected individuals first experience symptoms varies greatly; however, most people with this condition develop pain or weakness by adolescence. Camurati-Engelmann disease is caused by a mutation in the TGFB1 gene which is inherited in an autosomal dominant fashion. In some instances, people have the gene mutation that causes Camurati-Engelmann disease but never develop the characteristic features of this condition. In others, features are present, but a mutation cannot be identified. These cases are referred to as Camurati-Engelmann disease type II. Treatment for Camurati-Engelman disease depends on many factors including the signs and symptoms present in each person and the severity of the condition.\\n<question>How many people are affected by Camurati-Engelmann disease ?<answer>The prevalence of Camurati-Engelmann disease is unknown. Approximately 200 cases have been reported worldwide.\\n<question>Is Camurati-Engelmann disease inherited ?<answer>This condition is inherited in an autosomal dominant pattern, which means one copy of the altered gene in each cell is sufficient to cause the disorder.\\n<question>What are the complications of Paget\\'s Disease of Bone ?<answer>Over time, Paget\\'s disease may lead to other medical conditions, including arthritis, headaches, hearing loss, and nervous system problems, depending on which bones are affected. On very rare occasions, Paget\\'s disease is associated with the development of osteosarcoma, a type of bone cancer. Less than one percent of patients have this complication.\\n<question>What is (are) Paget\\'s Disease of Bone ?<answer>Enlarged and Misshapen Bones Paget\\'s disease of bone causes affected bones to become enlarged and misshapen. Our bones are living tissue, and our bodies are constantly breaking down old bone and replacing it with new bone. In Paget\\'s disease, however, old bone is broken down and replaced at a faster rate than normal. The new bone is larger and weaker than normal bone. Paget\\'s disease can occur in any bone in the body, but it is most common in the pelvis, spine, skull, and leg bones. It may occur in just one bone or in several bones, but it does not affect the entire skeleton or spread from affected bones to normal bones. Common symptoms include pain, misshapen bones, and a greater chance of broken bones. Complications Paget\\'s disease can also lead to complications, such as arthritis, headaches, hearing loss, or nervous system problems, depending on which bones are affected. If not treated, Paget\\'s disease can reduce a person\\'s ability to perform activities of daily living, thereby reducing quality of life. Although it is the second most common bone disease after osteoporosis, Paget\\'s disease is still uncommon. According to Bone Health and Osteoporosis: A Report of the Surgeon General, an estimated 1 million people in the U.S. have Paget\\'s disease, or about 1.3 people per 100 men and women age 45-74. The disease is more common in older people and those of Northern European heritage. Men are more likely than women to have the disease. Cause is Unknown Paget\\'s disease is named after the British surgeon, Sir James Paget, who first identified the disease in 1877. Researchers are not sure what causes it. Heredity may be a factor in some cases. Research suggests that a close relative of someone with Paget\\'s disease is seven times more likely to develop the disease than someone without an affected relative. However, most people with Paget\\'s disease do not have any relatives with the disease. Researchers think the disease also may be caused by other factors, such as a slow-acting virus. A Treatable Disease The good news is that Paget\\'s disease of bone is treatable, especially if it is diagnosed early. In recent years, the Food and Drug Administration has approved several medications that can stop or slow the disease\\'s progression. In some cases, surgery can help patients manage the symptoms and complications of the disease.\\n<question>What are the treatments for Paget\\'s Disease of Bone ?<answer>The Food and Drug Administration has approved several medications that can stop or slow down the progression of the disease and reduce pain and other symptoms. These medications fall into two categories: bisphosphonates and calcitonin. Doctors most often prescribe one of the four strongest bisphosphonates, which are risedronate, alendronate, pamidronate, and zoledronic acid.\\n<question>What is (are) Paget\\'s Disease of Bone ?<answer>Paget\\'s disease of bone is a disease that causes affected bones to become enlarged and misshapen. Our bones are living tissue, and our bodies are constantly breaking down old bone and replacing it with new bone. In Paget\\'s disease, however, old bone is broken down and replaced at a faster rate than normal. The new bone is larger and weaker than normal bone.\\n<question>How to diagnose Porphyria ?<answer>A health care provider diagnoses porphyria with blood, urine, and stool tests. These tests take place at a health care providers office or a commercial facility. A blood test involves drawing blood and sending the sample to a lab for analysis. For urine and stool tests, the patient collects a sample of urine or stool in a special container. A health care provider tests the samples in the office or sends them to a lab for analysis. High levels of porphyrins or porphyrin precursors in blood, urine, or stool indicate porphyria. A health care provider may also recommend DNA testing of a blood sample to look for known gene mutations that cause porphyrias.\\n<question>What are the symptoms of Porphyria ?<answer>Some people with porphyria-causing gene mutations have latent porphyria, meaning they have no symptoms of the disorder. Symptoms of cutaneous porphyrias include - oversensitivity to sunlight - blisters on exposed areas of the skin - itching and swelling on exposed areas of the skin Symptoms of acute porphyrias include - pain in the abdomenthe area between the chest and hips - pain in the chest, limbs, or back - nausea and vomiting - constipationa condition in which an adult has fewer than three bowel movements a week or a child has fewer than two bowel movements a week, depending on the person - urinary retentionthe inability to empty the bladder completely - confusion - hallucinations - seizures and muscle weakness Symptoms of acute porphyrias can develop over hours or days and last for days or weeks. These symptoms can come and go over time, while symptoms of cutaneous porphyrias tend to be more continuous. Porphyria symptoms can vary widely in severity.\\n<question>What to do for Porphyria ?<answer>People with an acute porphyria should eat a diet with an average-to-high level of carbohydrates. The recommended dietary allowance for carbohydrates is 130 g per day for adults and children 1 year of age or older; pregnant and breastfeeding women need higher intakes.2 People should avoid limiting intake of carbohydrates and calories, even for short periods of time, as this type of dieting or fasting can trigger symptoms. People with an acute porphyria who want to lose weight should talk with their health care providers about diets they can follow to lose weight gradually. People undergoing therapeutic phlebotomies should drink plenty of milk, water, or juice before and after each procedure. A health care provider may recommend vitamin and mineral supplements for people with a cutaneous porphyria.\\n<question>What to do for Porphyria ?<answer>- Porphyrias are rare disorders that affect mainly the skin or nervous system and may cause abdominal pain. - Each of the eight types of porphyria corresponds to low levels of a specific enzyme in the heme biosynthetic pathway. - The exact rates of porphyria are unknown and vary around the world. For example, porphyria cutanea tarda is most common in the United States, and variegate porphyria is most common in South America. - Most porphyrias result from inheriting an abnormal gene, also called a gene mutation, from one parent. - Porphyria cutanea tarda is usually an acquired disorder, meaning factors other than genes cause the enzyme deficiency. - Symptoms of cutaneous porphyrias include - oversensitivity to sunlight - blisters on exposed areas of the skin - itching and swelling on exposed areas of the skin - Symptoms of acute porphyrias include - pain in the abdomen - pain in the chest, limbs, or back - nausea and vomiting - constipation - urinary retention - confusion - hallucinations - seizures and muscle weakness - A health care provider diagnoses porphyria with blood, urine, and stool tests. - Treatment for porphyria depends on the type of porphyria the person has and the severity of the symptoms.\\n<question>What is (are) Cushing\\'s Syndrome ?<answer>Cushing\\'s syndrome is a hormonal disorder. The cause is long-term exposure to too much cortisol, a hormone that your adrenal gland makes. Sometimes, taking synthetic hormone medicine to treat an inflammatory disease leads to Cushing\\'s. Some kinds of tumors produce a hormone that can cause your body to make too much cortisol. Cushing\\'s syndrome is rare. Some symptoms are - Upper body obesity - Thin arms and legs - Severe fatigue and muscle weakness - High blood pressure - High blood sugar - Easy bruising Lab tests can show if you have it and find the cause. Your treatment will depend on why you have too much cortisol. If it is because you have been taking synthetic hormones, a lower dose may control your symptoms. If the cause is a tumor, surgery and other therapies may be needed. NIH: National Institute of Diabetes and Digestive and Kidney Diseases\\n<question>What is (are) Cushing\\'s Syndrome ?<answer>Cushing\\'s syndrome is a hormonal disorder caused by prolonged exposure of the body\\'s tissues to high levels of the hormone cortisol. Sometimes called hypercortisolism, Cushing\\'s syndrome is relatively rare and most commonly affects adults aged 20 to 50. People who are obese and have type 2 diabetes, along with poorly controlled blood glucose-also called blood sugar-and high blood pressure, have an increased risk of developing the disorder.\\n<question>How to diagnose Cushing\\'s Syndrome ?<answer>Diagnosis is based on a review of a person\\'s medical history, a physical examination, and laboratory tests. X rays of the adrenal or pituitary glands can be useful in locating tumors. Tests to Diagnose Cushing\\'s Syndrome No single lab test is perfect and usually several are needed. The three most common tests used to diagnose Cushing\\'s syndrome are the 24-hour urinary free cortisol test, measurement of midnight plasma cortisol or late-night salivary cortisol, and the low-dose dexamethasone suppression test. Another test, the dexamethasone-corticotropin-releasing hormone test, may be needed to distinguish Cushing\\'s syndrome from other causes of excess cortisol. - 24-hour urinary free cortisol level. In this test, a person\\'s urine is collected several times over a 24-hour period and tested for cortisol. Levels higher than 50 to 100 micrograms a day for an adult suggest Cushing\\'s syndrome. The normal upper limit varies in different laboratories, depending on which measurement technique is used. - Midnight plasma cortisol and late-night salivary cortisol measurements. The midnight plasma cortisol test measures cortisol concentrations in the blood. Cortisol production is normally suppressed at night, but in Cushing\\'s syndrome, this suppression doesn\\'t occur. If the cortisol level is more than 50 nanomoles per liter (nmol/L), Cushing\\'s syndrome is suspected. The test generally requires a 48-hour hospital stay to avoid falsely elevated cortisol levels due to stress. However, a late-night or bedtime saliva sample can be obtained at home, then tested to determine the cortisol level. Diagnostic ranges vary, depending on the measurement technique used. - Low-dose dexamethasone suppression test (LDDST). In the LDDST, a person is given a low dose of dexamethasone, a synthetic glucocorticoid, by mouth every 6 hours for 2 days. Urine is collected before dexamethasone is administered and several times on each day of the test. A modified LDDST uses a onetime overnight dose. Cortisol and other glucocorticoids signal the pituitary to release less ACTH, so the normal response after taking dexamethasone is a drop in blood and urine cortisol levels. If cortisol levels do not drop, Cushing\\'s syndrome is suspected. The LDDST may not show a drop in cortisol levels in people with depression, alcoholism, high estrogen levels, acute illness, or stress, falsely indicating Cushing\\'s syndrome. On the other hand, drugs such as phenytoin and phenobarbital may cause cortisol levels to drop, falsely indicating that Cushings is not present in people who actually have the syndrome. For this reason, physicians usually advise their patients to stop taking these drugs at least 1 week before the test. - Dexamethasone-corticotropin-releasing hormone (CRH) test. Some people have high cortisol levels but do not develop the progressive effects of Cushing\\'s syndrome, such as muscle weakness, fractures, and thinning of the skin. These people may have pseudo-Cushing\\'s syndrome, a condition sometimes found in people who have depression or anxiety disorders, drink excess alcohol, have poorly controlled diabetes, or are severely obese. Pseudo-Cushings does not have the same long-term effects on health as Cushing\\'s syndrome and does not require treatment directed at the endocrine glands. The dexamethasone-CRH test rapidly distinguishes pseudo-Cushing\\'s from mild cases of Cushing\\'s. This test combines the LDDST and a CRH stimulation test. In the CRH stimulation test, an injection of CRH causes the pituitary to secrete ACTH. Pretreatment with dexamethasone prevents CRH from causing an increase in cortisol in people with pseudo-Cushing\\'s. Elevations of cortisol during this test suggest Cushing\\'s syndrome. Tests to Find the Cause of Cushing\\'s Syndrome Once Cushing\\'s syndrome has been diagnosed, other tests are used to find the exact location of the abnormality that leads to excess cortisol production. The choice of test depends, in part, on the preference of the endocrinologist or the center where the test is performed. - CRH stimulation test. The CRH test, without pretreatment with dexamethasone, helps separate people with pituitary adenomas from those with ectopic ACTH syndrome or adrenal tumors. As a result of the CRH injection, people with pituitary adenomas usually experience a rise in blood levels of ACTH and cortisol because CRH acts directly on the pituitary. This response is rarely seen in people with ectopic ACTH syndrome and practically never in those with adrenal tumors. - high-dose dexamethasone suppression test (HDDST). The HDDST is the same as the LDDST, except it uses higher doses of dexamethasone. This test helps separate people with excess production of ACTH due to pituitary adenomas from those with ectopic ACTH-producing tumors. High doses of dexamethasone usually suppress cortisol levels in people with pituitary adenomas but not in those with ectopic ACTH-producing tumors. - Radiologic imaging: direct visualization of the endocrine glands. Imaging tests reveal the size and shape of the pituitary and adrenal glands and help determine if a tumor is present. The most common imaging tests are the computerized tomography (CT) scan and magnetic resonance imaging (MRI). A CT scan produces a series of x-ray pictures giving a cross-sectional image of a body part. MRI also produces images of internal organs but without exposing patients to ionizing radiation. Imaging procedures are used to find a tumor after a diagnosis has been made. Imaging is not used to make the diagnosis of Cushing\\'s syndrome because benign tumors are commonly found in the pituitary and adrenal glands. These tumors, sometimes called incidentalomas, do not produce hormones in quantities that are harmful. They are not removed unless blood tests show they are a cause of symptoms or they are unusually large. Conversely, pituitary tumors may not be detectable by imaging in almost half of people who ultimately need pituitary surgery for Cushing\\'s syndrome. - Petrosal sinus sampling. This test is not always required, but in many cases, it is the best way to distinguish pituitary from ectopic causes of Cushing\\'s syndrome. Samples of blood are drawn from the petrosal sinuses-veins that drain the pituitary-by inserting tiny tubes through a vein in the upper thigh or groin region. A local anesthetic and mild sedation are given, and x rays are taken to confirm the correct position of the tubes. Often CRH, the hormone that causes the pituitary to release ACTH, is given during this test to improve diagnostic accuracy. Levels of ACTH in the petrosal sinuses are measured and compared with ACTH levels in a forearm vein. Higher levels of ACTH in the sinuses than in the forearm vein indicate a pituitary adenoma. Similar levels of ACTH in the petrosal sinuses and the forearm suggest ectopic ACTH syndrome.\\n<question>What are the treatments for Cushing\\'s Syndrome ?<answer>Treatment depends on the specific reason for excess cortisol and may include surgery, radiation, chemotherapy, or the use of cortisol-inhibiting drugs. If the cause is long-term use of glucocorticoid hormones to treat another disorder, the doctor will gradually reduce the dosage to the lowest dose adequate for control of that disorder. Once control is established, the daily dose of glucocorticoid hormones may be doubled and given on alternate days to lessen side effects. In some cases, noncorticosteroid drugs can be prescribed. Pituitary Adenomas Several therapies are available to treat the ACTH-secreting pituitary adenomas of Cushing\\'s disease. The most widely used treatment is surgical removal of the tumor, known as transsphenoidal adenomectomy. Using a special microscope and fine instruments, the surgeon approaches the pituitary gland through a nostril or an opening made below the upper lip. Because this procedure is extremely delicate, patients are often referred to centers specializing in this type of surgery. The success, or cure, rate of this procedure is more than 80 percent when performed by a surgeon with extensive experience. If surgery fails or only produces a temporary cure, surgery can be repeated, often with good results. After curative pituitary surgery, the production of ACTH drops two levels below normal. This drop is natural and temporary, and patients are given a synthetic form of cortisol such as hydrocortisone or prednisone to compensate. Most people can stop this replacement therapy in less than 1 or 2 years, but some must be on it for life. If transsphenoidal surgery fails or a patient is not a suitable candidate for surgery, radiation therapy is another possible treatment. Radiation to the pituitary gland is given over a 6-week period, with improvement occurring in 40 to 50 percent of adults and up to 85 percent of children. Another technique, called stereotactic radiosurgery or gamma knife radiation, can be given in a single high-dose treatment. It may take several months or years before people feel better from radiation treatment alone. Combining radiation with cortisol-inhibiting drugs can help speed recovery. Drugs used alone or in combination to control the production of excess cortisol are ketoconazole, mitotane, aminoglutethimide, and metyrapone. Each drug has its own side effects that doctors consider when prescribing medical therapy for individual patients. Ectopic ACTH Syndrome To cure the overproduction of cortisol caused by ectopic ACTH syndrome, all of the cancerous tissue that is secreting ACTH must be eliminated. The choice of cancer treatment-surgery, radiation, chemotherapy, immunotherapy, or a combination of these treatmentsdepends on the type of cancer and how far it has spread. Because ACTH-secreting tumors may be small or widespread at the time of diagnosis, making them difficult to locate and treat directly, cortisol-inhibiting drugs are an important part of treatment. In some cases, if other treatments fail, surgical removal of the adrenal glands, called bilateral adrenalectomy, may replace drug therapy. Adrenal Tumors Surgery is the mainstay of treatment for benign and cancerous tumors of the adrenal glands. Primary pigmented micronodular adrenal disease and the inherited Carney complex-primary tumors of the heart that can lead to endocrine overactivity and Cushing\\'s syndrome-require surgical removal of the adrenal glands.\\n<question>What causes Bartter syndrome ?<answer>What causes Bartter syndrome? Bartter syndrome may be caused by mutations in any one of several genes; the genetic cause in each case corresponds to the type of Bartter syndrome each affected individual has. Types I, II and IV typically result in the antenatal forms of Bartter syndrome (beginning before birth) while type III results in classical Bartter syndrome (usually beginning in early childhood). Type I results from mutations in the SLC12A1 gene; type II from mutations in the KCNJ1 gene; type III from mutations in the CLCNKB gene; and type IV from mutations in the BSND gene, or from a combination of mutations in the CLCNKA and CLCNKB genes. In some people with Bartter syndrome, the genetic cause of the disorder remains unknown; there may be other genes that cause the condition that have not yet been identified. All of these genes are essential for normal kidney function - they are involved in the kidneys\\' abilities to reabsorb salt. Abnormal changes in these genes impair these abilities, allowing for the loss of excess salt through the urine and also affecting the reabsorption of other things including potassium and calcium. The resulting imbalance of these in the body lead to the signs and symptoms of Bartter syndrome.\\n<question>What are the treatments for Bartter syndrome ?<answer>These resources address the diagnosis or management of Bartter syndrome: - Genetic Testing Registry: Bartter syndrome antenatal type 1 - Genetic Testing Registry: Bartter syndrome antenatal type 2 - Genetic Testing Registry: Bartter syndrome type 3 - Genetic Testing Registry: Bartter syndrome type 4 - Genetic Testing Registry: Bartter syndrome, type 4b - Genetic Testing Registry: Bartter\\'s syndrome These resources from MedlinePlus offer information about the diagnosis and management of various health conditions: - Diagnostic Tests - Drug Therapy - Surgery and Rehabilitation - Genetic Counseling - Palliative Care\\n<question>Is Bartter syndrome inherited ?<answer>How is Bartter syndrome inherited? Bartter syndrome is inherited in an autosomal recessive manner, which means that both copies of the disease-causing gene (one inherited from each parent) have a mutation in an affected individual. Parents who each carry one mutated copy of the gene are referred to as carriers and typically do not have signs or symptoms of the condition. When two carriers for an autosomal recessive condition have children, each child has a 25% (1 in 4) risk to have the condition, a 50% (1 in 2) risk to be a carrier like each of the parents, and a 25% chance to not have the condition and not be a carrier. Click here to visit the Genetic Home Reference Web site and view an illustration that demonstrates autosomal recessive inheritance.\\n<question>What are the symptoms of Bartter syndrome ?<answer>What are the signs and symptoms of Bartter syndrome? The signs and symptoms associated with Bartter syndrome can vary depending on the form of Bartter syndrome an affected individual has. The antenatal forms (beginning before birth) can be life-threatening, while the classical form, beginning in early childhood, tends to be less severe. The antenatal forms of Bartter syndrome (types I, II and IV) may first be characterized by abnormally high levels of amniotic fluid surrounding the affected fetus (polyhydramnios); premature delivery; and possibly life-threatening salt (sodium-chloride) loss. Affected newborns may have fever, vomiting, diarrhea, failure to thrive, delayed growth, intellectual disability, and/or distinctive facial features (triangular face, prominent forehead, large eyes, protruding ears, and drooping mouth). Individuals with type IV may also have sensorineural deafness (hearing loss caused by abnormalities in the inner ear). Classical Bartter syndrome typically becomes apparent in infancy and is characterized by failure to thrive and constipation in the first year of life. Symptoms may include salt craving, fatigue, muscle weakness, growth delay and developmental delay. Loss of excess sodium chloride through the urine can lead to dehydration, constipation, and increased urine production (polyuria). Loss of excess calcium through the urine (hypercalciuria) can cause weakening of the bones (osteopenia). When this excess calcium becomes deposited in the kidneys, tissue in the kidneys can become hardened (nephrocalcinosis). Low levels of potassium in the blood (hypokalemia) cause the muscle weakness, cramping, and fatigue in affected individuals. The Human Phenotype Ontology provides the following list of signs and symptoms for Bartter syndrome. If the information is available, the table below includes how often the symptom is seen in people with this condition. You can use the MedlinePlus Medical Dictionary to look up the definitions for these medical terms. Signs and Symptoms Approximate number of patients (when available) Abnormal renal physiology 90% Abnormality of metabolism/homeostasis 90% Short stature 90% Hypocalciuria 7.5% Hypomagnesemia 7.5% Abnormality of the choroid - Abnormality of the retinal vasculature - Abnormality of the sclera - Autosomal recessive inheritance - Chondrocalcinosis - Congenital onset - Constipation - Decreased glomerular filtration rate - Dehydration - Diarrhea - Edema - Failure to thrive - Fetal polyuria - Fever - Frontal bossing - Generalized muscle weakness - Global glomerulosclerosis - Heterogeneous - Hydrops fetalis - Hyperactive renin-angiotensin system - Hyperaldosteronism - Hypercalciuria - Hyperchloridura - Hypernatriuria - Hyperprostaglandinuria - Hypochloremia - Hypokalemia - Hypokalemic hypochloremic metabolic alkalosis - Hypokalemic metabolic alkalosis - Hyponatremia - Hyporeflexia - Hyposthenuria - Hypotension - Impaired platelet aggregation - Impaired reabsorption of chloride - Increased circulating renin level - Increased serum prostaglandin E2 - Increased urinary potassium - Intellectual disability - Large eyes - Low-to-normal blood pressure - Macrocephaly - Macrotia - Motor delay - Muscle cramps - Muscular hypotonia - Nephrocalcinosis - Osteopenia - Paresthesia - Polydipsia - Polyhydramnios - Polyuria - Premature birth - Prominent forehead - Reduced renal corticomedullary differentiation - Renal insufficiency - Renal juxtaglomerular cell hypertrophy/hyperplasia - Renal potassium wasting - Renal salt wasting - Seizures - Sensorineural hearing impairment - Small for gestational age - Tetany - Triangular face - Tubulointerstitial fibrosis - Vomiting - The Human Phenotype Ontology (HPO) has collected information on how often a sign or symptom occurs in a condition. Much of this information comes from Orphanet, a European rare disease database. The frequency of a sign or symptom is usually listed as a rough estimate of the percentage of patients who have that feature. The frequency may also be listed as a fraction. The first number of the fraction is how many people had the symptom, and the second number is the total number of people who were examined in one study. For example, a frequency of 25/25 means that in a study of 25 people all patients were found to have that symptom. Because these frequencies are based on a specific study, the fractions may be different if another group of patients are examined. Sometimes, no information on frequency is available. In these cases, the sign or symptom may be rare or common.\\n<question>What to do for Gallstones ?<answer>- Gallstones are hard particles that develop in the gallbladder. - Imbalances in the substances that make up bile cause gallstones. Gallstones may form if bile contains too much cholesterol, too much bilirubin, or not enough bile salts. Scientists do not fully understand why these imbalances occur. - Women, people over age 40, people with a family history of gallstones, American Indians, and Mexican Americans have a higher risk of developing gallstones. - Many people with gallstones do not have symptoms. Gallstones that do not cause symptoms are called asymptomatic, or silent, gallstones. - If gallstones block the bile ducts, pressure increases in the gallbladder, causing a gallbladder attack. - Gallbladder attacks often follow heavy meals, and they usually occur in the evening or during the night. - Gallstone symptoms may be similar to those of other conditions. - If gallstones are not causing symptoms, treatment is usually not needed. However, if a person has a gallbladder attack or other symptoms, a health care provider will usually recommend treatment. - The usual treatment for gallstones is surgery to remove the gallbladder. If a person cannot undergo surgery, nonsurgical treatments may be used to dissolve cholesterol gallstones. A health care provider may use endoscopic retrograde cholangiopancreatography (ERCP) to remove stones in people who cannot undergo surgery or to remove stones from the common bile duct in people who are about to have gallbladder removal surgery. - The gallbladder is not an essential organ, which means a person can live normally without a gallbladder. Once the gallbladder is removed, bile flows out of the liver through the hepatic and common bile ducts and directly into the duodenum, instead of being stored in the gallbladder.\\n<question>What is (are) Gallstones ?<answer>Your gallbladder is a pear-shaped organ under your liver. It stores bile, a fluid made by your liver to digest fat. As your stomach and intestines digest food, your gallbladder releases bile through a tube called the common bile duct. The duct connects your gallbladder and liver to your small intestine. Your gallbladder is most likely to give you trouble if something blocks the flow of bile through the bile ducts. That is usually a gallstone. Gallstones form when substances in bile harden. Gallstone attacks usually happen after you eat. Signs of a gallstone attack may include nausea, vomiting, or pain in the abdomen, back, or just under the right arm. Gallstones are most common among older adults, women, overweight people, Native Americans and Mexican Americans. Gallstones are often found during imaging tests for other health conditions. If you do not have symptoms, you usually do not need treatment. The most common treatment is removal of the gallbladder. Fortunately, you can live without a gallbladder. Bile has other ways to reach your small intestine. NIH: National Institute of Diabetes and Digestive and Kidney Diseases\\n<question>What are the symptoms of Gallstones ?<answer>Many people with gallstones do not have symptoms. Gallstones that do not cause symptoms are called asymptomatic, or silent, gallstones. Silent gallstones do not interfere with the function of the gallbladder, liver, or pancreas. If gallstones block the bile ducts, pressure increases in the gallbladder, causing a gallbladder attack. The pain usually lasts from 1 to several hours.1 Gallbladder attacks often follow heavy meals, and they usually occur in the evening or during the night. Gallbladder attacks usually stop when gallstones move and no longer block the bile ducts. However, if any of the bile ducts remain blocked for more than a few hours, complications can occur. Complications include infl ammation, or swelling, of the gallbladder and severe damage or infection of the gallbladder, bile ducts, or liver. A gallstone that becomes lodged in the common bile duct near the duodenum and blocks the pancreatic duct can cause gallstone pancreatitisin flammation of the pancreas. Left untreated, blockages of the bile ducts or pancreatic duct can be fatal.\\n<question>What is (are) Gallstones ?<answer>The biliary tract consists of the gallbladder and the bile ducts. The bile ducts carry bile and other digestive enzymes from the liver and pancreas to the duodenumthe fi rst part of the small intestine. The liver produces bilea fl uid that carries toxins and waste products out of the body and helps the body digest fats and the fat-soluble vitamins A, D, E, and K. Bile mostly consists of cholesterol, bile salts, and bilirubin. Bilirubin, a reddish-yellow substance, forms when hemoglobin from red blood cells breaks down. Most bilirubin is excreted through bile. The bile ducts of the biliary tract include the hepatic ducts, the common bile duct, the pancreatic duct, and the cystic duct. The gallbladder stores bile. Eating signals the gallbladder to contract and empty bile through the cystic duct and common bile duct into the duodenum to mix with food.\\n<question>What is (are) Liddle syndrome ?<answer>Liddle syndrome is an inherited form of high blood pressure (hypertension). This condition is characterized by severe hypertension that begins unusually early in life, often in childhood, although some affected individuals are not diagnosed until adulthood. Some people with Liddle syndrome have no additional signs or symptoms, especially in childhood. Over time, however, untreated hypertension can lead to heart disease or stroke, which may be fatal. In addition to hypertension, affected individuals can have low levels of potassium in the blood (hypokalemia). Signs and symptoms of hypokalemia include muscle weakness or pain, fatigue, constipation, or heart palpitations. The shortage of potassium can also raise the pH of the blood, a condition known as metabolic alkalosis.\\n<question>What causes Liddle syndrome ?<answer>What causes Liddle syndrome? Liddle syndrome is caused by mutations (changes) in either of two genes: SCNN1B and SCNN1G . The SCNN1B gene provides instructions for making one piece (the beta subunit) of protein complexes called epithelial sodium channels (ENaCs). The SCNN1G gene provides instructions for making a different piece (the gamma subunit) of ENaCs. These channels are found at the surface of certain cells called epithelial cells in many tissues of the body, including the kidneys, lungs, and sweat glands. The ENaC channel transports sodium into cells. Mutations in the SCNN1B and SCNN1G genes associated with Liddle syndrome affect an important region of the protein involved in signaling for its breakdown (degradation). As a result of the mutations, the protein is not tagged for degradation, and more ENaC channels remain at the cell\\'s surface. The increase in channels at the cell surface abnormally increases the reabsorption of sodium, which leads to hypertension. Removal of potassium from the blood is linked with reabsorption of sodium into the blood, so excess sodium reabsorption leads to hypokalemia.\\n<question>What are the genetic changes related to Liddle syndrome ?<answer>Liddle syndrome is caused by mutations in the SCNN1B or SCNN1G gene. Each of these genes provides instructions for making a piece (subunit) of a protein complex called the epithelial sodium channel (ENaC). These channels are found at the surface of certain cells called epithelial cells in many tissues of the body, including the kidneys, where the channels transport sodium into cells. In the kidney, ENaC channels open in response to signals that sodium levels in the blood are too low, which allows sodium to flow into cells. From the kidney cells, this sodium is returned to the bloodstream (a process called reabsorption) rather than being removed from the body in urine. Mutations in the SCNN1B or SCNN1G gene change the structure of the respective ENaC subunit. The changes alter a region of the subunit that is involved in signaling for its breakdown (degradation) when it is no longer needed. As a result of the mutations, the subunit proteins are not degraded, and more ENaC channels remain at the cell surface. The increase in channels at the cell surface abnormally increases the reabsorption of sodium (followed by water), which leads to hypertension. Reabsorption of sodium into the blood is linked with removal of potassium from the blood, so excess sodium reabsorption leads to hypokalemia.\\n<question>How to diagnose Liddle syndrome ?<answer>How is Liddle syndrome diagnosed? A diagnosis of Liddle syndrome may first be suspected by the detection of early-onset hypertension (high blood pressure), especially in the presence of family history. The diagnosis may then be confirmed by special blood and urine tests which show hypokalemia (low blood potassium levels), decreased or normal plasma levels of renin and aldosterone, metabolic alkalosis with high sodium plasma levels, and low rates of urinary excretion of sodium and aldosterone with high rates of urinary potassium excretion. The diagnosis can be further confirmed by genetic testing.\\n<question>Is 21-hydroxylase deficiency inherited ?<answer>This condition is inherited in an autosomal recessive pattern, which means both copies of the gene in each cell have mutations. The parents of an individual with an autosomal recessive condition each carry one copy of the mutated gene, but they typically do not show signs and symptoms of the condition.\\n<question>How to diagnose 21-hydroxylase deficiency ?<answer>Is genetic testing for 21-hydroxylase-deficient congenital adrenal hyperplasia available? Yes. Genetic testing of 21-hydroxylase-deficient congenital adrenal hyperplasia is available. In most people with this condition, the genetic test result can be used to predict disease severity. Click here to view a list of laboratories offering CYP21A2 testing.\\n<question>What are the treatments for 21-hydroxylase deficiency ?<answer>What is the goal for treating 21-hydroxylase-deficient congenital adrenal hyperplasia? The objectives for treating 21-hydroxylase deficiency differ with age. In childhood, the overall goal is to replace cortisol. Obtaining hormonal balance is important and patients growth velocity and bone age is monitored. Routine analysis of blood, urine, and/or saliva may also be necessary. Corrective surgery is frequently required for females born with abnormal genitalia. In late childhood and adolescence, maintaining hormonal balance is equally important. Overtreatment may result in obesity and delayed menarche/puberty, whereas under-replacement will result in sexual precocity. Also, it is important that teens and young adults with 21-hydroxylase deficiency be successfully transitioned to adult care facilities. Follow-up of adult patients should involve multidisciplinary clinics. Problems in adult women include fertility concerns, excessive hair growth, and menstrual irregularity; obesity and impact of short stature; sexual dysfunction and psychological problems. Counseling may be helpful. Adult males may develop enlargement of the testes and if so, should work with an endocrinologist familiar with the management of patients with this deficiency.\\n<question>What is (are) 21-hydroxylase deficiency ?<answer>21-hydroxylase-deficiency is a genetic disorder of cortisol biosynthesis. It is caused by mutations in the human 21-hydroxylase gene (CYP21A2). Symptoms of 21-hydroxylase deficiency vary, but can involve salt-wasting crises in infants; ambiguous genitalia in female infants; excessive hair, deep voice, abnormal periods, no periods, and fertility problems in older girls and women; early development of masculine features in boys; and shorter than average adult height, acne, and blood pressure problems.\\n<question>What are the symptoms of Wolfram syndrome ?<answer>What are the signs and symptoms of Wolfram syndrome? There are two types of Wolfram syndrome (type 1 and type 2) which have many overlapping features. Wolfram syndrome type 1, which is also known by the acronym DIDMOAD, is characterized by diabetes insipidus (DI), childhood-onset diabetes mellitus (DM), gradual loss of vision due to optic atrophy (OA), and deafness (D). About 65% of affected people will develop all four of these symptoms, while others will only have some of the associated health problems. Other signs and symptoms of Wolfram syndrome type 1 may include: Urinary tract abnormalities Ataxia (problems with coordination and balance) Loss of sense of smell Loss of gag reflex Myoclonus (muscle spasms) Peripheral neuropathy Seizures Depression Impulsive and/or aggressive behavior Psychosis Gastrointestinal problems Intellectual disability Central apnea and central respiratory failure Hypogonadism in males (reduced amounts of the sex hormone testosterone) In addition to the signs and symptoms found in Wolfram syndrome type 1, people with Wolfram syndrome type 2 may also have stomach and/or intestinal ulcers; and a tendancy to bleed excessivly after injuries. The Human Phenotype Ontology provides the following list of signs and symptoms for Wolfram syndrome. If the information is available, the table below includes how often the symptom is seen in people with this condition. You can use the MedlinePlus Medical Dictionary to look up the definitions for these medical terms. Signs and Symptoms Approximate number of patients (when available) Diabetes insipidus 90% Diabetes mellitus 90% Hearing impairment 90% Optic atrophy 90% Hypoglycemia 50% Incoordination 50% Nephropathy 50% Neurological speech impairment 50% Nystagmus 50% Recurrent urinary tract infections 50% Seizures 50% Visual impairment 50% Abnormality of the autonomic nervous system 7.5% Abnormality of the gastric mucosa 7.5% Abnormality of the genital system 7.5% Anemia 7.5% Apnea 7.5% Cataract 7.5% Cerebral cortical atrophy 7.5% Cognitive impairment 7.5% Congestive heart failure 7.5% Constipation 7.5% Developmental regression 7.5% Feeding difficulties in infancy 7.5% Gastric ulcer 7.5% Gastrointestinal hemorrhage 7.5% Glaucoma 7.5% Hallucinations 7.5% Hypertrophic cardiomyopathy 7.5% Hypothyroidism 7.5% Limitation of joint mobility 7.5% Malabsorption 7.5% Myopathy 7.5% Ophthalmoparesis 7.5% Peripheral neuropathy 7.5% Recurrent respiratory infections 7.5% Reduced consciousness/confusion 7.5% Renal insufficiency 7.5% Respiratory insufficiency 7.5% Retinopathy 7.5% Sleep disturbance 7.5% Abnormal bleeding - Abnormality of the skeletal system - Ataxia - Autosomal recessive inheritance - Behavioral abnormality - Blindness - Cardiomyopathy - Cerebral atrophy - Dysarthria - Dysautonomia - Dysphagia - Growth delay - Hydronephrosis - Hydroureter - Impaired collagen-induced platelet aggregation - Intellectual disability - Limited mobility of proximal interphalangeal joint - Megaloblastic anemia - Neurogenic bladder - Neutropenia - Optic neuropathy - Pigmentary retinopathy - Ptosis - Sensorineural hearing impairment - Sideroblastic anemia - Stroke-like episodes - Testicular atrophy - Thrombocytopenia - Tremor - The Human Phenotype Ontology (HPO) has collected information on how often a sign or symptom occurs in a condition. Much of this information comes from Orphanet, a European rare disease database. The frequency of a sign or symptom is usually listed as a rough estimate of the percentage of patients who have that feature. The frequency may also be listed as a fraction. The first number of the fraction is how many people had the symptom, and the second number is the total number of people who were examined in one study. For example, a frequency of 25/25 means that in a study of 25 people all patients were found to have that symptom. Because these frequencies are based on a specific study, the fractions may be different if another group of patients are examined. Sometimes, no information on frequency is available. In these cases, the sign or symptom may be rare or common.\\n<question>Is Wolfram syndrome inherited ?<answer>When Wolfram syndrome is caused by mutations in the WFS1 gene, it is inherited in an autosomal recessive pattern, which means both copies of the gene in each cell have mutations. The parents of an individual with an autosomal recessive condition each carry one copy of the mutated gene, but they typically do not show signs and symptoms of the condition. Some studies have shown that people who carry one copy of a WFS1 gene mutation are at increased risk of developing individual features of Wolfram syndrome or related features, such as type 2 diabetes, hearing loss, or psychiatric illness. However, other studies have found no increased risk in these individuals. Wolfram syndrome caused by mutations in the CISD2 gene is also inherited in an autosomal recessive pattern.\\n<question>Is Wolfram syndrome inherited ?<answer>Is Wolfram syndrome inherited? Wolfram syndrome is inherited in an autosomal recessive manner. This means that to be affected, a person must have a mutation in both copies of the responsible gene in each cell. The parents of an affected person usually each carry one mutated copy of the gene and are referred to as carriers. Carriers typically do not show signs or symptoms of the condition. When two carriers of an autosomal recessive condition have children, each child has a 25% (1 in 4) risk to have the condition, a 50% (1 in 2) risk to be a carrier like each of the parents, and a 25% chance to not have the condition and not be a carrier.\\n<question>What causes Wolfram syndrome ?<answer>What causes Wolfram syndrome? There are two types of Wolfram syndrome (type 1 and type 2) which are primarily differentiated by their genetic cause. Changes (mutations) in the WFS1 gene are responsible for approximately 90% of Wolfram syndrome type 1 cases. This gene encodes wolframin, a protein that is important for the proper functioning of the endoplasmic reticulum (the part of a cell that is involved in protein production, processing, and transport). Wolframin helps regulate the amount of calcium in cells, which is important for many different cellular functions. Mutations in WFS1 result in a defective form of wolframin that is unable to perform its normal role. This causes cells to trigger their own death (apoptosis). The death of cells in various organs and other parts of the body results in the signs and symptoms of Wolfram syndrome type 1. A specific mutation in the CISD2 gene causes Wolfram syndrome type 2. Although the exact function of this gene is not known, scientists suspect that it plays an important role in the mitochondria (the part of the cell where energy is produced). Mutations in CISD2 lead to the loss of mitochondria which decreases the amount of energy available to cells. Cells that do not have enough energy die. As in Wolfram syndrome type 1, the death of cells in different parts of the body results in the many health problems associated with Wolfram syndrome type 2. Mutations in mitochondrial DNA may also be a rare cause of Wolfram syndrome in some families.\\n<question>What are the symptoms of Laron syndrome ?<answer>What are the signs and symptoms of Laron syndrome? Laron syndrome is a rare condition in which the body is unable to use growth hormone. The primary symptom is short stature. Although affected people are generally close to average size at birth, they experience slow growth from early childhood. If left untreated, adult males with Laron syndrome typically reach a maximum height of about 4.5 feet and adult females may be just over 4 feet tall. Other signs and symptoms associated with the condition vary but may include: Reduced muscle strength and endurance Hypoglycemia in infancy Delayed puberty Small genitals Thin, fragile hair Dental abnormalities Short limbs (arms and legs) Obesity Distinctive facial features (protruding forehead, a sunken bridge of the nose, and blue sclerae) People affected by Laron syndrome appear to have a reduced risk of cancer and type 2 diabetes. The Human Phenotype Ontology provides the following list of signs and symptoms for Laron syndrome. If the information is available, the table below includes how often the symptom is seen in people with this condition. You can use the MedlinePlus Medical Dictionary to look up the definitions for these medical terms. Signs and Symptoms Approximate number of patients (when available) Abnormal facial shape 90% Aplasia/Hypoplasia involving the nose 90% Delayed eruption of teeth 90% Delayed skeletal maturation 90% High forehead 90% Microdontia 90% Reduced number of teeth 90% Truncal obesity 90% Abnormality of the elbow 50% Brachydactyly syndrome 50% Hypoglycemia 50% Hypoplasia of penis 50% Short toe 50% Skeletal muscle atrophy 50% Underdeveloped supraorbital ridges 50% Abnormality of lipid metabolism 7.5% Abnormality of the voice 7.5% Blue sclerae 7.5% Cognitive impairment 7.5% Depressed nasal ridge 7.5% Hypertrichosis 7.5% Hypohidrosis 7.5% Osteoarthritis 7.5% Prematurely aged appearance 7.5% Abnormal joint morphology - Abnormality of metabolism/homeostasis - Autosomal recessive inheritance - Delayed menarche - High pitched voice - Severe short stature - Short long bone - Small face - The Human Phenotype Ontology (HPO) has collected information on how often a sign or symptom occurs in a condition. Much of this information comes from Orphanet, a European rare disease database. The frequency of a sign or symptom is usually listed as a rough estimate of the percentage of patients who have that feature. The frequency may also be listed as a fraction. The first number of the fraction is how many people had the symptom, and the second number is the total number of people who were examined in one study. For example, a frequency of 25/25 means that in a study of 25 people all patients were found to have that symptom. Because these frequencies are based on a specific study, the fractions may be different if another group of patients are examined. Sometimes, no information on frequency is available. In these cases, the sign or symptom may be rare or common.\\n<question>What is (are) Laron syndrome ?<answer>Laron syndrome is a rare form of short stature that results from the body\\'s inability to use growth hormone, a substance produced by the brain\\'s pituitary gland that helps promote growth. Affected individuals are close to normal size at birth, but they experience slow growth from early childhood that results in very short stature. If the condition is not treated, adult males typically reach a maximum height of about 4.5 feet; adult females may be just over 4 feet tall. Other features of untreated Laron syndrome include reduced muscle strength and endurance, low blood sugar levels (hypoglycemia) in infancy, small genitals and delayed puberty, hair that is thin and fragile, and dental abnormalities. Many affected individuals have a distinctive facial appearance, including a protruding forehead, a sunken bridge of the nose (saddle nose), and a blue tint to the whites of the eyes (blue sclerae). Affected individuals have short limbs compared to the size of their torso, as well as small hands and feet. Adults with this condition tend to develop obesity. However, the signs and symptoms of Laron syndrome vary, even among affected members of the same family. Studies suggest that people with Laron syndrome have a significantly reduced risk of cancer and type 2 diabetes. Affected individuals appear to develop these common diseases much less frequently than their unaffected relatives, despite having obesity (a risk factor for both cancer and type 2 diabetes). However, people with Laron syndrome do not seem to have an increased lifespan compared with their unaffected relatives.\\n<question>Is Laron syndrome inherited ?<answer>Most cases of Laron syndrome are inherited in an autosomal recessive pattern, which means both copies of the GHR gene in each cell have mutations. The parents of an individual with an autosomal recessive condition each carry one copy of the mutated gene, but they typically do not show signs and symptoms of the condition. Much less commonly, the condition has an autosomal dominant pattern of inheritance, which means one copy of the altered gene in each cell is sufficient to cause the disorder. In most of these cases, an affected person has one parent with the condition.\\n<question>What causes Laron syndrome ?<answer>What causes Laron syndrome? Laron syndrome is caused by changes (mutations) in the GHR gene. This gene encodes growth hormone receptor, which is a protein found on the outer membrane of cells throughout the body. Growth hormone receptor is designed to recognize and bind growth hormone, which triggers cellular growth and division. When growth hormone is bound to the growth hormone receptors on liver cells, specifically, insulin-like growth factor I (another important growth-promoting hormone) is produced. Mutations in GHR impair the function of growth hormone receptors which interferes with their ability to bind growth hormone. This disrupts normal growth and development of cells and prevents the production of insulin-like growth factor I which causes the many signs and symptoms of Laron syndrome.\\n<question>What are the treatments for Urinary Retention ?<answer>A health care provider treats urinary retention with - bladder drainage - urethral dilation - urethral stents - prostate medications - surgery The type and length of treatment depend on the type and cause of urinary retention. Bladder Drainage Bladder drainage involves catheterization to drain urine. Treatment of acute urinary retention begins with catheterization to relieve the immediate distress of a full bladder and prevent bladder damage. A health care provider performs catheterization during an office visit or in an outpatient center or a hospital. The patient often receives local anesthesia. The health care provider can pass a catheter through the urethra into the bladder. In cases of a blocked urethra, he or she can pass a catheter directly through the lower abdomen, just above the pubic bone, directly into the bladder. In these cases, the health care provider will use anesthesia. For chronic urinary retention, the patient may require intermittentoccasional, or not continuousor long-term catheterization if other treatments do not work. Patients who need to continue intermittent catheterization will receive instruction regarding how to selfcatheterize to drain urine as necessary. Urethral Dilation Urethral dilation treats urethral stricture by inserting increasingly wider tubes into the urethra to widen the stricture. An alternative dilation method involves inflating a small balloon at the end of a catheter inside the urethra. A health care provider performs a urethral dilation during an office visit or in an outpatient center or a hospital. The patient will receive local anesthesia. In some cases, the patient will receive sedation and regional anesthesia. Urethral Stents Another treatment for urethral stricture involves inserting an artificial tube, called a stent, into the urethra to the area of the stricture. Once in place, the stent expands like a spring and pushes back the surrounding tissue, widening the urethra. Stents may be temporary or permanent. A health care provider performs stent placement during an office visit or in an outpatient center or a hospital. The patient will receive local anesthesia. In some cases, the patient will receive sedation and regional anesthesia. Prostate Medications Medications that stop the growth of or shrink the prostate or relieve urinary retention symptoms associated with benign prostatic hyperplasia include - dutasteride (Avodart) - finasteride (Proscar) The following medications relax the muscles of the bladder outlet and prostate to help relieve blockage: - alfuzosin (Uroxatral) - doxazosin (Cardura) - silodosin (Rapaflo) - tadalafil (Cialis) - tamsulosin (Flomax) - terazosin (Hytrin) Surgery Prostate surgery. To treat urinary retention caused by benign prostatic hyperplasia, a urologista doctor who specializes in the urinary tractmay surgically destroy or remove enlarged prostate tissue by using the transurethral method. For transurethral surgery, the urologist inserts a catheter or surgical instruments through the urethra to reach the prostate. Removal of the enlarged tissue usually relieves the blockage and urinary retention caused by benign prostatic hyperplasia. A urologist performs some procedures on an outpatient basis. Some men may require a hospital stay. In some cases, the urologist will remove the entire prostate using open surgery. Men will receive general anesthesia and have a longer hospital stay than for other surgical procedures. Men will also have a longer rehabilitation period for open surgery. More information is provided in the NIDDK health topic, Prostate Enlargement: Benign Prostatic Hyperplasia. Internal urethrotomy. A urologist can repair a urethral stricture by performing an internal urethrotomy. For this procedure, the urologist inserts a special catheter into the urethra until it reaches the stricture. The urologist then uses a knife or laser to make an incision that opens the stricture. The urologist performs an internal urethrotomy in an outpatient center or a hospital. The patient will receive general anesthesia. Cystocele or rectocele repair. Women may need surgery to lift a fallen bladder or rectum into its normal position. The most common procedure for cystocele and rectocele repair involves a urologist, who also specializes in the female reproductive system, making an incision in the wall of the vagina. Through the incision, the urologist looks for a defect or hole in the tissue that normally separates the vagina from the other pelvic organs. The urologist places stitches in the tissue to close up the defect and then closes the incision in the vaginal wall with more stitches, removing any extra tissue. These stitches tighten the layers of tissue that separate the organs, creating more support for the pelvic organs. A urologist or gynecologista doctor who specializes in the female reproductive systemperforms the surgery to repair a cystocele or rectocele in a hospital. Women will receive anesthesia. Tumor and cancer surgery. Removal of tumors and cancerous tissues in the bladder or urethra may reduce urethral obstruction and urinary retention.\\n<question>What causes Urinary Retention ?<answer>Urinary retention can result from - obstruction of the urethra - nerve problems - medications - weakened bladder muscles Obstruction of the Urethra Obstruction of the urethra causes urinary retention by blocking the normal urine flow out of the body. Conditions such as benign prostatic hyperplasiaalso called BPHurethral stricture, urinary tract stones, cystocele, rectocele, constipation, and certain tumors and cancers can cause an obstruction. Benign prostatic hyperplasia. For men in their 50s and 60s, urinary retention is often caused by prostate enlargement due to benign prostatic hyperplasia. Benign prostatic hyperplasia is a medical condition in which the prostate gland is enlarged and not cancerous. The prostate is a walnut-shaped gland that is part of the male reproductive system. The gland surrounds the urethra at the neck of the bladder. The bladder neck is the area where the urethra joins the bladder. The prostate goes through two main periods of growth. The first occurs early in puberty, when the prostate doubles in size. The second phase of growth begins around age 25 and continues during most of a mans life. Benign prostatic hyperplasia often occurs with the second phase of growth. As the prostate enlarges, the gland presses against and pinches the urethra. The bladder wall becomes thicker. Eventually, the bladder may weaken and lose the ability to empty completely, leaving some urine in the bladder. More information is provided in the NIDDK health topic, Prostate Enlargement: Benign Prostatic Hyperplasia. Urethral stricture. A urethral stricture is a narrowing or closure of the urethra. Causes of urethral stricture include inflammation and scar tissue from surgery, disease, recurring UTIs, or injury. In men, a urethral stricture may result from prostatitis, scarring after an injury to the penis or perineum, or surgery for benign prostatic hyperplasia and prostate cancer. Prostatitis is a frequently painful condition that involves inflammation of the prostate and sometimes the areas around the prostate. The perineum is the area between the anus and the sex organs. Since men have a longer urethra than women, urethral stricture is more common in men than women.1 More information is provided in the NIDDK health topic, Prostatitis: Inflammation of the Prostate. Surgery to correct pelvic organ prolapse, such as cystocele and rectocele, and urinary incontinence can also cause urethral stricture. The urethral stricture often gets better a few weeks after surgery. Urethral stricture and acute or chronic urinary retention may occur when the muscles surrounding the urethra do not relax. This condition happens mostly in women. Urinary tract stones. Urinary tract stones develop from crystals that form in the urine and build up on the inner surfaces of the kidneys, ureters, or bladder. The stones formed or lodged in the bladder may block the opening to the urethra. Cystocele. A cystocele is a bulging of the bladder into the vagina. A cystocele occurs when the muscles and supportive tissues between a womans bladder and vagina weaken and stretch, letting the bladder sag from its normal position and bulge into the vagina. The abnormal position of the bladder may cause it to press against and pinch the urethra. More information is provided in the NIDDK health topic, Cystocele. Rectocele. A rectocele is a bulging of the rectum into the vagina. A rectocele occurs when the muscles and supportive tissues between a womans rectum and vagina weaken and stretch, letting the rectum sag from its normal position and bulge into the vagina. The abnormal position of the rectum may cause it to press against and pinch the urethra. Constipation. Constipation is a condition in which a person has fewer than three bowel movements a week or has bowel movements with stools that are hard, dry, and small, making them painful or difficult to pass. A person with constipation may feel bloated or have pain in the abdomen the area between the chest and hips. Some people with constipation often have to strain to have a bowel movement. Hard stools in the rectum may push against the bladder and urethra, causing the urethra to be pinched, especially if a rectocele is present. More information is provided in the NIDDK health topic, Constipation. Tumors and cancers. Tumors and cancerous tissues in the bladder or urethra can gradually expand and obstruct urine flow by pressing against and pinching the urethra or by blocking the bladder outlet. Tumors may be cancerous or noncancerous. Nerve Problems Urinary retention can result from problems with the nerves that control the bladder and sphincters. Many events or conditions can interfere with nerve signals between the brain and the bladder and sphincters. If the nerves are damaged, the brain may not get the signal that the bladder is full. Even when a person has a full bladder, the bladder muscles that squeeze urine out may not get the signal to push, or the sphincters may not get the signal to relax. People of all ages can have nerve problems that interfere with bladder function. Some of the most common causes of nerve problems include - vaginal childbirth - brain or spinal cord infections or injuries - diabetes - stroke - multiple sclerosis - pelvic injury or trauma - heavy metal poisoning In addition, some children are born with defects that affect the coordination of nerve signals among the bladder, spinal cord, and brain. Spina bifida and other birth defects that affect the spinal cord can lead to urinary retention in newborns. More information is provided in the NIDDK health topics, Nerve Disease and Bladder Control and Urine Blockage in Newborns. Many patients have urinary retention right after surgery. During surgery, anesthesia is often used to block pain signals in the nerves, and fluid is given intravenously to compensate for possible blood loss. The combination of anesthesia and intravenous (IV) fluid may result in a full bladder with impaired nerve function, causing urinary retention. Normal bladder nerve function usually returns once anesthesia wears off. The patient will then be able to empty the bladder completely. Medications Various classes of medications can cause urinary retention by interfering with nerve signals to the bladder and prostate. These medications include - antihistamines to treat allergies - cetirizine (Zyrtec) - chlorpheniramine (Chlor-Trimeton) - diphenhydramine (Benadryl) - fexofenadine (Allegra) - anticholinergics/antispasmodics to treat stomach cramps, muscle spasms, and urinary incontinence - hyoscyamine (Levbid) - oxybutynin (Ditropan) - propantheline (Pro-Banthine) - tolterodine (Detrol) - tricyclic antidepressants to treat anxiety and depression - amitriptyline (Elavil) - doxepin (Adapin) - imipramine (Tofranil) - nortriptyline (Pamelor) Other medications associated with urinary retention include - decongestants - ephedrine - phenylephrine - pseudoephedrine - nifedipine (Procardia), a medication to treat high blood pressure and chest pain - carbamazepine (Tegretol), a medication to control seizures in people with epilepsy - cyclobenzaprine (Flexeril), a muscle relaxant medication - diazepam (Valium), a medication used to relieve anxiety, muscle spasms, and seizures - nonsteroidal anti-inflammatory drugs - amphetamines - opioid analgesics Over-the-counter cold and allergy medications that contain decongestants, such as pseudoephedrine, and antihistamines, such as diphenhydramine, can increase symptoms of urinary retention in men with prostate enlargement. Weakened Bladder Muscles Aging is a common cause of weakened bladder muscles. Weakened bladder muscles may not contract strongly enough or long enough to empty the bladder completely, resulting in urinary retention.\\n<question>What to do for Urinary Retention ?<answer>- Urinary retention is the inability to empty the bladder completely. - Urinary retention can be acute or chronic. - Urinary retention can result from - obstruction of the urethra - nerve problems - medications - weakened bladder muscles - The symptoms of acute urinary retention may include the following and require immediate medical attention: - inability to urinate - painful, urgent need to urinate - pain or discomfort in the lower abdomen - bloating of the lower abdomen - The symptoms of chronic urinary retention may include - urinary frequencyurination eight or more times a day - trouble beginning a urine stream - a weak or an interrupted urine stream - an urgent need to urinate with little success when trying to urinate - feeling the need to urinate after finishing urination - mild and constant discomfort in the lower abdomen and urinary tract - A health care provider diagnoses acute or chronic urinary retention with - a physical exam - postvoid residual measurement - A health care provider may use the following medical tests to help determine the cause of urinary retention: - cystoscopy - computerized tomography (CT) scans - urodynamic tests - electromyography - A health care provider treats urinary retention with - bladder drainage - urethral dilation - urethral stents - prostate medications - surgery - Complications of urinary retention and its treatments may include - urinary tract infections (UTIs) - bladder damage - kidney damage - urinary incontinence after prostate, tumor, or cancer surgery - People can prevent urinary retention before it occurs by treating some of the potential causes.\\n<question>What are the treatments for Urinary Retention ?<answer>Complications of urinary retention and its treatments may include - UTIs - bladder damage - kidney damage - urinary incontinence after prostate, tumor, or cancer surgery UTIs. Urine is normally sterile, and the normal flow of urine usually prevents bacteria from infecting the urinary tract. With urinary retention, the abnormal urine flow gives bacteria at the opening of the urethra a chance to infect the urinary tract. Bladder damage. If the bladder becomes stretched too far or for long periods, the muscles may be permanently damaged and lose their ability to contract. Kidney damage. In some people, urinary retention causes urine to flow backward into the kidneys. This backward flow, called reflux, may damage or scar the kidneys. Urinary incontinence after prostate, tumor, or cancer surgery. Transurethral surgery to treat benign prostatic hyperplasia may result in urinary incontinence in some men. This problem is often temporary. Most men recover their bladder control in a few weeks or months after surgery. Surgery to remove tumors or cancerous tissue in the bladder, prostate, or urethra may also result in urinary incontinence.\\n<question>What is (are) Sarcoidosis ?<answer>Sarcoidosis is an inflammatory disease characterized by the development and growth of tiny lumps of cells called granulomas. If these tiny granulomas grow and clump together in an organ, they can affect how the organ works, leading to the symptoms of sarcoidosis. The granulomas can be found in almost any part of the body, but occur more commonly in the lungs, lymph nodes, eyes, skin, and liver. Although no one is sure what causes sarcoidosis, it is thought by most scientists to be a disorder of the immune system. The course of the disease varies from person to person. It often goes away on its own, but in some people symptoms of sarcoidosis may last a lifetime. For those who need treatment, anti-inflammatory medications and immunosuppressants can help.\\n<question>What are the symptoms of Sarcoidosis ?<answer>Many people who have sarcoidosis have no signs or symptoms or mild ones. Often, the disease is found when a chest x ray is done for another reason (for example, to diagnose pneumonia). The signs and symptoms of sarcoidosis vary depending on which organs are affected. Signs and symptoms also may vary depending on your gender, age, and ethnic background. (For more information, go to \"Who Is at Risk for Sarcoidosis?\") Common Signs and Symptoms In both adults and children, sarcoidosis most often affects the lungs. If granulomas (inflamed lumps) form in your lungs, you may wheeze, cough, feel short of breath, or have chest pain. Or, you may have no symptoms at all. Some people who have sarcoidosis feel very tired, uneasy, or depressed. Night sweats and weight loss are common symptoms of the disease. Common signs and symptoms in children are fatigue (tiredness), loss of appetite, weight loss, bone and joint pain, and anemia. Children who are younger than 4 years old may have a distinct form of sarcoidosis. It may cause enlarged lymph nodes in the chest (which can be seen on chest x-ray pictures), skin lesions, and eye swelling or redness. Other Signs and Symptoms Sarcoidosis may affect your lymph nodes. The disease can cause enlarged lymph nodes that feel tender. Sarcoidosis usually affects the lymph nodes in your neck and chest. However, the disease also may affect the lymph nodes under your chin, in your armpits, or in your groin. Sarcoidosis can cause lumps, ulcers (sores), or areas of discolored skin. These areas may itch, but they don\\'t hurt. These signs tend to appear on your back, arms, legs, and scalp. Sometimes they appear near your nose or eyes. These signs usually last a long time. Sarcoidosis may cause a more serious skin condition called lupus pernio. Disfiguring skin sores may affect your nose, nasal passages, cheeks, ears, eyelids, and fingers. These sores tend to be ongoing. They can return after treatment is over. Sarcoidosis also can cause eye problems. If you have sarcoidosis, having an annual eye exam is important. If you have changes in your vision and can\\'t see as clearly or can\\'t see color, call 911 or have someone drive you to the emergency room. You should call your doctor if you have any new eye symptoms, such as burning, itching, tearing, pain, or sensitivity to light. Signs and symptoms of sarcoidosis also may include an enlarged liver, spleen, or salivary glands. Although less common, sarcoidosis can affect the heart and brain. This can cause many symptoms, such as abnormal heartbeats, shortness of breath, headaches, and vision problems. If sarcoidosis affects the heart or brain, serious complications can occur. Lofgren\\'s Syndrome Lofgren\\'s syndrome is a classic set of signs and symptoms that occur in some people when they first have sarcoidosis. Signs and symptoms may include: Fever. This symptom only occurs in some people. Enlarged lymph nodes (which can be seen on a chest x ray). Arthritis, usually in the ankles. This symptom is more common in men than women. Erythema nodosum. This is a rash of red or reddish-purple bumps on your ankles and shins. The rash may be warm and tender to the touch. This symptom is more common in women than men. Sarcoidosis Signs and Symptoms\\n<question>What are the treatments for Sarcoidosis ?<answer>Not everyone who has sarcoidosis needs treatment. Sometimes the disease goes away on its own. Whether you need treatment and what type of treatment you need depend on your signs and symptoms, which organs are affected, and whether those organs are working well. If the disease affects certain organssuch as your eyes, heart, or brainyou\\'ll need treatment even if you don\\'t have any symptoms. In either case, whether you have symptoms or not, you should see your doctor for ongoing care. He or she will want to check to make sure that the disease isn\\'t damaging your organs. For example, you may need routine lung function tests to make sure that your lungs are working well. If the disease isn\\'t worsening, your doctor may watch you closely to see whether the disease goes away on its own. If the disease does start to get worse, your doctor can prescribe treatment. The goals of treatment include: Relieving symptoms Improving organ function Controlling inflammation and reducing the size of granulomas (inflamed lumps) Preventing pulmonary fibrosis (lung scarring) if your lungs are affected Your doctor may prescribe topical treatments and/or medicines to treat the disease. Medicines Prednisone Prednisone, a type of steroid, is the main treatment for sarcoidosis. This medicine reduces inflammation. In most people, prednisone relieves symptoms within a couple of months. Although most people need to take prednisone for 12 months or longer, your doctor may lower the dose within a few months after you start the medicine. Long-term use of prednisone, especially at high doses, can cause serious side effects. Work with your doctor to decide whether the benefits of this medicine outweigh the risks. If your doctor prescribes this treatment, he or she will find the lowest dose that controls your disease. When you stop taking prednisone, you should cut back slowly (as your doctor advises). This will help prevent flareups of sarcoidosis. Cutting back slowly also allows your body to adjust to not having the medicine. If a relapse or flareup occurs after you stop taking prednisone, you may need a second round of treatment. If you remain stable for more than 1 year after stopping this treatment, the risk of relapse is low. Other Medicines Other medicines, besides prednisone, also are used to treat sarcoidosis. Examples include: Hydroxychloroquine or chloroquine (known as antimalarial medicines). These medicines work best for treating sarcoidosis that affects the skin or brain. Your doctor also may prescribe an antimalarial if you have a high level of calcium in your blood due to sarcoidosis. Medicines that suppress the immune system, such as methotrexate, azathioprine, or leflunomide. These medicines work best for treating sarcoidosis that affects your lungs, eyes, skin, or joints. Your doctor may prescribe these medicines if your sarcoidosis worsens while you\\'re taking prednisone or if you can\\'t handle prednisone\\'s side effects. If you have Lofgren\\'s syndrome with pain or fever, your doctor may prescribe nonsteroidal anti-inflammatory drugs (NSAIDs), such as ibuprofen. If you\\'re wheezing and coughing, you may need inhaled medicine to help open your airways. You take inhaled medicine using an inhaler. This device allows the medicine to go straight to your lungs. Anti-tumor necrosis factor drugs, originally developed to treat arthritis, are being studied to treat sarcoidosis. Ongoing Research Researchers continue to look for new and better treatments for sarcoidosis. They\\'re currently studying treatments aimed at the immune system. Researchers also are studying antibiotics as a possible treatment for sarcoidosis that affects the skin. For more information about ongoing research, go to the Clinical Trials section of this article.\\n<question>What is (are) Sarcoidosis ?<answer>Espaol Sarcoidosis (sar-koy-DO-sis) is a disease of unknown cause that leads to inflammation. This disease affects your bodys organs. Normally, your immune system defends your body against foreign or harmful substances. For example, it sends special cells to protect organs that are in danger. These cells release chemicals that recruit other cells to isolate and destroy the harmful substance. Inflammation occurs during this process. Once the harmful substance is gone, the cells and the inflammation go away. In people who have sarcoidosis, the inflammation doesn\\'t go away. Instead, some of the immune system cells cluster to form lumps called granulomas (gran-yu-LO-mas) in various organs in your body. Overview Sarcoidosis can affect any organ in your body. However, it\\'s more likely to affect some organs than others. The disease usually starts in the lungs, skin, and/or lymph nodes (especially the lymph nodes in your chest). Also, the disease often affects the eyes and liver. Although less common, sarcoidosis can affect the heart and brain, leading to serious complications. If many granulomas form in an organ, they can affect how the organ works. This can cause signs and symptoms. Signs and symptoms vary depending on which organs are affected. Many people who have sarcoidosis have no signs or symptoms or mild ones. Lofgren\\'s syndrome is a classic set of signs and symptoms that is typical in some people who have sarcoidosis. Lofgren\\'s syndrome may cause fever, enlarged lymph nodes, arthritis (usually in the ankles), and/or erythema nodosum (er-ih-THE-ma no-DO-sum). Erythema nodosum is a rash of red or reddish-purple bumps on your ankles and shins. The rash may be warm and tender to the touch. Treatment for sarcoidosis varies depending on which organs are affected. Your doctor may prescribe topical treatments and/or medicines to treat the disease. Not everyone who has sarcoidosis needs treatment. Outlook The outlook for sarcoidosis varies. Many people recover from the disease with few or no long-term problems. More than half of the people who have sarcoidosis have remission within 3 years of diagnosis. Remission means the disease isn\\'t active, but it can return. Two-thirds of people who have the disease have remission within 10 years of diagnosis. People who have Lofgren\\'s syndrome usually have remission. Relapse (return of the disease) 1 or more years after remission occurs in less than 5 percent of patients. Sarcoidosis leads to organ damage in about one-third of the people diagnosed with the disease. Damage may occur over many years and involve more than one organ. Rarely, sarcoidosis can be fatal. Death usually is the result of problems with the lungs, heart, or brain. Poor outcomes are more likely in people who have advanced disease and show little improvement from treatment. Certain people are at higher risk for poor outcomes from chronic (long-term) sarcoidosis. This includes people who have lung scarring, heart or brain complications, or lupus pernio (LU-pus PUR-ne-o). Lupus pernio is a serious skin condition that sarcoidosis may cause. Research is ongoing for new and better treatments for sarcoidosis.\\n<question>What are the treatments for Sleep Apnea ?<answer>Sleep apnea is treated with lifestyle changes, mouthpieces, breathing devices, and surgery. Medicines typically aren\\'t used to treat the condition. The goals of treating sleep apnea are to: Restore regular breathing during sleep Relieve symptoms such as loud snoring and daytime sleepiness Treatment may improve other medical problems linked to sleep apnea, such as high blood pressure. Treatment also can reduce your risk for heart disease,stroke, and diabetes. If you have sleep apnea, talk with your doctor or sleep specialist about the treatment options that will work best for you. Lifestyle changes and/or mouthpieces may relieve mild sleep apnea. People who have moderate or severe sleep apnea may need breathing devices or surgery. If you continue to have daytime sleepiness despite treatment, your doctor may ask whether you\\'re getting enough sleep. (Adults should get at least 7 to 8 hours of sleep; children and teens need more. For more information, go to the Health Topics Sleep Deprivation and Deficiency article.) If treatment and enough sleep don\\'t relieve your daytime sleepiness, your doctor will consider other treatment options. Lifestyle Changes If you have mild sleep apnea, some changes in daily activities or habits might be all the treatment you need. Avoid alcohol and medicines that make you sleepy. They make it harder for your throat to stay open while you sleep. Lose weight if you\\'re overweight or obese. Even a little weight loss can improve your symptoms. Sleep on your side instead of your back to help keep your throat open. You can sleep with special pillows or shirts that prevent you from sleeping on your back. Keep your nasal passages open at night with nasal sprays or allergy medicines, if needed. Talk with your doctor about whether these treatments might help you. If you smoke, quit. Talk with your doctor about programs and products that can help you quit smoking. Mouthpieces A mouthpiece, sometimes called an oral appliance, may help some people who have mild sleep apnea. Your doctor also may recommend a mouthpiece if you snore loudly but don\\'t have sleep apnea. A dentist or orthodontist can make a custom-fit plastic mouthpiece for treating sleep apnea. (An orthodontist specializes in correcting teeth or jaw problems.) The mouthpiece will adjust your lower jaw and your tongue to help keep your airways open while you sleep. If you use a mouthpiece, tell your doctor if you have discomfort or pain while using the device. You may need periodic office visits so your doctor can adjust your mouthpiece to fit better. Breathing Devices CPAP (continuous positive airway pressure) is the most common treatment for moderate to severe sleep apnea in adults. A CPAP machine uses a mask that fits over your mouth and nose, or just over your nose. The machine gently blows air into your throat. The pressure from the air helps keep your airway open while you sleep. Treating sleep apnea may help you stop snoring. But not snoring doesn\\'t mean that you no longer have sleep apnea or can stop using CPAP. Your sleep apnea will return if you stop using your CPAP machine or dont use it correctly. Usually, a technician will come to your home to bring the CPAP equipment. The technician will set up the CPAP machine and adjust it based on your doctor\\'s prescription. After the initial setup, you may need to have the CPAP adjusted from time to time for the best results. CPAP treatment may cause side effects in some people. These side effects include a dry or stuffy nose, irritated skin on your face, dry mouth, and headaches. If your CPAP isn\\'t adjusted properly, you may get stomach bloating and discomfort while wearing the mask. If you\\'re having trouble with CPAP side effects, work with your sleep specialist, his or her nursing staff, and the CPAP technician. Together, you can take steps to reduce the side effects. For example, the CPAP settings or size/fit of the mask might need to be adjusted. Adding moisture to the air as it flows through the mask or using nasal spray can help relieve a dry, stuffy, or runny nose. There are many types of CPAP machines and masks. Tell your doctor if you\\'re not happy with the type you\\'re using. He or she may suggest switching to a different type that might work better for you. People who have severe sleep apnea symptoms generally feel much better once they begin treatment with CPAP. Surgery Some people who have sleep apnea might benefit from surgery. The type of surgery and how well it works depend on the cause of the sleep apnea. Surgery is done to widen breathing passages. It usually involves shrinking, stiffening, or removing excess tissue in the mouth and throat or resetting the lower jaw. Surgery to shrink or stiffen excess tissue is done in a doctor\\'s office or a hospital. Shrinking tissue may involve small shots or other treatments to the tissue. You may need a series of treatments to shrink the excess tissue. To stiffen excess tissue, the doctor makes a small cut in the tissue and inserts a piece of stiff plastic. Surgery to remove excess tissue is done in a hospital. You\\'re given medicine to help you sleep during the surgery. After surgery, you may have throat pain that lasts for 1 to 2 weeks. Surgery to remove the tonsils, if they\\'re blocking the airway, might be helpful for some children. Your child\\'s doctor may suggest waiting some time to see whether these tissues shrink on their own. This is common as small children grow.\\n<question>What are the symptoms of Sleep Apnea ?<answer>Major Signs and Symptoms One of the most common signs of obstructive sleep apnea is loud and chronic (ongoing) snoring. Pauses may occur in the snoring. Choking or gasping may follow the pauses. The snoring usually is loudest when you sleep on your back; it might be less noisy when you turn on your side. You might not snore every night. Over time, however, the snoring can happen more often and get louder. You\\'re asleep when the snoring or gasping happens. You likely won\\'t know that you\\'re having problems breathing or be able to judge how severe the problem is. A family member or bed partner often will notice these problems before you do. Not everyone who snores has sleep apnea. Another common sign of sleep apnea is fighting sleepiness during the day, at work, or while driving. You may find yourself rapidly falling asleep during the quiet moments of the day when you\\'re not active. Even if you don\\'t have daytime sleepiness, talk with your doctor if you have problems breathing during sleep. Other Signs and Symptoms Others signs and symptoms of sleep apnea include: Morning headaches Memory or learning problems and not being able to concentrate Feeling irritable, depressed, or having mood swings or personality changes Waking up frequently to urinate Dry mouth or sore throat when you wake up In children, sleep apnea can cause hyperactivity, poor school performance, and angry or hostile behavior. Children who have sleep apnea also may breathe through their mouths instead of their noses during the day.\\n<question>Who is at risk for Sleep Apnea? ?<answer>Obstructive sleep apnea is a common condition. About half of the people who have this condition are overweight. Men are more likely than women to have sleep apnea. Although the condition can occur at any age, the risk increases as you get older. A family history of sleep apnea also increases your risk for the condition. People who have small airways in their noses, throats, or mouths are more likely to have sleep apnea. Small airways might be due to the shape of these structures or allergies or other conditions that cause congestion. Small children might have enlarged tonsil tissues in their throats. Enlarged tonsil tissues raise a childs risk for sleep apnea. Overweight children also might be at increased risk for sleep apnea. About half of the people who have sleep apnea also have high blood pressure. Sleep apnea also is linked to smoking, metabolic syndrome, diabetes, and risk factors for stroke and heart failure. Race and ethnicity might play a role in the risk of developing sleep apnea. However, more research is needed.\\n<question>What is the outlook for Sleep Apnea ?<answer>Untreated, sleep apnea can be life threatening. Excessive daytime sleepiness can cause people to fall asleep at inappropriate times, such as while driving. Sleep apnea also appears to put individuals at risk for stroke and transient ischemic attacks (TIAs, also known as mini-strokes), and is associated with coronary heart disease, heart failure, irregular heartbeat, heart attack, and high blood pressure. Although there is no cure for sleep apnea, recent studies show that successful treatment can reduce the risk of heart and blood pressure problems.\\n<question>How to diagnose Langerhans cell histiocytosis ?<answer>How is Langerhans cell histiocytosis diagnosed? Testing for Langerhans cell histiocytosis (LCH) may include bronchoscopy with biopsy, x-ray, skin biopsy, bone marrow biopsy, complete blood count, and pulmonary function tests. Because LCH is sometimes associated with cancer, CT scans and a biopsy may be done to rule out possible cancer. Additional information about the diagnosis of LCH can be viewed on the Histiocytosis Association\\'s website.\\n<question>What causes Langerhans cell histiocytosis ?<answer>What causes Langerhans cell histiocytosis? The cause of Langerhans cell histiocytosis is unknown. It may be triggered by an unusual reaction of the immune system to something commonly found in the environment. It is not considered to be an infection or cancer. It is not known to be hereditary or communicable.\\n<question>What are the treatments for Langerhans cell histiocytosis ?<answer>How might Langerhans cell histiocytosis be treated? Treatment for Langerhans cell histiocytosis (LCH) depends upon the individual patient; it may differ depending on the type and severity of the condition as well as what part(s) of the body are affected. In some cases, the disease will regress without any treatment at all. In other cases, limited surgery and small doses of radiation therapy or chemotherapy will be needed, depending on the extent of the disease. Treatment is planned after complete evaluation of the patient, with the goal of using as little treatment as possible to keep the disease under control. Detailed information about the treatment of LCH can be viewed on Medscape Reference\\'s Web site.\\n<question>What is (are) Langerhans cell histiocytosis ?<answer>Langerhans cell histiocytosis is a disorder in which excess immune system cells called Langerhans cells build up in the body. Langerhans cells, which help regulate the immune system, are normally found throughout the body, especially in the skin, lymph nodes, spleen, lungs, liver, and bone marrow. In Langerhans cell histiocytosis, excess immature Langerhans cells usually form tumors called granulomas. However, Langerhans cell histiocytosis is not generally considered to be a form of cancer. In approximately 80 percent of affected individuals, one or more granulomas develop in the bones, causing pain and swelling. The granulomas, which usually occur in the skull or the long bones of the arms or legs, may cause the bone to fracture. Granulomas also frequently occur in the skin, appearing as blisters, reddish bumps, or rashes which can be mild to severe. The pituitary gland may also be affected; this gland is located at the base of the brain and produces hormones that control many important body functions. Without hormone supplementation, affected individuals may experience delayed or absent puberty or an inability to have children (infertility). In addition, pituitary gland damage may result in the production of excessive amounts of urine (diabetes insipidus) and dysfunction of another gland called the thyroid. Thyroid dysfunction can affect the rate of chemical reactions in the body (metabolism), body temperature, skin and hair texture, and behavior. In 15 to 20 percent of cases, Langerhans cell histiocytosis affects the lungs, liver, or blood-forming (hematopoietic) system; damage to these organs and tissues may be life-threatening. Lung involvement, which appears as swelling of the small airways (bronchioles) and blood vessels of the lungs, results in stiffening of the lung tissue, breathing problems, and increased risk of infection. Hematopoietic involvement, which occurs when the Langerhans cells crowd out blood-forming cells in the bone marrow, leads to a general reduction in the number of blood cells (pancytopenia). Pancytopenia results in fatigue due to low numbers of red blood cells (anemia), frequent infections due to low numbers of white blood cells (neutropenia), and clotting problems due to low numbers of platelets (thrombocytopenia). Other signs and symptoms that may occur in Langerhans cell histiocytosis, depending on which organs and tissues have Langerhans cell deposits, include swollen lymph nodes, abdominal pain, yellowing of the skin and whites of the eyes (jaundice), delayed puberty, protruding eyes, dizziness, irritability, and seizures. About 1 in 50 affected individuals experience deterioration of neurological function (neurodegeneration). Langerhans cell histiocytosis is often diagnosed in childhood, usually between ages 2 and 3, but can appear at any age. Most individuals with adult-onset Langerhans cell histiocytosis are current or past smokers; in about two-thirds of adult-onset cases the disorder affects only the lungs. The severity of Langerhans cell histiocytosis, and its signs and symptoms, vary widely among affected individuals. Certain presentations or forms of the disorder were formerly considered to be separate diseases. Older names that were sometimes used for forms of Langerhans cell histiocytosis include eosinophilic granuloma, Hand-Schller-Christian disease, and Letterer-Siwe disease. In many people with Langerhans cell histiocytosis, the disorder eventually goes away with appropriate treatment. It may even disappear on its own, especially if the disease occurs only in the skin. However, some complications of the condition, such as diabetes insipidus or other effects of tissue and organ damage, may be permanent.\\n<question>What to do for Diverticular Disease ?<answer>- Diverticular disease is a condition that occurs when a person has problems from small pouches, or sacs, that have formed and pushed outward through weak spots in the colon wall. The problems that occur with diverticular disease include diverticulitis and diverticular bleeding. - When a person has diverticula that do not cause diverticulitis or diverticular bleeding, the condition is called diverticulosis. - Scientists are not certain what causes diverticulosis and diverticular disease. - Although diverticular disease is generally thought to be a condition found in older adults, it is becoming more common in people younger than age 50, most of whom are male. - Health care providers often find diverticulosis during a routine x ray or a colonoscopy, a test used to look inside the rectum and entire colon to screen for colon cancer or polyps or to evaluate the source of rectal bleeding. - To diagnose diverticular disease, a health care provider may schedule one or more of the following tests: blood test; computerized tomography (CT) scan; lower gastrointestinal (GI) series; colonoscopy. - A health care provider may treat the symptoms of diverticulosis with a high-fiber diet or fiber supplements, medications, and possibly probiotics. - Diverticular bleeding is rare. Bleeding can be severe; however, it may stop by itself and not require treatment. If the bleeding does not stop, abdominal surgery with a colon resection may be necessary. - Diverticulitis with mild symptoms and no complications usually requires a person to rest, take oral antibiotics, and be on a liquid diet for a period of time. - Diverticulitis can attack suddenly and cause complications, such as an abscess, a perforation, peritonitis, a fistula, or intestinal obstruction. These complications need to be treated to prevent them from getting worse and causing serious illness.\\n<question>How to diagnose Diverticular Disease ?<answer>Diverticulosis Health care providers often find diverticulosis during a routine x ray or a colonoscopy, a test used to look inside the rectum and entire colon to screen for colon cancer or polyps or to evaluate the source of rectal bleeding. Diverticular Disease Based on symptoms and severity of illness, a person may be evaluated and diagnosed by a primary care physician, an emergency department physician, a surgeon, or a gastroenterologista doctor who specializes in digestive diseases. The health care provider will ask about the persons health, symptoms, bowel habits, diet, and medications, and will perform a physical exam, which may include a rectal exam. A rectal exam is performed in the health care providers office; anesthesia is not needed. To perform the exam, the health care provider asks the person to bend over a table or lie on one side while holding the knees close to the chest. The health care provider slides a gloved, lubricated finger into the rectum. The exam is used to check for pain, bleeding, or a blockage in the intestine. The health care provider may schedule one or more of the following tests: - Blood test. A blood test involves drawing a persons blood at a health care providers office, a commercial facility, or a hospital and sending the sample to a lab for analysis. The blood test can show the presence of inflammation or anemiaa condition in which red blood cells are fewer or smaller than normal, which prevents the bodys cells from getting enough oxygen. - Computerized tomography (CT) scan. A CT scan of the colon is the most common test used to diagnose diverticular disease. CT scans use a combination of x rays and computer technology to create three-dimensional (3D) images. For a CT scan, the person may be given a solution to drink and an injection of a special dye, called contrast medium. CT scans require the person to lie on a table that slides into a tunnel-shaped device where the x rays are taken. The procedure is performed in an outpatient center or a hospital by an x-ray technician, and the images are interpreted by a radiologista doctor who specializes in medical imaging. Anesthesia is not needed. CT scans can detect diverticulosis and confirm the diagnosis of diverticulitis. - Lower gastrointestinal (GI) series. A lower GI series is an x-ray exam that is used to look at the large intestine. The test is performed at a hospital or an outpatient center by an x-ray technician, and the images are interpreted by a radiologist. Anesthesia is not needed. The health care provider may provide written bowel prep instructions to follow at home before the test. The person may be asked to follow a clear liquid diet for 1 to 3 days before the procedure. A laxative or enema may be used before the test. A laxative is medication that loosens stool and increases bowel movements. An enema involves flushing water or laxative into the rectum using a special squirt bottle. These medications cause diarrhea, so the person should stay close to a bathroom during the bowel prep. - For the test, the person will lie on a table while the radiologist inserts a flexible tube into the persons anus. The colon is filled with barium, making signs of diverticular disease show up more clearly on x rays. - For several days, traces of barium in the large intestine can cause stools to be white or light colored. Enemas and repeated bowel movements may cause anal soreness. A health care provider will provide specific instructions about eating and drinking after the test. - Colonoscopy. The test is performed at a hospital or an outpatient center by a gastroenterologist. Before the test, the persons health care provider will provide written bowel prep instructions to follow at home. The person may need to follow a clear liquid diet for 1 to 3 days before the test. The person may also need to take laxatives and enemas the evening before the test. - In most cases, light anesthesia, and possibly pain medication, helps people relax for the test. The person will lie on a table while the gastroenterologist inserts a flexible tube into the anus. A small camera on the tube sends a video image of the intestinal lining to a computer screen. The test can show diverticulosis and diverticular disease. - Cramping or bloating may occur during the first hour after the test. Driving is not permitted for 24 hours after the test to allow the anesthesia time to wear off. Before the appointment, people should make plans for a ride home. Full recovery is expected by the next day, and people should be able to go back to their normal diet.\\n<question>What are the treatments for Diverticular Disease ?<answer>A health care provider may treat the symptoms of diverticulosis with a high-fiber diet or fiber supplements, medications, and possibly probiotics. Treatment for diverticular disease varies, depending on whether a person has diverticulitis or diverticular bleeding. Diverticulosis High-fiber diet. Studies have shown that a high-fiber diet can help prevent diverticular disease in people who already have diverticulosis.2 A health care provider may recommend a slow increase in dietary fiber to minimize gas and abdominal discomfort. For more information about fiber-rich foods, see Eating, Diet, and Nutrition. Fiber supplements. A health care provider may recommend taking a fiber product such as methylcellulose (Citrucel) or psyllium (Metamucil) one to three times a day. These products are available as powders, pills, or wafers and provide 0.5 to 3.5 grams of fiber per dose. Fiber products should be taken with at least 8 ounces of water. Medications. A number of studies suggest the medication mesalazine (Asacol), given either continuously or in cycles, may be effective at reducing abdominal pain and GI symptoms of diverticulosis. Research has also shown that combining mesalazine with the antibiotic rifaximin (Xifaxan) can be significantly more effective than using rifaximin alone to improve a persons symptoms and maintain periods of remission, which means being free of symptoms.4 Probiotics. Although more research is needed, probiotics may help treat the symptoms of diverticulosis, prevent the onset of diverticulitis, and reduce the chance of recurrent symptoms. Probiotics are live bacteria, like those normally found in the GI tract. Probiotics can be found in dietary supplementsin capsules, tablets, and powdersand in some foods, such as yogurt. To help ensure coordinated and safe care, people should discuss their use of complementary and alternative medical practices, including their use of dietary supplements and probiotics, with their health care provider. Read more at www.nccam.nih.gov/health/probiotics. Tips for talking with health care providers are available at www.nccam.nih.gov/timetotalk. Diverticular Bleeding Diverticular bleeding is rare. Bleeding can be severe; however, it may stop by itself and not require treatment. A person who has bleeding from the rectumeven a small amountshould see a health care provider right away. To treat the bleeding, a colonoscopy may be performed to identify the location of and stop the bleeding. A CT scan or angiogram also may be used to identify the site of the bleeding. A traditional angiogram is a special kind of x ray in which a thin, flexible tube called a catheter is threaded through a large artery, often from the groin, to the area of bleeding. Contrast medium is injected through the catheter so the artery shows up more clearly on the x ray. The procedure is performed in a hospital or an outpatient center by an x-ray technician, and the images are interpreted by a radiologist. Anesthesia is not needed, though a sedative may be given to lessen anxiety during the procedure. If the bleeding does not stop, abdominal surgery with a colon resection may be necessary. In a colon resection, the surgeon removes the affected part of the colon and joins the remaining ends of the colon together; general anesthesia is used. A blood transfusion may be needed if the person has lost a significant amount of blood. Diverticulitis Diverticulitis with mild symptoms and no complications usually requires a person to rest, take oral antibiotics, and be on a liquid diet for a period of time. If symptoms ease after a few days, the health care provider will recommend gradually adding solid foods back into the diet. Severe cases of diverticulitis with acute pain and complications will likely require a hospital stay. Most cases of severe diverticulitis are treated with intravenous (IV) antibiotics and a few days without food or drink to help the colon rest. If the period without food or drink is longer, the person may be given parenteral nutritiona method of providing an IV liquid food mixture through a special tube in the chest. The mixture contains proteins, carbohydrates, fats, vitamins, and minerals.\\n<question>What is (are) Diverticular Disease ?<answer>Diverticular disease is a condition that occurs when a person has problems from small pouches, or sacs, that have formed and pushed outward through weak spots in the colon wall. Each pouch is called a diverticulum. Multiple pouches are called diverticula. The colon is part of the large intestine. The large intestine absorbs water from stool and changes it from a liquid to a solid form. Diverticula are most common in the lower part of the colon, called the sigmoid colon. The problems that occur with diverticular disease include diverticulitis and diverticular bleeding. Diverticulitis occurs when the diverticula become inflamed, or irritated and swollen, and infected. Diverticular bleeding occurs when a small blood vessel within the wall of a diverticulum bursts.\\n<question>How to diagnose Klinefelter syndrome ?<answer>How is Klinefelter syndrome diagnosed? A diagnosis of Klinefelter syndrome is often suspected based on the presence of characteristic signs and symptoms. Additional testing can then be ordered to confirm the diagnosis. This generally includes a chromosomal analysis (called a karyotype). It is also possible to diagnosis Klinefelter syndrome before birth through chorionic villous sampling or amniocentesis.\\n<question>Is Klinefelter syndrome inherited ?<answer>Is Klinefelter syndrome inherited? Klinefelter syndrome is not inherited, but usually occurs as a random event during the formation of reproductive cells (eggs and sperm). An error in cell division called nondisjunction can result in reproductive cells with an abnormal number of chromosomes. For example, an egg or sperm cell may gain one or more extra copies of the X chromosome as a result of nondisjunction. If one of these reproductive cells contributes to the genetic makeup of a child, the child will have one or several extra X chromosomes in each of the body\\'s cells.\\n<question>What are the genetic changes related to Klinefelter syndrome ?<answer>Klinefelter syndrome is a condition related to the X and Y chromosomes (the sex chromosomes). People typically have two sex chromosomes in each cell: females have two X chromosomes (46,XX), and males have one X and one Y chromosome (46,XY). Most often, Klinefelter syndrome results from the presence of one extra copy of the X chromosome in each cell (47,XXY). Extra copies of genes on the X chromosome interfere with male sexual development, often preventing the testes from functioning normally and reducing the levels of testosterone. Most people with an extra X chromosome have the features described above, although some have few or no associated signs and symptoms. Some people with features of Klinefelter syndrome have more than one extra sex chromosome in each cell (for example, 48,XXXY or 49,XXXXY). These conditions, which are often called variants of Klinefelter syndrome, tend to cause more severe signs and symptoms than classic Klinefelter syndrome. In addition to affecting male sexual development, variants of Klinefelter syndrome are associated with intellectual disability, distinctive facial features, skeletal abnormalities, poor coordination, and severe problems with speech. As the number of extra sex chromosomes increases, so does the risk of these health problems. Some people with features of Klinefelter syndrome have the extra X chromosome in only some of their cells; in these individuals, the condition is described as mosaic Klinefelter syndrome (46,XY/47,XXY). Individuals with mosaic Klinefelter syndrome may have milder signs and symptoms, depending on how many cells have an additional X chromosome.\\n<question>What are the treatments for Klinefelter syndrome ?<answer>These resources address the diagnosis or management of Klinefelter syndrome: - Genetic Testing Registry: Klinefelter\\'s syndrome, XXY - MedlinePlus Encyclopedia: Klinefelter Syndrome - MedlinePlus Encyclopedia: Testicular Failure These resources from MedlinePlus offer information about the diagnosis and management of various health conditions: - Diagnostic Tests - Drug Therapy - Surgery and Rehabilitation - Genetic Counseling - Palliative Care\\n<question>What is (are) Poland syndrome ?<answer>Poland syndrome is a disorder in which affected individuals are born with missing or underdeveloped muscles on one side of the body, resulting in abnormalities that can affect the chest, shoulder, arm, and hand. The extent and severity of the abnormalities vary among affected individuals. People with Poland syndrome are typically missing part of one of the major chest muscles, called the pectoralis major. In most affected individuals, the missing part is the large section of the muscle that normally runs from the upper arm to the breastbone (sternum). The abnormal pectoralis major muscle may cause the chest to appear concave. In some cases, additional muscles on the affected side of the torso, including muscles in the chest wall, side, and shoulder, may be missing or underdeveloped. There may also be rib cage abnormalities, such as shortened ribs, and the ribs may be noticeable due to less fat under the skin (subcutaneous fat). Breast and nipple abnormalities may also occur, and underarm (axillary) hair is sometimes sparse or abnormally placed. In most cases, the abnormalities in the chest area do not cause health problems or affect movement. Many people with Poland syndrome have hand abnormalities on the affected side, commonly including an underdeveloped hand with abnormally short fingers (brachydactyly); small, underdeveloped (vestigial) fingers; and some fingers that are fused together (syndactyly). This combination of hand abnormalities is called symbrachydactyly. Some affected individuals have only one or two of these features, or have a mild hand abnormality that is hardly noticeable; more severe abnormalities can cause problems with use of the hand. The bones of the forearm (radius and ulna) are shortened in some people with Poland syndrome, but this shortening may also be difficult to detect unless measured. Mild cases of Poland syndrome without hand involvement may not be evident until puberty, when the differences (asymmetry) between the two sides of the chest become more apparent. By contrast, severely affected individuals have abnormalities of the chest, hand, or both that are apparent at birth. In rare cases, severely affected individuals have abnormalities of internal organs such as a lung or a kidney, or the heart is abnormally located in the right side of the chest (dextrocardia). Rarely, chest and hand abnormalities resembling those of Poland syndrome occur on both sides of the body, but researchers disagree as to whether this condition is a variant of Poland syndrome or a different disorder.\\n<question>What causes Poland syndrome ?<answer>What causes Poland syndrome? The cause of Poland syndrome is unknown. Most evidence supports the idea that something abnormal happens during the sixth week of fetal development. This event most likely involves the vascular (blood and lymph) system. Speculations include: An interruption of the embryonic blood supply of the arteries that lie under the collarbone (subclavian arteries). This could be caused by the forward growth of the ribs reducing the flow of blood. A malformation of the subclavian arteries causes a reduced amount of blood delivered to the developing tissues on one side of the body.\\n<question>How many people are affected by Poland syndrome ?<answer>Poland syndrome has been estimated to occur in 1 in 20,000 newborns. For unknown reasons, this disorder occurs more than twice as often in males than in females. Poland syndrome may be underdiagnosed because mild cases without hand involvement may never come to medical attention.\\n<question>What are the treatments for Poland syndrome ?<answer>How might Poland syndrome be treated? Management of Poland syndrome may include surgical correction of the chest wall deformities. Surgical options are available to improve appearance in both males and females. In females, breast reconstruction is typically performed at the time of normal full breast development and can be planned in conjunction with or following reconstruction of the chest wall. In males reconstruction of the chest may not be necessary if there is no underlying chest wall deformity. The optimal surgical approach will vary from patient to patient. Surgical options should be discussed with a surgeon familiar with reconstructive surgery in people with Poland syndrome.\\n<question>What to do for Celiac Disease ?<answer>Eating, diet, and nutrition play a significant role in treating celiac disease. People with the disease should maintain a gluten-free diet by avoiding products that contain gluten. In other words, a person with celiac disease should not eat most grains, pasta, and cereal, and many processed foods. People with celiac disease can eat a wellbalanced diet with a variety of foods. They can use potato, rice, soy, amaranth, quinoa, buckwheat, or bean flour instead of wheat flour. They can buy gluten-free bread, pasta, and other products from stores, or order products from special food companies. Meanwhile, \"plain\"meaning no additives or seasoningsmeat, fish, rice, fruits, and vegetables do not contain gluten, so people with celiac disease can eat these foods. In the past, health care providers and dietitians advised people with celiac disease to avoid eating oats. Evidence suggests that most people with the disease can safely eat small amounts of oats, as long as the oats are not contaminated with wheat gluten during processing. People with celiac disease should talk with their health care team when deciding whether to include oats in their diet. Eating out and shopping can be a challenge. Newly diagnosed people and their families may find support groups helpful as they adjust to a new approach to eating. People with celiac disease should - read food labelsespecially canned, frozen, and processed foodsfor ingredients that contain gluten - avoid ingredients such as hydrolyzed vegetable protein, also called lecithin or soy lecithin - ask restaurant servers and chefs about ingredients and food preparation inquire whether a gluten-free menu is available - ask a dinner or party host about glutenfree options before attending a social gathering Foods that are packaged as gluten-free tend to cost more than the same foods containing gluten. People following a gluten-free diet may find that naturally gluten-free foods are less expensive. With practice, looking for gluten can become second nature. The Gluten-free Diet: Some Examples The Academy of Nutrition and Dietetics has published recommendations for a glutenfree diet. The following chart illustrates these recommendations. This list is not complete, so people with celiac disease should discuss gluten-free food choices with a dietitian or health care professional who specializes in celiac disease. People with celiac disease should always read food ingredient lists carefully to make sure the food does not contain gluten. Table 1. Gluten-free foods and foods that contain gluten Foods and Ingredients That Contain Gluten barley rye triticale (a cross between wheat and rye) wheat, including - including einkorn, emmer, spelt, kamut - wheat starch, wheat bran, wheat germ, cracked wheat, hydrolyzed wheat protein brewer\\'s yeast dextrin malt (unless a gluten-free source is named, such as corn malt) modified food starch oats (not labeled gluten-free) starch Other Wheat Products That Contain Gluten bromated flour durum flour enriched flour farina graham flour phosphated flour plain flour self-rising flour semolina white flour Processed Foods That May Contain Wheat, Barley, or Rye* bouillon cubes brown rice syrup candy chewing gum chips/potato chips cold cuts, hot dogs, salami, sausage communion wafers french fries gravies imitation fish matzo and matzo meal rice mixes sauces seasoned tortilla chips self-basting turkey soups soy sauce vegetables in sauce *Most of these foods can be found gluten-free. When in doubt, check with the food manufacturer. Food Products and Ingredients Made from Barley* ale beer malt malt beverages malted milk malt extract malt syrup malt vinegar other fermented beverages porter stout *People should only consume these foods if they are labeled gluten-freesuch as sorghum-based beeror they list a grain source other than barley, wheat, or ryesuch as corn malt. Foods That Do Not Contain Gluten amaranth arrowroot buckwheat cassava corn flax legumes lentils millet nuts oats (labeled gluten-free) potatoes quinoa rice sago seeds sorghum soy tapioca tef (or teff) wild rice yucca Food Labeling Requirements On August 2, 2013, the U.S. Food and Drug Administration (FDA) published a new regulation defining the term \"glutenfree\" for voluntary food labeling. This new federal definition standardizes the meaning of \"gluten-free\" foods regulated by the FDA. Foods regulated by the U.S. Department of Agriculture, including meat and egg products, are not subject to this regulation. The regulation requires that any food with the term \"gluten-free\" on the label must meet all of the requirements of the definition, including that the food should contain fewer than 20 parts per million of gluten. The FDA rule also requires foods with the claims \"no gluten,\" \"free of gluten,\" and \"without gluten\" to meet the definition for \"gluten-free.\" If a food that is labeled \"gluten-free\" includes \"wheat\" on the ingredients list or \"contains wheat\" after the list, the following statement must be included on the label: \"The wheat has been processed to allow this food to meet the Food and Drug Administration requirements for gluten-free food.\" If this statement is included, people with celiac disease may consume foods labeled \"gluten-free.\"\\n<question>What causes Celiac Disease ?<answer>Researchers do not know the exact cause of celiac disease. Celiac disease sometimes runs in families. In 50 percent of people who have celiac disease, a family member, when screened, also has the disease.1 A person\\'s chances of developing celiac disease increase when his or her genestraits passed from parent to childhave variants, or changes. In celiac disease, certain gene variants and other factors, such as a person\\'s exposure to things in his or her environment, can lead to celiac disease. Read more about genes and genetic conditions at www.ghr.nlm.nih.gov. For most people, eating something with gluten is harmless. For others, an exposure to gluten can cause, or trigger, celiac disease to become active. Sometimes surgery, pregnancy, childbirth, a viral infection, or severe emotional stress can also trigger celiac disease symptoms.\\n<question>How to diagnose Celiac Disease ?<answer>In some cases, a health care provider will order genetic blood tests to confirm or rule out a diagnosis of celiac disease. Most people with celiac disease have gene pairs that contain at least one of the human leukocyte antigen (HLA) gene variants.4 However, these variants are also common in people without celiac disease, so their presence alone cannot diagnose celiac disease. If a biopsy and other blood tests do not give a clear diagnosis of celiac disease, a health care provider may test a patient for HLA gene variants. If the gene variants are not present, celiac disease is unlikely.\\n<question>How to diagnose Celiac Disease ?<answer>A health care provider diagnoses celiac disease with - a medical and family history - a physical exam - blood tests - an intestinal biopsy - a skin biopsy Medical and Family History Taking a medical and family history may help a health care provider diagnose celiac disease. He or she will ask the patient or caregiver to provide a medical and family history, specifically if anyone in the patient\\'s family has a history of celiac disease. Physical Exam A physical exam may help diagnose celiac disease. During a physical exam, a health care provider usually - examines the patient\\'s body for malnutrition or a rash - uses a stethoscope to listen to sounds within the abdomen - taps on the patient\\'s abdomen checking for bloating and pain Blood Tests A blood test involves drawing blood at a health care provider\\'s office or a commercial facility and sending the sample to a lab for analysis. A blood test can show the presence of antibodies that are common in celiac disease. If blood test results are negative and a health care provider still suspects celiac disease, he or she may order additional blood tests, which can affect test results. Before the blood tests, patients should continue to eat a diet that includes foods with gluten, such as breads and pastas. If a patient stops eating foods with gluten before being tested, the results may be negative for celiac disease even if the disease is present. Intestinal Biopsy If blood tests suggest that a patient has celiac disease, a health care provider will perform a biopsy of the patient\\'s small intestine to confirm the diagnosis. A biopsy is a procedure that involves taking a piece of tissue for examination with a microscope. A health care provider performs the biopsy in an outpatient center or a hospital. He or she will give the patient light sedation and a local anesthetic. Some patients may receive general anesthesia. During the biopsy, a health care provider removes tiny pieces of tissue from the patient\\'s small intestine using an endoscopea small, flexible camera with a light. The health care provider carefully feeds the endoscope down the patient\\'s esophagus and into the stomach and small intestine. A small camera mounted on the endoscope transmits a video image to a monitor, allowing close examination of the intestinal lining. The health care provider then takes the samples using tiny tools that he or she passes through the endoscope. A pathologista doctor who specializes in examining tissues to diagnose diseasesexamines the tissue in a lab. The test can show damage to the villi in the small intestine. Skin Biopsy When a health care provider suspects that a patient has dermatitis herpetiformis, he or she will perform a skin biopsy. A skin biopsy is a procedure that involves removing tiny pieces of skin tissue for examination with a microscope. A health care provider performs the biopsy in an outpatient center or a hospital. The patient receives a local anesthetic; however, in some cases, the patient will require general anesthesia. A pathologist examines the skin tissue in a lab and checks the tissue for antibodies that are common in celiac disease. If the skin tissue tests positive for the antibodies, a health care provider will perform blood tests to confirm celiac disease. If the skin biopsy and blood tests both suggest celiac disease, the patient may not need an intestinal biopsy for diagnosis. Genetic Tests In some cases, a health care provider will order genetic blood tests to confirm or rule out a diagnosis of celiac disease. Most people with celiac disease have gene pairs that contain at least one of the human leukocyte antigen (HLA) gene variants.4 However, these variants are also common in people without celiac disease, so their presence alone cannot diagnose celiac disease. If a biopsy and other blood tests do not give a clear diagnosis of celiac disease, a health care provider may test a patient for HLA gene variants. If the gene variants are not present, celiac disease is unlikely.\\n<question>What are the genetic changes related to Peters plus syndrome ?<answer>Mutations in the B3GLCT gene cause Peters plus syndrome. The B3GLCT gene provides instructions for making an enzyme called beta 3-glucosyltransferase (B3Glc-T), which is involved in the complex process of adding sugar molecules to proteins (glycosylation). Glycosylation modifies proteins so they can perform a wider variety of functions. Most mutations in the B3GLCT gene lead to the production of an abnormally short, nonfunctional version of the B3Glc-T enzyme, which disrupts glycosylation. It is unclear how the loss of functional B3Glc-T enzyme leads to the signs and symptoms of Peters plus syndrome, but impaired glycosylation likely disrupts the function of many proteins, which may contribute to the variety of features.\\n<question>What causes Peters plus syndrome ?<answer>Is there anything that I might have done that could have caused or prevented Peters plus syndrome? No. Peters plus syndrome is genetic; therefore, there is nothing you or your partner could have done to cause or to prevent the syndrome.\\n<question>What are the symptoms of Peters plus syndrome ?<answer>What are the signs and symptoms of Peters plus syndrome? No formal diagnostic criteria have not been established for Peters plus syndrome. A clinical diagnosis is based on the presence of features. The following findings may be seen in individuals with Peters plus syndrome : Eye involvement: anomalies of the anterior chamber of the eye (e.g. Peters\\' anomaly); glaucoma; cataract Short stature Developmental delay Characteristic facial features (e.g. cleft lip and plate) Other associated findings (e.g congenital heart defects; anomalies of the kidney; structural brain malformations; congenital hypothyroidism; conductive hearing loss) The Human Phenotype Ontology provides the following list of signs and symptoms for Peters plus syndrome. If the information is available, the table below includes how often the symptom is seen in people with this condition. You can use the MedlinePlus Medical Dictionary to look up the definitions for these medical terms. Signs and Symptoms Approximate number of patients (when available) Anterior chamber synechiae 90% Brachydactyly syndrome 90% Clinodactyly of the 5th finger 90% Cognitive impairment 90% Exaggerated cupid\\'s bow 90% Glaucoma 90% Intrauterine growth retardation 90% Long philtrum 90% Micromelia 90% Opacification of the corneal stroma 90% Round face 90% Short stature 90% Short toe 90% Thin vermilion border 90% Abnormality of the cardiac septa 50% Abnormality of the pulmonary artery 50% Blepharophimosis 50% Cataract 50% Cryptorchidism 50% Displacement of the external urethral meatus 50% Frontal bossing 50% Hypertelorism 50% Microcornea 50% Nystagmus 50% Oral cleft 50% Preauricular skin tag 50% Toe syndactyly 50% Upslanted palpebral fissure 50% Webbed neck 50% Intellectual disability, progressive 20% Abnormality of female external genitalia 7.5% Abnormality of female internal genitalia 7.5% Abnormality of the nipple 7.5% Abnormality of the ureter 7.5% Anterior hypopituitarism 7.5% Anteverted nares 7.5% Aplasia/Hypoplasia of the corpus callosum 7.5% Cerebral cortical atrophy 7.5% Conductive hearing impairment 7.5% Depressed nasal bridge 7.5% Intestinal fistula 7.5% Iris coloboma 7.5% Low-set, posteriorly rotated ears 7.5% Microcephaly 7.5% Multicystic kidney dysplasia 7.5% Optic atrophy 7.5% Polyhydramnios 7.5% Renal hypoplasia/aplasia 7.5% Sacral dimple 7.5% Short nose 7.5% Spina bifida occulta 7.5% Umbilical hernia 7.5% Urogenital fistula 7.5% Ventriculomegaly 7.5% Visual impairment 7.5% Wide mouth 7.5% Agenesis of corpus callosum - Agenesis of maxillary lateral incisor - Atria septal defect - Autosomal recessive inheritance - Biliary tract abnormality - Bilobate gallbladder - Birth length less than 3rd percentile - Broad neck - Cerebral atrophy - Cleft palate - Cleft upper lip - Clitoral hypoplasia - Conical incisor - Craniosynostosis - Decreased body weight - Diastasis recti - Facial hypertrichosis - Feeding difficulties in infancy - Hemivertebrae - Hydrocephalus - Hydronephrosis - Hypoplasia of the uterus - Hypoplasia of the vagina - Hypoplastic labia majora - Hypospadias - Joint laxity - Limited elbow movement - Macrocephaly - Microtia, second degree - Myopia - Pectus excavatum - Pes cavus - Peters anomaly - Postnatal growth retardation - Preauricular pit - Prominent forehead - Protruding ear - Proximal placement of thumb - Ptosis - Pulmonic stenosis - Retinal coloboma - Rhizomelia - Scoliosis - Seizures - Short foot - Short lingual frenulum - Short metacarpal - Short metatarsal - Short palm - Single transverse palmar crease - Square pelvis bone - Stenosis of the external auditory canal - Syndactyly - Ureteral duplication - Ventricular septal defect - Wide anterior fontanel - Wide intermamillary distance - The Human Phenotype Ontology (HPO) has collected information on how often a sign or symptom occurs in a condition. Much of this information comes from Orphanet, a European rare disease database. The frequency of a sign or symptom is usually listed as a rough estimate of the percentage of patients who have that feature. The frequency may also be listed as a fraction. The first number of the fraction is how many people had the symptom, and the second number is the total number of people who were examined in one study. For example, a frequency of 25/25 means that in a study of 25 people all patients were found to have that symptom. Because these frequencies are based on a specific study, the fractions may be different if another group of patients are examined. Sometimes, no information on frequency is available. In these cases, the sign or symptom may be rare or common.\\n<question>What is (are) Peters plus syndrome ?<answer>Peters plus syndrome is an inherited condition that is characterized by eye abnormalities, short stature, an opening in the lip (cleft lip) with or without an opening in the roof of the mouth (cleft palate), distinctive facial features, and intellectual disability. The eye problems in Peters plus syndrome occur in an area at the front part of the eye known as the anterior segment. The anterior segment consists of structures including the lens, the colored part of the eye (iris), and the clear covering of the eye (cornea). An eye problem called Peters anomaly is the most common anterior segment abnormality seen in Peters plus syndrome. Peters anomaly involves abnormal development of the anterior segment, which results in a cornea that is cloudy (opaque) and causes blurred vision. Peters anomaly may also be associated with clouding of the lenses of the eyes (cataracts) or other lens abnormalities. Peters anomaly is usually bilateral, which means that it affects both eyes. The severity of corneal clouding and other eye problems can vary between individuals with Peters plus syndrome, even among members of the same family. Many people with Peters plus syndrome experience vision loss that worsens over time. All people with Peters plus syndrome have short stature, which is evident before birth. The height of adult males with this condition ranges from 141 centimeters to 155 centimeters (4 feet, 7 inches to 5 feet, 1 inch), and the height of adult females ranges from 128 centimeters to 151 centimeters (4 feet, 2 inches to 4 feet, 11 inches). Individuals with Peters plus syndrome also have shortened upper limbs (rhizomelia) and shortened fingers and toes (brachydactyly). The characteristic facial features of Peters plus syndrome include a prominent forehead; small, malformed ears; narrow eyes; a long area between the nose and mouth (philtrum); and a pronounced double curve of the upper lip (Cupid\\'s bow). The neck may also be broad and webbed. A cleft lip with or without a cleft palate is present in about half of the people with this condition. Developmental milestones, such as walking and speech, are delayed in most children with Peters plus syndrome. Most affected individuals also have intellectual disability that can range from mild to severe, although some have normal intelligence. The severity of physical features does not predict the level of intellectual disability. Less common signs and symptoms of Peters plus syndrome include heart defects, structural brain abnormalities, hearing loss, and kidney or genital abnormalities.\\n<question>What causes Prader-Willi syndrome ?<answer>What causes Prader-Willi syndrome? Prader-Willi syndrome (PWS) is caused by the loss of active genes in a specific region of chromosome 15. People normally inherit one copy of chromosome 15 from each parent. Some genes on chromosome 15 are only active (or \"expressed\") on the copy that is inherited from a person\\'s father (the paternal copy). When genes are only active if inherited from a specific parent, it is called genomic imprinting. About 70% of cases of PWS occur when a person is missing specific genes on the long arm of the paternal copy of chromosome 15. This is called a deletion. While there are copies of these same genes on the maternal copy of chromosome 15, the maternal copies of these genes are not expressed. In about 25% of cases, PWS is due to a person inheriting only 2 maternal copies of chromosome 15, instead of one copy from each parent. This is called maternal uniparental disomy. Rarely (in about 2% of cases), PWS is caused by a rearrangement of chromosome material called a translocation, or by a change (mutation) or other defect that abnormally inactivates genes on the paternal chromosome 15. Each of these genetic changes result in a loss of gene function on part of chromosome 15, likely causing the characteristic features of PWS.\\n<question>What are the treatments for Prader-Willi syndrome ?<answer>These resources address the diagnosis or management of Prader-Willi syndrome: - Gene Review: Gene Review: Prader-Willi Syndrome - Genetic Testing Registry: Prader-Willi syndrome - MedlinePlus Encyclopedia: Hypotonia - MedlinePlus Encyclopedia: Prader-Willi Syndrome These resources from MedlinePlus offer information about the diagnosis and management of various health conditions: - Diagnostic Tests - Drug Therapy - Surgery and Rehabilitation - Genetic Counseling - Palliative Care\\n<question>Is Prader-Willi syndrome inherited ?<answer>Most cases of Prader-Willi syndrome are not inherited, particularly those caused by a deletion in the paternal chromosome 15 or by maternal uniparental disomy. These genetic changes occur as random events during the formation of reproductive cells (eggs and sperm) or in early embryonic development. Affected people typically have no history of the disorder in their family. Rarely, a genetic change responsible for Prader-Willi syndrome can be inherited. For example, it is possible for a genetic change that abnormally inactivates genes on the paternal chromosome 15 to be passed from one generation to the next.\\n<question>What are the genetic changes related to Prader-Willi syndrome ?<answer>Prader-Willi syndrome is caused by the loss of function of genes in a particular region of chromosome 15. People normally inherit one copy of this chromosome from each parent. Some genes are turned on (active) only on the copy that is inherited from a person\\'s father (the paternal copy). This parent-specific gene activation is caused by a phenomenon called genomic imprinting. Most cases of Prader-Willi syndrome (about 70 percent) occur when a segment of the paternal chromosome 15 is deleted in each cell. People with this chromosomal change are missing certain critical genes in this region because the genes on the paternal copy have been deleted, and the genes on the maternal copy are turned off (inactive). In another 25 percent of cases, a person with Prader-Willi syndrome has two copies of chromosome 15 inherited from his or her mother (maternal copies) instead of one copy from each parent. This phenomenon is called maternal uniparental disomy. Rarely, Prader-Willi syndrome can also be caused by a chromosomal rearrangement called a translocation, or by a mutation or other defect that abnormally turns off (inactivates) genes on the paternal chromosome 15. It appears likely that the characteristic features of Prader-Willi syndrome result from the loss of function of several genes on chromosome 15. Among these are genes that provide instructions for making molecules called small nucleolar RNAs (snoRNAs). These molecules have a variety of functions, including helping to regulate other types of RNA molecules. (RNA molecules play essential roles in producing proteins and in other cell activities.) Studies suggest that the loss of a particular group of snoRNA genes, known as the SNORD116 cluster, may play a major role in causing the signs and symptoms of Prader-Willi syndrome. However, it is unknown how a missing SNORD116 cluster could contribute to intellectual disability, behavioral problems, and the physical features of the disorder. In some people with Prader-Willi syndrome, the loss of a gene called OCA2 is associated with unusually fair skin and light-colored hair. The OCA2 gene is located on the segment of chromosome 15 that is often deleted in people with this disorder. However, loss of the OCA2 gene does not cause the other signs and symptoms of Prader-Willi syndrome. The protein produced from this gene helps determine the coloring (pigmentation) of the skin, hair, and eyes. Researchers are studying other genes on chromosome 15 that may also be related to the major signs and symptoms of this condition.\\n<question>What are the symptoms of Holt-Oram syndrome ?<answer>What are the signs and symptoms of Holt-Oram syndrome? People with Holt-Oram syndrome have abnormally developed bones in their upper limbs. At least one abnormality in the bones of the wrist (carpal bones) is present. Additional bone abnormalities may also be present, such as a missing thumb, a long thumb that looks like a finger, partial or complete absence of bones in the forearm, an underdeveloped bone of the upper arm, and abnormalities of the collar bone or shoulder blades. About 75% of affected people have heart problems, which can be life-threatening. The most common problems are an atrial septal defect (ASD) and a ventricular septal defect (VSD). Some people have cardiac conduction disease, which is caused by abnormalities in the electrical system that coordinates contractions of the heart chambers. Cardiac conduction disease can lead to problems such as a slower-than-normal heart rate (bradycardia) or a rapid and uncoordinated contraction of the heart muscle (fibrillation). The features of Holt-Oram syndrome are similar to those of a condition called Duane-radial ray syndrome but these two disorders are caused by mutations in different genes. The Human Phenotype Ontology provides the following list of signs and symptoms for Holt-Oram syndrome. If the information is available, the table below includes how often the symptom is seen in people with this condition. You can use the MedlinePlus Medical Dictionary to look up the definitions for these medical terms. Signs and Symptoms Approximate number of patients (when available) Abnormality of the wrist 90% Abnormality of the metacarpal bones 50% Aplasia/Hypoplasia of the radius 50% Aplasia/Hypoplasia of the thumb 50% Arrhythmia 50% Atria septal defect 50% Triphalangeal thumb 50% Ventricular septal defect 50% Hypoplasia of the radius 37.8% Phocomelia 11% Abnormality of the aorta 7.5% Abnormality of the humerus 7.5% Abnormality of the ribs 7.5% Abnormality of the shoulder 7.5% Abnormality of the sternum 7.5% Anomalous pulmonary venous return 7.5% Aplasia of the pectoralis major muscle 7.5% Complete atrioventricular canal defect 7.5% Finger syndactyly 7.5% Hypoplastic left heart 7.5% Patent ductus arteriosus 7.5% Pectus excavatum 7.5% Radioulnar synostosis 7.5% Scoliosis 7.5% Sprengel anomaly 7.5% Thoracic scoliosis 7.5% Abnormality of the carpal bones - Abnormality of the vertebrae - Absent thumb - Autosomal dominant inheritance - Partial duplication of thumb phalanx - The Human Phenotype Ontology (HPO) has collected information on how often a sign or symptom occurs in a condition. Much of this information comes from Orphanet, a European rare disease database. The frequency of a sign or symptom is usually listed as a rough estimate of the percentage of patients who have that feature. The frequency may also be listed as a fraction. The first number of the fraction is how many people had the symptom, and the second number is the total number of people who were examined in one study. For example, a frequency of 25/25 means that in a study of 25 people all patients were found to have that symptom. Because these frequencies are based on a specific study, the fractions may be different if another group of patients are examined. Sometimes, no information on frequency is available. In these cases, the sign or symptom may be rare or common.\\n<question>What causes Holt-Oram syndrome ?<answer>What causes Holt-Oram syndrome? Holt-Oram syndrome is caused by changes (mutations) in the TBX5 gene. This gene gives the body instructions for making a protein involved in the development of the heart and upper limbs before birth. In particular, this gene seems important for dividing the developing heart into four chambers, and in regulating the development of bones in the arms and hands. When the TBX5 gene doesn\\'t function properly, the features of Holt-Oram syndrome result. In some cases the mutation occurs for the first time in an affected person, while in other cases the mutation is inherited from a parent. However, in both of these cases, there is nothing a parent can do to cause this mutation or condition in a child.\\n<question>What are the genetic changes related to Holt-Oram syndrome ?<answer>Mutations in the TBX5 gene cause Holt-Oram syndrome. This gene provides instructions for making a protein that plays a role in the development of the heart and upper limbs before birth. In particular, this gene appears to be important for the process that divides the developing heart into four chambers (cardiac septation). The TBX5 gene also appears to play a critical role in regulating the development of bones in the arm and hand. Mutations in this gene probably disrupt the development of the heart and upper limbs, leading to the characteristic features of Holt-Oram syndrome.\\n<question>How to diagnose Holt-Oram syndrome ?<answer>How is Holt-Oram syndrome diagnosed? The diagnosis of Holt-Oram syndrome can be established based on physical features and family history. It can be confirmed through genetic testing looking for mutations in the TBX5 gene. Hand x-rays are usually performed for upper-limb malformations. A family history of this condition and/or cogenital heart malformations is also used as a diagnostic tool as a congenital heart malformation is present in 75% of individuals with Holt-Oram syndrome. An echocardiogram and electrocardiogram can be used to determine the presence and severity of heart defects and/or cardiac conduction disease. Holt-Oram syndrome can be excluded in individuals with congenital malformations involving the following structures or organ systems: ulnar ray only, kidney, vertebra, head and face region, auditory system (hearing loss or ear malformations), lower limb, anus, or eye.\\n<question>What is (are) Urinary Incontinence ?<answer>There are different types of urinary incontinence. Stress urinary incontinence happens when urine leaks as pressure is put on the bladder, for example, during exercise, coughing, sneezing, laughing, or lifting heavy objects. Its the most common type of bladder control problem in younger and middle-age women. It may begin around the time of menopause. Urgency urinary incontinence happens when people have a sudden need to urinate and arent able to hold their urine long enough to get to the toilet. Mixed urinary incontinence is a mix of stress and urgency urinary incontinence. You may leak urine with a laugh or sneeze at one time. At another time, you may leak urine because you have a sudden urge to urinate that you cannot control. Overflow urinary incontinence happens when small amounts of urine leak from a bladder that is always full. A man can have trouble emptying his bladder if an enlarged prostate is blocking the urethra. Diabetes and spinal cord injury can also cause this type of urinary incontinence. Functional urinary incontinence occurs in many older people who have a problem getting to the toilet in time. They may not make it in time because of arthritis or other disorders that make it hard to move quickly. Learn about urinary incontinence in men. Learn about urinary incontinence in women.\\n<question>What are the treatments for Urinary Incontinence ?<answer>Even after treatment, some people still leak urine from time to time. There are products that can help you cope with leaking urine. These products may make leaking urine bother you a little less. - Pads. You can wear disposable pads in your underwear to absorb urine when it leaks and keep your clothes from getting wet. Pads. You can wear disposable pads in your underwear to absorb urine when it leaks and keep your clothes from getting wet. - Adult diapers. If you leak large amounts of urine, you can wear an adult diaper to keep your clothes dry. You can choose disposable adult diapers, which you wear once and throw away. Or you can choose washable adult diapers, which you can reuse after washing. Adult diapers. If you leak large amounts of urine, you can wear an adult diaper to keep your clothes dry. You can choose disposable adult diapers, which you wear once and throw away. Or you can choose washable adult diapers, which you can reuse after washing. - Protective underwear. Special kinds of underwear can help keep clothes from getting wet. Some kinds of underwear have a waterproof crotch with room for a pad or liner. Others use a waterproof fabric to keep your skin dry. Protective underwear. Special kinds of underwear can help keep clothes from getting wet. Some kinds of underwear have a waterproof crotch with room for a pad or liner. Others use a waterproof fabric to keep your skin dry. - Furniture pads. Pads can be used to protect chairs and beds from leaking urine. Some pads should be used once and thrown away. Other cloth pads can be washed and reused. Furniture pads. Pads can be used to protect chairs and beds from leaking urine. Some pads should be used once and thrown away. Other cloth pads can be washed and reused. - Special skin cleaners and creams. Urine can bother the skin if it stays on the skin for a long time. Special skin cleaners and creams are available for people who leak urine. Skin cleaners and creams may help the skin around your urethra from becoming irritated. Creams can help keep urine away from your skin. Special skin cleaners and creams. Urine can bother the skin if it stays on the skin for a long time. Special skin cleaners and creams are available for people who leak urine. Skin cleaners and creams may help the skin around your urethra from becoming irritated. Creams can help keep urine away from your skin. - Deodorizing pills. Deodorizing pills may make your urine smell less strongly. This way, if you do leak, it may be less noticeable. Ask your health care provider about deodorizing pills. Deodorizing pills. Deodorizing pills may make your urine smell less strongly. This way, if you do leak, it may be less noticeable. Ask your health care provider about deodorizing pills.\\n<question>What is (are) Urinary Incontinence ?<answer>Urinary incontinence means a person leaks urine by accident. Urinary incontinence is a common bladder problem as people age. Women are more likely than men to leak urine. If this problem is happening to you, there is help. Urinary incontinence can often be controlled. Talk to your health care provider about what you can do. Learn about urinary incontinence in women. Learn about urinary incontinence in men.\\n<question>What causes Urinary Incontinence ?<answer>Leaking urine can happen for many reasons. Sometimes urinary incontinence happens for a little while. Short periods of leaking urine can happen because of - urinary tract infections - constipation - some medicines. urinary tract infections constipation some medicines. When leaking urine lasts longer, it may be due to - weak bladder muscles - weak pelvic floor muscles - overactive bladder muscles - damage to nerves that control the bladder from diseases such as multiple sclerosis or Parkinsons disease - blockage from an enlarged prostate in men - diseases or conditions, such as arthritis, that may make it difficult to get to the bathroom in time - pelvic organ prolapse, which is when pelvic organs (such as the bladder, rectum, or uterus) shift out of their normal place into the vagina. When pelvic organs are out of place, the bladder and urethra are not able to work normally, which may cause urine to leak. weak bladder muscles weak pelvic floor muscles overactive bladder muscles damage to nerves that control the bladder from diseases such as multiple sclerosis or Parkinsons disease blockage from an enlarged prostate in men diseases or conditions, such as arthritis, that may make it difficult to get to the bathroom in time pelvic organ prolapse, which is when pelvic organs (such as the bladder, rectum, or uterus) shift out of their normal place into the vagina. When pelvic organs are out of place, the bladder and urethra are not able to work normally, which may cause urine to leak. Learn more about urinary incontinence in men. Learn more about urinary incontinence in women.\\n<question>What is (are) Alcohol Use and Older Adults ?<answer>Alcohol, also known as ethanol, is a chemical found in beverages like beer, wine, and distilled spirits such as whiskey, vodka, and rum. Through a process called fermentation, yeast converts the sugars naturally found in grains and grapes into the alcohol that is in beer and wine. Another process, called distillation, concentrates alcohol in the drink making it stronger, producing what are known as distilled spirits.\\n<question>What is (are) Alcohol Use and Older Adults ?<answer>Some people with an alcohol use disorder are treated in a facility, such as a hospital, mental health center, or substance abuse clinic. Treatment may last as long as several weeks. This type of treatment typically involves detoxification (when a person is weaned from alcohol), medicine, and counseling. Learn more about treatment settings for alcohol problems. Use the Behavioral Health Treatment Services Locator to find a treatment facility.\\n<question>What are the treatments for Alcohol Use and Older Adults ?<answer>There is not one right treatment for everyone with alcohol problems. In general, many people need more than one kind of treatment. Medicines can help people with alcohol use disorder quit drinking. Meeting with a therapist or substance-abuse counselor or with a support group may also help. Support from family and friends is important, too. A doctor can help a person decide on the best treatment. Making a change sooner rather than later makes treatment more likely to succeed. Learn more about treatment options for alcohol problems. Learn more about available types of alcohol treatment. (Watch the video to learn more about getting help for alcohol use disorder (AUD). To enlarge the video, click the brackets in the lower right-hand corner. To reduce the video, press the Escape (Esc) button on your keyboard.)\\n<question>What are the treatments for Alcohol Use and Older Adults ?<answer>Older people with alcohol problems respond to treatment as well as younger people. Some studies suggest that older adults do better when they are treated with other people the same age instead of mixed in with younger adults. Some communities have treatment programs and support groups specifically for older adults.\\n<question>What to do for Alzheimer\\'s Caregiving ?<answer>As Alzheimers disease gets worse, you will need more help to care for the person. It\\'s okay to seek help whenever you need it. Several kinds of help are available. - Home health care agencies send a home health aide or nurse to your home to help you care for a person with Alzheimers. They may come for a few hours or stay for 24 hours and are paid by the hour. Home health care agencies send a home health aide or nurse to your home to help you care for a person with Alzheimers. They may come for a few hours or stay for 24 hours and are paid by the hour. - Meal services bring hot meals to the person\\'s home or your home. The delivery staff does not feed the person. Some groups do not charge for their services. Others may charge a small fee. Meal services bring hot meals to the person\\'s home or your home. The delivery staff does not feed the person. Some groups do not charge for their services. Others may charge a small fee. - Adult day care services provide a safe environment, activities, and staff who take care of the person with Alzheimers at their own facility. Many programs provide transportation between the persons home and the facility. Watch a video to see what services adult day care provides. Adult day care services provide a safe environment, activities, and staff who take care of the person with Alzheimers at their own facility. Many programs provide transportation between the persons home and the facility. Watch a video to see what services adult day care provides. - Geriatric care managers visit your home to assess your needs and suggest and arrange home-care services. They charge by the hour. Most insurance plans don\\'t cover these costs. Geriatric care managers visit your home to assess your needs and suggest and arrange home-care services. They charge by the hour. Most insurance plans don\\'t cover these costs.\\n<question>What is (are) Alzheimer\\'s Caregiving ?<answer>To find out about residential care facilities in your area, talk with your support group members, social worker, doctor, family members, and friends. Also, check the following resources. Centers for Medicare and Medicaid Services (CMS) 7500 Security Boulevard Baltimore, MD 21244-1850 1-800-MEDICARE (1-800-633-4227) 1-877-486-2048 (toll-free TTY number) www.medicare.gov MS has a guide, Your Guide to Choosing a Nursing Home or Other Long Term Care,\" to help older people and their caregivers choose a good nursing home. It describes types of long-term care, questions to ask the nursing home staff, and ways to pay for nursing home care. CMS also offers a service called Nursing Home Compare on its website. This service has information on nursing homes that are Medicare or Medicaid certified. These nursing homes provide skilled nursing care. Please note that there are many other places that provide different levels of health care and help with daily living. Many of these facilities are licensed only at the State level. CMS also has information about the rights of nursing home residents and their caregivers. Joint Commission One Renaissance Boulevard Oakbrook Terrace, IL 60181 1-630-792-5000 www.jointcommission.org The Joint Commission evaluates nursing homes, home health care providers, hospitals, and assisted living facilities to determine whether or not they meet professional standards of care. Consumers can learn more about the quality of health care facilities through their online service at www.qualitycheck.org. Other resources include - AARP 601 E Street, NW Washington, DC 20049 1-888-OUR-AARP (1-888-687-2277) www.aarp.org/family/housing - Assisted Living Federation of America 1650 King Street, Suite 602 Alexandria, VA 22314 1-703-894-1805 www.alfa.org - National Center for Assisted Living 1201 L Street, NW Washington, DC 20005 1-202-842-4444 www.ncal.org AARP 601 E Street, NW Washington, DC 20049 1-888-OUR-AARP (1-888-687-2277) www.aarp.org/family/housing Assisted Living Federation of America 1650 King Street, Suite 602 Alexandria, VA 22314 1-703-894-1805 www.alfa.org National Center for Assisted Living 1201 L Street, NW Washington, DC 20005 1-202-842-4444 www.ncal.org\\n<question>How to diagnose Alzheimer\\'s Caregiving ?<answer>When you learn that someone has Alzheimers disease, you may wonder when and how to tell your family and friends. You may be worried about how others will react to or treat the person. Others often sense that something is wrong before they are told. Alzheimers disease is hard to keep secret. When the time seems right, be honest with family, friends, and others. Use this as a chance to educate them about Alzheimers disease. You can share information to help them understand what you and the person with Alzheimers are going through. You can also tell them what they can do to help. Get more information about helping family and friends understand Alzheimer\\'s disease.\\n<question>What is (are) Alzheimer\\'s Caregiving ?<answer>Here are some ways you can learn more about Alzheimers disease. - Talk with a doctor or other healthcare provider who specializes in Alzheimers disease. - Check out books or videos about Alzheimers from the library. - Go to educational programs about the disease. - Visit the website of the National Institute on Aging\\'s Alzheimer\\'s Disease and Referral Center (ADEAR). - The National Institute on Aging has a book, Caring for a Person with Alzheimers Disease, that can be viewed and ordered at www.nia.nih.gov/alzheimers/publication/caring-person-alzheimers-disease - Read about Alzheimer\\'s disease on NIHSeniorHealth. Talk with a doctor or other healthcare provider who specializes in Alzheimers disease. Check out books or videos about Alzheimers from the library. Go to educational programs about the disease. Visit the website of the National Institute on Aging\\'s Alzheimer\\'s Disease and Referral Center (ADEAR). The National Institute on Aging has a book, Caring for a Person with Alzheimers Disease, that can be viewed and ordered at www.nia.nih.gov/alzheimers/publication/caring-person-alzheimers-disease Read about Alzheimer\\'s disease on NIHSeniorHealth.\\n<question>How to diagnose Polycythemia Vera ?<answer>Polycythemia vera (PV) may not cause signs or symptoms for years. The disease often is found during routine blood tests done for other reasons. If the results of your blood tests aren\\'t normal, your doctor may want to do more tests. Your doctor will diagnose PV based on your signs and symptoms, your age and overall health, your medical history, a physical exam, and test results. During the physical exam, your doctor will look for signs of PV. He or she will check for an enlarged spleen, red skin on your face, and bleeding from your gums. If your doctor confirms that you have polycythemia, the next step is to find out whether you have primary polycythemia (polycythemia vera) or secondary polycythemia. Your medical history and physical exam may confirm which type of polycythemia you have. If not, you may have tests that check the level of the hormone erythropoietin (EPO) in your blood. People who have PV have very low levels of EPO. People who have secondary polycythemia usually have normal or high levels of EPO. Specialists Involved If your primary care doctor thinks you have PV, he or she may refer you to a hematologist. A hematologist is a doctor who specializes in diagnosing and treating blood diseases and conditions. Diagnostic Tests You may have blood tests to diagnose PV. These tests include a complete blood count (CBC) and other tests, if necessary. Complete Blood Count Often, the first test used to diagnose PV is a CBC. The CBC measures many parts of your blood. This test checks your hemoglobin (HEE-muh-glow-bin) and hematocrit (hee-MAT-oh-crit) levels. Hemoglobin is an iron-rich protein that helps red blood cells carry oxygen from the lungs to the rest of the body. Hematocrit is a measure of how much space red blood cells take up in your blood. A high level of hemoglobin or hematocrit may be a sign of PV. The CBC also checks the number of red blood cells, white blood cells, and platelets in your blood. Abnormal results may be a sign of PV, a blood disorder, an infection, or another condition. In addition to high red blood cell counts, people who have PV also may have high white blood cell and/or platelet counts. Other Blood Tests Blood smear. For this test, a small sample of blood is drawn from a vein, usually in your arm. The blood sample is examined under a microscope. A blood smear can show whether you have a higher than normal number of red blood cells. The test also can show abnormal blood cells that are linked to myelofibrosis and other conditions related to PV. Erythropoietin level. This blood test measures the level of EPO in your blood. EPO is a hormone that prompts your bone marrow to make new blood cells. People who have PV have very low levels of EPO. People who have secondary polycythemia usually have normal or high levels of EPO. Bone Marrow Tests Bone marrow tests can show whether your bone marrow is healthy. These tests also show whether your bone marrow is making normal amounts of blood cells. The two bone marrow tests are aspiration (as-pi-RA-shun) and biopsy. For aspiration, your doctor removes a small amount of fluid bone marrow through a needle. For a biopsy, your doctor removes a small amount of bone marrow tissue through a larger needle. The samples are then examined under a microscope. If the tests show that your bone marrow is making too many blood cells, it may be a sign that you have PV.\\n<question>Who is at risk for Polycythemia Vera? ?<answer>Polycythemia vera (PV) is a rare blood disease. The disease affects people of all ages, but it\\'s most common in adults who are older than 60. PV is rare in children and young adults. Men are at slightly higher risk for PV than women.\\n<question>What are the treatments for Polycythemia Vera ?<answer>The purpose of treatment for polycythemia vera is to reduce the number of extra blood cells. Treatment of polycythemia vera may include the following: - Phlebotomy. - Chemotherapy with or without phlebotomy. - Biologic therapy using interferon alfa or pegylated interferon alpha. - Low-dose aspirin. Check the list of NCI-supported cancer clinical trials that are now accepting patients with polycythemia vera. For more specific results, refine the search by using other search features, such as the location of the trial, the type of treatment, or the name of the drug. Talk with your doctor about clinical trials that may be right for you. General information about clinical trials is available from the NCI website.\\n<question>What is (are) Polycythemia Vera ?<answer>Key Points - Polycythemia vera is a disease in which too many red blood cells are made in the bone marrow. - Symptoms of polycythemia vera include headaches and a feeling of fullness below the ribs on the left side. - Special blood tests are used to diagnose polycythemia vera. Polycythemia vera is a disease in which too many red blood cells are made in the bone marrow. In polycythemia vera, the blood becomes thickened with too many red blood cells. The number of white blood cells and platelets may also increase. These extra blood cells may collect in the spleen and cause it to swell. The increased number of red blood cells, white blood cells, or platelets in the blood can cause bleeding problems and make clots form in blood vessels. This can increase the risk of stroke or heart attack. In patients who are older than 65 years or who have a history of blood clots, the risk of stroke or heart attack is higher. Patients also have an increased risk of acute myeloid leukemia or primary myelofibrosis.\\n<question>What is (are) Diabetes, Heart Disease, and Stroke ?<answer>If you have diabetes, you are at least twice as likely as someone who does not have diabetes to have heart disease or a stroke. People with diabetes also tend to develop heart disease or have strokes at an earlier age than other people. If you are middle-aged and have type 2 diabetes, some studies suggest that your chance of having a heart attack is as high as someone without diabetes who has already had one heart attack. Women who have not gone through menopause usually have less risk of heart disease than men of the same age. But women of all ages with diabetes have an increased risk of heart disease because diabetes cancels out the protective effects of being a woman in her child-bearing years. People with diabetes who have already had one heart attack run an even greater risk of having a second one. In addition, heart attacks in people with diabetes are more serious and more likely to result in death. High blood glucose levels over time can lead to increased deposits of fatty materials on the insides of the blood vessel walls. These deposits may affect blood flow, increasing the chance of clogging and hardening of blood vessels (atherosclerosis).\\n<question>What are the treatments for Diabetes, Heart Disease, and Stroke ?<answer>You can keep track of the ABCs of diabetes to make sure your treatment is working. Talk with your health care provider about the best targets for you. A stands for A1C (a test that measures blood glucose control). Have an A1C test at least twice a year. It shows your average blood glucose level over the past 3 months. Talk with your doctor about whether you should check your blood glucose at home and how to do it. A1C target Below 7 percent, unless your doctor sets a different target Blood glucose targets Before meals 90 to 130 mg/dL 1 to 2 hours after the start of a meal Less than 180 mg/dL B is for blood pressure. Have it checked at every office visit. Blood pressure target Below 140/80 mm Hg, unless your doctor sets a different target C is for cholesterol. Have it checked at least once a year. Blood fat (cholesterol) targets LDL (bad) cholesterol Under 100 mg/dL Triglycerides Under 150 mg/dL HDL (good) cholesterol For men: above 40 mg/dL For women: above 50 mg/dL Control of the ABCs of diabetes can reduce your risk for heart disease and stroke. If your blood glucose, blood pressure, and cholesterol levels aren\\'t on target, ask your doctor what changes in diet, activity, and medications can help you reach these goals.\\n<question>What are the treatments for Diabetes, Heart Disease, and Stroke ?<answer>Treatment for heart disease includes meal planning to ensure a heart-healthy diet and physical activity. In addition, you may need medications to treat heart damage or to lower your blood glucose, blood pressure, and cholesterol. If you are not already taking a low dose of aspirin every day, your doctor may suggest it. You also may need surgery or some other medical procedure. For additional information about heart and blood vessel disease, high blood pressure, and high cholesterol, call the National Heart, Lung, and Blood Institute Health Information Center at 3015928573 or see www.nhlbi.nih.gov on the Internet.\\n<question>What is (are) Diabetes, Heart Disease, and Stroke ?<answer>Two major types of heart and blood vessel disease, also called cardiovascular disease, are common in people with diabetes: coronary artery disease (CAD) and cerebral vascular disease. People with diabetes are also at risk for heart failure. Narrowing or blockage of the blood vessels in the legs, a condition called peripheral arterial disease, can also occur in people with diabetes. Coronary Artery Disease Coronary artery disease, also called ischemic heart disease, is caused by a hardening or thickening of the walls of the blood vessels that go to your heart. Your blood supplies oxygen and other materials your heart needs for normal functioning. If the blood vessels to your heart become narrowed or blocked by fatty deposits, the blood supply is reduced or cut off, resulting in a heart attack. Cerebral Vascular Disease Cerebral vascular disease affects blood flow to the brain, leading to strokes and TIAs. It is caused by narrowing, blocking, or hardening of the blood vessels that go to the brain or by high blood pressure. Stroke A stroke results when the blood supply to the brain is suddenly cut off, which can occur when a blood vessel in the brain or neck is blocked or bursts. Brain cells are then deprived of oxygen and die. A stroke can result in problems with speech or vision or can cause weakness or paralysis. Most strokes are caused by fatty deposits or blood clotsjelly-like clumps of blood cellsthat narrow or block one of the blood vessels in the brain or neck. A blood clot may stay where it formed or can travel within the body. People with diabetes are at increased risk for strokes caused by blood clots. A stroke may also be caused by a bleeding blood vessel in the brain. Called an aneurysm, a break in a blood vessel can occur as a result of high blood pressure or a weak spot in a blood vessel wall. TIAs TIAs are caused by a temporary blockage of a blood vessel to the brain. This blockage leads to a brief, sudden change in brain function, such as temporary numbness or weakness on one side of the body. Sudden changes in brain function also can lead to loss of balance, confusion, blindness in one or both eyes, double vision, difficulty speaking, or a severe headache. However, most symptoms disappear quickly and permanent damage is unlikely. If symptoms do not resolve in a few minutes, rather than a TIA, the event could be a stroke. The occurrence of a TIA means that a person is at risk for a stroke sometime in the future. See page 3 for more information on risk factors for stroke. Heart Failure Heart failure is a chronic condition in which the heart cannot pump blood properlyit does not mean that the heart suddenly stops working. Heart failure develops over a period of years, and symptoms can get worse over time. People with diabetes have at least twice the risk of heart failure as other people. One type of heart failure is congestive heart failure, in which fluid builds up inside body tissues. If the buildup is in the lungs, breathing becomes difficult. Blockage of the blood vessels and high blood glucose levels also can damage heart muscle and cause irregular heart beats. People with damage to heart muscle, a condition called cardiomyopathy, may have no symptoms in the early stages, but later they may experience weakness, shortness of breath, a severe cough, fatigue, and swelling of the legs and feet. Diabetes can also interfere with pain signals normally carried by the nerves, explaining why a person with diabetes may not experience the typical warning signs of a heart attack. Peripheral Arterial Disease Another condition related to heart disease and common in people with diabetes is peripheral arterial disease (PAD). With this condition, the blood vessels in the legs are narrowed or blocked by fatty deposits, decreasing blood flow to the legs and feet. PAD increases the chances of a heart attack or stroke occurring. Poor circulation in the legs and feet also raises the risk of amputation. Sometimes people with PAD develop pain in the calf or other parts of the leg when walking, which is relieved by resting for a few minutes.\\n<question>What are the treatments for Pelizaeus-Merzbacher disease ?<answer>How might Pelizaeus-Merzbacher disease be treated?\\n<question>What are the treatments for Pelizaeus-Merzbacher disease ?<answer>These resources address the diagnosis or management of Pelizaeus-Merzbacher disease: - Gene Review: Gene Review: PLP1-Related Disorders - Genetic Testing Registry: Pelizaeus-Merzbacher disease These resources from MedlinePlus offer information about the diagnosis and management of various health conditions: - Diagnostic Tests - Drug Therapy - Surgery and Rehabilitation - Genetic Counseling - Palliative Care\\n<question>What is (are) Pelizaeus-Merzbacher disease ?<answer>Pelizaeus-Merzbacher disease is a disorder that affects the brain and spinal cord. It is a type of leukodystrophy and is characterized by problems with coordination, motor skills, and learning. The age of onset and the severity of the symptoms varies greatly depending on the type of disease. It is caused by an inability to form myelin due to mutations in the PLP1 gene. It is passed through families in an X-linked recessive pattern. The condition primarily affects males. Treatment requires a multidisciplinary team approach, with members dictated by the presenting symptoms.\\n<question>What causes Pelizaeus-Merzbacher disease ?<answer>What causes Pelizaeus-Merzbacher disease? Pelizaeus-Merzbacher disease is caused by mutations in the PLP1 gene. This gene provides instructions for producing proteolipid protein 1 and a modified version (isoform) of proteolipid protein 1, called DM20. Proteolipid protein 1 and DM20 are primarily located in the central nervous system and are the main proteins found in myelin, the fatty covering that insulates nerve fibers. A lack of proteolipid protein 1 and DM20 can cause dysmyelination, which can impair nervous system function, resulting in the signs and symptoms of Pelizaeus-Merzbacher disease. It is estimated that 5 percent to 20 percent of people with Pelizaeus-Merzbacher disease do not have identified mutations in the PLP1 gene. In these cases, the cause of the condition is unknown.\\n<question>How to diagnose Peutz-Jeghers syndrome ?<answer>Is genetic testing available for Peutz-Jeghers syndrome? Yes, genetic testing is available for STK11, the gene known to cause Peutz-Jeghers syndrome. Carrier testing for at-risk relatives and prenatal testing are possible if the disease-causing mutation in the family is known. The Genetic Testing Registry (GTR) is a centralized online resource for information about genetic tests. The intended audience for the GTR is health care providers and researchers. Patients and consumers with specific questions about a genetic test should contact a health care provider or a genetics professional. How is Peutz-Jeghers syndrome diagnosed? A diagnosis of Peutz-Jeghers syndrome (PJS) is based on the presence of characteristic signs and symptoms. In people with a clinical diagnosis of PJS, genetic testing of the STK11 gene confirms the diagnosis in approximately 100% of people who have a positive family history and approximately 90% of people who have no family history of PJS. Genereviews offers more detailed information regarding the diagnosis of PJS including the clinical diagnostic criteria. Click here to view this resource.\\n<question>What are the treatments for Peutz-Jeghers syndrome ?<answer>These resources address the diagnosis or management of Peutz-Jeghers syndrome: - Gene Review: Gene Review: Peutz-Jeghers Syndrome - Genetic Testing Registry: Peutz-Jeghers syndrome - MedlinePlus Encyclopedia: Peutz-Jeghers Syndrome These resources from MedlinePlus offer information about the diagnosis and management of various health conditions: - Diagnostic Tests - Drug Therapy - Surgery and Rehabilitation - Genetic Counseling - Palliative Care\\n<question>What causes Peutz-Jeghers syndrome ?<answer>What causes Peutz-Jeghers syndrome? Peutz-Jeghers syndrome (PJS) is caused by changes (mutations) in the STK11 gene. STK11 is a tumor suppressor gene which means that it encodes a protein that helps keep cells from growing and dividing too rapidly or in an uncontrolled way. Mutations in STK11 result in a defective protein that is unable to carry out its normal role. This leads to the development of the polyps and tumors found in PJS. Some people with PJS do not have mutations in the STK11 gene. In these cases, the cause is unknown.\\n<question>Is Peutz-Jeghers syndrome inherited ?<answer>Is Peutz-Jeghers syndrome inherited? Peutz-Jeghers syndrome (PJS) is inherited in an autosomal dominant manner. This means that to be affected, a person only needs a change (mutation) in one copy of the responsible gene in each cell. In some cases, an affected person inherits the mutation from an affected parent. Other cases may result from new (de novo) mutations in the gene. These cases occur in people with no history of the disorder in their family. A person with PJS has a 50% chance with each pregnancy of passing along the altered gene to his or her child.'"
            ],
            "application/vnd.google.colaboratory.intrinsic+json": {
              "type": "string"
            }
          },
          "metadata": {},
          "execution_count": 158
        }
      ]
    },
    {
      "cell_type": "markdown",
      "source": [
        "- **Save the training and validation strings as text files**"
      ],
      "metadata": {
        "id": "GJZ9GHGSwNtm"
      }
    },
    {
      "cell_type": "code",
      "source": [
        "# YOUR CODE HERE\n",
        "with open('train.txt', 'w') as f:\n",
        "    f.write(train_text)\n",
        "\n",
        "with open('val.txt', 'w') as f:\n",
        "    f.write(val_text)"
      ],
      "metadata": {
        "id": "pLQaAIhYMRvj"
      },
      "execution_count": 159,
      "outputs": []
    },
    {
      "cell_type": "markdown",
      "source": [
        "**Exercise 6: Load pre-trained GPT2Tokenizer [0.5 Mark]**\n",
        "\n",
        "- Use checkpoint = \"gpt2\""
      ],
      "metadata": {
        "id": "Y1hlYtjjML1r"
      }
    },
    {
      "cell_type": "code",
      "source": [
        "# YOUR CODE HERE\n",
        "tokenizer = GPT2Tokenizer.from_pretrained('gpt2')"
      ],
      "metadata": {
        "id": "-qiMe9TAplyj",
        "colab": {
          "base_uri": "https://localhost:8080/",
          "height": 177,
          "referenced_widgets": [
            "3573c08a2f594cc398f211c27af92087",
            "1911eea9b4494f3888c9198e0ca89fc4",
            "0445c029330a4deeae2a70da14d1717f",
            "07ce04ec7fbb410288da7631a9d11ebe",
            "2ed5dd603adf4bbca229b6740654eaae",
            "e8cb3b34a98b4b45afee81d74c9e13f1",
            "08aff3cd5a5c4448adad7be7c0aeeed6",
            "3801dd5c119c4d96a295615550ad08b8",
            "6058a68ef13f4cc7aa36f2ddd0c5228d",
            "f13770d86fb241139d0c2ce8369dedce",
            "e63e07d099814e59ab1391c5376b3365",
            "f3eca4719aac442aa739a7b817e4205b",
            "a4951ae7bf984c928ef07d2573201796",
            "df297ab21c1348f7b1ae5ad66bd52f4e",
            "ebe277ef9a064fbf8cd89216ce7e2a58",
            "05fce6b38aee4bf3abc257ff5046612f",
            "d60195f9c71f49649410834bba74f381",
            "6efae12a4f22438c8ff9e2020201ce2b",
            "892baa976f35482c955482920d15a954",
            "003a8ea4acc7449bb49a703440d1fce7",
            "4a3b82b4d0c94bb5a6b86e2872793c46",
            "63d902ee7f3f4721ae9d0d4d382d00c8",
            "77ed3ba56bfd4c31bfbd642932e3cfb1",
            "d1e7045a70304160967a946caf715453",
            "b3a5adc7b9444b01b22fe30a53c0b4a1",
            "f60acb9e33ec4f28bf6ca8b1aab26e4a",
            "3f819dd0e7b14270be18c92dc77ad64b",
            "fc98d1ef990b4f3fafb2b5703b01fe9a",
            "36f9042d45ca47b195aa28605c99105d",
            "5f29d5eaaaeb4db59c8119a1b90eec0c",
            "9ea31cc23189440a86fdfa3c59f58a16",
            "200c9bf3872746ebb75e662c256a402a",
            "293480b9191645fa8f08e289d1359f2f",
            "3625329b29e140b1942ff5ae9953600d",
            "5bb3066893e142e5a81205331a6cec5c",
            "ac8d9112c4344c14961e740bacd3de05",
            "cb6645fb4bc843a5a744c8e5d4a32709",
            "5b1f940909e94f919e2be4c0c232e281",
            "9eada87ae25848619d26b9ad9064ea23",
            "d19215668a2a4356a60bb3d7beb0aa16",
            "55ab6af588904ab3a214f3cf0447d8bc",
            "b7a644cc515540eab188ad83c17f87dd",
            "7bf77fbf3fc54d578aed69aa93ae4894",
            "546b226ad2ae4f819b488aa0333f06da",
            "c47e651bcbc94b39ac425fd18e1d9b15",
            "4a940421537d421ca56199d6f74eda60",
            "88ed1af1d4d643faac88cfd51d32aa46",
            "f43a15a3359c4a9eb7819f97fec12449",
            "9cb3f5d30dd34d6c989dd9972f9bed49",
            "c37f83bb728c4b2895d029f667eefc5b",
            "a502cbd43638405cbd419ee7dd02e6fd",
            "1f22a089f7704c0ebf125d8b277f85da",
            "264e27d10f7a4c63b2975ca4cf7abcfd",
            "cf739a51966c446eaedf9ce338a5a768",
            "046d58055fc2428ca195a97d9849ad4d"
          ]
        },
        "outputId": "a0e4696a-e314-4cf3-c0c4-8ac3bf893213"
      },
      "execution_count": 160,
      "outputs": [
        {
          "output_type": "display_data",
          "data": {
            "text/plain": [
              "tokenizer_config.json:   0%|          | 0.00/26.0 [00:00<?, ?B/s]"
            ],
            "application/vnd.jupyter.widget-view+json": {
              "version_major": 2,
              "version_minor": 0,
              "model_id": "3573c08a2f594cc398f211c27af92087"
            }
          },
          "metadata": {}
        },
        {
          "output_type": "display_data",
          "data": {
            "text/plain": [
              "vocab.json:   0%|          | 0.00/1.04M [00:00<?, ?B/s]"
            ],
            "application/vnd.jupyter.widget-view+json": {
              "version_major": 2,
              "version_minor": 0,
              "model_id": "f3eca4719aac442aa739a7b817e4205b"
            }
          },
          "metadata": {}
        },
        {
          "output_type": "display_data",
          "data": {
            "text/plain": [
              "merges.txt:   0%|          | 0.00/456k [00:00<?, ?B/s]"
            ],
            "application/vnd.jupyter.widget-view+json": {
              "version_major": 2,
              "version_minor": 0,
              "model_id": "77ed3ba56bfd4c31bfbd642932e3cfb1"
            }
          },
          "metadata": {}
        },
        {
          "output_type": "display_data",
          "data": {
            "text/plain": [
              "tokenizer.json:   0%|          | 0.00/1.36M [00:00<?, ?B/s]"
            ],
            "application/vnd.jupyter.widget-view+json": {
              "version_major": 2,
              "version_minor": 0,
              "model_id": "3625329b29e140b1942ff5ae9953600d"
            }
          },
          "metadata": {}
        },
        {
          "output_type": "display_data",
          "data": {
            "text/plain": [
              "config.json:   0%|          | 0.00/665 [00:00<?, ?B/s]"
            ],
            "application/vnd.jupyter.widget-view+json": {
              "version_major": 2,
              "version_minor": 0,
              "model_id": "c47e651bcbc94b39ac425fd18e1d9b15"
            }
          },
          "metadata": {}
        }
      ]
    },
    {
      "cell_type": "markdown",
      "source": [
        "**Exercise 7: Tokenize train and validation data and form TextDataset objects [0.5 Mark]**\n",
        "\n",
        "- Use the loaded pre-trained tokenizer\n",
        "- Use training and validation data saved in text files"
      ],
      "metadata": {
        "id": "InX4FOvgP0mi"
      }
    },
    {
      "cell_type": "code",
      "source": [
        "# YOUR CODE HERE\n",
        "train_dataset = TextDataset(tokenizer=tokenizer, file_path='train.txt', block_size=128)\n",
        "val_dataset = TextDataset(tokenizer=tokenizer, file_path='val.txt', block_size=128)"
      ],
      "metadata": {
        "id": "crjMEbLfVOpq"
      },
      "execution_count": 161,
      "outputs": []
    },
    {
      "cell_type": "markdown",
      "source": [
        "**Exercise 8: Create a DataCollator object [0.5 Mark]**"
      ],
      "metadata": {
        "id": "QjN3cYyMkV74"
      }
    },
    {
      "cell_type": "code",
      "source": [
        "# YOUR CODE HERE\n",
        "data_collator = DataCollatorForLanguageModeling(tokenizer=tokenizer, mlm=False)"
      ],
      "metadata": {
        "id": "Z_XWmIF3cmhU"
      },
      "execution_count": 162,
      "outputs": []
    },
    {
      "cell_type": "markdown",
      "source": [
        "**Exercise 9: Load pre-trained GPT2LMHeadModel [0.5 Mark]**"
      ],
      "metadata": {
        "id": "uophCXjYq9MO"
      }
    },
    {
      "cell_type": "code",
      "source": [
        "# YOUR CODE HERE\n",
        "model = GPT2LMHeadModel.from_pretrained('gpt2')"
      ],
      "metadata": {
        "id": "HxQWgssCqy7j",
        "colab": {
          "base_uri": "https://localhost:8080/",
          "height": 81,
          "referenced_widgets": [
            "8fb1b5dd681a4b25b840a8c9f26ed388",
            "41a6cab7c69d4eed962f258f0c8cc7f1",
            "a196c490c1834c39a7e9ecead56bc25f",
            "2b46478ddd4140479098e53358701c36",
            "f296baf701524245bc0a74a00923b552",
            "0d07378b7dd54ff48065ba8b12742c40",
            "8fa85f52102d44d4a6d1bffb2edbe660",
            "961810da1aea43f2aa10944af540ec8d",
            "b6f79e47be3d4077a7b5b0b659544a3f",
            "062f6feaa2d944fda17cfc12ccd9616f",
            "09112d363ed74948be71928690918111",
            "9ade42d4c6f94f62824d55cb2a314faf",
            "65a98fa1611d4d28a57411d2e8ee0aa6",
            "5cb5291cabb84c6790cd491c51abc6e6",
            "2962216eb87344f2ac79acfb87b41ec0",
            "c8237df498694a4a84a6bc00de234273",
            "ba161e2075af4c068d65ea63932f8a26",
            "fc072a7a547440c6b62cc94cd7a4462a",
            "da2c7fc97fab49409d45af18ba864e94",
            "80aee707300549d38919f46a7a494580",
            "7add1d6535e4426585b3cb2bf7fd8e1c",
            "b9f6e9f03dd14fefab9f9eb55311f6cd"
          ]
        },
        "outputId": "a05bd8f2-7e07-45b8-f6dd-fc8b19bcf70c"
      },
      "execution_count": 163,
      "outputs": [
        {
          "output_type": "display_data",
          "data": {
            "text/plain": [
              "model.safetensors:   0%|          | 0.00/548M [00:00<?, ?B/s]"
            ],
            "application/vnd.jupyter.widget-view+json": {
              "version_major": 2,
              "version_minor": 0,
              "model_id": "8fb1b5dd681a4b25b840a8c9f26ed388"
            }
          },
          "metadata": {}
        },
        {
          "output_type": "display_data",
          "data": {
            "text/plain": [
              "generation_config.json:   0%|          | 0.00/124 [00:00<?, ?B/s]"
            ],
            "application/vnd.jupyter.widget-view+json": {
              "version_major": 2,
              "version_minor": 0,
              "model_id": "9ade42d4c6f94f62824d55cb2a314faf"
            }
          },
          "metadata": {}
        }
      ]
    },
    {
      "cell_type": "markdown",
      "source": [
        "**Exercise 10: Fine-tune GPT2 Model [1 Mark]**\n",
        "\n",
        "- Specify training arguments and create a TrainingArguments object (Use 30 epochs)\n",
        "\n",
        "- Train a GPT-2 model using the provided training arguments\n",
        "\n",
        "- Save the resulting trained model and tokenizer to a specified output directory"
      ],
      "metadata": {
        "id": "LdcpMx9QOPnU"
      }
    },
    {
      "cell_type": "code",
      "source": [
        "# Set up the training arguments\n",
        "\n",
        "# YOUR CODE HERE"
      ],
      "metadata": {
        "id": "UPZiEvn2cuPR"
      },
      "execution_count": null,
      "outputs": []
    },
    {
      "cell_type": "code",
      "source": [
        "# Train the model\n",
        "# YOUR CODE HERE\n",
        "\n",
        "# Save the model\n",
        "# YOUR CODE HERE\n",
        "\n",
        "# Save the tokenizer\n",
        "# YOUR CODE HERE"
      ],
      "metadata": {
        "id": "drF9-oZwQLYl"
      },
      "execution_count": null,
      "outputs": []
    },
    {
      "cell_type": "markdown",
      "source": [
        "**Exercise 11: Test Model with user input prompts [1 Mark]**\n",
        "\n",
        "- Create `generate_response()` function that takes a trained *model*, *tokenizer*, and a *prompt* string as input and generates a response using the GPT-2 model\n",
        "\n",
        "- Test it with some user input prompts"
      ],
      "metadata": {
        "id": "4izo_-go8cDP"
      }
    },
    {
      "cell_type": "code",
      "source": [
        "# YOUR CODE HERE"
      ],
      "metadata": {
        "id": "qeTKPArfgDJW"
      },
      "execution_count": null,
      "outputs": []
    },
    {
      "cell_type": "code",
      "source": [
        "# Load the fine-tuned model and tokenizer\n",
        "\n",
        "# YOUR CODE HERE"
      ],
      "metadata": {
        "id": "pJJ3bzD9fsJv"
      },
      "execution_count": null,
      "outputs": []
    },
    {
      "cell_type": "code",
      "source": [
        "# Response from model\n",
        "\n",
        "# YOUR CODE HERE"
      ],
      "metadata": {
        "id": "UCkZjYC_ht7r"
      },
      "execution_count": null,
      "outputs": []
    },
    {
      "cell_type": "code",
      "source": [
        "# Testing with given prompt 1\n",
        "\n",
        "# YOUR CODE HERE"
      ],
      "metadata": {
        "id": "DlVNC0LliaMK"
      },
      "execution_count": null,
      "outputs": []
    },
    {
      "cell_type": "code",
      "source": [
        "# Testing with given prompt 2\n",
        "\n",
        "# YOUR CODE HERE"
      ],
      "metadata": {
        "id": "WWOTby9IiyQ8"
      },
      "execution_count": null,
      "outputs": []
    },
    {
      "cell_type": "markdown",
      "source": [
        "**Exercise 12: Compare the performance of a *GPT2 model* with the *GPT2 model fine-tuned* on MedQuAD data [1 Mark]**\n",
        "\n",
        "- Load another pre-trained GPT2LMHeadModel and do not fine-tune it\n",
        "\n",
        "- To generate response using the untuned model, pass it as a parameter to `generate_response()` function\n",
        "\n",
        "- Test both models (fine-tuned and untuned) with below user input prompts:\n",
        "\n",
        "    - \"What precautions to take for a healthy life?\"\n",
        "    - \"What to do after being diagnosed with cancer?\"\n",
        "    - \"What to do when feeling sick?\""
      ],
      "metadata": {
        "id": "NO_AdtZc8ThO"
      }
    },
    {
      "cell_type": "code",
      "source": [
        "# Load a pre-trained GPT2 model, do not finetune it with MedQuAD data\n",
        "\n",
        "# YOUR CODE HERE"
      ],
      "metadata": {
        "id": "u7Inq43Q524A"
      },
      "execution_count": null,
      "outputs": []
    },
    {
      "cell_type": "code",
      "source": [
        "# Testing with finetuned model: prompt 1\n",
        "\n",
        "# YOUR CODE HERE"
      ],
      "metadata": {
        "id": "wb58jO6b4gC4"
      },
      "execution_count": null,
      "outputs": []
    },
    {
      "cell_type": "code",
      "source": [
        "# Testing with untuned model: prompt 1\n",
        "\n",
        "# YOUR CODE HERE"
      ],
      "metadata": {
        "id": "q3rN6ETD46PS"
      },
      "execution_count": null,
      "outputs": []
    },
    {
      "cell_type": "code",
      "source": [
        "# Testing with finetuned model: prompt 2\n",
        "\n",
        "# YOUR CODE HERE"
      ],
      "metadata": {
        "id": "Pl0ChnZn6XVq"
      },
      "execution_count": null,
      "outputs": []
    },
    {
      "cell_type": "code",
      "source": [
        "# Testing with untuned model: prompt 2\n",
        "\n",
        "# YOUR CODE HERE"
      ],
      "metadata": {
        "id": "gG4lVy3F6u2B"
      },
      "execution_count": null,
      "outputs": []
    },
    {
      "cell_type": "code",
      "source": [
        "# Testing with finetuned model: prompt 3\n",
        "\n",
        "# YOUR CODE HERE"
      ],
      "metadata": {
        "id": "yqu9MAci7dvN"
      },
      "execution_count": null,
      "outputs": []
    },
    {
      "cell_type": "code",
      "source": [
        "# Testing with untuned model: prompt 3\n",
        "\n",
        "# YOUR CODE HERE"
      ],
      "metadata": {
        "id": "jdj0En4o61Zj"
      },
      "execution_count": null,
      "outputs": []
    }
  ]
}