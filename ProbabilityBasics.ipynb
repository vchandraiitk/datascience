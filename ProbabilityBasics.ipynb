{
  "nbformat": 4,
  "nbformat_minor": 0,
  "metadata": {
    "colab": {
      "provenance": [],
      "authorship_tag": "ABX9TyPYdO4LRrse9HxAt/R+fecy",
      "include_colab_link": true
    },
    "kernelspec": {
      "name": "python3",
      "display_name": "Python 3"
    },
    "language_info": {
      "name": "python"
    }
  },
  "cells": [
    {
      "cell_type": "markdown",
      "metadata": {
        "id": "view-in-github",
        "colab_type": "text"
      },
      "source": [
        "<a href=\"https://colab.research.google.com/github/vchandraiitk/datascience/blob/main/ProbabilityBasics.ipynb\" target=\"_parent\"><img src=\"https://colab.research.google.com/assets/colab-badge.svg\" alt=\"Open In Colab\"/></a>"
      ]
    },
    {
      "cell_type": "code",
      "execution_count": 1,
      "metadata": {
        "id": "TGrF-9gu2hdi"
      },
      "outputs": [],
      "source": [
        "import numpy as np\n",
        "import pandas as pd\n",
        "import scipy                        # scientific computation library\n",
        "import matplotlib.pyplot as plt     # Visualization\n",
        "import seaborn as sns               # Advaced Visualization with high level interface\n",
        "from scipy import integrate         # several integration techniques\n",
        "sns.set_style('whitegrid')"
      ]
    },
    {
      "cell_type": "code",
      "source": [
        "df_ = pd.read_csv('garments_worker_productivity.csv')"
      ],
      "metadata": {
        "id": "FU_SrUSE2459"
      },
      "execution_count": 2,
      "outputs": []
    },
    {
      "cell_type": "code",
      "source": [
        "df = df_[['date', 'quarter', 'department', 'day', 'team']]\n",
        "#print(df.head())\n",
        "# Consider records where 'day' is Monday, Thursday or Saturday\n",
        "df_day = df[df['day'].isin(['Monday', 'Thursday', 'Saturday'])]\n",
        "\n",
        "# Consider records where 'team' number is 1, 2 or 3\n",
        "df_day_team = df_day[df_day['team'].isin([1, 2, 3])]\n",
        "# Consider records where 'quarter' is 'Quarter1' or 'Quarter2'\n",
        "df_day_team_quarter = df_day_team[df_day_team['quarter'].isin(['Quarter1', 'Quarter2'])]\n",
        "# Reset the index and store dataset to 'df'\n",
        "df = df_day_team_quarter.reset_index(drop= True)\n"
      ],
      "metadata": {
        "id": "NM6xL1T93AY5"
      },
      "execution_count": 3,
      "outputs": []
    },
    {
      "cell_type": "code",
      "source": [
        "df.head()\n",
        "df_a = df[df['quarter']=='Quarter1']\n",
        "df_t1 = df_a['team']==1\n",
        "print(df_t1.value_counts())\n",
        "df_b = df[df['quarter']=='Quarter2']\n",
        "df_t2 = df_b['team']==2\n",
        "print(df_t2.value_counts())\n",
        "A = df_t1.sum()/len(df_a)\n",
        "B = df_t2.sum()/len(df_b)\n",
        "print(A)\n",
        "print(B)\n",
        "print(A*B)"
      ],
      "metadata": {
        "colab": {
          "base_uri": "https://localhost:8080/"
        },
        "id": "ZvuNwqD43E9m",
        "outputId": "6867e0df-364f-481e-d05b-7e8b487534cd"
      },
      "execution_count": 5,
      "outputs": [
        {
          "output_type": "stream",
          "name": "stdout",
          "text": [
            "team\n",
            "False    29\n",
            "True     18\n",
            "Name: count, dtype: int64\n",
            "team\n",
            "False    25\n",
            "True     13\n",
            "Name: count, dtype: int64\n",
            "0.3829787234042553\n",
            "0.34210526315789475\n",
            "0.13101903695408734\n"
          ]
        }
      ]
    }
  ]
}